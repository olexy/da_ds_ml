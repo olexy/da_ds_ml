{
  "cells": [
    {
      "cell_type": "code",
      "execution_count": null,
      "metadata": {
        "id": "2ZgVWf4lFfEG"
      },
      "outputs": [],
      "source": [
        "import numpy as np\n",
        "import pandas as pd\n",
        "from matplotlib import pyplot as plt\n",
        "import seaborn as sns\n",
        "import statsmodels.api as sm\n",
        "from sklearn.preprocessing import OneHotEncoder, StandardScaler\n",
        "from sklearn.datasets import make_regression\n",
        "from sklearn.linear_model import LinearRegression\n",
        "import sklearn.metrics as metrics\n",
        "from random import gauss\n",
        "from mpl_toolkits.mplot3d import Axes3D\n",
        "from scipy import stats as stats\n",
        "\n",
        "%matplotlib inline"
      ]
    },
    {
      "cell_type": "markdown",
      "metadata": {
        "id": "N1vVJTamFfEJ"
      },
      "source": [
        "![mlr](https://miro.medium.com/max/1280/1*lJKFo3yyZaFIx4ET1dLmlg.png)"
      ]
    },
    {
      "cell_type": "markdown",
      "metadata": {
        "heading_collapsed": true,
        "id": "gbch1GLSFfEK"
      },
      "source": [
        "# Multiple Linear Regression"
      ]
    },
    {
      "cell_type": "markdown",
      "metadata": {
        "heading_collapsed": true,
        "id": "t97faGE5FfEL"
      },
      "source": [
        "# Objectives"
      ]
    },
    {
      "cell_type": "markdown",
      "metadata": {
        "hidden": true,
        "id": "eRjegRcSFfEL"
      },
      "source": [
        "- Use the one-hot strategy to encode categorical variables\n",
        "- Conduct linear regressions in `statsmodels`\n",
        "- Use standard scaling for linear regression for better  interpretation\n",
        "- Conduct linear regressions in `sklearn`"
      ]
    },
    {
      "cell_type": "markdown",
      "metadata": {
        "heading_collapsed": true,
        "id": "EkFFy7sPFfEL"
      },
      "source": [
        "# Regression with Multiple Predictors"
      ]
    },
    {
      "cell_type": "markdown",
      "metadata": {
        "hidden": true,
        "id": "qPLzszCxFfEL"
      },
      "source": [
        "> It's all a bunch of dials\n",
        "\n",
        "<img width='450px' src='./images/dials.png'/>"
      ]
    },
    {
      "cell_type": "markdown",
      "metadata": {
        "hidden": true,
        "id": "4MoHGatHFfEL"
      },
      "source": [
        "The main idea here is pretty simple. Whereas, in simple linear regression we took our dependent variable to be a function only of a single independent variable, here we'll be taking the dependent variable to be a function of multiple independent variables."
      ]
    },
    {
      "cell_type": "markdown",
      "metadata": {
        "heading_collapsed": true,
        "hidden": true,
        "id": "roWdKVwJFfEM"
      },
      "source": [
        "## Expanding Simple Linear Regression"
      ]
    },
    {
      "cell_type": "markdown",
      "metadata": {
        "hidden": true,
        "id": "NIBWUIbYFfEM"
      },
      "source": [
        "Our regression equation, then, instead of looking like $\\hat{y} = mx + b$, will now look like:\n",
        "\n",
        "$\\hat{y} = \\hat{\\beta}_0 + \\hat{\\beta}_1x_1 + ... + \\hat{\\beta}_nx_n$.\n",
        "\n",
        "Remember that the hats ( $\\hat{}$ ) indicate parameters that are estimated."
      ]
    },
    {
      "cell_type": "markdown",
      "metadata": {
        "hidden": true,
        "id": "f4t0Y3tzFfEM"
      },
      "source": [
        "Is this still a best-fit *line*? Well, no. What does the graph of, say, z = x + y look like? [Here's](https://academo.org/demos/3d-surface-plotter/) a 3d-plotter. (Of course, once we get x's with subscripts beyond 2 it's going to be very hard to visualize. But in practice linear regressions can make use of dozens or even of hundreds of independent variables!)"
      ]
    },
    {
      "cell_type": "markdown",
      "metadata": {
        "heading_collapsed": true,
        "id": "i6dtJxhtFfEM"
      },
      "source": [
        "# Confounding Variables"
      ]
    },
    {
      "cell_type": "markdown",
      "metadata": {
        "hidden": true,
        "id": "4DyYtCg8FfEM"
      },
      "source": [
        "Suppose I have a simple linear regression that models the growth of corn plants as a function of the temperature of the ambient air. And suppose there is a noticeable positive correlation between temperature and plant height."
      ]
    },
    {
      "cell_type": "code",
      "execution_count": null,
      "metadata": {
        "hidden": true,
        "id": "ZdVHXEwmFfEN"
      },
      "outputs": [],
      "source": [
        "corn = pd.read_csv('data/corn.csv',\n",
        "                  usecols=['temp', 'humid', 'height'])"
      ]
    },
    {
      "cell_type": "code",
      "execution_count": null,
      "metadata": {
        "hidden": true,
        "id": "ows8umXaFfEN",
        "outputId": "595570e0-dc72-40e8-f39b-75c5c88dac87"
      },
      "outputs": [
        {
          "data": {
            "image/png": "[encoded data removed]",
            "text/plain": [
              "<Figure size 360x360 with 1 Axes>"
            ]
          },
          "metadata": {
            "needs_background": "light"
          },
          "output_type": "display_data"
        }
      ],
      "source": [
        "sns.lmplot(data=corn, x='temp', y='height')\n",
        "plt.xlabel('Temperature ($\\degree$ F)')\n",
        "plt.ylabel('Height (cm)')\n",
        "plt.title('Corn plant height as a function of temperature');"
      ]
    },
    {
      "cell_type": "code",
      "execution_count": null,
      "metadata": {
        "hidden": true,
        "id": "1XzdnIKOFfEO",
        "outputId": "2363c068-15a4-4e4e-f80f-19d1ddf4604a"
      },
      "outputs": [
        {
          "data": {
            "text/html": [
              "<div>\n",
              "<style scoped>\n",
              "    .dataframe tbody tr th:only-of-type {\n",
              "        vertical-align: middle;\n",
              "    }\n",
              "\n",
              "    .dataframe tbody tr th {\n",
              "        vertical-align: top;\n",
              "    }\n",
              "\n",
              "    .dataframe thead th {\n",
              "        text-align: right;\n",
              "    }\n",
              "</style>\n",
              "<table border=\"1\" class=\"dataframe\">\n",
              "  <thead>\n",
              "    <tr style=\"text-align: right;\">\n",
              "      <th></th>\n",
              "      <th>temp</th>\n",
              "      <th>humid</th>\n",
              "      <th>height</th>\n",
              "    </tr>\n",
              "  </thead>\n",
              "  <tbody>\n",
              "    <tr>\n",
              "      <th>0</th>\n",
              "      <td>58.086965</td>\n",
              "      <td>49.848304</td>\n",
              "      <td>122.222368</td>\n",
              "    </tr>\n",
              "    <tr>\n",
              "      <th>1</th>\n",
              "      <td>70.582087</td>\n",
              "      <td>22.855446</td>\n",
              "      <td>110.079666</td>\n",
              "    </tr>\n",
              "    <tr>\n",
              "      <th>2</th>\n",
              "      <td>75.868571</td>\n",
              "      <td>72.856834</td>\n",
              "      <td>256.812528</td>\n",
              "    </tr>\n",
              "    <tr>\n",
              "      <th>3</th>\n",
              "      <td>74.732376</td>\n",
              "      <td>38.907566</td>\n",
              "      <td>167.889601</td>\n",
              "    </tr>\n",
              "    <tr>\n",
              "      <th>4</th>\n",
              "      <td>77.384666</td>\n",
              "      <td>42.570524</td>\n",
              "      <td>188.914312</td>\n",
              "    </tr>\n",
              "  </tbody>\n",
              "</table>\n",
              "</div>"
            ],
            "text/plain": [
              "        temp      humid      height\n",
              "0  58.086965  49.848304  122.222368\n",
              "1  70.582087  22.855446  110.079666\n",
              "2  75.868571  72.856834  256.812528\n",
              "3  74.732376  38.907566  167.889601\n",
              "4  77.384666  42.570524  188.914312"
            ]
          },
          "execution_count": 4,
          "metadata": {},
          "output_type": "execute_result"
        }
      ],
      "source": [
        "corn.head()"
      ]
    },
    {
      "cell_type": "markdown",
      "metadata": {
        "hidden": true,
        "id": "Bdk7IxYOFfEO"
      },
      "source": [
        "It seems that higher temperatures lead to taller corn plants. But it's hard to know for sure. One **confounding variable** might be *humidity*. If we haven't controlled for humidity, then it's difficult to draw conclusions.\n",
        "\n",
        "One solution is to use **both features** in a single model."
      ]
    },
    {
      "cell_type": "code",
      "execution_count": null,
      "metadata": {
        "hidden": true,
        "id": "w62flekQFfEO",
        "outputId": "4db18827-7bd8-4f1e-89ba-b7c40924a962"
      },
      "outputs": [
        {
          "data": {
            "image/png": "[encoded data removed]",
            "text/plain": [
              "<Figure size 360x360 with 1 Axes>"
            ]
          },
          "metadata": {
            "needs_background": "light"
          },
          "output_type": "display_data"
        }
      ],
      "source": [
        "sns.lmplot(data=corn, x='humid', y='height')\n",
        "plt.xlabel('Humidity (%)')\n",
        "plt.ylabel('Height (cm)')\n",
        "plt.title('Corn plant height as a function of humidity');"
      ]
    },
    {
      "cell_type": "code",
      "execution_count": null,
      "metadata": {
        "hidden": true,
        "id": "_gRslCdnFfEP",
        "outputId": "08f41d8f-3f8b-453e-bb6e-f714b453d102"
      },
      "outputs": [
        {
          "data": {
            "image/png": "[encoded data removed]",
            "text/plain": [
              "<Figure size 576x432 with 1 Axes>"
            ]
          },
          "metadata": {
            "needs_background": "light"
          },
          "output_type": "display_data"
        }
      ],
      "source": [
        "ax = plt.figure(figsize=(8, 6)).add_subplot(111, projection='3d')\n",
        "ax.scatter(corn['temp'], corn['humid'], corn['height'],\n",
        "           depthshade=True, s=40, color='#ff0000')\n",
        "# create x,y\n",
        "xx, yy = np.meshgrid(corn['temp'], corn['humid'])\n",
        "\n",
        "# calculate corresponding z\n",
        "z = 4.3825 * xx + 2.4693 * yy - 255.5434\n",
        "\n",
        "# plot the surface\n",
        "ax.plot_surface(xx, yy, z, alpha=0.01, color='#00ff00')\n",
        "\n",
        "ax.view_init(30, azim=240)\n",
        "ax.set_xlabel('Temperature ($\\degree$ F)')\n",
        "ax.set_ylabel('Humidity (%)')\n",
        "ax.set_zlabel('Height (cm)')\n",
        "plt.title('Corn plant height as a function of temperature and humidity');"
      ]
    },
    {
      "cell_type": "markdown",
      "metadata": {
        "hidden": true,
        "id": "QU5eUDYxFfEP"
      },
      "source": [
        "One risk we run when adding more predictors to a model is that their correlations with the target may be nearly *collinear* with each other. This can make it difficult to determine which predictor is doing the heavy lifting. We shall explore this theme of **multicollinearity** in more depth in due course."
      ]
    },
    {
      "cell_type": "markdown",
      "metadata": {
        "heading_collapsed": true,
        "id": "1Vyf5x5aFfEP"
      },
      "source": [
        "# Dealing with Categorical Variables"
      ]
    },
    {
      "cell_type": "markdown",
      "metadata": {
        "hidden": true,
        "id": "MGexQfeGFfEP"
      },
      "source": [
        "One issue we'd like to resolve is what to do with categorical variables, i.e. variables that represent categories rather than continuous numerical values. In a Pandas DataFrame, these columns may well have strings or objects for values, but they need not. A certain heart-disease dataset from Kaggle, for example, has a target variable that takes values 0-4, each representing a different stage of heart disease."
      ]
    },
    {
      "cell_type": "markdown",
      "metadata": {
        "heading_collapsed": true,
        "hidden": true,
        "id": "Amv1-OmUFfEP"
      },
      "source": [
        "## Dummying"
      ]
    },
    {
      "cell_type": "markdown",
      "metadata": {
        "hidden": true,
        "id": "pJeutusfFfEP"
      },
      "source": [
        "One very effective way of dealing with categorical variables is to dummy them out. What this involves is making a new column for _each categorical value in the column we're dummying out_.\n",
        "\n",
        "These new columns will be filled only with 0's and 1's, a 1 representing the presence of the relevant categorical value.\n",
        "\n",
        "Let's look at a simple example:"
      ]
    },
    {
      "cell_type": "code",
      "execution_count": null,
      "metadata": {
        "hidden": true,
        "id": "EcYO5LE9FfEQ"
      },
      "outputs": [],
      "source": [
        "comma_use = pd.read_csv('data/comma-survey.csv')"
      ]
    },
    {
      "cell_type": "markdown",
      "metadata": {
        "hidden": true,
        "id": "61rlUDWCFfEQ"
      },
      "source": [
        "For more on this dataset see [here](https://fivethirtyeight.com/features/elitist-superfluous-or-popular-we-polled-americans-on-the-oxford-comma/)."
      ]
    },
    {
      "cell_type": "code",
      "execution_count": null,
      "metadata": {
        "hidden": true,
        "id": "oKU1DzEOFfEQ",
        "outputId": "272c0f80-88fc-4984-b655-3c1ac124bf9e"
      },
      "outputs": [
        {
          "data": {
            "text/html": [
              "<div>\n",
              "<style scoped>\n",
              "    .dataframe tbody tr th:only-of-type {\n",
              "        vertical-align: middle;\n",
              "    }\n",
              "\n",
              "    .dataframe tbody tr th {\n",
              "        vertical-align: top;\n",
              "    }\n",
              "\n",
              "    .dataframe thead th {\n",
              "        text-align: right;\n",
              "    }\n",
              "</style>\n",
              "<table border=\"1\" class=\"dataframe\">\n",
              "  <thead>\n",
              "    <tr style=\"text-align: right;\">\n",
              "      <th></th>\n",
              "      <th>RespondentID</th>\n",
              "      <th>In your opinion, which sentence is more gramatically correct?</th>\n",
              "      <th>Prior to reading about it above, had you heard of the serial (or Oxford) comma?</th>\n",
              "      <th>How much, if at all, do you care about the use (or lack thereof) of the serial (or Oxford) comma in grammar?</th>\n",
              "      <th>How would you write the following sentence?</th>\n",
              "      <th>When faced with using the word \"data\", have you ever spent time considering if the word was a singular or plural noun?</th>\n",
              "      <th>How much, if at all, do you care about the debate over the use of the word \"data\" as a singluar or plural noun?</th>\n",
              "      <th>In your opinion, how important or unimportant is proper use of grammar?</th>\n",
              "      <th>Gender</th>\n",
              "      <th>Age</th>\n",
              "      <th>Household Income</th>\n",
              "      <th>Education</th>\n",
              "      <th>Location (Census Region)</th>\n",
              "    </tr>\n",
              "  </thead>\n",
              "  <tbody>\n",
              "    <tr>\n",
              "      <th>0</th>\n",
              "      <td>3292953864</td>\n",
              "      <td>It's important for a person to be honest, kind...</td>\n",
              "      <td>Yes</td>\n",
              "      <td>Some</td>\n",
              "      <td>Some experts say it's important to drink milk,...</td>\n",
              "      <td>No</td>\n",
              "      <td>Not much</td>\n",
              "      <td>Somewhat important</td>\n",
              "      <td>Male</td>\n",
              "      <td>30-44</td>\n",
              "      <td>$50,000 - $99,999</td>\n",
              "      <td>Bachelor degree</td>\n",
              "      <td>South Atlantic</td>\n",
              "    </tr>\n",
              "    <tr>\n",
              "      <th>1</th>\n",
              "      <td>3292950324</td>\n",
              "      <td>It's important for a person to be honest, kind...</td>\n",
              "      <td>No</td>\n",
              "      <td>Not much</td>\n",
              "      <td>Some experts say it's important to drink milk,...</td>\n",
              "      <td>No</td>\n",
              "      <td>Not much</td>\n",
              "      <td>Somewhat unimportant</td>\n",
              "      <td>Male</td>\n",
              "      <td>30-44</td>\n",
              "      <td>$50,000 - $99,999</td>\n",
              "      <td>Graduate degree</td>\n",
              "      <td>Mountain</td>\n",
              "    </tr>\n",
              "    <tr>\n",
              "      <th>2</th>\n",
              "      <td>3292942669</td>\n",
              "      <td>It's important for a person to be honest, kind...</td>\n",
              "      <td>Yes</td>\n",
              "      <td>Some</td>\n",
              "      <td>Some experts say it's important to drink milk,...</td>\n",
              "      <td>Yes</td>\n",
              "      <td>Not at all</td>\n",
              "      <td>Very important</td>\n",
              "      <td>Male</td>\n",
              "      <td>30-44</td>\n",
              "      <td>NaN</td>\n",
              "      <td>NaN</td>\n",
              "      <td>East North Central</td>\n",
              "    </tr>\n",
              "    <tr>\n",
              "      <th>3</th>\n",
              "      <td>3292932796</td>\n",
              "      <td>It's important for a person to be honest, kind...</td>\n",
              "      <td>Yes</td>\n",
              "      <td>Some</td>\n",
              "      <td>Some experts say it's important to drink milk,...</td>\n",
              "      <td>No</td>\n",
              "      <td>Some</td>\n",
              "      <td>Somewhat important</td>\n",
              "      <td>Male</td>\n",
              "      <td>18-29</td>\n",
              "      <td>NaN</td>\n",
              "      <td>Less than high school degree</td>\n",
              "      <td>Middle Atlantic</td>\n",
              "    </tr>\n",
              "    <tr>\n",
              "      <th>4</th>\n",
              "      <td>3292932522</td>\n",
              "      <td>It's important for a person to be honest, kind...</td>\n",
              "      <td>No</td>\n",
              "      <td>Not much</td>\n",
              "      <td>Some experts say it's important to drink milk,...</td>\n",
              "      <td>No</td>\n",
              "      <td>Not much</td>\n",
              "      <td>NaN</td>\n",
              "      <td>NaN</td>\n",
              "      <td>NaN</td>\n",
              "      <td>NaN</td>\n",
              "      <td>NaN</td>\n",
              "      <td>NaN</td>\n",
              "    </tr>\n",
              "  </tbody>\n",
              "</table>\n",
              "</div>"
            ],
            "text/plain": [
              "   RespondentID In your opinion, which sentence is more gramatically correct?  \\\n",
              "0    3292953864  It's important for a person to be honest, kind...              \n",
              "1    3292950324  It's important for a person to be honest, kind...              \n",
              "2    3292942669  It's important for a person to be honest, kind...              \n",
              "3    3292932796  It's important for a person to be honest, kind...              \n",
              "4    3292932522  It's important for a person to be honest, kind...              \n",
              "\n",
              "  Prior to reading about it above, had you heard of the serial (or Oxford) comma?  \\\n",
              "0                                                Yes                                \n",
              "1                                                 No                                \n",
              "2                                                Yes                                \n",
              "3                                                Yes                                \n",
              "4                                                 No                                \n",
              "\n",
              "  How much, if at all, do you care about the use (or lack thereof) of the serial (or Oxford) comma in grammar?  \\\n",
              "0                                               Some                                                             \n",
              "1                                           Not much                                                             \n",
              "2                                               Some                                                             \n",
              "3                                               Some                                                             \n",
              "4                                           Not much                                                             \n",
              "\n",
              "         How would you write the following sentence?  \\\n",
              "0  Some experts say it's important to drink milk,...   \n",
              "1  Some experts say it's important to drink milk,...   \n",
              "2  Some experts say it's important to drink milk,...   \n",
              "3  Some experts say it's important to drink milk,...   \n",
              "4  Some experts say it's important to drink milk,...   \n",
              "\n",
              "  When faced with using the word \"data\", have you ever spent time considering if the word was a singular or plural noun?  \\\n",
              "0                                                 No                                                                       \n",
              "1                                                 No                                                                       \n",
              "2                                                Yes                                                                       \n",
              "3                                                 No                                                                       \n",
              "4                                                 No                                                                       \n",
              "\n",
              "  How much, if at all, do you care about the debate over the use of the word \"data\" as a singluar or plural noun?  \\\n",
              "0                                           Not much                                                                \n",
              "1                                           Not much                                                                \n",
              "2                                         Not at all                                                                \n",
              "3                                               Some                                                                \n",
              "4                                           Not much                                                                \n",
              "\n",
              "  In your opinion, how important or unimportant is proper use of grammar?  \\\n",
              "0                                 Somewhat important                        \n",
              "1                               Somewhat unimportant                        \n",
              "2                                     Very important                        \n",
              "3                                 Somewhat important                        \n",
              "4                                                NaN                        \n",
              "\n",
              "  Gender    Age   Household Income                     Education  \\\n",
              "0   Male  30-44  $50,000 - $99,999               Bachelor degree   \n",
              "1   Male  30-44  $50,000 - $99,999               Graduate degree   \n",
              "2   Male  30-44                NaN                           NaN   \n",
              "3   Male  18-29                NaN  Less than high school degree   \n",
              "4    NaN    NaN                NaN                           NaN   \n",
              "\n",
              "  Location (Census Region)  \n",
              "0           South Atlantic  \n",
              "1                 Mountain  \n",
              "2       East North Central  \n",
              "3          Middle Atlantic  \n",
              "4                      NaN  "
            ]
          },
          "execution_count": 8,
          "metadata": {},
          "output_type": "execute_result"
        }
      ],
      "source": [
        "comma_use.head()"
      ]
    },
    {
      "cell_type": "code",
      "execution_count": null,
      "metadata": {
        "hidden": true,
        "id": "sV0LR4INFfEQ",
        "outputId": "1514ce41-4e53-42bc-ccf8-112accd1b84a"
      },
      "outputs": [
        {
          "data": {
            "text/plain": [
              "It's important for a person to be honest, kind, and loyal.    641\n",
              "It's important for a person to be honest, kind and loyal.     488\n",
              "Name: In your opinion, which sentence is more gramatically correct?, dtype: int64"
            ]
          },
          "execution_count": 9,
          "metadata": {},
          "output_type": "execute_result"
        }
      ],
      "source": [
        "comma_use['In your opinion, which sentence is more gramatically correct?'].value_counts()"
      ]
    },
    {
      "cell_type": "code",
      "execution_count": null,
      "metadata": {
        "hidden": true,
        "id": "NqHmPXnlFfEQ",
        "outputId": "d3c8d2ae-a081-406f-e1d6-3fdc33fccfe1"
      },
      "outputs": [
        {
          "data": {
            "text/plain": [
              "(1129, 13)"
            ]
          },
          "execution_count": 10,
          "metadata": {},
          "output_type": "execute_result"
        }
      ],
      "source": [
        "comma_use.shape"
      ]
    },
    {
      "cell_type": "code",
      "execution_count": null,
      "metadata": {
        "id": "rkpZSNUAFfER",
        "outputId": "459ee75a-d3fd-4b06-f8de-6b1ad791dff3"
      },
      "outputs": [
        {
          "data": {
            "text/plain": [
              "924"
            ]
          },
          "execution_count": 11,
          "metadata": {},
          "output_type": "execute_result"
        }
      ],
      "source": [
        "# two sum functions were used for 1.) the sum for each column, then 2.) sum across columns.\n",
        "comma_use.isna().sum().sum()"
      ]
    },
    {
      "cell_type": "code",
      "execution_count": null,
      "metadata": {
        "hidden": true,
        "id": "a3JUnZzRFfER"
      },
      "outputs": [],
      "source": [
        "#drop all nan / null values \n",
        "comma_use.dropna(inplace=True)"
      ]
    },
    {
      "cell_type": "code",
      "execution_count": null,
      "metadata": {
        "hidden": true,
        "id": "4oglselJFfER",
        "outputId": "24d1580f-6bcf-4ab9-ebad-b1830256b481"
      },
      "outputs": [
        {
          "data": {
            "text/plain": [
              "(825, 13)"
            ]
          },
          "execution_count": 13,
          "metadata": {},
          "output_type": "execute_result"
        }
      ],
      "source": [
        "comma_use.shape"
      ]
    },
    {
      "cell_type": "code",
      "execution_count": null,
      "metadata": {
        "hidden": true,
        "id": "osRGuJoeFfER"
      },
      "outputs": [],
      "source": [
        "# Let's try using sklearn's OneHotEncoder to create our dummy columns:\n",
        "\n",
        "ohe = OneHotEncoder(drop='first')\n",
        "comma_trans = ohe.fit_transform(comma_use.drop('RespondentID', axis=1))"
      ]
    },
    {
      "cell_type": "markdown",
      "metadata": {
        "hidden": true,
        "id": "rFiVSXpqFfES"
      },
      "source": [
        "Could we have used ```pd.get_dummies()``` instead?\n",
        "\n",
        "Well, yes. And in fact ```get_dummies()``` is in some ways easier; for one thing, it's built right into Pandas. But there are drawbacks with it as well. The main advantage of the `sklearn` tool is that it stores information about the columns and creates a persistent function that can be used on future data of the same form. See [this page](https://stackoverflow.com/questions/36631163/pandas-get-dummies-vs-sklearns-onehotencoder-what-are-the-pros-and-cons) for more."
      ]
    },
    {
      "cell_type": "code",
      "execution_count": null,
      "metadata": {
        "hidden": true,
        "id": "B8f3tdZFFfES",
        "outputId": "68bdc8c9-908f-4916-932b-ae4bdb78cf20"
      },
      "outputs": [
        {
          "data": {
            "text/html": [
              "<div>\n",
              "<style scoped>\n",
              "    .dataframe tbody tr th:only-of-type {\n",
              "        vertical-align: middle;\n",
              "    }\n",
              "\n",
              "    .dataframe tbody tr th {\n",
              "        vertical-align: top;\n",
              "    }\n",
              "\n",
              "    .dataframe thead th {\n",
              "        text-align: right;\n",
              "    }\n",
              "</style>\n",
              "<table border=\"1\" class=\"dataframe\">\n",
              "  <thead>\n",
              "    <tr style=\"text-align: right;\">\n",
              "      <th></th>\n",
              "      <th>In your opinion, which sentence is more gramatically correct?_It's important for a person to be honest, kind and loyal.</th>\n",
              "      <th>In your opinion, which sentence is more gramatically correct?_It's important for a person to be honest, kind, and loyal.</th>\n",
              "      <th>Prior to reading about it above, had you heard of the serial (or Oxford) comma?_No</th>\n",
              "      <th>Prior to reading about it above, had you heard of the serial (or Oxford) comma?_Yes</th>\n",
              "      <th>How much, if at all, do you care about the use (or lack thereof) of the serial (or Oxford) comma in grammar?_A lot</th>\n",
              "      <th>How much, if at all, do you care about the use (or lack thereof) of the serial (or Oxford) comma in grammar?_Not at all</th>\n",
              "      <th>How much, if at all, do you care about the use (or lack thereof) of the serial (or Oxford) comma in grammar?_Not much</th>\n",
              "      <th>How much, if at all, do you care about the use (or lack thereof) of the serial (or Oxford) comma in grammar?_Some</th>\n",
              "      <th>How would you write the following sentence?_Some experts say it's important to drink milk, but the data are inconclusive.</th>\n",
              "      <th>How would you write the following sentence?_Some experts say it's important to drink milk, but the data is inconclusive.</th>\n",
              "      <th>...</th>\n",
              "      <th>Education_Some college or Associate degree</th>\n",
              "      <th>Location (Census Region)_East North Central</th>\n",
              "      <th>Location (Census Region)_East South Central</th>\n",
              "      <th>Location (Census Region)_Middle Atlantic</th>\n",
              "      <th>Location (Census Region)_Mountain</th>\n",
              "      <th>Location (Census Region)_New England</th>\n",
              "      <th>Location (Census Region)_Pacific</th>\n",
              "      <th>Location (Census Region)_South Atlantic</th>\n",
              "      <th>Location (Census Region)_West North Central</th>\n",
              "      <th>Location (Census Region)_West South Central</th>\n",
              "    </tr>\n",
              "  </thead>\n",
              "  <tbody>\n",
              "    <tr>\n",
              "      <th>0</th>\n",
              "      <td>1</td>\n",
              "      <td>0</td>\n",
              "      <td>0</td>\n",
              "      <td>1</td>\n",
              "      <td>0</td>\n",
              "      <td>0</td>\n",
              "      <td>0</td>\n",
              "      <td>1</td>\n",
              "      <td>0</td>\n",
              "      <td>1</td>\n",
              "      <td>...</td>\n",
              "      <td>0</td>\n",
              "      <td>0</td>\n",
              "      <td>0</td>\n",
              "      <td>0</td>\n",
              "      <td>0</td>\n",
              "      <td>0</td>\n",
              "      <td>0</td>\n",
              "      <td>1</td>\n",
              "      <td>0</td>\n",
              "      <td>0</td>\n",
              "    </tr>\n",
              "    <tr>\n",
              "      <th>1</th>\n",
              "      <td>0</td>\n",
              "      <td>1</td>\n",
              "      <td>1</td>\n",
              "      <td>0</td>\n",
              "      <td>0</td>\n",
              "      <td>0</td>\n",
              "      <td>1</td>\n",
              "      <td>0</td>\n",
              "      <td>0</td>\n",
              "      <td>1</td>\n",
              "      <td>...</td>\n",
              "      <td>0</td>\n",
              "      <td>0</td>\n",
              "      <td>0</td>\n",
              "      <td>0</td>\n",
              "      <td>1</td>\n",
              "      <td>0</td>\n",
              "      <td>0</td>\n",
              "      <td>0</td>\n",
              "      <td>0</td>\n",
              "      <td>0</td>\n",
              "    </tr>\n",
              "    <tr>\n",
              "      <th>5</th>\n",
              "      <td>0</td>\n",
              "      <td>1</td>\n",
              "      <td>1</td>\n",
              "      <td>0</td>\n",
              "      <td>1</td>\n",
              "      <td>0</td>\n",
              "      <td>0</td>\n",
              "      <td>0</td>\n",
              "      <td>1</td>\n",
              "      <td>0</td>\n",
              "      <td>...</td>\n",
              "      <td>1</td>\n",
              "      <td>0</td>\n",
              "      <td>0</td>\n",
              "      <td>0</td>\n",
              "      <td>0</td>\n",
              "      <td>1</td>\n",
              "      <td>0</td>\n",
              "      <td>0</td>\n",
              "      <td>0</td>\n",
              "      <td>0</td>\n",
              "    </tr>\n",
              "    <tr>\n",
              "      <th>6</th>\n",
              "      <td>0</td>\n",
              "      <td>1</td>\n",
              "      <td>0</td>\n",
              "      <td>1</td>\n",
              "      <td>1</td>\n",
              "      <td>0</td>\n",
              "      <td>0</td>\n",
              "      <td>0</td>\n",
              "      <td>0</td>\n",
              "      <td>1</td>\n",
              "      <td>...</td>\n",
              "      <td>1</td>\n",
              "      <td>0</td>\n",
              "      <td>0</td>\n",
              "      <td>0</td>\n",
              "      <td>0</td>\n",
              "      <td>0</td>\n",
              "      <td>1</td>\n",
              "      <td>0</td>\n",
              "      <td>0</td>\n",
              "      <td>0</td>\n",
              "    </tr>\n",
              "    <tr>\n",
              "      <th>7</th>\n",
              "      <td>0</td>\n",
              "      <td>1</td>\n",
              "      <td>0</td>\n",
              "      <td>1</td>\n",
              "      <td>1</td>\n",
              "      <td>0</td>\n",
              "      <td>0</td>\n",
              "      <td>0</td>\n",
              "      <td>1</td>\n",
              "      <td>0</td>\n",
              "      <td>...</td>\n",
              "      <td>1</td>\n",
              "      <td>1</td>\n",
              "      <td>0</td>\n",
              "      <td>0</td>\n",
              "      <td>0</td>\n",
              "      <td>0</td>\n",
              "      <td>0</td>\n",
              "      <td>0</td>\n",
              "      <td>0</td>\n",
              "      <td>0</td>\n",
              "    </tr>\n",
              "    <tr>\n",
              "      <th>...</th>\n",
              "      <td>...</td>\n",
              "      <td>...</td>\n",
              "      <td>...</td>\n",
              "      <td>...</td>\n",
              "      <td>...</td>\n",
              "      <td>...</td>\n",
              "      <td>...</td>\n",
              "      <td>...</td>\n",
              "      <td>...</td>\n",
              "      <td>...</td>\n",
              "      <td>...</td>\n",
              "      <td>...</td>\n",
              "      <td>...</td>\n",
              "      <td>...</td>\n",
              "      <td>...</td>\n",
              "      <td>...</td>\n",
              "      <td>...</td>\n",
              "      <td>...</td>\n",
              "      <td>...</td>\n",
              "      <td>...</td>\n",
              "      <td>...</td>\n",
              "    </tr>\n",
              "    <tr>\n",
              "      <th>1124</th>\n",
              "      <td>0</td>\n",
              "      <td>1</td>\n",
              "      <td>0</td>\n",
              "      <td>1</td>\n",
              "      <td>1</td>\n",
              "      <td>0</td>\n",
              "      <td>0</td>\n",
              "      <td>0</td>\n",
              "      <td>0</td>\n",
              "      <td>1</td>\n",
              "      <td>...</td>\n",
              "      <td>1</td>\n",
              "      <td>0</td>\n",
              "      <td>0</td>\n",
              "      <td>0</td>\n",
              "      <td>0</td>\n",
              "      <td>0</td>\n",
              "      <td>0</td>\n",
              "      <td>1</td>\n",
              "      <td>0</td>\n",
              "      <td>0</td>\n",
              "    </tr>\n",
              "    <tr>\n",
              "      <th>1125</th>\n",
              "      <td>1</td>\n",
              "      <td>0</td>\n",
              "      <td>1</td>\n",
              "      <td>0</td>\n",
              "      <td>0</td>\n",
              "      <td>0</td>\n",
              "      <td>0</td>\n",
              "      <td>1</td>\n",
              "      <td>0</td>\n",
              "      <td>1</td>\n",
              "      <td>...</td>\n",
              "      <td>1</td>\n",
              "      <td>0</td>\n",
              "      <td>0</td>\n",
              "      <td>0</td>\n",
              "      <td>0</td>\n",
              "      <td>0</td>\n",
              "      <td>1</td>\n",
              "      <td>0</td>\n",
              "      <td>0</td>\n",
              "      <td>0</td>\n",
              "    </tr>\n",
              "    <tr>\n",
              "      <th>1126</th>\n",
              "      <td>0</td>\n",
              "      <td>1</td>\n",
              "      <td>0</td>\n",
              "      <td>1</td>\n",
              "      <td>0</td>\n",
              "      <td>0</td>\n",
              "      <td>0</td>\n",
              "      <td>1</td>\n",
              "      <td>0</td>\n",
              "      <td>1</td>\n",
              "      <td>...</td>\n",
              "      <td>0</td>\n",
              "      <td>0</td>\n",
              "      <td>0</td>\n",
              "      <td>1</td>\n",
              "      <td>0</td>\n",
              "      <td>0</td>\n",
              "      <td>0</td>\n",
              "      <td>0</td>\n",
              "      <td>0</td>\n",
              "      <td>0</td>\n",
              "    </tr>\n",
              "    <tr>\n",
              "      <th>1127</th>\n",
              "      <td>1</td>\n",
              "      <td>0</td>\n",
              "      <td>0</td>\n",
              "      <td>1</td>\n",
              "      <td>1</td>\n",
              "      <td>0</td>\n",
              "      <td>0</td>\n",
              "      <td>0</td>\n",
              "      <td>0</td>\n",
              "      <td>1</td>\n",
              "      <td>...</td>\n",
              "      <td>0</td>\n",
              "      <td>0</td>\n",
              "      <td>1</td>\n",
              "      <td>0</td>\n",
              "      <td>0</td>\n",
              "      <td>0</td>\n",
              "      <td>0</td>\n",
              "      <td>0</td>\n",
              "      <td>0</td>\n",
              "      <td>0</td>\n",
              "    </tr>\n",
              "    <tr>\n",
              "      <th>1128</th>\n",
              "      <td>1</td>\n",
              "      <td>0</td>\n",
              "      <td>0</td>\n",
              "      <td>1</td>\n",
              "      <td>1</td>\n",
              "      <td>0</td>\n",
              "      <td>0</td>\n",
              "      <td>0</td>\n",
              "      <td>0</td>\n",
              "      <td>1</td>\n",
              "      <td>...</td>\n",
              "      <td>0</td>\n",
              "      <td>0</td>\n",
              "      <td>0</td>\n",
              "      <td>0</td>\n",
              "      <td>1</td>\n",
              "      <td>0</td>\n",
              "      <td>0</td>\n",
              "      <td>0</td>\n",
              "      <td>0</td>\n",
              "      <td>0</td>\n",
              "    </tr>\n",
              "  </tbody>\n",
              "</table>\n",
              "<p>825 rows × 46 columns</p>\n",
              "</div>"
            ],
            "text/plain": [
              "      In your opinion, which sentence is more gramatically correct?_It's important for a person to be honest, kind and loyal.  \\\n",
              "0                                                     1                                                                         \n",
              "1                                                     0                                                                         \n",
              "5                                                     0                                                                         \n",
              "6                                                     0                                                                         \n",
              "7                                                     0                                                                         \n",
              "...                                                 ...                                                                         \n",
              "1124                                                  0                                                                         \n",
              "1125                                                  1                                                                         \n",
              "1126                                                  0                                                                         \n",
              "1127                                                  1                                                                         \n",
              "1128                                                  1                                                                         \n",
              "\n",
              "      In your opinion, which sentence is more gramatically correct?_It's important for a person to be honest, kind, and loyal.  \\\n",
              "0                                                     0                                                                          \n",
              "1                                                     1                                                                          \n",
              "5                                                     1                                                                          \n",
              "6                                                     1                                                                          \n",
              "7                                                     1                                                                          \n",
              "...                                                 ...                                                                          \n",
              "1124                                                  1                                                                          \n",
              "1125                                                  0                                                                          \n",
              "1126                                                  1                                                                          \n",
              "1127                                                  0                                                                          \n",
              "1128                                                  0                                                                          \n",
              "\n",
              "      Prior to reading about it above, had you heard of the serial (or Oxford) comma?_No  \\\n",
              "0                                                     0                                    \n",
              "1                                                     1                                    \n",
              "5                                                     1                                    \n",
              "6                                                     0                                    \n",
              "7                                                     0                                    \n",
              "...                                                 ...                                    \n",
              "1124                                                  0                                    \n",
              "1125                                                  1                                    \n",
              "1126                                                  0                                    \n",
              "1127                                                  0                                    \n",
              "1128                                                  0                                    \n",
              "\n",
              "      Prior to reading about it above, had you heard of the serial (or Oxford) comma?_Yes  \\\n",
              "0                                                     1                                     \n",
              "1                                                     0                                     \n",
              "5                                                     0                                     \n",
              "6                                                     1                                     \n",
              "7                                                     1                                     \n",
              "...                                                 ...                                     \n",
              "1124                                                  1                                     \n",
              "1125                                                  0                                     \n",
              "1126                                                  1                                     \n",
              "1127                                                  1                                     \n",
              "1128                                                  1                                     \n",
              "\n",
              "      How much, if at all, do you care about the use (or lack thereof) of the serial (or Oxford) comma in grammar?_A lot  \\\n",
              "0                                                     0                                                                    \n",
              "1                                                     0                                                                    \n",
              "5                                                     1                                                                    \n",
              "6                                                     1                                                                    \n",
              "7                                                     1                                                                    \n",
              "...                                                 ...                                                                    \n",
              "1124                                                  1                                                                    \n",
              "1125                                                  0                                                                    \n",
              "1126                                                  0                                                                    \n",
              "1127                                                  1                                                                    \n",
              "1128                                                  1                                                                    \n",
              "\n",
              "      How much, if at all, do you care about the use (or lack thereof) of the serial (or Oxford) comma in grammar?_Not at all  \\\n",
              "0                                                     0                                                                         \n",
              "1                                                     0                                                                         \n",
              "5                                                     0                                                                         \n",
              "6                                                     0                                                                         \n",
              "7                                                     0                                                                         \n",
              "...                                                 ...                                                                         \n",
              "1124                                                  0                                                                         \n",
              "1125                                                  0                                                                         \n",
              "1126                                                  0                                                                         \n",
              "1127                                                  0                                                                         \n",
              "1128                                                  0                                                                         \n",
              "\n",
              "      How much, if at all, do you care about the use (or lack thereof) of the serial (or Oxford) comma in grammar?_Not much  \\\n",
              "0                                                     0                                                                       \n",
              "1                                                     1                                                                       \n",
              "5                                                     0                                                                       \n",
              "6                                                     0                                                                       \n",
              "7                                                     0                                                                       \n",
              "...                                                 ...                                                                       \n",
              "1124                                                  0                                                                       \n",
              "1125                                                  0                                                                       \n",
              "1126                                                  0                                                                       \n",
              "1127                                                  0                                                                       \n",
              "1128                                                  0                                                                       \n",
              "\n",
              "      How much, if at all, do you care about the use (or lack thereof) of the serial (or Oxford) comma in grammar?_Some  \\\n",
              "0                                                     1                                                                   \n",
              "1                                                     0                                                                   \n",
              "5                                                     0                                                                   \n",
              "6                                                     0                                                                   \n",
              "7                                                     0                                                                   \n",
              "...                                                 ...                                                                   \n",
              "1124                                                  0                                                                   \n",
              "1125                                                  1                                                                   \n",
              "1126                                                  1                                                                   \n",
              "1127                                                  0                                                                   \n",
              "1128                                                  0                                                                   \n",
              "\n",
              "      How would you write the following sentence?_Some experts say it's important to drink milk, but the data are inconclusive.  \\\n",
              "0                                                     0                                                                           \n",
              "1                                                     0                                                                           \n",
              "5                                                     1                                                                           \n",
              "6                                                     0                                                                           \n",
              "7                                                     1                                                                           \n",
              "...                                                 ...                                                                           \n",
              "1124                                                  0                                                                           \n",
              "1125                                                  0                                                                           \n",
              "1126                                                  0                                                                           \n",
              "1127                                                  0                                                                           \n",
              "1128                                                  0                                                                           \n",
              "\n",
              "      How would you write the following sentence?_Some experts say it's important to drink milk, but the data is inconclusive.  \\\n",
              "0                                                     1                                                                          \n",
              "1                                                     1                                                                          \n",
              "5                                                     0                                                                          \n",
              "6                                                     1                                                                          \n",
              "7                                                     0                                                                          \n",
              "...                                                 ...                                                                          \n",
              "1124                                                  1                                                                          \n",
              "1125                                                  1                                                                          \n",
              "1126                                                  1                                                                          \n",
              "1127                                                  1                                                                          \n",
              "1128                                                  1                                                                          \n",
              "\n",
              "      ...  Education_Some college or Associate degree  \\\n",
              "0     ...                                           0   \n",
              "1     ...                                           0   \n",
              "5     ...                                           1   \n",
              "6     ...                                           1   \n",
              "7     ...                                           1   \n",
              "...   ...                                         ...   \n",
              "1124  ...                                           1   \n",
              "1125  ...                                           1   \n",
              "1126  ...                                           0   \n",
              "1127  ...                                           0   \n",
              "1128  ...                                           0   \n",
              "\n",
              "      Location (Census Region)_East North Central  \\\n",
              "0                                               0   \n",
              "1                                               0   \n",
              "5                                               0   \n",
              "6                                               0   \n",
              "7                                               1   \n",
              "...                                           ...   \n",
              "1124                                            0   \n",
              "1125                                            0   \n",
              "1126                                            0   \n",
              "1127                                            0   \n",
              "1128                                            0   \n",
              "\n",
              "      Location (Census Region)_East South Central  \\\n",
              "0                                               0   \n",
              "1                                               0   \n",
              "5                                               0   \n",
              "6                                               0   \n",
              "7                                               0   \n",
              "...                                           ...   \n",
              "1124                                            0   \n",
              "1125                                            0   \n",
              "1126                                            0   \n",
              "1127                                            1   \n",
              "1128                                            0   \n",
              "\n",
              "      Location (Census Region)_Middle Atlantic  \\\n",
              "0                                            0   \n",
              "1                                            0   \n",
              "5                                            0   \n",
              "6                                            0   \n",
              "7                                            0   \n",
              "...                                        ...   \n",
              "1124                                         0   \n",
              "1125                                         0   \n",
              "1126                                         1   \n",
              "1127                                         0   \n",
              "1128                                         0   \n",
              "\n",
              "      Location (Census Region)_Mountain  Location (Census Region)_New England  \\\n",
              "0                                     0                                     0   \n",
              "1                                     1                                     0   \n",
              "5                                     0                                     1   \n",
              "6                                     0                                     0   \n",
              "7                                     0                                     0   \n",
              "...                                 ...                                   ...   \n",
              "1124                                  0                                     0   \n",
              "1125                                  0                                     0   \n",
              "1126                                  0                                     0   \n",
              "1127                                  0                                     0   \n",
              "1128                                  1                                     0   \n",
              "\n",
              "      Location (Census Region)_Pacific  \\\n",
              "0                                    0   \n",
              "1                                    0   \n",
              "5                                    0   \n",
              "6                                    1   \n",
              "7                                    0   \n",
              "...                                ...   \n",
              "1124                                 0   \n",
              "1125                                 1   \n",
              "1126                                 0   \n",
              "1127                                 0   \n",
              "1128                                 0   \n",
              "\n",
              "      Location (Census Region)_South Atlantic  \\\n",
              "0                                           1   \n",
              "1                                           0   \n",
              "5                                           0   \n",
              "6                                           0   \n",
              "7                                           0   \n",
              "...                                       ...   \n",
              "1124                                        1   \n",
              "1125                                        0   \n",
              "1126                                        0   \n",
              "1127                                        0   \n",
              "1128                                        0   \n",
              "\n",
              "      Location (Census Region)_West North Central  \\\n",
              "0                                               0   \n",
              "1                                               0   \n",
              "5                                               0   \n",
              "6                                               0   \n",
              "7                                               0   \n",
              "...                                           ...   \n",
              "1124                                            0   \n",
              "1125                                            0   \n",
              "1126                                            0   \n",
              "1127                                            0   \n",
              "1128                                            0   \n",
              "\n",
              "      Location (Census Region)_West South Central  \n",
              "0                                               0  \n",
              "1                                               0  \n",
              "5                                               0  \n",
              "6                                               0  \n",
              "7                                               0  \n",
              "...                                           ...  \n",
              "1124                                            0  \n",
              "1125                                            0  \n",
              "1126                                            0  \n",
              "1127                                            0  \n",
              "1128                                            0  \n",
              "\n",
              "[825 rows x 46 columns]"
            ]
          },
          "execution_count": 15,
          "metadata": {},
          "output_type": "execute_result"
        }
      ],
      "source": [
        "pd.get_dummies(comma_use.drop('RespondentID', axis=1))"
      ]
    },
    {
      "cell_type": "markdown",
      "metadata": {
        "hidden": true,
        "id": "-YkzI52vFfET"
      },
      "source": [
        "So what did the encoder do?"
      ]
    },
    {
      "cell_type": "code",
      "execution_count": null,
      "metadata": {
        "hidden": true,
        "id": "aupKeL0fFfET",
        "outputId": "49b945f9-9d07-4fdc-f5e4-8fcb9dd62962"
      },
      "outputs": [
        {
          "data": {
            "text/plain": [
              "<825x34 sparse matrix of type '<class 'numpy.float64'>'\n",
              "\twith 7174 stored elements in Compressed Sparse Row format>"
            ]
          },
          "execution_count": 16,
          "metadata": {},
          "output_type": "execute_result"
        }
      ],
      "source": [
        "comma_trans"
      ]
    },
    {
      "cell_type": "code",
      "execution_count": null,
      "metadata": {
        "hidden": true,
        "id": "6Bu2mWJsFfET",
        "outputId": "379d5e77-4ee8-4df0-ec89-9e4829ea2187"
      },
      "outputs": [
        {
          "data": {
            "text/plain": [
              "matrix([[0., 1., 0., ..., 1., 0., 0.],\n",
              "        [1., 0., 0., ..., 0., 0., 0.],\n",
              "        [1., 0., 0., ..., 0., 0., 0.],\n",
              "        ...,\n",
              "        [1., 1., 0., ..., 0., 0., 0.],\n",
              "        [0., 1., 0., ..., 0., 0., 0.],\n",
              "        [0., 1., 0., ..., 0., 0., 0.]])"
            ]
          },
          "execution_count": 17,
          "metadata": {},
          "output_type": "execute_result"
        }
      ],
      "source": [
        "comma_trans.todense()"
      ]
    },
    {
      "cell_type": "code",
      "execution_count": null,
      "metadata": {
        "hidden": true,
        "id": "EBJBdrl2FfET",
        "outputId": "21d16750-08e5-4f88-961b-746cb5c06c3d"
      },
      "outputs": [
        {
          "data": {
            "text/plain": [
              "array([\"x0_It's important for a person to be honest, kind, and loyal.\",\n",
              "       'x1_Yes', 'x2_Not at all', 'x2_Not much', 'x2_Some',\n",
              "       \"x3_Some experts say it's important to drink milk, but the data is inconclusive.\",\n",
              "       'x4_Yes', 'x5_Not at all', 'x5_Not much', 'x5_Some',\n",
              "       'x6_Somewhat important', 'x6_Somewhat unimportant',\n",
              "       'x6_Very important', 'x6_Very unimportant', 'x7_Male', 'x8_30-44',\n",
              "       'x8_45-60', 'x8_> 60', 'x9_$100,000 - $149,999', 'x9_$150,000+',\n",
              "       'x9_$25,000 - $49,999', 'x9_$50,000 - $99,999',\n",
              "       'x10_Graduate degree', 'x10_High school degree',\n",
              "       'x10_Less than high school degree',\n",
              "       'x10_Some college or Associate degree', 'x11_East South Central',\n",
              "       'x11_Middle Atlantic', 'x11_Mountain', 'x11_New England',\n",
              "       'x11_Pacific', 'x11_South Atlantic', 'x11_West North Central',\n",
              "       'x11_West South Central'], dtype=object)"
            ]
          },
          "execution_count": 18,
          "metadata": {},
          "output_type": "execute_result"
        }
      ],
      "source": [
        "ohe.get_feature_names()"
      ]
    },
    {
      "cell_type": "code",
      "execution_count": null,
      "metadata": {
        "hidden": true,
        "id": "nBQHCABIFfEU",
        "outputId": "27ee4ecf-42d4-4597-b552-14b5dea4796e"
      },
      "outputs": [
        {
          "data": {
            "text/html": [
              "<div>\n",
              "<style scoped>\n",
              "    .dataframe tbody tr th:only-of-type {\n",
              "        vertical-align: middle;\n",
              "    }\n",
              "\n",
              "    .dataframe tbody tr th {\n",
              "        vertical-align: top;\n",
              "    }\n",
              "\n",
              "    .dataframe thead th {\n",
              "        text-align: right;\n",
              "    }\n",
              "</style>\n",
              "<table border=\"1\" class=\"dataframe\">\n",
              "  <thead>\n",
              "    <tr style=\"text-align: right;\">\n",
              "      <th></th>\n",
              "      <th>x0_It's important for a person to be honest, kind, and loyal.</th>\n",
              "      <th>x1_Yes</th>\n",
              "      <th>x2_Not at all</th>\n",
              "      <th>x2_Not much</th>\n",
              "      <th>x2_Some</th>\n",
              "      <th>x3_Some experts say it's important to drink milk, but the data is inconclusive.</th>\n",
              "      <th>x4_Yes</th>\n",
              "      <th>x5_Not at all</th>\n",
              "      <th>x5_Not much</th>\n",
              "      <th>x5_Some</th>\n",
              "      <th>...</th>\n",
              "      <th>x10_Less than high school degree</th>\n",
              "      <th>x10_Some college or Associate degree</th>\n",
              "      <th>x11_East South Central</th>\n",
              "      <th>x11_Middle Atlantic</th>\n",
              "      <th>x11_Mountain</th>\n",
              "      <th>x11_New England</th>\n",
              "      <th>x11_Pacific</th>\n",
              "      <th>x11_South Atlantic</th>\n",
              "      <th>x11_West North Central</th>\n",
              "      <th>x11_West South Central</th>\n",
              "    </tr>\n",
              "  </thead>\n",
              "  <tbody>\n",
              "    <tr>\n",
              "      <th>0</th>\n",
              "      <td>0.0</td>\n",
              "      <td>1.0</td>\n",
              "      <td>0.0</td>\n",
              "      <td>0.0</td>\n",
              "      <td>1.0</td>\n",
              "      <td>1.0</td>\n",
              "      <td>0.0</td>\n",
              "      <td>0.0</td>\n",
              "      <td>1.0</td>\n",
              "      <td>0.0</td>\n",
              "      <td>...</td>\n",
              "      <td>0.0</td>\n",
              "      <td>0.0</td>\n",
              "      <td>0.0</td>\n",
              "      <td>0.0</td>\n",
              "      <td>0.0</td>\n",
              "      <td>0.0</td>\n",
              "      <td>0.0</td>\n",
              "      <td>1.0</td>\n",
              "      <td>0.0</td>\n",
              "      <td>0.0</td>\n",
              "    </tr>\n",
              "    <tr>\n",
              "      <th>1</th>\n",
              "      <td>1.0</td>\n",
              "      <td>0.0</td>\n",
              "      <td>0.0</td>\n",
              "      <td>1.0</td>\n",
              "      <td>0.0</td>\n",
              "      <td>1.0</td>\n",
              "      <td>0.0</td>\n",
              "      <td>0.0</td>\n",
              "      <td>1.0</td>\n",
              "      <td>0.0</td>\n",
              "      <td>...</td>\n",
              "      <td>0.0</td>\n",
              "      <td>0.0</td>\n",
              "      <td>0.0</td>\n",
              "      <td>0.0</td>\n",
              "      <td>1.0</td>\n",
              "      <td>0.0</td>\n",
              "      <td>0.0</td>\n",
              "      <td>0.0</td>\n",
              "      <td>0.0</td>\n",
              "      <td>0.0</td>\n",
              "    </tr>\n",
              "    <tr>\n",
              "      <th>2</th>\n",
              "      <td>1.0</td>\n",
              "      <td>0.0</td>\n",
              "      <td>0.0</td>\n",
              "      <td>0.0</td>\n",
              "      <td>0.0</td>\n",
              "      <td>0.0</td>\n",
              "      <td>1.0</td>\n",
              "      <td>0.0</td>\n",
              "      <td>0.0</td>\n",
              "      <td>1.0</td>\n",
              "      <td>...</td>\n",
              "      <td>0.0</td>\n",
              "      <td>1.0</td>\n",
              "      <td>0.0</td>\n",
              "      <td>0.0</td>\n",
              "      <td>0.0</td>\n",
              "      <td>1.0</td>\n",
              "      <td>0.0</td>\n",
              "      <td>0.0</td>\n",
              "      <td>0.0</td>\n",
              "      <td>0.0</td>\n",
              "    </tr>\n",
              "    <tr>\n",
              "      <th>3</th>\n",
              "      <td>1.0</td>\n",
              "      <td>1.0</td>\n",
              "      <td>0.0</td>\n",
              "      <td>0.0</td>\n",
              "      <td>0.0</td>\n",
              "      <td>1.0</td>\n",
              "      <td>1.0</td>\n",
              "      <td>0.0</td>\n",
              "      <td>0.0</td>\n",
              "      <td>1.0</td>\n",
              "      <td>...</td>\n",
              "      <td>0.0</td>\n",
              "      <td>1.0</td>\n",
              "      <td>0.0</td>\n",
              "      <td>0.0</td>\n",
              "      <td>0.0</td>\n",
              "      <td>0.0</td>\n",
              "      <td>1.0</td>\n",
              "      <td>0.0</td>\n",
              "      <td>0.0</td>\n",
              "      <td>0.0</td>\n",
              "    </tr>\n",
              "    <tr>\n",
              "      <th>4</th>\n",
              "      <td>1.0</td>\n",
              "      <td>1.0</td>\n",
              "      <td>0.0</td>\n",
              "      <td>0.0</td>\n",
              "      <td>0.0</td>\n",
              "      <td>0.0</td>\n",
              "      <td>0.0</td>\n",
              "      <td>0.0</td>\n",
              "      <td>0.0</td>\n",
              "      <td>0.0</td>\n",
              "      <td>...</td>\n",
              "      <td>0.0</td>\n",
              "      <td>1.0</td>\n",
              "      <td>0.0</td>\n",
              "      <td>0.0</td>\n",
              "      <td>0.0</td>\n",
              "      <td>0.0</td>\n",
              "      <td>0.0</td>\n",
              "      <td>0.0</td>\n",
              "      <td>0.0</td>\n",
              "      <td>0.0</td>\n",
              "    </tr>\n",
              "  </tbody>\n",
              "</table>\n",
              "<p>5 rows × 34 columns</p>\n",
              "</div>"
            ],
            "text/plain": [
              "   x0_It's important for a person to be honest, kind, and loyal.  x1_Yes  \\\n",
              "0                                                0.0                 1.0   \n",
              "1                                                1.0                 0.0   \n",
              "2                                                1.0                 0.0   \n",
              "3                                                1.0                 1.0   \n",
              "4                                                1.0                 1.0   \n",
              "\n",
              "   x2_Not at all  x2_Not much  x2_Some  \\\n",
              "0            0.0          0.0      1.0   \n",
              "1            0.0          1.0      0.0   \n",
              "2            0.0          0.0      0.0   \n",
              "3            0.0          0.0      0.0   \n",
              "4            0.0          0.0      0.0   \n",
              "\n",
              "   x3_Some experts say it's important to drink milk, but the data is inconclusive.  \\\n",
              "0                                                1.0                                 \n",
              "1                                                1.0                                 \n",
              "2                                                0.0                                 \n",
              "3                                                1.0                                 \n",
              "4                                                0.0                                 \n",
              "\n",
              "   x4_Yes  x5_Not at all  x5_Not much  x5_Some  ...  \\\n",
              "0     0.0            0.0          1.0      0.0  ...   \n",
              "1     0.0            0.0          1.0      0.0  ...   \n",
              "2     1.0            0.0          0.0      1.0  ...   \n",
              "3     1.0            0.0          0.0      1.0  ...   \n",
              "4     0.0            0.0          0.0      0.0  ...   \n",
              "\n",
              "   x10_Less than high school degree  x10_Some college or Associate degree  \\\n",
              "0                               0.0                                   0.0   \n",
              "1                               0.0                                   0.0   \n",
              "2                               0.0                                   1.0   \n",
              "3                               0.0                                   1.0   \n",
              "4                               0.0                                   1.0   \n",
              "\n",
              "   x11_East South Central  x11_Middle Atlantic  x11_Mountain  x11_New England  \\\n",
              "0                     0.0                  0.0           0.0              0.0   \n",
              "1                     0.0                  0.0           1.0              0.0   \n",
              "2                     0.0                  0.0           0.0              1.0   \n",
              "3                     0.0                  0.0           0.0              0.0   \n",
              "4                     0.0                  0.0           0.0              0.0   \n",
              "\n",
              "   x11_Pacific  x11_South Atlantic  x11_West North Central  \\\n",
              "0          0.0                 1.0                     0.0   \n",
              "1          0.0                 0.0                     0.0   \n",
              "2          0.0                 0.0                     0.0   \n",
              "3          1.0                 0.0                     0.0   \n",
              "4          0.0                 0.0                     0.0   \n",
              "\n",
              "   x11_West South Central  \n",
              "0                     0.0  \n",
              "1                     0.0  \n",
              "2                     0.0  \n",
              "3                     0.0  \n",
              "4                     0.0  \n",
              "\n",
              "[5 rows x 34 columns]"
            ]
          },
          "execution_count": 19,
          "metadata": {},
          "output_type": "execute_result"
        }
      ],
      "source": [
        "comma_df = pd.DataFrame(comma_trans.todense(), columns=ohe.get_feature_names())\n",
        "comma_df.head()"
      ]
    },
    {
      "cell_type": "markdown",
      "metadata": {
        "heading_collapsed": true,
        "id": "-7BBtO46FfEU"
      },
      "source": [
        "# Multiple Regression in `statsmodels`"
      ]
    },
    {
      "cell_type": "markdown",
      "metadata": {
        "hidden": true,
        "id": "YAQwacLnFfEU"
      },
      "source": [
        "Let's build a multiple regression with `statsmodels`. Let's start with a toy model:"
      ]
    },
    {
      "cell_type": "code",
      "execution_count": null,
      "metadata": {
        "hidden": true,
        "id": "6hjN3TOmFfEU"
      },
      "outputs": [],
      "source": [
        "centers = np.arange(1, 6)\n",
        "preds = np.array([stats.norm(loc=center, scale=3).rvs(200) for center in centers]).T\n",
        "preds_df = pd.DataFrame(preds, columns=[f'var{center}' for center in centers])\n",
        "\n",
        "target = preds_df['var1'] + 2*preds_df['var2'] + 3*preds_df['var3']\\\n",
        "    + 4*preds_df['var4'] + 5*preds_df['var5']\n",
        "target_df = pd.DataFrame(target, columns=['target'])"
      ]
    },
    {
      "cell_type": "code",
      "execution_count": null,
      "metadata": {
        "hidden": true,
        "id": "TaP4QfuYFfEV",
        "outputId": "13824b80-4a58-405b-815d-774317a0e088"
      },
      "outputs": [
        {
          "data": {
            "text/html": [
              "<div>\n",
              "<style scoped>\n",
              "    .dataframe tbody tr th:only-of-type {\n",
              "        vertical-align: middle;\n",
              "    }\n",
              "\n",
              "    .dataframe tbody tr th {\n",
              "        vertical-align: top;\n",
              "    }\n",
              "\n",
              "    .dataframe thead th {\n",
              "        text-align: right;\n",
              "    }\n",
              "</style>\n",
              "<table border=\"1\" class=\"dataframe\">\n",
              "  <thead>\n",
              "    <tr style=\"text-align: right;\">\n",
              "      <th></th>\n",
              "      <th>var1</th>\n",
              "      <th>var2</th>\n",
              "      <th>var3</th>\n",
              "      <th>var4</th>\n",
              "      <th>var5</th>\n",
              "      <th>target</th>\n",
              "    </tr>\n",
              "  </thead>\n",
              "  <tbody>\n",
              "    <tr>\n",
              "      <th>0</th>\n",
              "      <td>2.075901</td>\n",
              "      <td>1.092504</td>\n",
              "      <td>9.917764</td>\n",
              "      <td>-4.664552</td>\n",
              "      <td>10.284859</td>\n",
              "      <td>66.780287</td>\n",
              "    </tr>\n",
              "    <tr>\n",
              "      <th>1</th>\n",
              "      <td>-1.347241</td>\n",
              "      <td>3.595894</td>\n",
              "      <td>3.741422</td>\n",
              "      <td>3.230163</td>\n",
              "      <td>1.190902</td>\n",
              "      <td>35.943976</td>\n",
              "    </tr>\n",
              "    <tr>\n",
              "      <th>2</th>\n",
              "      <td>-1.939497</td>\n",
              "      <td>3.845795</td>\n",
              "      <td>2.301661</td>\n",
              "      <td>9.052304</td>\n",
              "      <td>10.182549</td>\n",
              "      <td>99.779036</td>\n",
              "    </tr>\n",
              "    <tr>\n",
              "      <th>3</th>\n",
              "      <td>-0.406681</td>\n",
              "      <td>3.220695</td>\n",
              "      <td>3.227490</td>\n",
              "      <td>3.518433</td>\n",
              "      <td>8.475734</td>\n",
              "      <td>72.169579</td>\n",
              "    </tr>\n",
              "    <tr>\n",
              "      <th>4</th>\n",
              "      <td>5.405042</td>\n",
              "      <td>0.470045</td>\n",
              "      <td>0.567276</td>\n",
              "      <td>8.845531</td>\n",
              "      <td>10.014722</td>\n",
              "      <td>93.502699</td>\n",
              "    </tr>\n",
              "  </tbody>\n",
              "</table>\n",
              "</div>"
            ],
            "text/plain": [
              "       var1      var2      var3      var4       var5     target\n",
              "0  2.075901  1.092504  9.917764 -4.664552  10.284859  66.780287\n",
              "1 -1.347241  3.595894  3.741422  3.230163   1.190902  35.943976\n",
              "2 -1.939497  3.845795  2.301661  9.052304  10.182549  99.779036\n",
              "3 -0.406681  3.220695  3.227490  3.518433   8.475734  72.169579\n",
              "4  5.405042  0.470045  0.567276  8.845531  10.014722  93.502699"
            ]
          },
          "execution_count": 21,
          "metadata": {},
          "output_type": "execute_result"
        }
      ],
      "source": [
        "df = pd.concat([preds_df, target_df], axis=1)\n",
        "\n",
        "df.head()"
      ]
    },
    {
      "cell_type": "code",
      "execution_count": null,
      "metadata": {
        "hidden": true,
        "id": "H6WIc8rdFfEV"
      },
      "outputs": [],
      "source": [
        "# Assign your predictors and your target to two different variables in order to run the linear\n",
        "# regression on this data. \n",
        "\n",
        "X = df.drop('target', axis=1)\n",
        "y = df['target']"
      ]
    },
    {
      "cell_type": "code",
      "execution_count": null,
      "metadata": {
        "hidden": true,
        "id": "ehPPqNiYFfEV"
      },
      "outputs": [],
      "source": [
        "model = sm.OLS(endog=y, exog=X).fit()"
      ]
    },
    {
      "cell_type": "code",
      "execution_count": null,
      "metadata": {
        "hidden": true,
        "id": "I4A1ryfwFfEV",
        "outputId": "ebc711bc-de25-46f9-bf06-576f97423bbc"
      },
      "outputs": [
        {
          "data": {
            "text/html": [
              "<table class=\"simpletable\">\n",
              "<caption>OLS Regression Results</caption>\n",
              "<tr>\n",
              "  <th>Dep. Variable:</th>         <td>target</td>      <th>  R-squared (uncentered):</th>       <td>   1.000</td> \n",
              "</tr>\n",
              "<tr>\n",
              "  <th>Model:</th>                   <td>OLS</td>       <th>  Adj. R-squared (uncentered):</th>  <td>   1.000</td> \n",
              "</tr>\n",
              "<tr>\n",
              "  <th>Method:</th>             <td>Least Squares</td>  <th>  F-statistic:       </th>           <td>1.695e+32</td>\n",
              "</tr>\n",
              "<tr>\n",
              "  <th>Date:</th>             <td>Tue, 30 Aug 2022</td> <th>  Prob (F-statistic):</th>            <td>  0.00</td>  \n",
              "</tr>\n",
              "<tr>\n",
              "  <th>Time:</th>                 <td>23:22:48</td>     <th>  Log-Likelihood:    </th>           <td>  5958.8</td> \n",
              "</tr>\n",
              "<tr>\n",
              "  <th>No. Observations:</th>      <td>   200</td>      <th>  AIC:               </th>          <td>-1.191e+04</td>\n",
              "</tr>\n",
              "<tr>\n",
              "  <th>Df Residuals:</th>          <td>   195</td>      <th>  BIC:               </th>          <td>-1.189e+04</td>\n",
              "</tr>\n",
              "<tr>\n",
              "  <th>Df Model:</th>              <td>     5</td>      <th>                     </th>               <td> </td>    \n",
              "</tr>\n",
              "<tr>\n",
              "  <th>Covariance Type:</th>      <td>nonrobust</td>    <th>                     </th>               <td> </td>    \n",
              "</tr>\n",
              "</table>\n",
              "<table class=\"simpletable\">\n",
              "<tr>\n",
              "    <td></td>      <th>coef</th>     <th>std err</th>      <th>t</th>      <th>P>|t|</th>  <th>[0.025</th>    <th>0.975]</th>  \n",
              "</tr>\n",
              "<tr>\n",
              "  <th>var1</th> <td>    1.0000</td> <td> 6.84e-16</td> <td> 1.46e+15</td> <td> 0.000</td> <td>    1.000</td> <td>    1.000</td>\n",
              "</tr>\n",
              "<tr>\n",
              "  <th>var2</th> <td>    2.0000</td> <td> 6.85e-16</td> <td> 2.92e+15</td> <td> 0.000</td> <td>    2.000</td> <td>    2.000</td>\n",
              "</tr>\n",
              "<tr>\n",
              "  <th>var3</th> <td>    3.0000</td> <td> 6.14e-16</td> <td> 4.89e+15</td> <td> 0.000</td> <td>    3.000</td> <td>    3.000</td>\n",
              "</tr>\n",
              "<tr>\n",
              "  <th>var4</th> <td>    4.0000</td> <td> 6.07e-16</td> <td> 6.58e+15</td> <td> 0.000</td> <td>    4.000</td> <td>    4.000</td>\n",
              "</tr>\n",
              "<tr>\n",
              "  <th>var5</th> <td>    5.0000</td> <td> 5.21e-16</td> <td> 9.59e+15</td> <td> 0.000</td> <td>    5.000</td> <td>    5.000</td>\n",
              "</tr>\n",
              "</table>\n",
              "<table class=\"simpletable\">\n",
              "<tr>\n",
              "  <th>Omnibus:</th>       <td> 0.029</td> <th>  Durbin-Watson:     </th> <td>   1.653</td>\n",
              "</tr>\n",
              "<tr>\n",
              "  <th>Prob(Omnibus):</th> <td> 0.986</td> <th>  Jarque-Bera (JB):  </th> <td>   0.134</td>\n",
              "</tr>\n",
              "<tr>\n",
              "  <th>Skew:</th>          <td> 0.008</td> <th>  Prob(JB):          </th> <td>   0.935</td>\n",
              "</tr>\n",
              "<tr>\n",
              "  <th>Kurtosis:</th>      <td> 2.874</td> <th>  Cond. No.          </th> <td>    2.95</td>\n",
              "</tr>\n",
              "</table><br/><br/>Notes:<br/>[1] R² is computed without centering (uncentered) since the model does not contain a constant.<br/>[2] Standard Errors assume that the covariance matrix of the errors is correctly specified."
            ],
            "text/plain": [
              "<class 'statsmodels.iolib.summary.Summary'>\n",
              "\"\"\"\n",
              "                                 OLS Regression Results                                \n",
              "=======================================================================================\n",
              "Dep. Variable:                 target   R-squared (uncentered):                   1.000\n",
              "Model:                            OLS   Adj. R-squared (uncentered):              1.000\n",
              "Method:                 Least Squares   F-statistic:                          1.695e+32\n",
              "Date:                Tue, 30 Aug 2022   Prob (F-statistic):                        0.00\n",
              "Time:                        23:22:48   Log-Likelihood:                          5958.8\n",
              "No. Observations:                 200   AIC:                                 -1.191e+04\n",
              "Df Residuals:                     195   BIC:                                 -1.189e+04\n",
              "Df Model:                           5                                                  \n",
              "Covariance Type:            nonrobust                                                  \n",
              "==============================================================================\n",
              "                 coef    std err          t      P>|t|      [0.025      0.975]\n",
              "------------------------------------------------------------------------------\n",
              "var1           1.0000   6.84e-16   1.46e+15      0.000       1.000       1.000\n",
              "var2           2.0000   6.85e-16   2.92e+15      0.000       2.000       2.000\n",
              "var3           3.0000   6.14e-16   4.89e+15      0.000       3.000       3.000\n",
              "var4           4.0000   6.07e-16   6.58e+15      0.000       4.000       4.000\n",
              "var5           5.0000   5.21e-16   9.59e+15      0.000       5.000       5.000\n",
              "==============================================================================\n",
              "Omnibus:                        0.029   Durbin-Watson:                   1.653\n",
              "Prob(Omnibus):                  0.986   Jarque-Bera (JB):                0.134\n",
              "Skew:                           0.008   Prob(JB):                        0.935\n",
              "Kurtosis:                       2.874   Cond. No.                         2.95\n",
              "==============================================================================\n",
              "\n",
              "Notes:\n",
              "[1] R² is computed without centering (uncentered) since the model does not contain a constant.\n",
              "[2] Standard Errors assume that the covariance matrix of the errors is correctly specified.\n",
              "\"\"\""
            ]
          },
          "execution_count": 24,
          "metadata": {},
          "output_type": "execute_result"
        }
      ],
      "source": [
        "model.summary()"
      ]
    },
    {
      "cell_type": "markdown",
      "metadata": {
        "heading_collapsed": true,
        "hidden": true,
        "id": "6SLioKwbFfEV"
      },
      "source": [
        "### Diamonds Dataset"
      ]
    },
    {
      "cell_type": "code",
      "execution_count": null,
      "metadata": {
        "hidden": true,
        "scrolled": true,
        "id": "UZfTjJlCFfEV"
      },
      "outputs": [],
      "source": [
        "data = sns.load_dataset('diamonds').drop(['cut', 'color', 'clarity'], axis=1)"
      ]
    },
    {
      "cell_type": "code",
      "execution_count": null,
      "metadata": {
        "hidden": true,
        "id": "QPatqsfyFfEW",
        "outputId": "8b2b06e7-426e-4b88-e593-c2451f4dc652"
      },
      "outputs": [
        {
          "data": {
            "text/html": [
              "<div>\n",
              "<style scoped>\n",
              "    .dataframe tbody tr th:only-of-type {\n",
              "        vertical-align: middle;\n",
              "    }\n",
              "\n",
              "    .dataframe tbody tr th {\n",
              "        vertical-align: top;\n",
              "    }\n",
              "\n",
              "    .dataframe thead th {\n",
              "        text-align: right;\n",
              "    }\n",
              "</style>\n",
              "<table border=\"1\" class=\"dataframe\">\n",
              "  <thead>\n",
              "    <tr style=\"text-align: right;\">\n",
              "      <th></th>\n",
              "      <th>carat</th>\n",
              "      <th>depth</th>\n",
              "      <th>table</th>\n",
              "      <th>price</th>\n",
              "      <th>x</th>\n",
              "      <th>y</th>\n",
              "      <th>z</th>\n",
              "    </tr>\n",
              "  </thead>\n",
              "  <tbody>\n",
              "    <tr>\n",
              "      <th>0</th>\n",
              "      <td>0.23</td>\n",
              "      <td>61.5</td>\n",
              "      <td>55.0</td>\n",
              "      <td>326</td>\n",
              "      <td>3.95</td>\n",
              "      <td>3.98</td>\n",
              "      <td>2.43</td>\n",
              "    </tr>\n",
              "    <tr>\n",
              "      <th>1</th>\n",
              "      <td>0.21</td>\n",
              "      <td>59.8</td>\n",
              "      <td>61.0</td>\n",
              "      <td>326</td>\n",
              "      <td>3.89</td>\n",
              "      <td>3.84</td>\n",
              "      <td>2.31</td>\n",
              "    </tr>\n",
              "    <tr>\n",
              "      <th>2</th>\n",
              "      <td>0.23</td>\n",
              "      <td>56.9</td>\n",
              "      <td>65.0</td>\n",
              "      <td>327</td>\n",
              "      <td>4.05</td>\n",
              "      <td>4.07</td>\n",
              "      <td>2.31</td>\n",
              "    </tr>\n",
              "    <tr>\n",
              "      <th>3</th>\n",
              "      <td>0.29</td>\n",
              "      <td>62.4</td>\n",
              "      <td>58.0</td>\n",
              "      <td>334</td>\n",
              "      <td>4.20</td>\n",
              "      <td>4.23</td>\n",
              "      <td>2.63</td>\n",
              "    </tr>\n",
              "    <tr>\n",
              "      <th>4</th>\n",
              "      <td>0.31</td>\n",
              "      <td>63.3</td>\n",
              "      <td>58.0</td>\n",
              "      <td>335</td>\n",
              "      <td>4.34</td>\n",
              "      <td>4.35</td>\n",
              "      <td>2.75</td>\n",
              "    </tr>\n",
              "  </tbody>\n",
              "</table>\n",
              "</div>"
            ],
            "text/plain": [
              "   carat  depth  table  price     x     y     z\n",
              "0   0.23   61.5   55.0    326  3.95  3.98  2.43\n",
              "1   0.21   59.8   61.0    326  3.89  3.84  2.31\n",
              "2   0.23   56.9   65.0    327  4.05  4.07  2.31\n",
              "3   0.29   62.4   58.0    334  4.20  4.23  2.63\n",
              "4   0.31   63.3   58.0    335  4.34  4.35  2.75"
            ]
          },
          "execution_count": 26,
          "metadata": {},
          "output_type": "execute_result"
        }
      ],
      "source": [
        "data.head()"
      ]
    },
    {
      "cell_type": "code",
      "execution_count": null,
      "metadata": {
        "hidden": true,
        "id": "xQgZ0ssiFfEW"
      },
      "outputs": [],
      "source": [
        "# assign your predictors to the X-variable and your target to the y-variable.\n",
        "X = data.drop('price', axis=1)\n",
        "y = data['price'] "
      ]
    },
    {
      "cell_type": "code",
      "execution_count": null,
      "metadata": {
        "hidden": true,
        "id": "wyVWs5sTFfEW",
        "outputId": "f775f37f-5bb9-44a7-c3a9-7866689beb72"
      },
      "outputs": [
        {
          "data": {
            "text/html": [
              "<table class=\"simpletable\">\n",
              "<caption>OLS Regression Results</caption>\n",
              "<tr>\n",
              "  <th>Dep. Variable:</th>          <td>price</td>      <th>  R-squared (uncentered):</th>       <td>   0.926</td>  \n",
              "</tr>\n",
              "<tr>\n",
              "  <th>Model:</th>                   <td>OLS</td>       <th>  Adj. R-squared (uncentered):</th>  <td>   0.926</td>  \n",
              "</tr>\n",
              "<tr>\n",
              "  <th>Method:</th>             <td>Least Squares</td>  <th>  F-statistic:       </th>           <td>1.120e+05</td> \n",
              "</tr>\n",
              "<tr>\n",
              "  <th>Date:</th>             <td>Tue, 30 Aug 2022</td> <th>  Prob (F-statistic):</th>            <td>  0.00</td>   \n",
              "</tr>\n",
              "<tr>\n",
              "  <th>Time:</th>                 <td>23:22:50</td>     <th>  Log-Likelihood:    </th>          <td>-4.7196e+05</td>\n",
              "</tr>\n",
              "<tr>\n",
              "  <th>No. Observations:</th>      <td> 53940</td>      <th>  AIC:               </th>           <td>9.439e+05</td> \n",
              "</tr>\n",
              "<tr>\n",
              "  <th>Df Residuals:</th>          <td> 53934</td>      <th>  BIC:               </th>           <td>9.440e+05</td> \n",
              "</tr>\n",
              "<tr>\n",
              "  <th>Df Model:</th>              <td>     6</td>      <th>                     </th>               <td> </td>     \n",
              "</tr>\n",
              "<tr>\n",
              "  <th>Covariance Type:</th>      <td>nonrobust</td>    <th>                     </th>               <td> </td>     \n",
              "</tr>\n",
              "</table>\n",
              "<table class=\"simpletable\">\n",
              "<tr>\n",
              "    <td></td>       <th>coef</th>     <th>std err</th>      <th>t</th>      <th>P>|t|</th>  <th>[0.025</th>    <th>0.975]</th>  \n",
              "</tr>\n",
              "<tr>\n",
              "  <th>carat</th> <td> 9533.9516</td> <td>   59.317</td> <td>  160.730</td> <td> 0.000</td> <td> 9417.691</td> <td> 9650.213</td>\n",
              "</tr>\n",
              "<tr>\n",
              "  <th>depth</th> <td>   28.2911</td> <td>    2.416</td> <td>   11.712</td> <td> 0.000</td> <td>   23.556</td> <td>   33.026</td>\n",
              "</tr>\n",
              "<tr>\n",
              "  <th>table</th> <td>  -18.8220</td> <td>    2.558</td> <td>   -7.358</td> <td> 0.000</td> <td>  -23.836</td> <td>  -13.808</td>\n",
              "</tr>\n",
              "<tr>\n",
              "  <th>x</th>     <td> -522.6300</td> <td>   40.351</td> <td>  -12.952</td> <td> 0.000</td> <td> -601.718</td> <td> -443.542</td>\n",
              "</tr>\n",
              "<tr>\n",
              "  <th>y</th>     <td>  182.3295</td> <td>   25.907</td> <td>    7.038</td> <td> 0.000</td> <td>  131.552</td> <td>  233.107</td>\n",
              "</tr>\n",
              "<tr>\n",
              "  <th>z</th>     <td> -676.7502</td> <td>   42.361</td> <td>  -15.976</td> <td> 0.000</td> <td> -759.778</td> <td> -593.722</td>\n",
              "</tr>\n",
              "</table>\n",
              "<table class=\"simpletable\">\n",
              "<tr>\n",
              "  <th>Omnibus:</th>       <td>14555.339</td> <th>  Durbin-Watson:     </th>  <td>   1.147</td> \n",
              "</tr>\n",
              "<tr>\n",
              "  <th>Prob(Omnibus):</th>  <td> 0.000</td>   <th>  Jarque-Bera (JB):  </th> <td>287131.956</td>\n",
              "</tr>\n",
              "<tr>\n",
              "  <th>Skew:</th>           <td> 0.809</td>   <th>  Prob(JB):          </th>  <td>    0.00</td> \n",
              "</tr>\n",
              "<tr>\n",
              "  <th>Kurtosis:</th>       <td>14.186</td>   <th>  Cond. No.          </th>  <td>    829.</td> \n",
              "</tr>\n",
              "</table><br/><br/>Notes:<br/>[1] R² is computed without centering (uncentered) since the model does not contain a constant.<br/>[2] Standard Errors assume that the covariance matrix of the errors is correctly specified."
            ],
            "text/plain": [
              "<class 'statsmodels.iolib.summary.Summary'>\n",
              "\"\"\"\n",
              "                                 OLS Regression Results                                \n",
              "=======================================================================================\n",
              "Dep. Variable:                  price   R-squared (uncentered):                   0.926\n",
              "Model:                            OLS   Adj. R-squared (uncentered):              0.926\n",
              "Method:                 Least Squares   F-statistic:                          1.120e+05\n",
              "Date:                Tue, 30 Aug 2022   Prob (F-statistic):                        0.00\n",
              "Time:                        23:22:50   Log-Likelihood:                     -4.7196e+05\n",
              "No. Observations:               53940   AIC:                                  9.439e+05\n",
              "Df Residuals:                   53934   BIC:                                  9.440e+05\n",
              "Df Model:                           6                                                  \n",
              "Covariance Type:            nonrobust                                                  \n",
              "==============================================================================\n",
              "                 coef    std err          t      P>|t|      [0.025      0.975]\n",
              "------------------------------------------------------------------------------\n",
              "carat       9533.9516     59.317    160.730      0.000    9417.691    9650.213\n",
              "depth         28.2911      2.416     11.712      0.000      23.556      33.026\n",
              "table        -18.8220      2.558     -7.358      0.000     -23.836     -13.808\n",
              "x           -522.6300     40.351    -12.952      0.000    -601.718    -443.542\n",
              "y            182.3295     25.907      7.038      0.000     131.552     233.107\n",
              "z           -676.7502     42.361    -15.976      0.000    -759.778    -593.722\n",
              "==============================================================================\n",
              "Omnibus:                    14555.339   Durbin-Watson:                   1.147\n",
              "Prob(Omnibus):                  0.000   Jarque-Bera (JB):           287131.956\n",
              "Skew:                           0.809   Prob(JB):                         0.00\n",
              "Kurtosis:                      14.186   Cond. No.                         829.\n",
              "==============================================================================\n",
              "\n",
              "Notes:\n",
              "[1] R² is computed without centering (uncentered) since the model does not contain a constant.\n",
              "[2] Standard Errors assume that the covariance matrix of the errors is correctly specified.\n",
              "\"\"\""
            ]
          },
          "execution_count": 28,
          "metadata": {},
          "output_type": "execute_result"
        }
      ],
      "source": [
        "model2 = sm.OLS(y, X).fit()\n",
        "model2.summary()"
      ]
    },
    {
      "cell_type": "code",
      "execution_count": null,
      "metadata": {
        "hidden": true,
        "scrolled": true,
        "id": "c31bbaT_FfEW",
        "outputId": "44e1cdbe-b5dc-4371-9bfb-24a8307d5027"
      },
      "outputs": [
        {
          "data": {
            "image/png": "[encoded data removed]",
            "text/plain": [
              "<Figure size 864x576 with 4 Axes>"
            ]
          },
          "metadata": {
            "needs_background": "light"
          },
          "output_type": "display_data"
        }
      ],
      "source": [
        "sm.graphics.plot_regress_exog(model2, 'carat', fig=plt.figure(figsize=(12, 8)));"
      ]
    },
    {
      "cell_type": "markdown",
      "metadata": {
        "heading_collapsed": true,
        "hidden": true,
        "id": "JO5ldC7gFfEW"
      },
      "source": [
        "### Check distribution of target"
      ]
    },
    {
      "cell_type": "code",
      "execution_count": null,
      "metadata": {
        "hidden": true,
        "id": "8XgtMBoPFfEW",
        "outputId": "11070465-aa13-4b22-d470-7f6ff99e1515"
      },
      "outputs": [
        {
          "data": {
            "image/png": "[encoded data removed]",
            "text/plain": [
              "<Figure size 432x288 with 1 Axes>"
            ]
          },
          "metadata": {
            "needs_background": "light"
          },
          "output_type": "display_data"
        }
      ],
      "source": [
        "# Lets check if our target variable is normally distributed...\n",
        "y.hist();"
      ]
    },
    {
      "cell_type": "code",
      "execution_count": null,
      "metadata": {
        "hidden": true,
        "id": "ss0dHt5YFfEW",
        "outputId": "e755f48a-1209-4d2a-bb49-5e0a5822648c"
      },
      "outputs": [
        {
          "data": {
            "image/png": "[encoded data removed]",
            "text/plain": [
              "<Figure size 432x288 with 1 Axes>"
            ]
          },
          "metadata": {
            "needs_background": "light"
          },
          "output_type": "display_data"
        }
      ],
      "source": [
        "# our data is logarithmically distributed... so lets take the logarithm of our y data to make it\n",
        "# normal. \n",
        "y_scld = np.log(y)\n",
        "y_scld.hist(bins=5);"
      ]
    },
    {
      "cell_type": "markdown",
      "metadata": {
        "heading_collapsed": true,
        "hidden": true,
        "id": "PTBh_jx7FfEW"
      },
      "source": [
        "### Build model with log-scaled target"
      ]
    },
    {
      "cell_type": "code",
      "execution_count": null,
      "metadata": {
        "hidden": true,
        "id": "CHsifqooFfEW",
        "outputId": "abb65132-dcc0-4459-9d6f-f88abec10fe3"
      },
      "outputs": [
        {
          "data": {
            "text/html": [
              "<table class=\"simpletable\">\n",
              "<caption>OLS Regression Results</caption>\n",
              "<tr>\n",
              "  <th>Dep. Variable:</th>          <td>price</td>      <th>  R-squared (uncentered):</th>      <td>   0.999</td> \n",
              "</tr>\n",
              "<tr>\n",
              "  <th>Model:</th>                   <td>OLS</td>       <th>  Adj. R-squared (uncentered):</th> <td>   0.999</td> \n",
              "</tr>\n",
              "<tr>\n",
              "  <th>Method:</th>             <td>Least Squares</td>  <th>  F-statistic:       </th>          <td>7.072e+06</td>\n",
              "</tr>\n",
              "<tr>\n",
              "  <th>Date:</th>             <td>Tue, 30 Aug 2022</td> <th>  Prob (F-statistic):</th>           <td>  0.00</td>  \n",
              "</tr>\n",
              "<tr>\n",
              "  <th>Time:</th>                 <td>23:23:03</td>     <th>  Log-Likelihood:    </th>          <td> -7833.4</td> \n",
              "</tr>\n",
              "<tr>\n",
              "  <th>No. Observations:</th>      <td> 53940</td>      <th>  AIC:               </th>          <td>1.568e+04</td>\n",
              "</tr>\n",
              "<tr>\n",
              "  <th>Df Residuals:</th>          <td> 53934</td>      <th>  BIC:               </th>          <td>1.573e+04</td>\n",
              "</tr>\n",
              "<tr>\n",
              "  <th>Df Model:</th>              <td>     6</td>      <th>                     </th>              <td> </td>    \n",
              "</tr>\n",
              "<tr>\n",
              "  <th>Covariance Type:</th>      <td>nonrobust</td>    <th>                     </th>              <td> </td>    \n",
              "</tr>\n",
              "</table>\n",
              "<table class=\"simpletable\">\n",
              "<tr>\n",
              "    <td></td>       <th>coef</th>     <th>std err</th>      <th>t</th>      <th>P>|t|</th>  <th>[0.025</th>    <th>0.975]</th>  \n",
              "</tr>\n",
              "<tr>\n",
              "  <th>carat</th> <td>   -0.7522</td> <td>    0.011</td> <td>  -69.197</td> <td> 0.000</td> <td>   -0.774</td> <td>   -0.731</td>\n",
              "</tr>\n",
              "<tr>\n",
              "  <th>depth</th> <td>    0.0319</td> <td>    0.000</td> <td>   72.131</td> <td> 0.000</td> <td>    0.031</td> <td>    0.033</td>\n",
              "</tr>\n",
              "<tr>\n",
              "  <th>table</th> <td>   -0.0062</td> <td>    0.000</td> <td>  -13.212</td> <td> 0.000</td> <td>   -0.007</td> <td>   -0.005</td>\n",
              "</tr>\n",
              "<tr>\n",
              "  <th>x</th>     <td>    1.1098</td> <td>    0.007</td> <td>  150.072</td> <td> 0.000</td> <td>    1.095</td> <td>    1.124</td>\n",
              "</tr>\n",
              "<tr>\n",
              "  <th>y</th>     <td>    0.0506</td> <td>    0.005</td> <td>   10.660</td> <td> 0.000</td> <td>    0.041</td> <td>    0.060</td>\n",
              "</tr>\n",
              "<tr>\n",
              "  <th>z</th>     <td>    0.0340</td> <td>    0.008</td> <td>    4.377</td> <td> 0.000</td> <td>    0.019</td> <td>    0.049</td>\n",
              "</tr>\n",
              "</table>\n",
              "<table class=\"simpletable\">\n",
              "<tr>\n",
              "  <th>Omnibus:</th>       <td>50951.621</td> <th>  Durbin-Watson:     </th>   <td>   1.363</td>  \n",
              "</tr>\n",
              "<tr>\n",
              "  <th>Prob(Omnibus):</th>  <td> 0.000</td>   <th>  Jarque-Bera (JB):  </th> <td>28055158.482</td>\n",
              "</tr>\n",
              "<tr>\n",
              "  <th>Skew:</th>           <td> 3.704</td>   <th>  Prob(JB):          </th>   <td>    0.00</td>  \n",
              "</tr>\n",
              "<tr>\n",
              "  <th>Kurtosis:</th>       <td>114.481</td>  <th>  Cond. No.          </th>   <td>    829.</td>  \n",
              "</tr>\n",
              "</table><br/><br/>Notes:<br/>[1] R² is computed without centering (uncentered) since the model does not contain a constant.<br/>[2] Standard Errors assume that the covariance matrix of the errors is correctly specified."
            ],
            "text/plain": [
              "<class 'statsmodels.iolib.summary.Summary'>\n",
              "\"\"\"\n",
              "                                 OLS Regression Results                                \n",
              "=======================================================================================\n",
              "Dep. Variable:                  price   R-squared (uncentered):                   0.999\n",
              "Model:                            OLS   Adj. R-squared (uncentered):              0.999\n",
              "Method:                 Least Squares   F-statistic:                          7.072e+06\n",
              "Date:                Tue, 30 Aug 2022   Prob (F-statistic):                        0.00\n",
              "Time:                        23:23:03   Log-Likelihood:                         -7833.4\n",
              "No. Observations:               53940   AIC:                                  1.568e+04\n",
              "Df Residuals:                   53934   BIC:                                  1.573e+04\n",
              "Df Model:                           6                                                  \n",
              "Covariance Type:            nonrobust                                                  \n",
              "==============================================================================\n",
              "                 coef    std err          t      P>|t|      [0.025      0.975]\n",
              "------------------------------------------------------------------------------\n",
              "carat         -0.7522      0.011    -69.197      0.000      -0.774      -0.731\n",
              "depth          0.0319      0.000     72.131      0.000       0.031       0.033\n",
              "table         -0.0062      0.000    -13.212      0.000      -0.007      -0.005\n",
              "x              1.1098      0.007    150.072      0.000       1.095       1.124\n",
              "y              0.0506      0.005     10.660      0.000       0.041       0.060\n",
              "z              0.0340      0.008      4.377      0.000       0.019       0.049\n",
              "==============================================================================\n",
              "Omnibus:                    50951.621   Durbin-Watson:                   1.363\n",
              "Prob(Omnibus):                  0.000   Jarque-Bera (JB):         28055158.482\n",
              "Skew:                           3.704   Prob(JB):                         0.00\n",
              "Kurtosis:                     114.481   Cond. No.                         829.\n",
              "==============================================================================\n",
              "\n",
              "Notes:\n",
              "[1] R² is computed without centering (uncentered) since the model does not contain a constant.\n",
              "[2] Standard Errors assume that the covariance matrix of the errors is correctly specified.\n",
              "\"\"\""
            ]
          },
          "execution_count": 32,
          "metadata": {},
          "output_type": "execute_result"
        }
      ],
      "source": [
        "model3 = sm.OLS(y_scld, X).fit()\n",
        "model3.summary()"
      ]
    },
    {
      "cell_type": "code",
      "execution_count": null,
      "metadata": {
        "hidden": true,
        "id": "QpvKyF4sFfEW",
        "outputId": "045d348f-d020-44ba-c5a3-b25a50fea309"
      },
      "outputs": [
        {
          "data": {
            "image/png": "[encoded data removed]",
            "text/plain": [
              "<Figure size 864x576 with 4 Axes>"
            ]
          },
          "metadata": {
            "needs_background": "light"
          },
          "output_type": "display_data"
        }
      ],
      "source": [
        "sm.graphics.plot_regress_exog(model3, 'carat', fig=plt.figure(figsize=(12, 8)));"
      ]
    },
    {
      "cell_type": "markdown",
      "metadata": {
        "hidden": true,
        "id": "fWSi-lMrFfEW"
      },
      "source": [
        "**Remember that $R^2$ can be negative!**"
      ]
    },
    {
      "cell_type": "markdown",
      "metadata": {
        "id": "WyB-qxbcFfEX"
      },
      "source": [
        "R2 compares the fit of the chosen model with that of a horizontal straight line (the null hypothesis). If the chosen model fits worse than a horizontal line, then R2 is negative."
      ]
    },
    {
      "cell_type": "code",
      "execution_count": null,
      "metadata": {
        "hidden": true,
        "id": "O5CVDoqzFfEX",
        "outputId": "dff35aed-b2f0-4847-f953-9acfb6917e25"
      },
      "outputs": [
        {
          "name": "stdout",
          "output_type": "stream",
          "text": [
            "0.0\n",
            "-0.06283248452205892\n"
          ]
        }
      ],
      "source": [
        "bad_pred = np.mean(y) * np.ones(len(y))\n",
        "worse_pred = (np.mean(y) + 1000) * np.ones(len(y))\n",
        "\n",
        "print(metrics.r2_score(y, bad_pred))\n",
        "print(metrics.r2_score(y, worse_pred))"
      ]
    },
    {
      "cell_type": "markdown",
      "metadata": {
        "heading_collapsed": true,
        "id": "nQ-ETdTpFfEX"
      },
      "source": [
        "# Putting it in Practice: Wine Dataset 🍷"
      ]
    },
    {
      "cell_type": "markdown",
      "metadata": {
        "hidden": true,
        "id": "SVAoiSLAFfEX"
      },
      "source": [
        "This dataset includes measurable attributes of different wines as well as their rated quality."
      ]
    },
    {
      "cell_type": "code",
      "execution_count": null,
      "metadata": {
        "hidden": true,
        "id": "GqWkd19nFfEX",
        "outputId": "de4911fe-1c13-47a5-f639-bb5755e1648e"
      },
      "outputs": [
        {
          "data": {
            "text/html": [
              "<div>\n",
              "<style scoped>\n",
              "    .dataframe tbody tr th:only-of-type {\n",
              "        vertical-align: middle;\n",
              "    }\n",
              "\n",
              "    .dataframe tbody tr th {\n",
              "        vertical-align: top;\n",
              "    }\n",
              "\n",
              "    .dataframe thead th {\n",
              "        text-align: right;\n",
              "    }\n",
              "</style>\n",
              "<table border=\"1\" class=\"dataframe\">\n",
              "  <thead>\n",
              "    <tr style=\"text-align: right;\">\n",
              "      <th></th>\n",
              "      <th>fixed acidity</th>\n",
              "      <th>volatile acidity</th>\n",
              "      <th>citric acid</th>\n",
              "      <th>residual sugar</th>\n",
              "      <th>chlorides</th>\n",
              "      <th>free sulfur dioxide</th>\n",
              "      <th>total sulfur dioxide</th>\n",
              "      <th>density</th>\n",
              "      <th>pH</th>\n",
              "      <th>sulphates</th>\n",
              "      <th>alcohol</th>\n",
              "      <th>quality</th>\n",
              "      <th>red_wine</th>\n",
              "    </tr>\n",
              "  </thead>\n",
              "  <tbody>\n",
              "    <tr>\n",
              "      <th>0</th>\n",
              "      <td>7.4</td>\n",
              "      <td>0.70</td>\n",
              "      <td>0.00</td>\n",
              "      <td>1.9</td>\n",
              "      <td>0.076</td>\n",
              "      <td>11.0</td>\n",
              "      <td>34.0</td>\n",
              "      <td>0.9978</td>\n",
              "      <td>3.51</td>\n",
              "      <td>0.56</td>\n",
              "      <td>9.4</td>\n",
              "      <td>5</td>\n",
              "      <td>1</td>\n",
              "    </tr>\n",
              "    <tr>\n",
              "      <th>1</th>\n",
              "      <td>7.8</td>\n",
              "      <td>0.88</td>\n",
              "      <td>0.00</td>\n",
              "      <td>2.6</td>\n",
              "      <td>0.098</td>\n",
              "      <td>25.0</td>\n",
              "      <td>67.0</td>\n",
              "      <td>0.9968</td>\n",
              "      <td>3.20</td>\n",
              "      <td>0.68</td>\n",
              "      <td>9.8</td>\n",
              "      <td>5</td>\n",
              "      <td>1</td>\n",
              "    </tr>\n",
              "    <tr>\n",
              "      <th>2</th>\n",
              "      <td>7.8</td>\n",
              "      <td>0.76</td>\n",
              "      <td>0.04</td>\n",
              "      <td>2.3</td>\n",
              "      <td>0.092</td>\n",
              "      <td>15.0</td>\n",
              "      <td>54.0</td>\n",
              "      <td>0.9970</td>\n",
              "      <td>3.26</td>\n",
              "      <td>0.65</td>\n",
              "      <td>9.8</td>\n",
              "      <td>5</td>\n",
              "      <td>1</td>\n",
              "    </tr>\n",
              "    <tr>\n",
              "      <th>3</th>\n",
              "      <td>11.2</td>\n",
              "      <td>0.28</td>\n",
              "      <td>0.56</td>\n",
              "      <td>1.9</td>\n",
              "      <td>0.075</td>\n",
              "      <td>17.0</td>\n",
              "      <td>60.0</td>\n",
              "      <td>0.9980</td>\n",
              "      <td>3.16</td>\n",
              "      <td>0.58</td>\n",
              "      <td>9.8</td>\n",
              "      <td>6</td>\n",
              "      <td>1</td>\n",
              "    </tr>\n",
              "    <tr>\n",
              "      <th>4</th>\n",
              "      <td>7.4</td>\n",
              "      <td>0.70</td>\n",
              "      <td>0.00</td>\n",
              "      <td>1.9</td>\n",
              "      <td>0.076</td>\n",
              "      <td>11.0</td>\n",
              "      <td>34.0</td>\n",
              "      <td>0.9978</td>\n",
              "      <td>3.51</td>\n",
              "      <td>0.56</td>\n",
              "      <td>9.4</td>\n",
              "      <td>5</td>\n",
              "      <td>1</td>\n",
              "    </tr>\n",
              "  </tbody>\n",
              "</table>\n",
              "</div>"
            ],
            "text/plain": [
              "   fixed acidity  volatile acidity  citric acid  residual sugar  chlorides  \\\n",
              "0            7.4              0.70         0.00             1.9      0.076   \n",
              "1            7.8              0.88         0.00             2.6      0.098   \n",
              "2            7.8              0.76         0.04             2.3      0.092   \n",
              "3           11.2              0.28         0.56             1.9      0.075   \n",
              "4            7.4              0.70         0.00             1.9      0.076   \n",
              "\n",
              "   free sulfur dioxide  total sulfur dioxide  density    pH  sulphates  \\\n",
              "0                 11.0                  34.0   0.9978  3.51       0.56   \n",
              "1                 25.0                  67.0   0.9968  3.20       0.68   \n",
              "2                 15.0                  54.0   0.9970  3.26       0.65   \n",
              "3                 17.0                  60.0   0.9980  3.16       0.58   \n",
              "4                 11.0                  34.0   0.9978  3.51       0.56   \n",
              "\n",
              "   alcohol  quality  red_wine  \n",
              "0      9.4        5         1  \n",
              "1      9.8        5         1  \n",
              "2      9.8        5         1  \n",
              "3      9.8        6         1  \n",
              "4      9.4        5         1  "
            ]
          },
          "execution_count": 35,
          "metadata": {},
          "output_type": "execute_result"
        }
      ],
      "source": [
        "wine = pd.read_csv('data/wine.csv')\n",
        "\n",
        "wine.head()"
      ]
    },
    {
      "cell_type": "code",
      "execution_count": null,
      "metadata": {
        "hidden": true,
        "scrolled": true,
        "id": "9BcOKzKsFfEX",
        "outputId": "92463761-7921-454a-e2f9-550de7b46bf5"
      },
      "outputs": [
        {
          "name": "stdout",
          "output_type": "stream",
          "text": [
            "<class 'pandas.core.frame.DataFrame'>\n",
            "RangeIndex: 6497 entries, 0 to 6496\n",
            "Data columns (total 13 columns):\n",
            " #   Column                Non-Null Count  Dtype  \n",
            "---  ------                --------------  -----  \n",
            " 0   fixed acidity         6497 non-null   float64\n",
            " 1   volatile acidity      6497 non-null   float64\n",
            " 2   citric acid           6497 non-null   float64\n",
            " 3   residual sugar        6497 non-null   float64\n",
            " 4   chlorides             6497 non-null   float64\n",
            " 5   free sulfur dioxide   6497 non-null   float64\n",
            " 6   total sulfur dioxide  6497 non-null   float64\n",
            " 7   density               6497 non-null   float64\n",
            " 8   pH                    6497 non-null   float64\n",
            " 9   sulphates             6497 non-null   float64\n",
            " 10  alcohol               6497 non-null   float64\n",
            " 11  quality               6497 non-null   int64  \n",
            " 12  red_wine              6497 non-null   int64  \n",
            "dtypes: float64(11), int64(2)\n",
            "memory usage: 660.0 KB\n"
          ]
        }
      ],
      "source": [
        "wine.info()"
      ]
    },
    {
      "cell_type": "code",
      "execution_count": null,
      "metadata": {
        "hidden": true,
        "id": "Abxtp-8mFfEX",
        "outputId": "0303bce5-be4b-4aad-ab9e-f8129f44fed0"
      },
      "outputs": [
        {
          "data": {
            "text/html": [
              "<div>\n",
              "<style scoped>\n",
              "    .dataframe tbody tr th:only-of-type {\n",
              "        vertical-align: middle;\n",
              "    }\n",
              "\n",
              "    .dataframe tbody tr th {\n",
              "        vertical-align: top;\n",
              "    }\n",
              "\n",
              "    .dataframe thead th {\n",
              "        text-align: right;\n",
              "    }\n",
              "</style>\n",
              "<table border=\"1\" class=\"dataframe\">\n",
              "  <thead>\n",
              "    <tr style=\"text-align: right;\">\n",
              "      <th></th>\n",
              "      <th>fixed acidity</th>\n",
              "      <th>volatile acidity</th>\n",
              "      <th>citric acid</th>\n",
              "      <th>residual sugar</th>\n",
              "      <th>chlorides</th>\n",
              "      <th>free sulfur dioxide</th>\n",
              "      <th>total sulfur dioxide</th>\n",
              "      <th>density</th>\n",
              "      <th>pH</th>\n",
              "      <th>sulphates</th>\n",
              "      <th>alcohol</th>\n",
              "      <th>quality</th>\n",
              "      <th>red_wine</th>\n",
              "    </tr>\n",
              "  </thead>\n",
              "  <tbody>\n",
              "    <tr>\n",
              "      <th>count</th>\n",
              "      <td>6497.000000</td>\n",
              "      <td>6497.000000</td>\n",
              "      <td>6497.000000</td>\n",
              "      <td>6497.000000</td>\n",
              "      <td>6497.000000</td>\n",
              "      <td>6497.000000</td>\n",
              "      <td>6497.000000</td>\n",
              "      <td>6497.000000</td>\n",
              "      <td>6497.000000</td>\n",
              "      <td>6497.000000</td>\n",
              "      <td>6497.000000</td>\n",
              "      <td>6497.000000</td>\n",
              "      <td>6497.000000</td>\n",
              "    </tr>\n",
              "    <tr>\n",
              "      <th>mean</th>\n",
              "      <td>7.215307</td>\n",
              "      <td>0.339666</td>\n",
              "      <td>0.318633</td>\n",
              "      <td>5.443235</td>\n",
              "      <td>0.056034</td>\n",
              "      <td>30.525319</td>\n",
              "      <td>115.744574</td>\n",
              "      <td>0.994697</td>\n",
              "      <td>3.218501</td>\n",
              "      <td>0.531268</td>\n",
              "      <td>10.491801</td>\n",
              "      <td>5.818378</td>\n",
              "      <td>0.246114</td>\n",
              "    </tr>\n",
              "    <tr>\n",
              "      <th>std</th>\n",
              "      <td>1.296434</td>\n",
              "      <td>0.164636</td>\n",
              "      <td>0.145318</td>\n",
              "      <td>4.757804</td>\n",
              "      <td>0.035034</td>\n",
              "      <td>17.749400</td>\n",
              "      <td>56.521855</td>\n",
              "      <td>0.002999</td>\n",
              "      <td>0.160787</td>\n",
              "      <td>0.148806</td>\n",
              "      <td>1.192712</td>\n",
              "      <td>0.873255</td>\n",
              "      <td>0.430779</td>\n",
              "    </tr>\n",
              "    <tr>\n",
              "      <th>min</th>\n",
              "      <td>3.800000</td>\n",
              "      <td>0.080000</td>\n",
              "      <td>0.000000</td>\n",
              "      <td>0.600000</td>\n",
              "      <td>0.009000</td>\n",
              "      <td>1.000000</td>\n",
              "      <td>6.000000</td>\n",
              "      <td>0.987110</td>\n",
              "      <td>2.720000</td>\n",
              "      <td>0.220000</td>\n",
              "      <td>8.000000</td>\n",
              "      <td>3.000000</td>\n",
              "      <td>0.000000</td>\n",
              "    </tr>\n",
              "    <tr>\n",
              "      <th>25%</th>\n",
              "      <td>6.400000</td>\n",
              "      <td>0.230000</td>\n",
              "      <td>0.250000</td>\n",
              "      <td>1.800000</td>\n",
              "      <td>0.038000</td>\n",
              "      <td>17.000000</td>\n",
              "      <td>77.000000</td>\n",
              "      <td>0.992340</td>\n",
              "      <td>3.110000</td>\n",
              "      <td>0.430000</td>\n",
              "      <td>9.500000</td>\n",
              "      <td>5.000000</td>\n",
              "      <td>0.000000</td>\n",
              "    </tr>\n",
              "    <tr>\n",
              "      <th>50%</th>\n",
              "      <td>7.000000</td>\n",
              "      <td>0.290000</td>\n",
              "      <td>0.310000</td>\n",
              "      <td>3.000000</td>\n",
              "      <td>0.047000</td>\n",
              "      <td>29.000000</td>\n",
              "      <td>118.000000</td>\n",
              "      <td>0.994890</td>\n",
              "      <td>3.210000</td>\n",
              "      <td>0.510000</td>\n",
              "      <td>10.300000</td>\n",
              "      <td>6.000000</td>\n",
              "      <td>0.000000</td>\n",
              "    </tr>\n",
              "    <tr>\n",
              "      <th>75%</th>\n",
              "      <td>7.700000</td>\n",
              "      <td>0.400000</td>\n",
              "      <td>0.390000</td>\n",
              "      <td>8.100000</td>\n",
              "      <td>0.065000</td>\n",
              "      <td>41.000000</td>\n",
              "      <td>156.000000</td>\n",
              "      <td>0.996990</td>\n",
              "      <td>3.320000</td>\n",
              "      <td>0.600000</td>\n",
              "      <td>11.300000</td>\n",
              "      <td>6.000000</td>\n",
              "      <td>0.000000</td>\n",
              "    </tr>\n",
              "    <tr>\n",
              "      <th>max</th>\n",
              "      <td>15.900000</td>\n",
              "      <td>1.580000</td>\n",
              "      <td>1.660000</td>\n",
              "      <td>65.800000</td>\n",
              "      <td>0.611000</td>\n",
              "      <td>289.000000</td>\n",
              "      <td>440.000000</td>\n",
              "      <td>1.038980</td>\n",
              "      <td>4.010000</td>\n",
              "      <td>2.000000</td>\n",
              "      <td>14.900000</td>\n",
              "      <td>9.000000</td>\n",
              "      <td>1.000000</td>\n",
              "    </tr>\n",
              "  </tbody>\n",
              "</table>\n",
              "</div>"
            ],
            "text/plain": [
              "       fixed acidity  volatile acidity  citric acid  residual sugar  \\\n",
              "count    6497.000000       6497.000000  6497.000000     6497.000000   \n",
              "mean        7.215307          0.339666     0.318633        5.443235   \n",
              "std         1.296434          0.164636     0.145318        4.757804   \n",
              "min         3.800000          0.080000     0.000000        0.600000   \n",
              "25%         6.400000          0.230000     0.250000        1.800000   \n",
              "50%         7.000000          0.290000     0.310000        3.000000   \n",
              "75%         7.700000          0.400000     0.390000        8.100000   \n",
              "max        15.900000          1.580000     1.660000       65.800000   \n",
              "\n",
              "         chlorides  free sulfur dioxide  total sulfur dioxide      density  \\\n",
              "count  6497.000000          6497.000000           6497.000000  6497.000000   \n",
              "mean      0.056034            30.525319            115.744574     0.994697   \n",
              "std       0.035034            17.749400             56.521855     0.002999   \n",
              "min       0.009000             1.000000              6.000000     0.987110   \n",
              "25%       0.038000            17.000000             77.000000     0.992340   \n",
              "50%       0.047000            29.000000            118.000000     0.994890   \n",
              "75%       0.065000            41.000000            156.000000     0.996990   \n",
              "max       0.611000           289.000000            440.000000     1.038980   \n",
              "\n",
              "                pH    sulphates      alcohol      quality     red_wine  \n",
              "count  6497.000000  6497.000000  6497.000000  6497.000000  6497.000000  \n",
              "mean      3.218501     0.531268    10.491801     5.818378     0.246114  \n",
              "std       0.160787     0.148806     1.192712     0.873255     0.430779  \n",
              "min       2.720000     0.220000     8.000000     3.000000     0.000000  \n",
              "25%       3.110000     0.430000     9.500000     5.000000     0.000000  \n",
              "50%       3.210000     0.510000    10.300000     6.000000     0.000000  \n",
              "75%       3.320000     0.600000    11.300000     6.000000     0.000000  \n",
              "max       4.010000     2.000000    14.900000     9.000000     1.000000  "
            ]
          },
          "execution_count": 37,
          "metadata": {},
          "output_type": "execute_result"
        }
      ],
      "source": [
        "wine.describe()"
      ]
    },
    {
      "cell_type": "markdown",
      "metadata": {
        "hidden": true,
        "id": "LH3hbA9oFfEX"
      },
      "source": [
        "Imagine we want to attempt to estimate the perceived quality of a wine using these attributes."
      ]
    },
    {
      "cell_type": "code",
      "execution_count": null,
      "metadata": {
        "hidden": true,
        "id": "yaavrWZqFfEX",
        "outputId": "3af8ee0b-b5c3-495d-b3c9-db366faafe20"
      },
      "outputs": [
        {
          "data": {
            "text/plain": [
              "6    2836\n",
              "5    2138\n",
              "7    1079\n",
              "4     216\n",
              "8     193\n",
              "3      30\n",
              "9       5\n",
              "Name: quality, dtype: int64"
            ]
          },
          "execution_count": 38,
          "metadata": {},
          "output_type": "execute_result"
        }
      ],
      "source": [
        "wine['quality'].value_counts()"
      ]
    },
    {
      "cell_type": "code",
      "execution_count": null,
      "metadata": {
        "hidden": true,
        "id": "4OZ7vjvXFfEX",
        "outputId": "967fe9eb-088b-4cb6-8c95-7af432701db7"
      },
      "outputs": [
        {
          "data": {
            "text/plain": [
              "0    4898\n",
              "1    1599\n",
              "Name: red_wine, dtype: int64"
            ]
          },
          "execution_count": 39,
          "metadata": {},
          "output_type": "execute_result"
        }
      ],
      "source": [
        "wine['red_wine'].value_counts()"
      ]
    },
    {
      "cell_type": "markdown",
      "metadata": {
        "heading_collapsed": true,
        "hidden": true,
        "id": "iR2oFHvnFfEX"
      },
      "source": [
        "## 🧠 **Knowledge Check**"
      ]
    },
    {
      "cell_type": "markdown",
      "metadata": {
        "hidden": true,
        "id": "DHZQGqL-FfEY"
      },
      "source": [
        "> Why are we using \"quality\" as the dependent variable (target)? Would it make sense for another feature to be the target instead?"
      ]
    },
    {
      "cell_type": "markdown",
      "metadata": {
        "heading_collapsed": true,
        "hidden": true,
        "id": "isK6-0fbFfEY"
      },
      "source": [
        "## Running the Regression"
      ]
    },
    {
      "cell_type": "markdown",
      "metadata": {
        "hidden": true,
        "id": "UiqNGzEDFfEY"
      },
      "source": [
        "First, we'll separate the data into our predictors (X) and target (y)"
      ]
    },
    {
      "cell_type": "code",
      "execution_count": null,
      "metadata": {
        "hidden": true,
        "scrolled": true,
        "id": "0eENzgNxFfEY",
        "outputId": "40c6b12b-801e-44d8-8221-30b6f5046b3d"
      },
      "outputs": [
        {
          "data": {
            "text/html": [
              "<div>\n",
              "<style scoped>\n",
              "    .dataframe tbody tr th:only-of-type {\n",
              "        vertical-align: middle;\n",
              "    }\n",
              "\n",
              "    .dataframe tbody tr th {\n",
              "        vertical-align: top;\n",
              "    }\n",
              "\n",
              "    .dataframe thead th {\n",
              "        text-align: right;\n",
              "    }\n",
              "</style>\n",
              "<table border=\"1\" class=\"dataframe\">\n",
              "  <thead>\n",
              "    <tr style=\"text-align: right;\">\n",
              "      <th></th>\n",
              "      <th>fixed acidity</th>\n",
              "      <th>volatile acidity</th>\n",
              "      <th>citric acid</th>\n",
              "      <th>residual sugar</th>\n",
              "      <th>chlorides</th>\n",
              "      <th>free sulfur dioxide</th>\n",
              "      <th>total sulfur dioxide</th>\n",
              "      <th>density</th>\n",
              "      <th>pH</th>\n",
              "      <th>sulphates</th>\n",
              "      <th>alcohol</th>\n",
              "      <th>red_wine</th>\n",
              "    </tr>\n",
              "  </thead>\n",
              "  <tbody>\n",
              "    <tr>\n",
              "      <th>0</th>\n",
              "      <td>7.4</td>\n",
              "      <td>0.70</td>\n",
              "      <td>0.00</td>\n",
              "      <td>1.9</td>\n",
              "      <td>0.076</td>\n",
              "      <td>11.0</td>\n",
              "      <td>34.0</td>\n",
              "      <td>0.9978</td>\n",
              "      <td>3.51</td>\n",
              "      <td>0.56</td>\n",
              "      <td>9.4</td>\n",
              "      <td>1</td>\n",
              "    </tr>\n",
              "    <tr>\n",
              "      <th>1</th>\n",
              "      <td>7.8</td>\n",
              "      <td>0.88</td>\n",
              "      <td>0.00</td>\n",
              "      <td>2.6</td>\n",
              "      <td>0.098</td>\n",
              "      <td>25.0</td>\n",
              "      <td>67.0</td>\n",
              "      <td>0.9968</td>\n",
              "      <td>3.20</td>\n",
              "      <td>0.68</td>\n",
              "      <td>9.8</td>\n",
              "      <td>1</td>\n",
              "    </tr>\n",
              "    <tr>\n",
              "      <th>2</th>\n",
              "      <td>7.8</td>\n",
              "      <td>0.76</td>\n",
              "      <td>0.04</td>\n",
              "      <td>2.3</td>\n",
              "      <td>0.092</td>\n",
              "      <td>15.0</td>\n",
              "      <td>54.0</td>\n",
              "      <td>0.9970</td>\n",
              "      <td>3.26</td>\n",
              "      <td>0.65</td>\n",
              "      <td>9.8</td>\n",
              "      <td>1</td>\n",
              "    </tr>\n",
              "    <tr>\n",
              "      <th>3</th>\n",
              "      <td>11.2</td>\n",
              "      <td>0.28</td>\n",
              "      <td>0.56</td>\n",
              "      <td>1.9</td>\n",
              "      <td>0.075</td>\n",
              "      <td>17.0</td>\n",
              "      <td>60.0</td>\n",
              "      <td>0.9980</td>\n",
              "      <td>3.16</td>\n",
              "      <td>0.58</td>\n",
              "      <td>9.8</td>\n",
              "      <td>1</td>\n",
              "    </tr>\n",
              "    <tr>\n",
              "      <th>4</th>\n",
              "      <td>7.4</td>\n",
              "      <td>0.70</td>\n",
              "      <td>0.00</td>\n",
              "      <td>1.9</td>\n",
              "      <td>0.076</td>\n",
              "      <td>11.0</td>\n",
              "      <td>34.0</td>\n",
              "      <td>0.9978</td>\n",
              "      <td>3.51</td>\n",
              "      <td>0.56</td>\n",
              "      <td>9.4</td>\n",
              "      <td>1</td>\n",
              "    </tr>\n",
              "  </tbody>\n",
              "</table>\n",
              "</div>"
            ],
            "text/plain": [
              "   fixed acidity  volatile acidity  citric acid  residual sugar  chlorides  \\\n",
              "0            7.4              0.70         0.00             1.9      0.076   \n",
              "1            7.8              0.88         0.00             2.6      0.098   \n",
              "2            7.8              0.76         0.04             2.3      0.092   \n",
              "3           11.2              0.28         0.56             1.9      0.075   \n",
              "4            7.4              0.70         0.00             1.9      0.076   \n",
              "\n",
              "   free sulfur dioxide  total sulfur dioxide  density    pH  sulphates  \\\n",
              "0                 11.0                  34.0   0.9978  3.51       0.56   \n",
              "1                 25.0                  67.0   0.9968  3.20       0.68   \n",
              "2                 15.0                  54.0   0.9970  3.26       0.65   \n",
              "3                 17.0                  60.0   0.9980  3.16       0.58   \n",
              "4                 11.0                  34.0   0.9978  3.51       0.56   \n",
              "\n",
              "   alcohol  red_wine  \n",
              "0      9.4         1  \n",
              "1      9.8         1  \n",
              "2      9.8         1  \n",
              "3      9.8         1  \n",
              "4      9.4         1  "
            ]
          },
          "execution_count": 40,
          "metadata": {},
          "output_type": "execute_result"
        }
      ],
      "source": [
        "wine_preds = wine.drop('quality', axis=1)\n",
        "wine_target = wine['quality']\n",
        "wine_preds.head()"
      ]
    },
    {
      "cell_type": "markdown",
      "metadata": {
        "hidden": true,
        "id": "s3pG4VSJFfEY"
      },
      "source": [
        "Now we can perform our (multiple) linear regression! Since we already used `statsmodels`, let's use that again to fit the model and then check the summary:"
      ]
    },
    {
      "cell_type": "code",
      "execution_count": null,
      "metadata": {
        "hidden": true,
        "id": "wGpncvNAFfEY",
        "outputId": "93d61080-182d-4234-efbe-4680a8cc8c45"
      },
      "outputs": [
        {
          "name": "stderr",
          "output_type": "stream",
          "text": [
            "/opt/conda/lib/python3.9/site-packages/statsmodels/tsa/tsatools.py:142: FutureWarning: In a future version of pandas all arguments of concat except for the argument 'objs' will be keyword-only\n",
            "  x = pd.concat(x[::order], 1)\n"
          ]
        },
        {
          "data": {
            "text/html": [
              "<div>\n",
              "<style scoped>\n",
              "    .dataframe tbody tr th:only-of-type {\n",
              "        vertical-align: middle;\n",
              "    }\n",
              "\n",
              "    .dataframe tbody tr th {\n",
              "        vertical-align: top;\n",
              "    }\n",
              "\n",
              "    .dataframe thead th {\n",
              "        text-align: right;\n",
              "    }\n",
              "</style>\n",
              "<table border=\"1\" class=\"dataframe\">\n",
              "  <thead>\n",
              "    <tr style=\"text-align: right;\">\n",
              "      <th></th>\n",
              "      <th>const</th>\n",
              "      <th>fixed acidity</th>\n",
              "      <th>volatile acidity</th>\n",
              "      <th>citric acid</th>\n",
              "      <th>residual sugar</th>\n",
              "      <th>chlorides</th>\n",
              "      <th>free sulfur dioxide</th>\n",
              "      <th>total sulfur dioxide</th>\n",
              "      <th>density</th>\n",
              "      <th>pH</th>\n",
              "      <th>sulphates</th>\n",
              "      <th>alcohol</th>\n",
              "      <th>red_wine</th>\n",
              "    </tr>\n",
              "  </thead>\n",
              "  <tbody>\n",
              "    <tr>\n",
              "      <th>0</th>\n",
              "      <td>1.0</td>\n",
              "      <td>7.4</td>\n",
              "      <td>0.70</td>\n",
              "      <td>0.00</td>\n",
              "      <td>1.9</td>\n",
              "      <td>0.076</td>\n",
              "      <td>11.0</td>\n",
              "      <td>34.0</td>\n",
              "      <td>0.99780</td>\n",
              "      <td>3.51</td>\n",
              "      <td>0.56</td>\n",
              "      <td>9.4</td>\n",
              "      <td>1</td>\n",
              "    </tr>\n",
              "    <tr>\n",
              "      <th>1</th>\n",
              "      <td>1.0</td>\n",
              "      <td>7.8</td>\n",
              "      <td>0.88</td>\n",
              "      <td>0.00</td>\n",
              "      <td>2.6</td>\n",
              "      <td>0.098</td>\n",
              "      <td>25.0</td>\n",
              "      <td>67.0</td>\n",
              "      <td>0.99680</td>\n",
              "      <td>3.20</td>\n",
              "      <td>0.68</td>\n",
              "      <td>9.8</td>\n",
              "      <td>1</td>\n",
              "    </tr>\n",
              "    <tr>\n",
              "      <th>2</th>\n",
              "      <td>1.0</td>\n",
              "      <td>7.8</td>\n",
              "      <td>0.76</td>\n",
              "      <td>0.04</td>\n",
              "      <td>2.3</td>\n",
              "      <td>0.092</td>\n",
              "      <td>15.0</td>\n",
              "      <td>54.0</td>\n",
              "      <td>0.99700</td>\n",
              "      <td>3.26</td>\n",
              "      <td>0.65</td>\n",
              "      <td>9.8</td>\n",
              "      <td>1</td>\n",
              "    </tr>\n",
              "    <tr>\n",
              "      <th>3</th>\n",
              "      <td>1.0</td>\n",
              "      <td>11.2</td>\n",
              "      <td>0.28</td>\n",
              "      <td>0.56</td>\n",
              "      <td>1.9</td>\n",
              "      <td>0.075</td>\n",
              "      <td>17.0</td>\n",
              "      <td>60.0</td>\n",
              "      <td>0.99800</td>\n",
              "      <td>3.16</td>\n",
              "      <td>0.58</td>\n",
              "      <td>9.8</td>\n",
              "      <td>1</td>\n",
              "    </tr>\n",
              "    <tr>\n",
              "      <th>4</th>\n",
              "      <td>1.0</td>\n",
              "      <td>7.4</td>\n",
              "      <td>0.70</td>\n",
              "      <td>0.00</td>\n",
              "      <td>1.9</td>\n",
              "      <td>0.076</td>\n",
              "      <td>11.0</td>\n",
              "      <td>34.0</td>\n",
              "      <td>0.99780</td>\n",
              "      <td>3.51</td>\n",
              "      <td>0.56</td>\n",
              "      <td>9.4</td>\n",
              "      <td>1</td>\n",
              "    </tr>\n",
              "    <tr>\n",
              "      <th>...</th>\n",
              "      <td>...</td>\n",
              "      <td>...</td>\n",
              "      <td>...</td>\n",
              "      <td>...</td>\n",
              "      <td>...</td>\n",
              "      <td>...</td>\n",
              "      <td>...</td>\n",
              "      <td>...</td>\n",
              "      <td>...</td>\n",
              "      <td>...</td>\n",
              "      <td>...</td>\n",
              "      <td>...</td>\n",
              "      <td>...</td>\n",
              "    </tr>\n",
              "    <tr>\n",
              "      <th>6492</th>\n",
              "      <td>1.0</td>\n",
              "      <td>6.2</td>\n",
              "      <td>0.21</td>\n",
              "      <td>0.29</td>\n",
              "      <td>1.6</td>\n",
              "      <td>0.039</td>\n",
              "      <td>24.0</td>\n",
              "      <td>92.0</td>\n",
              "      <td>0.99114</td>\n",
              "      <td>3.27</td>\n",
              "      <td>0.50</td>\n",
              "      <td>11.2</td>\n",
              "      <td>0</td>\n",
              "    </tr>\n",
              "    <tr>\n",
              "      <th>6493</th>\n",
              "      <td>1.0</td>\n",
              "      <td>6.6</td>\n",
              "      <td>0.32</td>\n",
              "      <td>0.36</td>\n",
              "      <td>8.0</td>\n",
              "      <td>0.047</td>\n",
              "      <td>57.0</td>\n",
              "      <td>168.0</td>\n",
              "      <td>0.99490</td>\n",
              "      <td>3.15</td>\n",
              "      <td>0.46</td>\n",
              "      <td>9.6</td>\n",
              "      <td>0</td>\n",
              "    </tr>\n",
              "    <tr>\n",
              "      <th>6494</th>\n",
              "      <td>1.0</td>\n",
              "      <td>6.5</td>\n",
              "      <td>0.24</td>\n",
              "      <td>0.19</td>\n",
              "      <td>1.2</td>\n",
              "      <td>0.041</td>\n",
              "      <td>30.0</td>\n",
              "      <td>111.0</td>\n",
              "      <td>0.99254</td>\n",
              "      <td>2.99</td>\n",
              "      <td>0.46</td>\n",
              "      <td>9.4</td>\n",
              "      <td>0</td>\n",
              "    </tr>\n",
              "    <tr>\n",
              "      <th>6495</th>\n",
              "      <td>1.0</td>\n",
              "      <td>5.5</td>\n",
              "      <td>0.29</td>\n",
              "      <td>0.30</td>\n",
              "      <td>1.1</td>\n",
              "      <td>0.022</td>\n",
              "      <td>20.0</td>\n",
              "      <td>110.0</td>\n",
              "      <td>0.98869</td>\n",
              "      <td>3.34</td>\n",
              "      <td>0.38</td>\n",
              "      <td>12.8</td>\n",
              "      <td>0</td>\n",
              "    </tr>\n",
              "    <tr>\n",
              "      <th>6496</th>\n",
              "      <td>1.0</td>\n",
              "      <td>6.0</td>\n",
              "      <td>0.21</td>\n",
              "      <td>0.38</td>\n",
              "      <td>0.8</td>\n",
              "      <td>0.020</td>\n",
              "      <td>22.0</td>\n",
              "      <td>98.0</td>\n",
              "      <td>0.98941</td>\n",
              "      <td>3.26</td>\n",
              "      <td>0.32</td>\n",
              "      <td>11.8</td>\n",
              "      <td>0</td>\n",
              "    </tr>\n",
              "  </tbody>\n",
              "</table>\n",
              "<p>6497 rows × 13 columns</p>\n",
              "</div>"
            ],
            "text/plain": [
              "      const  fixed acidity  volatile acidity  citric acid  residual sugar  \\\n",
              "0       1.0            7.4              0.70         0.00             1.9   \n",
              "1       1.0            7.8              0.88         0.00             2.6   \n",
              "2       1.0            7.8              0.76         0.04             2.3   \n",
              "3       1.0           11.2              0.28         0.56             1.9   \n",
              "4       1.0            7.4              0.70         0.00             1.9   \n",
              "...     ...            ...               ...          ...             ...   \n",
              "6492    1.0            6.2              0.21         0.29             1.6   \n",
              "6493    1.0            6.6              0.32         0.36             8.0   \n",
              "6494    1.0            6.5              0.24         0.19             1.2   \n",
              "6495    1.0            5.5              0.29         0.30             1.1   \n",
              "6496    1.0            6.0              0.21         0.38             0.8   \n",
              "\n",
              "      chlorides  free sulfur dioxide  total sulfur dioxide  density    pH  \\\n",
              "0         0.076                 11.0                  34.0  0.99780  3.51   \n",
              "1         0.098                 25.0                  67.0  0.99680  3.20   \n",
              "2         0.092                 15.0                  54.0  0.99700  3.26   \n",
              "3         0.075                 17.0                  60.0  0.99800  3.16   \n",
              "4         0.076                 11.0                  34.0  0.99780  3.51   \n",
              "...         ...                  ...                   ...      ...   ...   \n",
              "6492      0.039                 24.0                  92.0  0.99114  3.27   \n",
              "6493      0.047                 57.0                 168.0  0.99490  3.15   \n",
              "6494      0.041                 30.0                 111.0  0.99254  2.99   \n",
              "6495      0.022                 20.0                 110.0  0.98869  3.34   \n",
              "6496      0.020                 22.0                  98.0  0.98941  3.26   \n",
              "\n",
              "      sulphates  alcohol  red_wine  \n",
              "0          0.56      9.4         1  \n",
              "1          0.68      9.8         1  \n",
              "2          0.65      9.8         1  \n",
              "3          0.58      9.8         1  \n",
              "4          0.56      9.4         1  \n",
              "...         ...      ...       ...  \n",
              "6492       0.50     11.2         0  \n",
              "6493       0.46      9.6         0  \n",
              "6494       0.46      9.4         0  \n",
              "6495       0.38     12.8         0  \n",
              "6496       0.32     11.8         0  \n",
              "\n",
              "[6497 rows x 13 columns]"
            ]
          },
          "execution_count": 41,
          "metadata": {},
          "output_type": "execute_result"
        }
      ],
      "source": [
        "# use sm.add_constant() to add constant term/y-intercept\n",
        "predictors = sm.add_constant(wine_preds)\n",
        "predictors"
      ]
    },
    {
      "cell_type": "code",
      "execution_count": null,
      "metadata": {
        "hidden": true,
        "id": "72idHTLpFfEY"
      },
      "outputs": [],
      "source": [
        "model = sm.OLS(wine_target, predictors).fit()"
      ]
    },
    {
      "cell_type": "markdown",
      "metadata": {
        "hidden": true,
        "id": "esyGZ1h8FfEY"
      },
      "source": [
        "> All right! So we fitted our model! Take a look at the summary and look if you can understand the different parts."
      ]
    },
    {
      "cell_type": "code",
      "execution_count": null,
      "metadata": {
        "hidden": true,
        "id": "d3Fdk2-cFfEY",
        "outputId": "b5e365fd-71f0-4b4d-9aea-93a2e6aa66b1"
      },
      "outputs": [
        {
          "data": {
            "text/html": [
              "<table class=\"simpletable\">\n",
              "<caption>OLS Regression Results</caption>\n",
              "<tr>\n",
              "  <th>Dep. Variable:</th>         <td>quality</td>     <th>  R-squared:         </th> <td>   0.297</td> \n",
              "</tr>\n",
              "<tr>\n",
              "  <th>Model:</th>                   <td>OLS</td>       <th>  Adj. R-squared:    </th> <td>   0.295</td> \n",
              "</tr>\n",
              "<tr>\n",
              "  <th>Method:</th>             <td>Least Squares</td>  <th>  F-statistic:       </th> <td>   227.8</td> \n",
              "</tr>\n",
              "<tr>\n",
              "  <th>Date:</th>             <td>Tue, 30 Aug 2022</td> <th>  Prob (F-statistic):</th>  <td>  0.00</td>  \n",
              "</tr>\n",
              "<tr>\n",
              "  <th>Time:</th>                 <td>23:23:15</td>     <th>  Log-Likelihood:    </th> <td> -7195.2</td> \n",
              "</tr>\n",
              "<tr>\n",
              "  <th>No. Observations:</th>      <td>  6497</td>      <th>  AIC:               </th> <td>1.442e+04</td>\n",
              "</tr>\n",
              "<tr>\n",
              "  <th>Df Residuals:</th>          <td>  6484</td>      <th>  BIC:               </th> <td>1.450e+04</td>\n",
              "</tr>\n",
              "<tr>\n",
              "  <th>Df Model:</th>              <td>    12</td>      <th>                     </th>     <td> </td>    \n",
              "</tr>\n",
              "<tr>\n",
              "  <th>Covariance Type:</th>      <td>nonrobust</td>    <th>                     </th>     <td> </td>    \n",
              "</tr>\n",
              "</table>\n",
              "<table class=\"simpletable\">\n",
              "<tr>\n",
              "            <td></td>              <th>coef</th>     <th>std err</th>      <th>t</th>      <th>P>|t|</th>  <th>[0.025</th>    <th>0.975]</th>  \n",
              "</tr>\n",
              "<tr>\n",
              "  <th>const</th>                <td>  104.3904</td> <td>   14.105</td> <td>    7.401</td> <td> 0.000</td> <td>   76.741</td> <td>  132.040</td>\n",
              "</tr>\n",
              "<tr>\n",
              "  <th>fixed acidity</th>        <td>    0.0851</td> <td>    0.016</td> <td>    5.396</td> <td> 0.000</td> <td>    0.054</td> <td>    0.116</td>\n",
              "</tr>\n",
              "<tr>\n",
              "  <th>volatile acidity</th>     <td>   -1.4924</td> <td>    0.081</td> <td>  -18.345</td> <td> 0.000</td> <td>   -1.652</td> <td>   -1.333</td>\n",
              "</tr>\n",
              "<tr>\n",
              "  <th>citric acid</th>          <td>   -0.0626</td> <td>    0.080</td> <td>   -0.786</td> <td> 0.432</td> <td>   -0.219</td> <td>    0.094</td>\n",
              "</tr>\n",
              "<tr>\n",
              "  <th>residual sugar</th>       <td>    0.0624</td> <td>    0.006</td> <td>   10.522</td> <td> 0.000</td> <td>    0.051</td> <td>    0.074</td>\n",
              "</tr>\n",
              "<tr>\n",
              "  <th>chlorides</th>            <td>   -0.7573</td> <td>    0.334</td> <td>   -2.264</td> <td> 0.024</td> <td>   -1.413</td> <td>   -0.102</td>\n",
              "</tr>\n",
              "<tr>\n",
              "  <th>free sulfur dioxide</th>  <td>    0.0049</td> <td>    0.001</td> <td>    6.443</td> <td> 0.000</td> <td>    0.003</td> <td>    0.006</td>\n",
              "</tr>\n",
              "<tr>\n",
              "  <th>total sulfur dioxide</th> <td>   -0.0014</td> <td>    0.000</td> <td>   -4.333</td> <td> 0.000</td> <td>   -0.002</td> <td>   -0.001</td>\n",
              "</tr>\n",
              "<tr>\n",
              "  <th>density</th>              <td> -103.9096</td> <td>   14.336</td> <td>   -7.248</td> <td> 0.000</td> <td> -132.013</td> <td>  -75.806</td>\n",
              "</tr>\n",
              "<tr>\n",
              "  <th>pH</th>                   <td>    0.4988</td> <td>    0.091</td> <td>    5.506</td> <td> 0.000</td> <td>    0.321</td> <td>    0.676</td>\n",
              "</tr>\n",
              "<tr>\n",
              "  <th>sulphates</th>            <td>    0.7217</td> <td>    0.076</td> <td>    9.466</td> <td> 0.000</td> <td>    0.572</td> <td>    0.871</td>\n",
              "</tr>\n",
              "<tr>\n",
              "  <th>alcohol</th>              <td>    0.2227</td> <td>    0.018</td> <td>   12.320</td> <td> 0.000</td> <td>    0.187</td> <td>    0.258</td>\n",
              "</tr>\n",
              "<tr>\n",
              "  <th>red_wine</th>             <td>    0.3613</td> <td>    0.057</td> <td>    6.367</td> <td> 0.000</td> <td>    0.250</td> <td>    0.473</td>\n",
              "</tr>\n",
              "</table>\n",
              "<table class=\"simpletable\">\n",
              "<tr>\n",
              "  <th>Omnibus:</th>       <td>140.992</td> <th>  Durbin-Watson:     </th> <td>   1.648</td>\n",
              "</tr>\n",
              "<tr>\n",
              "  <th>Prob(Omnibus):</th> <td> 0.000</td>  <th>  Jarque-Bera (JB):  </th> <td> 313.985</td>\n",
              "</tr>\n",
              "<tr>\n",
              "  <th>Skew:</th>          <td> 0.016</td>  <th>  Prob(JB):          </th> <td>6.59e-69</td>\n",
              "</tr>\n",
              "<tr>\n",
              "  <th>Kurtosis:</th>      <td> 4.077</td>  <th>  Cond. No.          </th> <td>2.96e+05</td>\n",
              "</tr>\n",
              "</table><br/><br/>Notes:<br/>[1] Standard Errors assume that the covariance matrix of the errors is correctly specified.<br/>[2] The condition number is large, 2.96e+05. This might indicate that there are<br/>strong multicollinearity or other numerical problems."
            ],
            "text/plain": [
              "<class 'statsmodels.iolib.summary.Summary'>\n",
              "\"\"\"\n",
              "                            OLS Regression Results                            \n",
              "==============================================================================\n",
              "Dep. Variable:                quality   R-squared:                       0.297\n",
              "Model:                            OLS   Adj. R-squared:                  0.295\n",
              "Method:                 Least Squares   F-statistic:                     227.8\n",
              "Date:                Tue, 30 Aug 2022   Prob (F-statistic):               0.00\n",
              "Time:                        23:23:15   Log-Likelihood:                -7195.2\n",
              "No. Observations:                6497   AIC:                         1.442e+04\n",
              "Df Residuals:                    6484   BIC:                         1.450e+04\n",
              "Df Model:                          12                                         \n",
              "Covariance Type:            nonrobust                                         \n",
              "========================================================================================\n",
              "                           coef    std err          t      P>|t|      [0.025      0.975]\n",
              "----------------------------------------------------------------------------------------\n",
              "const                  104.3904     14.105      7.401      0.000      76.741     132.040\n",
              "fixed acidity            0.0851      0.016      5.396      0.000       0.054       0.116\n",
              "volatile acidity        -1.4924      0.081    -18.345      0.000      -1.652      -1.333\n",
              "citric acid             -0.0626      0.080     -0.786      0.432      -0.219       0.094\n",
              "residual sugar           0.0624      0.006     10.522      0.000       0.051       0.074\n",
              "chlorides               -0.7573      0.334     -2.264      0.024      -1.413      -0.102\n",
              "free sulfur dioxide      0.0049      0.001      6.443      0.000       0.003       0.006\n",
              "total sulfur dioxide    -0.0014      0.000     -4.333      0.000      -0.002      -0.001\n",
              "density               -103.9096     14.336     -7.248      0.000    -132.013     -75.806\n",
              "pH                       0.4988      0.091      5.506      0.000       0.321       0.676\n",
              "sulphates                0.7217      0.076      9.466      0.000       0.572       0.871\n",
              "alcohol                  0.2227      0.018     12.320      0.000       0.187       0.258\n",
              "red_wine                 0.3613      0.057      6.367      0.000       0.250       0.473\n",
              "==============================================================================\n",
              "Omnibus:                      140.992   Durbin-Watson:                   1.648\n",
              "Prob(Omnibus):                  0.000   Jarque-Bera (JB):              313.985\n",
              "Skew:                           0.016   Prob(JB):                     6.59e-69\n",
              "Kurtosis:                       4.077   Cond. No.                     2.96e+05\n",
              "==============================================================================\n",
              "\n",
              "Notes:\n",
              "[1] Standard Errors assume that the covariance matrix of the errors is correctly specified.\n",
              "[2] The condition number is large, 2.96e+05. This might indicate that there are\n",
              "strong multicollinearity or other numerical problems.\n",
              "\"\"\""
            ]
          },
          "execution_count": 43,
          "metadata": {},
          "output_type": "execute_result"
        }
      ],
      "source": [
        "model.summary()"
      ]
    },
    {
      "cell_type": "markdown",
      "metadata": {
        "heading_collapsed": true,
        "id": "fsnH7revFfEZ"
      },
      "source": [
        "# Scaling - The Missing & Helpful Step"
      ]
    },
    {
      "cell_type": "markdown",
      "metadata": {
        "hidden": true,
        "id": "uDcS3NyTFfEZ"
      },
      "source": [
        "When you looked at the summary after we did the linear regression, you might have noticed something interesting.\n",
        "\n",
        "Observing the coefficients, you might notice there are two relatively large coefficients and nearly rest are less than 1."
      ]
    },
    {
      "cell_type": "markdown",
      "metadata": {
        "heading_collapsed": true,
        "hidden": true,
        "id": "0eJ9vWm2FfEZ"
      },
      "source": [
        "## What's Going on Here?"
      ]
    },
    {
      "cell_type": "markdown",
      "metadata": {
        "hidden": true,
        "id": "gdItgoP8FfEZ"
      },
      "source": [
        "In a word, it's useful to have all of our variables be on the same scale, so that the resulting coefficients are easier to interpret. If the scales of the variables are very different one from another, then some of the coefficients may end up on very large or very tiny scales."
      ]
    },
    {
      "cell_type": "markdown",
      "metadata": {
        "hidden": true,
        "id": "Qtd5TRccFfEZ"
      },
      "source": [
        "This happens since the coefficients will effectively attempt to \"shrink\" or \"expand\" the features before factoring their importance to the model."
      ]
    },
    {
      "cell_type": "markdown",
      "metadata": {
        "hidden": true,
        "id": "h1uf3Z_BFfEZ"
      },
      "source": [
        "![](./images/shrinkinator.jpeg)"
      ]
    },
    {
      "cell_type": "markdown",
      "metadata": {
        "hidden": true,
        "id": "AhNeI2GwFfEZ"
      },
      "source": [
        "This can make it more difficult for interpretation and identifying coefficients with the most \"effect\" on the prediction."
      ]
    },
    {
      "cell_type": "markdown",
      "metadata": {
        "hidden": true,
        "id": "I_PRQ4iMFfEZ"
      },
      "source": [
        "For more on this, see [this post](https://stats.stackexchange.com/questions/32649/some-of-my-predictors-are-on-very-different-scales-do-i-need-to-transform-them)."
      ]
    },
    {
      "cell_type": "markdown",
      "metadata": {
        "heading_collapsed": true,
        "hidden": true,
        "id": "IpDQBvMsFfEZ"
      },
      "source": [
        "## A Solution: Standard Scaling"
      ]
    },
    {
      "cell_type": "markdown",
      "metadata": {
        "hidden": true,
        "id": "Lb6Gng1mFfEZ"
      },
      "source": [
        "One solution is to *scale* our features. There are a few ways to do this but we'll focus on **standard scaling**."
      ]
    },
    {
      "cell_type": "markdown",
      "metadata": {
        "hidden": true,
        "id": "CunQOWuJFfEZ"
      },
      "source": [
        "When we do **standard scaling**, we're really scaling it to be the features' respective $z$-scores."
      ]
    },
    {
      "cell_type": "markdown",
      "metadata": {
        "hidden": true,
        "id": "6y7ION9jFfEZ"
      },
      "source": [
        "Benefits:\n",
        "\n",
        "- This tends to make values relatively small (mean value is at $0$ and one standard deviation $\\sigma$ from the mean is $1$).\n",
        "- Easier interpretation: larger coefficients tend to be more influential"
      ]
    },
    {
      "cell_type": "markdown",
      "metadata": {
        "hidden": true,
        "id": "n40MOkN0FfEZ"
      },
      "source": [
        "Next time, let's *scale* our columns as $z$-scores first. "
      ]
    },
    {
      "cell_type": "markdown",
      "metadata": {
        "heading_collapsed": true,
        "hidden": true,
        "id": "Q-5KNKALFfEZ"
      },
      "source": [
        "##  Redoing with Standard Scaling"
      ]
    },
    {
      "cell_type": "markdown",
      "metadata": {
        "hidden": true,
        "id": "4HSMowoZFfEZ"
      },
      "source": [
        "Let's try standard scaling the model with our wine dataset now."
      ]
    },
    {
      "cell_type": "code",
      "execution_count": null,
      "metadata": {
        "hidden": true,
        "id": "drAo7-YfFfEa"
      },
      "outputs": [],
      "source": [
        "# We'll include all the columns for now.\n",
        "\n",
        "\n",
        "wine_preds_scaled = (wine_preds - np.mean(wine_preds)) / np.std(wine_preds)"
      ]
    },
    {
      "cell_type": "code",
      "execution_count": null,
      "metadata": {
        "hidden": true,
        "scrolled": true,
        "id": "WmhGuWoDFfEa",
        "outputId": "7eb9bc35-ca46-4c95-9819-a00fac97fd10"
      },
      "outputs": [
        {
          "data": {
            "text/html": [
              "<div>\n",
              "<style scoped>\n",
              "    .dataframe tbody tr th:only-of-type {\n",
              "        vertical-align: middle;\n",
              "    }\n",
              "\n",
              "    .dataframe tbody tr th {\n",
              "        vertical-align: top;\n",
              "    }\n",
              "\n",
              "    .dataframe thead th {\n",
              "        text-align: right;\n",
              "    }\n",
              "</style>\n",
              "<table border=\"1\" class=\"dataframe\">\n",
              "  <thead>\n",
              "    <tr style=\"text-align: right;\">\n",
              "      <th></th>\n",
              "      <th>fixed acidity</th>\n",
              "      <th>volatile acidity</th>\n",
              "      <th>citric acid</th>\n",
              "      <th>residual sugar</th>\n",
              "      <th>chlorides</th>\n",
              "      <th>free sulfur dioxide</th>\n",
              "      <th>total sulfur dioxide</th>\n",
              "      <th>density</th>\n",
              "      <th>pH</th>\n",
              "      <th>sulphates</th>\n",
              "      <th>alcohol</th>\n",
              "      <th>red_wine</th>\n",
              "    </tr>\n",
              "  </thead>\n",
              "  <tbody>\n",
              "    <tr>\n",
              "      <th>count</th>\n",
              "      <td>6.497000e+03</td>\n",
              "      <td>6.497000e+03</td>\n",
              "      <td>6.497000e+03</td>\n",
              "      <td>6.497000e+03</td>\n",
              "      <td>6.497000e+03</td>\n",
              "      <td>6.497000e+03</td>\n",
              "      <td>6.497000e+03</td>\n",
              "      <td>6.497000e+03</td>\n",
              "      <td>6.497000e+03</td>\n",
              "      <td>6.497000e+03</td>\n",
              "      <td>6.497000e+03</td>\n",
              "      <td>6.497000e+03</td>\n",
              "    </tr>\n",
              "    <tr>\n",
              "      <th>mean</th>\n",
              "      <td>1.014577e-14</td>\n",
              "      <td>-2.676336e-14</td>\n",
              "      <td>4.830012e-14</td>\n",
              "      <td>-2.203392e-15</td>\n",
              "      <td>1.208747e-14</td>\n",
              "      <td>1.714865e-15</td>\n",
              "      <td>-1.003020e-15</td>\n",
              "      <td>2.254710e-12</td>\n",
              "      <td>-3.333153e-14</td>\n",
              "      <td>-5.293322e-15</td>\n",
              "      <td>-1.200326e-14</td>\n",
              "      <td>1.064102e-14</td>\n",
              "    </tr>\n",
              "    <tr>\n",
              "      <th>std</th>\n",
              "      <td>1.000077e+00</td>\n",
              "      <td>1.000077e+00</td>\n",
              "      <td>1.000077e+00</td>\n",
              "      <td>1.000077e+00</td>\n",
              "      <td>1.000077e+00</td>\n",
              "      <td>1.000077e+00</td>\n",
              "      <td>1.000077e+00</td>\n",
              "      <td>1.000077e+00</td>\n",
              "      <td>1.000077e+00</td>\n",
              "      <td>1.000077e+00</td>\n",
              "      <td>1.000077e+00</td>\n",
              "      <td>1.000077e+00</td>\n",
              "    </tr>\n",
              "    <tr>\n",
              "      <th>min</th>\n",
              "      <td>-2.634589e+00</td>\n",
              "      <td>-1.577330e+00</td>\n",
              "      <td>-2.192833e+00</td>\n",
              "      <td>-1.018034e+00</td>\n",
              "      <td>-1.342639e+00</td>\n",
              "      <td>-1.663583e+00</td>\n",
              "      <td>-1.941780e+00</td>\n",
              "      <td>-2.530192e+00</td>\n",
              "      <td>-3.100615e+00</td>\n",
              "      <td>-2.091935e+00</td>\n",
              "      <td>-2.089350e+00</td>\n",
              "      <td>-5.713666e-01</td>\n",
              "    </tr>\n",
              "    <tr>\n",
              "      <th>25%</th>\n",
              "      <td>-6.289329e-01</td>\n",
              "      <td>-6.661613e-01</td>\n",
              "      <td>-4.723335e-01</td>\n",
              "      <td>-7.657978e-01</td>\n",
              "      <td>-5.147986e-01</td>\n",
              "      <td>-7.620742e-01</td>\n",
              "      <td>-6.855323e-01</td>\n",
              "      <td>-7.859527e-01</td>\n",
              "      <td>-6.748622e-01</td>\n",
              "      <td>-6.805919e-01</td>\n",
              "      <td>-8.316152e-01</td>\n",
              "      <td>-5.713666e-01</td>\n",
              "    </tr>\n",
              "    <tr>\n",
              "      <th>50%</th>\n",
              "      <td>-1.660892e-01</td>\n",
              "      <td>-3.016939e-01</td>\n",
              "      <td>-5.941375e-02</td>\n",
              "      <td>-5.135612e-01</td>\n",
              "      <td>-2.578826e-01</td>\n",
              "      <td>-8.594301e-02</td>\n",
              "      <td>3.990667e-02</td>\n",
              "      <td>6.448888e-02</td>\n",
              "      <td>-5.287424e-02</td>\n",
              "      <td>-1.429373e-01</td>\n",
              "      <td>-1.608231e-01</td>\n",
              "      <td>-5.713666e-01</td>\n",
              "    </tr>\n",
              "    <tr>\n",
              "      <th>75%</th>\n",
              "      <td>3.738951e-01</td>\n",
              "      <td>3.664962e-01</td>\n",
              "      <td>4.911459e-01</td>\n",
              "      <td>5.584445e-01</td>\n",
              "      <td>2.559494e-01</td>\n",
              "      <td>5.901882e-01</td>\n",
              "      <td>7.122647e-01</td>\n",
              "      <td>7.648525e-01</td>\n",
              "      <td>6.313125e-01</td>\n",
              "      <td>4.619241e-01</td>\n",
              "      <td>6.776670e-01</td>\n",
              "      <td>-5.713666e-01</td>\n",
              "    </tr>\n",
              "    <tr>\n",
              "      <th>max</th>\n",
              "      <td>6.699425e+00</td>\n",
              "      <td>7.534354e+00</td>\n",
              "      <td>9.231281e+00</td>\n",
              "      <td>1.268682e+01</td>\n",
              "      <td>1.584219e+01</td>\n",
              "      <td>1.456357e+01</td>\n",
              "      <td>5.737257e+00</td>\n",
              "      <td>1.476879e+01</td>\n",
              "      <td>4.923029e+00</td>\n",
              "      <td>9.870879e+00</td>\n",
              "      <td>3.696231e+00</td>\n",
              "      <td>1.750190e+00</td>\n",
              "    </tr>\n",
              "  </tbody>\n",
              "</table>\n",
              "</div>"
            ],
            "text/plain": [
              "       fixed acidity  volatile acidity   citric acid  residual sugar  \\\n",
              "count   6.497000e+03      6.497000e+03  6.497000e+03    6.497000e+03   \n",
              "mean    1.014577e-14     -2.676336e-14  4.830012e-14   -2.203392e-15   \n",
              "std     1.000077e+00      1.000077e+00  1.000077e+00    1.000077e+00   \n",
              "min    -2.634589e+00     -1.577330e+00 -2.192833e+00   -1.018034e+00   \n",
              "25%    -6.289329e-01     -6.661613e-01 -4.723335e-01   -7.657978e-01   \n",
              "50%    -1.660892e-01     -3.016939e-01 -5.941375e-02   -5.135612e-01   \n",
              "75%     3.738951e-01      3.664962e-01  4.911459e-01    5.584445e-01   \n",
              "max     6.699425e+00      7.534354e+00  9.231281e+00    1.268682e+01   \n",
              "\n",
              "          chlorides  free sulfur dioxide  total sulfur dioxide       density  \\\n",
              "count  6.497000e+03         6.497000e+03          6.497000e+03  6.497000e+03   \n",
              "mean   1.208747e-14         1.714865e-15         -1.003020e-15  2.254710e-12   \n",
              "std    1.000077e+00         1.000077e+00          1.000077e+00  1.000077e+00   \n",
              "min   -1.342639e+00        -1.663583e+00         -1.941780e+00 -2.530192e+00   \n",
              "25%   -5.147986e-01        -7.620742e-01         -6.855323e-01 -7.859527e-01   \n",
              "50%   -2.578826e-01        -8.594301e-02          3.990667e-02  6.448888e-02   \n",
              "75%    2.559494e-01         5.901882e-01          7.122647e-01  7.648525e-01   \n",
              "max    1.584219e+01         1.456357e+01          5.737257e+00  1.476879e+01   \n",
              "\n",
              "                 pH     sulphates       alcohol      red_wine  \n",
              "count  6.497000e+03  6.497000e+03  6.497000e+03  6.497000e+03  \n",
              "mean  -3.333153e-14 -5.293322e-15 -1.200326e-14  1.064102e-14  \n",
              "std    1.000077e+00  1.000077e+00  1.000077e+00  1.000077e+00  \n",
              "min   -3.100615e+00 -2.091935e+00 -2.089350e+00 -5.713666e-01  \n",
              "25%   -6.748622e-01 -6.805919e-01 -8.316152e-01 -5.713666e-01  \n",
              "50%   -5.287424e-02 -1.429373e-01 -1.608231e-01 -5.713666e-01  \n",
              "75%    6.313125e-01  4.619241e-01  6.776670e-01 -5.713666e-01  \n",
              "max    4.923029e+00  9.870879e+00  3.696231e+00  1.750190e+00  "
            ]
          },
          "execution_count": 45,
          "metadata": {},
          "output_type": "execute_result"
        }
      ],
      "source": [
        "wine_preds_scaled.describe()"
      ]
    },
    {
      "cell_type": "code",
      "execution_count": null,
      "metadata": {
        "hidden": true,
        "scrolled": true,
        "id": "R0Wc314yFfEa",
        "outputId": "58db9dd5-0acf-414f-8b06-97c36e3788a7"
      },
      "outputs": [
        {
          "name": "stderr",
          "output_type": "stream",
          "text": [
            "/opt/conda/lib/python3.9/site-packages/statsmodels/tsa/tsatools.py:142: FutureWarning: In a future version of pandas all arguments of concat except for the argument 'objs' will be keyword-only\n",
            "  x = pd.concat(x[::order], 1)\n"
          ]
        },
        {
          "data": {
            "text/html": [
              "<table class=\"simpletable\">\n",
              "<caption>OLS Regression Results</caption>\n",
              "<tr>\n",
              "  <th>Dep. Variable:</th>         <td>quality</td>     <th>  R-squared:         </th> <td>   0.297</td> \n",
              "</tr>\n",
              "<tr>\n",
              "  <th>Model:</th>                   <td>OLS</td>       <th>  Adj. R-squared:    </th> <td>   0.295</td> \n",
              "</tr>\n",
              "<tr>\n",
              "  <th>Method:</th>             <td>Least Squares</td>  <th>  F-statistic:       </th> <td>   227.8</td> \n",
              "</tr>\n",
              "<tr>\n",
              "  <th>Date:</th>             <td>Tue, 30 Aug 2022</td> <th>  Prob (F-statistic):</th>  <td>  0.00</td>  \n",
              "</tr>\n",
              "<tr>\n",
              "  <th>Time:</th>                 <td>23:23:16</td>     <th>  Log-Likelihood:    </th> <td> -7195.2</td> \n",
              "</tr>\n",
              "<tr>\n",
              "  <th>No. Observations:</th>      <td>  6497</td>      <th>  AIC:               </th> <td>1.442e+04</td>\n",
              "</tr>\n",
              "<tr>\n",
              "  <th>Df Residuals:</th>          <td>  6484</td>      <th>  BIC:               </th> <td>1.450e+04</td>\n",
              "</tr>\n",
              "<tr>\n",
              "  <th>Df Model:</th>              <td>    12</td>      <th>                     </th>     <td> </td>    \n",
              "</tr>\n",
              "<tr>\n",
              "  <th>Covariance Type:</th>      <td>nonrobust</td>    <th>                     </th>     <td> </td>    \n",
              "</tr>\n",
              "</table>\n",
              "<table class=\"simpletable\">\n",
              "<tr>\n",
              "            <td></td>              <th>coef</th>     <th>std err</th>      <th>t</th>      <th>P>|t|</th>  <th>[0.025</th>    <th>0.975]</th>  \n",
              "</tr>\n",
              "<tr>\n",
              "  <th>const</th>                <td>    5.8184</td> <td>    0.009</td> <td>  639.726</td> <td> 0.000</td> <td>    5.801</td> <td>    5.836</td>\n",
              "</tr>\n",
              "<tr>\n",
              "  <th>fixed acidity</th>        <td>    0.1103</td> <td>    0.020</td> <td>    5.396</td> <td> 0.000</td> <td>    0.070</td> <td>    0.150</td>\n",
              "</tr>\n",
              "<tr>\n",
              "  <th>volatile acidity</th>     <td>   -0.2457</td> <td>    0.013</td> <td>  -18.345</td> <td> 0.000</td> <td>   -0.272</td> <td>   -0.219</td>\n",
              "</tr>\n",
              "<tr>\n",
              "  <th>citric acid</th>          <td>   -0.0091</td> <td>    0.012</td> <td>   -0.786</td> <td> 0.432</td> <td>   -0.032</td> <td>    0.014</td>\n",
              "</tr>\n",
              "<tr>\n",
              "  <th>residual sugar</th>       <td>    0.2970</td> <td>    0.028</td> <td>   10.522</td> <td> 0.000</td> <td>    0.242</td> <td>    0.352</td>\n",
              "</tr>\n",
              "<tr>\n",
              "  <th>chlorides</th>            <td>   -0.0265</td> <td>    0.012</td> <td>   -2.264</td> <td> 0.024</td> <td>   -0.049</td> <td>   -0.004</td>\n",
              "</tr>\n",
              "<tr>\n",
              "  <th>free sulfur dioxide</th>  <td>    0.0876</td> <td>    0.014</td> <td>    6.443</td> <td> 0.000</td> <td>    0.061</td> <td>    0.114</td>\n",
              "</tr>\n",
              "<tr>\n",
              "  <th>total sulfur dioxide</th> <td>   -0.0793</td> <td>    0.018</td> <td>   -4.333</td> <td> 0.000</td> <td>   -0.115</td> <td>   -0.043</td>\n",
              "</tr>\n",
              "<tr>\n",
              "  <th>density</th>              <td>   -0.3116</td> <td>    0.043</td> <td>   -7.248</td> <td> 0.000</td> <td>   -0.396</td> <td>   -0.227</td>\n",
              "</tr>\n",
              "<tr>\n",
              "  <th>pH</th>                   <td>    0.0802</td> <td>    0.015</td> <td>    5.506</td> <td> 0.000</td> <td>    0.052</td> <td>    0.109</td>\n",
              "</tr>\n",
              "<tr>\n",
              "  <th>sulphates</th>            <td>    0.1074</td> <td>    0.011</td> <td>    9.466</td> <td> 0.000</td> <td>    0.085</td> <td>    0.130</td>\n",
              "</tr>\n",
              "<tr>\n",
              "  <th>alcohol</th>              <td>    0.2656</td> <td>    0.022</td> <td>   12.320</td> <td> 0.000</td> <td>    0.223</td> <td>    0.308</td>\n",
              "</tr>\n",
              "<tr>\n",
              "  <th>red_wine</th>             <td>    0.1556</td> <td>    0.024</td> <td>    6.367</td> <td> 0.000</td> <td>    0.108</td> <td>    0.204</td>\n",
              "</tr>\n",
              "</table>\n",
              "<table class=\"simpletable\">\n",
              "<tr>\n",
              "  <th>Omnibus:</th>       <td>140.992</td> <th>  Durbin-Watson:     </th> <td>   1.648</td>\n",
              "</tr>\n",
              "<tr>\n",
              "  <th>Prob(Omnibus):</th> <td> 0.000</td>  <th>  Jarque-Bera (JB):  </th> <td> 313.985</td>\n",
              "</tr>\n",
              "<tr>\n",
              "  <th>Skew:</th>          <td> 0.016</td>  <th>  Prob(JB):          </th> <td>6.59e-69</td>\n",
              "</tr>\n",
              "<tr>\n",
              "  <th>Kurtosis:</th>      <td> 4.077</td>  <th>  Cond. No.          </th> <td>    12.6</td>\n",
              "</tr>\n",
              "</table><br/><br/>Notes:<br/>[1] Standard Errors assume that the covariance matrix of the errors is correctly specified."
            ],
            "text/plain": [
              "<class 'statsmodels.iolib.summary.Summary'>\n",
              "\"\"\"\n",
              "                            OLS Regression Results                            \n",
              "==============================================================================\n",
              "Dep. Variable:                quality   R-squared:                       0.297\n",
              "Model:                            OLS   Adj. R-squared:                  0.295\n",
              "Method:                 Least Squares   F-statistic:                     227.8\n",
              "Date:                Tue, 30 Aug 2022   Prob (F-statistic):               0.00\n",
              "Time:                        23:23:16   Log-Likelihood:                -7195.2\n",
              "No. Observations:                6497   AIC:                         1.442e+04\n",
              "Df Residuals:                    6484   BIC:                         1.450e+04\n",
              "Df Model:                          12                                         \n",
              "Covariance Type:            nonrobust                                         \n",
              "========================================================================================\n",
              "                           coef    std err          t      P>|t|      [0.025      0.975]\n",
              "----------------------------------------------------------------------------------------\n",
              "const                    5.8184      0.009    639.726      0.000       5.801       5.836\n",
              "fixed acidity            0.1103      0.020      5.396      0.000       0.070       0.150\n",
              "volatile acidity        -0.2457      0.013    -18.345      0.000      -0.272      -0.219\n",
              "citric acid             -0.0091      0.012     -0.786      0.432      -0.032       0.014\n",
              "residual sugar           0.2970      0.028     10.522      0.000       0.242       0.352\n",
              "chlorides               -0.0265      0.012     -2.264      0.024      -0.049      -0.004\n",
              "free sulfur dioxide      0.0876      0.014      6.443      0.000       0.061       0.114\n",
              "total sulfur dioxide    -0.0793      0.018     -4.333      0.000      -0.115      -0.043\n",
              "density                 -0.3116      0.043     -7.248      0.000      -0.396      -0.227\n",
              "pH                       0.0802      0.015      5.506      0.000       0.052       0.109\n",
              "sulphates                0.1074      0.011      9.466      0.000       0.085       0.130\n",
              "alcohol                  0.2656      0.022     12.320      0.000       0.223       0.308\n",
              "red_wine                 0.1556      0.024      6.367      0.000       0.108       0.204\n",
              "==============================================================================\n",
              "Omnibus:                      140.992   Durbin-Watson:                   1.648\n",
              "Prob(Omnibus):                  0.000   Jarque-Bera (JB):              313.985\n",
              "Skew:                           0.016   Prob(JB):                     6.59e-69\n",
              "Kurtosis:                       4.077   Cond. No.                         12.6\n",
              "==============================================================================\n",
              "\n",
              "Notes:\n",
              "[1] Standard Errors assume that the covariance matrix of the errors is correctly specified.\n",
              "\"\"\""
            ]
          },
          "execution_count": 46,
          "metadata": {},
          "output_type": "execute_result"
        }
      ],
      "source": [
        "predictors = sm.add_constant(wine_preds_scaled)\n",
        "model = sm.OLS(wine_target, predictors).fit()\n",
        "model.summary()"
      ]
    },
    {
      "cell_type": "markdown",
      "metadata": {
        "hidden": true,
        "id": "8tquTdZKFfEa"
      },
      "source": [
        "> Check how well this model did with the one before scaling. Does it perform any differently?"
      ]
    },
    {
      "cell_type": "markdown",
      "metadata": {
        "hidden": true,
        "id": "SQ5ByMqYFfEa"
      },
      "source": []
    },
    {
      "cell_type": "code",
      "execution_count": null,
      "metadata": {
        "hidden": true,
        "id": "Uew_unS6FfEa"
      },
      "outputs": [],
      "source": []
    },
    {
      "cell_type": "markdown",
      "metadata": {
        "heading_collapsed": true,
        "hidden": true,
        "id": "YRdy7G5xFfEa"
      },
      "source": [
        "## 🧠 **Knowledge Check**"
      ]
    },
    {
      "cell_type": "markdown",
      "metadata": {
        "hidden": true,
        "id": "W7Ym0Sq7FfEa"
      },
      "source": [
        "> After standard scaling, what would it mean when all the $x_i$ are all $0$?"
      ]
    },
    {
      "cell_type": "markdown",
      "metadata": {
        "heading_collapsed": true,
        "hidden": true,
        "id": "RH8A5MNdFfEa"
      },
      "source": [
        "## 🧠 **Knowledge Check**"
      ]
    },
    {
      "cell_type": "markdown",
      "metadata": {
        "heading_collapsed": true,
        "hidden": true,
        "id": "oqD60LOpFfEa"
      },
      "source": [
        "### Follow-Up"
      ]
    },
    {
      "cell_type": "markdown",
      "metadata": {
        "hidden": true,
        "id": "6fN6S0YKFfEa"
      },
      "source": [
        "> What does this mean for the constant term $\\hat{\\beta}_0$? Could we check this?"
      ]
    },
    {
      "cell_type": "code",
      "execution_count": null,
      "metadata": {
        "hidden": true,
        "id": "AJ6ZbY24FfEa",
        "outputId": "6fb668b9-6999-4135-c248-e769ca79fdcb"
      },
      "outputs": [
        {
          "data": {
            "text/plain": [
              "5.818377712790519"
            ]
          },
          "execution_count": 47,
          "metadata": {},
          "output_type": "execute_result"
        }
      ],
      "source": [
        "wine_target.mean()"
      ]
    },
    {
      "cell_type": "markdown",
      "metadata": {
        "heading_collapsed": true,
        "id": "l31f_xHTFfEa"
      },
      "source": [
        "# Multiple Regression in Scikit-Learn"
      ]
    },
    {
      "cell_type": "markdown",
      "metadata": {
        "hidden": true,
        "id": "UgHHSsABFfEb"
      },
      "source": [
        "> It's great that we tried out multiple linear regression with `statsmodels`; now let's try it with `sklearn`!"
      ]
    },
    {
      "cell_type": "markdown",
      "metadata": {
        "heading_collapsed": true,
        "hidden": true,
        "id": "yCDcEw6wFfEb"
      },
      "source": [
        "## Scale the Data"
      ]
    },
    {
      "cell_type": "code",
      "execution_count": null,
      "metadata": {
        "hidden": true,
        "id": "ye9VIW4KFfEb"
      },
      "outputs": [],
      "source": [
        "# Let's create a StandardScaler object to scale our data for us.\n",
        "ss = StandardScaler()"
      ]
    },
    {
      "cell_type": "code",
      "execution_count": null,
      "metadata": {
        "hidden": true,
        "id": "q5VGNoAgFfEb"
      },
      "outputs": [],
      "source": [
        "# Now we'll apply it to our data by using the .fit() and .transform() methods.\n",
        "ss.fit(wine_preds)\n",
        "\n",
        "wine_preds_st_scaled = ss.transform(wine_preds)"
      ]
    },
    {
      "cell_type": "code",
      "execution_count": null,
      "metadata": {
        "id": "6E02QIGXFfEb",
        "outputId": "bb6e0123-6473-4329-98f4-b9a093d5c422"
      },
      "outputs": [
        {
          "data": {
            "text/plain": [
              "array([[ 0.14247327,  2.18883292, -2.19283252, ...,  0.19309677,\n",
              "        -0.91546416,  1.75018984],\n",
              "       [ 0.45103572,  3.28223494, -2.19283252, ...,  0.99957862,\n",
              "        -0.58006813,  1.75018984],\n",
              "       [ 0.45103572,  2.55330026, -1.91755268, ...,  0.79795816,\n",
              "        -0.58006813,  1.75018984],\n",
              "       ...,\n",
              "       [-0.55179227, -0.6054167 , -0.88525328, ..., -0.47897144,\n",
              "        -0.91546416, -0.57136659],\n",
              "       [-1.32319841, -0.30169391, -0.12823371, ..., -1.016626  ,\n",
              "         1.9354021 , -0.57136659],\n",
              "       [-0.93749534, -0.78765037,  0.42232597, ..., -1.41986693,\n",
              "         1.09691202, -0.57136659]])"
            ]
          },
          "execution_count": 50,
          "metadata": {},
          "output_type": "execute_result"
        }
      ],
      "source": [
        "wine_preds_st_scaled"
      ]
    },
    {
      "cell_type": "code",
      "execution_count": null,
      "metadata": {
        "hidden": true,
        "id": "2pyLvSxvFfEb",
        "outputId": "9872dc40-57fe-4a35-9b66-982e67e32d1f"
      },
      "outputs": [
        {
          "data": {
            "text/plain": [
              "True"
            ]
          },
          "execution_count": 51,
          "metadata": {},
          "output_type": "execute_result"
        }
      ],
      "source": [
        "# Check that the scaling worked about the same as when we did it by hand\n",
        "np.allclose(wine_preds_st_scaled, wine_preds_scaled)"
      ]
    },
    {
      "cell_type": "code",
      "execution_count": null,
      "metadata": {
        "hidden": true,
        "id": "y6fEJMDWFfEb",
        "outputId": "f97b1b6d-29e9-4856-f211-f41b5e408786"
      },
      "outputs": [
        {
          "data": {
            "text/html": [
              "<div>\n",
              "<style scoped>\n",
              "    .dataframe tbody tr th:only-of-type {\n",
              "        vertical-align: middle;\n",
              "    }\n",
              "\n",
              "    .dataframe tbody tr th {\n",
              "        vertical-align: top;\n",
              "    }\n",
              "\n",
              "    .dataframe thead th {\n",
              "        text-align: right;\n",
              "    }\n",
              "</style>\n",
              "<table border=\"1\" class=\"dataframe\">\n",
              "  <thead>\n",
              "    <tr style=\"text-align: right;\">\n",
              "      <th></th>\n",
              "      <th>fixed acidity</th>\n",
              "      <th>volatile acidity</th>\n",
              "      <th>citric acid</th>\n",
              "      <th>residual sugar</th>\n",
              "      <th>chlorides</th>\n",
              "      <th>free sulfur dioxide</th>\n",
              "      <th>total sulfur dioxide</th>\n",
              "      <th>density</th>\n",
              "      <th>pH</th>\n",
              "      <th>sulphates</th>\n",
              "      <th>alcohol</th>\n",
              "      <th>red_wine</th>\n",
              "    </tr>\n",
              "  </thead>\n",
              "  <tbody>\n",
              "    <tr>\n",
              "      <th>0</th>\n",
              "      <td>0.142473</td>\n",
              "      <td>2.188833</td>\n",
              "      <td>-2.192833</td>\n",
              "      <td>-0.744778</td>\n",
              "      <td>0.569958</td>\n",
              "      <td>-1.100140</td>\n",
              "      <td>-1.446359</td>\n",
              "      <td>1.034993</td>\n",
              "      <td>1.813090</td>\n",
              "      <td>0.193097</td>\n",
              "      <td>-0.915464</td>\n",
              "      <td>1.75019</td>\n",
              "    </tr>\n",
              "    <tr>\n",
              "      <th>1</th>\n",
              "      <td>0.451036</td>\n",
              "      <td>3.282235</td>\n",
              "      <td>-2.192833</td>\n",
              "      <td>-0.597640</td>\n",
              "      <td>1.197975</td>\n",
              "      <td>-0.311320</td>\n",
              "      <td>-0.862469</td>\n",
              "      <td>0.701486</td>\n",
              "      <td>-0.115073</td>\n",
              "      <td>0.999579</td>\n",
              "      <td>-0.580068</td>\n",
              "      <td>1.75019</td>\n",
              "    </tr>\n",
              "    <tr>\n",
              "      <th>2</th>\n",
              "      <td>0.451036</td>\n",
              "      <td>2.553300</td>\n",
              "      <td>-1.917553</td>\n",
              "      <td>-0.660699</td>\n",
              "      <td>1.026697</td>\n",
              "      <td>-0.874763</td>\n",
              "      <td>-1.092486</td>\n",
              "      <td>0.768188</td>\n",
              "      <td>0.258120</td>\n",
              "      <td>0.797958</td>\n",
              "      <td>-0.580068</td>\n",
              "      <td>1.75019</td>\n",
              "    </tr>\n",
              "    <tr>\n",
              "      <th>3</th>\n",
              "      <td>3.073817</td>\n",
              "      <td>-0.362438</td>\n",
              "      <td>1.661085</td>\n",
              "      <td>-0.744778</td>\n",
              "      <td>0.541412</td>\n",
              "      <td>-0.762074</td>\n",
              "      <td>-0.986324</td>\n",
              "      <td>1.101694</td>\n",
              "      <td>-0.363868</td>\n",
              "      <td>0.327510</td>\n",
              "      <td>-0.580068</td>\n",
              "      <td>1.75019</td>\n",
              "    </tr>\n",
              "    <tr>\n",
              "      <th>4</th>\n",
              "      <td>0.142473</td>\n",
              "      <td>2.188833</td>\n",
              "      <td>-2.192833</td>\n",
              "      <td>-0.744778</td>\n",
              "      <td>0.569958</td>\n",
              "      <td>-1.100140</td>\n",
              "      <td>-1.446359</td>\n",
              "      <td>1.034993</td>\n",
              "      <td>1.813090</td>\n",
              "      <td>0.193097</td>\n",
              "      <td>-0.915464</td>\n",
              "      <td>1.75019</td>\n",
              "    </tr>\n",
              "  </tbody>\n",
              "</table>\n",
              "</div>"
            ],
            "text/plain": [
              "   fixed acidity  volatile acidity  citric acid  residual sugar  chlorides  \\\n",
              "0       0.142473          2.188833    -2.192833       -0.744778   0.569958   \n",
              "1       0.451036          3.282235    -2.192833       -0.597640   1.197975   \n",
              "2       0.451036          2.553300    -1.917553       -0.660699   1.026697   \n",
              "3       3.073817         -0.362438     1.661085       -0.744778   0.541412   \n",
              "4       0.142473          2.188833    -2.192833       -0.744778   0.569958   \n",
              "\n",
              "   free sulfur dioxide  total sulfur dioxide   density        pH  sulphates  \\\n",
              "0            -1.100140             -1.446359  1.034993  1.813090   0.193097   \n",
              "1            -0.311320             -0.862469  0.701486 -0.115073   0.999579   \n",
              "2            -0.874763             -1.092486  0.768188  0.258120   0.797958   \n",
              "3            -0.762074             -0.986324  1.101694 -0.363868   0.327510   \n",
              "4            -1.100140             -1.446359  1.034993  1.813090   0.193097   \n",
              "\n",
              "    alcohol  red_wine  \n",
              "0 -0.915464   1.75019  \n",
              "1 -0.580068   1.75019  \n",
              "2 -0.580068   1.75019  \n",
              "3 -0.580068   1.75019  \n",
              "4 -0.915464   1.75019  "
            ]
          },
          "execution_count": 52,
          "metadata": {},
          "output_type": "execute_result"
        }
      ],
      "source": [
        "wine_preds_scaled.head()"
      ]
    },
    {
      "cell_type": "code",
      "execution_count": null,
      "metadata": {
        "hidden": true,
        "scrolled": true,
        "id": "gTSaYEDGFfEb",
        "outputId": "93ab8088-03ee-40ee-e359-5094f7cc98cc"
      },
      "outputs": [
        {
          "data": {
            "text/plain": [
              "array([[ 0.14247327,  2.18883292, -2.19283252, -0.7447781 ,  0.56995782,\n",
              "        -1.10013986, -1.44635852,  1.03499282,  1.81308951,  0.19309677,\n",
              "        -0.91546416,  1.75018984],\n",
              "       [ 0.45103572,  3.28223494, -2.19283252, -0.59764007,  1.1979747 ,\n",
              "        -0.31132009, -0.86246863,  0.70148631, -0.11507303,  0.99957862,\n",
              "        -0.58006813,  1.75018984],\n",
              "       [ 0.45103572,  2.55330026, -1.91755268, -0.66069923,  1.02669737,\n",
              "        -0.87476278, -1.09248586,  0.76818761,  0.25811972,  0.79795816,\n",
              "        -0.58006813,  1.75018984],\n",
              "       [ 3.07381662, -0.36243847,  1.66108525, -0.7447781 ,  0.54141159,\n",
              "        -0.76207424, -0.98632406,  1.10169412, -0.3638682 ,  0.32751041,\n",
              "        -0.58006813,  1.75018984],\n",
              "       [ 0.14247327,  2.18883292, -2.19283252, -0.7447781 ,  0.56995782,\n",
              "        -1.10013986, -1.44635852,  1.03499282,  1.81308951,  0.19309677,\n",
              "        -0.91546416,  1.75018984]])"
            ]
          },
          "execution_count": 53,
          "metadata": {},
          "output_type": "execute_result"
        }
      ],
      "source": [
        "wine_preds_st_scaled[:5, :]"
      ]
    },
    {
      "cell_type": "markdown",
      "metadata": {
        "heading_collapsed": true,
        "hidden": true,
        "id": "y2BnIv39FfEb"
      },
      "source": [
        "## Fit the Model"
      ]
    },
    {
      "cell_type": "markdown",
      "metadata": {
        "hidden": true,
        "id": "_CkxgaacFfEb"
      },
      "source": [
        "Now we can fit a `LinearRegression` object to our training data!"
      ]
    },
    {
      "cell_type": "code",
      "execution_count": null,
      "metadata": {
        "hidden": true,
        "id": "iCLYSsypFfEb",
        "outputId": "c9bed675-a871-4757-fb57-c9fa6aaf820b"
      },
      "outputs": [
        {
          "data": {
            "text/plain": [
              "LinearRegression()"
            ]
          },
          "execution_count": 54,
          "metadata": {},
          "output_type": "execute_result"
        }
      ],
      "source": [
        "# Now we can fit a LinearRegression object to our training data!\n",
        "\n",
        "lr = LinearRegression()\n",
        "lr.fit(wine_preds_st_scaled, wine_target)"
      ]
    },
    {
      "cell_type": "code",
      "execution_count": null,
      "metadata": {
        "hidden": true,
        "id": "n4vRuHY9FfEb",
        "outputId": "c786f4c2-fbf6-4a3a-c593-598f79d5c4e2"
      },
      "outputs": [
        {
          "data": {
            "text/plain": [
              "array([ 0.11027401, -0.24568548, -0.00909927,  0.29704168, -0.02652718,\n",
              "        0.08762284, -0.07927578, -0.311567  ,  0.08018737,  0.10739154,\n",
              "        0.26556038,  0.155642  ])"
            ]
          },
          "execution_count": 55,
          "metadata": {},
          "output_type": "execute_result"
        }
      ],
      "source": [
        "# We can use the .coef_ attribute to recover the results\n",
        "# of the regression.\n",
        "\n",
        "lr.coef_"
      ]
    },
    {
      "cell_type": "code",
      "execution_count": null,
      "metadata": {
        "hidden": true,
        "id": "qHqPtmVbFfEc",
        "outputId": "a412e879-caa6-4dfd-d03f-13429ca54ab1"
      },
      "outputs": [
        {
          "data": {
            "text/plain": [
              "5.818377712790517"
            ]
          },
          "execution_count": 56,
          "metadata": {},
          "output_type": "execute_result"
        }
      ],
      "source": [
        "lr.intercept_"
      ]
    },
    {
      "cell_type": "code",
      "execution_count": null,
      "metadata": {
        "id": "91U9zNTKFfEc"
      },
      "outputs": [],
      "source": [
        "lr2 = LinearRegression()"
      ]
    },
    {
      "cell_type": "code",
      "execution_count": null,
      "metadata": {
        "id": "ZAcEDDFcFfEc",
        "outputId": "96c756cd-2673-4fa6-f93e-5d0ae504dcb8"
      },
      "outputs": [
        {
          "ename": "AttributeError",
          "evalue": "'LinearRegression' object has no attribute 'intercept_'",
          "output_type": "error",
          "traceback": [
            "\u001b[0;31m---------------------------------------------------------------------------\u001b[0m",
            "\u001b[0;31mAttributeError\u001b[0m                            Traceback (most recent call last)",
            "\u001b[0;32m/tmp/ipykernel_78/26225610.py\u001b[0m in \u001b[0;36m<module>\u001b[0;34m\u001b[0m\n\u001b[0;32m----> 1\u001b[0;31m \u001b[0mlr2\u001b[0m\u001b[0;34m.\u001b[0m\u001b[0mintercept_\u001b[0m\u001b[0;34m\u001b[0m\u001b[0;34m\u001b[0m\u001b[0m\n\u001b[0m",
            "\u001b[0;31mAttributeError\u001b[0m: 'LinearRegression' object has no attribute 'intercept_'"
          ]
        }
      ],
      "source": [
        "lr2.intercept_"
      ]
    },
    {
      "cell_type": "code",
      "execution_count": null,
      "metadata": {
        "hidden": true,
        "id": "LbF2V7JcFfEc"
      },
      "outputs": [],
      "source": [
        "lr.score(wine_preds_st_scaled, wine_target)"
      ]
    },
    {
      "cell_type": "code",
      "execution_count": null,
      "metadata": {
        "hidden": true,
        "id": "iK6YL4leFfEc"
      },
      "outputs": [],
      "source": [
        "y_hat = lr.predict(wine_preds_st_scaled)\n",
        "y_hat"
      ]
    },
    {
      "cell_type": "markdown",
      "metadata": {
        "hidden": true,
        "id": "jXhIgFZrFfEc"
      },
      "source": [
        "All that's left is to evaluate our model to see how well it did!"
      ]
    },
    {
      "cell_type": "markdown",
      "metadata": {
        "heading_collapsed": true,
        "hidden": true,
        "id": "BOA5M4dLFfEc"
      },
      "source": [
        "## Evaluate Performance"
      ]
    },
    {
      "cell_type": "markdown",
      "metadata": {
        "heading_collapsed": true,
        "hidden": true,
        "id": "FrukOqvsFfEc"
      },
      "source": [
        "### Observing Residuals"
      ]
    },
    {
      "cell_type": "markdown",
      "metadata": {
        "hidden": true,
        "id": "q2jGmXOOFfEc"
      },
      "source": [
        "We can check the residuals like we would for a simple linear regression model."
      ]
    },
    {
      "cell_type": "code",
      "execution_count": null,
      "metadata": {
        "hidden": true,
        "id": "W7BzZPdjFfEc"
      },
      "outputs": [],
      "source": [
        "y_hat = lr.predict(wine_preds_st_scaled)\n",
        "resid = (wine_target - y_hat)\n",
        "\n",
        "fig, ax = plt.subplots()\n",
        "ax.scatter(x=range(y_hat.shape[0]),y=resid, alpha=0.1);"
      ]
    },
    {
      "cell_type": "markdown",
      "metadata": {
        "heading_collapsed": true,
        "hidden": true,
        "id": "7wUfILcvFfEc"
      },
      "source": [
        "### Sklearn Metrics"
      ]
    },
    {
      "cell_type": "markdown",
      "metadata": {
        "hidden": true,
        "id": "qcFepdnIFfEc"
      },
      "source": [
        "The metrics module in sklearn has a number of metrics that we can use to measure the accuracy of our model, including the $R^2$ score, the mean absolute error and the mean squared error. Note that the default 'score' on our model object is the $R^2$ score. Let's go back to our wine dataset:"
      ]
    },
    {
      "cell_type": "code",
      "execution_count": null,
      "metadata": {
        "hidden": true,
        "id": "1GnHihrPFfEc"
      },
      "outputs": [],
      "source": [
        "metrics.r2_score(wine_target, lr.predict(wine_preds_st_scaled))"
      ]
    },
    {
      "cell_type": "markdown",
      "metadata": {
        "hidden": true,
        "id": "y-lCBbGpFfEc"
      },
      "source": [
        "Let's make sure this metric is properly calibrated. If we put simply $\\bar{y}$ as our prediction, then we should get an $R^2$ score of *0*. And if we predict, say, $\\bar{y} + 1$, then we should get a *negative* $R^2$ score."
      ]
    },
    {
      "cell_type": "code",
      "execution_count": null,
      "metadata": {
        "hidden": true,
        "id": "SFd5fDxaFfEc"
      },
      "outputs": [],
      "source": [
        "avg_quality = np.mean(wine_target)\n",
        "num = len(wine_target)\n",
        "\n",
        "metrics.r2_score(wine_target, avg_quality * np.ones(num))"
      ]
    },
    {
      "cell_type": "code",
      "execution_count": null,
      "metadata": {
        "hidden": true,
        "id": "pdlRYI16FfEd"
      },
      "outputs": [],
      "source": [
        "metrics.r2_score(wine_target, (avg_quality + 1) * np.ones(num))"
      ]
    },
    {
      "cell_type": "code",
      "execution_count": null,
      "metadata": {
        "hidden": true,
        "id": "C5MdcXesFfEd"
      },
      "outputs": [],
      "source": [
        "metrics.mean_absolute_error(wine_target, lr.predict(wine_preds_st_scaled))"
      ]
    },
    {
      "cell_type": "code",
      "execution_count": null,
      "metadata": {
        "hidden": true,
        "id": "KextDQMPFfEd"
      },
      "outputs": [],
      "source": [
        "metrics.mean_squared_error(wine_target, lr.predict(wine_preds_st_scaled))"
      ]
    },
    {
      "cell_type": "markdown",
      "metadata": {
        "heading_collapsed": true,
        "id": "nhvQAdhwFfEd"
      },
      "source": [
        "# Level Up: Deeper Evaluation of Wine Data Predictions"
      ]
    },
    {
      "cell_type": "markdown",
      "metadata": {
        "hidden": true,
        "id": "vckvT2QUFfEd"
      },
      "source": [
        "One thing we could have investigated from our [model on the Wine Data](#Multiple-Regression-in-Scikit-Learn) is how our predictions $\\hat{y}$ match with the actual target values."
      ]
    },
    {
      "cell_type": "code",
      "execution_count": null,
      "metadata": {
        "hidden": true,
        "id": "DVnezUTHFfEd"
      },
      "outputs": [],
      "source": [
        "sns.histplot(y_hat,kde=True,fill=False,stat='density',color='red')\n",
        "sns.histplot(wine_target,discrete=True,stat='density')"
      ]
    },
    {
      "cell_type": "markdown",
      "metadata": {
        "hidden": true,
        "id": "TvnlmAVBFfEd"
      },
      "source": [
        "So there's a slight issue with our model; the linear regression believes the target values are on a continuum. We know that's not true from the data. "
      ]
    },
    {
      "cell_type": "markdown",
      "metadata": {
        "hidden": true,
        "id": "02j8NxYjFfEd"
      },
      "source": [
        "An easy fix is to round the target values."
      ]
    },
    {
      "cell_type": "code",
      "execution_count": null,
      "metadata": {
        "hidden": true,
        "id": "joKx2LbBFfEd"
      },
      "outputs": [],
      "source": [
        "y_hat_rounded = np.round(y_hat)\n",
        "np.unique(y_hat_rounded, return_counts=True)"
      ]
    },
    {
      "cell_type": "markdown",
      "metadata": {
        "hidden": true,
        "id": "ZMc9ab2FFfEd"
      },
      "source": [
        "Plotting the distribution is a lot more meaningful if we require targets to be integers."
      ]
    },
    {
      "cell_type": "code",
      "execution_count": null,
      "metadata": {
        "hidden": true,
        "id": "l8EmxVlAFfEd"
      },
      "outputs": [],
      "source": [
        "sns.histplot(np.round(y_hat),fill=False,discrete=True,stat='density',color='red')\n",
        "sns.histplot(wine_target,discrete=True,alpha=0.3,stat='density')"
      ]
    },
    {
      "cell_type": "markdown",
      "metadata": {
        "hidden": true,
        "id": "-XPk9Oi9FfEd"
      },
      "source": [
        "Note that our $R^2$ metric will be worse. This makes sense since we found a \"line of best fit\" that predicts continuous values. \n",
        "\n",
        "If the better option was _integer_ predictions, it would have predicted that instead. "
      ]
    },
    {
      "cell_type": "code",
      "execution_count": null,
      "metadata": {
        "hidden": true,
        "id": "KCDAorkiFfEd"
      },
      "outputs": [],
      "source": [
        "metrics.r2_score(wine_target, y_hat_rounded)"
      ]
    },
    {
      "cell_type": "markdown",
      "metadata": {
        "hidden": true,
        "id": "HoDuAbC1FfEd"
      },
      "source": [
        "You must decide yourself if this is worth doing or if a different model makes more sense (we'll see more models in future lectures)."
      ]
    },
    {
      "cell_type": "markdown",
      "metadata": {
        "heading_collapsed": true,
        "id": "432_19rlFfEd"
      },
      "source": [
        "# Level Up: Regression with Categorical Features with the Comma Dataset"
      ]
    },
    {
      "cell_type": "code",
      "execution_count": null,
      "metadata": {
        "hidden": true,
        "id": "BTasBmTMFfEd"
      },
      "outputs": [],
      "source": [
        "comma_df.columns"
      ]
    },
    {
      "cell_type": "code",
      "execution_count": null,
      "metadata": {
        "hidden": true,
        "id": "u_uTqPxpFfEd"
      },
      "outputs": [],
      "source": [
        "# We'll try to predict the first column of df: the extent to which\n",
        "# the person accepts the sentence\n",
        "# without the Oxford comma as more grammatically correct.\n",
        "\n",
        "comma_target = comma_df['x0_It\\'s important for a person to be honest, kind, and loyal.']\n",
        "\n",
        "comma_predictors = comma_df[['x8_30-44',\n",
        "       'x8_45-60', 'x8_> 60', 'x9_$100,000 - $149,999',\n",
        "       'x9_$150,000+', 'x9_$25,000 - $49,999', 'x9_$50,000 - $99,999']]\n",
        "\n",
        "comma_lr = LinearRegression()\n",
        "\n",
        "comma_lr.fit(comma_predictors, comma_target)"
      ]
    },
    {
      "cell_type": "code",
      "execution_count": null,
      "metadata": {
        "hidden": true,
        "id": "LS4IqtcJFfEd"
      },
      "outputs": [],
      "source": [
        "comma_lr.score(comma_predictors, comma_target)"
      ]
    },
    {
      "cell_type": "code",
      "execution_count": null,
      "metadata": {
        "hidden": true,
        "id": "RKBRzomCFfEe"
      },
      "outputs": [],
      "source": [
        "metrics.mean_squared_error(wine_target, y_hat_rounded)"
      ]
    },
    {
      "cell_type": "code",
      "execution_count": null,
      "metadata": {
        "hidden": true,
        "id": "llnlx5pgFfEe"
      },
      "outputs": [],
      "source": [
        "comma_lr.coef_"
      ]
    },
    {
      "cell_type": "code",
      "execution_count": null,
      "metadata": {
        "hidden": true,
        "id": "lyT5TJ4GFfEe"
      },
      "outputs": [],
      "source": [
        "comma_df.corr()['x0_It\\'s important for a person to be honest, kind, and loyal.']"
      ]
    },
    {
      "cell_type": "markdown",
      "metadata": {
        "hidden": true,
        "id": "FxymCO6OFfEe"
      },
      "source": [
        "For more on the interpretation of regression coefficients for categorical variables, see [Erin's repo](https://github.com/hoffm386/coefficients-of-dropped-categorical-variables)."
      ]
    }
  ],
  "metadata": {
    "kernelspec": {
      "display_name": "Python 3",
      "language": "python",
      "name": "python3"
    },
    "language_info": {
      "codemirror_mode": {
        "name": "ipython",
        "version": 3
      },
      "file_extension": ".py",
      "mimetype": "text/x-python",
      "name": "python",
      "nbconvert_exporter": "python",
      "pygments_lexer": "ipython3",
      "version": "3.9.5"
    },
    "toc": {
      "base_numbering": 1,
      "nav_menu": {},
      "number_sections": true,
      "sideBar": true,
      "skip_h1_title": false,
      "title_cell": "Table of Contents",
      "title_sidebar": "TOC",
      "toc_cell": true,
      "toc_position": {
        "height": "calc(100% - 180px)",
        "left": "10px",
        "top": "150px",
        "width": "302px"
      },
      "toc_section_display": true,
      "toc_window_display": true
    },
    "colab": {
      "name": "multiple_linear_regression.ipynb",
      "provenance": []
    }
  },
  "nbformat": 4,
  "nbformat_minor": 0
}