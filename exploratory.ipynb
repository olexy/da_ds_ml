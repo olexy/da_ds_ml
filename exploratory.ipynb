{
  "cells": [
    {
      "cell_type": "markdown",
      "metadata": {
        "id": "Oib1B_QvIu-m"
      },
      "source": [
        "# Exploratory Notebook\n",
        "\n",
        "Use this notebook to explore the project data using `pandas`, SQL, and Matplotlib!\n",
        "\n",
        "You will not be submitting this notebook so feel free to try out different \"experiments\" to figure out what works best.\n",
        "\n",
        "When you're happy with your code and want to turn it in, copy it into the `final.ipynb` notebook and download that notebook for the PDF submission."
      ]
    },
    {
      "cell_type": "markdown",
      "metadata": {
        "id": "NKuyvMq6Iu-6"
      },
      "source": [
        "## CSV and TSV Data\n",
        "\n",
        "Here is some starter code that opens up some of the CSV and TSV data and loads it into DataFrames:"
      ]
    },
    {
      "cell_type": "code",
      "source": [
        "from google.colab import drive\n",
        "drive.mount('/content/drive/')"
      ],
      "metadata": {
        "id": "-NEsnFKVKD2T",
        "colab": {
          "base_uri": "https://localhost:8080/"
        },
        "outputId": "73d8b03b-f557-40aa-9572-fcd26fbcccbd"
      },
      "execution_count": 180,
      "outputs": [
        {
          "output_type": "stream",
          "name": "stdout",
          "text": [
            "Drive already mounted at /content/drive/; to attempt to forcibly remount, call drive.mount(\"/content/drive/\", force_remount=True).\n"
          ]
        }
      ]
    },
    {
      "cell_type": "code",
      "execution_count": 181,
      "metadata": {
        "id": "LIwwzni5Iu-8"
      },
      "outputs": [],
      "source": [
        "import pandas as pd\n",
        "import numpy as np\n",
        "import seaborn as sns\n",
        "import matplotlib.pyplot as plt\n",
        "plt.style.use('fivethirtyeight')\n",
        "\n",
        "import warnings\n",
        "warnings.filterwarnings(\"ignore\")"
      ]
    },
    {
      "cell_type": "markdown",
      "source": [
        "#Proposal One Starts Here...\n",
        "\n",
        "---\n",
        "\n"
      ],
      "metadata": {
        "id": "y531npOvBHRg"
      }
    },
    {
      "cell_type": "markdown",
      "metadata": {
        "id": "Yy6Is6N4Iu_K"
      },
      "source": [
        "### BOM Movie Dataset"
      ]
    },
    {
      "cell_type": "code",
      "execution_count": 200,
      "metadata": {
        "id": "WJAoggOXIu_L",
        "colab": {
          "base_uri": "https://localhost:8080/",
          "height": 206
        },
        "outputId": "88a1e6ba-760f-4449-be01-a873e5cfffa0"
      },
      "outputs": [
        {
          "output_type": "execute_result",
          "data": {
            "text/plain": [
              "                                         title studio  domestic_gross  \\\n",
              "0                                  Toy Story 3     BV     415000000.0   \n",
              "1                   Alice in Wonderland (2010)     BV     334200000.0   \n",
              "2  Harry Potter and the Deathly Hallows Part 1     WB     296000000.0   \n",
              "3                                    Inception     WB     292600000.0   \n",
              "4                          Shrek Forever After   P/DW     238700000.0   \n",
              "\n",
              "  foreign_gross  year  \n",
              "0     652000000  2010  \n",
              "1     691300000  2010  \n",
              "2     664300000  2010  \n",
              "3     535700000  2010  \n",
              "4     513900000  2010  "
            ],
            "text/html": [
              "\n",
              "  <div id=\"df-b23b0761-6760-44af-9053-c4b9b178bb75\">\n",
              "    <div class=\"colab-df-container\">\n",
              "      <div>\n",
              "<style scoped>\n",
              "    .dataframe tbody tr th:only-of-type {\n",
              "        vertical-align: middle;\n",
              "    }\n",
              "\n",
              "    .dataframe tbody tr th {\n",
              "        vertical-align: top;\n",
              "    }\n",
              "\n",
              "    .dataframe thead th {\n",
              "        text-align: right;\n",
              "    }\n",
              "</style>\n",
              "<table border=\"1\" class=\"dataframe\">\n",
              "  <thead>\n",
              "    <tr style=\"text-align: right;\">\n",
              "      <th></th>\n",
              "      <th>title</th>\n",
              "      <th>studio</th>\n",
              "      <th>domestic_gross</th>\n",
              "      <th>foreign_gross</th>\n",
              "      <th>year</th>\n",
              "    </tr>\n",
              "  </thead>\n",
              "  <tbody>\n",
              "    <tr>\n",
              "      <th>0</th>\n",
              "      <td>Toy Story 3</td>\n",
              "      <td>BV</td>\n",
              "      <td>415000000.0</td>\n",
              "      <td>652000000</td>\n",
              "      <td>2010</td>\n",
              "    </tr>\n",
              "    <tr>\n",
              "      <th>1</th>\n",
              "      <td>Alice in Wonderland (2010)</td>\n",
              "      <td>BV</td>\n",
              "      <td>334200000.0</td>\n",
              "      <td>691300000</td>\n",
              "      <td>2010</td>\n",
              "    </tr>\n",
              "    <tr>\n",
              "      <th>2</th>\n",
              "      <td>Harry Potter and the Deathly Hallows Part 1</td>\n",
              "      <td>WB</td>\n",
              "      <td>296000000.0</td>\n",
              "      <td>664300000</td>\n",
              "      <td>2010</td>\n",
              "    </tr>\n",
              "    <tr>\n",
              "      <th>3</th>\n",
              "      <td>Inception</td>\n",
              "      <td>WB</td>\n",
              "      <td>292600000.0</td>\n",
              "      <td>535700000</td>\n",
              "      <td>2010</td>\n",
              "    </tr>\n",
              "    <tr>\n",
              "      <th>4</th>\n",
              "      <td>Shrek Forever After</td>\n",
              "      <td>P/DW</td>\n",
              "      <td>238700000.0</td>\n",
              "      <td>513900000</td>\n",
              "      <td>2010</td>\n",
              "    </tr>\n",
              "  </tbody>\n",
              "</table>\n",
              "</div>\n",
              "      <button class=\"colab-df-convert\" onclick=\"convertToInteractive('df-b23b0761-6760-44af-9053-c4b9b178bb75')\"\n",
              "              title=\"Convert this dataframe to an interactive table.\"\n",
              "              style=\"display:none;\">\n",
              "        \n",
              "  <svg xmlns=\"http://www.w3.org/2000/svg\" height=\"24px\"viewBox=\"0 0 24 24\"\n",
              "       width=\"24px\">\n",
              "    <path d=\"M0 0h24v24H0V0z\" fill=\"none\"/>\n",
              "    <path d=\"M18.56 5.44l.94 2.06.94-2.06 2.06-.94-2.06-.94-.94-2.06-.94 2.06-2.06.94zm-11 1L8.5 8.5l.94-2.06 2.06-.94-2.06-.94L8.5 2.5l-.94 2.06-2.06.94zm10 10l.94 2.06.94-2.06 2.06-.94-2.06-.94-.94-2.06-.94 2.06-2.06.94z\"/><path d=\"M17.41 7.96l-1.37-1.37c-.4-.4-.92-.59-1.43-.59-.52 0-1.04.2-1.43.59L10.3 9.45l-7.72 7.72c-.78.78-.78 2.05 0 2.83L4 21.41c.39.39.9.59 1.41.59.51 0 1.02-.2 1.41-.59l7.78-7.78 2.81-2.81c.8-.78.8-2.07 0-2.86zM5.41 20L4 18.59l7.72-7.72 1.47 1.35L5.41 20z\"/>\n",
              "  </svg>\n",
              "      </button>\n",
              "      \n",
              "  <style>\n",
              "    .colab-df-container {\n",
              "      display:flex;\n",
              "      flex-wrap:wrap;\n",
              "      gap: 12px;\n",
              "    }\n",
              "\n",
              "    .colab-df-convert {\n",
              "      background-color: #E8F0FE;\n",
              "      border: none;\n",
              "      border-radius: 50%;\n",
              "      cursor: pointer;\n",
              "      display: none;\n",
              "      fill: #1967D2;\n",
              "      height: 32px;\n",
              "      padding: 0 0 0 0;\n",
              "      width: 32px;\n",
              "    }\n",
              "\n",
              "    .colab-df-convert:hover {\n",
              "      background-color: #E2EBFA;\n",
              "      box-shadow: 0px 1px 2px rgba(60, 64, 67, 0.3), 0px 1px 3px 1px rgba(60, 64, 67, 0.15);\n",
              "      fill: #174EA6;\n",
              "    }\n",
              "\n",
              "    [theme=dark] .colab-df-convert {\n",
              "      background-color: #3B4455;\n",
              "      fill: #D2E3FC;\n",
              "    }\n",
              "\n",
              "    [theme=dark] .colab-df-convert:hover {\n",
              "      background-color: #434B5C;\n",
              "      box-shadow: 0px 1px 3px 1px rgba(0, 0, 0, 0.15);\n",
              "      filter: drop-shadow(0px 1px 2px rgba(0, 0, 0, 0.3));\n",
              "      fill: #FFFFFF;\n",
              "    }\n",
              "  </style>\n",
              "\n",
              "      <script>\n",
              "        const buttonEl =\n",
              "          document.querySelector('#df-b23b0761-6760-44af-9053-c4b9b178bb75 button.colab-df-convert');\n",
              "        buttonEl.style.display =\n",
              "          google.colab.kernel.accessAllowed ? 'block' : 'none';\n",
              "\n",
              "        async function convertToInteractive(key) {\n",
              "          const element = document.querySelector('#df-b23b0761-6760-44af-9053-c4b9b178bb75');\n",
              "          const dataTable =\n",
              "            await google.colab.kernel.invokeFunction('convertToInteractive',\n",
              "                                                     [key], {});\n",
              "          if (!dataTable) return;\n",
              "\n",
              "          const docLinkHtml = 'Like what you see? Visit the ' +\n",
              "            '<a target=\"_blank\" href=https://colab.research.google.com/notebooks/data_table.ipynb>data table notebook</a>'\n",
              "            + ' to learn more about interactive tables.';\n",
              "          element.innerHTML = '';\n",
              "          dataTable['output_type'] = 'display_data';\n",
              "          await google.colab.output.renderOutput(dataTable, element);\n",
              "          const docLink = document.createElement('div');\n",
              "          docLink.innerHTML = docLinkHtml;\n",
              "          element.appendChild(docLink);\n",
              "        }\n",
              "      </script>\n",
              "    </div>\n",
              "  </div>\n",
              "  "
            ]
          },
          "metadata": {},
          "execution_count": 200
        }
      ],
      "source": [
        "bom_movie_gross = pd.read_csv(\"/content/drive/MyDrive/Colab Notebooks/zippedData/bom.movie_gross.csv.gz\")\n",
        "bom_movie_gross.head()"
      ]
    },
    {
      "cell_type": "code",
      "execution_count": 201,
      "metadata": {
        "id": "9p55aAqTIu_O",
        "colab": {
          "base_uri": "https://localhost:8080/"
        },
        "outputId": "5c469c04-933d-49d8-d32d-bdaa87e441e2"
      },
      "outputs": [
        {
          "output_type": "execute_result",
          "data": {
            "text/plain": [
              "(3387, 5)"
            ]
          },
          "metadata": {},
          "execution_count": 201
        }
      ],
      "source": [
        "bom_movie_gross.shape"
      ]
    },
    {
      "cell_type": "code",
      "execution_count": 202,
      "metadata": {
        "id": "kqdSC9s0Iu_Q",
        "colab": {
          "base_uri": "https://localhost:8080/"
        },
        "outputId": "9ae001a9-2597-451c-a00e-a7fd96640726"
      },
      "outputs": [
        {
          "output_type": "execute_result",
          "data": {
            "text/plain": [
              "Index(['title', 'studio', 'domestic_gross', 'foreign_gross', 'year'], dtype='object')"
            ]
          },
          "metadata": {},
          "execution_count": 202
        }
      ],
      "source": [
        "bom_movie_gross.columns"
      ]
    },
    {
      "cell_type": "code",
      "execution_count": 203,
      "metadata": {
        "id": "tFKZ0xbhIu_T",
        "colab": {
          "base_uri": "https://localhost:8080/"
        },
        "outputId": "13efb359-518b-4df0-8c2f-e20d368d2599"
      },
      "outputs": [
        {
          "output_type": "execute_result",
          "data": {
            "text/plain": [
              "title              object\n",
              "studio             object\n",
              "domestic_gross    float64\n",
              "foreign_gross      object\n",
              "year                int64\n",
              "dtype: object"
            ]
          },
          "metadata": {},
          "execution_count": 203
        }
      ],
      "source": [
        "bom_movie_gross.dtypes"
      ]
    },
    {
      "cell_type": "code",
      "execution_count": 204,
      "metadata": {
        "scrolled": false,
        "id": "Ak8D9PQfIu_f",
        "colab": {
          "base_uri": "https://localhost:8080/"
        },
        "outputId": "5f59ff1d-a96d-4481-dc72-efa604217267"
      },
      "outputs": [
        {
          "output_type": "execute_result",
          "data": {
            "text/plain": [
              "title                0\n",
              "studio               5\n",
              "domestic_gross      28\n",
              "foreign_gross     1350\n",
              "year                 0\n",
              "dtype: int64"
            ]
          },
          "metadata": {},
          "execution_count": 204
        }
      ],
      "source": [
        "#Check for NAN \n",
        "bom_movie_gross.isnull().sum()"
      ]
    },
    {
      "cell_type": "code",
      "execution_count": 205,
      "metadata": {
        "id": "IQQEkLp7Iu_h"
      },
      "outputs": [],
      "source": [
        "# Convert foreign_gross colum to float\n",
        "bom_movie_gross['foreign_gross'] = pd.to_numeric(bom_movie_gross['foreign_gross'], errors='coerce')"
      ]
    },
    {
      "cell_type": "code",
      "source": [
        "bom_movie_gross.dtypes"
      ],
      "metadata": {
        "id": "3ODTHTfxOayg",
        "colab": {
          "base_uri": "https://localhost:8080/"
        },
        "outputId": "6a5defe6-4973-417c-ffea-1a5a232504e5"
      },
      "execution_count": 206,
      "outputs": [
        {
          "output_type": "execute_result",
          "data": {
            "text/plain": [
              "title              object\n",
              "studio             object\n",
              "domestic_gross    float64\n",
              "foreign_gross     float64\n",
              "year                int64\n",
              "dtype: object"
            ]
          },
          "metadata": {},
          "execution_count": 206
        }
      ]
    },
    {
      "cell_type": "markdown",
      "source": [
        "###Create a df for Filling domestic/foreign_gross columns NAs with median\n",
        "\n"
      ],
      "metadata": {
        "id": "LaTv2wbNVTHT"
      }
    },
    {
      "cell_type": "code",
      "source": [
        "df_median_for_NAs = bom_movie_gross\n",
        "df_median_for_NAs['foreign_gross'] = df_median_for_NAs['foreign_gross'].fillna(df_median_for_NAs['foreign_gross'].median())"
      ],
      "metadata": {
        "id": "yTBVvfw-OoXk"
      },
      "execution_count": 189,
      "outputs": []
    },
    {
      "cell_type": "code",
      "source": [
        "df_median_for_NAs['domestic_gross'] = df_median_for_NAs['domestic_gross'].fillna(df_median_for_NAs['domestic_gross'].median())"
      ],
      "metadata": {
        "id": "laLZWqZpQI5k"
      },
      "execution_count": 190,
      "outputs": []
    },
    {
      "cell_type": "code",
      "source": [
        "df_median_for_NAs = df_median_for_NAs.dropna()"
      ],
      "metadata": {
        "id": "au96csCNREov"
      },
      "execution_count": 191,
      "outputs": []
    },
    {
      "cell_type": "code",
      "source": [
        "import pandas as pd\n",
        "import re\n",
        "\n",
        "non_numeric = re.compile(r'[^\\d.]+')\n",
        "\n",
        "#df = pd.DataFrame({'a': [3,2,'NA']})\n",
        "#df_median_for_NAs['foreign_gross'].loc[df_median_for_NAs['foreign_gross'].str.contains(non_numeric)]"
      ],
      "metadata": {
        "id": "0nPxz_rrl_Ui"
      },
      "execution_count": 192,
      "outputs": []
    },
    {
      "cell_type": "code",
      "source": [
        "df_median_for_NAs.isna().sum()"
      ],
      "metadata": {
        "id": "cuk1hNkjPpNh",
        "colab": {
          "base_uri": "https://localhost:8080/"
        },
        "outputId": "6073709f-d716-4d48-d5c8-6bf5b7117c5f"
      },
      "execution_count": 193,
      "outputs": [
        {
          "output_type": "execute_result",
          "data": {
            "text/plain": [
              "title             0\n",
              "studio            0\n",
              "domestic_gross    0\n",
              "foreign_gross     0\n",
              "year              0\n",
              "dtype: int64"
            ]
          },
          "metadata": {},
          "execution_count": 193
        }
      ]
    },
    {
      "cell_type": "code",
      "source": [
        "df_median_for_NAs.head()"
      ],
      "metadata": {
        "id": "3YdDUWplW1nY",
        "colab": {
          "base_uri": "https://localhost:8080/",
          "height": 206
        },
        "outputId": "b4014cfb-834d-4ffa-a943-42b57c83d172"
      },
      "execution_count": 194,
      "outputs": [
        {
          "output_type": "execute_result",
          "data": {
            "text/plain": [
              "                                         title studio  domestic_gross  \\\n",
              "0                                  Toy Story 3     BV     415000000.0   \n",
              "1                   Alice in Wonderland (2010)     BV     334200000.0   \n",
              "2  Harry Potter and the Deathly Hallows Part 1     WB     296000000.0   \n",
              "3                                    Inception     WB     292600000.0   \n",
              "4                          Shrek Forever After   P/DW     238700000.0   \n",
              "\n",
              "   foreign_gross  year  \n",
              "0    652000000.0  2010  \n",
              "1    691300000.0  2010  \n",
              "2    664300000.0  2010  \n",
              "3    535700000.0  2010  \n",
              "4    513900000.0  2010  "
            ],
            "text/html": [
              "\n",
              "  <div id=\"df-7275c814-2cfc-4690-95b4-0b25f46298b8\">\n",
              "    <div class=\"colab-df-container\">\n",
              "      <div>\n",
              "<style scoped>\n",
              "    .dataframe tbody tr th:only-of-type {\n",
              "        vertical-align: middle;\n",
              "    }\n",
              "\n",
              "    .dataframe tbody tr th {\n",
              "        vertical-align: top;\n",
              "    }\n",
              "\n",
              "    .dataframe thead th {\n",
              "        text-align: right;\n",
              "    }\n",
              "</style>\n",
              "<table border=\"1\" class=\"dataframe\">\n",
              "  <thead>\n",
              "    <tr style=\"text-align: right;\">\n",
              "      <th></th>\n",
              "      <th>title</th>\n",
              "      <th>studio</th>\n",
              "      <th>domestic_gross</th>\n",
              "      <th>foreign_gross</th>\n",
              "      <th>year</th>\n",
              "    </tr>\n",
              "  </thead>\n",
              "  <tbody>\n",
              "    <tr>\n",
              "      <th>0</th>\n",
              "      <td>Toy Story 3</td>\n",
              "      <td>BV</td>\n",
              "      <td>415000000.0</td>\n",
              "      <td>652000000.0</td>\n",
              "      <td>2010</td>\n",
              "    </tr>\n",
              "    <tr>\n",
              "      <th>1</th>\n",
              "      <td>Alice in Wonderland (2010)</td>\n",
              "      <td>BV</td>\n",
              "      <td>334200000.0</td>\n",
              "      <td>691300000.0</td>\n",
              "      <td>2010</td>\n",
              "    </tr>\n",
              "    <tr>\n",
              "      <th>2</th>\n",
              "      <td>Harry Potter and the Deathly Hallows Part 1</td>\n",
              "      <td>WB</td>\n",
              "      <td>296000000.0</td>\n",
              "      <td>664300000.0</td>\n",
              "      <td>2010</td>\n",
              "    </tr>\n",
              "    <tr>\n",
              "      <th>3</th>\n",
              "      <td>Inception</td>\n",
              "      <td>WB</td>\n",
              "      <td>292600000.0</td>\n",
              "      <td>535700000.0</td>\n",
              "      <td>2010</td>\n",
              "    </tr>\n",
              "    <tr>\n",
              "      <th>4</th>\n",
              "      <td>Shrek Forever After</td>\n",
              "      <td>P/DW</td>\n",
              "      <td>238700000.0</td>\n",
              "      <td>513900000.0</td>\n",
              "      <td>2010</td>\n",
              "    </tr>\n",
              "  </tbody>\n",
              "</table>\n",
              "</div>\n",
              "      <button class=\"colab-df-convert\" onclick=\"convertToInteractive('df-7275c814-2cfc-4690-95b4-0b25f46298b8')\"\n",
              "              title=\"Convert this dataframe to an interactive table.\"\n",
              "              style=\"display:none;\">\n",
              "        \n",
              "  <svg xmlns=\"http://www.w3.org/2000/svg\" height=\"24px\"viewBox=\"0 0 24 24\"\n",
              "       width=\"24px\">\n",
              "    <path d=\"M0 0h24v24H0V0z\" fill=\"none\"/>\n",
              "    <path d=\"M18.56 5.44l.94 2.06.94-2.06 2.06-.94-2.06-.94-.94-2.06-.94 2.06-2.06.94zm-11 1L8.5 8.5l.94-2.06 2.06-.94-2.06-.94L8.5 2.5l-.94 2.06-2.06.94zm10 10l.94 2.06.94-2.06 2.06-.94-2.06-.94-.94-2.06-.94 2.06-2.06.94z\"/><path d=\"M17.41 7.96l-1.37-1.37c-.4-.4-.92-.59-1.43-.59-.52 0-1.04.2-1.43.59L10.3 9.45l-7.72 7.72c-.78.78-.78 2.05 0 2.83L4 21.41c.39.39.9.59 1.41.59.51 0 1.02-.2 1.41-.59l7.78-7.78 2.81-2.81c.8-.78.8-2.07 0-2.86zM5.41 20L4 18.59l7.72-7.72 1.47 1.35L5.41 20z\"/>\n",
              "  </svg>\n",
              "      </button>\n",
              "      \n",
              "  <style>\n",
              "    .colab-df-container {\n",
              "      display:flex;\n",
              "      flex-wrap:wrap;\n",
              "      gap: 12px;\n",
              "    }\n",
              "\n",
              "    .colab-df-convert {\n",
              "      background-color: #E8F0FE;\n",
              "      border: none;\n",
              "      border-radius: 50%;\n",
              "      cursor: pointer;\n",
              "      display: none;\n",
              "      fill: #1967D2;\n",
              "      height: 32px;\n",
              "      padding: 0 0 0 0;\n",
              "      width: 32px;\n",
              "    }\n",
              "\n",
              "    .colab-df-convert:hover {\n",
              "      background-color: #E2EBFA;\n",
              "      box-shadow: 0px 1px 2px rgba(60, 64, 67, 0.3), 0px 1px 3px 1px rgba(60, 64, 67, 0.15);\n",
              "      fill: #174EA6;\n",
              "    }\n",
              "\n",
              "    [theme=dark] .colab-df-convert {\n",
              "      background-color: #3B4455;\n",
              "      fill: #D2E3FC;\n",
              "    }\n",
              "\n",
              "    [theme=dark] .colab-df-convert:hover {\n",
              "      background-color: #434B5C;\n",
              "      box-shadow: 0px 1px 3px 1px rgba(0, 0, 0, 0.15);\n",
              "      filter: drop-shadow(0px 1px 2px rgba(0, 0, 0, 0.3));\n",
              "      fill: #FFFFFF;\n",
              "    }\n",
              "  </style>\n",
              "\n",
              "      <script>\n",
              "        const buttonEl =\n",
              "          document.querySelector('#df-7275c814-2cfc-4690-95b4-0b25f46298b8 button.colab-df-convert');\n",
              "        buttonEl.style.display =\n",
              "          google.colab.kernel.accessAllowed ? 'block' : 'none';\n",
              "\n",
              "        async function convertToInteractive(key) {\n",
              "          const element = document.querySelector('#df-7275c814-2cfc-4690-95b4-0b25f46298b8');\n",
              "          const dataTable =\n",
              "            await google.colab.kernel.invokeFunction('convertToInteractive',\n",
              "                                                     [key], {});\n",
              "          if (!dataTable) return;\n",
              "\n",
              "          const docLinkHtml = 'Like what you see? Visit the ' +\n",
              "            '<a target=\"_blank\" href=https://colab.research.google.com/notebooks/data_table.ipynb>data table notebook</a>'\n",
              "            + ' to learn more about interactive tables.';\n",
              "          element.innerHTML = '';\n",
              "          dataTable['output_type'] = 'display_data';\n",
              "          await google.colab.output.renderOutput(dataTable, element);\n",
              "          const docLink = document.createElement('div');\n",
              "          docLink.innerHTML = docLinkHtml;\n",
              "          element.appendChild(docLink);\n",
              "        }\n",
              "      </script>\n",
              "    </div>\n",
              "  </div>\n",
              "  "
            ]
          },
          "metadata": {},
          "execution_count": 194
        }
      ]
    },
    {
      "cell_type": "code",
      "source": [
        ""
      ],
      "metadata": {
        "id": "OvTI3nCMsvBZ"
      },
      "execution_count": 194,
      "outputs": []
    },
    {
      "cell_type": "code",
      "source": [
        "df_median_for_NAs.shape"
      ],
      "metadata": {
        "id": "om_uTXfrW62B",
        "colab": {
          "base_uri": "https://localhost:8080/"
        },
        "outputId": "62d93469-4f6b-4ef8-fb79-8847c63319e4"
      },
      "execution_count": 195,
      "outputs": [
        {
          "output_type": "execute_result",
          "data": {
            "text/plain": [
              "(3382, 5)"
            ]
          },
          "metadata": {},
          "execution_count": 195
        }
      ]
    },
    {
      "cell_type": "code",
      "source": [
        "# initialize our plot space.\n",
        "plt.figure(figsize=[22,15])\n",
        "plt.suptitle(\"Checking Distribution and Outliers for Foreign and Domestic Gross\", size=20)\n",
        "\n",
        "# histogram for sales\n",
        "plt.subplot(3,3,1)\n",
        "plt.hist(df_median_for_NAs['foreign_gross'], bins=200, color='#03396c')\n",
        "#plt.xlim(0,1000)\n",
        "\n",
        "# boxplot for sales\n",
        "plt.subplot(3,3,2)\n",
        "sns.boxplot(df_median_for_NAs['foreign_gross'], color='#b3cde0')\n",
        "\n",
        "# histogram for profit\n",
        "plt.subplot(3,3,3)\n",
        "sns.distplot(df_median_for_NAs['foreign_gross'])\n",
        "#plt.hist(df_dist['profit'], bins=200, color='#03396c')\n",
        "#plt.xlim(-250,300)\n",
        "\n",
        "plt.subplot(3,3,4)\n",
        "plt.hist(df_median_for_NAs['domestic_gross'], bins=200, color='#03396c')\n",
        "\n",
        "plt.subplot(3,3,5)\n",
        "sns.boxplot(df_median_for_NAs['domestic_gross'], color='#b3cde0')\n",
        "\n",
        "plt.subplot(3,3,6)\n",
        "sns.distplot(df_median_for_NAs['domestic_gross'], color='#b3cde0')\n",
        "\n",
        "# Boxplot for profit\n",
        "#plt.subplot(2,2,4)\n",
        "#sns.boxplot(df_dist['profit'], color='#b3cde0')\n",
        "\n",
        "\n",
        "plt.show()"
      ],
      "metadata": {
        "id": "czLZMzHpBMwV",
        "colab": {
          "base_uri": "https://localhost:8080/",
          "height": 745
        },
        "outputId": "393fac67-72a8-4745-e189-8dec8e549c45"
      },
      "execution_count": 199,
      "outputs": [
        {
          "output_type": "display_data",
          "data": {
            "text/plain": [
              "<Figure size 1584x1080 with 6 Axes>"
            ],
            "image/png": "[encoded data removed]"
          },
          "metadata": {}
        }
      ]
    },
    {
      "cell_type": "markdown",
      "source": [
        "###Create a df for dropping the NAs to find the mean and median\n",
        "\n"
      ],
      "metadata": {
        "id": "-mO_5ph-VB6N"
      }
    },
    {
      "cell_type": "code",
      "execution_count": 22,
      "metadata": {
        "id": "QRDeMFtrIu_i"
      },
      "outputs": [],
      "source": [
        "df_bom = pd.read_csv(\"/content/drive/MyDrive/Colab Notebooks/zippedData/bom.movie_gross.csv.gz\")"
      ]
    },
    {
      "cell_type": "code",
      "source": [
        "df_bom.dropna(inplace=True)"
      ],
      "metadata": {
        "id": "p7s-FSd4Mg_G"
      },
      "execution_count": 23,
      "outputs": []
    },
    {
      "cell_type": "code",
      "source": [
        "df_bom.shape"
      ],
      "metadata": {
        "id": "p-JM85p5wM1M",
        "colab": {
          "base_uri": "https://localhost:8080/"
        },
        "outputId": "57a1d06c-8580-4bf9-e4c5-3f5e31cc6a4b"
      },
      "execution_count": 24,
      "outputs": [
        {
          "output_type": "execute_result",
          "data": {
            "text/plain": [
              "(2007, 5)"
            ]
          },
          "metadata": {},
          "execution_count": 24
        }
      ]
    },
    {
      "cell_type": "code",
      "source": [
        "df_bom.head()"
      ],
      "metadata": {
        "id": "J-F9tVKbXOeA",
        "colab": {
          "base_uri": "https://localhost:8080/",
          "height": 206
        },
        "outputId": "b4c7d008-4d82-400e-971d-9c5287a38622"
      },
      "execution_count": 25,
      "outputs": [
        {
          "output_type": "execute_result",
          "data": {
            "text/plain": [
              "                                         title studio  domestic_gross  \\\n",
              "0                                  Toy Story 3     BV     415000000.0   \n",
              "1                   Alice in Wonderland (2010)     BV     334200000.0   \n",
              "2  Harry Potter and the Deathly Hallows Part 1     WB     296000000.0   \n",
              "3                                    Inception     WB     292600000.0   \n",
              "4                          Shrek Forever After   P/DW     238700000.0   \n",
              "\n",
              "  foreign_gross  year  \n",
              "0     652000000  2010  \n",
              "1     691300000  2010  \n",
              "2     664300000  2010  \n",
              "3     535700000  2010  \n",
              "4     513900000  2010  "
            ],
            "text/html": [
              "\n",
              "  <div id=\"df-07b43603-1cf6-4b86-b72b-0b2506679916\">\n",
              "    <div class=\"colab-df-container\">\n",
              "      <div>\n",
              "<style scoped>\n",
              "    .dataframe tbody tr th:only-of-type {\n",
              "        vertical-align: middle;\n",
              "    }\n",
              "\n",
              "    .dataframe tbody tr th {\n",
              "        vertical-align: top;\n",
              "    }\n",
              "\n",
              "    .dataframe thead th {\n",
              "        text-align: right;\n",
              "    }\n",
              "</style>\n",
              "<table border=\"1\" class=\"dataframe\">\n",
              "  <thead>\n",
              "    <tr style=\"text-align: right;\">\n",
              "      <th></th>\n",
              "      <th>title</th>\n",
              "      <th>studio</th>\n",
              "      <th>domestic_gross</th>\n",
              "      <th>foreign_gross</th>\n",
              "      <th>year</th>\n",
              "    </tr>\n",
              "  </thead>\n",
              "  <tbody>\n",
              "    <tr>\n",
              "      <th>0</th>\n",
              "      <td>Toy Story 3</td>\n",
              "      <td>BV</td>\n",
              "      <td>415000000.0</td>\n",
              "      <td>652000000</td>\n",
              "      <td>2010</td>\n",
              "    </tr>\n",
              "    <tr>\n",
              "      <th>1</th>\n",
              "      <td>Alice in Wonderland (2010)</td>\n",
              "      <td>BV</td>\n",
              "      <td>334200000.0</td>\n",
              "      <td>691300000</td>\n",
              "      <td>2010</td>\n",
              "    </tr>\n",
              "    <tr>\n",
              "      <th>2</th>\n",
              "      <td>Harry Potter and the Deathly Hallows Part 1</td>\n",
              "      <td>WB</td>\n",
              "      <td>296000000.0</td>\n",
              "      <td>664300000</td>\n",
              "      <td>2010</td>\n",
              "    </tr>\n",
              "    <tr>\n",
              "      <th>3</th>\n",
              "      <td>Inception</td>\n",
              "      <td>WB</td>\n",
              "      <td>292600000.0</td>\n",
              "      <td>535700000</td>\n",
              "      <td>2010</td>\n",
              "    </tr>\n",
              "    <tr>\n",
              "      <th>4</th>\n",
              "      <td>Shrek Forever After</td>\n",
              "      <td>P/DW</td>\n",
              "      <td>238700000.0</td>\n",
              "      <td>513900000</td>\n",
              "      <td>2010</td>\n",
              "    </tr>\n",
              "  </tbody>\n",
              "</table>\n",
              "</div>\n",
              "      <button class=\"colab-df-convert\" onclick=\"convertToInteractive('df-07b43603-1cf6-4b86-b72b-0b2506679916')\"\n",
              "              title=\"Convert this dataframe to an interactive table.\"\n",
              "              style=\"display:none;\">\n",
              "        \n",
              "  <svg xmlns=\"http://www.w3.org/2000/svg\" height=\"24px\"viewBox=\"0 0 24 24\"\n",
              "       width=\"24px\">\n",
              "    <path d=\"M0 0h24v24H0V0z\" fill=\"none\"/>\n",
              "    <path d=\"M18.56 5.44l.94 2.06.94-2.06 2.06-.94-2.06-.94-.94-2.06-.94 2.06-2.06.94zm-11 1L8.5 8.5l.94-2.06 2.06-.94-2.06-.94L8.5 2.5l-.94 2.06-2.06.94zm10 10l.94 2.06.94-2.06 2.06-.94-2.06-.94-.94-2.06-.94 2.06-2.06.94z\"/><path d=\"M17.41 7.96l-1.37-1.37c-.4-.4-.92-.59-1.43-.59-.52 0-1.04.2-1.43.59L10.3 9.45l-7.72 7.72c-.78.78-.78 2.05 0 2.83L4 21.41c.39.39.9.59 1.41.59.51 0 1.02-.2 1.41-.59l7.78-7.78 2.81-2.81c.8-.78.8-2.07 0-2.86zM5.41 20L4 18.59l7.72-7.72 1.47 1.35L5.41 20z\"/>\n",
              "  </svg>\n",
              "      </button>\n",
              "      \n",
              "  <style>\n",
              "    .colab-df-container {\n",
              "      display:flex;\n",
              "      flex-wrap:wrap;\n",
              "      gap: 12px;\n",
              "    }\n",
              "\n",
              "    .colab-df-convert {\n",
              "      background-color: #E8F0FE;\n",
              "      border: none;\n",
              "      border-radius: 50%;\n",
              "      cursor: pointer;\n",
              "      display: none;\n",
              "      fill: #1967D2;\n",
              "      height: 32px;\n",
              "      padding: 0 0 0 0;\n",
              "      width: 32px;\n",
              "    }\n",
              "\n",
              "    .colab-df-convert:hover {\n",
              "      background-color: #E2EBFA;\n",
              "      box-shadow: 0px 1px 2px rgba(60, 64, 67, 0.3), 0px 1px 3px 1px rgba(60, 64, 67, 0.15);\n",
              "      fill: #174EA6;\n",
              "    }\n",
              "\n",
              "    [theme=dark] .colab-df-convert {\n",
              "      background-color: #3B4455;\n",
              "      fill: #D2E3FC;\n",
              "    }\n",
              "\n",
              "    [theme=dark] .colab-df-convert:hover {\n",
              "      background-color: #434B5C;\n",
              "      box-shadow: 0px 1px 3px 1px rgba(0, 0, 0, 0.15);\n",
              "      filter: drop-shadow(0px 1px 2px rgba(0, 0, 0, 0.3));\n",
              "      fill: #FFFFFF;\n",
              "    }\n",
              "  </style>\n",
              "\n",
              "      <script>\n",
              "        const buttonEl =\n",
              "          document.querySelector('#df-07b43603-1cf6-4b86-b72b-0b2506679916 button.colab-df-convert');\n",
              "        buttonEl.style.display =\n",
              "          google.colab.kernel.accessAllowed ? 'block' : 'none';\n",
              "\n",
              "        async function convertToInteractive(key) {\n",
              "          const element = document.querySelector('#df-07b43603-1cf6-4b86-b72b-0b2506679916');\n",
              "          const dataTable =\n",
              "            await google.colab.kernel.invokeFunction('convertToInteractive',\n",
              "                                                     [key], {});\n",
              "          if (!dataTable) return;\n",
              "\n",
              "          const docLinkHtml = 'Like what you see? Visit the ' +\n",
              "            '<a target=\"_blank\" href=https://colab.research.google.com/notebooks/data_table.ipynb>data table notebook</a>'\n",
              "            + ' to learn more about interactive tables.';\n",
              "          element.innerHTML = '';\n",
              "          dataTable['output_type'] = 'display_data';\n",
              "          await google.colab.output.renderOutput(dataTable, element);\n",
              "          const docLink = document.createElement('div');\n",
              "          docLink.innerHTML = docLinkHtml;\n",
              "          element.appendChild(docLink);\n",
              "        }\n",
              "      </script>\n",
              "    </div>\n",
              "  </div>\n",
              "  "
            ]
          },
          "metadata": {},
          "execution_count": 25
        }
      ]
    },
    {
      "cell_type": "code",
      "source": [
        "#Confirm NAs are removed\n",
        "df_bom.isna().sum()"
      ],
      "metadata": {
        "id": "3XC2zG5dery5",
        "colab": {
          "base_uri": "https://localhost:8080/"
        },
        "outputId": "dd2172f1-b30a-4800-a69c-a9bb03013474"
      },
      "execution_count": 26,
      "outputs": [
        {
          "output_type": "execute_result",
          "data": {
            "text/plain": [
              "title             0\n",
              "studio            0\n",
              "domestic_gross    0\n",
              "foreign_gross     0\n",
              "year              0\n",
              "dtype: int64"
            ]
          },
          "metadata": {},
          "execution_count": 26
        }
      ]
    },
    {
      "cell_type": "code",
      "source": [
        "# Check data types\n",
        "df_bom.dtypes"
      ],
      "metadata": {
        "id": "i9glQuDcXXMS",
        "colab": {
          "base_uri": "https://localhost:8080/"
        },
        "outputId": "a5ca0d16-f638-4f87-eff3-2d5191f3b576"
      },
      "execution_count": 27,
      "outputs": [
        {
          "output_type": "execute_result",
          "data": {
            "text/plain": [
              "title              object\n",
              "studio             object\n",
              "domestic_gross    float64\n",
              "foreign_gross      object\n",
              "year                int64\n",
              "dtype: object"
            ]
          },
          "metadata": {},
          "execution_count": 27
        }
      ]
    },
    {
      "cell_type": "code",
      "source": [
        "#Check rows with non-numeric values on the foreign_gross cloumn\n",
        "import pandas as pd\n",
        "import re\n",
        "\n",
        "non_numeric = re.compile(r'[^\\d.]+')\n",
        "\n",
        "#df = pd.DataFrame({'a': [3,2,'NA']})\n",
        "df_bom['foreign_gross'].loc[df_bom['foreign_gross'].str.contains(non_numeric)]"
      ],
      "metadata": {
        "id": "8-krpynff4WX",
        "colab": {
          "base_uri": "https://localhost:8080/"
        },
        "outputId": "edcf9894-3ae0-4c40-a051-e44a9cdf7c68"
      },
      "execution_count": 28,
      "outputs": [
        {
          "output_type": "execute_result",
          "data": {
            "text/plain": [
              "1872    1,131.6\n",
              "1873    1,019.4\n",
              "1874    1,163.0\n",
              "2760    1,010.0\n",
              "3079    1,369.5\n",
              "Name: foreign_gross, dtype: object"
            ]
          },
          "metadata": {},
          "execution_count": 28
        }
      ]
    },
    {
      "cell_type": "code",
      "source": [
        "#df_bom['year'].loc[df_bom['year'].str.contains(non_numeric)]"
      ],
      "metadata": {
        "id": "phEqjVnq9IHz"
      },
      "execution_count": 29,
      "outputs": []
    },
    {
      "cell_type": "code",
      "source": [
        "#Remove the rows with those data\n",
        "df_bom = df_bom.drop([1872,1873,1874,2760,3079])"
      ],
      "metadata": {
        "id": "meHEg4P1gzOz"
      },
      "execution_count": 30,
      "outputs": []
    },
    {
      "cell_type": "code",
      "source": [
        "#covert the column to integer\n",
        "df_bom['foreign_gross'] = pd.to_numeric(df_bom['foreign_gross'])"
      ],
      "metadata": {
        "id": "knoyS8foePWK"
      },
      "execution_count": 31,
      "outputs": []
    },
    {
      "cell_type": "code",
      "source": [
        "df_bom.dtypes"
      ],
      "metadata": {
        "id": "ZO5u_VDnhau-",
        "colab": {
          "base_uri": "https://localhost:8080/"
        },
        "outputId": "312dd0b6-d33b-44d2-b597-16bb6730b52e"
      },
      "execution_count": 32,
      "outputs": [
        {
          "output_type": "execute_result",
          "data": {
            "text/plain": [
              "title              object\n",
              "studio             object\n",
              "domestic_gross    float64\n",
              "foreign_gross       int64\n",
              "year                int64\n",
              "dtype: object"
            ]
          },
          "metadata": {},
          "execution_count": 32
        }
      ]
    },
    {
      "cell_type": "code",
      "source": [
        "#covert the column to float\n",
        "df_bom['foreign_gross'] = df_bom['foreign_gross'].astype(float)"
      ],
      "metadata": {
        "id": "IxJjmTwYhjWo"
      },
      "execution_count": 33,
      "outputs": []
    },
    {
      "cell_type": "code",
      "source": [
        "#Confirm type changes\n",
        "df_bom.dtypes"
      ],
      "metadata": {
        "id": "EW80q04Ih9Qz",
        "colab": {
          "base_uri": "https://localhost:8080/"
        },
        "outputId": "43606e3b-cfe7-412d-8cde-a68802e4a09c"
      },
      "execution_count": 34,
      "outputs": [
        {
          "output_type": "execute_result",
          "data": {
            "text/plain": [
              "title              object\n",
              "studio             object\n",
              "domestic_gross    float64\n",
              "foreign_gross     float64\n",
              "year                int64\n",
              "dtype: object"
            ]
          },
          "metadata": {},
          "execution_count": 34
        }
      ]
    },
    {
      "cell_type": "code",
      "source": [
        "# initialize our plot space.\n",
        "plt.figure(figsize=[22,15])\n",
        "plt.suptitle(\"Checking Distribution and Outliers for Foreign and Domestic Gross\", size=20)\n",
        "\n",
        "# histogram for foreign gross\n",
        "plt.subplot(3,3,1)\n",
        "plt.hist(df_bom['foreign_gross'], bins=200, color='#03396c')\n",
        "#plt.xlim(0,1000)\n",
        "\n",
        "# boxplot for sales\n",
        "plt.subplot(3,3,2)\n",
        "sns.boxplot(df_bom['foreign_gross'], color='#b3cde0')\n",
        "\n",
        "# histogram for profit\n",
        "plt.subplot(3,3,3)\n",
        "sns.distplot(df_bom['foreign_gross'])\n",
        "#plt.hist(df_dist['profit'], bins=200, color='#03396c')\n",
        "#plt.xlim(-250,300)\n",
        "\n",
        "plt.subplot(3,3,4)\n",
        "plt.hist(df_bom['domestic_gross'], bins=200, color='#03396c')\n",
        "\n",
        "plt.subplot(3,3,5)\n",
        "sns.boxplot(df_bom['domestic_gross'], color='#b3cde0')\n",
        "\n",
        "plt.subplot(3,3,6)\n",
        "sns.distplot(df_bom['domestic_gross'], color='#b3cde0')\n",
        "\n",
        "\n",
        "\n",
        "plt.show()"
      ],
      "metadata": {
        "id": "HFrf7unTyXgg",
        "colab": {
          "base_uri": "https://localhost:8080/",
          "height": 745
        },
        "outputId": "864c75aa-e03b-4415-86e0-66b4f07bead1"
      },
      "execution_count": 38,
      "outputs": [
        {
          "output_type": "display_data",
          "data": {
            "text/plain": [
              "<Figure size 1584x1080 with 6 Axes>"
            ],
            "image/png": "[encoded data removed]"
          },
          "metadata": {}
        }
      ]
    },
    {
      "cell_type": "code",
      "source": [
        "#Skewness the degree of asymmetry observed in a probability distribution. \n",
        "print('Skewness : ', df_bom['foreign_gross'].skew())"
      ],
      "metadata": {
        "colab": {
          "base_uri": "https://localhost:8080/"
        },
        "id": "p2kLmlrXtAow",
        "outputId": "fdaad517-24e2-4b08-85d3-0ab7a5ec847e"
      },
      "execution_count": 39,
      "outputs": [
        {
          "output_type": "stream",
          "name": "stdout",
          "text": [
            "Skewness :  3.0667438949171353\n"
          ]
        }
      ]
    },
    {
      "cell_type": "code",
      "source": [
        "# measure of the degree to which scores cluster in the tails or the peak of a frequency distribution.\n",
        "print('Kurtosis : ', df_bom['foreign_gross'].kurt())"
      ],
      "metadata": {
        "colab": {
          "base_uri": "https://localhost:8080/"
        },
        "id": "Ol945OdnuPLs",
        "outputId": "542ba718-896a-4565-b9a8-22d9830d3fdb"
      },
      "execution_count": 40,
      "outputs": [
        {
          "output_type": "stream",
          "name": "stdout",
          "text": [
            "Kurtosis :  10.674168641009764\n"
          ]
        }
      ]
    },
    {
      "cell_type": "code",
      "source": [
        "df_bom['foreign_gross'].min()"
      ],
      "metadata": {
        "id": "94jPvBCmuEH7",
        "colab": {
          "base_uri": "https://localhost:8080/"
        },
        "outputId": "33533cce-6abb-47c6-b0dd-8759f30db3ce"
      },
      "execution_count": 41,
      "outputs": [
        {
          "output_type": "execute_result",
          "data": {
            "text/plain": [
              "600.0"
            ]
          },
          "metadata": {},
          "execution_count": 41
        }
      ]
    },
    {
      "cell_type": "code",
      "source": [
        "df_bom['foreign_gross'].max()"
      ],
      "metadata": {
        "id": "mvnNW9WcuO1T",
        "colab": {
          "base_uri": "https://localhost:8080/"
        },
        "outputId": "2b91373a-a64a-4349-f105-1819f2cd2871"
      },
      "execution_count": 42,
      "outputs": [
        {
          "output_type": "execute_result",
          "data": {
            "text/plain": [
              "960500000.0"
            ]
          },
          "metadata": {},
          "execution_count": 42
        }
      ]
    },
    {
      "cell_type": "code",
      "source": [
        "df_bom['domestic_gross'].min()"
      ],
      "metadata": {
        "id": "7mPORXuHuqvN",
        "colab": {
          "base_uri": "https://localhost:8080/"
        },
        "outputId": "b7c5b321-a294-440a-f02d-9c2cd17292c1"
      },
      "execution_count": 46,
      "outputs": [
        {
          "output_type": "execute_result",
          "data": {
            "text/plain": [
              "400.0"
            ]
          },
          "metadata": {},
          "execution_count": 46
        }
      ]
    },
    {
      "cell_type": "code",
      "source": [
        "df_bom['domestic_gross'].max()"
      ],
      "metadata": {
        "id": "ZKIQBJoAuqrq",
        "colab": {
          "base_uri": "https://localhost:8080/"
        },
        "outputId": "0ad7fc6f-6020-45ff-836c-65e64bbbc666"
      },
      "execution_count": 47,
      "outputs": [
        {
          "output_type": "execute_result",
          "data": {
            "text/plain": [
              "700100000.0"
            ]
          },
          "metadata": {},
          "execution_count": 47
        }
      ]
    },
    {
      "cell_type": "code",
      "source": [
        "df_bom.head()"
      ],
      "metadata": {
        "id": "R7Xfi409uqhE",
        "colab": {
          "base_uri": "https://localhost:8080/",
          "height": 215
        },
        "outputId": "abee4d7d-bcc0-4951-c620-5a045bdae4de"
      },
      "execution_count": 207,
      "outputs": [
        {
          "output_type": "execute_result",
          "data": {
            "text/plain": [
              "                  title studio  domestic_gross  foreign_gross  year\n",
              "76        Vampires Suck    Fox      36700000.0     43900000.0  2010\n",
              "78     The Back-Up Plan    CBS      37500000.0     40000000.0  2010\n",
              "86         The American  Focus      35600000.0     32299999.0  2010\n",
              "88  The Next Three Days    LGF      21100000.0     46300000.0  2010\n",
              "90              Skyline   Uni.      21400000.0     45400000.0  2010"
            ],
            "text/html": [
              "\n",
              "  <div id=\"df-1747e778-f3c9-4a02-a460-3032bebafe7d\">\n",
              "    <div class=\"colab-df-container\">\n",
              "      <div>\n",
              "<style scoped>\n",
              "    .dataframe tbody tr th:only-of-type {\n",
              "        vertical-align: middle;\n",
              "    }\n",
              "\n",
              "    .dataframe tbody tr th {\n",
              "        vertical-align: top;\n",
              "    }\n",
              "\n",
              "    .dataframe thead th {\n",
              "        text-align: right;\n",
              "    }\n",
              "</style>\n",
              "<table border=\"1\" class=\"dataframe\">\n",
              "  <thead>\n",
              "    <tr style=\"text-align: right;\">\n",
              "      <th></th>\n",
              "      <th>title</th>\n",
              "      <th>studio</th>\n",
              "      <th>domestic_gross</th>\n",
              "      <th>foreign_gross</th>\n",
              "      <th>year</th>\n",
              "    </tr>\n",
              "  </thead>\n",
              "  <tbody>\n",
              "    <tr>\n",
              "      <th>76</th>\n",
              "      <td>Vampires Suck</td>\n",
              "      <td>Fox</td>\n",
              "      <td>36700000.0</td>\n",
              "      <td>43900000.0</td>\n",
              "      <td>2010</td>\n",
              "    </tr>\n",
              "    <tr>\n",
              "      <th>78</th>\n",
              "      <td>The Back-Up Plan</td>\n",
              "      <td>CBS</td>\n",
              "      <td>37500000.0</td>\n",
              "      <td>40000000.0</td>\n",
              "      <td>2010</td>\n",
              "    </tr>\n",
              "    <tr>\n",
              "      <th>86</th>\n",
              "      <td>The American</td>\n",
              "      <td>Focus</td>\n",
              "      <td>35600000.0</td>\n",
              "      <td>32299999.0</td>\n",
              "      <td>2010</td>\n",
              "    </tr>\n",
              "    <tr>\n",
              "      <th>88</th>\n",
              "      <td>The Next Three Days</td>\n",
              "      <td>LGF</td>\n",
              "      <td>21100000.0</td>\n",
              "      <td>46300000.0</td>\n",
              "      <td>2010</td>\n",
              "    </tr>\n",
              "    <tr>\n",
              "      <th>90</th>\n",
              "      <td>Skyline</td>\n",
              "      <td>Uni.</td>\n",
              "      <td>21400000.0</td>\n",
              "      <td>45400000.0</td>\n",
              "      <td>2010</td>\n",
              "    </tr>\n",
              "  </tbody>\n",
              "</table>\n",
              "</div>\n",
              "      <button class=\"colab-df-convert\" onclick=\"convertToInteractive('df-1747e778-f3c9-4a02-a460-3032bebafe7d')\"\n",
              "              title=\"Convert this dataframe to an interactive table.\"\n",
              "              style=\"display:none;\">\n",
              "        \n",
              "  <svg xmlns=\"http://www.w3.org/2000/svg\" height=\"24px\"viewBox=\"0 0 24 24\"\n",
              "       width=\"24px\">\n",
              "    <path d=\"M0 0h24v24H0V0z\" fill=\"none\"/>\n",
              "    <path d=\"M18.56 5.44l.94 2.06.94-2.06 2.06-.94-2.06-.94-.94-2.06-.94 2.06-2.06.94zm-11 1L8.5 8.5l.94-2.06 2.06-.94-2.06-.94L8.5 2.5l-.94 2.06-2.06.94zm10 10l.94 2.06.94-2.06 2.06-.94-2.06-.94-.94-2.06-.94 2.06-2.06.94z\"/><path d=\"M17.41 7.96l-1.37-1.37c-.4-.4-.92-.59-1.43-.59-.52 0-1.04.2-1.43.59L10.3 9.45l-7.72 7.72c-.78.78-.78 2.05 0 2.83L4 21.41c.39.39.9.59 1.41.59.51 0 1.02-.2 1.41-.59l7.78-7.78 2.81-2.81c.8-.78.8-2.07 0-2.86zM5.41 20L4 18.59l7.72-7.72 1.47 1.35L5.41 20z\"/>\n",
              "  </svg>\n",
              "      </button>\n",
              "      \n",
              "  <style>\n",
              "    .colab-df-container {\n",
              "      display:flex;\n",
              "      flex-wrap:wrap;\n",
              "      gap: 12px;\n",
              "    }\n",
              "\n",
              "    .colab-df-convert {\n",
              "      background-color: #E8F0FE;\n",
              "      border: none;\n",
              "      border-radius: 50%;\n",
              "      cursor: pointer;\n",
              "      display: none;\n",
              "      fill: #1967D2;\n",
              "      height: 32px;\n",
              "      padding: 0 0 0 0;\n",
              "      width: 32px;\n",
              "    }\n",
              "\n",
              "    .colab-df-convert:hover {\n",
              "      background-color: #E2EBFA;\n",
              "      box-shadow: 0px 1px 2px rgba(60, 64, 67, 0.3), 0px 1px 3px 1px rgba(60, 64, 67, 0.15);\n",
              "      fill: #174EA6;\n",
              "    }\n",
              "\n",
              "    [theme=dark] .colab-df-convert {\n",
              "      background-color: #3B4455;\n",
              "      fill: #D2E3FC;\n",
              "    }\n",
              "\n",
              "    [theme=dark] .colab-df-convert:hover {\n",
              "      background-color: #434B5C;\n",
              "      box-shadow: 0px 1px 3px 1px rgba(0, 0, 0, 0.15);\n",
              "      filter: drop-shadow(0px 1px 2px rgba(0, 0, 0, 0.3));\n",
              "      fill: #FFFFFF;\n",
              "    }\n",
              "  </style>\n",
              "\n",
              "      <script>\n",
              "        const buttonEl =\n",
              "          document.querySelector('#df-1747e778-f3c9-4a02-a460-3032bebafe7d button.colab-df-convert');\n",
              "        buttonEl.style.display =\n",
              "          google.colab.kernel.accessAllowed ? 'block' : 'none';\n",
              "\n",
              "        async function convertToInteractive(key) {\n",
              "          const element = document.querySelector('#df-1747e778-f3c9-4a02-a460-3032bebafe7d');\n",
              "          const dataTable =\n",
              "            await google.colab.kernel.invokeFunction('convertToInteractive',\n",
              "                                                     [key], {});\n",
              "          if (!dataTable) return;\n",
              "\n",
              "          const docLinkHtml = 'Like what you see? Visit the ' +\n",
              "            '<a target=\"_blank\" href=https://colab.research.google.com/notebooks/data_table.ipynb>data table notebook</a>'\n",
              "            + ' to learn more about interactive tables.';\n",
              "          element.innerHTML = '';\n",
              "          dataTable['output_type'] = 'display_data';\n",
              "          await google.colab.output.renderOutput(dataTable, element);\n",
              "          const docLink = document.createElement('div');\n",
              "          docLink.innerHTML = docLinkHtml;\n",
              "          element.appendChild(docLink);\n",
              "        }\n",
              "      </script>\n",
              "    </div>\n",
              "  </div>\n",
              "  "
            ]
          },
          "metadata": {},
          "execution_count": 207
        }
      ]
    },
    {
      "cell_type": "markdown",
      "source": [
        "Take out ouliers"
      ],
      "metadata": {
        "id": "NSjQApRgvWIs"
      }
    },
    {
      "cell_type": "code",
      "execution_count": 49,
      "metadata": {
        "id": "UPCb4ziBIu_2"
      },
      "outputs": [],
      "source": [
        "#Set foreign to 200000000 & dmoestic 150000000\n",
        "df_bom = df_bom[(df_bom['foreign_gross'] <= 200000000) & (df_bom['domestic_gross'] <= 150000000)]"
      ]
    },
    {
      "cell_type": "code",
      "source": [
        "df_bom.shape"
      ],
      "metadata": {
        "id": "myWGZtoIiYpm",
        "colab": {
          "base_uri": "https://localhost:8080/"
        },
        "outputId": "81559618-7576-43cc-fa29-c56b501c1683"
      },
      "execution_count": 50,
      "outputs": [
        {
          "output_type": "execute_result",
          "data": {
            "text/plain": [
              "(1740, 5)"
            ]
          },
          "metadata": {},
          "execution_count": 50
        }
      ]
    },
    {
      "cell_type": "code",
      "execution_count": 51,
      "metadata": {
        "id": "zdMj5TAkIu_2",
        "colab": {
          "base_uri": "https://localhost:8080/",
          "height": 745
        },
        "outputId": "e12be9d0-8f4b-4962-e546-9c698788b7f5"
      },
      "outputs": [
        {
          "output_type": "display_data",
          "data": {
            "text/plain": [
              "<Figure size 1584x1080 with 6 Axes>"
            ],
            "image/png": "[encoded data removed]"
          },
          "metadata": {}
        }
      ],
      "source": [
        "# initialize our plot space.\n",
        "plt.figure(figsize=[22,15])\n",
        "plt.suptitle(\"Checking Distribution and Outliers for Foreign and Domestic Gross\", size=20)\n",
        "\n",
        "# histogram for foreign gross\n",
        "plt.subplot(3,3,1)\n",
        "plt.hist(df_bom['foreign_gross'], bins=200, color='#03396c')\n",
        "#plt.xlim(0,1000)\n",
        "\n",
        "# boxplot for sales\n",
        "plt.subplot(3,3,2)\n",
        "sns.boxplot(df_bom['foreign_gross'], color='#b3cde0')\n",
        "\n",
        "# histogram for profit\n",
        "plt.subplot(3,3,3)\n",
        "sns.distplot(df_bom['foreign_gross'])\n",
        "#plt.hist(df_dist['profit'], bins=200, color='#03396c')\n",
        "#plt.xlim(-250,300)\n",
        "\n",
        "plt.subplot(3,3,4)\n",
        "plt.hist(df_bom['domestic_gross'], bins=200, color='#03396c')\n",
        "\n",
        "plt.subplot(3,3,5)\n",
        "sns.boxplot(df_bom['domestic_gross'], color='#b3cde0')\n",
        "\n",
        "plt.subplot(3,3,6)\n",
        "sns.distplot(df_bom['domestic_gross'], color='#b3cde0')\n",
        "\n",
        "\n",
        "plt.show()"
      ]
    },
    {
      "cell_type": "code",
      "execution_count": 52,
      "metadata": {
        "id": "AvumfyFFIu_2"
      },
      "outputs": [],
      "source": [
        "#Remove outliers further\n",
        "#Set foreign to 50000000 & dmoestic 40000000\n",
        "df_bom = df_bom[(df_bom['foreign_gross'] <= 50000000) & (df_bom['domestic_gross'] <= 40000000)]"
      ]
    },
    {
      "cell_type": "code",
      "source": [
        "df_bom.shape"
      ],
      "metadata": {
        "id": "84w2Q3tiifaD",
        "colab": {
          "base_uri": "https://localhost:8080/"
        },
        "outputId": "e93b9eba-2061-4182-81d4-c32d7cc692bf"
      },
      "execution_count": 53,
      "outputs": [
        {
          "output_type": "execute_result",
          "data": {
            "text/plain": [
              "(1177, 5)"
            ]
          },
          "metadata": {},
          "execution_count": 53
        }
      ]
    },
    {
      "cell_type": "code",
      "source": [
        "# initialize our plot space.\n",
        "plt.figure(figsize=[22,15])\n",
        "plt.suptitle(\"Checking Distribution and Outliers for Foreign and Domestic Gross\", size=20)\n",
        "\n",
        "# histogram for foreign gross\n",
        "plt.subplot(3,3,1)\n",
        "plt.hist(df_bom['foreign_gross'], bins=200, color='#03396c')\n",
        "#plt.xlim(0,1000)\n",
        "\n",
        "# boxplot for sales\n",
        "plt.subplot(3,3,2)\n",
        "sns.boxplot(df_bom['foreign_gross'], color='#b3cde0')\n",
        "\n",
        "# histogram for profit\n",
        "plt.subplot(3,3,3)\n",
        "sns.distplot(df_bom['foreign_gross'])\n",
        "#plt.hist(df_dist['profit'], bins=200, color='#03396c')\n",
        "#plt.xlim(-250,300)\n",
        "\n",
        "plt.subplot(3,3,4)\n",
        "plt.hist(df_bom['domestic_gross'], bins=200, color='#03396c')\n",
        "\n",
        "plt.subplot(3,3,5)\n",
        "sns.boxplot(df_bom['domestic_gross'], color='#b3cde0')\n",
        "\n",
        "plt.subplot(3,3,6)\n",
        "sns.distplot(df_bom['domestic_gross'], color='#b3cde0')\n",
        "\n",
        "\n",
        "plt.show()"
      ],
      "metadata": {
        "id": "vfQqtAM8iLv5",
        "colab": {
          "base_uri": "https://localhost:8080/",
          "height": 745
        },
        "outputId": "7ce9249a-db56-4139-a4da-9c7ebbd39dbb"
      },
      "execution_count": 54,
      "outputs": [
        {
          "output_type": "display_data",
          "data": {
            "text/plain": [
              "<Figure size 1584x1080 with 6 Axes>"
            ],
            "image/png": "[encoded data removed]"
          },
          "metadata": {}
        }
      ]
    },
    {
      "cell_type": "code",
      "source": [
        "df_bom.describe()"
      ],
      "metadata": {
        "id": "el-ORMiXVT1n",
        "colab": {
          "base_uri": "https://localhost:8080/",
          "height": 279
        },
        "outputId": "4ba9fb9d-1588-4229-d000-c3bc0d6d4017"
      },
      "execution_count": 55,
      "outputs": [
        {
          "output_type": "execute_result",
          "data": {
            "text/plain": [
              "       domestic_gross  foreign_gross         year\n",
              "count    1.177000e+03   1.177000e+03  1177.000000\n",
              "mean     8.209050e+06   1.073325e+07  2013.182668\n",
              "std      1.109157e+07   1.216069e+07     2.587208\n",
              "min      4.000000e+02   6.000000e+02  2010.000000\n",
              "25%      1.740000e+05   1.200000e+06  2011.000000\n",
              "50%      2.000000e+06   6.000000e+06  2013.000000\n",
              "75%      1.400000e+07   1.650000e+07  2015.000000\n",
              "max      4.000000e+07   4.980000e+07  2018.000000"
            ],
            "text/html": [
              "\n",
              "  <div id=\"df-89355687-40b9-4f33-95e5-787b03d1c6dc\">\n",
              "    <div class=\"colab-df-container\">\n",
              "      <div>\n",
              "<style scoped>\n",
              "    .dataframe tbody tr th:only-of-type {\n",
              "        vertical-align: middle;\n",
              "    }\n",
              "\n",
              "    .dataframe tbody tr th {\n",
              "        vertical-align: top;\n",
              "    }\n",
              "\n",
              "    .dataframe thead th {\n",
              "        text-align: right;\n",
              "    }\n",
              "</style>\n",
              "<table border=\"1\" class=\"dataframe\">\n",
              "  <thead>\n",
              "    <tr style=\"text-align: right;\">\n",
              "      <th></th>\n",
              "      <th>domestic_gross</th>\n",
              "      <th>foreign_gross</th>\n",
              "      <th>year</th>\n",
              "    </tr>\n",
              "  </thead>\n",
              "  <tbody>\n",
              "    <tr>\n",
              "      <th>count</th>\n",
              "      <td>1.177000e+03</td>\n",
              "      <td>1.177000e+03</td>\n",
              "      <td>1177.000000</td>\n",
              "    </tr>\n",
              "    <tr>\n",
              "      <th>mean</th>\n",
              "      <td>8.209050e+06</td>\n",
              "      <td>1.073325e+07</td>\n",
              "      <td>2013.182668</td>\n",
              "    </tr>\n",
              "    <tr>\n",
              "      <th>std</th>\n",
              "      <td>1.109157e+07</td>\n",
              "      <td>1.216069e+07</td>\n",
              "      <td>2.587208</td>\n",
              "    </tr>\n",
              "    <tr>\n",
              "      <th>min</th>\n",
              "      <td>4.000000e+02</td>\n",
              "      <td>6.000000e+02</td>\n",
              "      <td>2010.000000</td>\n",
              "    </tr>\n",
              "    <tr>\n",
              "      <th>25%</th>\n",
              "      <td>1.740000e+05</td>\n",
              "      <td>1.200000e+06</td>\n",
              "      <td>2011.000000</td>\n",
              "    </tr>\n",
              "    <tr>\n",
              "      <th>50%</th>\n",
              "      <td>2.000000e+06</td>\n",
              "      <td>6.000000e+06</td>\n",
              "      <td>2013.000000</td>\n",
              "    </tr>\n",
              "    <tr>\n",
              "      <th>75%</th>\n",
              "      <td>1.400000e+07</td>\n",
              "      <td>1.650000e+07</td>\n",
              "      <td>2015.000000</td>\n",
              "    </tr>\n",
              "    <tr>\n",
              "      <th>max</th>\n",
              "      <td>4.000000e+07</td>\n",
              "      <td>4.980000e+07</td>\n",
              "      <td>2018.000000</td>\n",
              "    </tr>\n",
              "  </tbody>\n",
              "</table>\n",
              "</div>\n",
              "      <button class=\"colab-df-convert\" onclick=\"convertToInteractive('df-89355687-40b9-4f33-95e5-787b03d1c6dc')\"\n",
              "              title=\"Convert this dataframe to an interactive table.\"\n",
              "              style=\"display:none;\">\n",
              "        \n",
              "  <svg xmlns=\"http://www.w3.org/2000/svg\" height=\"24px\"viewBox=\"0 0 24 24\"\n",
              "       width=\"24px\">\n",
              "    <path d=\"M0 0h24v24H0V0z\" fill=\"none\"/>\n",
              "    <path d=\"M18.56 5.44l.94 2.06.94-2.06 2.06-.94-2.06-.94-.94-2.06-.94 2.06-2.06.94zm-11 1L8.5 8.5l.94-2.06 2.06-.94-2.06-.94L8.5 2.5l-.94 2.06-2.06.94zm10 10l.94 2.06.94-2.06 2.06-.94-2.06-.94-.94-2.06-.94 2.06-2.06.94z\"/><path d=\"M17.41 7.96l-1.37-1.37c-.4-.4-.92-.59-1.43-.59-.52 0-1.04.2-1.43.59L10.3 9.45l-7.72 7.72c-.78.78-.78 2.05 0 2.83L4 21.41c.39.39.9.59 1.41.59.51 0 1.02-.2 1.41-.59l7.78-7.78 2.81-2.81c.8-.78.8-2.07 0-2.86zM5.41 20L4 18.59l7.72-7.72 1.47 1.35L5.41 20z\"/>\n",
              "  </svg>\n",
              "      </button>\n",
              "      \n",
              "  <style>\n",
              "    .colab-df-container {\n",
              "      display:flex;\n",
              "      flex-wrap:wrap;\n",
              "      gap: 12px;\n",
              "    }\n",
              "\n",
              "    .colab-df-convert {\n",
              "      background-color: #E8F0FE;\n",
              "      border: none;\n",
              "      border-radius: 50%;\n",
              "      cursor: pointer;\n",
              "      display: none;\n",
              "      fill: #1967D2;\n",
              "      height: 32px;\n",
              "      padding: 0 0 0 0;\n",
              "      width: 32px;\n",
              "    }\n",
              "\n",
              "    .colab-df-convert:hover {\n",
              "      background-color: #E2EBFA;\n",
              "      box-shadow: 0px 1px 2px rgba(60, 64, 67, 0.3), 0px 1px 3px 1px rgba(60, 64, 67, 0.15);\n",
              "      fill: #174EA6;\n",
              "    }\n",
              "\n",
              "    [theme=dark] .colab-df-convert {\n",
              "      background-color: #3B4455;\n",
              "      fill: #D2E3FC;\n",
              "    }\n",
              "\n",
              "    [theme=dark] .colab-df-convert:hover {\n",
              "      background-color: #434B5C;\n",
              "      box-shadow: 0px 1px 3px 1px rgba(0, 0, 0, 0.15);\n",
              "      filter: drop-shadow(0px 1px 2px rgba(0, 0, 0, 0.3));\n",
              "      fill: #FFFFFF;\n",
              "    }\n",
              "  </style>\n",
              "\n",
              "      <script>\n",
              "        const buttonEl =\n",
              "          document.querySelector('#df-89355687-40b9-4f33-95e5-787b03d1c6dc button.colab-df-convert');\n",
              "        buttonEl.style.display =\n",
              "          google.colab.kernel.accessAllowed ? 'block' : 'none';\n",
              "\n",
              "        async function convertToInteractive(key) {\n",
              "          const element = document.querySelector('#df-89355687-40b9-4f33-95e5-787b03d1c6dc');\n",
              "          const dataTable =\n",
              "            await google.colab.kernel.invokeFunction('convertToInteractive',\n",
              "                                                     [key], {});\n",
              "          if (!dataTable) return;\n",
              "\n",
              "          const docLinkHtml = 'Like what you see? Visit the ' +\n",
              "            '<a target=\"_blank\" href=https://colab.research.google.com/notebooks/data_table.ipynb>data table notebook</a>'\n",
              "            + ' to learn more about interactive tables.';\n",
              "          element.innerHTML = '';\n",
              "          dataTable['output_type'] = 'display_data';\n",
              "          await google.colab.output.renderOutput(dataTable, element);\n",
              "          const docLink = document.createElement('div');\n",
              "          docLink.innerHTML = docLinkHtml;\n",
              "          element.appendChild(docLink);\n",
              "        }\n",
              "      </script>\n",
              "    </div>\n",
              "  </div>\n",
              "  "
            ]
          },
          "metadata": {},
          "execution_count": 55
        }
      ]
    },
    {
      "cell_type": "code",
      "source": [
        "#Check the studios as categorical options [done]\n",
        "# df_bom.studio.value_counts()\n",
        "#Plot bar chart of the gross and domestic gross\n",
        "# Use groupby to sum total gross by studio and year\n",
        "# limiting groupby aggregate [done]\n",
        "# slanting chart labels [done]\n",
        "# clean date [NA]\n",
        "# Find corolation between domestic and foreign gross [done]"
      ],
      "metadata": {
        "id": "fO3SXzAwjWgv"
      },
      "execution_count": 56,
      "outputs": []
    },
    {
      "cell_type": "code",
      "source": [
        "df_bom.year.value_counts()"
      ],
      "metadata": {
        "id": "RUkrDWJAjWMC",
        "colab": {
          "base_uri": "https://localhost:8080/"
        },
        "outputId": "29246afa-2c57-4b7f-c72b-d731cb2af089"
      },
      "execution_count": 57,
      "outputs": [
        {
          "output_type": "execute_result",
          "data": {
            "text/plain": [
              "2010    217\n",
              "2011    199\n",
              "2012    148\n",
              "2014    136\n",
              "2013    108\n",
              "2015     98\n",
              "2016     93\n",
              "2017     89\n",
              "2018     89\n",
              "Name: year, dtype: int64"
            ]
          },
          "metadata": {},
          "execution_count": 57
        }
      ]
    },
    {
      "cell_type": "markdown",
      "source": [
        "Plotting Domestic and Foreign Earnings"
      ],
      "metadata": {
        "id": "88wVglvuKxR5"
      }
    },
    {
      "cell_type": "code",
      "source": [
        "#Group by year and studio\n",
        "#df_bar = (df_bom.groupby([\"studio\",\"year\"])[\"domestic_gross\"].sum()).nlargest(10)\n",
        "##df_bar"
      ],
      "metadata": {
        "id": "nNWMk7gd4lGP"
      },
      "execution_count": 58,
      "outputs": []
    },
    {
      "cell_type": "code",
      "source": [
        "# Plotting #Group by year and studio\n",
        "# df_bar.plot(kind='bar', figsize=[12,6], color = ['#009688', '#35a79c', '#54b2a9', '#65c3ba', '#83d0c9'], title=\"test\")\n",
        "# plt.ylabel(\"Family Member\")"
      ],
      "metadata": {
        "id": "c0QHEZfHjV1C"
      },
      "execution_count": 59,
      "outputs": []
    },
    {
      "cell_type": "code",
      "source": [
        "df_studio__domestic_gross = (df_bom.groupby(\"studio\")[\"domestic_gross\"].sum()).nlargest(10)\n",
        "df_studio__domestic_gross "
      ],
      "metadata": {
        "id": "jad2X4jt_6gt",
        "colab": {
          "base_uri": "https://localhost:8080/"
        },
        "outputId": "ebb02183-6e59-4f2a-b2b8-07142ac8c284"
      },
      "execution_count": 60,
      "outputs": [
        {
          "output_type": "execute_result",
          "data": {
            "text/plain": [
              "studio\n",
              "LGF      800345400.0\n",
              "WB       779000000.0\n",
              "Uni.     771838000.0\n",
              "Focus    530100000.0\n",
              "Fox      524200000.0\n",
              "Par.     494912700.0\n",
              "ORF      479899999.0\n",
              "Rela.    443039000.0\n",
              "BV       418580699.0\n",
              "FoxS     401900000.0\n",
              "Name: domestic_gross, dtype: float64"
            ]
          },
          "metadata": {},
          "execution_count": 60
        }
      ]
    },
    {
      "cell_type": "code",
      "source": [
        "#plt.bar(x=\"studio\", height='domestic_gross', color = ['#011f4b','#03396c','#005b96','#6497b1'], data=df_studio__domestic_gross)\n",
        "df_studio__domestic_gross.plot(kind='bar', figsize=[12,6], color = ['#a8e6cf', '#dcedc1', '#ffd3b6', '#ffaaa5', '#ff8b94'], title=\"Top 10 Studio with Domestic Gross Earnings Between 2010 ~ 2018\")\n",
        "plt.ylabel(\"Domestic Gross Earning in Hundred million USD\")"
      ],
      "metadata": {
        "id": "kVbG2-dHA28F",
        "colab": {
          "base_uri": "https://localhost:8080/",
          "height": 488
        },
        "outputId": "964e7eff-25c5-4dc7-f7cb-6e9c9a7af0bb"
      },
      "execution_count": 61,
      "outputs": [
        {
          "output_type": "execute_result",
          "data": {
            "text/plain": [
              "Text(0, 0.5, 'Domestic Gross Earning in Hundred million USD')"
            ]
          },
          "metadata": {},
          "execution_count": 61
        },
        {
          "output_type": "display_data",
          "data": {
            "text/plain": [
              "<Figure size 864x432 with 1 Axes>"
            ],
            "image/png": "[encoded data removed]"
          },
          "metadata": {}
        }
      ]
    },
    {
      "cell_type": "code",
      "source": [
        "df_studio__foreign_gross = (df_bom.groupby(\"studio\")[\"foreign_gross\"].sum()).nlargest(10)\n",
        "df_studio__foreign_gross "
      ],
      "metadata": {
        "id": "lHySpEuzjVcX",
        "colab": {
          "base_uri": "https://localhost:8080/"
        },
        "outputId": "dfa4e0be-221e-4854-a830-ff9053a6858a"
      },
      "execution_count": 62,
      "outputs": [
        {
          "output_type": "execute_result",
          "data": {
            "text/plain": [
              "studio\n",
              "LGF      762372300.0\n",
              "SPC      741805999.0\n",
              "Wein.    708085999.0\n",
              "Uni.     690645999.0\n",
              "Fox      568177599.0\n",
              "Focus    548068999.0\n",
              "WB       546402999.0\n",
              "FoxS     426987700.0\n",
              "IFC      398729599.0\n",
              "FIP      376100000.0\n",
              "Name: foreign_gross, dtype: float64"
            ]
          },
          "metadata": {},
          "execution_count": 62
        }
      ]
    },
    {
      "cell_type": "code",
      "source": [
        "df_studio__foreign_gross.plot(kind='bar', figsize=[12,6], color = ['#011f4b','#03396c','#005b96','#6497b1'], title=\"Top 10 Studio with Foreign Gross Earnings Between 2010 ~ 2018\")\n",
        "plt.ylabel(\"Foreign Gross Earning in Hundred million USD\")"
      ],
      "metadata": {
        "id": "9nz9HSjMjVTh",
        "colab": {
          "base_uri": "https://localhost:8080/",
          "height": 484
        },
        "outputId": "cc6ab8c3-5e97-472d-f18e-043dbf4cf238"
      },
      "execution_count": 63,
      "outputs": [
        {
          "output_type": "execute_result",
          "data": {
            "text/plain": [
              "Text(0, 0.5, 'Foreign Gross Earning in Hundred million USD')"
            ]
          },
          "metadata": {},
          "execution_count": 63
        },
        {
          "output_type": "display_data",
          "data": {
            "text/plain": [
              "<Figure size 864x432 with 1 Axes>"
            ],
            "image/png": "[encoded data removed]"
          },
          "metadata": {}
        }
      ]
    },
    {
      "cell_type": "markdown",
      "source": [
        "Finding Correlation between domist and foreign gross"
      ],
      "metadata": {
        "id": "xKeUjdPVHSZO"
      }
    },
    {
      "cell_type": "code",
      "source": [
        "df_bom[['domestic_gross', 'foreign_gross']].corr()"
      ],
      "metadata": {
        "colab": {
          "base_uri": "https://localhost:8080/",
          "height": 150
        },
        "id": "TAKvWGdQCm5d",
        "outputId": "18acd134-ade4-45ab-824b-88c5716d1d9b"
      },
      "execution_count": 64,
      "outputs": [
        {
          "output_type": "execute_result",
          "data": {
            "text/plain": [
              "                domestic_gross  foreign_gross\n",
              "domestic_gross        1.000000       0.428594\n",
              "foreign_gross         0.428594       1.000000"
            ],
            "text/html": [
              "\n",
              "  <div id=\"df-4f789e9e-90ee-46b8-9b87-e5af51b86d96\">\n",
              "    <div class=\"colab-df-container\">\n",
              "      <div>\n",
              "<style scoped>\n",
              "    .dataframe tbody tr th:only-of-type {\n",
              "        vertical-align: middle;\n",
              "    }\n",
              "\n",
              "    .dataframe tbody tr th {\n",
              "        vertical-align: top;\n",
              "    }\n",
              "\n",
              "    .dataframe thead th {\n",
              "        text-align: right;\n",
              "    }\n",
              "</style>\n",
              "<table border=\"1\" class=\"dataframe\">\n",
              "  <thead>\n",
              "    <tr style=\"text-align: right;\">\n",
              "      <th></th>\n",
              "      <th>domestic_gross</th>\n",
              "      <th>foreign_gross</th>\n",
              "    </tr>\n",
              "  </thead>\n",
              "  <tbody>\n",
              "    <tr>\n",
              "      <th>domestic_gross</th>\n",
              "      <td>1.000000</td>\n",
              "      <td>0.428594</td>\n",
              "    </tr>\n",
              "    <tr>\n",
              "      <th>foreign_gross</th>\n",
              "      <td>0.428594</td>\n",
              "      <td>1.000000</td>\n",
              "    </tr>\n",
              "  </tbody>\n",
              "</table>\n",
              "</div>\n",
              "      <button class=\"colab-df-convert\" onclick=\"convertToInteractive('df-4f789e9e-90ee-46b8-9b87-e5af51b86d96')\"\n",
              "              title=\"Convert this dataframe to an interactive table.\"\n",
              "              style=\"display:none;\">\n",
              "        \n",
              "  <svg xmlns=\"http://www.w3.org/2000/svg\" height=\"24px\"viewBox=\"0 0 24 24\"\n",
              "       width=\"24px\">\n",
              "    <path d=\"M0 0h24v24H0V0z\" fill=\"none\"/>\n",
              "    <path d=\"M18.56 5.44l.94 2.06.94-2.06 2.06-.94-2.06-.94-.94-2.06-.94 2.06-2.06.94zm-11 1L8.5 8.5l.94-2.06 2.06-.94-2.06-.94L8.5 2.5l-.94 2.06-2.06.94zm10 10l.94 2.06.94-2.06 2.06-.94-2.06-.94-.94-2.06-.94 2.06-2.06.94z\"/><path d=\"M17.41 7.96l-1.37-1.37c-.4-.4-.92-.59-1.43-.59-.52 0-1.04.2-1.43.59L10.3 9.45l-7.72 7.72c-.78.78-.78 2.05 0 2.83L4 21.41c.39.39.9.59 1.41.59.51 0 1.02-.2 1.41-.59l7.78-7.78 2.81-2.81c.8-.78.8-2.07 0-2.86zM5.41 20L4 18.59l7.72-7.72 1.47 1.35L5.41 20z\"/>\n",
              "  </svg>\n",
              "      </button>\n",
              "      \n",
              "  <style>\n",
              "    .colab-df-container {\n",
              "      display:flex;\n",
              "      flex-wrap:wrap;\n",
              "      gap: 12px;\n",
              "    }\n",
              "\n",
              "    .colab-df-convert {\n",
              "      background-color: #E8F0FE;\n",
              "      border: none;\n",
              "      border-radius: 50%;\n",
              "      cursor: pointer;\n",
              "      display: none;\n",
              "      fill: #1967D2;\n",
              "      height: 32px;\n",
              "      padding: 0 0 0 0;\n",
              "      width: 32px;\n",
              "    }\n",
              "\n",
              "    .colab-df-convert:hover {\n",
              "      background-color: #E2EBFA;\n",
              "      box-shadow: 0px 1px 2px rgba(60, 64, 67, 0.3), 0px 1px 3px 1px rgba(60, 64, 67, 0.15);\n",
              "      fill: #174EA6;\n",
              "    }\n",
              "\n",
              "    [theme=dark] .colab-df-convert {\n",
              "      background-color: #3B4455;\n",
              "      fill: #D2E3FC;\n",
              "    }\n",
              "\n",
              "    [theme=dark] .colab-df-convert:hover {\n",
              "      background-color: #434B5C;\n",
              "      box-shadow: 0px 1px 3px 1px rgba(0, 0, 0, 0.15);\n",
              "      filter: drop-shadow(0px 1px 2px rgba(0, 0, 0, 0.3));\n",
              "      fill: #FFFFFF;\n",
              "    }\n",
              "  </style>\n",
              "\n",
              "      <script>\n",
              "        const buttonEl =\n",
              "          document.querySelector('#df-4f789e9e-90ee-46b8-9b87-e5af51b86d96 button.colab-df-convert');\n",
              "        buttonEl.style.display =\n",
              "          google.colab.kernel.accessAllowed ? 'block' : 'none';\n",
              "\n",
              "        async function convertToInteractive(key) {\n",
              "          const element = document.querySelector('#df-4f789e9e-90ee-46b8-9b87-e5af51b86d96');\n",
              "          const dataTable =\n",
              "            await google.colab.kernel.invokeFunction('convertToInteractive',\n",
              "                                                     [key], {});\n",
              "          if (!dataTable) return;\n",
              "\n",
              "          const docLinkHtml = 'Like what you see? Visit the ' +\n",
              "            '<a target=\"_blank\" href=https://colab.research.google.com/notebooks/data_table.ipynb>data table notebook</a>'\n",
              "            + ' to learn more about interactive tables.';\n",
              "          element.innerHTML = '';\n",
              "          dataTable['output_type'] = 'display_data';\n",
              "          await google.colab.output.renderOutput(dataTable, element);\n",
              "          const docLink = document.createElement('div');\n",
              "          docLink.innerHTML = docLinkHtml;\n",
              "          element.appendChild(docLink);\n",
              "        }\n",
              "      </script>\n",
              "    </div>\n",
              "  </div>\n",
              "  "
            ]
          },
          "metadata": {},
          "execution_count": 64
        }
      ]
    },
    {
      "cell_type": "code",
      "source": [
        "df_bom.plot.scatter('domestic_gross','foreign_gross', figsize=[12,6], color='#536872')"
      ],
      "metadata": {
        "id": "7eRq3ptLjVwG",
        "colab": {
          "base_uri": "https://localhost:8080/",
          "height": 452
        },
        "outputId": "30efa98b-c789-42a5-d75a-76be885da3c8"
      },
      "execution_count": 65,
      "outputs": [
        {
          "output_type": "execute_result",
          "data": {
            "text/plain": [
              "<matplotlib.axes._subplots.AxesSubplot at 0x7f45ec999590>"
            ]
          },
          "metadata": {},
          "execution_count": 65
        },
        {
          "output_type": "display_data",
          "data": {
            "text/plain": [
              "<Figure size 864x432 with 1 Axes>"
            ],
            "image/png": "[encoded data removed]"
          },
          "metadata": {}
        }
      ]
    },
    {
      "cell_type": "code",
      "source": [
        "f, ax = plt.subplots(figsize = (12,6))\n",
        "sns.heatmap(df_bom[['foreign_gross','domestic_gross']].corr(), square=True, annot=True)"
      ],
      "metadata": {
        "id": "KdZpL7lDjVOB",
        "colab": {
          "base_uri": "https://localhost:8080/",
          "height": 421
        },
        "outputId": "1bb0a7f4-969e-428e-f61f-60f210fad363"
      },
      "execution_count": 66,
      "outputs": [
        {
          "output_type": "execute_result",
          "data": {
            "text/plain": [
              "<matplotlib.axes._subplots.AxesSubplot at 0x7f45eafd83d0>"
            ]
          },
          "metadata": {},
          "execution_count": 66
        },
        {
          "output_type": "display_data",
          "data": {
            "text/plain": [
              "<Figure size 864x432 with 2 Axes>"
            ],
            "image/png": "[encoded data removed]"
          },
          "metadata": {}
        }
      ]
    },
    {
      "cell_type": "markdown",
      "source": [
        "#Proposal One End!\n",
        "\n",
        "---\n",
        "\n"
      ],
      "metadata": {
        "id": "jO0MaydGAbUr"
      }
    },
    {
      "cell_type": "markdown",
      "metadata": {
        "id": "gW8bWA0DIu_3"
      },
      "source": [
        "### RT Movie Info Dataset"
      ]
    },
    {
      "cell_type": "code",
      "execution_count": 208,
      "metadata": {
        "id": "_NCx1xCnIu_3",
        "colab": {
          "base_uri": "https://localhost:8080/",
          "height": 206
        },
        "outputId": "4f61c55f-c787-481d-8cb1-689aaa55d606"
      },
      "outputs": [
        {
          "output_type": "execute_result",
          "data": {
            "text/plain": [
              "   id                                           synopsis rating  \\\n",
              "0   1  This gritty, fast-paced, and innovative police...      R   \n",
              "1   3  New York City, not-too-distant-future: Eric Pa...      R   \n",
              "2   5  Illeana Douglas delivers a superb performance ...      R   \n",
              "3   6  Michael Douglas runs afoul of a treacherous su...      R   \n",
              "4   7                                                NaN     NR   \n",
              "\n",
              "                                 genre          director  \\\n",
              "0  Action and Adventure|Classics|Drama  William Friedkin   \n",
              "1    Drama|Science Fiction and Fantasy  David Cronenberg   \n",
              "2    Drama|Musical and Performing Arts    Allison Anders   \n",
              "3           Drama|Mystery and Suspense    Barry Levinson   \n",
              "4                        Drama|Romance    Rodney Bennett   \n",
              "\n",
              "                            writer  theater_date      dvd_date currency  \\\n",
              "0                   Ernest Tidyman   Oct 9, 1971  Sep 25, 2001      NaN   \n",
              "1     David Cronenberg|Don DeLillo  Aug 17, 2012   Jan 1, 2013        $   \n",
              "2                   Allison Anders  Sep 13, 1996  Apr 18, 2000      NaN   \n",
              "3  Paul Attanasio|Michael Crichton   Dec 9, 1994  Aug 27, 1997      NaN   \n",
              "4                     Giles Cooper           NaN           NaN      NaN   \n",
              "\n",
              "  box_office      runtime             studio  \n",
              "0        NaN  104 minutes                NaN  \n",
              "1    600,000  108 minutes  Entertainment One  \n",
              "2        NaN  116 minutes                NaN  \n",
              "3        NaN  128 minutes                NaN  \n",
              "4        NaN  200 minutes                NaN  "
            ],
            "text/html": [
              "\n",
              "  <div id=\"df-c271cadc-6cd0-4f46-952f-b61e8bf1ffdd\">\n",
              "    <div class=\"colab-df-container\">\n",
              "      <div>\n",
              "<style scoped>\n",
              "    .dataframe tbody tr th:only-of-type {\n",
              "        vertical-align: middle;\n",
              "    }\n",
              "\n",
              "    .dataframe tbody tr th {\n",
              "        vertical-align: top;\n",
              "    }\n",
              "\n",
              "    .dataframe thead th {\n",
              "        text-align: right;\n",
              "    }\n",
              "</style>\n",
              "<table border=\"1\" class=\"dataframe\">\n",
              "  <thead>\n",
              "    <tr style=\"text-align: right;\">\n",
              "      <th></th>\n",
              "      <th>id</th>\n",
              "      <th>synopsis</th>\n",
              "      <th>rating</th>\n",
              "      <th>genre</th>\n",
              "      <th>director</th>\n",
              "      <th>writer</th>\n",
              "      <th>theater_date</th>\n",
              "      <th>dvd_date</th>\n",
              "      <th>currency</th>\n",
              "      <th>box_office</th>\n",
              "      <th>runtime</th>\n",
              "      <th>studio</th>\n",
              "    </tr>\n",
              "  </thead>\n",
              "  <tbody>\n",
              "    <tr>\n",
              "      <th>0</th>\n",
              "      <td>1</td>\n",
              "      <td>This gritty, fast-paced, and innovative police...</td>\n",
              "      <td>R</td>\n",
              "      <td>Action and Adventure|Classics|Drama</td>\n",
              "      <td>William Friedkin</td>\n",
              "      <td>Ernest Tidyman</td>\n",
              "      <td>Oct 9, 1971</td>\n",
              "      <td>Sep 25, 2001</td>\n",
              "      <td>NaN</td>\n",
              "      <td>NaN</td>\n",
              "      <td>104 minutes</td>\n",
              "      <td>NaN</td>\n",
              "    </tr>\n",
              "    <tr>\n",
              "      <th>1</th>\n",
              "      <td>3</td>\n",
              "      <td>New York City, not-too-distant-future: Eric Pa...</td>\n",
              "      <td>R</td>\n",
              "      <td>Drama|Science Fiction and Fantasy</td>\n",
              "      <td>David Cronenberg</td>\n",
              "      <td>David Cronenberg|Don DeLillo</td>\n",
              "      <td>Aug 17, 2012</td>\n",
              "      <td>Jan 1, 2013</td>\n",
              "      <td>$</td>\n",
              "      <td>600,000</td>\n",
              "      <td>108 minutes</td>\n",
              "      <td>Entertainment One</td>\n",
              "    </tr>\n",
              "    <tr>\n",
              "      <th>2</th>\n",
              "      <td>5</td>\n",
              "      <td>Illeana Douglas delivers a superb performance ...</td>\n",
              "      <td>R</td>\n",
              "      <td>Drama|Musical and Performing Arts</td>\n",
              "      <td>Allison Anders</td>\n",
              "      <td>Allison Anders</td>\n",
              "      <td>Sep 13, 1996</td>\n",
              "      <td>Apr 18, 2000</td>\n",
              "      <td>NaN</td>\n",
              "      <td>NaN</td>\n",
              "      <td>116 minutes</td>\n",
              "      <td>NaN</td>\n",
              "    </tr>\n",
              "    <tr>\n",
              "      <th>3</th>\n",
              "      <td>6</td>\n",
              "      <td>Michael Douglas runs afoul of a treacherous su...</td>\n",
              "      <td>R</td>\n",
              "      <td>Drama|Mystery and Suspense</td>\n",
              "      <td>Barry Levinson</td>\n",
              "      <td>Paul Attanasio|Michael Crichton</td>\n",
              "      <td>Dec 9, 1994</td>\n",
              "      <td>Aug 27, 1997</td>\n",
              "      <td>NaN</td>\n",
              "      <td>NaN</td>\n",
              "      <td>128 minutes</td>\n",
              "      <td>NaN</td>\n",
              "    </tr>\n",
              "    <tr>\n",
              "      <th>4</th>\n",
              "      <td>7</td>\n",
              "      <td>NaN</td>\n",
              "      <td>NR</td>\n",
              "      <td>Drama|Romance</td>\n",
              "      <td>Rodney Bennett</td>\n",
              "      <td>Giles Cooper</td>\n",
              "      <td>NaN</td>\n",
              "      <td>NaN</td>\n",
              "      <td>NaN</td>\n",
              "      <td>NaN</td>\n",
              "      <td>200 minutes</td>\n",
              "      <td>NaN</td>\n",
              "    </tr>\n",
              "  </tbody>\n",
              "</table>\n",
              "</div>\n",
              "      <button class=\"colab-df-convert\" onclick=\"convertToInteractive('df-c271cadc-6cd0-4f46-952f-b61e8bf1ffdd')\"\n",
              "              title=\"Convert this dataframe to an interactive table.\"\n",
              "              style=\"display:none;\">\n",
              "        \n",
              "  <svg xmlns=\"http://www.w3.org/2000/svg\" height=\"24px\"viewBox=\"0 0 24 24\"\n",
              "       width=\"24px\">\n",
              "    <path d=\"M0 0h24v24H0V0z\" fill=\"none\"/>\n",
              "    <path d=\"M18.56 5.44l.94 2.06.94-2.06 2.06-.94-2.06-.94-.94-2.06-.94 2.06-2.06.94zm-11 1L8.5 8.5l.94-2.06 2.06-.94-2.06-.94L8.5 2.5l-.94 2.06-2.06.94zm10 10l.94 2.06.94-2.06 2.06-.94-2.06-.94-.94-2.06-.94 2.06-2.06.94z\"/><path d=\"M17.41 7.96l-1.37-1.37c-.4-.4-.92-.59-1.43-.59-.52 0-1.04.2-1.43.59L10.3 9.45l-7.72 7.72c-.78.78-.78 2.05 0 2.83L4 21.41c.39.39.9.59 1.41.59.51 0 1.02-.2 1.41-.59l7.78-7.78 2.81-2.81c.8-.78.8-2.07 0-2.86zM5.41 20L4 18.59l7.72-7.72 1.47 1.35L5.41 20z\"/>\n",
              "  </svg>\n",
              "      </button>\n",
              "      \n",
              "  <style>\n",
              "    .colab-df-container {\n",
              "      display:flex;\n",
              "      flex-wrap:wrap;\n",
              "      gap: 12px;\n",
              "    }\n",
              "\n",
              "    .colab-df-convert {\n",
              "      background-color: #E8F0FE;\n",
              "      border: none;\n",
              "      border-radius: 50%;\n",
              "      cursor: pointer;\n",
              "      display: none;\n",
              "      fill: #1967D2;\n",
              "      height: 32px;\n",
              "      padding: 0 0 0 0;\n",
              "      width: 32px;\n",
              "    }\n",
              "\n",
              "    .colab-df-convert:hover {\n",
              "      background-color: #E2EBFA;\n",
              "      box-shadow: 0px 1px 2px rgba(60, 64, 67, 0.3), 0px 1px 3px 1px rgba(60, 64, 67, 0.15);\n",
              "      fill: #174EA6;\n",
              "    }\n",
              "\n",
              "    [theme=dark] .colab-df-convert {\n",
              "      background-color: #3B4455;\n",
              "      fill: #D2E3FC;\n",
              "    }\n",
              "\n",
              "    [theme=dark] .colab-df-convert:hover {\n",
              "      background-color: #434B5C;\n",
              "      box-shadow: 0px 1px 3px 1px rgba(0, 0, 0, 0.15);\n",
              "      filter: drop-shadow(0px 1px 2px rgba(0, 0, 0, 0.3));\n",
              "      fill: #FFFFFF;\n",
              "    }\n",
              "  </style>\n",
              "\n",
              "      <script>\n",
              "        const buttonEl =\n",
              "          document.querySelector('#df-c271cadc-6cd0-4f46-952f-b61e8bf1ffdd button.colab-df-convert');\n",
              "        buttonEl.style.display =\n",
              "          google.colab.kernel.accessAllowed ? 'block' : 'none';\n",
              "\n",
              "        async function convertToInteractive(key) {\n",
              "          const element = document.querySelector('#df-c271cadc-6cd0-4f46-952f-b61e8bf1ffdd');\n",
              "          const dataTable =\n",
              "            await google.colab.kernel.invokeFunction('convertToInteractive',\n",
              "                                                     [key], {});\n",
              "          if (!dataTable) return;\n",
              "\n",
              "          const docLinkHtml = 'Like what you see? Visit the ' +\n",
              "            '<a target=\"_blank\" href=https://colab.research.google.com/notebooks/data_table.ipynb>data table notebook</a>'\n",
              "            + ' to learn more about interactive tables.';\n",
              "          element.innerHTML = '';\n",
              "          dataTable['output_type'] = 'display_data';\n",
              "          await google.colab.output.renderOutput(dataTable, element);\n",
              "          const docLink = document.createElement('div');\n",
              "          docLink.innerHTML = docLinkHtml;\n",
              "          element.appendChild(docLink);\n",
              "        }\n",
              "      </script>\n",
              "    </div>\n",
              "  </div>\n",
              "  "
            ]
          },
          "metadata": {},
          "execution_count": 208
        }
      ],
      "source": [
        "rt_movie_info = pd.read_csv(\"/content/drive/MyDrive/Colab Notebooks/zippedData/rt.movie_info.tsv.gz\", delimiter=\"\\t\")\n",
        "rt_movie_info.head()"
      ]
    },
    {
      "cell_type": "markdown",
      "metadata": {
        "id": "xljXkj6rIu_4"
      },
      "source": [
        "This does not include all of the CSVs! Make sure you open and explore some of the other ones."
      ]
    },
    {
      "cell_type": "code",
      "execution_count": 68,
      "metadata": {
        "id": "pRt0GLdbIu_5",
        "colab": {
          "base_uri": "https://localhost:8080/"
        },
        "outputId": "2eb735a0-ac26-4a2f-c00c-adc2917ddbfc"
      },
      "outputs": [
        {
          "output_type": "execute_result",
          "data": {
            "text/plain": [
              "(1560, 12)"
            ]
          },
          "metadata": {},
          "execution_count": 68
        }
      ],
      "source": [
        "rt_movie_info.shape"
      ]
    },
    {
      "cell_type": "code",
      "execution_count": 69,
      "metadata": {
        "id": "cqo9mqURIu_5",
        "colab": {
          "base_uri": "https://localhost:8080/"
        },
        "outputId": "26132be4-8307-4cec-bf66-3972f0cd3f3a"
      },
      "outputs": [
        {
          "output_type": "execute_result",
          "data": {
            "text/plain": [
              "1560"
            ]
          },
          "metadata": {},
          "execution_count": 69
        }
      ],
      "source": [
        "rt_movie_info.id.nunique()"
      ]
    },
    {
      "cell_type": "code",
      "execution_count": 70,
      "metadata": {
        "id": "kVX5havFIu_6",
        "colab": {
          "base_uri": "https://localhost:8080/"
        },
        "outputId": "023b6f60-094a-45b3-ce30-fddd297baf06"
      },
      "outputs": [
        {
          "output_type": "execute_result",
          "data": {
            "text/plain": [
              "Index(['id', 'synopsis', 'rating', 'genre', 'director', 'writer',\n",
              "       'theater_date', 'dvd_date', 'currency', 'box_office', 'runtime',\n",
              "       'studio'],\n",
              "      dtype='object')"
            ]
          },
          "metadata": {},
          "execution_count": 70
        }
      ],
      "source": [
        "rt_movie_info.columns"
      ]
    },
    {
      "cell_type": "markdown",
      "source": [
        "### RT Review Dataset"
      ],
      "metadata": {
        "id": "Z8lmoEsdnN2E"
      }
    },
    {
      "cell_type": "code",
      "execution_count": 71,
      "metadata": {
        "id": "MBy7_W7wIu_6",
        "colab": {
          "base_uri": "https://localhost:8080/",
          "height": 206
        },
        "outputId": "765f23e2-c1fa-459b-9657-428de498d67d"
      },
      "outputs": [
        {
          "output_type": "execute_result",
          "data": {
            "text/plain": [
              "   id                                             review rating   fresh  \\\n",
              "0   3  A distinctly gallows take on contemporary fina...    3/5   fresh   \n",
              "1   3  It's an allegory in search of a meaning that n...    NaN  rotten   \n",
              "2   3  ... life lived in a bubble in financial dealin...    NaN   fresh   \n",
              "3   3  Continuing along a line introduced in last yea...    NaN   fresh   \n",
              "4   3             ... a perverse twist on neorealism...     NaN   fresh   \n",
              "\n",
              "           critic  top_critic         publisher               date  \n",
              "0      PJ Nabarro           0   Patrick Nabarro  November 10, 2018  \n",
              "1  Annalee Newitz           0           io9.com       May 23, 2018  \n",
              "2    Sean Axmaker           0  Stream on Demand    January 4, 2018  \n",
              "3   Daniel Kasman           0              MUBI  November 16, 2017  \n",
              "4             NaN           0      Cinema Scope   October 12, 2017  "
            ],
            "text/html": [
              "\n",
              "  <div id=\"df-a914c074-e6e6-430e-8563-2854ee141b33\">\n",
              "    <div class=\"colab-df-container\">\n",
              "      <div>\n",
              "<style scoped>\n",
              "    .dataframe tbody tr th:only-of-type {\n",
              "        vertical-align: middle;\n",
              "    }\n",
              "\n",
              "    .dataframe tbody tr th {\n",
              "        vertical-align: top;\n",
              "    }\n",
              "\n",
              "    .dataframe thead th {\n",
              "        text-align: right;\n",
              "    }\n",
              "</style>\n",
              "<table border=\"1\" class=\"dataframe\">\n",
              "  <thead>\n",
              "    <tr style=\"text-align: right;\">\n",
              "      <th></th>\n",
              "      <th>id</th>\n",
              "      <th>review</th>\n",
              "      <th>rating</th>\n",
              "      <th>fresh</th>\n",
              "      <th>critic</th>\n",
              "      <th>top_critic</th>\n",
              "      <th>publisher</th>\n",
              "      <th>date</th>\n",
              "    </tr>\n",
              "  </thead>\n",
              "  <tbody>\n",
              "    <tr>\n",
              "      <th>0</th>\n",
              "      <td>3</td>\n",
              "      <td>A distinctly gallows take on contemporary fina...</td>\n",
              "      <td>3/5</td>\n",
              "      <td>fresh</td>\n",
              "      <td>PJ Nabarro</td>\n",
              "      <td>0</td>\n",
              "      <td>Patrick Nabarro</td>\n",
              "      <td>November 10, 2018</td>\n",
              "    </tr>\n",
              "    <tr>\n",
              "      <th>1</th>\n",
              "      <td>3</td>\n",
              "      <td>It's an allegory in search of a meaning that n...</td>\n",
              "      <td>NaN</td>\n",
              "      <td>rotten</td>\n",
              "      <td>Annalee Newitz</td>\n",
              "      <td>0</td>\n",
              "      <td>io9.com</td>\n",
              "      <td>May 23, 2018</td>\n",
              "    </tr>\n",
              "    <tr>\n",
              "      <th>2</th>\n",
              "      <td>3</td>\n",
              "      <td>... life lived in a bubble in financial dealin...</td>\n",
              "      <td>NaN</td>\n",
              "      <td>fresh</td>\n",
              "      <td>Sean Axmaker</td>\n",
              "      <td>0</td>\n",
              "      <td>Stream on Demand</td>\n",
              "      <td>January 4, 2018</td>\n",
              "    </tr>\n",
              "    <tr>\n",
              "      <th>3</th>\n",
              "      <td>3</td>\n",
              "      <td>Continuing along a line introduced in last yea...</td>\n",
              "      <td>NaN</td>\n",
              "      <td>fresh</td>\n",
              "      <td>Daniel Kasman</td>\n",
              "      <td>0</td>\n",
              "      <td>MUBI</td>\n",
              "      <td>November 16, 2017</td>\n",
              "    </tr>\n",
              "    <tr>\n",
              "      <th>4</th>\n",
              "      <td>3</td>\n",
              "      <td>... a perverse twist on neorealism...</td>\n",
              "      <td>NaN</td>\n",
              "      <td>fresh</td>\n",
              "      <td>NaN</td>\n",
              "      <td>0</td>\n",
              "      <td>Cinema Scope</td>\n",
              "      <td>October 12, 2017</td>\n",
              "    </tr>\n",
              "  </tbody>\n",
              "</table>\n",
              "</div>\n",
              "      <button class=\"colab-df-convert\" onclick=\"convertToInteractive('df-a914c074-e6e6-430e-8563-2854ee141b33')\"\n",
              "              title=\"Convert this dataframe to an interactive table.\"\n",
              "              style=\"display:none;\">\n",
              "        \n",
              "  <svg xmlns=\"http://www.w3.org/2000/svg\" height=\"24px\"viewBox=\"0 0 24 24\"\n",
              "       width=\"24px\">\n",
              "    <path d=\"M0 0h24v24H0V0z\" fill=\"none\"/>\n",
              "    <path d=\"M18.56 5.44l.94 2.06.94-2.06 2.06-.94-2.06-.94-.94-2.06-.94 2.06-2.06.94zm-11 1L8.5 8.5l.94-2.06 2.06-.94-2.06-.94L8.5 2.5l-.94 2.06-2.06.94zm10 10l.94 2.06.94-2.06 2.06-.94-2.06-.94-.94-2.06-.94 2.06-2.06.94z\"/><path d=\"M17.41 7.96l-1.37-1.37c-.4-.4-.92-.59-1.43-.59-.52 0-1.04.2-1.43.59L10.3 9.45l-7.72 7.72c-.78.78-.78 2.05 0 2.83L4 21.41c.39.39.9.59 1.41.59.51 0 1.02-.2 1.41-.59l7.78-7.78 2.81-2.81c.8-.78.8-2.07 0-2.86zM5.41 20L4 18.59l7.72-7.72 1.47 1.35L5.41 20z\"/>\n",
              "  </svg>\n",
              "      </button>\n",
              "      \n",
              "  <style>\n",
              "    .colab-df-container {\n",
              "      display:flex;\n",
              "      flex-wrap:wrap;\n",
              "      gap: 12px;\n",
              "    }\n",
              "\n",
              "    .colab-df-convert {\n",
              "      background-color: #E8F0FE;\n",
              "      border: none;\n",
              "      border-radius: 50%;\n",
              "      cursor: pointer;\n",
              "      display: none;\n",
              "      fill: #1967D2;\n",
              "      height: 32px;\n",
              "      padding: 0 0 0 0;\n",
              "      width: 32px;\n",
              "    }\n",
              "\n",
              "    .colab-df-convert:hover {\n",
              "      background-color: #E2EBFA;\n",
              "      box-shadow: 0px 1px 2px rgba(60, 64, 67, 0.3), 0px 1px 3px 1px rgba(60, 64, 67, 0.15);\n",
              "      fill: #174EA6;\n",
              "    }\n",
              "\n",
              "    [theme=dark] .colab-df-convert {\n",
              "      background-color: #3B4455;\n",
              "      fill: #D2E3FC;\n",
              "    }\n",
              "\n",
              "    [theme=dark] .colab-df-convert:hover {\n",
              "      background-color: #434B5C;\n",
              "      box-shadow: 0px 1px 3px 1px rgba(0, 0, 0, 0.15);\n",
              "      filter: drop-shadow(0px 1px 2px rgba(0, 0, 0, 0.3));\n",
              "      fill: #FFFFFF;\n",
              "    }\n",
              "  </style>\n",
              "\n",
              "      <script>\n",
              "        const buttonEl =\n",
              "          document.querySelector('#df-a914c074-e6e6-430e-8563-2854ee141b33 button.colab-df-convert');\n",
              "        buttonEl.style.display =\n",
              "          google.colab.kernel.accessAllowed ? 'block' : 'none';\n",
              "\n",
              "        async function convertToInteractive(key) {\n",
              "          const element = document.querySelector('#df-a914c074-e6e6-430e-8563-2854ee141b33');\n",
              "          const dataTable =\n",
              "            await google.colab.kernel.invokeFunction('convertToInteractive',\n",
              "                                                     [key], {});\n",
              "          if (!dataTable) return;\n",
              "\n",
              "          const docLinkHtml = 'Like what you see? Visit the ' +\n",
              "            '<a target=\"_blank\" href=https://colab.research.google.com/notebooks/data_table.ipynb>data table notebook</a>'\n",
              "            + ' to learn more about interactive tables.';\n",
              "          element.innerHTML = '';\n",
              "          dataTable['output_type'] = 'display_data';\n",
              "          await google.colab.output.renderOutput(dataTable, element);\n",
              "          const docLink = document.createElement('div');\n",
              "          docLink.innerHTML = docLinkHtml;\n",
              "          element.appendChild(docLink);\n",
              "        }\n",
              "      </script>\n",
              "    </div>\n",
              "  </div>\n",
              "  "
            ]
          },
          "metadata": {},
          "execution_count": 71
        }
      ],
      "source": [
        "rt_reviews = pd.read_csv(\"/content/drive/MyDrive/Colab Notebooks/zippedData/rt.reviews.tsv.gz\", delimiter=\"\\t\", encoding= 'unicode_escape')\n",
        "rt_reviews.head()"
      ]
    },
    {
      "cell_type": "code",
      "execution_count": 72,
      "metadata": {
        "id": "Kyx5iPXNIu_7",
        "colab": {
          "base_uri": "https://localhost:8080/"
        },
        "outputId": "743d0d21-b64a-4a6b-c390-f4fec08dea37"
      },
      "outputs": [
        {
          "output_type": "execute_result",
          "data": {
            "text/plain": [
              "(54432, 8)"
            ]
          },
          "metadata": {},
          "execution_count": 72
        }
      ],
      "source": [
        "rt_reviews.shape"
      ]
    },
    {
      "cell_type": "code",
      "execution_count": 73,
      "metadata": {
        "id": "20dD6P7KIu_8",
        "colab": {
          "base_uri": "https://localhost:8080/"
        },
        "outputId": "a4d4506d-1d33-47d0-d87f-3fb4936f6366"
      },
      "outputs": [
        {
          "output_type": "execute_result",
          "data": {
            "text/plain": [
              "1135"
            ]
          },
          "metadata": {},
          "execution_count": 73
        }
      ],
      "source": [
        "rt_reviews.id.nunique()"
      ]
    },
    {
      "cell_type": "code",
      "execution_count": 74,
      "metadata": {
        "id": "3yL7IEb5IvAB",
        "colab": {
          "base_uri": "https://localhost:8080/"
        },
        "outputId": "72980753-1dc6-4e69-b278-1fdf364e5ec0"
      },
      "outputs": [
        {
          "output_type": "execute_result",
          "data": {
            "text/plain": [
              "Index(['id', 'review', 'rating', 'fresh', 'critic', 'top_critic', 'publisher',\n",
              "       'date'],\n",
              "      dtype='object')"
            ]
          },
          "metadata": {},
          "execution_count": 74
        }
      ],
      "source": [
        "rt_reviews.columns"
      ]
    },
    {
      "cell_type": "markdown",
      "source": [
        "### TMDB Movie Info Dataset"
      ],
      "metadata": {
        "id": "vpTNvcsMmhr-"
      }
    },
    {
      "cell_type": "code",
      "execution_count": 75,
      "metadata": {
        "id": "ZtcL7UkaIvAF",
        "colab": {
          "base_uri": "https://localhost:8080/",
          "height": 206
        },
        "outputId": "a45129f6-53e7-4024-aa89-a1df5645f49f"
      },
      "outputs": [
        {
          "output_type": "execute_result",
          "data": {
            "text/plain": [
              "   Unnamed: 0            genre_ids     id original_language  \\\n",
              "0           0      [12, 14, 10751]  12444                en   \n",
              "1           1  [14, 12, 16, 10751]  10191                en   \n",
              "2           2        [12, 28, 878]  10138                en   \n",
              "3           3      [16, 35, 10751]    862                en   \n",
              "4           4        [28, 878, 12]  27205                en   \n",
              "\n",
              "                                 original_title  popularity release_date  \\\n",
              "0  Harry Potter and the Deathly Hallows: Part 1      33.533   2010-11-19   \n",
              "1                      How to Train Your Dragon      28.734   2010-03-26   \n",
              "2                                    Iron Man 2      28.515   2010-05-07   \n",
              "3                                     Toy Story      28.005   1995-11-22   \n",
              "4                                     Inception      27.920   2010-07-16   \n",
              "\n",
              "                                          title  vote_average  vote_count  \n",
              "0  Harry Potter and the Deathly Hallows: Part 1           7.7       10788  \n",
              "1                      How to Train Your Dragon           7.7        7610  \n",
              "2                                    Iron Man 2           6.8       12368  \n",
              "3                                     Toy Story           7.9       10174  \n",
              "4                                     Inception           8.3       22186  "
            ],
            "text/html": [
              "\n",
              "  <div id=\"df-0c493c84-111f-45a9-8ed9-413e50f27ac5\">\n",
              "    <div class=\"colab-df-container\">\n",
              "      <div>\n",
              "<style scoped>\n",
              "    .dataframe tbody tr th:only-of-type {\n",
              "        vertical-align: middle;\n",
              "    }\n",
              "\n",
              "    .dataframe tbody tr th {\n",
              "        vertical-align: top;\n",
              "    }\n",
              "\n",
              "    .dataframe thead th {\n",
              "        text-align: right;\n",
              "    }\n",
              "</style>\n",
              "<table border=\"1\" class=\"dataframe\">\n",
              "  <thead>\n",
              "    <tr style=\"text-align: right;\">\n",
              "      <th></th>\n",
              "      <th>Unnamed: 0</th>\n",
              "      <th>genre_ids</th>\n",
              "      <th>id</th>\n",
              "      <th>original_language</th>\n",
              "      <th>original_title</th>\n",
              "      <th>popularity</th>\n",
              "      <th>release_date</th>\n",
              "      <th>title</th>\n",
              "      <th>vote_average</th>\n",
              "      <th>vote_count</th>\n",
              "    </tr>\n",
              "  </thead>\n",
              "  <tbody>\n",
              "    <tr>\n",
              "      <th>0</th>\n",
              "      <td>0</td>\n",
              "      <td>[12, 14, 10751]</td>\n",
              "      <td>12444</td>\n",
              "      <td>en</td>\n",
              "      <td>Harry Potter and the Deathly Hallows: Part 1</td>\n",
              "      <td>33.533</td>\n",
              "      <td>2010-11-19</td>\n",
              "      <td>Harry Potter and the Deathly Hallows: Part 1</td>\n",
              "      <td>7.7</td>\n",
              "      <td>10788</td>\n",
              "    </tr>\n",
              "    <tr>\n",
              "      <th>1</th>\n",
              "      <td>1</td>\n",
              "      <td>[14, 12, 16, 10751]</td>\n",
              "      <td>10191</td>\n",
              "      <td>en</td>\n",
              "      <td>How to Train Your Dragon</td>\n",
              "      <td>28.734</td>\n",
              "      <td>2010-03-26</td>\n",
              "      <td>How to Train Your Dragon</td>\n",
              "      <td>7.7</td>\n",
              "      <td>7610</td>\n",
              "    </tr>\n",
              "    <tr>\n",
              "      <th>2</th>\n",
              "      <td>2</td>\n",
              "      <td>[12, 28, 878]</td>\n",
              "      <td>10138</td>\n",
              "      <td>en</td>\n",
              "      <td>Iron Man 2</td>\n",
              "      <td>28.515</td>\n",
              "      <td>2010-05-07</td>\n",
              "      <td>Iron Man 2</td>\n",
              "      <td>6.8</td>\n",
              "      <td>12368</td>\n",
              "    </tr>\n",
              "    <tr>\n",
              "      <th>3</th>\n",
              "      <td>3</td>\n",
              "      <td>[16, 35, 10751]</td>\n",
              "      <td>862</td>\n",
              "      <td>en</td>\n",
              "      <td>Toy Story</td>\n",
              "      <td>28.005</td>\n",
              "      <td>1995-11-22</td>\n",
              "      <td>Toy Story</td>\n",
              "      <td>7.9</td>\n",
              "      <td>10174</td>\n",
              "    </tr>\n",
              "    <tr>\n",
              "      <th>4</th>\n",
              "      <td>4</td>\n",
              "      <td>[28, 878, 12]</td>\n",
              "      <td>27205</td>\n",
              "      <td>en</td>\n",
              "      <td>Inception</td>\n",
              "      <td>27.920</td>\n",
              "      <td>2010-07-16</td>\n",
              "      <td>Inception</td>\n",
              "      <td>8.3</td>\n",
              "      <td>22186</td>\n",
              "    </tr>\n",
              "  </tbody>\n",
              "</table>\n",
              "</div>\n",
              "      <button class=\"colab-df-convert\" onclick=\"convertToInteractive('df-0c493c84-111f-45a9-8ed9-413e50f27ac5')\"\n",
              "              title=\"Convert this dataframe to an interactive table.\"\n",
              "              style=\"display:none;\">\n",
              "        \n",
              "  <svg xmlns=\"http://www.w3.org/2000/svg\" height=\"24px\"viewBox=\"0 0 24 24\"\n",
              "       width=\"24px\">\n",
              "    <path d=\"M0 0h24v24H0V0z\" fill=\"none\"/>\n",
              "    <path d=\"M18.56 5.44l.94 2.06.94-2.06 2.06-.94-2.06-.94-.94-2.06-.94 2.06-2.06.94zm-11 1L8.5 8.5l.94-2.06 2.06-.94-2.06-.94L8.5 2.5l-.94 2.06-2.06.94zm10 10l.94 2.06.94-2.06 2.06-.94-2.06-.94-.94-2.06-.94 2.06-2.06.94z\"/><path d=\"M17.41 7.96l-1.37-1.37c-.4-.4-.92-.59-1.43-.59-.52 0-1.04.2-1.43.59L10.3 9.45l-7.72 7.72c-.78.78-.78 2.05 0 2.83L4 21.41c.39.39.9.59 1.41.59.51 0 1.02-.2 1.41-.59l7.78-7.78 2.81-2.81c.8-.78.8-2.07 0-2.86zM5.41 20L4 18.59l7.72-7.72 1.47 1.35L5.41 20z\"/>\n",
              "  </svg>\n",
              "      </button>\n",
              "      \n",
              "  <style>\n",
              "    .colab-df-container {\n",
              "      display:flex;\n",
              "      flex-wrap:wrap;\n",
              "      gap: 12px;\n",
              "    }\n",
              "\n",
              "    .colab-df-convert {\n",
              "      background-color: #E8F0FE;\n",
              "      border: none;\n",
              "      border-radius: 50%;\n",
              "      cursor: pointer;\n",
              "      display: none;\n",
              "      fill: #1967D2;\n",
              "      height: 32px;\n",
              "      padding: 0 0 0 0;\n",
              "      width: 32px;\n",
              "    }\n",
              "\n",
              "    .colab-df-convert:hover {\n",
              "      background-color: #E2EBFA;\n",
              "      box-shadow: 0px 1px 2px rgba(60, 64, 67, 0.3), 0px 1px 3px 1px rgba(60, 64, 67, 0.15);\n",
              "      fill: #174EA6;\n",
              "    }\n",
              "\n",
              "    [theme=dark] .colab-df-convert {\n",
              "      background-color: #3B4455;\n",
              "      fill: #D2E3FC;\n",
              "    }\n",
              "\n",
              "    [theme=dark] .colab-df-convert:hover {\n",
              "      background-color: #434B5C;\n",
              "      box-shadow: 0px 1px 3px 1px rgba(0, 0, 0, 0.15);\n",
              "      filter: drop-shadow(0px 1px 2px rgba(0, 0, 0, 0.3));\n",
              "      fill: #FFFFFF;\n",
              "    }\n",
              "  </style>\n",
              "\n",
              "      <script>\n",
              "        const buttonEl =\n",
              "          document.querySelector('#df-0c493c84-111f-45a9-8ed9-413e50f27ac5 button.colab-df-convert');\n",
              "        buttonEl.style.display =\n",
              "          google.colab.kernel.accessAllowed ? 'block' : 'none';\n",
              "\n",
              "        async function convertToInteractive(key) {\n",
              "          const element = document.querySelector('#df-0c493c84-111f-45a9-8ed9-413e50f27ac5');\n",
              "          const dataTable =\n",
              "            await google.colab.kernel.invokeFunction('convertToInteractive',\n",
              "                                                     [key], {});\n",
              "          if (!dataTable) return;\n",
              "\n",
              "          const docLinkHtml = 'Like what you see? Visit the ' +\n",
              "            '<a target=\"_blank\" href=https://colab.research.google.com/notebooks/data_table.ipynb>data table notebook</a>'\n",
              "            + ' to learn more about interactive tables.';\n",
              "          element.innerHTML = '';\n",
              "          dataTable['output_type'] = 'display_data';\n",
              "          await google.colab.output.renderOutput(dataTable, element);\n",
              "          const docLink = document.createElement('div');\n",
              "          docLink.innerHTML = docLinkHtml;\n",
              "          element.appendChild(docLink);\n",
              "        }\n",
              "      </script>\n",
              "    </div>\n",
              "  </div>\n",
              "  "
            ]
          },
          "metadata": {},
          "execution_count": 75
        }
      ],
      "source": [
        "tmdb_movies = pd.read_csv(\"/content/drive/MyDrive/Colab Notebooks/zippedData/tmdb.movies.csv.gz\")\n",
        "tmdb_movies.head()"
      ]
    },
    {
      "cell_type": "code",
      "execution_count": 76,
      "metadata": {
        "id": "4EpWamehIvAJ",
        "colab": {
          "base_uri": "https://localhost:8080/"
        },
        "outputId": "e769fd6e-1db0-42ab-a2ea-35da1a0b6b00"
      },
      "outputs": [
        {
          "output_type": "execute_result",
          "data": {
            "text/plain": [
              "(26517, 10)"
            ]
          },
          "metadata": {},
          "execution_count": 76
        }
      ],
      "source": [
        "tmdb_movies.shape"
      ]
    },
    {
      "cell_type": "code",
      "execution_count": 77,
      "metadata": {
        "id": "_gQ6kB_FIvAJ",
        "colab": {
          "base_uri": "https://localhost:8080/"
        },
        "outputId": "f0042853-bf79-4f8a-c81e-69fde2c53ef9"
      },
      "outputs": [
        {
          "output_type": "execute_result",
          "data": {
            "text/plain": [
              "25497"
            ]
          },
          "metadata": {},
          "execution_count": 77
        }
      ],
      "source": [
        "tmdb_movies.id.nunique()"
      ]
    },
    {
      "cell_type": "code",
      "execution_count": 78,
      "metadata": {
        "id": "RtkikHVCIvAK",
        "colab": {
          "base_uri": "https://localhost:8080/"
        },
        "outputId": "ff566363-f0ad-41d0-9478-e6ace34f734c"
      },
      "outputs": [
        {
          "output_type": "execute_result",
          "data": {
            "text/plain": [
              "Index(['Unnamed: 0', 'genre_ids', 'id', 'original_language', 'original_title',\n",
              "       'popularity', 'release_date', 'title', 'vote_average', 'vote_count'],\n",
              "      dtype='object')"
            ]
          },
          "metadata": {},
          "execution_count": 78
        }
      ],
      "source": [
        "tmdb_movies.columns"
      ]
    },
    {
      "cell_type": "code",
      "execution_count": 79,
      "metadata": {
        "id": "HeCThvOxIvAK",
        "colab": {
          "base_uri": "https://localhost:8080/",
          "height": 206
        },
        "outputId": "53a71687-3372-4aa7-f06a-20c83e2a9ef3"
      },
      "outputs": [
        {
          "output_type": "execute_result",
          "data": {
            "text/plain": [
              "   id  release_date                                        movie  \\\n",
              "0   1  Dec 18, 2009                                       Avatar   \n",
              "1   2  May 20, 2011  Pirates of the Caribbean: On Stranger Tides   \n",
              "2   3   Jun 7, 2019                                 Dark Phoenix   \n",
              "3   4   May 1, 2015                      Avengers: Age of Ultron   \n",
              "4   5  Dec 15, 2017            Star Wars Ep. VIII: The Last Jedi   \n",
              "\n",
              "  production_budget domestic_gross worldwide_gross  \n",
              "0      $425,000,000   $760,507,625  $2,776,345,279  \n",
              "1      $410,600,000   $241,063,875  $1,045,663,875  \n",
              "2      $350,000,000    $42,762,350    $149,762,350  \n",
              "3      $330,600,000   $459,005,868  $1,403,013,963  \n",
              "4      $317,000,000   $620,181,382  $1,316,721,747  "
            ],
            "text/html": [
              "\n",
              "  <div id=\"df-252e0025-a45f-4e6c-8ed0-342fd72d6a27\">\n",
              "    <div class=\"colab-df-container\">\n",
              "      <div>\n",
              "<style scoped>\n",
              "    .dataframe tbody tr th:only-of-type {\n",
              "        vertical-align: middle;\n",
              "    }\n",
              "\n",
              "    .dataframe tbody tr th {\n",
              "        vertical-align: top;\n",
              "    }\n",
              "\n",
              "    .dataframe thead th {\n",
              "        text-align: right;\n",
              "    }\n",
              "</style>\n",
              "<table border=\"1\" class=\"dataframe\">\n",
              "  <thead>\n",
              "    <tr style=\"text-align: right;\">\n",
              "      <th></th>\n",
              "      <th>id</th>\n",
              "      <th>release_date</th>\n",
              "      <th>movie</th>\n",
              "      <th>production_budget</th>\n",
              "      <th>domestic_gross</th>\n",
              "      <th>worldwide_gross</th>\n",
              "    </tr>\n",
              "  </thead>\n",
              "  <tbody>\n",
              "    <tr>\n",
              "      <th>0</th>\n",
              "      <td>1</td>\n",
              "      <td>Dec 18, 2009</td>\n",
              "      <td>Avatar</td>\n",
              "      <td>$425,000,000</td>\n",
              "      <td>$760,507,625</td>\n",
              "      <td>$2,776,345,279</td>\n",
              "    </tr>\n",
              "    <tr>\n",
              "      <th>1</th>\n",
              "      <td>2</td>\n",
              "      <td>May 20, 2011</td>\n",
              "      <td>Pirates of the Caribbean: On Stranger Tides</td>\n",
              "      <td>$410,600,000</td>\n",
              "      <td>$241,063,875</td>\n",
              "      <td>$1,045,663,875</td>\n",
              "    </tr>\n",
              "    <tr>\n",
              "      <th>2</th>\n",
              "      <td>3</td>\n",
              "      <td>Jun 7, 2019</td>\n",
              "      <td>Dark Phoenix</td>\n",
              "      <td>$350,000,000</td>\n",
              "      <td>$42,762,350</td>\n",
              "      <td>$149,762,350</td>\n",
              "    </tr>\n",
              "    <tr>\n",
              "      <th>3</th>\n",
              "      <td>4</td>\n",
              "      <td>May 1, 2015</td>\n",
              "      <td>Avengers: Age of Ultron</td>\n",
              "      <td>$330,600,000</td>\n",
              "      <td>$459,005,868</td>\n",
              "      <td>$1,403,013,963</td>\n",
              "    </tr>\n",
              "    <tr>\n",
              "      <th>4</th>\n",
              "      <td>5</td>\n",
              "      <td>Dec 15, 2017</td>\n",
              "      <td>Star Wars Ep. VIII: The Last Jedi</td>\n",
              "      <td>$317,000,000</td>\n",
              "      <td>$620,181,382</td>\n",
              "      <td>$1,316,721,747</td>\n",
              "    </tr>\n",
              "  </tbody>\n",
              "</table>\n",
              "</div>\n",
              "      <button class=\"colab-df-convert\" onclick=\"convertToInteractive('df-252e0025-a45f-4e6c-8ed0-342fd72d6a27')\"\n",
              "              title=\"Convert this dataframe to an interactive table.\"\n",
              "              style=\"display:none;\">\n",
              "        \n",
              "  <svg xmlns=\"http://www.w3.org/2000/svg\" height=\"24px\"viewBox=\"0 0 24 24\"\n",
              "       width=\"24px\">\n",
              "    <path d=\"M0 0h24v24H0V0z\" fill=\"none\"/>\n",
              "    <path d=\"M18.56 5.44l.94 2.06.94-2.06 2.06-.94-2.06-.94-.94-2.06-.94 2.06-2.06.94zm-11 1L8.5 8.5l.94-2.06 2.06-.94-2.06-.94L8.5 2.5l-.94 2.06-2.06.94zm10 10l.94 2.06.94-2.06 2.06-.94-2.06-.94-.94-2.06-.94 2.06-2.06.94z\"/><path d=\"M17.41 7.96l-1.37-1.37c-.4-.4-.92-.59-1.43-.59-.52 0-1.04.2-1.43.59L10.3 9.45l-7.72 7.72c-.78.78-.78 2.05 0 2.83L4 21.41c.39.39.9.59 1.41.59.51 0 1.02-.2 1.41-.59l7.78-7.78 2.81-2.81c.8-.78.8-2.07 0-2.86zM5.41 20L4 18.59l7.72-7.72 1.47 1.35L5.41 20z\"/>\n",
              "  </svg>\n",
              "      </button>\n",
              "      \n",
              "  <style>\n",
              "    .colab-df-container {\n",
              "      display:flex;\n",
              "      flex-wrap:wrap;\n",
              "      gap: 12px;\n",
              "    }\n",
              "\n",
              "    .colab-df-convert {\n",
              "      background-color: #E8F0FE;\n",
              "      border: none;\n",
              "      border-radius: 50%;\n",
              "      cursor: pointer;\n",
              "      display: none;\n",
              "      fill: #1967D2;\n",
              "      height: 32px;\n",
              "      padding: 0 0 0 0;\n",
              "      width: 32px;\n",
              "    }\n",
              "\n",
              "    .colab-df-convert:hover {\n",
              "      background-color: #E2EBFA;\n",
              "      box-shadow: 0px 1px 2px rgba(60, 64, 67, 0.3), 0px 1px 3px 1px rgba(60, 64, 67, 0.15);\n",
              "      fill: #174EA6;\n",
              "    }\n",
              "\n",
              "    [theme=dark] .colab-df-convert {\n",
              "      background-color: #3B4455;\n",
              "      fill: #D2E3FC;\n",
              "    }\n",
              "\n",
              "    [theme=dark] .colab-df-convert:hover {\n",
              "      background-color: #434B5C;\n",
              "      box-shadow: 0px 1px 3px 1px rgba(0, 0, 0, 0.15);\n",
              "      filter: drop-shadow(0px 1px 2px rgba(0, 0, 0, 0.3));\n",
              "      fill: #FFFFFF;\n",
              "    }\n",
              "  </style>\n",
              "\n",
              "      <script>\n",
              "        const buttonEl =\n",
              "          document.querySelector('#df-252e0025-a45f-4e6c-8ed0-342fd72d6a27 button.colab-df-convert');\n",
              "        buttonEl.style.display =\n",
              "          google.colab.kernel.accessAllowed ? 'block' : 'none';\n",
              "\n",
              "        async function convertToInteractive(key) {\n",
              "          const element = document.querySelector('#df-252e0025-a45f-4e6c-8ed0-342fd72d6a27');\n",
              "          const dataTable =\n",
              "            await google.colab.kernel.invokeFunction('convertToInteractive',\n",
              "                                                     [key], {});\n",
              "          if (!dataTable) return;\n",
              "\n",
              "          const docLinkHtml = 'Like what you see? Visit the ' +\n",
              "            '<a target=\"_blank\" href=https://colab.research.google.com/notebooks/data_table.ipynb>data table notebook</a>'\n",
              "            + ' to learn more about interactive tables.';\n",
              "          element.innerHTML = '';\n",
              "          dataTable['output_type'] = 'display_data';\n",
              "          await google.colab.output.renderOutput(dataTable, element);\n",
              "          const docLink = document.createElement('div');\n",
              "          docLink.innerHTML = docLinkHtml;\n",
              "          element.appendChild(docLink);\n",
              "        }\n",
              "      </script>\n",
              "    </div>\n",
              "  </div>\n",
              "  "
            ]
          },
          "metadata": {},
          "execution_count": 79
        }
      ],
      "source": [
        "movie_budget = pd.read_csv(\"/content/drive/MyDrive/Colab Notebooks/zippedData/tn.movie_budgets.csv.gz\")\n",
        "movie_budget.head()"
      ]
    },
    {
      "cell_type": "code",
      "execution_count": 80,
      "metadata": {
        "id": "jCOYWKbqIvAL",
        "colab": {
          "base_uri": "https://localhost:8080/"
        },
        "outputId": "431ff223-4ba6-4861-8860-2daaba8b6f29"
      },
      "outputs": [
        {
          "output_type": "execute_result",
          "data": {
            "text/plain": [
              "(5782, 6)"
            ]
          },
          "metadata": {},
          "execution_count": 80
        }
      ],
      "source": [
        "movie_budget.shape"
      ]
    },
    {
      "cell_type": "code",
      "execution_count": 81,
      "metadata": {
        "id": "SlO4ZmQDIvAL",
        "colab": {
          "base_uri": "https://localhost:8080/"
        },
        "outputId": "73513521-815d-473d-f58f-33810f91bcc5"
      },
      "outputs": [
        {
          "output_type": "execute_result",
          "data": {
            "text/plain": [
              "100"
            ]
          },
          "metadata": {},
          "execution_count": 81
        }
      ],
      "source": [
        "movie_budget.id.nunique()"
      ]
    },
    {
      "cell_type": "markdown",
      "source": [
        "#Proposal Two Starts Here\n",
        "\n",
        "---\n",
        "\n"
      ],
      "metadata": {
        "id": "muM4ouJ9ABpQ"
      }
    },
    {
      "cell_type": "markdown",
      "metadata": {
        "id": "TUYe-UzlIvAM"
      },
      "source": [
        "SQL Data\n",
        "\n",
        "The below line should only need to be run once. It unzips the SQL data, since SQLite doesn't work with zipped data."
      ]
    },
    {
      "cell_type": "code",
      "execution_count": 82,
      "metadata": {
        "id": "PxLfgd3cIvAM"
      },
      "outputs": [],
      "source": [
        "#! unzip -n zippedData/im.db.zip"
      ]
    },
    {
      "cell_type": "markdown",
      "metadata": {
        "id": "mTrtRGh1IvAN"
      },
      "source": [
        "Then here is some starter code that reads one of the data tables from the database:"
      ]
    },
    {
      "cell_type": "code",
      "execution_count": 83,
      "metadata": {
        "id": "B9v6L348IvAN"
      },
      "outputs": [],
      "source": [
        "import sqlite3"
      ]
    },
    {
      "cell_type": "code",
      "execution_count": 84,
      "metadata": {
        "id": "zpGHZOB3IvAO"
      },
      "outputs": [],
      "source": [
        "conn = sqlite3.connect(\"/content/drive/MyDrive/Colab Notebooks/zippedData/im.db\")"
      ]
    },
    {
      "cell_type": "code",
      "execution_count": 85,
      "metadata": {
        "id": "uI0L_ZOgIvAP",
        "colab": {
          "base_uri": "https://localhost:8080/",
          "height": 279
        },
        "outputId": "dc17abd2-5820-4e7b-d6cd-725f6c244f7f"
      },
      "outputs": [
        {
          "output_type": "execute_result",
          "data": {
            "text/plain": [
              "            name\n",
              "0   movie_basics\n",
              "1      directors\n",
              "2      known_for\n",
              "3     movie_akas\n",
              "4  movie_ratings\n",
              "5        persons\n",
              "6     principals\n",
              "7        writers"
            ],
            "text/html": [
              "\n",
              "  <div id=\"df-0be1780b-1ced-4dd3-9feb-9c64f34b116c\">\n",
              "    <div class=\"colab-df-container\">\n",
              "      <div>\n",
              "<style scoped>\n",
              "    .dataframe tbody tr th:only-of-type {\n",
              "        vertical-align: middle;\n",
              "    }\n",
              "\n",
              "    .dataframe tbody tr th {\n",
              "        vertical-align: top;\n",
              "    }\n",
              "\n",
              "    .dataframe thead th {\n",
              "        text-align: right;\n",
              "    }\n",
              "</style>\n",
              "<table border=\"1\" class=\"dataframe\">\n",
              "  <thead>\n",
              "    <tr style=\"text-align: right;\">\n",
              "      <th></th>\n",
              "      <th>name</th>\n",
              "    </tr>\n",
              "  </thead>\n",
              "  <tbody>\n",
              "    <tr>\n",
              "      <th>0</th>\n",
              "      <td>movie_basics</td>\n",
              "    </tr>\n",
              "    <tr>\n",
              "      <th>1</th>\n",
              "      <td>directors</td>\n",
              "    </tr>\n",
              "    <tr>\n",
              "      <th>2</th>\n",
              "      <td>known_for</td>\n",
              "    </tr>\n",
              "    <tr>\n",
              "      <th>3</th>\n",
              "      <td>movie_akas</td>\n",
              "    </tr>\n",
              "    <tr>\n",
              "      <th>4</th>\n",
              "      <td>movie_ratings</td>\n",
              "    </tr>\n",
              "    <tr>\n",
              "      <th>5</th>\n",
              "      <td>persons</td>\n",
              "    </tr>\n",
              "    <tr>\n",
              "      <th>6</th>\n",
              "      <td>principals</td>\n",
              "    </tr>\n",
              "    <tr>\n",
              "      <th>7</th>\n",
              "      <td>writers</td>\n",
              "    </tr>\n",
              "  </tbody>\n",
              "</table>\n",
              "</div>\n",
              "      <button class=\"colab-df-convert\" onclick=\"convertToInteractive('df-0be1780b-1ced-4dd3-9feb-9c64f34b116c')\"\n",
              "              title=\"Convert this dataframe to an interactive table.\"\n",
              "              style=\"display:none;\">\n",
              "        \n",
              "  <svg xmlns=\"http://www.w3.org/2000/svg\" height=\"24px\"viewBox=\"0 0 24 24\"\n",
              "       width=\"24px\">\n",
              "    <path d=\"M0 0h24v24H0V0z\" fill=\"none\"/>\n",
              "    <path d=\"M18.56 5.44l.94 2.06.94-2.06 2.06-.94-2.06-.94-.94-2.06-.94 2.06-2.06.94zm-11 1L8.5 8.5l.94-2.06 2.06-.94-2.06-.94L8.5 2.5l-.94 2.06-2.06.94zm10 10l.94 2.06.94-2.06 2.06-.94-2.06-.94-.94-2.06-.94 2.06-2.06.94z\"/><path d=\"M17.41 7.96l-1.37-1.37c-.4-.4-.92-.59-1.43-.59-.52 0-1.04.2-1.43.59L10.3 9.45l-7.72 7.72c-.78.78-.78 2.05 0 2.83L4 21.41c.39.39.9.59 1.41.59.51 0 1.02-.2 1.41-.59l7.78-7.78 2.81-2.81c.8-.78.8-2.07 0-2.86zM5.41 20L4 18.59l7.72-7.72 1.47 1.35L5.41 20z\"/>\n",
              "  </svg>\n",
              "      </button>\n",
              "      \n",
              "  <style>\n",
              "    .colab-df-container {\n",
              "      display:flex;\n",
              "      flex-wrap:wrap;\n",
              "      gap: 12px;\n",
              "    }\n",
              "\n",
              "    .colab-df-convert {\n",
              "      background-color: #E8F0FE;\n",
              "      border: none;\n",
              "      border-radius: 50%;\n",
              "      cursor: pointer;\n",
              "      display: none;\n",
              "      fill: #1967D2;\n",
              "      height: 32px;\n",
              "      padding: 0 0 0 0;\n",
              "      width: 32px;\n",
              "    }\n",
              "\n",
              "    .colab-df-convert:hover {\n",
              "      background-color: #E2EBFA;\n",
              "      box-shadow: 0px 1px 2px rgba(60, 64, 67, 0.3), 0px 1px 3px 1px rgba(60, 64, 67, 0.15);\n",
              "      fill: #174EA6;\n",
              "    }\n",
              "\n",
              "    [theme=dark] .colab-df-convert {\n",
              "      background-color: #3B4455;\n",
              "      fill: #D2E3FC;\n",
              "    }\n",
              "\n",
              "    [theme=dark] .colab-df-convert:hover {\n",
              "      background-color: #434B5C;\n",
              "      box-shadow: 0px 1px 3px 1px rgba(0, 0, 0, 0.15);\n",
              "      filter: drop-shadow(0px 1px 2px rgba(0, 0, 0, 0.3));\n",
              "      fill: #FFFFFF;\n",
              "    }\n",
              "  </style>\n",
              "\n",
              "      <script>\n",
              "        const buttonEl =\n",
              "          document.querySelector('#df-0be1780b-1ced-4dd3-9feb-9c64f34b116c button.colab-df-convert');\n",
              "        buttonEl.style.display =\n",
              "          google.colab.kernel.accessAllowed ? 'block' : 'none';\n",
              "\n",
              "        async function convertToInteractive(key) {\n",
              "          const element = document.querySelector('#df-0be1780b-1ced-4dd3-9feb-9c64f34b116c');\n",
              "          const dataTable =\n",
              "            await google.colab.kernel.invokeFunction('convertToInteractive',\n",
              "                                                     [key], {});\n",
              "          if (!dataTable) return;\n",
              "\n",
              "          const docLinkHtml = 'Like what you see? Visit the ' +\n",
              "            '<a target=\"_blank\" href=https://colab.research.google.com/notebooks/data_table.ipynb>data table notebook</a>'\n",
              "            + ' to learn more about interactive tables.';\n",
              "          element.innerHTML = '';\n",
              "          dataTable['output_type'] = 'display_data';\n",
              "          await google.colab.output.renderOutput(dataTable, element);\n",
              "          const docLink = document.createElement('div');\n",
              "          docLink.innerHTML = docLinkHtml;\n",
              "          element.appendChild(docLink);\n",
              "        }\n",
              "      </script>\n",
              "    </div>\n",
              "  </div>\n",
              "  "
            ]
          },
          "metadata": {},
          "execution_count": 85
        }
      ],
      "source": [
        "df = pd.read_sql(\"\"\"SELECT name FROM sqlite_master WHERE type = 'table';\"\"\", conn)\n",
        "df"
      ]
    },
    {
      "cell_type": "code",
      "execution_count": 86,
      "metadata": {
        "scrolled": true,
        "id": "sSJ95qkoIvAO",
        "colab": {
          "base_uri": "https://localhost:8080/",
          "height": 215
        },
        "outputId": "928ec186-c45d-44b8-b9aa-453e11b1144e"
      },
      "outputs": [
        {
          "output_type": "execute_result",
          "data": {
            "text/plain": [
              "    movie_id                    primary_title              original_title  \\\n",
              "0  tt0063540                        Sunghursh                   Sunghursh   \n",
              "1  tt0066787  One Day Before the Rainy Season             Ashad Ka Ek Din   \n",
              "2  tt0069049       The Other Side of the Wind  The Other Side of the Wind   \n",
              "3  tt0069204                  Sabse Bada Sukh             Sabse Bada Sukh   \n",
              "4  tt0100275         The Wandering Soap Opera       La Telenovela Errante   \n",
              "\n",
              "   start_year  runtime_minutes                genres  \n",
              "0        2013            175.0    Action,Crime,Drama  \n",
              "1        2019            114.0       Biography,Drama  \n",
              "2        2018            122.0                 Drama  \n",
              "3        2018              NaN          Comedy,Drama  \n",
              "4        2017             80.0  Comedy,Drama,Fantasy  "
            ],
            "text/html": [
              "\n",
              "  <div id=\"df-91bae476-1a67-4836-8db2-adcca1d8cdad\">\n",
              "    <div class=\"colab-df-container\">\n",
              "      <div>\n",
              "<style scoped>\n",
              "    .dataframe tbody tr th:only-of-type {\n",
              "        vertical-align: middle;\n",
              "    }\n",
              "\n",
              "    .dataframe tbody tr th {\n",
              "        vertical-align: top;\n",
              "    }\n",
              "\n",
              "    .dataframe thead th {\n",
              "        text-align: right;\n",
              "    }\n",
              "</style>\n",
              "<table border=\"1\" class=\"dataframe\">\n",
              "  <thead>\n",
              "    <tr style=\"text-align: right;\">\n",
              "      <th></th>\n",
              "      <th>movie_id</th>\n",
              "      <th>primary_title</th>\n",
              "      <th>original_title</th>\n",
              "      <th>start_year</th>\n",
              "      <th>runtime_minutes</th>\n",
              "      <th>genres</th>\n",
              "    </tr>\n",
              "  </thead>\n",
              "  <tbody>\n",
              "    <tr>\n",
              "      <th>0</th>\n",
              "      <td>tt0063540</td>\n",
              "      <td>Sunghursh</td>\n",
              "      <td>Sunghursh</td>\n",
              "      <td>2013</td>\n",
              "      <td>175.0</td>\n",
              "      <td>Action,Crime,Drama</td>\n",
              "    </tr>\n",
              "    <tr>\n",
              "      <th>1</th>\n",
              "      <td>tt0066787</td>\n",
              "      <td>One Day Before the Rainy Season</td>\n",
              "      <td>Ashad Ka Ek Din</td>\n",
              "      <td>2019</td>\n",
              "      <td>114.0</td>\n",
              "      <td>Biography,Drama</td>\n",
              "    </tr>\n",
              "    <tr>\n",
              "      <th>2</th>\n",
              "      <td>tt0069049</td>\n",
              "      <td>The Other Side of the Wind</td>\n",
              "      <td>The Other Side of the Wind</td>\n",
              "      <td>2018</td>\n",
              "      <td>122.0</td>\n",
              "      <td>Drama</td>\n",
              "    </tr>\n",
              "    <tr>\n",
              "      <th>3</th>\n",
              "      <td>tt0069204</td>\n",
              "      <td>Sabse Bada Sukh</td>\n",
              "      <td>Sabse Bada Sukh</td>\n",
              "      <td>2018</td>\n",
              "      <td>NaN</td>\n",
              "      <td>Comedy,Drama</td>\n",
              "    </tr>\n",
              "    <tr>\n",
              "      <th>4</th>\n",
              "      <td>tt0100275</td>\n",
              "      <td>The Wandering Soap Opera</td>\n",
              "      <td>La Telenovela Errante</td>\n",
              "      <td>2017</td>\n",
              "      <td>80.0</td>\n",
              "      <td>Comedy,Drama,Fantasy</td>\n",
              "    </tr>\n",
              "  </tbody>\n",
              "</table>\n",
              "</div>\n",
              "      <button class=\"colab-df-convert\" onclick=\"convertToInteractive('df-91bae476-1a67-4836-8db2-adcca1d8cdad')\"\n",
              "              title=\"Convert this dataframe to an interactive table.\"\n",
              "              style=\"display:none;\">\n",
              "        \n",
              "  <svg xmlns=\"http://www.w3.org/2000/svg\" height=\"24px\"viewBox=\"0 0 24 24\"\n",
              "       width=\"24px\">\n",
              "    <path d=\"M0 0h24v24H0V0z\" fill=\"none\"/>\n",
              "    <path d=\"M18.56 5.44l.94 2.06.94-2.06 2.06-.94-2.06-.94-.94-2.06-.94 2.06-2.06.94zm-11 1L8.5 8.5l.94-2.06 2.06-.94-2.06-.94L8.5 2.5l-.94 2.06-2.06.94zm10 10l.94 2.06.94-2.06 2.06-.94-2.06-.94-.94-2.06-.94 2.06-2.06.94z\"/><path d=\"M17.41 7.96l-1.37-1.37c-.4-.4-.92-.59-1.43-.59-.52 0-1.04.2-1.43.59L10.3 9.45l-7.72 7.72c-.78.78-.78 2.05 0 2.83L4 21.41c.39.39.9.59 1.41.59.51 0 1.02-.2 1.41-.59l7.78-7.78 2.81-2.81c.8-.78.8-2.07 0-2.86zM5.41 20L4 18.59l7.72-7.72 1.47 1.35L5.41 20z\"/>\n",
              "  </svg>\n",
              "      </button>\n",
              "      \n",
              "  <style>\n",
              "    .colab-df-container {\n",
              "      display:flex;\n",
              "      flex-wrap:wrap;\n",
              "      gap: 12px;\n",
              "    }\n",
              "\n",
              "    .colab-df-convert {\n",
              "      background-color: #E8F0FE;\n",
              "      border: none;\n",
              "      border-radius: 50%;\n",
              "      cursor: pointer;\n",
              "      display: none;\n",
              "      fill: #1967D2;\n",
              "      height: 32px;\n",
              "      padding: 0 0 0 0;\n",
              "      width: 32px;\n",
              "    }\n",
              "\n",
              "    .colab-df-convert:hover {\n",
              "      background-color: #E2EBFA;\n",
              "      box-shadow: 0px 1px 2px rgba(60, 64, 67, 0.3), 0px 1px 3px 1px rgba(60, 64, 67, 0.15);\n",
              "      fill: #174EA6;\n",
              "    }\n",
              "\n",
              "    [theme=dark] .colab-df-convert {\n",
              "      background-color: #3B4455;\n",
              "      fill: #D2E3FC;\n",
              "    }\n",
              "\n",
              "    [theme=dark] .colab-df-convert:hover {\n",
              "      background-color: #434B5C;\n",
              "      box-shadow: 0px 1px 3px 1px rgba(0, 0, 0, 0.15);\n",
              "      filter: drop-shadow(0px 1px 2px rgba(0, 0, 0, 0.3));\n",
              "      fill: #FFFFFF;\n",
              "    }\n",
              "  </style>\n",
              "\n",
              "      <script>\n",
              "        const buttonEl =\n",
              "          document.querySelector('#df-91bae476-1a67-4836-8db2-adcca1d8cdad button.colab-df-convert');\n",
              "        buttonEl.style.display =\n",
              "          google.colab.kernel.accessAllowed ? 'block' : 'none';\n",
              "\n",
              "        async function convertToInteractive(key) {\n",
              "          const element = document.querySelector('#df-91bae476-1a67-4836-8db2-adcca1d8cdad');\n",
              "          const dataTable =\n",
              "            await google.colab.kernel.invokeFunction('convertToInteractive',\n",
              "                                                     [key], {});\n",
              "          if (!dataTable) return;\n",
              "\n",
              "          const docLinkHtml = 'Like what you see? Visit the ' +\n",
              "            '<a target=\"_blank\" href=https://colab.research.google.com/notebooks/data_table.ipynb>data table notebook</a>'\n",
              "            + ' to learn more about interactive tables.';\n",
              "          element.innerHTML = '';\n",
              "          dataTable['output_type'] = 'display_data';\n",
              "          await google.colab.output.renderOutput(dataTable, element);\n",
              "          const docLink = document.createElement('div');\n",
              "          docLink.innerHTML = docLinkHtml;\n",
              "          element.appendChild(docLink);\n",
              "        }\n",
              "      </script>\n",
              "    </div>\n",
              "  </div>\n",
              "  "
            ]
          },
          "metadata": {},
          "execution_count": 86
        }
      ],
      "source": [
        "movie_basics = pd.read_sql(\"SELECT * FROM movie_basics;\", conn)\n",
        "movie_basics.head()"
      ]
    },
    {
      "cell_type": "code",
      "execution_count": 87,
      "metadata": {
        "id": "OraPsfk2IvAO",
        "colab": {
          "base_uri": "https://localhost:8080/"
        },
        "outputId": "359b16e2-149b-4974-8890-2ea6c81a7ed0"
      },
      "outputs": [
        {
          "output_type": "execute_result",
          "data": {
            "text/plain": [
              "(146144, 6)"
            ]
          },
          "metadata": {},
          "execution_count": 87
        }
      ],
      "source": [
        "movie_basics.shape"
      ]
    },
    {
      "cell_type": "code",
      "execution_count": 88,
      "metadata": {
        "id": "rspmeonIIvAP",
        "colab": {
          "base_uri": "https://localhost:8080/"
        },
        "outputId": "61063863-0f05-462e-91b5-3397e943bc54"
      },
      "outputs": [
        {
          "output_type": "execute_result",
          "data": {
            "text/plain": [
              "146144"
            ]
          },
          "metadata": {},
          "execution_count": 88
        }
      ],
      "source": [
        "movie_basics.movie_id.nunique()"
      ]
    },
    {
      "cell_type": "code",
      "execution_count": 89,
      "metadata": {
        "id": "zDthXmoZIvAQ",
        "colab": {
          "base_uri": "https://localhost:8080/",
          "height": 215
        },
        "outputId": "bc578f79-98f8-4f24-fb60-69d9eb161222"
      },
      "outputs": [
        {
          "output_type": "execute_result",
          "data": {
            "text/plain": [
              "     movie_id  averagerating  numvotes\n",
              "0  tt10356526            8.3        31\n",
              "1  tt10384606            8.9       559\n",
              "2   tt1042974            6.4        20\n",
              "3   tt1043726            4.2     50352\n",
              "4   tt1060240            6.5        21"
            ],
            "text/html": [
              "\n",
              "  <div id=\"df-d1f8a019-f3a7-46bd-abda-59d70963ad05\">\n",
              "    <div class=\"colab-df-container\">\n",
              "      <div>\n",
              "<style scoped>\n",
              "    .dataframe tbody tr th:only-of-type {\n",
              "        vertical-align: middle;\n",
              "    }\n",
              "\n",
              "    .dataframe tbody tr th {\n",
              "        vertical-align: top;\n",
              "    }\n",
              "\n",
              "    .dataframe thead th {\n",
              "        text-align: right;\n",
              "    }\n",
              "</style>\n",
              "<table border=\"1\" class=\"dataframe\">\n",
              "  <thead>\n",
              "    <tr style=\"text-align: right;\">\n",
              "      <th></th>\n",
              "      <th>movie_id</th>\n",
              "      <th>averagerating</th>\n",
              "      <th>numvotes</th>\n",
              "    </tr>\n",
              "  </thead>\n",
              "  <tbody>\n",
              "    <tr>\n",
              "      <th>0</th>\n",
              "      <td>tt10356526</td>\n",
              "      <td>8.3</td>\n",
              "      <td>31</td>\n",
              "    </tr>\n",
              "    <tr>\n",
              "      <th>1</th>\n",
              "      <td>tt10384606</td>\n",
              "      <td>8.9</td>\n",
              "      <td>559</td>\n",
              "    </tr>\n",
              "    <tr>\n",
              "      <th>2</th>\n",
              "      <td>tt1042974</td>\n",
              "      <td>6.4</td>\n",
              "      <td>20</td>\n",
              "    </tr>\n",
              "    <tr>\n",
              "      <th>3</th>\n",
              "      <td>tt1043726</td>\n",
              "      <td>4.2</td>\n",
              "      <td>50352</td>\n",
              "    </tr>\n",
              "    <tr>\n",
              "      <th>4</th>\n",
              "      <td>tt1060240</td>\n",
              "      <td>6.5</td>\n",
              "      <td>21</td>\n",
              "    </tr>\n",
              "  </tbody>\n",
              "</table>\n",
              "</div>\n",
              "      <button class=\"colab-df-convert\" onclick=\"convertToInteractive('df-d1f8a019-f3a7-46bd-abda-59d70963ad05')\"\n",
              "              title=\"Convert this dataframe to an interactive table.\"\n",
              "              style=\"display:none;\">\n",
              "        \n",
              "  <svg xmlns=\"http://www.w3.org/2000/svg\" height=\"24px\"viewBox=\"0 0 24 24\"\n",
              "       width=\"24px\">\n",
              "    <path d=\"M0 0h24v24H0V0z\" fill=\"none\"/>\n",
              "    <path d=\"M18.56 5.44l.94 2.06.94-2.06 2.06-.94-2.06-.94-.94-2.06-.94 2.06-2.06.94zm-11 1L8.5 8.5l.94-2.06 2.06-.94-2.06-.94L8.5 2.5l-.94 2.06-2.06.94zm10 10l.94 2.06.94-2.06 2.06-.94-2.06-.94-.94-2.06-.94 2.06-2.06.94z\"/><path d=\"M17.41 7.96l-1.37-1.37c-.4-.4-.92-.59-1.43-.59-.52 0-1.04.2-1.43.59L10.3 9.45l-7.72 7.72c-.78.78-.78 2.05 0 2.83L4 21.41c.39.39.9.59 1.41.59.51 0 1.02-.2 1.41-.59l7.78-7.78 2.81-2.81c.8-.78.8-2.07 0-2.86zM5.41 20L4 18.59l7.72-7.72 1.47 1.35L5.41 20z\"/>\n",
              "  </svg>\n",
              "      </button>\n",
              "      \n",
              "  <style>\n",
              "    .colab-df-container {\n",
              "      display:flex;\n",
              "      flex-wrap:wrap;\n",
              "      gap: 12px;\n",
              "    }\n",
              "\n",
              "    .colab-df-convert {\n",
              "      background-color: #E8F0FE;\n",
              "      border: none;\n",
              "      border-radius: 50%;\n",
              "      cursor: pointer;\n",
              "      display: none;\n",
              "      fill: #1967D2;\n",
              "      height: 32px;\n",
              "      padding: 0 0 0 0;\n",
              "      width: 32px;\n",
              "    }\n",
              "\n",
              "    .colab-df-convert:hover {\n",
              "      background-color: #E2EBFA;\n",
              "      box-shadow: 0px 1px 2px rgba(60, 64, 67, 0.3), 0px 1px 3px 1px rgba(60, 64, 67, 0.15);\n",
              "      fill: #174EA6;\n",
              "    }\n",
              "\n",
              "    [theme=dark] .colab-df-convert {\n",
              "      background-color: #3B4455;\n",
              "      fill: #D2E3FC;\n",
              "    }\n",
              "\n",
              "    [theme=dark] .colab-df-convert:hover {\n",
              "      background-color: #434B5C;\n",
              "      box-shadow: 0px 1px 3px 1px rgba(0, 0, 0, 0.15);\n",
              "      filter: drop-shadow(0px 1px 2px rgba(0, 0, 0, 0.3));\n",
              "      fill: #FFFFFF;\n",
              "    }\n",
              "  </style>\n",
              "\n",
              "      <script>\n",
              "        const buttonEl =\n",
              "          document.querySelector('#df-d1f8a019-f3a7-46bd-abda-59d70963ad05 button.colab-df-convert');\n",
              "        buttonEl.style.display =\n",
              "          google.colab.kernel.accessAllowed ? 'block' : 'none';\n",
              "\n",
              "        async function convertToInteractive(key) {\n",
              "          const element = document.querySelector('#df-d1f8a019-f3a7-46bd-abda-59d70963ad05');\n",
              "          const dataTable =\n",
              "            await google.colab.kernel.invokeFunction('convertToInteractive',\n",
              "                                                     [key], {});\n",
              "          if (!dataTable) return;\n",
              "\n",
              "          const docLinkHtml = 'Like what you see? Visit the ' +\n",
              "            '<a target=\"_blank\" href=https://colab.research.google.com/notebooks/data_table.ipynb>data table notebook</a>'\n",
              "            + ' to learn more about interactive tables.';\n",
              "          element.innerHTML = '';\n",
              "          dataTable['output_type'] = 'display_data';\n",
              "          await google.colab.output.renderOutput(dataTable, element);\n",
              "          const docLink = document.createElement('div');\n",
              "          docLink.innerHTML = docLinkHtml;\n",
              "          element.appendChild(docLink);\n",
              "        }\n",
              "      </script>\n",
              "    </div>\n",
              "  </div>\n",
              "  "
            ]
          },
          "metadata": {},
          "execution_count": 89
        }
      ],
      "source": [
        "movie_ratings = pd.read_sql(\"SELECT * FROM movie_ratings;\", conn)\n",
        "movie_ratings.head()"
      ]
    },
    {
      "cell_type": "code",
      "execution_count": 90,
      "metadata": {
        "id": "PbB-W8GmIvAQ",
        "colab": {
          "base_uri": "https://localhost:8080/"
        },
        "outputId": "4f636e84-5cbc-47de-eef9-c7c5244ad56a"
      },
      "outputs": [
        {
          "output_type": "execute_result",
          "data": {
            "text/plain": [
              "(73856, 3)"
            ]
          },
          "metadata": {},
          "execution_count": 90
        }
      ],
      "source": [
        "movie_ratings.shape"
      ]
    },
    {
      "cell_type": "code",
      "execution_count": 91,
      "metadata": {
        "id": "j0Jitts5IvAQ",
        "colab": {
          "base_uri": "https://localhost:8080/"
        },
        "outputId": "b075e286-9ac8-49aa-9aac-3c320151200b"
      },
      "outputs": [
        {
          "output_type": "execute_result",
          "data": {
            "text/plain": [
              "73856"
            ]
          },
          "metadata": {},
          "execution_count": 91
        }
      ],
      "source": [
        "movie_ratings.movie_id.nunique()"
      ]
    },
    {
      "cell_type": "code",
      "source": [
        "movie_ratings.loc[movie_ratings.movie_id == 'tt10384606', :].head()"
      ],
      "metadata": {
        "colab": {
          "base_uri": "https://localhost:8080/",
          "height": 129
        },
        "id": "7xkjeX9nWZwP",
        "outputId": "178e69c3-99c1-404c-c4e0-05b94dd5bf16"
      },
      "execution_count": 92,
      "outputs": [
        {
          "output_type": "execute_result",
          "data": {
            "text/plain": [
              "     movie_id  averagerating  numvotes\n",
              "1  tt10384606            8.9       559"
            ],
            "text/html": [
              "\n",
              "  <div id=\"df-3563f575-3acf-47f6-bdaf-a3409eda77bf\">\n",
              "    <div class=\"colab-df-container\">\n",
              "      <div>\n",
              "<style scoped>\n",
              "    .dataframe tbody tr th:only-of-type {\n",
              "        vertical-align: middle;\n",
              "    }\n",
              "\n",
              "    .dataframe tbody tr th {\n",
              "        vertical-align: top;\n",
              "    }\n",
              "\n",
              "    .dataframe thead th {\n",
              "        text-align: right;\n",
              "    }\n",
              "</style>\n",
              "<table border=\"1\" class=\"dataframe\">\n",
              "  <thead>\n",
              "    <tr style=\"text-align: right;\">\n",
              "      <th></th>\n",
              "      <th>movie_id</th>\n",
              "      <th>averagerating</th>\n",
              "      <th>numvotes</th>\n",
              "    </tr>\n",
              "  </thead>\n",
              "  <tbody>\n",
              "    <tr>\n",
              "      <th>1</th>\n",
              "      <td>tt10384606</td>\n",
              "      <td>8.9</td>\n",
              "      <td>559</td>\n",
              "    </tr>\n",
              "  </tbody>\n",
              "</table>\n",
              "</div>\n",
              "      <button class=\"colab-df-convert\" onclick=\"convertToInteractive('df-3563f575-3acf-47f6-bdaf-a3409eda77bf')\"\n",
              "              title=\"Convert this dataframe to an interactive table.\"\n",
              "              style=\"display:none;\">\n",
              "        \n",
              "  <svg xmlns=\"http://www.w3.org/2000/svg\" height=\"24px\"viewBox=\"0 0 24 24\"\n",
              "       width=\"24px\">\n",
              "    <path d=\"M0 0h24v24H0V0z\" fill=\"none\"/>\n",
              "    <path d=\"M18.56 5.44l.94 2.06.94-2.06 2.06-.94-2.06-.94-.94-2.06-.94 2.06-2.06.94zm-11 1L8.5 8.5l.94-2.06 2.06-.94-2.06-.94L8.5 2.5l-.94 2.06-2.06.94zm10 10l.94 2.06.94-2.06 2.06-.94-2.06-.94-.94-2.06-.94 2.06-2.06.94z\"/><path d=\"M17.41 7.96l-1.37-1.37c-.4-.4-.92-.59-1.43-.59-.52 0-1.04.2-1.43.59L10.3 9.45l-7.72 7.72c-.78.78-.78 2.05 0 2.83L4 21.41c.39.39.9.59 1.41.59.51 0 1.02-.2 1.41-.59l7.78-7.78 2.81-2.81c.8-.78.8-2.07 0-2.86zM5.41 20L4 18.59l7.72-7.72 1.47 1.35L5.41 20z\"/>\n",
              "  </svg>\n",
              "      </button>\n",
              "      \n",
              "  <style>\n",
              "    .colab-df-container {\n",
              "      display:flex;\n",
              "      flex-wrap:wrap;\n",
              "      gap: 12px;\n",
              "    }\n",
              "\n",
              "    .colab-df-convert {\n",
              "      background-color: #E8F0FE;\n",
              "      border: none;\n",
              "      border-radius: 50%;\n",
              "      cursor: pointer;\n",
              "      display: none;\n",
              "      fill: #1967D2;\n",
              "      height: 32px;\n",
              "      padding: 0 0 0 0;\n",
              "      width: 32px;\n",
              "    }\n",
              "\n",
              "    .colab-df-convert:hover {\n",
              "      background-color: #E2EBFA;\n",
              "      box-shadow: 0px 1px 2px rgba(60, 64, 67, 0.3), 0px 1px 3px 1px rgba(60, 64, 67, 0.15);\n",
              "      fill: #174EA6;\n",
              "    }\n",
              "\n",
              "    [theme=dark] .colab-df-convert {\n",
              "      background-color: #3B4455;\n",
              "      fill: #D2E3FC;\n",
              "    }\n",
              "\n",
              "    [theme=dark] .colab-df-convert:hover {\n",
              "      background-color: #434B5C;\n",
              "      box-shadow: 0px 1px 3px 1px rgba(0, 0, 0, 0.15);\n",
              "      filter: drop-shadow(0px 1px 2px rgba(0, 0, 0, 0.3));\n",
              "      fill: #FFFFFF;\n",
              "    }\n",
              "  </style>\n",
              "\n",
              "      <script>\n",
              "        const buttonEl =\n",
              "          document.querySelector('#df-3563f575-3acf-47f6-bdaf-a3409eda77bf button.colab-df-convert');\n",
              "        buttonEl.style.display =\n",
              "          google.colab.kernel.accessAllowed ? 'block' : 'none';\n",
              "\n",
              "        async function convertToInteractive(key) {\n",
              "          const element = document.querySelector('#df-3563f575-3acf-47f6-bdaf-a3409eda77bf');\n",
              "          const dataTable =\n",
              "            await google.colab.kernel.invokeFunction('convertToInteractive',\n",
              "                                                     [key], {});\n",
              "          if (!dataTable) return;\n",
              "\n",
              "          const docLinkHtml = 'Like what you see? Visit the ' +\n",
              "            '<a target=\"_blank\" href=https://colab.research.google.com/notebooks/data_table.ipynb>data table notebook</a>'\n",
              "            + ' to learn more about interactive tables.';\n",
              "          element.innerHTML = '';\n",
              "          dataTable['output_type'] = 'display_data';\n",
              "          await google.colab.output.renderOutput(dataTable, element);\n",
              "          const docLink = document.createElement('div');\n",
              "          docLink.innerHTML = docLinkHtml;\n",
              "          element.appendChild(docLink);\n",
              "        }\n",
              "      </script>\n",
              "    </div>\n",
              "  </div>\n",
              "  "
            ]
          },
          "metadata": {},
          "execution_count": 92
        }
      ]
    },
    {
      "cell_type": "code",
      "execution_count": 93,
      "metadata": {
        "id": "-MqcmIj8IvAT",
        "colab": {
          "base_uri": "https://localhost:8080/",
          "height": 215
        },
        "outputId": "6165843a-96c6-47bc-b56b-2937cf6355b2"
      },
      "outputs": [
        {
          "output_type": "execute_result",
          "data": {
            "text/plain": [
              "    movie_id  person_id\n",
              "0  tt0285252  nm0899854\n",
              "1  tt0462036  nm1940585\n",
              "2  tt0835418  nm0151540\n",
              "3  tt0835418  nm0151540\n",
              "4  tt0878654  nm0089502"
            ],
            "text/html": [
              "\n",
              "  <div id=\"df-913004ee-ced9-4fc7-96cb-a4e63a13df5f\">\n",
              "    <div class=\"colab-df-container\">\n",
              "      <div>\n",
              "<style scoped>\n",
              "    .dataframe tbody tr th:only-of-type {\n",
              "        vertical-align: middle;\n",
              "    }\n",
              "\n",
              "    .dataframe tbody tr th {\n",
              "        vertical-align: top;\n",
              "    }\n",
              "\n",
              "    .dataframe thead th {\n",
              "        text-align: right;\n",
              "    }\n",
              "</style>\n",
              "<table border=\"1\" class=\"dataframe\">\n",
              "  <thead>\n",
              "    <tr style=\"text-align: right;\">\n",
              "      <th></th>\n",
              "      <th>movie_id</th>\n",
              "      <th>person_id</th>\n",
              "    </tr>\n",
              "  </thead>\n",
              "  <tbody>\n",
              "    <tr>\n",
              "      <th>0</th>\n",
              "      <td>tt0285252</td>\n",
              "      <td>nm0899854</td>\n",
              "    </tr>\n",
              "    <tr>\n",
              "      <th>1</th>\n",
              "      <td>tt0462036</td>\n",
              "      <td>nm1940585</td>\n",
              "    </tr>\n",
              "    <tr>\n",
              "      <th>2</th>\n",
              "      <td>tt0835418</td>\n",
              "      <td>nm0151540</td>\n",
              "    </tr>\n",
              "    <tr>\n",
              "      <th>3</th>\n",
              "      <td>tt0835418</td>\n",
              "      <td>nm0151540</td>\n",
              "    </tr>\n",
              "    <tr>\n",
              "      <th>4</th>\n",
              "      <td>tt0878654</td>\n",
              "      <td>nm0089502</td>\n",
              "    </tr>\n",
              "  </tbody>\n",
              "</table>\n",
              "</div>\n",
              "      <button class=\"colab-df-convert\" onclick=\"convertToInteractive('df-913004ee-ced9-4fc7-96cb-a4e63a13df5f')\"\n",
              "              title=\"Convert this dataframe to an interactive table.\"\n",
              "              style=\"display:none;\">\n",
              "        \n",
              "  <svg xmlns=\"http://www.w3.org/2000/svg\" height=\"24px\"viewBox=\"0 0 24 24\"\n",
              "       width=\"24px\">\n",
              "    <path d=\"M0 0h24v24H0V0z\" fill=\"none\"/>\n",
              "    <path d=\"M18.56 5.44l.94 2.06.94-2.06 2.06-.94-2.06-.94-.94-2.06-.94 2.06-2.06.94zm-11 1L8.5 8.5l.94-2.06 2.06-.94-2.06-.94L8.5 2.5l-.94 2.06-2.06.94zm10 10l.94 2.06.94-2.06 2.06-.94-2.06-.94-.94-2.06-.94 2.06-2.06.94z\"/><path d=\"M17.41 7.96l-1.37-1.37c-.4-.4-.92-.59-1.43-.59-.52 0-1.04.2-1.43.59L10.3 9.45l-7.72 7.72c-.78.78-.78 2.05 0 2.83L4 21.41c.39.39.9.59 1.41.59.51 0 1.02-.2 1.41-.59l7.78-7.78 2.81-2.81c.8-.78.8-2.07 0-2.86zM5.41 20L4 18.59l7.72-7.72 1.47 1.35L5.41 20z\"/>\n",
              "  </svg>\n",
              "      </button>\n",
              "      \n",
              "  <style>\n",
              "    .colab-df-container {\n",
              "      display:flex;\n",
              "      flex-wrap:wrap;\n",
              "      gap: 12px;\n",
              "    }\n",
              "\n",
              "    .colab-df-convert {\n",
              "      background-color: #E8F0FE;\n",
              "      border: none;\n",
              "      border-radius: 50%;\n",
              "      cursor: pointer;\n",
              "      display: none;\n",
              "      fill: #1967D2;\n",
              "      height: 32px;\n",
              "      padding: 0 0 0 0;\n",
              "      width: 32px;\n",
              "    }\n",
              "\n",
              "    .colab-df-convert:hover {\n",
              "      background-color: #E2EBFA;\n",
              "      box-shadow: 0px 1px 2px rgba(60, 64, 67, 0.3), 0px 1px 3px 1px rgba(60, 64, 67, 0.15);\n",
              "      fill: #174EA6;\n",
              "    }\n",
              "\n",
              "    [theme=dark] .colab-df-convert {\n",
              "      background-color: #3B4455;\n",
              "      fill: #D2E3FC;\n",
              "    }\n",
              "\n",
              "    [theme=dark] .colab-df-convert:hover {\n",
              "      background-color: #434B5C;\n",
              "      box-shadow: 0px 1px 3px 1px rgba(0, 0, 0, 0.15);\n",
              "      filter: drop-shadow(0px 1px 2px rgba(0, 0, 0, 0.3));\n",
              "      fill: #FFFFFF;\n",
              "    }\n",
              "  </style>\n",
              "\n",
              "      <script>\n",
              "        const buttonEl =\n",
              "          document.querySelector('#df-913004ee-ced9-4fc7-96cb-a4e63a13df5f button.colab-df-convert');\n",
              "        buttonEl.style.display =\n",
              "          google.colab.kernel.accessAllowed ? 'block' : 'none';\n",
              "\n",
              "        async function convertToInteractive(key) {\n",
              "          const element = document.querySelector('#df-913004ee-ced9-4fc7-96cb-a4e63a13df5f');\n",
              "          const dataTable =\n",
              "            await google.colab.kernel.invokeFunction('convertToInteractive',\n",
              "                                                     [key], {});\n",
              "          if (!dataTable) return;\n",
              "\n",
              "          const docLinkHtml = 'Like what you see? Visit the ' +\n",
              "            '<a target=\"_blank\" href=https://colab.research.google.com/notebooks/data_table.ipynb>data table notebook</a>'\n",
              "            + ' to learn more about interactive tables.';\n",
              "          element.innerHTML = '';\n",
              "          dataTable['output_type'] = 'display_data';\n",
              "          await google.colab.output.renderOutput(dataTable, element);\n",
              "          const docLink = document.createElement('div');\n",
              "          docLink.innerHTML = docLinkHtml;\n",
              "          element.appendChild(docLink);\n",
              "        }\n",
              "      </script>\n",
              "    </div>\n",
              "  </div>\n",
              "  "
            ]
          },
          "metadata": {},
          "execution_count": 93
        }
      ],
      "source": [
        "directors = pd.read_sql(\"SELECT * FROM directors;\", conn)\n",
        "directors.head()"
      ]
    },
    {
      "cell_type": "code",
      "execution_count": 94,
      "metadata": {
        "id": "wX0CWm0zIvAW",
        "colab": {
          "base_uri": "https://localhost:8080/"
        },
        "outputId": "fab8b9e3-5a85-42f7-d045-76b6c99b0683"
      },
      "outputs": [
        {
          "output_type": "execute_result",
          "data": {
            "text/plain": [
              "(291174, 2)"
            ]
          },
          "metadata": {},
          "execution_count": 94
        }
      ],
      "source": [
        "directors.shape"
      ]
    },
    {
      "cell_type": "code",
      "source": [
        "directors.movie_id.nunique()"
      ],
      "metadata": {
        "colab": {
          "base_uri": "https://localhost:8080/"
        },
        "id": "5JNXSizWRp99",
        "outputId": "81ae37d5-f779-4281-b12c-a203499a5398"
      },
      "execution_count": 95,
      "outputs": [
        {
          "output_type": "execute_result",
          "data": {
            "text/plain": [
              "140417"
            ]
          },
          "metadata": {},
          "execution_count": 95
        }
      ]
    },
    {
      "cell_type": "code",
      "source": [
        "directors.loc[directors.movie_id == 'tt0285252', :].head()"
      ],
      "metadata": {
        "colab": {
          "base_uri": "https://localhost:8080/",
          "height": 129
        },
        "id": "NVPl6pxqXyO_",
        "outputId": "1967aa38-ceeb-4554-c91b-10165b575901"
      },
      "execution_count": 96,
      "outputs": [
        {
          "output_type": "execute_result",
          "data": {
            "text/plain": [
              "    movie_id  person_id\n",
              "0  tt0285252  nm0899854"
            ],
            "text/html": [
              "\n",
              "  <div id=\"df-eae43288-bead-41dd-94be-fe400b7a3345\">\n",
              "    <div class=\"colab-df-container\">\n",
              "      <div>\n",
              "<style scoped>\n",
              "    .dataframe tbody tr th:only-of-type {\n",
              "        vertical-align: middle;\n",
              "    }\n",
              "\n",
              "    .dataframe tbody tr th {\n",
              "        vertical-align: top;\n",
              "    }\n",
              "\n",
              "    .dataframe thead th {\n",
              "        text-align: right;\n",
              "    }\n",
              "</style>\n",
              "<table border=\"1\" class=\"dataframe\">\n",
              "  <thead>\n",
              "    <tr style=\"text-align: right;\">\n",
              "      <th></th>\n",
              "      <th>movie_id</th>\n",
              "      <th>person_id</th>\n",
              "    </tr>\n",
              "  </thead>\n",
              "  <tbody>\n",
              "    <tr>\n",
              "      <th>0</th>\n",
              "      <td>tt0285252</td>\n",
              "      <td>nm0899854</td>\n",
              "    </tr>\n",
              "  </tbody>\n",
              "</table>\n",
              "</div>\n",
              "      <button class=\"colab-df-convert\" onclick=\"convertToInteractive('df-eae43288-bead-41dd-94be-fe400b7a3345')\"\n",
              "              title=\"Convert this dataframe to an interactive table.\"\n",
              "              style=\"display:none;\">\n",
              "        \n",
              "  <svg xmlns=\"http://www.w3.org/2000/svg\" height=\"24px\"viewBox=\"0 0 24 24\"\n",
              "       width=\"24px\">\n",
              "    <path d=\"M0 0h24v24H0V0z\" fill=\"none\"/>\n",
              "    <path d=\"M18.56 5.44l.94 2.06.94-2.06 2.06-.94-2.06-.94-.94-2.06-.94 2.06-2.06.94zm-11 1L8.5 8.5l.94-2.06 2.06-.94-2.06-.94L8.5 2.5l-.94 2.06-2.06.94zm10 10l.94 2.06.94-2.06 2.06-.94-2.06-.94-.94-2.06-.94 2.06-2.06.94z\"/><path d=\"M17.41 7.96l-1.37-1.37c-.4-.4-.92-.59-1.43-.59-.52 0-1.04.2-1.43.59L10.3 9.45l-7.72 7.72c-.78.78-.78 2.05 0 2.83L4 21.41c.39.39.9.59 1.41.59.51 0 1.02-.2 1.41-.59l7.78-7.78 2.81-2.81c.8-.78.8-2.07 0-2.86zM5.41 20L4 18.59l7.72-7.72 1.47 1.35L5.41 20z\"/>\n",
              "  </svg>\n",
              "      </button>\n",
              "      \n",
              "  <style>\n",
              "    .colab-df-container {\n",
              "      display:flex;\n",
              "      flex-wrap:wrap;\n",
              "      gap: 12px;\n",
              "    }\n",
              "\n",
              "    .colab-df-convert {\n",
              "      background-color: #E8F0FE;\n",
              "      border: none;\n",
              "      border-radius: 50%;\n",
              "      cursor: pointer;\n",
              "      display: none;\n",
              "      fill: #1967D2;\n",
              "      height: 32px;\n",
              "      padding: 0 0 0 0;\n",
              "      width: 32px;\n",
              "    }\n",
              "\n",
              "    .colab-df-convert:hover {\n",
              "      background-color: #E2EBFA;\n",
              "      box-shadow: 0px 1px 2px rgba(60, 64, 67, 0.3), 0px 1px 3px 1px rgba(60, 64, 67, 0.15);\n",
              "      fill: #174EA6;\n",
              "    }\n",
              "\n",
              "    [theme=dark] .colab-df-convert {\n",
              "      background-color: #3B4455;\n",
              "      fill: #D2E3FC;\n",
              "    }\n",
              "\n",
              "    [theme=dark] .colab-df-convert:hover {\n",
              "      background-color: #434B5C;\n",
              "      box-shadow: 0px 1px 3px 1px rgba(0, 0, 0, 0.15);\n",
              "      filter: drop-shadow(0px 1px 2px rgba(0, 0, 0, 0.3));\n",
              "      fill: #FFFFFF;\n",
              "    }\n",
              "  </style>\n",
              "\n",
              "      <script>\n",
              "        const buttonEl =\n",
              "          document.querySelector('#df-eae43288-bead-41dd-94be-fe400b7a3345 button.colab-df-convert');\n",
              "        buttonEl.style.display =\n",
              "          google.colab.kernel.accessAllowed ? 'block' : 'none';\n",
              "\n",
              "        async function convertToInteractive(key) {\n",
              "          const element = document.querySelector('#df-eae43288-bead-41dd-94be-fe400b7a3345');\n",
              "          const dataTable =\n",
              "            await google.colab.kernel.invokeFunction('convertToInteractive',\n",
              "                                                     [key], {});\n",
              "          if (!dataTable) return;\n",
              "\n",
              "          const docLinkHtml = 'Like what you see? Visit the ' +\n",
              "            '<a target=\"_blank\" href=https://colab.research.google.com/notebooks/data_table.ipynb>data table notebook</a>'\n",
              "            + ' to learn more about interactive tables.';\n",
              "          element.innerHTML = '';\n",
              "          dataTable['output_type'] = 'display_data';\n",
              "          await google.colab.output.renderOutput(dataTable, element);\n",
              "          const docLink = document.createElement('div');\n",
              "          docLink.innerHTML = docLinkHtml;\n",
              "          element.appendChild(docLink);\n",
              "        }\n",
              "      </script>\n",
              "    </div>\n",
              "  </div>\n",
              "  "
            ]
          },
          "metadata": {},
          "execution_count": 96
        }
      ]
    },
    {
      "cell_type": "code",
      "source": [
        "person = pd.read_sql(\"SELECT * FROM persons;\", conn)\n",
        "person.head()"
      ],
      "metadata": {
        "colab": {
          "base_uri": "https://localhost:8080/",
          "height": 215
        },
        "id": "x7Ss-aiAYUA0",
        "outputId": "d426bb7c-ed33-4218-bdce-2e4a3f824783"
      },
      "execution_count": 97,
      "outputs": [
        {
          "output_type": "execute_result",
          "data": {
            "text/plain": [
              "   person_id       primary_name  birth_year  death_year  \\\n",
              "0  nm0061671  Mary Ellen Bauder         NaN         NaN   \n",
              "1  nm0061865       Joseph Bauer         NaN         NaN   \n",
              "2  nm0062070         Bruce Baum         NaN         NaN   \n",
              "3  nm0062195       Axel Baumann         NaN         NaN   \n",
              "4  nm0062798        Pete Baxter         NaN         NaN   \n",
              "\n",
              "                                 primary_profession  \n",
              "0         miscellaneous,production_manager,producer  \n",
              "1        composer,music_department,sound_department  \n",
              "2                        miscellaneous,actor,writer  \n",
              "3  camera_department,cinematographer,art_department  \n",
              "4  production_designer,art_department,set_decorator  "
            ],
            "text/html": [
              "\n",
              "  <div id=\"df-d6c649a7-b44b-4dfe-b8b9-40e7264c5881\">\n",
              "    <div class=\"colab-df-container\">\n",
              "      <div>\n",
              "<style scoped>\n",
              "    .dataframe tbody tr th:only-of-type {\n",
              "        vertical-align: middle;\n",
              "    }\n",
              "\n",
              "    .dataframe tbody tr th {\n",
              "        vertical-align: top;\n",
              "    }\n",
              "\n",
              "    .dataframe thead th {\n",
              "        text-align: right;\n",
              "    }\n",
              "</style>\n",
              "<table border=\"1\" class=\"dataframe\">\n",
              "  <thead>\n",
              "    <tr style=\"text-align: right;\">\n",
              "      <th></th>\n",
              "      <th>person_id</th>\n",
              "      <th>primary_name</th>\n",
              "      <th>birth_year</th>\n",
              "      <th>death_year</th>\n",
              "      <th>primary_profession</th>\n",
              "    </tr>\n",
              "  </thead>\n",
              "  <tbody>\n",
              "    <tr>\n",
              "      <th>0</th>\n",
              "      <td>nm0061671</td>\n",
              "      <td>Mary Ellen Bauder</td>\n",
              "      <td>NaN</td>\n",
              "      <td>NaN</td>\n",
              "      <td>miscellaneous,production_manager,producer</td>\n",
              "    </tr>\n",
              "    <tr>\n",
              "      <th>1</th>\n",
              "      <td>nm0061865</td>\n",
              "      <td>Joseph Bauer</td>\n",
              "      <td>NaN</td>\n",
              "      <td>NaN</td>\n",
              "      <td>composer,music_department,sound_department</td>\n",
              "    </tr>\n",
              "    <tr>\n",
              "      <th>2</th>\n",
              "      <td>nm0062070</td>\n",
              "      <td>Bruce Baum</td>\n",
              "      <td>NaN</td>\n",
              "      <td>NaN</td>\n",
              "      <td>miscellaneous,actor,writer</td>\n",
              "    </tr>\n",
              "    <tr>\n",
              "      <th>3</th>\n",
              "      <td>nm0062195</td>\n",
              "      <td>Axel Baumann</td>\n",
              "      <td>NaN</td>\n",
              "      <td>NaN</td>\n",
              "      <td>camera_department,cinematographer,art_department</td>\n",
              "    </tr>\n",
              "    <tr>\n",
              "      <th>4</th>\n",
              "      <td>nm0062798</td>\n",
              "      <td>Pete Baxter</td>\n",
              "      <td>NaN</td>\n",
              "      <td>NaN</td>\n",
              "      <td>production_designer,art_department,set_decorator</td>\n",
              "    </tr>\n",
              "  </tbody>\n",
              "</table>\n",
              "</div>\n",
              "      <button class=\"colab-df-convert\" onclick=\"convertToInteractive('df-d6c649a7-b44b-4dfe-b8b9-40e7264c5881')\"\n",
              "              title=\"Convert this dataframe to an interactive table.\"\n",
              "              style=\"display:none;\">\n",
              "        \n",
              "  <svg xmlns=\"http://www.w3.org/2000/svg\" height=\"24px\"viewBox=\"0 0 24 24\"\n",
              "       width=\"24px\">\n",
              "    <path d=\"M0 0h24v24H0V0z\" fill=\"none\"/>\n",
              "    <path d=\"M18.56 5.44l.94 2.06.94-2.06 2.06-.94-2.06-.94-.94-2.06-.94 2.06-2.06.94zm-11 1L8.5 8.5l.94-2.06 2.06-.94-2.06-.94L8.5 2.5l-.94 2.06-2.06.94zm10 10l.94 2.06.94-2.06 2.06-.94-2.06-.94-.94-2.06-.94 2.06-2.06.94z\"/><path d=\"M17.41 7.96l-1.37-1.37c-.4-.4-.92-.59-1.43-.59-.52 0-1.04.2-1.43.59L10.3 9.45l-7.72 7.72c-.78.78-.78 2.05 0 2.83L4 21.41c.39.39.9.59 1.41.59.51 0 1.02-.2 1.41-.59l7.78-7.78 2.81-2.81c.8-.78.8-2.07 0-2.86zM5.41 20L4 18.59l7.72-7.72 1.47 1.35L5.41 20z\"/>\n",
              "  </svg>\n",
              "      </button>\n",
              "      \n",
              "  <style>\n",
              "    .colab-df-container {\n",
              "      display:flex;\n",
              "      flex-wrap:wrap;\n",
              "      gap: 12px;\n",
              "    }\n",
              "\n",
              "    .colab-df-convert {\n",
              "      background-color: #E8F0FE;\n",
              "      border: none;\n",
              "      border-radius: 50%;\n",
              "      cursor: pointer;\n",
              "      display: none;\n",
              "      fill: #1967D2;\n",
              "      height: 32px;\n",
              "      padding: 0 0 0 0;\n",
              "      width: 32px;\n",
              "    }\n",
              "\n",
              "    .colab-df-convert:hover {\n",
              "      background-color: #E2EBFA;\n",
              "      box-shadow: 0px 1px 2px rgba(60, 64, 67, 0.3), 0px 1px 3px 1px rgba(60, 64, 67, 0.15);\n",
              "      fill: #174EA6;\n",
              "    }\n",
              "\n",
              "    [theme=dark] .colab-df-convert {\n",
              "      background-color: #3B4455;\n",
              "      fill: #D2E3FC;\n",
              "    }\n",
              "\n",
              "    [theme=dark] .colab-df-convert:hover {\n",
              "      background-color: #434B5C;\n",
              "      box-shadow: 0px 1px 3px 1px rgba(0, 0, 0, 0.15);\n",
              "      filter: drop-shadow(0px 1px 2px rgba(0, 0, 0, 0.3));\n",
              "      fill: #FFFFFF;\n",
              "    }\n",
              "  </style>\n",
              "\n",
              "      <script>\n",
              "        const buttonEl =\n",
              "          document.querySelector('#df-d6c649a7-b44b-4dfe-b8b9-40e7264c5881 button.colab-df-convert');\n",
              "        buttonEl.style.display =\n",
              "          google.colab.kernel.accessAllowed ? 'block' : 'none';\n",
              "\n",
              "        async function convertToInteractive(key) {\n",
              "          const element = document.querySelector('#df-d6c649a7-b44b-4dfe-b8b9-40e7264c5881');\n",
              "          const dataTable =\n",
              "            await google.colab.kernel.invokeFunction('convertToInteractive',\n",
              "                                                     [key], {});\n",
              "          if (!dataTable) return;\n",
              "\n",
              "          const docLinkHtml = 'Like what you see? Visit the ' +\n",
              "            '<a target=\"_blank\" href=https://colab.research.google.com/notebooks/data_table.ipynb>data table notebook</a>'\n",
              "            + ' to learn more about interactive tables.';\n",
              "          element.innerHTML = '';\n",
              "          dataTable['output_type'] = 'display_data';\n",
              "          await google.colab.output.renderOutput(dataTable, element);\n",
              "          const docLink = document.createElement('div');\n",
              "          docLink.innerHTML = docLinkHtml;\n",
              "          element.appendChild(docLink);\n",
              "        }\n",
              "      </script>\n",
              "    </div>\n",
              "  </div>\n",
              "  "
            ]
          },
          "metadata": {},
          "execution_count": 97
        }
      ]
    },
    {
      "cell_type": "code",
      "source": [
        "person.shape"
      ],
      "metadata": {
        "colab": {
          "base_uri": "https://localhost:8080/"
        },
        "id": "FsMNZ4XEZxkL",
        "outputId": "1449c186-817c-447b-c135-7badefd3604b"
      },
      "execution_count": 98,
      "outputs": [
        {
          "output_type": "execute_result",
          "data": {
            "text/plain": [
              "(606648, 5)"
            ]
          },
          "metadata": {},
          "execution_count": 98
        }
      ]
    },
    {
      "cell_type": "code",
      "source": [
        "person.isna().sum()"
      ],
      "metadata": {
        "colab": {
          "base_uri": "https://localhost:8080/"
        },
        "id": "W5yzs3COZbyO",
        "outputId": "a5119a50-3e85-41d4-848e-bc7de30e4dab"
      },
      "execution_count": 99,
      "outputs": [
        {
          "output_type": "execute_result",
          "data": {
            "text/plain": [
              "person_id                  0\n",
              "primary_name               0\n",
              "birth_year            523912\n",
              "death_year            599865\n",
              "primary_profession     51340\n",
              "dtype: int64"
            ]
          },
          "metadata": {},
          "execution_count": 99
        }
      ]
    },
    {
      "cell_type": "markdown",
      "source": [
        "Merge Operations"
      ],
      "metadata": {
        "id": "CDLbgoXFqEm3"
      }
    },
    {
      "cell_type": "code",
      "source": [
        "# Merge movie_ratings with directors\n",
        "director_movie_ratings = pd.merge(movie_ratings, directors)\n",
        "director_movie_ratings .columns"
      ],
      "metadata": {
        "colab": {
          "base_uri": "https://localhost:8080/"
        },
        "id": "bJBe1xptf9ZX",
        "outputId": "27944a87-a44e-4abc-c901-93f95fbcd707"
      },
      "execution_count": 100,
      "outputs": [
        {
          "output_type": "execute_result",
          "data": {
            "text/plain": [
              "Index(['movie_id', 'averagerating', 'numvotes', 'person_id'], dtype='object')"
            ]
          },
          "metadata": {},
          "execution_count": 100
        }
      ]
    },
    {
      "cell_type": "code",
      "source": [
        "director_movie_ratings .head()"
      ],
      "metadata": {
        "colab": {
          "base_uri": "https://localhost:8080/",
          "height": 215
        },
        "id": "YVYuEtFtk3FM",
        "outputId": "37be2652-f4b9-48a8-8fc2-46111c247a38"
      },
      "execution_count": 101,
      "outputs": [
        {
          "output_type": "execute_result",
          "data": {
            "text/plain": [
              "     movie_id  averagerating  numvotes  person_id\n",
              "0  tt10356526            8.3        31  nm8353804\n",
              "1  tt10356526            8.3        31  nm8353804\n",
              "2  tt10384606            8.9       559  nm9932562\n",
              "3  tt10384606            8.9       559  nm9250842\n",
              "4   tt1042974            6.4        20  nm1915232"
            ],
            "text/html": [
              "\n",
              "  <div id=\"df-7267dcad-15c7-48dc-806c-ccb1926a7590\">\n",
              "    <div class=\"colab-df-container\">\n",
              "      <div>\n",
              "<style scoped>\n",
              "    .dataframe tbody tr th:only-of-type {\n",
              "        vertical-align: middle;\n",
              "    }\n",
              "\n",
              "    .dataframe tbody tr th {\n",
              "        vertical-align: top;\n",
              "    }\n",
              "\n",
              "    .dataframe thead th {\n",
              "        text-align: right;\n",
              "    }\n",
              "</style>\n",
              "<table border=\"1\" class=\"dataframe\">\n",
              "  <thead>\n",
              "    <tr style=\"text-align: right;\">\n",
              "      <th></th>\n",
              "      <th>movie_id</th>\n",
              "      <th>averagerating</th>\n",
              "      <th>numvotes</th>\n",
              "      <th>person_id</th>\n",
              "    </tr>\n",
              "  </thead>\n",
              "  <tbody>\n",
              "    <tr>\n",
              "      <th>0</th>\n",
              "      <td>tt10356526</td>\n",
              "      <td>8.3</td>\n",
              "      <td>31</td>\n",
              "      <td>nm8353804</td>\n",
              "    </tr>\n",
              "    <tr>\n",
              "      <th>1</th>\n",
              "      <td>tt10356526</td>\n",
              "      <td>8.3</td>\n",
              "      <td>31</td>\n",
              "      <td>nm8353804</td>\n",
              "    </tr>\n",
              "    <tr>\n",
              "      <th>2</th>\n",
              "      <td>tt10384606</td>\n",
              "      <td>8.9</td>\n",
              "      <td>559</td>\n",
              "      <td>nm9932562</td>\n",
              "    </tr>\n",
              "    <tr>\n",
              "      <th>3</th>\n",
              "      <td>tt10384606</td>\n",
              "      <td>8.9</td>\n",
              "      <td>559</td>\n",
              "      <td>nm9250842</td>\n",
              "    </tr>\n",
              "    <tr>\n",
              "      <th>4</th>\n",
              "      <td>tt1042974</td>\n",
              "      <td>6.4</td>\n",
              "      <td>20</td>\n",
              "      <td>nm1915232</td>\n",
              "    </tr>\n",
              "  </tbody>\n",
              "</table>\n",
              "</div>\n",
              "      <button class=\"colab-df-convert\" onclick=\"convertToInteractive('df-7267dcad-15c7-48dc-806c-ccb1926a7590')\"\n",
              "              title=\"Convert this dataframe to an interactive table.\"\n",
              "              style=\"display:none;\">\n",
              "        \n",
              "  <svg xmlns=\"http://www.w3.org/2000/svg\" height=\"24px\"viewBox=\"0 0 24 24\"\n",
              "       width=\"24px\">\n",
              "    <path d=\"M0 0h24v24H0V0z\" fill=\"none\"/>\n",
              "    <path d=\"M18.56 5.44l.94 2.06.94-2.06 2.06-.94-2.06-.94-.94-2.06-.94 2.06-2.06.94zm-11 1L8.5 8.5l.94-2.06 2.06-.94-2.06-.94L8.5 2.5l-.94 2.06-2.06.94zm10 10l.94 2.06.94-2.06 2.06-.94-2.06-.94-.94-2.06-.94 2.06-2.06.94z\"/><path d=\"M17.41 7.96l-1.37-1.37c-.4-.4-.92-.59-1.43-.59-.52 0-1.04.2-1.43.59L10.3 9.45l-7.72 7.72c-.78.78-.78 2.05 0 2.83L4 21.41c.39.39.9.59 1.41.59.51 0 1.02-.2 1.41-.59l7.78-7.78 2.81-2.81c.8-.78.8-2.07 0-2.86zM5.41 20L4 18.59l7.72-7.72 1.47 1.35L5.41 20z\"/>\n",
              "  </svg>\n",
              "      </button>\n",
              "      \n",
              "  <style>\n",
              "    .colab-df-container {\n",
              "      display:flex;\n",
              "      flex-wrap:wrap;\n",
              "      gap: 12px;\n",
              "    }\n",
              "\n",
              "    .colab-df-convert {\n",
              "      background-color: #E8F0FE;\n",
              "      border: none;\n",
              "      border-radius: 50%;\n",
              "      cursor: pointer;\n",
              "      display: none;\n",
              "      fill: #1967D2;\n",
              "      height: 32px;\n",
              "      padding: 0 0 0 0;\n",
              "      width: 32px;\n",
              "    }\n",
              "\n",
              "    .colab-df-convert:hover {\n",
              "      background-color: #E2EBFA;\n",
              "      box-shadow: 0px 1px 2px rgba(60, 64, 67, 0.3), 0px 1px 3px 1px rgba(60, 64, 67, 0.15);\n",
              "      fill: #174EA6;\n",
              "    }\n",
              "\n",
              "    [theme=dark] .colab-df-convert {\n",
              "      background-color: #3B4455;\n",
              "      fill: #D2E3FC;\n",
              "    }\n",
              "\n",
              "    [theme=dark] .colab-df-convert:hover {\n",
              "      background-color: #434B5C;\n",
              "      box-shadow: 0px 1px 3px 1px rgba(0, 0, 0, 0.15);\n",
              "      filter: drop-shadow(0px 1px 2px rgba(0, 0, 0, 0.3));\n",
              "      fill: #FFFFFF;\n",
              "    }\n",
              "  </style>\n",
              "\n",
              "      <script>\n",
              "        const buttonEl =\n",
              "          document.querySelector('#df-7267dcad-15c7-48dc-806c-ccb1926a7590 button.colab-df-convert');\n",
              "        buttonEl.style.display =\n",
              "          google.colab.kernel.accessAllowed ? 'block' : 'none';\n",
              "\n",
              "        async function convertToInteractive(key) {\n",
              "          const element = document.querySelector('#df-7267dcad-15c7-48dc-806c-ccb1926a7590');\n",
              "          const dataTable =\n",
              "            await google.colab.kernel.invokeFunction('convertToInteractive',\n",
              "                                                     [key], {});\n",
              "          if (!dataTable) return;\n",
              "\n",
              "          const docLinkHtml = 'Like what you see? Visit the ' +\n",
              "            '<a target=\"_blank\" href=https://colab.research.google.com/notebooks/data_table.ipynb>data table notebook</a>'\n",
              "            + ' to learn more about interactive tables.';\n",
              "          element.innerHTML = '';\n",
              "          dataTable['output_type'] = 'display_data';\n",
              "          await google.colab.output.renderOutput(dataTable, element);\n",
              "          const docLink = document.createElement('div');\n",
              "          docLink.innerHTML = docLinkHtml;\n",
              "          element.appendChild(docLink);\n",
              "        }\n",
              "      </script>\n",
              "    </div>\n",
              "  </div>\n",
              "  "
            ]
          },
          "metadata": {},
          "execution_count": 101
        }
      ]
    },
    {
      "cell_type": "code",
      "source": [
        "director_movie_ratings .shape"
      ],
      "metadata": {
        "colab": {
          "base_uri": "https://localhost:8080/"
        },
        "id": "q4A5AeLElKo3",
        "outputId": "85b46422-aaff-4845-da7e-e4e6a503bb91"
      },
      "execution_count": 102,
      "outputs": [
        {
          "output_type": "execute_result",
          "data": {
            "text/plain": [
              "(181389, 4)"
            ]
          },
          "metadata": {},
          "execution_count": 102
        }
      ]
    },
    {
      "cell_type": "code",
      "execution_count": 103,
      "metadata": {
        "id": "Rc5dzQuvIvAa",
        "colab": {
          "base_uri": "https://localhost:8080/",
          "height": 215
        },
        "outputId": "63110c64-897b-46b2-b8d9-132215a65a00"
      },
      "outputs": [
        {
          "output_type": "execute_result",
          "data": {
            "text/plain": [
              "   person_id       primary_name  birth_year  death_year  \\\n",
              "0  nm0061671  Mary Ellen Bauder         NaN         NaN   \n",
              "1  nm0061865       Joseph Bauer         NaN         NaN   \n",
              "2  nm0062070         Bruce Baum         NaN         NaN   \n",
              "3  nm0062195       Axel Baumann         NaN         NaN   \n",
              "4  nm0062798        Pete Baxter         NaN         NaN   \n",
              "\n",
              "                                 primary_profession  \n",
              "0         miscellaneous,production_manager,producer  \n",
              "1        composer,music_department,sound_department  \n",
              "2                        miscellaneous,actor,writer  \n",
              "3  camera_department,cinematographer,art_department  \n",
              "4  production_designer,art_department,set_decorator  "
            ],
            "text/html": [
              "\n",
              "  <div id=\"df-6e2915d2-3899-4056-aa7a-1cfac2791699\">\n",
              "    <div class=\"colab-df-container\">\n",
              "      <div>\n",
              "<style scoped>\n",
              "    .dataframe tbody tr th:only-of-type {\n",
              "        vertical-align: middle;\n",
              "    }\n",
              "\n",
              "    .dataframe tbody tr th {\n",
              "        vertical-align: top;\n",
              "    }\n",
              "\n",
              "    .dataframe thead th {\n",
              "        text-align: right;\n",
              "    }\n",
              "</style>\n",
              "<table border=\"1\" class=\"dataframe\">\n",
              "  <thead>\n",
              "    <tr style=\"text-align: right;\">\n",
              "      <th></th>\n",
              "      <th>person_id</th>\n",
              "      <th>primary_name</th>\n",
              "      <th>birth_year</th>\n",
              "      <th>death_year</th>\n",
              "      <th>primary_profession</th>\n",
              "    </tr>\n",
              "  </thead>\n",
              "  <tbody>\n",
              "    <tr>\n",
              "      <th>0</th>\n",
              "      <td>nm0061671</td>\n",
              "      <td>Mary Ellen Bauder</td>\n",
              "      <td>NaN</td>\n",
              "      <td>NaN</td>\n",
              "      <td>miscellaneous,production_manager,producer</td>\n",
              "    </tr>\n",
              "    <tr>\n",
              "      <th>1</th>\n",
              "      <td>nm0061865</td>\n",
              "      <td>Joseph Bauer</td>\n",
              "      <td>NaN</td>\n",
              "      <td>NaN</td>\n",
              "      <td>composer,music_department,sound_department</td>\n",
              "    </tr>\n",
              "    <tr>\n",
              "      <th>2</th>\n",
              "      <td>nm0062070</td>\n",
              "      <td>Bruce Baum</td>\n",
              "      <td>NaN</td>\n",
              "      <td>NaN</td>\n",
              "      <td>miscellaneous,actor,writer</td>\n",
              "    </tr>\n",
              "    <tr>\n",
              "      <th>3</th>\n",
              "      <td>nm0062195</td>\n",
              "      <td>Axel Baumann</td>\n",
              "      <td>NaN</td>\n",
              "      <td>NaN</td>\n",
              "      <td>camera_department,cinematographer,art_department</td>\n",
              "    </tr>\n",
              "    <tr>\n",
              "      <th>4</th>\n",
              "      <td>nm0062798</td>\n",
              "      <td>Pete Baxter</td>\n",
              "      <td>NaN</td>\n",
              "      <td>NaN</td>\n",
              "      <td>production_designer,art_department,set_decorator</td>\n",
              "    </tr>\n",
              "  </tbody>\n",
              "</table>\n",
              "</div>\n",
              "      <button class=\"colab-df-convert\" onclick=\"convertToInteractive('df-6e2915d2-3899-4056-aa7a-1cfac2791699')\"\n",
              "              title=\"Convert this dataframe to an interactive table.\"\n",
              "              style=\"display:none;\">\n",
              "        \n",
              "  <svg xmlns=\"http://www.w3.org/2000/svg\" height=\"24px\"viewBox=\"0 0 24 24\"\n",
              "       width=\"24px\">\n",
              "    <path d=\"M0 0h24v24H0V0z\" fill=\"none\"/>\n",
              "    <path d=\"M18.56 5.44l.94 2.06.94-2.06 2.06-.94-2.06-.94-.94-2.06-.94 2.06-2.06.94zm-11 1L8.5 8.5l.94-2.06 2.06-.94-2.06-.94L8.5 2.5l-.94 2.06-2.06.94zm10 10l.94 2.06.94-2.06 2.06-.94-2.06-.94-.94-2.06-.94 2.06-2.06.94z\"/><path d=\"M17.41 7.96l-1.37-1.37c-.4-.4-.92-.59-1.43-.59-.52 0-1.04.2-1.43.59L10.3 9.45l-7.72 7.72c-.78.78-.78 2.05 0 2.83L4 21.41c.39.39.9.59 1.41.59.51 0 1.02-.2 1.41-.59l7.78-7.78 2.81-2.81c.8-.78.8-2.07 0-2.86zM5.41 20L4 18.59l7.72-7.72 1.47 1.35L5.41 20z\"/>\n",
              "  </svg>\n",
              "      </button>\n",
              "      \n",
              "  <style>\n",
              "    .colab-df-container {\n",
              "      display:flex;\n",
              "      flex-wrap:wrap;\n",
              "      gap: 12px;\n",
              "    }\n",
              "\n",
              "    .colab-df-convert {\n",
              "      background-color: #E8F0FE;\n",
              "      border: none;\n",
              "      border-radius: 50%;\n",
              "      cursor: pointer;\n",
              "      display: none;\n",
              "      fill: #1967D2;\n",
              "      height: 32px;\n",
              "      padding: 0 0 0 0;\n",
              "      width: 32px;\n",
              "    }\n",
              "\n",
              "    .colab-df-convert:hover {\n",
              "      background-color: #E2EBFA;\n",
              "      box-shadow: 0px 1px 2px rgba(60, 64, 67, 0.3), 0px 1px 3px 1px rgba(60, 64, 67, 0.15);\n",
              "      fill: #174EA6;\n",
              "    }\n",
              "\n",
              "    [theme=dark] .colab-df-convert {\n",
              "      background-color: #3B4455;\n",
              "      fill: #D2E3FC;\n",
              "    }\n",
              "\n",
              "    [theme=dark] .colab-df-convert:hover {\n",
              "      background-color: #434B5C;\n",
              "      box-shadow: 0px 1px 3px 1px rgba(0, 0, 0, 0.15);\n",
              "      filter: drop-shadow(0px 1px 2px rgba(0, 0, 0, 0.3));\n",
              "      fill: #FFFFFF;\n",
              "    }\n",
              "  </style>\n",
              "\n",
              "      <script>\n",
              "        const buttonEl =\n",
              "          document.querySelector('#df-6e2915d2-3899-4056-aa7a-1cfac2791699 button.colab-df-convert');\n",
              "        buttonEl.style.display =\n",
              "          google.colab.kernel.accessAllowed ? 'block' : 'none';\n",
              "\n",
              "        async function convertToInteractive(key) {\n",
              "          const element = document.querySelector('#df-6e2915d2-3899-4056-aa7a-1cfac2791699');\n",
              "          const dataTable =\n",
              "            await google.colab.kernel.invokeFunction('convertToInteractive',\n",
              "                                                     [key], {});\n",
              "          if (!dataTable) return;\n",
              "\n",
              "          const docLinkHtml = 'Like what you see? Visit the ' +\n",
              "            '<a target=\"_blank\" href=https://colab.research.google.com/notebooks/data_table.ipynb>data table notebook</a>'\n",
              "            + ' to learn more about interactive tables.';\n",
              "          element.innerHTML = '';\n",
              "          dataTable['output_type'] = 'display_data';\n",
              "          await google.colab.output.renderOutput(dataTable, element);\n",
              "          const docLink = document.createElement('div');\n",
              "          docLink.innerHTML = docLinkHtml;\n",
              "          element.appendChild(docLink);\n",
              "        }\n",
              "      </script>\n",
              "    </div>\n",
              "  </div>\n",
              "  "
            ]
          },
          "metadata": {},
          "execution_count": 103
        }
      ],
      "source": [
        "persons = pd.read_sql(\"SELECT * FROM persons;\", conn)\n",
        "persons.head()"
      ]
    },
    {
      "cell_type": "code",
      "source": [
        "# Merge director_movie_ratings with person\n",
        "director_person_movie_ratings = pd.merge(director_movie_ratings , persons)\n",
        "director_person_movie_ratings.columns"
      ],
      "metadata": {
        "colab": {
          "base_uri": "https://localhost:8080/"
        },
        "id": "8orVO1KZo0rK",
        "outputId": "73edc2ed-2f68-4c3c-9f92-a654ad14f555"
      },
      "execution_count": 104,
      "outputs": [
        {
          "output_type": "execute_result",
          "data": {
            "text/plain": [
              "Index(['movie_id', 'averagerating', 'numvotes', 'person_id', 'primary_name',\n",
              "       'birth_year', 'death_year', 'primary_profession'],\n",
              "      dtype='object')"
            ]
          },
          "metadata": {},
          "execution_count": 104
        }
      ]
    },
    {
      "cell_type": "code",
      "source": [
        "director_person_movie_ratings.head()"
      ],
      "metadata": {
        "colab": {
          "base_uri": "https://localhost:8080/",
          "height": 215
        },
        "id": "c34I1y5jpbYi",
        "outputId": "7b418045-6710-4c74-da68-8f73c497b04e"
      },
      "execution_count": 105,
      "outputs": [
        {
          "output_type": "execute_result",
          "data": {
            "text/plain": [
              "     movie_id  averagerating  numvotes  person_id          primary_name  \\\n",
              "0  tt10356526            8.3        31  nm8353804         Sukh Sanghera   \n",
              "1  tt10356526            8.3        31  nm8353804         Sukh Sanghera   \n",
              "2  tt10384606            8.9       559  nm9932562  George Llewelyn-John   \n",
              "3  tt10322936            8.5        44  nm9932562  George Llewelyn-John   \n",
              "4  tt10384606            8.9       559  nm9250842      Caolan Robertson   \n",
              "\n",
              "   birth_year  death_year                            primary_profession  \n",
              "0         NaN         NaN  director,cinematographer,location_management  \n",
              "1         NaN         NaN  director,cinematographer,location_management  \n",
              "2         NaN         NaN               director,cinematographer,writer  \n",
              "3         NaN         NaN               director,cinematographer,writer  \n",
              "4         NaN         NaN                      producer,director,writer  "
            ],
            "text/html": [
              "\n",
              "  <div id=\"df-4ed1b22a-6c10-4fbc-816b-c36382887728\">\n",
              "    <div class=\"colab-df-container\">\n",
              "      <div>\n",
              "<style scoped>\n",
              "    .dataframe tbody tr th:only-of-type {\n",
              "        vertical-align: middle;\n",
              "    }\n",
              "\n",
              "    .dataframe tbody tr th {\n",
              "        vertical-align: top;\n",
              "    }\n",
              "\n",
              "    .dataframe thead th {\n",
              "        text-align: right;\n",
              "    }\n",
              "</style>\n",
              "<table border=\"1\" class=\"dataframe\">\n",
              "  <thead>\n",
              "    <tr style=\"text-align: right;\">\n",
              "      <th></th>\n",
              "      <th>movie_id</th>\n",
              "      <th>averagerating</th>\n",
              "      <th>numvotes</th>\n",
              "      <th>person_id</th>\n",
              "      <th>primary_name</th>\n",
              "      <th>birth_year</th>\n",
              "      <th>death_year</th>\n",
              "      <th>primary_profession</th>\n",
              "    </tr>\n",
              "  </thead>\n",
              "  <tbody>\n",
              "    <tr>\n",
              "      <th>0</th>\n",
              "      <td>tt10356526</td>\n",
              "      <td>8.3</td>\n",
              "      <td>31</td>\n",
              "      <td>nm8353804</td>\n",
              "      <td>Sukh Sanghera</td>\n",
              "      <td>NaN</td>\n",
              "      <td>NaN</td>\n",
              "      <td>director,cinematographer,location_management</td>\n",
              "    </tr>\n",
              "    <tr>\n",
              "      <th>1</th>\n",
              "      <td>tt10356526</td>\n",
              "      <td>8.3</td>\n",
              "      <td>31</td>\n",
              "      <td>nm8353804</td>\n",
              "      <td>Sukh Sanghera</td>\n",
              "      <td>NaN</td>\n",
              "      <td>NaN</td>\n",
              "      <td>director,cinematographer,location_management</td>\n",
              "    </tr>\n",
              "    <tr>\n",
              "      <th>2</th>\n",
              "      <td>tt10384606</td>\n",
              "      <td>8.9</td>\n",
              "      <td>559</td>\n",
              "      <td>nm9932562</td>\n",
              "      <td>George Llewelyn-John</td>\n",
              "      <td>NaN</td>\n",
              "      <td>NaN</td>\n",
              "      <td>director,cinematographer,writer</td>\n",
              "    </tr>\n",
              "    <tr>\n",
              "      <th>3</th>\n",
              "      <td>tt10322936</td>\n",
              "      <td>8.5</td>\n",
              "      <td>44</td>\n",
              "      <td>nm9932562</td>\n",
              "      <td>George Llewelyn-John</td>\n",
              "      <td>NaN</td>\n",
              "      <td>NaN</td>\n",
              "      <td>director,cinematographer,writer</td>\n",
              "    </tr>\n",
              "    <tr>\n",
              "      <th>4</th>\n",
              "      <td>tt10384606</td>\n",
              "      <td>8.9</td>\n",
              "      <td>559</td>\n",
              "      <td>nm9250842</td>\n",
              "      <td>Caolan Robertson</td>\n",
              "      <td>NaN</td>\n",
              "      <td>NaN</td>\n",
              "      <td>producer,director,writer</td>\n",
              "    </tr>\n",
              "  </tbody>\n",
              "</table>\n",
              "</div>\n",
              "      <button class=\"colab-df-convert\" onclick=\"convertToInteractive('df-4ed1b22a-6c10-4fbc-816b-c36382887728')\"\n",
              "              title=\"Convert this dataframe to an interactive table.\"\n",
              "              style=\"display:none;\">\n",
              "        \n",
              "  <svg xmlns=\"http://www.w3.org/2000/svg\" height=\"24px\"viewBox=\"0 0 24 24\"\n",
              "       width=\"24px\">\n",
              "    <path d=\"M0 0h24v24H0V0z\" fill=\"none\"/>\n",
              "    <path d=\"M18.56 5.44l.94 2.06.94-2.06 2.06-.94-2.06-.94-.94-2.06-.94 2.06-2.06.94zm-11 1L8.5 8.5l.94-2.06 2.06-.94-2.06-.94L8.5 2.5l-.94 2.06-2.06.94zm10 10l.94 2.06.94-2.06 2.06-.94-2.06-.94-.94-2.06-.94 2.06-2.06.94z\"/><path d=\"M17.41 7.96l-1.37-1.37c-.4-.4-.92-.59-1.43-.59-.52 0-1.04.2-1.43.59L10.3 9.45l-7.72 7.72c-.78.78-.78 2.05 0 2.83L4 21.41c.39.39.9.59 1.41.59.51 0 1.02-.2 1.41-.59l7.78-7.78 2.81-2.81c.8-.78.8-2.07 0-2.86zM5.41 20L4 18.59l7.72-7.72 1.47 1.35L5.41 20z\"/>\n",
              "  </svg>\n",
              "      </button>\n",
              "      \n",
              "  <style>\n",
              "    .colab-df-container {\n",
              "      display:flex;\n",
              "      flex-wrap:wrap;\n",
              "      gap: 12px;\n",
              "    }\n",
              "\n",
              "    .colab-df-convert {\n",
              "      background-color: #E8F0FE;\n",
              "      border: none;\n",
              "      border-radius: 50%;\n",
              "      cursor: pointer;\n",
              "      display: none;\n",
              "      fill: #1967D2;\n",
              "      height: 32px;\n",
              "      padding: 0 0 0 0;\n",
              "      width: 32px;\n",
              "    }\n",
              "\n",
              "    .colab-df-convert:hover {\n",
              "      background-color: #E2EBFA;\n",
              "      box-shadow: 0px 1px 2px rgba(60, 64, 67, 0.3), 0px 1px 3px 1px rgba(60, 64, 67, 0.15);\n",
              "      fill: #174EA6;\n",
              "    }\n",
              "\n",
              "    [theme=dark] .colab-df-convert {\n",
              "      background-color: #3B4455;\n",
              "      fill: #D2E3FC;\n",
              "    }\n",
              "\n",
              "    [theme=dark] .colab-df-convert:hover {\n",
              "      background-color: #434B5C;\n",
              "      box-shadow: 0px 1px 3px 1px rgba(0, 0, 0, 0.15);\n",
              "      filter: drop-shadow(0px 1px 2px rgba(0, 0, 0, 0.3));\n",
              "      fill: #FFFFFF;\n",
              "    }\n",
              "  </style>\n",
              "\n",
              "      <script>\n",
              "        const buttonEl =\n",
              "          document.querySelector('#df-4ed1b22a-6c10-4fbc-816b-c36382887728 button.colab-df-convert');\n",
              "        buttonEl.style.display =\n",
              "          google.colab.kernel.accessAllowed ? 'block' : 'none';\n",
              "\n",
              "        async function convertToInteractive(key) {\n",
              "          const element = document.querySelector('#df-4ed1b22a-6c10-4fbc-816b-c36382887728');\n",
              "          const dataTable =\n",
              "            await google.colab.kernel.invokeFunction('convertToInteractive',\n",
              "                                                     [key], {});\n",
              "          if (!dataTable) return;\n",
              "\n",
              "          const docLinkHtml = 'Like what you see? Visit the ' +\n",
              "            '<a target=\"_blank\" href=https://colab.research.google.com/notebooks/data_table.ipynb>data table notebook</a>'\n",
              "            + ' to learn more about interactive tables.';\n",
              "          element.innerHTML = '';\n",
              "          dataTable['output_type'] = 'display_data';\n",
              "          await google.colab.output.renderOutput(dataTable, element);\n",
              "          const docLink = document.createElement('div');\n",
              "          docLink.innerHTML = docLinkHtml;\n",
              "          element.appendChild(docLink);\n",
              "        }\n",
              "      </script>\n",
              "    </div>\n",
              "  </div>\n",
              "  "
            ]
          },
          "metadata": {},
          "execution_count": 105
        }
      ]
    },
    {
      "cell_type": "code",
      "source": [
        "director_person_movie_ratings.shape"
      ],
      "metadata": {
        "colab": {
          "base_uri": "https://localhost:8080/"
        },
        "id": "ekwJOUVspbRT",
        "outputId": "c0019c70-78d1-41d5-9871-c65152a02b06"
      },
      "execution_count": 106,
      "outputs": [
        {
          "output_type": "execute_result",
          "data": {
            "text/plain": [
              "(181387, 8)"
            ]
          },
          "metadata": {},
          "execution_count": 106
        }
      ]
    },
    {
      "cell_type": "code",
      "source": [
        "#Merge director_person_movie_ratings with movie_basics \n",
        "movie_basic_director_ratings = pd.merge(movie_basics, director_person_movie_ratings)\n",
        "movie_basic_director_ratings.columns"
      ],
      "metadata": {
        "colab": {
          "base_uri": "https://localhost:8080/"
        },
        "id": "Ln2wdLT1WZhz",
        "outputId": "3638424e-6635-4683-97c4-95816bb72e19"
      },
      "execution_count": 107,
      "outputs": [
        {
          "output_type": "execute_result",
          "data": {
            "text/plain": [
              "Index(['movie_id', 'primary_title', 'original_title', 'start_year',\n",
              "       'runtime_minutes', 'genres', 'averagerating', 'numvotes', 'person_id',\n",
              "       'primary_name', 'birth_year', 'death_year', 'primary_profession'],\n",
              "      dtype='object')"
            ]
          },
          "metadata": {},
          "execution_count": 107
        }
      ]
    },
    {
      "cell_type": "code",
      "source": [
        "movie_basic_director_ratings.shape"
      ],
      "metadata": {
        "colab": {
          "base_uri": "https://localhost:8080/"
        },
        "id": "UFrFA4VqWZYN",
        "outputId": "eb68ddff-f3a0-4b06-af52-084a5233a4ad"
      },
      "execution_count": 108,
      "outputs": [
        {
          "output_type": "execute_result",
          "data": {
            "text/plain": [
              "(181387, 13)"
            ]
          },
          "metadata": {},
          "execution_count": 108
        }
      ]
    },
    {
      "cell_type": "code",
      "source": [
        "movie_basic_director_ratings.head()"
      ],
      "metadata": {
        "colab": {
          "base_uri": "https://localhost:8080/",
          "height": 215
        },
        "id": "UsmtLC6yWZPK",
        "outputId": "b146a18a-30fc-44cb-c804-a1cbc447d16b"
      },
      "execution_count": 209,
      "outputs": [
        {
          "output_type": "execute_result",
          "data": {
            "text/plain": [
              "    movie_id                    primary_title   original_title  start_year  \\\n",
              "0  tt0063540                        Sunghursh        Sunghursh        2013   \n",
              "1  tt0063540                        Sunghursh        Sunghursh        2013   \n",
              "2  tt0063540                        Sunghursh        Sunghursh        2013   \n",
              "3  tt0063540                        Sunghursh        Sunghursh        2013   \n",
              "4  tt0066787  One Day Before the Rainy Season  Ashad Ka Ek Din        2019   \n",
              "\n",
              "   runtime_minutes              genres  averagerating  numvotes  person_id  \\\n",
              "0            175.0  Action,Crime,Drama            7.0        77  nm0712540   \n",
              "1            175.0  Action,Crime,Drama            7.0        77  nm0712540   \n",
              "2            175.0  Action,Crime,Drama            7.0        77  nm0712540   \n",
              "3            175.0  Action,Crime,Drama            7.0        77  nm0712540   \n",
              "4            114.0     Biography,Drama            7.2        43  nm0002411   \n",
              "\n",
              "          primary_name  birth_year death_year        primary_profession  \n",
              "0  Harnam Singh Rawail      1921.0        NaN  director,writer,producer  \n",
              "1  Harnam Singh Rawail      1921.0        NaN  director,writer,producer  \n",
              "2  Harnam Singh Rawail      1921.0        NaN  director,writer,producer  \n",
              "3  Harnam Singh Rawail      1921.0        NaN  director,writer,producer  \n",
              "4            Mani Kaul      1944.0        NaN     director,writer,actor  "
            ],
            "text/html": [
              "\n",
              "  <div id=\"df-05bbb776-04c5-49bd-b615-56358a4d0fb8\">\n",
              "    <div class=\"colab-df-container\">\n",
              "      <div>\n",
              "<style scoped>\n",
              "    .dataframe tbody tr th:only-of-type {\n",
              "        vertical-align: middle;\n",
              "    }\n",
              "\n",
              "    .dataframe tbody tr th {\n",
              "        vertical-align: top;\n",
              "    }\n",
              "\n",
              "    .dataframe thead th {\n",
              "        text-align: right;\n",
              "    }\n",
              "</style>\n",
              "<table border=\"1\" class=\"dataframe\">\n",
              "  <thead>\n",
              "    <tr style=\"text-align: right;\">\n",
              "      <th></th>\n",
              "      <th>movie_id</th>\n",
              "      <th>primary_title</th>\n",
              "      <th>original_title</th>\n",
              "      <th>start_year</th>\n",
              "      <th>runtime_minutes</th>\n",
              "      <th>genres</th>\n",
              "      <th>averagerating</th>\n",
              "      <th>numvotes</th>\n",
              "      <th>person_id</th>\n",
              "      <th>primary_name</th>\n",
              "      <th>birth_year</th>\n",
              "      <th>death_year</th>\n",
              "      <th>primary_profession</th>\n",
              "    </tr>\n",
              "  </thead>\n",
              "  <tbody>\n",
              "    <tr>\n",
              "      <th>0</th>\n",
              "      <td>tt0063540</td>\n",
              "      <td>Sunghursh</td>\n",
              "      <td>Sunghursh</td>\n",
              "      <td>2013</td>\n",
              "      <td>175.0</td>\n",
              "      <td>Action,Crime,Drama</td>\n",
              "      <td>7.0</td>\n",
              "      <td>77</td>\n",
              "      <td>nm0712540</td>\n",
              "      <td>Harnam Singh Rawail</td>\n",
              "      <td>1921.0</td>\n",
              "      <td>NaN</td>\n",
              "      <td>director,writer,producer</td>\n",
              "    </tr>\n",
              "    <tr>\n",
              "      <th>1</th>\n",
              "      <td>tt0063540</td>\n",
              "      <td>Sunghursh</td>\n",
              "      <td>Sunghursh</td>\n",
              "      <td>2013</td>\n",
              "      <td>175.0</td>\n",
              "      <td>Action,Crime,Drama</td>\n",
              "      <td>7.0</td>\n",
              "      <td>77</td>\n",
              "      <td>nm0712540</td>\n",
              "      <td>Harnam Singh Rawail</td>\n",
              "      <td>1921.0</td>\n",
              "      <td>NaN</td>\n",
              "      <td>director,writer,producer</td>\n",
              "    </tr>\n",
              "    <tr>\n",
              "      <th>2</th>\n",
              "      <td>tt0063540</td>\n",
              "      <td>Sunghursh</td>\n",
              "      <td>Sunghursh</td>\n",
              "      <td>2013</td>\n",
              "      <td>175.0</td>\n",
              "      <td>Action,Crime,Drama</td>\n",
              "      <td>7.0</td>\n",
              "      <td>77</td>\n",
              "      <td>nm0712540</td>\n",
              "      <td>Harnam Singh Rawail</td>\n",
              "      <td>1921.0</td>\n",
              "      <td>NaN</td>\n",
              "      <td>director,writer,producer</td>\n",
              "    </tr>\n",
              "    <tr>\n",
              "      <th>3</th>\n",
              "      <td>tt0063540</td>\n",
              "      <td>Sunghursh</td>\n",
              "      <td>Sunghursh</td>\n",
              "      <td>2013</td>\n",
              "      <td>175.0</td>\n",
              "      <td>Action,Crime,Drama</td>\n",
              "      <td>7.0</td>\n",
              "      <td>77</td>\n",
              "      <td>nm0712540</td>\n",
              "      <td>Harnam Singh Rawail</td>\n",
              "      <td>1921.0</td>\n",
              "      <td>NaN</td>\n",
              "      <td>director,writer,producer</td>\n",
              "    </tr>\n",
              "    <tr>\n",
              "      <th>4</th>\n",
              "      <td>tt0066787</td>\n",
              "      <td>One Day Before the Rainy Season</td>\n",
              "      <td>Ashad Ka Ek Din</td>\n",
              "      <td>2019</td>\n",
              "      <td>114.0</td>\n",
              "      <td>Biography,Drama</td>\n",
              "      <td>7.2</td>\n",
              "      <td>43</td>\n",
              "      <td>nm0002411</td>\n",
              "      <td>Mani Kaul</td>\n",
              "      <td>1944.0</td>\n",
              "      <td>NaN</td>\n",
              "      <td>director,writer,actor</td>\n",
              "    </tr>\n",
              "  </tbody>\n",
              "</table>\n",
              "</div>\n",
              "      <button class=\"colab-df-convert\" onclick=\"convertToInteractive('df-05bbb776-04c5-49bd-b615-56358a4d0fb8')\"\n",
              "              title=\"Convert this dataframe to an interactive table.\"\n",
              "              style=\"display:none;\">\n",
              "        \n",
              "  <svg xmlns=\"http://www.w3.org/2000/svg\" height=\"24px\"viewBox=\"0 0 24 24\"\n",
              "       width=\"24px\">\n",
              "    <path d=\"M0 0h24v24H0V0z\" fill=\"none\"/>\n",
              "    <path d=\"M18.56 5.44l.94 2.06.94-2.06 2.06-.94-2.06-.94-.94-2.06-.94 2.06-2.06.94zm-11 1L8.5 8.5l.94-2.06 2.06-.94-2.06-.94L8.5 2.5l-.94 2.06-2.06.94zm10 10l.94 2.06.94-2.06 2.06-.94-2.06-.94-.94-2.06-.94 2.06-2.06.94z\"/><path d=\"M17.41 7.96l-1.37-1.37c-.4-.4-.92-.59-1.43-.59-.52 0-1.04.2-1.43.59L10.3 9.45l-7.72 7.72c-.78.78-.78 2.05 0 2.83L4 21.41c.39.39.9.59 1.41.59.51 0 1.02-.2 1.41-.59l7.78-7.78 2.81-2.81c.8-.78.8-2.07 0-2.86zM5.41 20L4 18.59l7.72-7.72 1.47 1.35L5.41 20z\"/>\n",
              "  </svg>\n",
              "      </button>\n",
              "      \n",
              "  <style>\n",
              "    .colab-df-container {\n",
              "      display:flex;\n",
              "      flex-wrap:wrap;\n",
              "      gap: 12px;\n",
              "    }\n",
              "\n",
              "    .colab-df-convert {\n",
              "      background-color: #E8F0FE;\n",
              "      border: none;\n",
              "      border-radius: 50%;\n",
              "      cursor: pointer;\n",
              "      display: none;\n",
              "      fill: #1967D2;\n",
              "      height: 32px;\n",
              "      padding: 0 0 0 0;\n",
              "      width: 32px;\n",
              "    }\n",
              "\n",
              "    .colab-df-convert:hover {\n",
              "      background-color: #E2EBFA;\n",
              "      box-shadow: 0px 1px 2px rgba(60, 64, 67, 0.3), 0px 1px 3px 1px rgba(60, 64, 67, 0.15);\n",
              "      fill: #174EA6;\n",
              "    }\n",
              "\n",
              "    [theme=dark] .colab-df-convert {\n",
              "      background-color: #3B4455;\n",
              "      fill: #D2E3FC;\n",
              "    }\n",
              "\n",
              "    [theme=dark] .colab-df-convert:hover {\n",
              "      background-color: #434B5C;\n",
              "      box-shadow: 0px 1px 3px 1px rgba(0, 0, 0, 0.15);\n",
              "      filter: drop-shadow(0px 1px 2px rgba(0, 0, 0, 0.3));\n",
              "      fill: #FFFFFF;\n",
              "    }\n",
              "  </style>\n",
              "\n",
              "      <script>\n",
              "        const buttonEl =\n",
              "          document.querySelector('#df-05bbb776-04c5-49bd-b615-56358a4d0fb8 button.colab-df-convert');\n",
              "        buttonEl.style.display =\n",
              "          google.colab.kernel.accessAllowed ? 'block' : 'none';\n",
              "\n",
              "        async function convertToInteractive(key) {\n",
              "          const element = document.querySelector('#df-05bbb776-04c5-49bd-b615-56358a4d0fb8');\n",
              "          const dataTable =\n",
              "            await google.colab.kernel.invokeFunction('convertToInteractive',\n",
              "                                                     [key], {});\n",
              "          if (!dataTable) return;\n",
              "\n",
              "          const docLinkHtml = 'Like what you see? Visit the ' +\n",
              "            '<a target=\"_blank\" href=https://colab.research.google.com/notebooks/data_table.ipynb>data table notebook</a>'\n",
              "            + ' to learn more about interactive tables.';\n",
              "          element.innerHTML = '';\n",
              "          dataTable['output_type'] = 'display_data';\n",
              "          await google.colab.output.renderOutput(dataTable, element);\n",
              "          const docLink = document.createElement('div');\n",
              "          docLink.innerHTML = docLinkHtml;\n",
              "          element.appendChild(docLink);\n",
              "        }\n",
              "      </script>\n",
              "    </div>\n",
              "  </div>\n",
              "  "
            ]
          },
          "metadata": {},
          "execution_count": 209
        }
      ]
    },
    {
      "cell_type": "code",
      "source": [
        "movie_basic_director_ratings.isna().sum()"
      ],
      "metadata": {
        "colab": {
          "base_uri": "https://localhost:8080/"
        },
        "id": "2LGxGF-UWZFP",
        "outputId": "c2276c44-372f-45dc-84da-057cccac42f4"
      },
      "execution_count": 127,
      "outputs": [
        {
          "output_type": "execute_result",
          "data": {
            "text/plain": [
              "movie_id                   0\n",
              "primary_title              0\n",
              "original_title             0\n",
              "start_year                 0\n",
              "runtime_minutes        17803\n",
              "genres                  1340\n",
              "averagerating              0\n",
              "numvotes                   0\n",
              "person_id                  0\n",
              "primary_name               0\n",
              "birth_year            126582\n",
              "death_year            180045\n",
              "primary_profession       125\n",
              "dtype: int64"
            ]
          },
          "metadata": {},
          "execution_count": 127
        }
      ]
    },
    {
      "cell_type": "code",
      "source": [
        "death_year_na = movie_basic_director_ratings.death_year == \"NaN\"\n",
        "death_year_na.head()"
      ],
      "metadata": {
        "colab": {
          "base_uri": "https://localhost:8080/"
        },
        "id": "JLYhXRrvWY74",
        "outputId": "837c1f3a-fac5-4575-bfdb-4d636a2b69b7"
      },
      "execution_count": 138,
      "outputs": [
        {
          "output_type": "execute_result",
          "data": {
            "text/plain": [
              "0    True\n",
              "1    True\n",
              "2    True\n",
              "3    True\n",
              "4    True\n",
              "Name: death_year, dtype: bool"
            ]
          },
          "metadata": {},
          "execution_count": 138
        }
      ]
    },
    {
      "cell_type": "code",
      "source": [
        "df_final_movie_basic_director_ratings = movie_basic_director_ratings[death_year_na]\n",
        "df_final_movie_basic_director_ratings.head()"
      ],
      "metadata": {
        "colab": {
          "base_uri": "https://localhost:8080/",
          "height": 215
        },
        "id": "l9GK5mR7WYyY",
        "outputId": "e857ac58-03c6-4cd4-b71b-a2e82d4dea8c"
      },
      "execution_count": 140,
      "outputs": [
        {
          "output_type": "execute_result",
          "data": {
            "text/plain": [
              "    movie_id                    primary_title   original_title  start_year  \\\n",
              "0  tt0063540                        Sunghursh        Sunghursh        2013   \n",
              "1  tt0063540                        Sunghursh        Sunghursh        2013   \n",
              "2  tt0063540                        Sunghursh        Sunghursh        2013   \n",
              "3  tt0063540                        Sunghursh        Sunghursh        2013   \n",
              "4  tt0066787  One Day Before the Rainy Season  Ashad Ka Ek Din        2019   \n",
              "\n",
              "   runtime_minutes              genres  averagerating  numvotes  person_id  \\\n",
              "0            175.0  Action,Crime,Drama            7.0        77  nm0712540   \n",
              "1            175.0  Action,Crime,Drama            7.0        77  nm0712540   \n",
              "2            175.0  Action,Crime,Drama            7.0        77  nm0712540   \n",
              "3            175.0  Action,Crime,Drama            7.0        77  nm0712540   \n",
              "4            114.0     Biography,Drama            7.2        43  nm0002411   \n",
              "\n",
              "          primary_name  birth_year death_year        primary_profession  \n",
              "0  Harnam Singh Rawail      1921.0        NaN  director,writer,producer  \n",
              "1  Harnam Singh Rawail      1921.0        NaN  director,writer,producer  \n",
              "2  Harnam Singh Rawail      1921.0        NaN  director,writer,producer  \n",
              "3  Harnam Singh Rawail      1921.0        NaN  director,writer,producer  \n",
              "4            Mani Kaul      1944.0        NaN     director,writer,actor  "
            ],
            "text/html": [
              "\n",
              "  <div id=\"df-45b586f5-ebac-4a03-9aa3-1113bf17a570\">\n",
              "    <div class=\"colab-df-container\">\n",
              "      <div>\n",
              "<style scoped>\n",
              "    .dataframe tbody tr th:only-of-type {\n",
              "        vertical-align: middle;\n",
              "    }\n",
              "\n",
              "    .dataframe tbody tr th {\n",
              "        vertical-align: top;\n",
              "    }\n",
              "\n",
              "    .dataframe thead th {\n",
              "        text-align: right;\n",
              "    }\n",
              "</style>\n",
              "<table border=\"1\" class=\"dataframe\">\n",
              "  <thead>\n",
              "    <tr style=\"text-align: right;\">\n",
              "      <th></th>\n",
              "      <th>movie_id</th>\n",
              "      <th>primary_title</th>\n",
              "      <th>original_title</th>\n",
              "      <th>start_year</th>\n",
              "      <th>runtime_minutes</th>\n",
              "      <th>genres</th>\n",
              "      <th>averagerating</th>\n",
              "      <th>numvotes</th>\n",
              "      <th>person_id</th>\n",
              "      <th>primary_name</th>\n",
              "      <th>birth_year</th>\n",
              "      <th>death_year</th>\n",
              "      <th>primary_profession</th>\n",
              "    </tr>\n",
              "  </thead>\n",
              "  <tbody>\n",
              "    <tr>\n",
              "      <th>0</th>\n",
              "      <td>tt0063540</td>\n",
              "      <td>Sunghursh</td>\n",
              "      <td>Sunghursh</td>\n",
              "      <td>2013</td>\n",
              "      <td>175.0</td>\n",
              "      <td>Action,Crime,Drama</td>\n",
              "      <td>7.0</td>\n",
              "      <td>77</td>\n",
              "      <td>nm0712540</td>\n",
              "      <td>Harnam Singh Rawail</td>\n",
              "      <td>1921.0</td>\n",
              "      <td>NaN</td>\n",
              "      <td>director,writer,producer</td>\n",
              "    </tr>\n",
              "    <tr>\n",
              "      <th>1</th>\n",
              "      <td>tt0063540</td>\n",
              "      <td>Sunghursh</td>\n",
              "      <td>Sunghursh</td>\n",
              "      <td>2013</td>\n",
              "      <td>175.0</td>\n",
              "      <td>Action,Crime,Drama</td>\n",
              "      <td>7.0</td>\n",
              "      <td>77</td>\n",
              "      <td>nm0712540</td>\n",
              "      <td>Harnam Singh Rawail</td>\n",
              "      <td>1921.0</td>\n",
              "      <td>NaN</td>\n",
              "      <td>director,writer,producer</td>\n",
              "    </tr>\n",
              "    <tr>\n",
              "      <th>2</th>\n",
              "      <td>tt0063540</td>\n",
              "      <td>Sunghursh</td>\n",
              "      <td>Sunghursh</td>\n",
              "      <td>2013</td>\n",
              "      <td>175.0</td>\n",
              "      <td>Action,Crime,Drama</td>\n",
              "      <td>7.0</td>\n",
              "      <td>77</td>\n",
              "      <td>nm0712540</td>\n",
              "      <td>Harnam Singh Rawail</td>\n",
              "      <td>1921.0</td>\n",
              "      <td>NaN</td>\n",
              "      <td>director,writer,producer</td>\n",
              "    </tr>\n",
              "    <tr>\n",
              "      <th>3</th>\n",
              "      <td>tt0063540</td>\n",
              "      <td>Sunghursh</td>\n",
              "      <td>Sunghursh</td>\n",
              "      <td>2013</td>\n",
              "      <td>175.0</td>\n",
              "      <td>Action,Crime,Drama</td>\n",
              "      <td>7.0</td>\n",
              "      <td>77</td>\n",
              "      <td>nm0712540</td>\n",
              "      <td>Harnam Singh Rawail</td>\n",
              "      <td>1921.0</td>\n",
              "      <td>NaN</td>\n",
              "      <td>director,writer,producer</td>\n",
              "    </tr>\n",
              "    <tr>\n",
              "      <th>4</th>\n",
              "      <td>tt0066787</td>\n",
              "      <td>One Day Before the Rainy Season</td>\n",
              "      <td>Ashad Ka Ek Din</td>\n",
              "      <td>2019</td>\n",
              "      <td>114.0</td>\n",
              "      <td>Biography,Drama</td>\n",
              "      <td>7.2</td>\n",
              "      <td>43</td>\n",
              "      <td>nm0002411</td>\n",
              "      <td>Mani Kaul</td>\n",
              "      <td>1944.0</td>\n",
              "      <td>NaN</td>\n",
              "      <td>director,writer,actor</td>\n",
              "    </tr>\n",
              "  </tbody>\n",
              "</table>\n",
              "</div>\n",
              "      <button class=\"colab-df-convert\" onclick=\"convertToInteractive('df-45b586f5-ebac-4a03-9aa3-1113bf17a570')\"\n",
              "              title=\"Convert this dataframe to an interactive table.\"\n",
              "              style=\"display:none;\">\n",
              "        \n",
              "  <svg xmlns=\"http://www.w3.org/2000/svg\" height=\"24px\"viewBox=\"0 0 24 24\"\n",
              "       width=\"24px\">\n",
              "    <path d=\"M0 0h24v24H0V0z\" fill=\"none\"/>\n",
              "    <path d=\"M18.56 5.44l.94 2.06.94-2.06 2.06-.94-2.06-.94-.94-2.06-.94 2.06-2.06.94zm-11 1L8.5 8.5l.94-2.06 2.06-.94-2.06-.94L8.5 2.5l-.94 2.06-2.06.94zm10 10l.94 2.06.94-2.06 2.06-.94-2.06-.94-.94-2.06-.94 2.06-2.06.94z\"/><path d=\"M17.41 7.96l-1.37-1.37c-.4-.4-.92-.59-1.43-.59-.52 0-1.04.2-1.43.59L10.3 9.45l-7.72 7.72c-.78.78-.78 2.05 0 2.83L4 21.41c.39.39.9.59 1.41.59.51 0 1.02-.2 1.41-.59l7.78-7.78 2.81-2.81c.8-.78.8-2.07 0-2.86zM5.41 20L4 18.59l7.72-7.72 1.47 1.35L5.41 20z\"/>\n",
              "  </svg>\n",
              "      </button>\n",
              "      \n",
              "  <style>\n",
              "    .colab-df-container {\n",
              "      display:flex;\n",
              "      flex-wrap:wrap;\n",
              "      gap: 12px;\n",
              "    }\n",
              "\n",
              "    .colab-df-convert {\n",
              "      background-color: #E8F0FE;\n",
              "      border: none;\n",
              "      border-radius: 50%;\n",
              "      cursor: pointer;\n",
              "      display: none;\n",
              "      fill: #1967D2;\n",
              "      height: 32px;\n",
              "      padding: 0 0 0 0;\n",
              "      width: 32px;\n",
              "    }\n",
              "\n",
              "    .colab-df-convert:hover {\n",
              "      background-color: #E2EBFA;\n",
              "      box-shadow: 0px 1px 2px rgba(60, 64, 67, 0.3), 0px 1px 3px 1px rgba(60, 64, 67, 0.15);\n",
              "      fill: #174EA6;\n",
              "    }\n",
              "\n",
              "    [theme=dark] .colab-df-convert {\n",
              "      background-color: #3B4455;\n",
              "      fill: #D2E3FC;\n",
              "    }\n",
              "\n",
              "    [theme=dark] .colab-df-convert:hover {\n",
              "      background-color: #434B5C;\n",
              "      box-shadow: 0px 1px 3px 1px rgba(0, 0, 0, 0.15);\n",
              "      filter: drop-shadow(0px 1px 2px rgba(0, 0, 0, 0.3));\n",
              "      fill: #FFFFFF;\n",
              "    }\n",
              "  </style>\n",
              "\n",
              "      <script>\n",
              "        const buttonEl =\n",
              "          document.querySelector('#df-45b586f5-ebac-4a03-9aa3-1113bf17a570 button.colab-df-convert');\n",
              "        buttonEl.style.display =\n",
              "          google.colab.kernel.accessAllowed ? 'block' : 'none';\n",
              "\n",
              "        async function convertToInteractive(key) {\n",
              "          const element = document.querySelector('#df-45b586f5-ebac-4a03-9aa3-1113bf17a570');\n",
              "          const dataTable =\n",
              "            await google.colab.kernel.invokeFunction('convertToInteractive',\n",
              "                                                     [key], {});\n",
              "          if (!dataTable) return;\n",
              "\n",
              "          const docLinkHtml = 'Like what you see? Visit the ' +\n",
              "            '<a target=\"_blank\" href=https://colab.research.google.com/notebooks/data_table.ipynb>data table notebook</a>'\n",
              "            + ' to learn more about interactive tables.';\n",
              "          element.innerHTML = '';\n",
              "          dataTable['output_type'] = 'display_data';\n",
              "          await google.colab.output.renderOutput(dataTable, element);\n",
              "          const docLink = document.createElement('div');\n",
              "          docLink.innerHTML = docLinkHtml;\n",
              "          element.appendChild(docLink);\n",
              "        }\n",
              "      </script>\n",
              "    </div>\n",
              "  </div>\n",
              "  "
            ]
          },
          "metadata": {},
          "execution_count": 140
        }
      ]
    },
    {
      "cell_type": "code",
      "source": [
        "df_final_movie_basic_director_ratings.death_year.value_counts()"
      ],
      "metadata": {
        "colab": {
          "base_uri": "https://localhost:8080/"
        },
        "id": "x-Yxf3VDWYb-",
        "outputId": "7f20ae4e-a938-4bca-f022-6df52f713925"
      },
      "execution_count": 141,
      "outputs": [
        {
          "output_type": "execute_result",
          "data": {
            "text/plain": [
              "NaN    181387\n",
              "Name: death_year, dtype: int64"
            ]
          },
          "metadata": {},
          "execution_count": 141
        }
      ]
    },
    {
      "cell_type": "code",
      "source": [
        "df_final_movie_basic_director_ratings.describe()"
      ],
      "metadata": {
        "colab": {
          "base_uri": "https://localhost:8080/",
          "height": 279
        },
        "id": "ven__Xj4oQC-",
        "outputId": "668b2edd-6f85-4c06-8852-99ecd64aad86"
      },
      "execution_count": 142,
      "outputs": [
        {
          "output_type": "execute_result",
          "data": {
            "text/plain": [
              "          start_year  runtime_minutes  averagerating      numvotes  \\\n",
              "count  181387.000000    163584.000000  181387.000000  1.813870e+05   \n",
              "mean     2014.309802        97.789484       6.217683  4.955524e+03   \n",
              "std         2.536111       194.434689       1.388026  3.760931e+04   \n",
              "min      2010.000000         3.000000       1.000000  5.000000e+00   \n",
              "25%      2012.000000        84.000000       5.400000  1.900000e+01   \n",
              "50%      2014.000000        94.000000       6.300000  6.600000e+01   \n",
              "75%      2016.000000       107.000000       7.200000  3.110000e+02   \n",
              "max      2019.000000     51420.000000      10.000000  1.841066e+06   \n",
              "\n",
              "         birth_year  \n",
              "count  54805.000000  \n",
              "mean    1969.097856  \n",
              "std       12.499740  \n",
              "min     1870.000000  \n",
              "25%     1962.000000  \n",
              "50%     1971.000000  \n",
              "75%     1978.000000  \n",
              "max     2004.000000  "
            ],
            "text/html": [
              "\n",
              "  <div id=\"df-67b08e33-594e-4a87-b07a-676c9fd7fa41\">\n",
              "    <div class=\"colab-df-container\">\n",
              "      <div>\n",
              "<style scoped>\n",
              "    .dataframe tbody tr th:only-of-type {\n",
              "        vertical-align: middle;\n",
              "    }\n",
              "\n",
              "    .dataframe tbody tr th {\n",
              "        vertical-align: top;\n",
              "    }\n",
              "\n",
              "    .dataframe thead th {\n",
              "        text-align: right;\n",
              "    }\n",
              "</style>\n",
              "<table border=\"1\" class=\"dataframe\">\n",
              "  <thead>\n",
              "    <tr style=\"text-align: right;\">\n",
              "      <th></th>\n",
              "      <th>start_year</th>\n",
              "      <th>runtime_minutes</th>\n",
              "      <th>averagerating</th>\n",
              "      <th>numvotes</th>\n",
              "      <th>birth_year</th>\n",
              "    </tr>\n",
              "  </thead>\n",
              "  <tbody>\n",
              "    <tr>\n",
              "      <th>count</th>\n",
              "      <td>181387.000000</td>\n",
              "      <td>163584.000000</td>\n",
              "      <td>181387.000000</td>\n",
              "      <td>1.813870e+05</td>\n",
              "      <td>54805.000000</td>\n",
              "    </tr>\n",
              "    <tr>\n",
              "      <th>mean</th>\n",
              "      <td>2014.309802</td>\n",
              "      <td>97.789484</td>\n",
              "      <td>6.217683</td>\n",
              "      <td>4.955524e+03</td>\n",
              "      <td>1969.097856</td>\n",
              "    </tr>\n",
              "    <tr>\n",
              "      <th>std</th>\n",
              "      <td>2.536111</td>\n",
              "      <td>194.434689</td>\n",
              "      <td>1.388026</td>\n",
              "      <td>3.760931e+04</td>\n",
              "      <td>12.499740</td>\n",
              "    </tr>\n",
              "    <tr>\n",
              "      <th>min</th>\n",
              "      <td>2010.000000</td>\n",
              "      <td>3.000000</td>\n",
              "      <td>1.000000</td>\n",
              "      <td>5.000000e+00</td>\n",
              "      <td>1870.000000</td>\n",
              "    </tr>\n",
              "    <tr>\n",
              "      <th>25%</th>\n",
              "      <td>2012.000000</td>\n",
              "      <td>84.000000</td>\n",
              "      <td>5.400000</td>\n",
              "      <td>1.900000e+01</td>\n",
              "      <td>1962.000000</td>\n",
              "    </tr>\n",
              "    <tr>\n",
              "      <th>50%</th>\n",
              "      <td>2014.000000</td>\n",
              "      <td>94.000000</td>\n",
              "      <td>6.300000</td>\n",
              "      <td>6.600000e+01</td>\n",
              "      <td>1971.000000</td>\n",
              "    </tr>\n",
              "    <tr>\n",
              "      <th>75%</th>\n",
              "      <td>2016.000000</td>\n",
              "      <td>107.000000</td>\n",
              "      <td>7.200000</td>\n",
              "      <td>3.110000e+02</td>\n",
              "      <td>1978.000000</td>\n",
              "    </tr>\n",
              "    <tr>\n",
              "      <th>max</th>\n",
              "      <td>2019.000000</td>\n",
              "      <td>51420.000000</td>\n",
              "      <td>10.000000</td>\n",
              "      <td>1.841066e+06</td>\n",
              "      <td>2004.000000</td>\n",
              "    </tr>\n",
              "  </tbody>\n",
              "</table>\n",
              "</div>\n",
              "      <button class=\"colab-df-convert\" onclick=\"convertToInteractive('df-67b08e33-594e-4a87-b07a-676c9fd7fa41')\"\n",
              "              title=\"Convert this dataframe to an interactive table.\"\n",
              "              style=\"display:none;\">\n",
              "        \n",
              "  <svg xmlns=\"http://www.w3.org/2000/svg\" height=\"24px\"viewBox=\"0 0 24 24\"\n",
              "       width=\"24px\">\n",
              "    <path d=\"M0 0h24v24H0V0z\" fill=\"none\"/>\n",
              "    <path d=\"M18.56 5.44l.94 2.06.94-2.06 2.06-.94-2.06-.94-.94-2.06-.94 2.06-2.06.94zm-11 1L8.5 8.5l.94-2.06 2.06-.94-2.06-.94L8.5 2.5l-.94 2.06-2.06.94zm10 10l.94 2.06.94-2.06 2.06-.94-2.06-.94-.94-2.06-.94 2.06-2.06.94z\"/><path d=\"M17.41 7.96l-1.37-1.37c-.4-.4-.92-.59-1.43-.59-.52 0-1.04.2-1.43.59L10.3 9.45l-7.72 7.72c-.78.78-.78 2.05 0 2.83L4 21.41c.39.39.9.59 1.41.59.51 0 1.02-.2 1.41-.59l7.78-7.78 2.81-2.81c.8-.78.8-2.07 0-2.86zM5.41 20L4 18.59l7.72-7.72 1.47 1.35L5.41 20z\"/>\n",
              "  </svg>\n",
              "      </button>\n",
              "      \n",
              "  <style>\n",
              "    .colab-df-container {\n",
              "      display:flex;\n",
              "      flex-wrap:wrap;\n",
              "      gap: 12px;\n",
              "    }\n",
              "\n",
              "    .colab-df-convert {\n",
              "      background-color: #E8F0FE;\n",
              "      border: none;\n",
              "      border-radius: 50%;\n",
              "      cursor: pointer;\n",
              "      display: none;\n",
              "      fill: #1967D2;\n",
              "      height: 32px;\n",
              "      padding: 0 0 0 0;\n",
              "      width: 32px;\n",
              "    }\n",
              "\n",
              "    .colab-df-convert:hover {\n",
              "      background-color: #E2EBFA;\n",
              "      box-shadow: 0px 1px 2px rgba(60, 64, 67, 0.3), 0px 1px 3px 1px rgba(60, 64, 67, 0.15);\n",
              "      fill: #174EA6;\n",
              "    }\n",
              "\n",
              "    [theme=dark] .colab-df-convert {\n",
              "      background-color: #3B4455;\n",
              "      fill: #D2E3FC;\n",
              "    }\n",
              "\n",
              "    [theme=dark] .colab-df-convert:hover {\n",
              "      background-color: #434B5C;\n",
              "      box-shadow: 0px 1px 3px 1px rgba(0, 0, 0, 0.15);\n",
              "      filter: drop-shadow(0px 1px 2px rgba(0, 0, 0, 0.3));\n",
              "      fill: #FFFFFF;\n",
              "    }\n",
              "  </style>\n",
              "\n",
              "      <script>\n",
              "        const buttonEl =\n",
              "          document.querySelector('#df-67b08e33-594e-4a87-b07a-676c9fd7fa41 button.colab-df-convert');\n",
              "        buttonEl.style.display =\n",
              "          google.colab.kernel.accessAllowed ? 'block' : 'none';\n",
              "\n",
              "        async function convertToInteractive(key) {\n",
              "          const element = document.querySelector('#df-67b08e33-594e-4a87-b07a-676c9fd7fa41');\n",
              "          const dataTable =\n",
              "            await google.colab.kernel.invokeFunction('convertToInteractive',\n",
              "                                                     [key], {});\n",
              "          if (!dataTable) return;\n",
              "\n",
              "          const docLinkHtml = 'Like what you see? Visit the ' +\n",
              "            '<a target=\"_blank\" href=https://colab.research.google.com/notebooks/data_table.ipynb>data table notebook</a>'\n",
              "            + ' to learn more about interactive tables.';\n",
              "          element.innerHTML = '';\n",
              "          dataTable['output_type'] = 'display_data';\n",
              "          await google.colab.output.renderOutput(dataTable, element);\n",
              "          const docLink = document.createElement('div');\n",
              "          docLink.innerHTML = docLinkHtml;\n",
              "          element.appendChild(docLink);\n",
              "        }\n",
              "      </script>\n",
              "    </div>\n",
              "  </div>\n",
              "  "
            ]
          },
          "metadata": {},
          "execution_count": 142
        }
      ]
    },
    {
      "cell_type": "markdown",
      "source": [
        "Analysis"
      ],
      "metadata": {
        "id": "hJEvs0VCqw-n"
      }
    },
    {
      "cell_type": "code",
      "source": [
        "# select needed columns\n",
        "df_director_ratings = df_final_movie_basic_director_ratings[['primary_name','numvotes','averagerating','start_year']]\n",
        "df_director_ratings.head()"
      ],
      "metadata": {
        "colab": {
          "base_uri": "https://localhost:8080/",
          "height": 215
        },
        "id": "0yzs8T8BpbKI",
        "outputId": "b4a733d6-b78f-4345-98fa-7471dd105bb4"
      },
      "execution_count": 143,
      "outputs": [
        {
          "output_type": "execute_result",
          "data": {
            "text/plain": [
              "          primary_name  numvotes  averagerating  start_year\n",
              "0  Harnam Singh Rawail        77            7.0        2013\n",
              "1  Harnam Singh Rawail        77            7.0        2013\n",
              "2  Harnam Singh Rawail        77            7.0        2013\n",
              "3  Harnam Singh Rawail        77            7.0        2013\n",
              "4            Mani Kaul        43            7.2        2019"
            ],
            "text/html": [
              "\n",
              "  <div id=\"df-a819a334-ec49-4567-b3b1-b8746e11224a\">\n",
              "    <div class=\"colab-df-container\">\n",
              "      <div>\n",
              "<style scoped>\n",
              "    .dataframe tbody tr th:only-of-type {\n",
              "        vertical-align: middle;\n",
              "    }\n",
              "\n",
              "    .dataframe tbody tr th {\n",
              "        vertical-align: top;\n",
              "    }\n",
              "\n",
              "    .dataframe thead th {\n",
              "        text-align: right;\n",
              "    }\n",
              "</style>\n",
              "<table border=\"1\" class=\"dataframe\">\n",
              "  <thead>\n",
              "    <tr style=\"text-align: right;\">\n",
              "      <th></th>\n",
              "      <th>primary_name</th>\n",
              "      <th>numvotes</th>\n",
              "      <th>averagerating</th>\n",
              "      <th>start_year</th>\n",
              "    </tr>\n",
              "  </thead>\n",
              "  <tbody>\n",
              "    <tr>\n",
              "      <th>0</th>\n",
              "      <td>Harnam Singh Rawail</td>\n",
              "      <td>77</td>\n",
              "      <td>7.0</td>\n",
              "      <td>2013</td>\n",
              "    </tr>\n",
              "    <tr>\n",
              "      <th>1</th>\n",
              "      <td>Harnam Singh Rawail</td>\n",
              "      <td>77</td>\n",
              "      <td>7.0</td>\n",
              "      <td>2013</td>\n",
              "    </tr>\n",
              "    <tr>\n",
              "      <th>2</th>\n",
              "      <td>Harnam Singh Rawail</td>\n",
              "      <td>77</td>\n",
              "      <td>7.0</td>\n",
              "      <td>2013</td>\n",
              "    </tr>\n",
              "    <tr>\n",
              "      <th>3</th>\n",
              "      <td>Harnam Singh Rawail</td>\n",
              "      <td>77</td>\n",
              "      <td>7.0</td>\n",
              "      <td>2013</td>\n",
              "    </tr>\n",
              "    <tr>\n",
              "      <th>4</th>\n",
              "      <td>Mani Kaul</td>\n",
              "      <td>43</td>\n",
              "      <td>7.2</td>\n",
              "      <td>2019</td>\n",
              "    </tr>\n",
              "  </tbody>\n",
              "</table>\n",
              "</div>\n",
              "      <button class=\"colab-df-convert\" onclick=\"convertToInteractive('df-a819a334-ec49-4567-b3b1-b8746e11224a')\"\n",
              "              title=\"Convert this dataframe to an interactive table.\"\n",
              "              style=\"display:none;\">\n",
              "        \n",
              "  <svg xmlns=\"http://www.w3.org/2000/svg\" height=\"24px\"viewBox=\"0 0 24 24\"\n",
              "       width=\"24px\">\n",
              "    <path d=\"M0 0h24v24H0V0z\" fill=\"none\"/>\n",
              "    <path d=\"M18.56 5.44l.94 2.06.94-2.06 2.06-.94-2.06-.94-.94-2.06-.94 2.06-2.06.94zm-11 1L8.5 8.5l.94-2.06 2.06-.94-2.06-.94L8.5 2.5l-.94 2.06-2.06.94zm10 10l.94 2.06.94-2.06 2.06-.94-2.06-.94-.94-2.06-.94 2.06-2.06.94z\"/><path d=\"M17.41 7.96l-1.37-1.37c-.4-.4-.92-.59-1.43-.59-.52 0-1.04.2-1.43.59L10.3 9.45l-7.72 7.72c-.78.78-.78 2.05 0 2.83L4 21.41c.39.39.9.59 1.41.59.51 0 1.02-.2 1.41-.59l7.78-7.78 2.81-2.81c.8-.78.8-2.07 0-2.86zM5.41 20L4 18.59l7.72-7.72 1.47 1.35L5.41 20z\"/>\n",
              "  </svg>\n",
              "      </button>\n",
              "      \n",
              "  <style>\n",
              "    .colab-df-container {\n",
              "      display:flex;\n",
              "      flex-wrap:wrap;\n",
              "      gap: 12px;\n",
              "    }\n",
              "\n",
              "    .colab-df-convert {\n",
              "      background-color: #E8F0FE;\n",
              "      border: none;\n",
              "      border-radius: 50%;\n",
              "      cursor: pointer;\n",
              "      display: none;\n",
              "      fill: #1967D2;\n",
              "      height: 32px;\n",
              "      padding: 0 0 0 0;\n",
              "      width: 32px;\n",
              "    }\n",
              "\n",
              "    .colab-df-convert:hover {\n",
              "      background-color: #E2EBFA;\n",
              "      box-shadow: 0px 1px 2px rgba(60, 64, 67, 0.3), 0px 1px 3px 1px rgba(60, 64, 67, 0.15);\n",
              "      fill: #174EA6;\n",
              "    }\n",
              "\n",
              "    [theme=dark] .colab-df-convert {\n",
              "      background-color: #3B4455;\n",
              "      fill: #D2E3FC;\n",
              "    }\n",
              "\n",
              "    [theme=dark] .colab-df-convert:hover {\n",
              "      background-color: #434B5C;\n",
              "      box-shadow: 0px 1px 3px 1px rgba(0, 0, 0, 0.15);\n",
              "      filter: drop-shadow(0px 1px 2px rgba(0, 0, 0, 0.3));\n",
              "      fill: #FFFFFF;\n",
              "    }\n",
              "  </style>\n",
              "\n",
              "      <script>\n",
              "        const buttonEl =\n",
              "          document.querySelector('#df-a819a334-ec49-4567-b3b1-b8746e11224a button.colab-df-convert');\n",
              "        buttonEl.style.display =\n",
              "          google.colab.kernel.accessAllowed ? 'block' : 'none';\n",
              "\n",
              "        async function convertToInteractive(key) {\n",
              "          const element = document.querySelector('#df-a819a334-ec49-4567-b3b1-b8746e11224a');\n",
              "          const dataTable =\n",
              "            await google.colab.kernel.invokeFunction('convertToInteractive',\n",
              "                                                     [key], {});\n",
              "          if (!dataTable) return;\n",
              "\n",
              "          const docLinkHtml = 'Like what you see? Visit the ' +\n",
              "            '<a target=\"_blank\" href=https://colab.research.google.com/notebooks/data_table.ipynb>data table notebook</a>'\n",
              "            + ' to learn more about interactive tables.';\n",
              "          element.innerHTML = '';\n",
              "          dataTable['output_type'] = 'display_data';\n",
              "          await google.colab.output.renderOutput(dataTable, element);\n",
              "          const docLink = document.createElement('div');\n",
              "          docLink.innerHTML = docLinkHtml;\n",
              "          element.appendChild(docLink);\n",
              "        }\n",
              "      </script>\n",
              "    </div>\n",
              "  </div>\n",
              "  "
            ]
          },
          "metadata": {},
          "execution_count": 143
        }
      ]
    },
    {
      "cell_type": "markdown",
      "source": [
        "###Data Cleaning and Pre-processing\n",
        "*  get shape\n",
        "*  describe\n",
        "*  get skewness\n",
        "*   get info\n",
        "*   find and treat missing values\n",
        "*  plot\n",
        "*   find and treat invalid chracaters\n",
        "*   Get categorical breakdown\n",
        "\n",
        "\n",
        "\n",
        "\n",
        "\n"
      ],
      "metadata": {
        "id": "OTCOxnkDrmkl"
      }
    },
    {
      "cell_type": "code",
      "source": [
        "df_director_ratings.shape"
      ],
      "metadata": {
        "id": "VgBhetVxv1R5"
      },
      "execution_count": null,
      "outputs": []
    },
    {
      "cell_type": "code",
      "source": [
        "df_director_ratings.info()"
      ],
      "metadata": {
        "colab": {
          "base_uri": "https://localhost:8080/"
        },
        "id": "yDe84k4NpbEQ",
        "outputId": "12c3f829-7efe-47a6-fe81-3ddb87ea98e9"
      },
      "execution_count": 145,
      "outputs": [
        {
          "output_type": "stream",
          "name": "stdout",
          "text": [
            "<class 'pandas.core.frame.DataFrame'>\n",
            "Int64Index: 181387 entries, 0 to 181386\n",
            "Data columns (total 4 columns):\n",
            " #   Column         Non-Null Count   Dtype  \n",
            "---  ------         --------------   -----  \n",
            " 0   primary_name   181387 non-null  object \n",
            " 1   numvotes       181387 non-null  int64  \n",
            " 2   averagerating  181387 non-null  float64\n",
            " 3   start_year     181387 non-null  int64  \n",
            "dtypes: float64(1), int64(2), object(1)\n",
            "memory usage: 6.9+ MB\n"
          ]
        }
      ]
    },
    {
      "cell_type": "code",
      "source": [
        "df_director_ratings.isna().sum()"
      ],
      "metadata": {
        "colab": {
          "base_uri": "https://localhost:8080/"
        },
        "id": "kRvRGl8ypa91",
        "outputId": "e27cf922-906c-424c-c9d9-4f91c9807ea5"
      },
      "execution_count": 146,
      "outputs": [
        {
          "output_type": "execute_result",
          "data": {
            "text/plain": [
              "primary_name     0\n",
              "numvotes         0\n",
              "averagerating    0\n",
              "start_year       0\n",
              "dtype: int64"
            ]
          },
          "metadata": {},
          "execution_count": 146
        }
      ]
    },
    {
      "cell_type": "code",
      "source": [
        "df_director_ratings.primary_name.value_counts()"
      ],
      "metadata": {
        "colab": {
          "base_uri": "https://localhost:8080/"
        },
        "id": "_fAhx1tFwkAK",
        "outputId": "be5e12cc-ca76-4933-e48a-12ae9abede36"
      },
      "execution_count": 147,
      "outputs": [
        {
          "output_type": "execute_result",
          "data": {
            "text/plain": [
              "Tony Newton             217\n",
              "Jason Impey             180\n",
              "Shane Ryan              177\n",
              "Ruben Rodriguez         150\n",
              "Martin Sonntag          135\n",
              "                       ... \n",
              "Rajesh Fernandes          1\n",
              "Maximilian Erlenwein      1\n",
              "Hakan Aksu                1\n",
              "Fred Burns                1\n",
              "Joost van der Wiel        1\n",
              "Name: primary_name, Length: 56742, dtype: int64"
            ]
          },
          "metadata": {},
          "execution_count": 147
        }
      ]
    },
    {
      "cell_type": "code",
      "source": [
        "#plt.figure(figsize=[15,8])\n",
        "#plt.hist(df_director_ratings['averagerating'], bins=200, color='#03396c')\n",
        "#plt.show()\n",
        "df_director_ratings['averagerating'].plot(kind='hist', figsize=[12,6], color = ['#58668b'], title=\"Average Ratings\")\n",
        "plt.ylabel(\"Frequency\")"
      ],
      "metadata": {
        "colab": {
          "base_uri": "https://localhost:8080/",
          "height": 436
        },
        "id": "Q4XMLARZxhGC",
        "outputId": "e52bc8e0-3409-4add-da33-cfbcb6ecf47c"
      },
      "execution_count": 148,
      "outputs": [
        {
          "output_type": "execute_result",
          "data": {
            "text/plain": [
              "Text(0, 0.5, 'Frequency')"
            ]
          },
          "metadata": {},
          "execution_count": 148
        },
        {
          "output_type": "display_data",
          "data": {
            "text/plain": [
              "<Figure size 864x432 with 1 Axes>"
            ],
            "image/png": "[encoded data removed]"
          },
          "metadata": {}
        }
      ]
    },
    {
      "cell_type": "code",
      "source": [
        "df_director_ratings['numvotes'].max()"
      ],
      "metadata": {
        "colab": {
          "base_uri": "https://localhost:8080/"
        },
        "id": "CV9V367nLSoT",
        "outputId": "172691ad-16af-48fd-ee57-60352dd218b4"
      },
      "execution_count": 149,
      "outputs": [
        {
          "output_type": "execute_result",
          "data": {
            "text/plain": [
              "1841066"
            ]
          },
          "metadata": {},
          "execution_count": 149
        }
      ]
    },
    {
      "cell_type": "code",
      "source": [
        "df_director_ratings['numvotes'].min()"
      ],
      "metadata": {
        "colab": {
          "base_uri": "https://localhost:8080/"
        },
        "id": "05P9w71zLe6H",
        "outputId": "a2ff94cb-cc64-478f-f988-bae28a897164"
      },
      "execution_count": 150,
      "outputs": [
        {
          "output_type": "execute_result",
          "data": {
            "text/plain": [
              "5"
            ]
          },
          "metadata": {},
          "execution_count": 150
        }
      ]
    },
    {
      "cell_type": "code",
      "source": [
        "df_director_ratings.describe()"
      ],
      "metadata": {
        "colab": {
          "base_uri": "https://localhost:8080/",
          "height": 279
        },
        "id": "QyA4ZU5hNl6H",
        "outputId": "00bab091-cb6e-4ce2-9484-b333628746b7"
      },
      "execution_count": 151,
      "outputs": [
        {
          "output_type": "execute_result",
          "data": {
            "text/plain": [
              "           numvotes  averagerating     start_year\n",
              "count  1.813870e+05  181387.000000  181387.000000\n",
              "mean   4.955524e+03       6.217683    2014.309802\n",
              "std    3.760931e+04       1.388026       2.536111\n",
              "min    5.000000e+00       1.000000    2010.000000\n",
              "25%    1.900000e+01       5.400000    2012.000000\n",
              "50%    6.600000e+01       6.300000    2014.000000\n",
              "75%    3.110000e+02       7.200000    2016.000000\n",
              "max    1.841066e+06      10.000000    2019.000000"
            ],
            "text/html": [
              "\n",
              "  <div id=\"df-58f22e8d-3d27-472d-a637-683f415f68ca\">\n",
              "    <div class=\"colab-df-container\">\n",
              "      <div>\n",
              "<style scoped>\n",
              "    .dataframe tbody tr th:only-of-type {\n",
              "        vertical-align: middle;\n",
              "    }\n",
              "\n",
              "    .dataframe tbody tr th {\n",
              "        vertical-align: top;\n",
              "    }\n",
              "\n",
              "    .dataframe thead th {\n",
              "        text-align: right;\n",
              "    }\n",
              "</style>\n",
              "<table border=\"1\" class=\"dataframe\">\n",
              "  <thead>\n",
              "    <tr style=\"text-align: right;\">\n",
              "      <th></th>\n",
              "      <th>numvotes</th>\n",
              "      <th>averagerating</th>\n",
              "      <th>start_year</th>\n",
              "    </tr>\n",
              "  </thead>\n",
              "  <tbody>\n",
              "    <tr>\n",
              "      <th>count</th>\n",
              "      <td>1.813870e+05</td>\n",
              "      <td>181387.000000</td>\n",
              "      <td>181387.000000</td>\n",
              "    </tr>\n",
              "    <tr>\n",
              "      <th>mean</th>\n",
              "      <td>4.955524e+03</td>\n",
              "      <td>6.217683</td>\n",
              "      <td>2014.309802</td>\n",
              "    </tr>\n",
              "    <tr>\n",
              "      <th>std</th>\n",
              "      <td>3.760931e+04</td>\n",
              "      <td>1.388026</td>\n",
              "      <td>2.536111</td>\n",
              "    </tr>\n",
              "    <tr>\n",
              "      <th>min</th>\n",
              "      <td>5.000000e+00</td>\n",
              "      <td>1.000000</td>\n",
              "      <td>2010.000000</td>\n",
              "    </tr>\n",
              "    <tr>\n",
              "      <th>25%</th>\n",
              "      <td>1.900000e+01</td>\n",
              "      <td>5.400000</td>\n",
              "      <td>2012.000000</td>\n",
              "    </tr>\n",
              "    <tr>\n",
              "      <th>50%</th>\n",
              "      <td>6.600000e+01</td>\n",
              "      <td>6.300000</td>\n",
              "      <td>2014.000000</td>\n",
              "    </tr>\n",
              "    <tr>\n",
              "      <th>75%</th>\n",
              "      <td>3.110000e+02</td>\n",
              "      <td>7.200000</td>\n",
              "      <td>2016.000000</td>\n",
              "    </tr>\n",
              "    <tr>\n",
              "      <th>max</th>\n",
              "      <td>1.841066e+06</td>\n",
              "      <td>10.000000</td>\n",
              "      <td>2019.000000</td>\n",
              "    </tr>\n",
              "  </tbody>\n",
              "</table>\n",
              "</div>\n",
              "      <button class=\"colab-df-convert\" onclick=\"convertToInteractive('df-58f22e8d-3d27-472d-a637-683f415f68ca')\"\n",
              "              title=\"Convert this dataframe to an interactive table.\"\n",
              "              style=\"display:none;\">\n",
              "        \n",
              "  <svg xmlns=\"http://www.w3.org/2000/svg\" height=\"24px\"viewBox=\"0 0 24 24\"\n",
              "       width=\"24px\">\n",
              "    <path d=\"M0 0h24v24H0V0z\" fill=\"none\"/>\n",
              "    <path d=\"M18.56 5.44l.94 2.06.94-2.06 2.06-.94-2.06-.94-.94-2.06-.94 2.06-2.06.94zm-11 1L8.5 8.5l.94-2.06 2.06-.94-2.06-.94L8.5 2.5l-.94 2.06-2.06.94zm10 10l.94 2.06.94-2.06 2.06-.94-2.06-.94-.94-2.06-.94 2.06-2.06.94z\"/><path d=\"M17.41 7.96l-1.37-1.37c-.4-.4-.92-.59-1.43-.59-.52 0-1.04.2-1.43.59L10.3 9.45l-7.72 7.72c-.78.78-.78 2.05 0 2.83L4 21.41c.39.39.9.59 1.41.59.51 0 1.02-.2 1.41-.59l7.78-7.78 2.81-2.81c.8-.78.8-2.07 0-2.86zM5.41 20L4 18.59l7.72-7.72 1.47 1.35L5.41 20z\"/>\n",
              "  </svg>\n",
              "      </button>\n",
              "      \n",
              "  <style>\n",
              "    .colab-df-container {\n",
              "      display:flex;\n",
              "      flex-wrap:wrap;\n",
              "      gap: 12px;\n",
              "    }\n",
              "\n",
              "    .colab-df-convert {\n",
              "      background-color: #E8F0FE;\n",
              "      border: none;\n",
              "      border-radius: 50%;\n",
              "      cursor: pointer;\n",
              "      display: none;\n",
              "      fill: #1967D2;\n",
              "      height: 32px;\n",
              "      padding: 0 0 0 0;\n",
              "      width: 32px;\n",
              "    }\n",
              "\n",
              "    .colab-df-convert:hover {\n",
              "      background-color: #E2EBFA;\n",
              "      box-shadow: 0px 1px 2px rgba(60, 64, 67, 0.3), 0px 1px 3px 1px rgba(60, 64, 67, 0.15);\n",
              "      fill: #174EA6;\n",
              "    }\n",
              "\n",
              "    [theme=dark] .colab-df-convert {\n",
              "      background-color: #3B4455;\n",
              "      fill: #D2E3FC;\n",
              "    }\n",
              "\n",
              "    [theme=dark] .colab-df-convert:hover {\n",
              "      background-color: #434B5C;\n",
              "      box-shadow: 0px 1px 3px 1px rgba(0, 0, 0, 0.15);\n",
              "      filter: drop-shadow(0px 1px 2px rgba(0, 0, 0, 0.3));\n",
              "      fill: #FFFFFF;\n",
              "    }\n",
              "  </style>\n",
              "\n",
              "      <script>\n",
              "        const buttonEl =\n",
              "          document.querySelector('#df-58f22e8d-3d27-472d-a637-683f415f68ca button.colab-df-convert');\n",
              "        buttonEl.style.display =\n",
              "          google.colab.kernel.accessAllowed ? 'block' : 'none';\n",
              "\n",
              "        async function convertToInteractive(key) {\n",
              "          const element = document.querySelector('#df-58f22e8d-3d27-472d-a637-683f415f68ca');\n",
              "          const dataTable =\n",
              "            await google.colab.kernel.invokeFunction('convertToInteractive',\n",
              "                                                     [key], {});\n",
              "          if (!dataTable) return;\n",
              "\n",
              "          const docLinkHtml = 'Like what you see? Visit the ' +\n",
              "            '<a target=\"_blank\" href=https://colab.research.google.com/notebooks/data_table.ipynb>data table notebook</a>'\n",
              "            + ' to learn more about interactive tables.';\n",
              "          element.innerHTML = '';\n",
              "          dataTable['output_type'] = 'display_data';\n",
              "          await google.colab.output.renderOutput(dataTable, element);\n",
              "          const docLink = document.createElement('div');\n",
              "          docLink.innerHTML = docLinkHtml;\n",
              "          element.appendChild(docLink);\n",
              "        }\n",
              "      </script>\n",
              "    </div>\n",
              "  </div>\n",
              "  "
            ]
          },
          "metadata": {},
          "execution_count": 151
        }
      ]
    },
    {
      "cell_type": "code",
      "source": [
        "df_director_ratings['numvotes'].sort_index().plot(kind='line', figsize=[12,6], color = ['#58668b'], title=\"Num of Votes\")\n",
        "plt.ylabel(\"Frequency\")"
      ],
      "metadata": {
        "colab": {
          "base_uri": "https://localhost:8080/",
          "height": 436
        },
        "id": "eZm4ngEYJji7",
        "outputId": "ae00eaf6-d7d8-4643-bbaa-ebddf1452eb8"
      },
      "execution_count": 178,
      "outputs": [
        {
          "output_type": "execute_result",
          "data": {
            "text/plain": [
              "Text(0, 0.5, 'Frequency')"
            ]
          },
          "metadata": {},
          "execution_count": 178
        },
        {
          "output_type": "display_data",
          "data": {
            "text/plain": [
              "<Figure size 864x432 with 1 Axes>"
            ],
            "image/png": "[encoded data removed]"
          },
          "metadata": {}
        }
      ]
    },
    {
      "cell_type": "code",
      "source": [
        "# get top ten average ratings by primary_name\n",
        "df_dir_avg_ratings = (df_director_ratings.groupby(\"primary_name\")[\"averagerating\"].mean()).nlargest(10)\n",
        "df_dir_avg_ratings"
      ],
      "metadata": {
        "colab": {
          "base_uri": "https://localhost:8080/"
        },
        "id": "srjbjue21ZQ1",
        "outputId": "b78a32f1-c9b9-4bc8-f925-02d675a4ca87"
      },
      "execution_count": 153,
      "outputs": [
        {
          "output_type": "execute_result",
          "data": {
            "text/plain": [
              "primary_name\n",
              "Chad Carpenter            10.0\n",
              "Emre Oran                 10.0\n",
              "Ivana Diniz               10.0\n",
              "Lindsay Thompson          10.0\n",
              "Loreto Di Cesare          10.0\n",
              "Masahiro Hayakawa         10.0\n",
              "Michiel Brongers          10.0\n",
              "Stephen Peek              10.0\n",
              "Tristan David Luciotti    10.0\n",
              "Amoghavarsha               9.9\n",
              "Name: averagerating, dtype: float64"
            ]
          },
          "metadata": {},
          "execution_count": 153
        }
      ]
    },
    {
      "cell_type": "code",
      "source": [
        "df_dir_avg_ratings.plot(kind='bar', figsize=[12,6], color = ['#2e003e', '#3d2352', '#3d1e6d',  '#8874a3', '#e4dcf1'], title=\"Directors of Top Ten Rated Movie 2010 ~ 2019\")\n",
        "plt.ylabel(\"Average Ratings\")"
      ],
      "metadata": {
        "colab": {
          "base_uri": "https://localhost:8080/",
          "height": 593
        },
        "id": "aZVavJn6UwPB",
        "outputId": "e90f2c96-57a2-4a46-ed7a-e22ab1040e3c"
      },
      "execution_count": 161,
      "outputs": [
        {
          "output_type": "execute_result",
          "data": {
            "text/plain": [
              "Text(0, 0.5, 'Average Ratings')"
            ]
          },
          "metadata": {},
          "execution_count": 161
        },
        {
          "output_type": "display_data",
          "data": {
            "text/plain": [
              "<Figure size 864x432 with 1 Axes>"
            ],
            "image/png": "[encoded data removed]"
          },
          "metadata": {}
        }
      ]
    },
    {
      "cell_type": "code",
      "source": [
        "# get top ten number of votes by primary_name\n",
        "df_dir_vote_num = (df_director_ratings.groupby(\"primary_name\")[\"numvotes\"].sum()).nlargest(10)\n",
        "df_dir_vote_num"
      ],
      "metadata": {
        "colab": {
          "base_uri": "https://localhost:8080/"
        },
        "id": "0stRlzNw1Y3L",
        "outputId": "c697f583-a9fd-4be2-f125-77d70d57505b"
      },
      "execution_count": 179,
      "outputs": [
        {
          "output_type": "execute_result",
          "data": {
            "text/plain": [
              "primary_name\n",
              "James Gunn            18640459\n",
              "Joe Russo             18421688\n",
              "Anthony Russo         18421593\n",
              "Zack Snyder           10576977\n",
              "Christopher Nolan     10457390\n",
              "Matthew Vaughn         9962120\n",
              "Peter Jackson          8634677\n",
              "Christopher Miller     6565719\n",
              "Phil Lord              6565719\n",
              "Kenneth Branagh        6454844\n",
              "Name: numvotes, dtype: int64"
            ]
          },
          "metadata": {},
          "execution_count": 179
        }
      ]
    },
    {
      "cell_type": "code",
      "source": [
        "df_dir_vote_num.plot(kind='bar', figsize=[12,6], color = ['#8d5524', '#c68642', '#e0ac69',  '#f1c27d', '#ffdbac'], title=\"Directors of Top Ten Most Voted Movies 2010 ~ 2019\")\n",
        "plt.ylabel(\"Total Votes in Tens of Millions\")"
      ],
      "metadata": {
        "colab": {
          "base_uri": "https://localhost:8080/",
          "height": 571
        },
        "id": "-9xaa8Snufb8",
        "outputId": "52803879-f51b-4328-e9a1-2ecee49ca748"
      },
      "execution_count": 160,
      "outputs": [
        {
          "output_type": "execute_result",
          "data": {
            "text/plain": [
              "Text(0, 0.5, 'Average Ratings')"
            ]
          },
          "metadata": {},
          "execution_count": 160
        },
        {
          "output_type": "display_data",
          "data": {
            "text/plain": [
              "<Figure size 864x432 with 1 Axes>"
            ],
            "image/png": "[encoded data removed]"
          },
          "metadata": {}
        }
      ]
    },
    {
      "cell_type": "code",
      "source": [
        "#find correlation between ratings and numbe of votes\n",
        "f, ax = plt.subplots(figsize = (12,6))\n",
        "sns.heatmap(df_director_ratings[['averagerating','numvotes']].corr(), square=True, annot=True)"
      ],
      "metadata": {
        "colab": {
          "base_uri": "https://localhost:8080/",
          "height": 421
        },
        "id": "zCnim3D4ufQi",
        "outputId": "70305f48-c6cd-48c2-8817-8fd1c653ed54"
      },
      "execution_count": 162,
      "outputs": [
        {
          "output_type": "execute_result",
          "data": {
            "text/plain": [
              "<matplotlib.axes._subplots.AxesSubplot at 0x7f45cec26090>"
            ]
          },
          "metadata": {},
          "execution_count": 162
        },
        {
          "output_type": "display_data",
          "data": {
            "text/plain": [
              "<Figure size 864x432 with 2 Axes>"
            ],
            "image/png": "[encoded data removed]"
          },
          "metadata": {}
        }
      ]
    },
    {
      "cell_type": "markdown",
      "source": [
        "#Proposal Two Ends!\n",
        "\n",
        "---\n",
        "\n"
      ],
      "metadata": {
        "id": "BuTaHL6TDxke"
      }
    },
    {
      "cell_type": "code",
      "source": [
        ""
      ],
      "metadata": {
        "id": "p4ZCn8AkufEe"
      },
      "execution_count": null,
      "outputs": []
    },
    {
      "cell_type": "code",
      "source": [
        ""
      ],
      "metadata": {
        "id": "tvDOc3iwue4h"
      },
      "execution_count": null,
      "outputs": []
    },
    {
      "cell_type": "code",
      "source": [
        ""
      ],
      "metadata": {
        "id": "iPt6JSV0uerU"
      },
      "execution_count": null,
      "outputs": []
    },
    {
      "cell_type": "code",
      "source": [
        ""
      ],
      "metadata": {
        "id": "y7CF0QwvueeD"
      },
      "execution_count": null,
      "outputs": []
    },
    {
      "cell_type": "markdown",
      "metadata": {
        "id": "bEURo07LIvAe"
      },
      "source": [
        "## Your Data Analysis Here\n"
      ]
    },
    {
      "cell_type": "markdown",
      "source": [
        "movie_ratings, directors, person"
      ],
      "metadata": {
        "id": "a-X1uoWYQ4zn"
      }
    },
    {
      "cell_type": "code",
      "execution_count": null,
      "metadata": {
        "id": "tpNyGdzIIvAe"
      },
      "outputs": [],
      "source": [
        ""
      ]
    },
    {
      "cell_type": "code",
      "execution_count": null,
      "metadata": {
        "id": "wk9Aq3rKIvAe"
      },
      "outputs": [],
      "source": [
        ""
      ]
    },
    {
      "cell_type": "code",
      "execution_count": null,
      "metadata": {
        "id": "gLUMd-WhIvAf"
      },
      "outputs": [],
      "source": [
        ""
      ]
    },
    {
      "cell_type": "code",
      "execution_count": null,
      "metadata": {
        "id": "tVW9yJGOIvAf"
      },
      "outputs": [],
      "source": [
        ""
      ]
    },
    {
      "cell_type": "code",
      "execution_count": null,
      "metadata": {
        "id": "UopZB4N8IvAf"
      },
      "outputs": [],
      "source": [
        ""
      ]
    },
    {
      "cell_type": "markdown",
      "metadata": {
        "id": "lrItF6f7IvAf"
      },
      "source": [
        "At the end, it is always a best practice to close the connection to the database."
      ]
    },
    {
      "cell_type": "code",
      "execution_count": null,
      "metadata": {
        "id": "fkY6WIy9IvAg"
      },
      "outputs": [],
      "source": [
        "#conn.close()"
      ]
    }
  ],
  "metadata": {
    "kernelspec": {
      "display_name": "Python 3",
      "language": "python",
      "name": "python3"
    },
    "language_info": {
      "codemirror_mode": {
        "name": "ipython",
        "version": 3
      },
      "file_extension": ".py",
      "mimetype": "text/x-python",
      "name": "python",
      "nbconvert_exporter": "python",
      "pygments_lexer": "ipython3",
      "version": "3.9.5"
    },
    "colab": {
      "name": "exploratory.ipynb",
      "provenance": [],
      "collapsed_sections": []
    }
  },
  "nbformat": 4,
  "nbformat_minor": 0
}