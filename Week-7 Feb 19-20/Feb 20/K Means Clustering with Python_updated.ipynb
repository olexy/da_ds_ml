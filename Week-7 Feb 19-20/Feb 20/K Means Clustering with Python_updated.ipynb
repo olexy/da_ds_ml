{
 "cells": [
  {
   "cell_type": "markdown",
   "metadata": {},
   "source": [
    "# K Means Clustering with Python\n",
    "\n",
    "\n",
    "## Method Used\n",
    "\n",
    "K Means Clustering is an unsupervised learning algorithm that tries to cluster data based on their similarity. Unsupervised learning means that there is no outcome to be predicted, and the algorithm just tries to find patterns in the data. In k means clustering, we have the specify the number of clusters we want the data to be grouped into. The algorithm randomly assigns each observation to a cluster, and finds the centroid of each cluster. Then, the algorithm iterates through two steps:\n",
    "Reassign data points to the cluster whose centroid is closest. Calculate new centroid of each cluster. These two steps are repeated till the within cluster variation cannot be reduced any further. The within cluster variation is calculated as the sum of the euclidean distance between the data points and their respective cluster centroids."
   ]
  },
  {
   "cell_type": "markdown",
   "metadata": {},
   "source": [
    "## Import Libraries"
   ]
  },
  {
   "cell_type": "code",
   "execution_count": 1,
   "metadata": {},
   "outputs": [],
   "source": [
    "import seaborn as sns\n",
    "import matplotlib.pyplot as plt\n",
    "%matplotlib inline"
   ]
  },
  {
   "cell_type": "markdown",
   "metadata": {},
   "source": [
    "## Create some Data"
   ]
  },
  {
   "cell_type": "code",
   "execution_count": 2,
   "metadata": {},
   "outputs": [],
   "source": [
    "from sklearn.datasets import make_blobs"
   ]
  },
  {
   "cell_type": "code",
   "execution_count": 4,
   "metadata": {},
   "outputs": [],
   "source": [
    "# Create Data\n",
    "data = make_blobs(n_samples=200, n_features=2, \n",
    "                           centers=4, cluster_std=1.5, random_state=101)"
   ]
  },
  {
   "cell_type": "code",
   "execution_count": 5,
   "metadata": {},
   "outputs": [
    {
     "data": {
      "text/plain": [
       "(array([[ -6.00081339,   9.76297476],\n",
       "        [  5.50815568,   5.44724251],\n",
       "        [ -0.25876239,   2.95579148],\n",
       "        [  2.42324978,   9.08216056],\n",
       "        [  4.86349469,   7.11926219],\n",
       "        [-10.63749274,  -6.18924481],\n",
       "        [  2.31263622,   9.2518625 ],\n",
       "        [ -1.37699434,   1.41390146],\n",
       "        [  1.59185111,   7.98429778],\n",
       "        [ -1.07188327,   2.8459365 ],\n",
       "        [ -5.79801438,   9.37376489],\n",
       "        [ -0.94414292,   2.32229976],\n",
       "        [  3.03673046,   7.7067479 ],\n",
       "        [  2.61134013,   5.59777263],\n",
       "        [ -5.03965549,   9.34401576],\n",
       "        [ -0.41768348,   0.28224719],\n",
       "        [  5.59539517,   6.00608972],\n",
       "        [ -1.87329848,   0.6722087 ],\n",
       "        [-10.01714892,  -3.95435145],\n",
       "        [ -4.42746785,  10.80539143],\n",
       "        [-10.2514053 ,  -5.82447644],\n",
       "        [  0.60865934,   0.31408402],\n",
       "        [  1.81683273,   3.20171269],\n",
       "        [-10.88760432,  -8.85306619],\n",
       "        [ -6.17426469,   6.64059723],\n",
       "        [ -7.96693595,  -7.15192493],\n",
       "        [ -8.22732142,  -9.07087205],\n",
       "        [  1.1211928 ,   0.52985094],\n",
       "        [  3.57159197,   7.72578686],\n",
       "        [  3.98375812,   5.18690981],\n",
       "        [ -3.04443675,   8.91970519],\n",
       "        [ -9.16350183,  -7.50977498],\n",
       "        [  5.00093304,   5.0630515 ],\n",
       "        [  1.77015979,  -1.7984667 ],\n",
       "        [ -1.37275319,   2.3290686 ],\n",
       "        [ -5.14813192,   7.53894623],\n",
       "        [-10.90467947,  -3.22223401],\n",
       "        [-11.05122266,  -5.21597024],\n",
       "        [-11.39023893,  -9.01895287],\n",
       "        [  2.0743858 ,   2.82628687],\n",
       "        [ -9.07502202,  -6.26839617],\n",
       "        [ -3.03148413,   7.58649487],\n",
       "        [ -1.83296504,   8.25803591],\n",
       "        [ -3.23455786,   9.78216562],\n",
       "        [  0.28060384,   2.38809049],\n",
       "        [  0.04118453,   6.95343365],\n",
       "        [ -4.07257494,   8.00055481],\n",
       "        [  1.34978649,   2.96603935],\n",
       "        [-11.28393686,  -7.76720882],\n",
       "        [ -0.39915703,   5.20020797],\n",
       "        [  2.73814235,  -0.26021321],\n",
       "        [ -5.14722004,   7.31201882],\n",
       "        [  5.64088453,   4.46045821],\n",
       "        [  0.39016247,   0.79676863],\n",
       "        [ -7.72996098,  -5.77728677],\n",
       "        [ -1.98126016,   6.29974059],\n",
       "        [  0.78197073,   3.95393613],\n",
       "        [  0.91670577,   1.74558776],\n",
       "        [ -3.88463775,   5.72256571],\n",
       "        [  3.25788602,   6.72164947],\n",
       "        [ -8.29933332,  -7.72762784],\n",
       "        [  1.38103298,   7.33081664],\n",
       "        [ -7.73548839,  -5.22287241],\n",
       "        [ -2.07371844,   8.38321277],\n",
       "        [  2.87922563,   8.09100472],\n",
       "        [ -1.75009528,  -0.58113835],\n",
       "        [-11.52794999,  -6.89853295],\n",
       "        [  4.69708343,   6.17855605],\n",
       "        [  3.00240521,   7.96808281],\n",
       "        [ -9.20002422,  -6.31810951],\n",
       "        [  2.31323239,   7.9482931 ],\n",
       "        [  0.68516299,   4.40833017],\n",
       "        [ -8.93874836,  -5.5578391 ],\n",
       "        [ -3.16553435,   4.56259853],\n",
       "        [ -8.9720682 ,  -6.20480045],\n",
       "        [  4.95707142,   6.46728951],\n",
       "        [  3.27765448,   9.81374598],\n",
       "        [  0.08417045,   2.14206484],\n",
       "        [ -6.43311952,   9.89733028],\n",
       "        [ -2.69927981,   2.52353482],\n",
       "        [ -0.52489949,   3.52435911],\n",
       "        [ -8.51722953,  -6.13985739],\n",
       "        [  5.21162386,   8.22581104],\n",
       "        [ -6.80249384,  -5.52624679],\n",
       "        [  0.61101552,   0.27504365],\n",
       "        [ -0.80501546,   0.89372398],\n",
       "        [ -1.17980782,   0.30066718],\n",
       "        [ -5.10741824,   7.13134962],\n",
       "        [  2.1611739 ,   4.39065395],\n",
       "        [-10.22922126,  -3.3929758 ],\n",
       "        [ -8.55024453,  -9.00158861],\n",
       "        [ -8.4142128 ,  -6.53040866],\n",
       "        [ -9.73920392,  -2.8285816 ],\n",
       "        [ -1.16219079,   5.9029811 ],\n",
       "        [  0.28123183,   4.3232502 ],\n",
       "        [ -8.84032433,  -7.51532683],\n",
       "        [  5.08632739,   8.70164354],\n",
       "        [ -3.9374799 ,   7.21356956],\n",
       "        [ -8.45679385,  -6.03115609],\n",
       "        [  6.95367131,   4.77707699],\n",
       "        [ -1.24219675,   3.3524986 ],\n",
       "        [-10.58750838,  -6.40385076],\n",
       "        [  1.16612666,   2.95056715],\n",
       "        [ -2.6309351 ,   0.11302418],\n",
       "        [  0.62669525,   6.42796808],\n",
       "        [ -0.95482151,   3.72633735],\n",
       "        [ -9.48216293,  -5.53695424],\n",
       "        [  7.88305414,   8.96356294],\n",
       "        [ -9.30823043,  -7.19235355],\n",
       "        [ -9.49903019,  -6.55093539],\n",
       "        [  4.23692347,   2.43861507],\n",
       "        [ -2.89297704,   7.42580596],\n",
       "        [ -4.15422964,   6.8940824 ],\n",
       "        [  2.55664452,   8.12138601],\n",
       "        [ -9.35002328,  -9.74223652],\n",
       "        [  4.02689092,   6.31717233],\n",
       "        [ -3.51326186,   8.10537943],\n",
       "        [ -6.11223746,   9.45979698],\n",
       "        [  1.61826104,   6.89916696],\n",
       "        [ -1.59605509,   8.1342864 ],\n",
       "        [  0.90701802,   4.53937953],\n",
       "        [ -4.32338318,   6.60916185],\n",
       "        [ -1.1619227 ,   1.70855099],\n",
       "        [ -5.6527246 ,   7.65441465],\n",
       "        [ -0.23680546,   1.75885625],\n",
       "        [  5.05977842,   5.87107352],\n",
       "        [ -5.78265605,   9.78735877],\n",
       "        [ -2.23115634,  -0.32532739],\n",
       "        [ -9.8083609 ,  -7.43674726],\n",
       "        [ -2.56520733,   6.78215061],\n",
       "        [ -4.13353114,   6.96740839],\n",
       "        [ -3.671547  ,   8.57132781],\n",
       "        [  0.57832951,   1.69010453],\n",
       "        [ -8.93421704,  -8.16414022],\n",
       "        [-13.53600736,  -4.28572371],\n",
       "        [ -4.06439437,   6.80626109],\n",
       "        [  3.50768043,   4.67529965],\n",
       "        [ -3.84039649,   4.63753012],\n",
       "        [  3.84158775,   8.66051027],\n",
       "        [  1.32745154,   0.6059998 ],\n",
       "        [-10.00540267,  -7.1835446 ],\n",
       "        [  5.03908596,   3.91904596],\n",
       "        [ -9.69160028,  -5.3993573 ],\n",
       "        [ -1.07822486,   8.6256371 ],\n",
       "        [ -1.74989234,   7.96371781],\n",
       "        [  2.50127488,   6.29771818],\n",
       "        [ -1.06083883,   4.20764795],\n",
       "        [ -8.33697987,  -7.86420378],\n",
       "        [ -3.81029003,   7.54194969],\n",
       "        [ -5.08603498,   8.0556915 ],\n",
       "        [ -2.72706231,  10.50944421],\n",
       "        [ -2.4504952 ,   8.99159342],\n",
       "        [  0.12571147,   1.9991435 ],\n",
       "        [  3.47262601,   5.15809523],\n",
       "        [  1.40915395,  -0.42127132],\n",
       "        [ -7.68966599,   7.82437113],\n",
       "        [  2.24251561,   5.09566136],\n",
       "        [  2.83496516,   8.49147818],\n",
       "        [  3.37571731,   7.11712995],\n",
       "        [  1.29068082,   0.05570188],\n",
       "        [  4.1048498 ,   7.29680749],\n",
       "        [  1.53953143,   1.52279125],\n",
       "        [ -1.74640759,   3.63709498],\n",
       "        [ -6.25943159,   4.76900706],\n",
       "        [-11.94794096,  -6.06860722],\n",
       "        [ -5.71176188,   6.45397716],\n",
       "        [ -1.08713705,   2.14047921],\n",
       "        [  5.21652583,   7.17261273],\n",
       "        [ -3.171661  ,   8.75053062],\n",
       "        [  3.56024222,   0.49796345],\n",
       "        [  4.0506702 ,   7.60592424],\n",
       "        [  1.28615307,   1.90782119],\n",
       "        [ -4.60305181,   7.97991655],\n",
       "        [ -0.73300176,   7.4345291 ],\n",
       "        [  0.15281258,   4.26598393],\n",
       "        [ -6.68638869,   5.90104833],\n",
       "        [  3.88425708,   7.67650913],\n",
       "        [  1.57411542,   7.16042663],\n",
       "        [ -6.38619919,  -8.13910445],\n",
       "        [  2.08386222,   6.67740481],\n",
       "        [ -3.40010679,   8.66715199],\n",
       "        [ -8.13426815,  -8.91096405],\n",
       "        [ -8.25554139,  -7.63299748],\n",
       "        [ -1.35715927,  10.09248315],\n",
       "        [ -9.18784369,  -5.32002289],\n",
       "        [-10.00067072,  -9.06865564],\n",
       "        [ -9.13422949,  -3.11508598],\n",
       "        [ -9.61858667,  -7.98794906],\n",
       "        [-11.07705501,  -9.43158011],\n",
       "        [  0.54851271,   0.69417968],\n",
       "        [ -9.84978079,  -4.97550125],\n",
       "        [  5.1886989 ,   7.44868635],\n",
       "        [  4.31691931,   7.88970137],\n",
       "        [ -3.68880429,   7.31953035],\n",
       "        [ -8.91520669,  -6.2751539 ],\n",
       "        [  0.61416404,   4.38148772],\n",
       "        [  6.08425822,   8.07242401],\n",
       "        [  4.89673239,   8.71750522],\n",
       "        [ -9.29007349,  -4.70834796],\n",
       "        [  1.86694878,   1.17845488]]),\n",
       " array([3, 2, 0, 2, 2, 1, 2, 0, 2, 0, 3, 0, 2, 2, 3, 0, 2, 0, 1, 3, 1, 0,\n",
       "        0, 1, 3, 1, 1, 0, 2, 2, 3, 1, 2, 0, 0, 3, 1, 1, 1, 2, 1, 3, 3, 3,\n",
       "        0, 3, 3, 0, 1, 2, 0, 3, 2, 0, 1, 3, 0, 0, 3, 2, 1, 2, 1, 3, 2, 0,\n",
       "        1, 2, 2, 1, 2, 0, 1, 3, 1, 2, 2, 0, 3, 0, 0, 1, 2, 1, 0, 0, 0, 3,\n",
       "        2, 1, 1, 1, 1, 3, 0, 1, 2, 3, 1, 2, 0, 1, 0, 0, 2, 0, 1, 2, 1, 1,\n",
       "        0, 3, 3, 2, 1, 2, 3, 3, 2, 3, 0, 3, 0, 3, 0, 2, 3, 0, 1, 3, 3, 3,\n",
       "        0, 1, 1, 3, 2, 3, 2, 0, 1, 2, 1, 3, 3, 2, 0, 1, 3, 3, 3, 3, 0, 2,\n",
       "        0, 3, 2, 2, 2, 0, 2, 0, 0, 3, 1, 3, 0, 2, 3, 0, 2, 0, 3, 3, 0, 3,\n",
       "        2, 2, 1, 2, 3, 1, 1, 3, 1, 1, 1, 1, 1, 0, 1, 2, 2, 3, 1, 0, 2, 2,\n",
       "        1, 0]))"
      ]
     },
     "execution_count": 5,
     "metadata": {},
     "output_type": "execute_result"
    }
   ],
   "source": [
    "data"
   ]
  },
  {
   "cell_type": "markdown",
   "metadata": {},
   "source": [
    "## Visualize Data"
   ]
  },
  {
   "cell_type": "code",
   "execution_count": 6,
   "metadata": {},
   "outputs": [
    {
     "data": {
      "text/plain": [
       "<matplotlib.collections.PathCollection at 0x20a3ca51e50>"
      ]
     },
     "execution_count": 6,
     "metadata": {},
     "output_type": "execute_result"
    },
    {
     "data": {
      "image/png": "[encoded data removed]",
      "text/plain": [
       "<Figure size 432x288 with 1 Axes>"
      ]
     },
     "metadata": {
      "needs_background": "light"
     },
     "output_type": "display_data"
    }
   ],
   "source": [
    "plt.scatter(data[0][:,0],data[0][:,1], c=data[1], cmap='rainbow')"
   ]
  },
  {
   "cell_type": "code",
   "execution_count": 7,
   "metadata": {},
   "outputs": [
    {
     "data": {
      "text/plain": [
       "<matplotlib.collections.PathCollection at 0x20a3d207220>"
      ]
     },
     "execution_count": 7,
     "metadata": {},
     "output_type": "execute_result"
    },
    {
     "data": {
      "image/png": "[encoded data removed]",
      "text/plain": [
       "<Figure size 432x288 with 1 Axes>"
      ]
     },
     "metadata": {
      "needs_background": "light"
     },
     "output_type": "display_data"
    }
   ],
   "source": [
    "plt.scatter(data[0][:,0],data[0][:,1])"
   ]
  },
  {
   "cell_type": "code",
   "execution_count": null,
   "metadata": {},
   "outputs": [],
   "source": []
  },
  {
   "cell_type": "code",
   "execution_count": null,
   "metadata": {},
   "outputs": [],
   "source": []
  },
  {
   "cell_type": "markdown",
   "metadata": {},
   "source": [
    "## Creating the Clusters"
   ]
  },
  {
   "cell_type": "code",
   "execution_count": 8,
   "metadata": {},
   "outputs": [],
   "source": [
    "from sklearn.cluster import KMeans"
   ]
  },
  {
   "cell_type": "code",
   "execution_count": 22,
   "metadata": {},
   "outputs": [],
   "source": [
    "kmeans = KMeans(n_clusters=4)"
   ]
  },
  {
   "cell_type": "code",
   "execution_count": 23,
   "metadata": {},
   "outputs": [
    {
     "data": {
      "text/plain": [
       "array([3, 2, 0, 2, 2, 1, 2, 0, 2, 0, 3, 0, 2, 2, 3, 0, 2, 0, 1, 3, 1, 0,\n",
       "       0, 1, 3, 1, 1, 0, 2, 2, 3, 1, 2, 0, 0, 3, 1, 1, 1, 2, 1, 3, 3, 3,\n",
       "       0, 3, 3, 0, 1, 2, 0, 3, 2, 0, 1, 3, 0, 0, 3, 2, 1, 2, 1, 3, 2, 0,\n",
       "       1, 2, 2, 1, 2, 0, 1, 3, 1, 2, 2, 0, 3, 0, 0, 1, 2, 1, 0, 0, 0, 3,\n",
       "       2, 1, 1, 1, 1, 3, 0, 1, 2, 3, 1, 2, 0, 1, 0, 0, 2, 0, 1, 2, 1, 1,\n",
       "       0, 3, 3, 2, 1, 2, 3, 3, 2, 3, 0, 3, 0, 3, 0, 2, 3, 0, 1, 3, 3, 3,\n",
       "       0, 1, 1, 3, 2, 3, 2, 0, 1, 2, 1, 3, 3, 2, 0, 1, 3, 3, 3, 3, 0, 2,\n",
       "       0, 3, 2, 2, 2, 0, 2, 0, 0, 3, 1, 3, 0, 2, 3, 0, 2, 0, 3, 3, 0, 3,\n",
       "       2, 2, 1, 2, 3, 1, 1, 3, 1, 1, 1, 1, 1, 0, 1, 2, 2, 3, 1, 0, 2, 2,\n",
       "       1, 0])"
      ]
     },
     "execution_count": 23,
     "metadata": {},
     "output_type": "execute_result"
    }
   ],
   "source": [
    "data[1]   # Actual cluster labels"
   ]
  },
  {
   "cell_type": "code",
   "execution_count": 24,
   "metadata": {},
   "outputs": [
    {
     "data": {
      "text/plain": [
       "array([[ -6.00081339,   9.76297476],\n",
       "       [  5.50815568,   5.44724251],\n",
       "       [ -0.25876239,   2.95579148],\n",
       "       [  2.42324978,   9.08216056],\n",
       "       [  4.86349469,   7.11926219],\n",
       "       [-10.63749274,  -6.18924481],\n",
       "       [  2.31263622,   9.2518625 ],\n",
       "       [ -1.37699434,   1.41390146],\n",
       "       [  1.59185111,   7.98429778],\n",
       "       [ -1.07188327,   2.8459365 ],\n",
       "       [ -5.79801438,   9.37376489],\n",
       "       [ -0.94414292,   2.32229976],\n",
       "       [  3.03673046,   7.7067479 ],\n",
       "       [  2.61134013,   5.59777263],\n",
       "       [ -5.03965549,   9.34401576],\n",
       "       [ -0.41768348,   0.28224719],\n",
       "       [  5.59539517,   6.00608972],\n",
       "       [ -1.87329848,   0.6722087 ],\n",
       "       [-10.01714892,  -3.95435145],\n",
       "       [ -4.42746785,  10.80539143],\n",
       "       [-10.2514053 ,  -5.82447644],\n",
       "       [  0.60865934,   0.31408402],\n",
       "       [  1.81683273,   3.20171269],\n",
       "       [-10.88760432,  -8.85306619],\n",
       "       [ -6.17426469,   6.64059723],\n",
       "       [ -7.96693595,  -7.15192493],\n",
       "       [ -8.22732142,  -9.07087205],\n",
       "       [  1.1211928 ,   0.52985094],\n",
       "       [  3.57159197,   7.72578686],\n",
       "       [  3.98375812,   5.18690981],\n",
       "       [ -3.04443675,   8.91970519],\n",
       "       [ -9.16350183,  -7.50977498],\n",
       "       [  5.00093304,   5.0630515 ],\n",
       "       [  1.77015979,  -1.7984667 ],\n",
       "       [ -1.37275319,   2.3290686 ],\n",
       "       [ -5.14813192,   7.53894623],\n",
       "       [-10.90467947,  -3.22223401],\n",
       "       [-11.05122266,  -5.21597024],\n",
       "       [-11.39023893,  -9.01895287],\n",
       "       [  2.0743858 ,   2.82628687],\n",
       "       [ -9.07502202,  -6.26839617],\n",
       "       [ -3.03148413,   7.58649487],\n",
       "       [ -1.83296504,   8.25803591],\n",
       "       [ -3.23455786,   9.78216562],\n",
       "       [  0.28060384,   2.38809049],\n",
       "       [  0.04118453,   6.95343365],\n",
       "       [ -4.07257494,   8.00055481],\n",
       "       [  1.34978649,   2.96603935],\n",
       "       [-11.28393686,  -7.76720882],\n",
       "       [ -0.39915703,   5.20020797],\n",
       "       [  2.73814235,  -0.26021321],\n",
       "       [ -5.14722004,   7.31201882],\n",
       "       [  5.64088453,   4.46045821],\n",
       "       [  0.39016247,   0.79676863],\n",
       "       [ -7.72996098,  -5.77728677],\n",
       "       [ -1.98126016,   6.29974059],\n",
       "       [  0.78197073,   3.95393613],\n",
       "       [  0.91670577,   1.74558776],\n",
       "       [ -3.88463775,   5.72256571],\n",
       "       [  3.25788602,   6.72164947],\n",
       "       [ -8.29933332,  -7.72762784],\n",
       "       [  1.38103298,   7.33081664],\n",
       "       [ -7.73548839,  -5.22287241],\n",
       "       [ -2.07371844,   8.38321277],\n",
       "       [  2.87922563,   8.09100472],\n",
       "       [ -1.75009528,  -0.58113835],\n",
       "       [-11.52794999,  -6.89853295],\n",
       "       [  4.69708343,   6.17855605],\n",
       "       [  3.00240521,   7.96808281],\n",
       "       [ -9.20002422,  -6.31810951],\n",
       "       [  2.31323239,   7.9482931 ],\n",
       "       [  0.68516299,   4.40833017],\n",
       "       [ -8.93874836,  -5.5578391 ],\n",
       "       [ -3.16553435,   4.56259853],\n",
       "       [ -8.9720682 ,  -6.20480045],\n",
       "       [  4.95707142,   6.46728951],\n",
       "       [  3.27765448,   9.81374598],\n",
       "       [  0.08417045,   2.14206484],\n",
       "       [ -6.43311952,   9.89733028],\n",
       "       [ -2.69927981,   2.52353482],\n",
       "       [ -0.52489949,   3.52435911],\n",
       "       [ -8.51722953,  -6.13985739],\n",
       "       [  5.21162386,   8.22581104],\n",
       "       [ -6.80249384,  -5.52624679],\n",
       "       [  0.61101552,   0.27504365],\n",
       "       [ -0.80501546,   0.89372398],\n",
       "       [ -1.17980782,   0.30066718],\n",
       "       [ -5.10741824,   7.13134962],\n",
       "       [  2.1611739 ,   4.39065395],\n",
       "       [-10.22922126,  -3.3929758 ],\n",
       "       [ -8.55024453,  -9.00158861],\n",
       "       [ -8.4142128 ,  -6.53040866],\n",
       "       [ -9.73920392,  -2.8285816 ],\n",
       "       [ -1.16219079,   5.9029811 ],\n",
       "       [  0.28123183,   4.3232502 ],\n",
       "       [ -8.84032433,  -7.51532683],\n",
       "       [  5.08632739,   8.70164354],\n",
       "       [ -3.9374799 ,   7.21356956],\n",
       "       [ -8.45679385,  -6.03115609],\n",
       "       [  6.95367131,   4.77707699],\n",
       "       [ -1.24219675,   3.3524986 ],\n",
       "       [-10.58750838,  -6.40385076],\n",
       "       [  1.16612666,   2.95056715],\n",
       "       [ -2.6309351 ,   0.11302418],\n",
       "       [  0.62669525,   6.42796808],\n",
       "       [ -0.95482151,   3.72633735],\n",
       "       [ -9.48216293,  -5.53695424],\n",
       "       [  7.88305414,   8.96356294],\n",
       "       [ -9.30823043,  -7.19235355],\n",
       "       [ -9.49903019,  -6.55093539],\n",
       "       [  4.23692347,   2.43861507],\n",
       "       [ -2.89297704,   7.42580596],\n",
       "       [ -4.15422964,   6.8940824 ],\n",
       "       [  2.55664452,   8.12138601],\n",
       "       [ -9.35002328,  -9.74223652],\n",
       "       [  4.02689092,   6.31717233],\n",
       "       [ -3.51326186,   8.10537943],\n",
       "       [ -6.11223746,   9.45979698],\n",
       "       [  1.61826104,   6.89916696],\n",
       "       [ -1.59605509,   8.1342864 ],\n",
       "       [  0.90701802,   4.53937953],\n",
       "       [ -4.32338318,   6.60916185],\n",
       "       [ -1.1619227 ,   1.70855099],\n",
       "       [ -5.6527246 ,   7.65441465],\n",
       "       [ -0.23680546,   1.75885625],\n",
       "       [  5.05977842,   5.87107352],\n",
       "       [ -5.78265605,   9.78735877],\n",
       "       [ -2.23115634,  -0.32532739],\n",
       "       [ -9.8083609 ,  -7.43674726],\n",
       "       [ -2.56520733,   6.78215061],\n",
       "       [ -4.13353114,   6.96740839],\n",
       "       [ -3.671547  ,   8.57132781],\n",
       "       [  0.57832951,   1.69010453],\n",
       "       [ -8.93421704,  -8.16414022],\n",
       "       [-13.53600736,  -4.28572371],\n",
       "       [ -4.06439437,   6.80626109],\n",
       "       [  3.50768043,   4.67529965],\n",
       "       [ -3.84039649,   4.63753012],\n",
       "       [  3.84158775,   8.66051027],\n",
       "       [  1.32745154,   0.6059998 ],\n",
       "       [-10.00540267,  -7.1835446 ],\n",
       "       [  5.03908596,   3.91904596],\n",
       "       [ -9.69160028,  -5.3993573 ],\n",
       "       [ -1.07822486,   8.6256371 ],\n",
       "       [ -1.74989234,   7.96371781],\n",
       "       [  2.50127488,   6.29771818],\n",
       "       [ -1.06083883,   4.20764795],\n",
       "       [ -8.33697987,  -7.86420378],\n",
       "       [ -3.81029003,   7.54194969],\n",
       "       [ -5.08603498,   8.0556915 ],\n",
       "       [ -2.72706231,  10.50944421],\n",
       "       [ -2.4504952 ,   8.99159342],\n",
       "       [  0.12571147,   1.9991435 ],\n",
       "       [  3.47262601,   5.15809523],\n",
       "       [  1.40915395,  -0.42127132],\n",
       "       [ -7.68966599,   7.82437113],\n",
       "       [  2.24251561,   5.09566136],\n",
       "       [  2.83496516,   8.49147818],\n",
       "       [  3.37571731,   7.11712995],\n",
       "       [  1.29068082,   0.05570188],\n",
       "       [  4.1048498 ,   7.29680749],\n",
       "       [  1.53953143,   1.52279125],\n",
       "       [ -1.74640759,   3.63709498],\n",
       "       [ -6.25943159,   4.76900706],\n",
       "       [-11.94794096,  -6.06860722],\n",
       "       [ -5.71176188,   6.45397716],\n",
       "       [ -1.08713705,   2.14047921],\n",
       "       [  5.21652583,   7.17261273],\n",
       "       [ -3.171661  ,   8.75053062],\n",
       "       [  3.56024222,   0.49796345],\n",
       "       [  4.0506702 ,   7.60592424],\n",
       "       [  1.28615307,   1.90782119],\n",
       "       [ -4.60305181,   7.97991655],\n",
       "       [ -0.73300176,   7.4345291 ],\n",
       "       [  0.15281258,   4.26598393],\n",
       "       [ -6.68638869,   5.90104833],\n",
       "       [  3.88425708,   7.67650913],\n",
       "       [  1.57411542,   7.16042663],\n",
       "       [ -6.38619919,  -8.13910445],\n",
       "       [  2.08386222,   6.67740481],\n",
       "       [ -3.40010679,   8.66715199],\n",
       "       [ -8.13426815,  -8.91096405],\n",
       "       [ -8.25554139,  -7.63299748],\n",
       "       [ -1.35715927,  10.09248315],\n",
       "       [ -9.18784369,  -5.32002289],\n",
       "       [-10.00067072,  -9.06865564],\n",
       "       [ -9.13422949,  -3.11508598],\n",
       "       [ -9.61858667,  -7.98794906],\n",
       "       [-11.07705501,  -9.43158011],\n",
       "       [  0.54851271,   0.69417968],\n",
       "       [ -9.84978079,  -4.97550125],\n",
       "       [  5.1886989 ,   7.44868635],\n",
       "       [  4.31691931,   7.88970137],\n",
       "       [ -3.68880429,   7.31953035],\n",
       "       [ -8.91520669,  -6.2751539 ],\n",
       "       [  0.61416404,   4.38148772],\n",
       "       [  6.08425822,   8.07242401],\n",
       "       [  4.89673239,   8.71750522],\n",
       "       [ -9.29007349,  -4.70834796],\n",
       "       [  1.86694878,   1.17845488]])"
      ]
     },
     "execution_count": 24,
     "metadata": {},
     "output_type": "execute_result"
    }
   ],
   "source": [
    "data[0]   # these are the 2 features for each of the dat paoints"
   ]
  },
  {
   "cell_type": "code",
   "execution_count": 25,
   "metadata": {},
   "outputs": [
    {
     "data": {
      "text/plain": [
       "KMeans(n_clusters=4)"
      ]
     },
     "execution_count": 25,
     "metadata": {},
     "output_type": "execute_result"
    }
   ],
   "source": [
    "kmeans.fit(data[0])   # fit the Kmeans model using the 2 features"
   ]
  },
  {
   "cell_type": "code",
   "execution_count": 26,
   "metadata": {},
   "outputs": [
    {
     "data": {
      "text/plain": [
       "array([[ 3.70096449,  6.97822388],\n",
       "       [-9.46293455, -6.56227402],\n",
       "       [-3.94290979,  7.81946035],\n",
       "       [ 0.17488363,  1.94463959]])"
      ]
     },
     "execution_count": 26,
     "metadata": {},
     "output_type": "execute_result"
    }
   ],
   "source": [
    "kmeans.cluster_centers_"
   ]
  },
  {
   "cell_type": "code",
   "execution_count": 27,
   "metadata": {},
   "outputs": [
    {
     "data": {
      "text/plain": [
       "array([2, 0, 3, 0, 0, 1, 0, 3, 0, 3, 2, 3, 0, 0, 2, 3, 0, 3, 1, 2, 1, 3,\n",
       "       3, 1, 2, 1, 1, 3, 0, 0, 2, 1, 0, 3, 3, 2, 1, 1, 1, 3, 1, 2, 2, 2,\n",
       "       3, 0, 2, 3, 1, 3, 3, 2, 0, 3, 1, 2, 3, 3, 2, 0, 1, 0, 1, 2, 0, 3,\n",
       "       1, 0, 0, 1, 0, 3, 1, 2, 1, 0, 0, 3, 2, 3, 3, 1, 0, 1, 3, 3, 3, 2,\n",
       "       0, 1, 1, 1, 1, 2, 3, 1, 0, 2, 1, 0, 3, 1, 3, 3, 0, 3, 1, 0, 1, 1,\n",
       "       3, 2, 2, 0, 1, 0, 2, 2, 0, 2, 3, 2, 3, 2, 3, 0, 2, 3, 1, 2, 2, 2,\n",
       "       3, 1, 1, 2, 0, 2, 0, 3, 1, 0, 1, 2, 2, 0, 3, 1, 2, 2, 2, 2, 3, 0,\n",
       "       3, 2, 0, 0, 0, 3, 0, 3, 3, 2, 1, 2, 3, 0, 2, 3, 0, 3, 2, 2, 3, 2,\n",
       "       0, 0, 1, 0, 2, 1, 1, 2, 1, 1, 1, 1, 1, 3, 1, 0, 0, 2, 1, 3, 0, 0,\n",
       "       1, 3])"
      ]
     },
     "execution_count": 27,
     "metadata": {},
     "output_type": "execute_result"
    }
   ],
   "source": [
    "kmeans.labels_"
   ]
  },
  {
   "cell_type": "code",
   "execution_count": 28,
   "metadata": {},
   "outputs": [
    {
     "data": {
      "text/plain": [
       "<matplotlib.collections.PathCollection at 0x20a3ddb8ee0>"
      ]
     },
     "execution_count": 28,
     "metadata": {},
     "output_type": "execute_result"
    },
    {
     "data": {
      "image/png": "[encoded data removed]",
      "text/plain": [
       "<Figure size 720x432 with 2 Axes>"
      ]
     },
     "metadata": {
      "needs_background": "light"
     },
     "output_type": "display_data"
    }
   ],
   "source": [
    "f, (ax1, ax2) = plt.subplots(1, 2, sharey=True,figsize=(10,6))\n",
    "ax1.set_title('K Means')\n",
    "ax1.scatter(data[0][:,0],data[0][:,1],c=kmeans.labels_,cmap='rainbow')\n",
    "ax2.set_title(\"Original\")\n",
    "ax2.scatter(data[0][:,0],data[0][:,1],c=data[1],cmap='rainbow')"
   ]
  },
  {
   "cell_type": "markdown",
   "metadata": {},
   "source": [
    "You should note, the colors are meaningless in reference between the two plots."
   ]
  },
  {
   "cell_type": "code",
   "execution_count": null,
   "metadata": {},
   "outputs": [],
   "source": []
  },
  {
   "cell_type": "code",
   "execution_count": null,
   "metadata": {},
   "outputs": [],
   "source": []
  }
 ],
 "metadata": {
  "kernelspec": {
   "display_name": "Python 3 (ipykernel)",
   "language": "python",
   "name": "python3"
  },
  "language_info": {
   "codemirror_mode": {
    "name": "ipython",
    "version": 3
   },
   "file_extension": ".py",
   "mimetype": "text/x-python",
   "name": "python",
   "nbconvert_exporter": "python",
   "pygments_lexer": "ipython3",
   "version": "3.9.7"
  }
 },
 "nbformat": 4,
 "nbformat_minor": 1
}
