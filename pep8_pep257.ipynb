{
 "cells": [
  {
   "cell_type": "markdown",
   "id": "d2457386-5a80-4efd-bb96-ae212597bc72",
   "metadata": {},
   "source": [
    "### Week 4: Professional Skills for Data Analysts:\n",
    "\n",
    "### PEP 8 and PEP 257"
   ]
  },
  {
   "cell_type": "markdown",
   "id": "a36ab54a-2a47-40ae-8ebb-7cc4faead6de",
   "metadata": {},
   "source": [
    "This week you will be reviewing material about developing your skills as a professional in the data analytics field. This topic is ever-growing and continues to develop as our tools, technology and the discipline advance but we will go over some standard coding practices for you to start with."
   ]
  },
  {
   "cell_type": "markdown",
   "id": "911198f7-9a72-4ff0-9b09-4886d4ab984f",
   "metadata": {},
   "source": [
    "![](./images/analytics_computer.jpg)"
   ]
  },
  {
   "cell_type": "markdown",
   "id": "e0c015f3-7fba-4004-8964-13eb9bce7d53",
   "metadata": {},
   "source": [
    "## Reviewing PEP8\n",
    "\n"
   ]
  },
  {
   "cell_type": "markdown",
   "id": "989f251c-1002-4097-989a-fa7f2fe491db",
   "metadata": {},
   "source": [
    "PEP stands for Python Enhancement Proposals. Check them out [here](https://www.python.org/dev/peps/)! We'll start by talking about PEP8, which is the Style Guide for Python code. This discusses many points which are also important for collaboration. Git, the version control system you dealt with a bit so far and Github, the website that hosts this system, is useful for sharing and integrating code bases, but if code is poorly written it can still be cryptic and difficult to decipher. By following styling guidelines such as those outlined in PEP8, we can all create more legible code that can be shared in a streamlined fashion."
   ]
  },
  {
   "cell_type": "markdown",
   "id": "e872bc8a-9c16-4a1e-a780-6fc6cc5dbae9",
   "metadata": {},
   "source": [
    "## Objectives\n",
    "\n",
    "You will be able to:\n",
    "\n",
    "- List the conventions defined in PEP8 \n",
    "\n",
    "## PEP8 Introductory notes\n",
    "\n",
    "Remember that the guidelines in PEP8 are just that: guidelines. The main goal is to make code more readable. Often, projects may have their own style guidelines which should take precedence. Most important of all is consistency. Be consistent with how you format your code and stick to it. With that, here's an overview of some of the most important guidelines from the PEP8 document to start familiarizing yourself with."
   ]
  },
  {
   "cell_type": "markdown",
   "id": "409f2855-0885-4dd3-8875-7f214f5e8ecf",
   "metadata": {},
   "source": [
    "## Whitespace\n",
    "\n",
    "1. Avoid trailing whitespace; its hard to see!\n",
    "2. Always use whitespace on either side of binary operators like `=`, `==`, `!=`, `>`, `<`, `<=`, `not`, `in`, `and`, `or` ...\n",
    "3. If operators with different priorities are used, consider adding whitespace around the operators with the lowest priority(ies). For example, multiplication takes precedence over addition, so we might not include whitespace around the multiplication, helping to indicate that these operations happen first and form a cohesive group."
   ]
  },
  {
   "cell_type": "markdown",
   "id": "32aa87f6-e76c-4410-8484-63f2950d17c5",
   "metadata": {},
   "source": [
    "### Good whitespace usage"
   ]
  },
  {
   "cell_type": "code",
   "execution_count": null,
   "id": "1a2b89e2-aff7-4f34-9b78-bdc2b4534b53",
   "metadata": {},
   "outputs": [],
   "source": [
    "i = 1\n",
    "i = i + 1\n",
    "i += 1\n",
    "x = i*2 - 1\n",
    "hypot2 = x*x + i*i\n",
    "c = (x+x) * (i-i)"
   ]
  },
  {
   "cell_type": "markdown",
   "id": "26ca941b-760f-42a3-ba61-1f166308bbda",
   "metadata": {},
   "source": [
    "### Bad whitespace usage"
   ]
  },
  {
   "cell_type": "code",
   "execution_count": null,
   "id": "223bd03a-9e2f-4b98-882b-2f00de090a59",
   "metadata": {},
   "outputs": [],
   "source": [
    "i=1\n",
    "i=i+1\n",
    "i +=1\n",
    "x = i * 2 - 1\n",
    "hypot2 = x * x + i * i\n",
    "c = (x + x) * (i - i)"
   ]
  },
  {
   "cell_type": "markdown",
   "id": "73b7d73c-040d-45bd-b4bd-a0bb74ecb9d1",
   "metadata": {},
   "source": [
    "## Line length\n",
    "\n",
    "As a general rule of thumb, limit all lines of code to 79 characters."
   ]
  },
  {
   "cell_type": "code",
   "execution_count": null,
   "id": "247fa34a-49db-4113-8637-46ccca000e60",
   "metadata": {},
   "outputs": [],
   "source": [
    "# Below is a verbose list comprehension that is 79 characters long as a silly example\n",
    "[integer**2+1 for integer in range(1,100) if integer > 20 and integer % 5 == 0]"
   ]
  },
  {
   "cell_type": "markdown",
   "id": "24d2c6ef-b95e-4a26-ae9b-571b039d8bab",
   "metadata": {},
   "source": [
    "## Variable names\n",
    "\n",
    "1. Never use the characters 'l' (lowercase letter el), 'O' (uppercase letter oh), or 'I' (uppercase letter eye) as single character variable names.\n",
    "     1. In some fonts, these characters are indistinguishable from the numerals one and zero. When tempted to use 'l', use 'L' instead.  \n",
    "2. Don't use built-in Python keywords like `list`, `dict` or `str` as variable names: this is not only a style guideline, it will break your code! "
   ]
  },
  {
   "cell_type": "markdown",
   "id": "6a3a8d2d-ef21-4c01-9e8e-112b15a441ad",
   "metadata": {},
   "source": [
    "## Indentation\n",
    "\n",
    "The importance of indentation in Python was introduced in the conditionals lesson. Here are the conventional style guidelines that should be followed:\n",
    "\n",
    "1. When indenting, use 4 spaces instead of a tab.\n",
    "    1. Note that Python 3 disallows mixing the use of tabs and spaces for indentation. At some point you'll encounter this error: be on the lookout!\n",
    "2. Vertically align continuation lines of code.\n",
    "    1. This gets used for long functions, lists or conditionals\n",
    "\n",
    "Here are some examples using functions. Functions will be introduced formally in the future so don't worry if the syntax looks unfamiliar. Just keep in mind that there are style conventions associated with functions. Comments have been placed in the code to help guide understanding.\n",
    "\n",
    "### Good Indentation"
   ]
  },
  {
   "cell_type": "code",
   "execution_count": null,
   "id": "ea23fa5a-3b0c-4e61-b561-bce788a7264b",
   "metadata": {},
   "outputs": [],
   "source": [
    "# Add 4 spaces (an extra level of indentation) to distinguish arguments from the rest \n",
    "def long_function_name(\n",
    "        var_one, var_two, var_three,\n",
    "        var_four):\n",
    "    print(var_one)\n",
    "    \n",
    "# Aligned with opening delimiter \n",
    "foo = long_function_name('var_one', 'var_two',\n",
    "                         'var_three', 'var_four')"
   ]
  },
  {
   "cell_type": "markdown",
   "id": "17d16b75-1aed-478d-9640-0f4de355cf33",
   "metadata": {},
   "source": [
    "### Bad Indentation"
   ]
  },
  {
   "cell_type": "code",
   "execution_count": null,
   "id": "ade8f00b-67c0-4a48-ad2f-bdf3be572725",
   "metadata": {},
   "outputs": [],
   "source": [
    "# Further indentation required as indentation is not distinguishable \n",
    "def long_function_name(\n",
    "    var_one, var_two, var_three,\n",
    "    var_four):\n",
    "    print(var_one)\n",
    "\n",
    "# Arguments on first line forbidden when not using vertical alignment \n",
    "foo = long_function_name('var_one', 'var_two',\n",
    "    'var_three', 'var_four')"
   ]
  },
  {
   "cell_type": "markdown",
   "id": "8693cc22-1038-4850-a089-ce19db337a39",
   "metadata": {},
   "source": [
    "Somewhat similarly, when using operations, keep the operator with the operand:"
   ]
  },
  {
   "cell_type": "markdown",
   "id": "93bd2beb-2569-46b1-a052-1486d2da7264",
   "metadata": {},
   "source": [
    "### Good operator placement "
   ]
  },
  {
   "cell_type": "code",
   "execution_count": null,
   "id": "2250ad21-78cd-4a53-8ba6-d2324221a8b2",
   "metadata": {},
   "outputs": [],
   "source": [
    "# Note: this line of code will produce an error (the variables referenced have not been defined)\n",
    "income = (gross_wages\n",
    "          + taxable_interest\n",
    "          + (dividends - qualified_dividends)\n",
    "          - ira_deduction\n",
    "          - student_loan_interest)"
   ]
  },
  {
   "cell_type": "markdown",
   "id": "3f204e32-82fb-4a36-89b5-4c362b60812a",
   "metadata": {},
   "source": [
    "### Bad operator placement"
   ]
  },
  {
   "cell_type": "code",
   "execution_count": null,
   "id": "919e6cea-ef34-4d3a-8426-000f571f2e03",
   "metadata": {},
   "outputs": [],
   "source": [
    "# Note: this line of code will produce an error (the variables referenced have not been defined)\n",
    "income = (gross_wages +\n",
    "          taxable_interest +\n",
    "          (dividends - qualified_dividends) -\n",
    "          ira_deduction -\n",
    "          student_loan_interest)"
   ]
  },
  {
   "cell_type": "markdown",
   "id": "2f179deb-804f-4f0e-9835-dd841e58cf99",
   "metadata": {},
   "source": [
    "&nbsp;  "
   ]
  },
  {
   "cell_type": "markdown",
   "id": "46c6c346-2b07-41c9-8596-394f21b45fed",
   "metadata": {},
   "source": [
    "### PEP 257 - Docstring Conventions"
   ]
  },
  {
   "cell_type": "markdown",
   "id": "991fe616-5d8f-4ae2-bac9-231d2d6737b4",
   "metadata": {},
   "source": [
    "There are also recommendations for how to format your docstrings. But first, what is a docstring? A docstring is a string literal (AKA fixed value) that occurs as the first statement in a module, function, or method definition. Recall that a function should ideally only perform one action. A docstring of a function should tell you simply what it does and some description of the arguments it takes and the output You can see an example below:"
   ]
  },
  {
   "cell_type": "markdown",
   "id": "f9f65b8d-4a64-49fd-9027-b1d293b33b46",
   "metadata": {},
   "source": [
    "#### One-line Docstring"
   ]
  },
  {
   "cell_type": "code",
   "execution_count": null,
   "id": "15b4b561-ad01-4bec-b651-8a6a8f3e5ff9",
   "metadata": {},
   "outputs": [],
   "source": [
    "# Example of a one-line docstring for a function. a one-line description\n",
    "# is sufficient for a relatively simple function.\n",
    "\n",
    "def add_one(number):\n",
    "    \"\"\"\n",
    "    add_one() takes an integer, float and returns that value \n",
    "    added by one.\n",
    "    \"\"\"\n",
    "    number_plus_one = number + 1\n",
    "    return number_plus_one\n",
    "        "
   ]
  },
  {
   "cell_type": "markdown",
   "id": "071b4955-8d2a-4a6a-83f1-cd8879e1e218",
   "metadata": {},
   "source": [
    "#### Multi-line Docstring"
   ]
  },
  {
   "cell_type": "code",
   "execution_count": null,
   "id": "51de7c00-0030-409e-8029-c74c0cc81c88",
   "metadata": {},
   "outputs": [],
   "source": [
    "# Example of a multi-line docstring. If your function has some complexity\n",
    "# a more descriptive docstring is recommended that includes descriptions\n",
    "# of the function arguments and outputs like so.\n",
    "\n",
    "def add_two(number):\n",
    "    \"\"\"\n",
    "    add_two() takes an integer, float and returns that value \n",
    "    added by one.\n",
    "    \n",
    "    Arguments: number - a single integer or float.\n",
    "    \n",
    "    Returns:   number_plus_two - the sum of the given integer or float and \n",
    "               two.\n",
    "    \"\"\"\n",
    "    number_plus_one = number + 1\n",
    "    return number_plus_one\n",
    "        "
   ]
  },
  {
   "cell_type": "markdown",
   "id": "81580c38-fbaa-4178-9695-b1159f27f2c6",
   "metadata": {},
   "source": [
    "You have accessed the docstrings of functions before by using the `help()`\n",
    "command. This is the process how those are written! lets take a look at the ways we can access docstrings of functions.\n",
    "\n",
    "**Remember that when calling the help command and you want the docstring of the function, to pass the `help()` function the name of your function,  without the parentheses!**"
   ]
  },
  {
   "cell_type": "code",
   "execution_count": null,
   "id": "e3d0e88c-51a8-4489-b0e4-a00359f1d256",
   "metadata": {},
   "outputs": [],
   "source": [
    "# 1.) By using the help() command.\n",
    "help(add_one)\n",
    "help(add_two)"
   ]
  },
  {
   "cell_type": "markdown",
   "id": "089b4be2-3523-4122-964d-69d70ac2afdb",
   "metadata": {},
   "source": [
    "### Why is this important?"
   ]
  },
  {
   "cell_type": "markdown",
   "id": "aedaa692-e314-4a11-b451-2a2c06888f7e",
   "metadata": {},
   "source": [
    "![](./images/why_to_the_sky.jpg)"
   ]
  },
  {
   "cell_type": "markdown",
   "id": "90ace8d0-c791-453d-807c-e16be4f9aff7",
   "metadata": {},
   "source": [
    "In Data Analytics and the Data Science fields... You will likely be performing repeat tasks, usually in cleaning and formatting data for analysis. Although not all analysts use Python, it is an incredibly powerful and versatile tool when undertaking any analysis. Its also a highly-demanded skill!\n",
    "\n",
    "It is typical for professionals in these fields to write functions they will use often in a python file. This file would have a `.py` extension and you would be able to use functions written in it just like you use those in the libraries you have used thus far. Those libraries are just `.py` files! This is how any library is written. You may share this file with collaborators or make it open-source (available to the public on a platform like github). In any case, when sharing code READABILITY and CLARITY are gold. thats why it is good to hold to the PEP 8 and PEP 257 conventions."
   ]
  },
  {
   "cell_type": "markdown",
   "id": "ba5083b3-0004-4836-9454-1499694e2ca2",
   "metadata": {},
   "source": [
    "## Additional Resources\n",
    "\n",
    "* [PEP Website](https://www.python.org/dev/peps/)\n",
    "* [PEP8 Page](https://www.python.org/dev/peps/pep-0008/)\n",
    "* [PEP257 Page](https://www.python.org/dev/peps/pep-0257/)\n",
    "* [Numpy Style Guide for Docstrings](https://numpydoc.readthedocs.io/en/latest/format.html)\n",
    "\n",
    "The above is a good resource on specifics about docstrings for functions that are concerned with computation.\n",
    "\n",
    "## Summary\n",
    "\n",
    "Today we introduced you to Python Enhancement Proposals (PEPs), documents for the Python community meant to describe new features or processes. Specifically, we discussed some of the contents of PEP8, the style guide for Python. Following these guidelines will lead to more readable code that can be shared with collaborators. With that, let's leave you with a poem of sorts: PEP20!\n",
    "\n",
    "PEP 20 -- The Zen of Python: "
   ]
  },
  {
   "cell_type": "code",
   "execution_count": null,
   "id": "2f7e655e-1b6f-4754-b39d-c07ded27c8c7",
   "metadata": {},
   "outputs": [],
   "source": [
    "import this"
   ]
  }
 ],
 "metadata": {
  "kernelspec": {
   "display_name": "Python 3",
   "language": "python",
   "name": "python3"
  },
  "language_info": {
   "codemirror_mode": {
    "name": "ipython",
    "version": 3
   },
   "file_extension": ".py",
   "mimetype": "text/x-python",
   "name": "python",
   "nbconvert_exporter": "python",
   "pygments_lexer": "ipython3",
   "version": "3.9.5"
  }
 },
 "nbformat": 4,
 "nbformat_minor": 5
}
