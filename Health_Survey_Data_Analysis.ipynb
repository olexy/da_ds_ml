{
  "cells": [
    {
      "cell_type": "markdown",
      "metadata": {
        "id": "BKoGIN2CG7eQ"
      },
      "source": [
        "# Health Survey Data Analysis\n",
        "Olalekan Hammed\n"
      ]
    },
    {
      "cell_type": "markdown",
      "metadata": {
        "id": "5RW5_FDRG7eT"
      },
      "source": [
        "## Executive Summary\n",
        "\n",
        "TODO: write an introduction using Markdown, explaining your high-level project goals and findings"
      ]
    },
    {
      "cell_type": "markdown",
      "metadata": {
        "id": "YhCYMlEnG7eU"
      },
      "source": [
        "## The Data\n",
        "\n",
        "TODO: write a summary of the data source as well as an explanation of the `PHYSHLTH` and `RENTHOM1` columns using Markdown"
      ]
    },
    {
      "cell_type": "code",
      "execution_count": null,
      "metadata": {
        "colab": {
          "base_uri": "https://localhost:8080/",
          "height": 297
        },
        "id": "jB5WPbW9G7eU",
        "outputId": "4d901eb1-8698-4ecf-8198-2f445b1e25af"
      },
      "outputs": [
        {
          "output_type": "execute_result",
          "data": {
            "text/plain": [
              "   _STATE  FMONTH     IDATE  IMONTH  IDAY  IYEAR  DISPCODE       SEQNO  \\\n",
              "0      36      11  11172020      11    17   2020      1200  2020000001   \n",
              "1      36       1   1182020       1    18   2020      1200  2020000002   \n",
              "2      36       4   5042020       5     4   2020      1200  2020000003   \n",
              "3      36       1   1222020       1    22   2020      1200  2020000004   \n",
              "4      36       3   3102020       3    10   2020      1200  2020000005   \n",
              "\n",
              "         _PSU  CTELENM1  ...  _RFPSA23  _CLNSCPY  _SGMSCPY  _SGMS10Y  \\\n",
              "0  2020000001       NaN  ...       NaN       NaN       NaN       NaN   \n",
              "1  2020000002       NaN  ...       NaN       NaN       NaN       NaN   \n",
              "2  2020000003       NaN  ...       NaN       NaN       NaN       NaN   \n",
              "3  2020000004       NaN  ...       NaN       NaN       NaN       NaN   \n",
              "4  2020000005       NaN  ...       NaN       NaN       NaN       NaN   \n",
              "\n",
              "   _RFBLDS4  _STOLDNA  _VIRCOLN  _SBONTIM  _CRCREC1  _AIDTST4  \n",
              "0       NaN       NaN       NaN       NaN       NaN       1.0  \n",
              "1       NaN       NaN       NaN       NaN       NaN       2.0  \n",
              "2       NaN       NaN       NaN       NaN       NaN       2.0  \n",
              "3       NaN       NaN       NaN       NaN       NaN       2.0  \n",
              "4       NaN       NaN       NaN       NaN       NaN       1.0  \n",
              "\n",
              "[5 rows x 279 columns]"
            ],
            "text/html": [
              "\n",
              "  <div id=\"df-c06284ef-272a-49ee-b6b5-6ccdebc85d27\">\n",
              "    <div class=\"colab-df-container\">\n",
              "      <div>\n",
              "<style scoped>\n",
              "    .dataframe tbody tr th:only-of-type {\n",
              "        vertical-align: middle;\n",
              "    }\n",
              "\n",
              "    .dataframe tbody tr th {\n",
              "        vertical-align: top;\n",
              "    }\n",
              "\n",
              "    .dataframe thead th {\n",
              "        text-align: right;\n",
              "    }\n",
              "</style>\n",
              "<table border=\"1\" class=\"dataframe\">\n",
              "  <thead>\n",
              "    <tr style=\"text-align: right;\">\n",
              "      <th></th>\n",
              "      <th>_STATE</th>\n",
              "      <th>FMONTH</th>\n",
              "      <th>IDATE</th>\n",
              "      <th>IMONTH</th>\n",
              "      <th>IDAY</th>\n",
              "      <th>IYEAR</th>\n",
              "      <th>DISPCODE</th>\n",
              "      <th>SEQNO</th>\n",
              "      <th>_PSU</th>\n",
              "      <th>CTELENM1</th>\n",
              "      <th>...</th>\n",
              "      <th>_RFPSA23</th>\n",
              "      <th>_CLNSCPY</th>\n",
              "      <th>_SGMSCPY</th>\n",
              "      <th>_SGMS10Y</th>\n",
              "      <th>_RFBLDS4</th>\n",
              "      <th>_STOLDNA</th>\n",
              "      <th>_VIRCOLN</th>\n",
              "      <th>_SBONTIM</th>\n",
              "      <th>_CRCREC1</th>\n",
              "      <th>_AIDTST4</th>\n",
              "    </tr>\n",
              "  </thead>\n",
              "  <tbody>\n",
              "    <tr>\n",
              "      <th>0</th>\n",
              "      <td>36</td>\n",
              "      <td>11</td>\n",
              "      <td>11172020</td>\n",
              "      <td>11</td>\n",
              "      <td>17</td>\n",
              "      <td>2020</td>\n",
              "      <td>1200</td>\n",
              "      <td>2020000001</td>\n",
              "      <td>2020000001</td>\n",
              "      <td>NaN</td>\n",
              "      <td>...</td>\n",
              "      <td>NaN</td>\n",
              "      <td>NaN</td>\n",
              "      <td>NaN</td>\n",
              "      <td>NaN</td>\n",
              "      <td>NaN</td>\n",
              "      <td>NaN</td>\n",
              "      <td>NaN</td>\n",
              "      <td>NaN</td>\n",
              "      <td>NaN</td>\n",
              "      <td>1.0</td>\n",
              "    </tr>\n",
              "    <tr>\n",
              "      <th>1</th>\n",
              "      <td>36</td>\n",
              "      <td>1</td>\n",
              "      <td>1182020</td>\n",
              "      <td>1</td>\n",
              "      <td>18</td>\n",
              "      <td>2020</td>\n",
              "      <td>1200</td>\n",
              "      <td>2020000002</td>\n",
              "      <td>2020000002</td>\n",
              "      <td>NaN</td>\n",
              "      <td>...</td>\n",
              "      <td>NaN</td>\n",
              "      <td>NaN</td>\n",
              "      <td>NaN</td>\n",
              "      <td>NaN</td>\n",
              "      <td>NaN</td>\n",
              "      <td>NaN</td>\n",
              "      <td>NaN</td>\n",
              "      <td>NaN</td>\n",
              "      <td>NaN</td>\n",
              "      <td>2.0</td>\n",
              "    </tr>\n",
              "    <tr>\n",
              "      <th>2</th>\n",
              "      <td>36</td>\n",
              "      <td>4</td>\n",
              "      <td>5042020</td>\n",
              "      <td>5</td>\n",
              "      <td>4</td>\n",
              "      <td>2020</td>\n",
              "      <td>1200</td>\n",
              "      <td>2020000003</td>\n",
              "      <td>2020000003</td>\n",
              "      <td>NaN</td>\n",
              "      <td>...</td>\n",
              "      <td>NaN</td>\n",
              "      <td>NaN</td>\n",
              "      <td>NaN</td>\n",
              "      <td>NaN</td>\n",
              "      <td>NaN</td>\n",
              "      <td>NaN</td>\n",
              "      <td>NaN</td>\n",
              "      <td>NaN</td>\n",
              "      <td>NaN</td>\n",
              "      <td>2.0</td>\n",
              "    </tr>\n",
              "    <tr>\n",
              "      <th>3</th>\n",
              "      <td>36</td>\n",
              "      <td>1</td>\n",
              "      <td>1222020</td>\n",
              "      <td>1</td>\n",
              "      <td>22</td>\n",
              "      <td>2020</td>\n",
              "      <td>1200</td>\n",
              "      <td>2020000004</td>\n",
              "      <td>2020000004</td>\n",
              "      <td>NaN</td>\n",
              "      <td>...</td>\n",
              "      <td>NaN</td>\n",
              "      <td>NaN</td>\n",
              "      <td>NaN</td>\n",
              "      <td>NaN</td>\n",
              "      <td>NaN</td>\n",
              "      <td>NaN</td>\n",
              "      <td>NaN</td>\n",
              "      <td>NaN</td>\n",
              "      <td>NaN</td>\n",
              "      <td>2.0</td>\n",
              "    </tr>\n",
              "    <tr>\n",
              "      <th>4</th>\n",
              "      <td>36</td>\n",
              "      <td>3</td>\n",
              "      <td>3102020</td>\n",
              "      <td>3</td>\n",
              "      <td>10</td>\n",
              "      <td>2020</td>\n",
              "      <td>1200</td>\n",
              "      <td>2020000005</td>\n",
              "      <td>2020000005</td>\n",
              "      <td>NaN</td>\n",
              "      <td>...</td>\n",
              "      <td>NaN</td>\n",
              "      <td>NaN</td>\n",
              "      <td>NaN</td>\n",
              "      <td>NaN</td>\n",
              "      <td>NaN</td>\n",
              "      <td>NaN</td>\n",
              "      <td>NaN</td>\n",
              "      <td>NaN</td>\n",
              "      <td>NaN</td>\n",
              "      <td>1.0</td>\n",
              "    </tr>\n",
              "  </tbody>\n",
              "</table>\n",
              "<p>5 rows × 279 columns</p>\n",
              "</div>\n",
              "      <button class=\"colab-df-convert\" onclick=\"convertToInteractive('df-c06284ef-272a-49ee-b6b5-6ccdebc85d27')\"\n",
              "              title=\"Convert this dataframe to an interactive table.\"\n",
              "              style=\"display:none;\">\n",
              "        \n",
              "  <svg xmlns=\"http://www.w3.org/2000/svg\" height=\"24px\"viewBox=\"0 0 24 24\"\n",
              "       width=\"24px\">\n",
              "    <path d=\"M0 0h24v24H0V0z\" fill=\"none\"/>\n",
              "    <path d=\"M18.56 5.44l.94 2.06.94-2.06 2.06-.94-2.06-.94-.94-2.06-.94 2.06-2.06.94zm-11 1L8.5 8.5l.94-2.06 2.06-.94-2.06-.94L8.5 2.5l-.94 2.06-2.06.94zm10 10l.94 2.06.94-2.06 2.06-.94-2.06-.94-.94-2.06-.94 2.06-2.06.94z\"/><path d=\"M17.41 7.96l-1.37-1.37c-.4-.4-.92-.59-1.43-.59-.52 0-1.04.2-1.43.59L10.3 9.45l-7.72 7.72c-.78.78-.78 2.05 0 2.83L4 21.41c.39.39.9.59 1.41.59.51 0 1.02-.2 1.41-.59l7.78-7.78 2.81-2.81c.8-.78.8-2.07 0-2.86zM5.41 20L4 18.59l7.72-7.72 1.47 1.35L5.41 20z\"/>\n",
              "  </svg>\n",
              "      </button>\n",
              "      \n",
              "  <style>\n",
              "    .colab-df-container {\n",
              "      display:flex;\n",
              "      flex-wrap:wrap;\n",
              "      gap: 12px;\n",
              "    }\n",
              "\n",
              "    .colab-df-convert {\n",
              "      background-color: #E8F0FE;\n",
              "      border: none;\n",
              "      border-radius: 50%;\n",
              "      cursor: pointer;\n",
              "      display: none;\n",
              "      fill: #1967D2;\n",
              "      height: 32px;\n",
              "      padding: 0 0 0 0;\n",
              "      width: 32px;\n",
              "    }\n",
              "\n",
              "    .colab-df-convert:hover {\n",
              "      background-color: #E2EBFA;\n",
              "      box-shadow: 0px 1px 2px rgba(60, 64, 67, 0.3), 0px 1px 3px 1px rgba(60, 64, 67, 0.15);\n",
              "      fill: #174EA6;\n",
              "    }\n",
              "\n",
              "    [theme=dark] .colab-df-convert {\n",
              "      background-color: #3B4455;\n",
              "      fill: #D2E3FC;\n",
              "    }\n",
              "\n",
              "    [theme=dark] .colab-df-convert:hover {\n",
              "      background-color: #434B5C;\n",
              "      box-shadow: 0px 1px 3px 1px rgba(0, 0, 0, 0.15);\n",
              "      filter: drop-shadow(0px 1px 2px rgba(0, 0, 0, 0.3));\n",
              "      fill: #FFFFFF;\n",
              "    }\n",
              "  </style>\n",
              "\n",
              "      <script>\n",
              "        const buttonEl =\n",
              "          document.querySelector('#df-c06284ef-272a-49ee-b6b5-6ccdebc85d27 button.colab-df-convert');\n",
              "        buttonEl.style.display =\n",
              "          google.colab.kernel.accessAllowed ? 'block' : 'none';\n",
              "\n",
              "        async function convertToInteractive(key) {\n",
              "          const element = document.querySelector('#df-c06284ef-272a-49ee-b6b5-6ccdebc85d27');\n",
              "          const dataTable =\n",
              "            await google.colab.kernel.invokeFunction('convertToInteractive',\n",
              "                                                     [key], {});\n",
              "          if (!dataTable) return;\n",
              "\n",
              "          const docLinkHtml = 'Like what you see? Visit the ' +\n",
              "            '<a target=\"_blank\" href=https://colab.research.google.com/notebooks/data_table.ipynb>data table notebook</a>'\n",
              "            + ' to learn more about interactive tables.';\n",
              "          element.innerHTML = '';\n",
              "          dataTable['output_type'] = 'display_data';\n",
              "          await google.colab.output.renderOutput(dataTable, element);\n",
              "          const docLink = document.createElement('div');\n",
              "          docLink.innerHTML = docLinkHtml;\n",
              "          element.appendChild(docLink);\n",
              "        }\n",
              "      </script>\n",
              "    </div>\n",
              "  </div>\n",
              "  "
            ]
          },
          "metadata": {},
          "execution_count": 9
        }
      ],
      "source": [
        "import matplotlib.pyplot as plt\n",
        "import numpy as np\n",
        "import pandas as pd\n",
        "import scipy.stats as stats\n",
        "\n",
        "\n",
        "file_path = \"https://raw.githubusercontent.com/learn-co-curriculum/da-phase3-project-enterprise/main/brfss_ny.csv\"\n",
        "df = pd.read_csv(file_path)\n",
        "df.head()"
      ]
    },
    {
      "cell_type": "markdown",
      "metadata": {
        "id": "dWIdwPq9G7eV"
      },
      "source": [
        "## Data Preparation\n",
        "\n",
        "TODO: write an explanation of the data preparation/cleaning steps you are about to perform using Markdown"
      ]
    },
    {
      "cell_type": "code",
      "execution_count": 53,
      "metadata": {
        "colab": {
          "base_uri": "https://localhost:8080/",
          "height": 206
        },
        "id": "aI_PUj3kG7eW",
        "outputId": "4c871242-04a8-403f-b878-840c4fdd6d0c"
      },
      "outputs": [
        {
          "output_type": "execute_result",
          "data": {
            "text/plain": [
              "   PHYSHLTH  RENTHOM1\n",
              "0      88.0       2.0\n",
              "1      14.0       1.0\n",
              "2      88.0       2.0\n",
              "3       5.0       3.0\n",
              "4      88.0       2.0"
            ],
            "text/html": [
              "\n",
              "  <div id=\"df-fe1b9aae-a158-41e4-8d4f-6ffeeac663b6\">\n",
              "    <div class=\"colab-df-container\">\n",
              "      <div>\n",
              "<style scoped>\n",
              "    .dataframe tbody tr th:only-of-type {\n",
              "        vertical-align: middle;\n",
              "    }\n",
              "\n",
              "    .dataframe tbody tr th {\n",
              "        vertical-align: top;\n",
              "    }\n",
              "\n",
              "    .dataframe thead th {\n",
              "        text-align: right;\n",
              "    }\n",
              "</style>\n",
              "<table border=\"1\" class=\"dataframe\">\n",
              "  <thead>\n",
              "    <tr style=\"text-align: right;\">\n",
              "      <th></th>\n",
              "      <th>PHYSHLTH</th>\n",
              "      <th>RENTHOM1</th>\n",
              "    </tr>\n",
              "  </thead>\n",
              "  <tbody>\n",
              "    <tr>\n",
              "      <th>0</th>\n",
              "      <td>88.0</td>\n",
              "      <td>2.0</td>\n",
              "    </tr>\n",
              "    <tr>\n",
              "      <th>1</th>\n",
              "      <td>14.0</td>\n",
              "      <td>1.0</td>\n",
              "    </tr>\n",
              "    <tr>\n",
              "      <th>2</th>\n",
              "      <td>88.0</td>\n",
              "      <td>2.0</td>\n",
              "    </tr>\n",
              "    <tr>\n",
              "      <th>3</th>\n",
              "      <td>5.0</td>\n",
              "      <td>3.0</td>\n",
              "    </tr>\n",
              "    <tr>\n",
              "      <th>4</th>\n",
              "      <td>88.0</td>\n",
              "      <td>2.0</td>\n",
              "    </tr>\n",
              "  </tbody>\n",
              "</table>\n",
              "</div>\n",
              "      <button class=\"colab-df-convert\" onclick=\"convertToInteractive('df-fe1b9aae-a158-41e4-8d4f-6ffeeac663b6')\"\n",
              "              title=\"Convert this dataframe to an interactive table.\"\n",
              "              style=\"display:none;\">\n",
              "        \n",
              "  <svg xmlns=\"http://www.w3.org/2000/svg\" height=\"24px\"viewBox=\"0 0 24 24\"\n",
              "       width=\"24px\">\n",
              "    <path d=\"M0 0h24v24H0V0z\" fill=\"none\"/>\n",
              "    <path d=\"M18.56 5.44l.94 2.06.94-2.06 2.06-.94-2.06-.94-.94-2.06-.94 2.06-2.06.94zm-11 1L8.5 8.5l.94-2.06 2.06-.94-2.06-.94L8.5 2.5l-.94 2.06-2.06.94zm10 10l.94 2.06.94-2.06 2.06-.94-2.06-.94-.94-2.06-.94 2.06-2.06.94z\"/><path d=\"M17.41 7.96l-1.37-1.37c-.4-.4-.92-.59-1.43-.59-.52 0-1.04.2-1.43.59L10.3 9.45l-7.72 7.72c-.78.78-.78 2.05 0 2.83L4 21.41c.39.39.9.59 1.41.59.51 0 1.02-.2 1.41-.59l7.78-7.78 2.81-2.81c.8-.78.8-2.07 0-2.86zM5.41 20L4 18.59l7.72-7.72 1.47 1.35L5.41 20z\"/>\n",
              "  </svg>\n",
              "      </button>\n",
              "      \n",
              "  <style>\n",
              "    .colab-df-container {\n",
              "      display:flex;\n",
              "      flex-wrap:wrap;\n",
              "      gap: 12px;\n",
              "    }\n",
              "\n",
              "    .colab-df-convert {\n",
              "      background-color: #E8F0FE;\n",
              "      border: none;\n",
              "      border-radius: 50%;\n",
              "      cursor: pointer;\n",
              "      display: none;\n",
              "      fill: #1967D2;\n",
              "      height: 32px;\n",
              "      padding: 0 0 0 0;\n",
              "      width: 32px;\n",
              "    }\n",
              "\n",
              "    .colab-df-convert:hover {\n",
              "      background-color: #E2EBFA;\n",
              "      box-shadow: 0px 1px 2px rgba(60, 64, 67, 0.3), 0px 1px 3px 1px rgba(60, 64, 67, 0.15);\n",
              "      fill: #174EA6;\n",
              "    }\n",
              "\n",
              "    [theme=dark] .colab-df-convert {\n",
              "      background-color: #3B4455;\n",
              "      fill: #D2E3FC;\n",
              "    }\n",
              "\n",
              "    [theme=dark] .colab-df-convert:hover {\n",
              "      background-color: #434B5C;\n",
              "      box-shadow: 0px 1px 3px 1px rgba(0, 0, 0, 0.15);\n",
              "      filter: drop-shadow(0px 1px 2px rgba(0, 0, 0, 0.3));\n",
              "      fill: #FFFFFF;\n",
              "    }\n",
              "  </style>\n",
              "\n",
              "      <script>\n",
              "        const buttonEl =\n",
              "          document.querySelector('#df-fe1b9aae-a158-41e4-8d4f-6ffeeac663b6 button.colab-df-convert');\n",
              "        buttonEl.style.display =\n",
              "          google.colab.kernel.accessAllowed ? 'block' : 'none';\n",
              "\n",
              "        async function convertToInteractive(key) {\n",
              "          const element = document.querySelector('#df-fe1b9aae-a158-41e4-8d4f-6ffeeac663b6');\n",
              "          const dataTable =\n",
              "            await google.colab.kernel.invokeFunction('convertToInteractive',\n",
              "                                                     [key], {});\n",
              "          if (!dataTable) return;\n",
              "\n",
              "          const docLinkHtml = 'Like what you see? Visit the ' +\n",
              "            '<a target=\"_blank\" href=https://colab.research.google.com/notebooks/data_table.ipynb>data table notebook</a>'\n",
              "            + ' to learn more about interactive tables.';\n",
              "          element.innerHTML = '';\n",
              "          dataTable['output_type'] = 'display_data';\n",
              "          await google.colab.output.renderOutput(dataTable, element);\n",
              "          const docLink = document.createElement('div');\n",
              "          docLink.innerHTML = docLinkHtml;\n",
              "          element.appendChild(docLink);\n",
              "        }\n",
              "      </script>\n",
              "    </div>\n",
              "  </div>\n",
              "  "
            ]
          },
          "metadata": {},
          "execution_count": 53
        }
      ],
      "source": [
        "# Extract PHYSHLTH into a dafa frame\n",
        "df_phrh = df[['PHYSHLTH','RENTHOM1']]\n",
        "df_phrh.head()"
      ]
    },
    {
      "cell_type": "code",
      "source": [
        "#get unique values\n",
        "print(\"PHYSHLTH unique values\")\n",
        "print(df_phrh.PHYSHLTH.unique())\n",
        "print(\"RENTHOM1 unique values\")\n",
        "print(df_phrh.RENTHOM1.unique())"
      ],
      "metadata": {
        "colab": {
          "base_uri": "https://localhost:8080/"
        },
        "id": "L8SnPo6864k2",
        "outputId": "32b94a71-9b36-4fc5-edf5-8d14bda111c1"
      },
      "execution_count": 56,
      "outputs": [
        {
          "output_type": "stream",
          "name": "stdout",
          "text": [
            "PHYSHLTH unique values\n",
            "[88. 14.  2.  3. 10. 30.  5. 99. 20.  1.  7. 15. 77. 25.  8.  4.  6. 29.\n",
            "  9. 21. 28. 18. 24. 17. 12. 13. 16. 27. 26. 23. 19. 11. 22.]\n",
            "RENTHOM1 unique values\n",
            "[2. 1.]\n"
          ]
        }
      ]
    },
    {
      "cell_type": "code",
      "source": [
        "#dropping records with values of RENTHOM1 other than 1 or 2.\n",
        "#df_phrh_rhcln = df_phrh[df_phrh['RENTHOM1'] > 2]\n",
        "df_phrh.drop(df_phrh.index[df_phrh['RENTHOM1'] > 2], inplace=True)\n",
        "print(df_phrh)"
      ],
      "metadata": {
        "colab": {
          "base_uri": "https://localhost:8080/"
        },
        "id": "jAKcqs-C79vF",
        "outputId": "aacedccc-0eb9-4369-94dc-9ca6d431e555"
      },
      "execution_count": 57,
      "outputs": [
        {
          "output_type": "stream",
          "name": "stdout",
          "text": [
            "       PHYSHLTH  RENTHOM1\n",
            "0          88.0       2.0\n",
            "1          14.0       1.0\n",
            "2          88.0       2.0\n",
            "4          88.0       2.0\n",
            "5           2.0       2.0\n",
            "...         ...       ...\n",
            "14763      88.0       2.0\n",
            "14764      88.0       2.0\n",
            "14765      88.0       2.0\n",
            "14766       2.0       2.0\n",
            "14767      88.0       2.0\n",
            "\n",
            "[13957 rows x 2 columns]\n"
          ]
        },
        {
          "output_type": "stream",
          "name": "stderr",
          "text": [
            "/usr/local/lib/python3.7/dist-packages/pandas/core/frame.py:4913: SettingWithCopyWarning: \n",
            "A value is trying to be set on a copy of a slice from a DataFrame\n",
            "\n",
            "See the caveats in the documentation: https://pandas.pydata.org/pandas-docs/stable/user_guide/indexing.html#returning-a-view-versus-a-copy\n",
            "  errors=errors,\n"
          ]
        }
      ]
    },
    {
      "cell_type": "code",
      "source": [
        "#check RENTHOM1 unique values\n",
        "print(df_phrh.RENTHOM1.unique())"
      ],
      "metadata": {
        "colab": {
          "base_uri": "https://localhost:8080/"
        },
        "id": "DJIlAHd--PB-",
        "outputId": "cd75db71-355a-492b-f15b-303405bba559"
      },
      "execution_count": 58,
      "outputs": [
        {
          "output_type": "stream",
          "name": "stdout",
          "text": [
            "[2. 1.]\n"
          ]
        }
      ]
    },
    {
      "cell_type": "code",
      "source": [
        "# Dropping records with 77, 99 in PHYSHLTH column\n",
        "df_phrh.drop(df_phrh.index[(df_phrh['PHYSHLTH'] == 77 ) | (df_phrh['PHYSHLTH'] == 99)], inplace=True)\n",
        "print(df_phrh)"
      ],
      "metadata": {
        "id": "1_ERJbw-YYrX",
        "colab": {
          "base_uri": "https://localhost:8080/"
        },
        "outputId": "23c4f15d-5422-4b72-dc3f-11a6235cbe0a"
      },
      "execution_count": 59,
      "outputs": [
        {
          "output_type": "stream",
          "name": "stdout",
          "text": [
            "       PHYSHLTH  RENTHOM1\n",
            "0          88.0       2.0\n",
            "1          14.0       1.0\n",
            "2          88.0       2.0\n",
            "4          88.0       2.0\n",
            "5           2.0       2.0\n",
            "...         ...       ...\n",
            "14763      88.0       2.0\n",
            "14764      88.0       2.0\n",
            "14765      88.0       2.0\n",
            "14766       2.0       2.0\n",
            "14767      88.0       2.0\n",
            "\n",
            "[13659 rows x 2 columns]\n"
          ]
        },
        {
          "output_type": "stream",
          "name": "stderr",
          "text": [
            "/usr/local/lib/python3.7/dist-packages/pandas/core/frame.py:4913: SettingWithCopyWarning: \n",
            "A value is trying to be set on a copy of a slice from a DataFrame\n",
            "\n",
            "See the caveats in the documentation: https://pandas.pydata.org/pandas-docs/stable/user_guide/indexing.html#returning-a-view-versus-a-copy\n",
            "  errors=errors,\n"
          ]
        }
      ]
    },
    {
      "cell_type": "code",
      "source": [
        "#check PHYSHLTH unique values\n",
        "print(df_phrh.PHYSHLTH.unique())"
      ],
      "metadata": {
        "colab": {
          "base_uri": "https://localhost:8080/"
        },
        "id": "IxvdGGCyAZMV",
        "outputId": "fdb3d3d1-7cf9-4d76-cebf-813c3ee66bf9"
      },
      "execution_count": 60,
      "outputs": [
        {
          "output_type": "stream",
          "name": "stdout",
          "text": [
            "[88. 14.  2.  3. 10. 30.  5. 20.  1.  7. 15. 25.  8.  4.  6. 29.  9. 21.\n",
            " 28. 18. 24. 17. 12. 13. 16. 27. 26. 23. 19. 11. 22.]\n"
          ]
        }
      ]
    },
    {
      "cell_type": "code",
      "source": [
        "# Converting all instances of 88 to 0\n",
        "df_phrh[\"PHYSHLTH\"].replace({88: 0}, inplace=True)\n",
        "print(df_phrh)"
      ],
      "metadata": {
        "colab": {
          "base_uri": "https://localhost:8080/"
        },
        "id": "m-5WNe-PApHK",
        "outputId": "d778979b-07da-4def-9748-a003a862573e"
      },
      "execution_count": 61,
      "outputs": [
        {
          "output_type": "stream",
          "name": "stdout",
          "text": [
            "       PHYSHLTH  RENTHOM1\n",
            "0           0.0       2.0\n",
            "1          14.0       1.0\n",
            "2           0.0       2.0\n",
            "4           0.0       2.0\n",
            "5           2.0       2.0\n",
            "...         ...       ...\n",
            "14763       0.0       2.0\n",
            "14764       0.0       2.0\n",
            "14765       0.0       2.0\n",
            "14766       2.0       2.0\n",
            "14767       0.0       2.0\n",
            "\n",
            "[13659 rows x 2 columns]\n"
          ]
        },
        {
          "output_type": "stream",
          "name": "stderr",
          "text": [
            "/usr/local/lib/python3.7/dist-packages/pandas/core/generic.py:6619: SettingWithCopyWarning: \n",
            "A value is trying to be set on a copy of a slice from a DataFrame\n",
            "\n",
            "See the caveats in the documentation: https://pandas.pydata.org/pandas-docs/stable/user_guide/indexing.html#returning-a-view-versus-a-copy\n",
            "  return self._update_inplace(result)\n"
          ]
        }
      ]
    },
    {
      "cell_type": "code",
      "source": [
        "#check PHYSHLTH unique values\n",
        "print(df_phrh.PHYSHLTH.unique())"
      ],
      "metadata": {
        "colab": {
          "base_uri": "https://localhost:8080/"
        },
        "id": "e5YsrTHrBN1q",
        "outputId": "000429d0-3a8b-492f-a136-a1a926facb3a"
      },
      "execution_count": 62,
      "outputs": [
        {
          "output_type": "stream",
          "name": "stdout",
          "text": [
            "[ 0. 14.  2.  3. 10. 30.  5. 20.  1.  7. 15. 25.  8.  4.  6. 29.  9. 21.\n",
            " 28. 18. 24. 17. 12. 13. 16. 27. 26. 23. 19. 11. 22.]\n"
          ]
        }
      ]
    },
    {
      "cell_type": "code",
      "execution_count": null,
      "metadata": {
        "id": "eh63iI5VG7eW"
      },
      "outputs": [],
      "source": [
        "# TODO: write code to prepare the RENTHOM1 column"
      ]
    },
    {
      "cell_type": "markdown",
      "metadata": {
        "id": "XU7TKtFiG7eW"
      },
      "source": [
        "## Confidence Interval for Mean of `PHYSHLTH`"
      ]
    },
    {
      "cell_type": "code",
      "execution_count": null,
      "metadata": {
        "id": "2AlvMCW7G7eW"
      },
      "outputs": [],
      "source": [
        "# TODO: write code to calculate a 95% confidence interval about\n",
        "# the mean of PHYSHLTH"
      ]
    },
    {
      "cell_type": "markdown",
      "metadata": {
        "id": "I7rNiD58G7eX"
      },
      "source": [
        "TODO: interpret the confidence interval you calculated using Markdown"
      ]
    },
    {
      "cell_type": "markdown",
      "metadata": {
        "id": "x0aQpN_rG7eX"
      },
      "source": [
        "## Differences in `PHYSHLTH` Based on `RENTHOM1`\n",
        "\n",
        "### How Does `PHYSHLTH` Differ Based on `RENTHOM1`?\n",
        "\n",
        "TODO: write an explanation of what it means to split the data based on `RENTHOM1` in Markdown"
      ]
    },
    {
      "cell_type": "code",
      "execution_count": null,
      "metadata": {
        "id": "SJdHtTc-G7eX"
      },
      "outputs": [],
      "source": [
        "# TODO: write code to separate the records based on the value of RENTHOM1"
      ]
    },
    {
      "cell_type": "code",
      "execution_count": null,
      "metadata": {
        "id": "CHOBOcecG7eX"
      },
      "outputs": [],
      "source": [
        "# TODO: write code to produce one or more plots that show the value of\n",
        "# PHYSHLTH based on the value of RENTHOM1"
      ]
    },
    {
      "cell_type": "markdown",
      "metadata": {
        "id": "ukj91m8VG7eY"
      },
      "source": [
        "TODO: write an explanation of the plot(s) above using Markdown"
      ]
    },
    {
      "cell_type": "markdown",
      "metadata": {
        "id": "E4XTnW5kG7eY"
      },
      "source": [
        "### Is the Difference Statistically Significant?\n",
        "\n",
        "TODO: describe the null and alternative hypotheses in Markdown, including whether this is a one-tailed or two-tailed test"
      ]
    },
    {
      "cell_type": "code",
      "execution_count": null,
      "metadata": {
        "id": "d_-9bTnFG7eY"
      },
      "outputs": [],
      "source": [
        "# TODO: write code to calculate the test statistic and p-value for a t-test"
      ]
    },
    {
      "cell_type": "markdown",
      "metadata": {
        "id": "UHbySTV2G7eZ"
      },
      "source": [
        "TODO: interpret the result of the above statistical test using Markdown. Can we reject the null hypothesis at an alpha of 0.05?"
      ]
    },
    {
      "cell_type": "markdown",
      "metadata": {
        "id": "uQUilUd_G7eZ"
      },
      "source": [
        "## Next Steps\n",
        "\n",
        "TODO: describe what feature from the CDC codebook that you would propose investigating next, using Markdown"
      ]
    }
  ],
  "metadata": {
    "kernelspec": {
      "display_name": "Python 3",
      "language": "python",
      "name": "python3"
    },
    "language_info": {
      "codemirror_mode": {
        "name": "ipython",
        "version": 3
      },
      "file_extension": ".py",
      "mimetype": "text/x-python",
      "name": "python",
      "nbconvert_exporter": "python",
      "pygments_lexer": "ipython3",
      "version": "3.9.5"
    },
    "colab": {
      "name": "Health Survey Data Analysis.ipynb",
      "provenance": [],
      "collapsed_sections": []
    }
  },
  "nbformat": 4,
  "nbformat_minor": 0
}