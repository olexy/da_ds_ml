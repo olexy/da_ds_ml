{
  "cells": [
    {
      "cell_type": "markdown",
      "metadata": {
        "id": "BKoGIN2CG7eQ"
      },
      "source": [
        "# Health Survey Data Analysis\n",
        "Olalekan Hammed\n"
      ]
    },
    {
      "cell_type": "markdown",
      "metadata": {
        "id": "5RW5_FDRG7eT"
      },
      "source": [
        "## Executive Summary\n",
        "\n",
        "TODO: write an introduction using Markdown, explaining your high-level project goals and findings"
      ]
    },
    {
      "cell_type": "markdown",
      "metadata": {
        "id": "YhCYMlEnG7eU"
      },
      "source": [
        "## The Data\n",
        "\n",
        "TODO: write a summary of the data source as well as an explanation of the `PHYSHLTH` and `RENTHOM1` columns using Markdown"
      ]
    },
    {
      "cell_type": "code",
      "execution_count": 28,
      "metadata": {
        "colab": {
          "base_uri": "https://localhost:8080/",
          "height": 300
        },
        "id": "jB5WPbW9G7eU",
        "outputId": "9e558204-e237-4668-ba89-0c88cd93ffde"
      },
      "outputs": [
        {
          "output_type": "execute_result",
          "data": {
            "text/plain": [
              "   _STATE  FMONTH     IDATE  IMONTH  IDAY  IYEAR  DISPCODE       SEQNO  \\\n",
              "0      36      11  11172020      11    17   2020      1200  2020000001   \n",
              "1      36       1   1182020       1    18   2020      1200  2020000002   \n",
              "2      36       4   5042020       5     4   2020      1200  2020000003   \n",
              "3      36       1   1222020       1    22   2020      1200  2020000004   \n",
              "4      36       3   3102020       3    10   2020      1200  2020000005   \n",
              "\n",
              "         _PSU  CTELENM1  ...  _RFPSA23  _CLNSCPY  _SGMSCPY  _SGMS10Y  \\\n",
              "0  2020000001       NaN  ...       NaN       NaN       NaN       NaN   \n",
              "1  2020000002       NaN  ...       NaN       NaN       NaN       NaN   \n",
              "2  2020000003       NaN  ...       NaN       NaN       NaN       NaN   \n",
              "3  2020000004       NaN  ...       NaN       NaN       NaN       NaN   \n",
              "4  2020000005       NaN  ...       NaN       NaN       NaN       NaN   \n",
              "\n",
              "   _RFBLDS4  _STOLDNA  _VIRCOLN  _SBONTIM  _CRCREC1  _AIDTST4  \n",
              "0       NaN       NaN       NaN       NaN       NaN       1.0  \n",
              "1       NaN       NaN       NaN       NaN       NaN       2.0  \n",
              "2       NaN       NaN       NaN       NaN       NaN       2.0  \n",
              "3       NaN       NaN       NaN       NaN       NaN       2.0  \n",
              "4       NaN       NaN       NaN       NaN       NaN       1.0  \n",
              "\n",
              "[5 rows x 279 columns]"
            ],
            "text/html": [
              "\n",
              "  <div id=\"df-153c436d-d42a-4132-8879-c81a570914ed\">\n",
              "    <div class=\"colab-df-container\">\n",
              "      <div>\n",
              "<style scoped>\n",
              "    .dataframe tbody tr th:only-of-type {\n",
              "        vertical-align: middle;\n",
              "    }\n",
              "\n",
              "    .dataframe tbody tr th {\n",
              "        vertical-align: top;\n",
              "    }\n",
              "\n",
              "    .dataframe thead th {\n",
              "        text-align: right;\n",
              "    }\n",
              "</style>\n",
              "<table border=\"1\" class=\"dataframe\">\n",
              "  <thead>\n",
              "    <tr style=\"text-align: right;\">\n",
              "      <th></th>\n",
              "      <th>_STATE</th>\n",
              "      <th>FMONTH</th>\n",
              "      <th>IDATE</th>\n",
              "      <th>IMONTH</th>\n",
              "      <th>IDAY</th>\n",
              "      <th>IYEAR</th>\n",
              "      <th>DISPCODE</th>\n",
              "      <th>SEQNO</th>\n",
              "      <th>_PSU</th>\n",
              "      <th>CTELENM1</th>\n",
              "      <th>...</th>\n",
              "      <th>_RFPSA23</th>\n",
              "      <th>_CLNSCPY</th>\n",
              "      <th>_SGMSCPY</th>\n",
              "      <th>_SGMS10Y</th>\n",
              "      <th>_RFBLDS4</th>\n",
              "      <th>_STOLDNA</th>\n",
              "      <th>_VIRCOLN</th>\n",
              "      <th>_SBONTIM</th>\n",
              "      <th>_CRCREC1</th>\n",
              "      <th>_AIDTST4</th>\n",
              "    </tr>\n",
              "  </thead>\n",
              "  <tbody>\n",
              "    <tr>\n",
              "      <th>0</th>\n",
              "      <td>36</td>\n",
              "      <td>11</td>\n",
              "      <td>11172020</td>\n",
              "      <td>11</td>\n",
              "      <td>17</td>\n",
              "      <td>2020</td>\n",
              "      <td>1200</td>\n",
              "      <td>2020000001</td>\n",
              "      <td>2020000001</td>\n",
              "      <td>NaN</td>\n",
              "      <td>...</td>\n",
              "      <td>NaN</td>\n",
              "      <td>NaN</td>\n",
              "      <td>NaN</td>\n",
              "      <td>NaN</td>\n",
              "      <td>NaN</td>\n",
              "      <td>NaN</td>\n",
              "      <td>NaN</td>\n",
              "      <td>NaN</td>\n",
              "      <td>NaN</td>\n",
              "      <td>1.0</td>\n",
              "    </tr>\n",
              "    <tr>\n",
              "      <th>1</th>\n",
              "      <td>36</td>\n",
              "      <td>1</td>\n",
              "      <td>1182020</td>\n",
              "      <td>1</td>\n",
              "      <td>18</td>\n",
              "      <td>2020</td>\n",
              "      <td>1200</td>\n",
              "      <td>2020000002</td>\n",
              "      <td>2020000002</td>\n",
              "      <td>NaN</td>\n",
              "      <td>...</td>\n",
              "      <td>NaN</td>\n",
              "      <td>NaN</td>\n",
              "      <td>NaN</td>\n",
              "      <td>NaN</td>\n",
              "      <td>NaN</td>\n",
              "      <td>NaN</td>\n",
              "      <td>NaN</td>\n",
              "      <td>NaN</td>\n",
              "      <td>NaN</td>\n",
              "      <td>2.0</td>\n",
              "    </tr>\n",
              "    <tr>\n",
              "      <th>2</th>\n",
              "      <td>36</td>\n",
              "      <td>4</td>\n",
              "      <td>5042020</td>\n",
              "      <td>5</td>\n",
              "      <td>4</td>\n",
              "      <td>2020</td>\n",
              "      <td>1200</td>\n",
              "      <td>2020000003</td>\n",
              "      <td>2020000003</td>\n",
              "      <td>NaN</td>\n",
              "      <td>...</td>\n",
              "      <td>NaN</td>\n",
              "      <td>NaN</td>\n",
              "      <td>NaN</td>\n",
              "      <td>NaN</td>\n",
              "      <td>NaN</td>\n",
              "      <td>NaN</td>\n",
              "      <td>NaN</td>\n",
              "      <td>NaN</td>\n",
              "      <td>NaN</td>\n",
              "      <td>2.0</td>\n",
              "    </tr>\n",
              "    <tr>\n",
              "      <th>3</th>\n",
              "      <td>36</td>\n",
              "      <td>1</td>\n",
              "      <td>1222020</td>\n",
              "      <td>1</td>\n",
              "      <td>22</td>\n",
              "      <td>2020</td>\n",
              "      <td>1200</td>\n",
              "      <td>2020000004</td>\n",
              "      <td>2020000004</td>\n",
              "      <td>NaN</td>\n",
              "      <td>...</td>\n",
              "      <td>NaN</td>\n",
              "      <td>NaN</td>\n",
              "      <td>NaN</td>\n",
              "      <td>NaN</td>\n",
              "      <td>NaN</td>\n",
              "      <td>NaN</td>\n",
              "      <td>NaN</td>\n",
              "      <td>NaN</td>\n",
              "      <td>NaN</td>\n",
              "      <td>2.0</td>\n",
              "    </tr>\n",
              "    <tr>\n",
              "      <th>4</th>\n",
              "      <td>36</td>\n",
              "      <td>3</td>\n",
              "      <td>3102020</td>\n",
              "      <td>3</td>\n",
              "      <td>10</td>\n",
              "      <td>2020</td>\n",
              "      <td>1200</td>\n",
              "      <td>2020000005</td>\n",
              "      <td>2020000005</td>\n",
              "      <td>NaN</td>\n",
              "      <td>...</td>\n",
              "      <td>NaN</td>\n",
              "      <td>NaN</td>\n",
              "      <td>NaN</td>\n",
              "      <td>NaN</td>\n",
              "      <td>NaN</td>\n",
              "      <td>NaN</td>\n",
              "      <td>NaN</td>\n",
              "      <td>NaN</td>\n",
              "      <td>NaN</td>\n",
              "      <td>1.0</td>\n",
              "    </tr>\n",
              "  </tbody>\n",
              "</table>\n",
              "<p>5 rows × 279 columns</p>\n",
              "</div>\n",
              "      <button class=\"colab-df-convert\" onclick=\"convertToInteractive('df-153c436d-d42a-4132-8879-c81a570914ed')\"\n",
              "              title=\"Convert this dataframe to an interactive table.\"\n",
              "              style=\"display:none;\">\n",
              "        \n",
              "  <svg xmlns=\"http://www.w3.org/2000/svg\" height=\"24px\"viewBox=\"0 0 24 24\"\n",
              "       width=\"24px\">\n",
              "    <path d=\"M0 0h24v24H0V0z\" fill=\"none\"/>\n",
              "    <path d=\"M18.56 5.44l.94 2.06.94-2.06 2.06-.94-2.06-.94-.94-2.06-.94 2.06-2.06.94zm-11 1L8.5 8.5l.94-2.06 2.06-.94-2.06-.94L8.5 2.5l-.94 2.06-2.06.94zm10 10l.94 2.06.94-2.06 2.06-.94-2.06-.94-.94-2.06-.94 2.06-2.06.94z\"/><path d=\"M17.41 7.96l-1.37-1.37c-.4-.4-.92-.59-1.43-.59-.52 0-1.04.2-1.43.59L10.3 9.45l-7.72 7.72c-.78.78-.78 2.05 0 2.83L4 21.41c.39.39.9.59 1.41.59.51 0 1.02-.2 1.41-.59l7.78-7.78 2.81-2.81c.8-.78.8-2.07 0-2.86zM5.41 20L4 18.59l7.72-7.72 1.47 1.35L5.41 20z\"/>\n",
              "  </svg>\n",
              "      </button>\n",
              "      \n",
              "  <style>\n",
              "    .colab-df-container {\n",
              "      display:flex;\n",
              "      flex-wrap:wrap;\n",
              "      gap: 12px;\n",
              "    }\n",
              "\n",
              "    .colab-df-convert {\n",
              "      background-color: #E8F0FE;\n",
              "      border: none;\n",
              "      border-radius: 50%;\n",
              "      cursor: pointer;\n",
              "      display: none;\n",
              "      fill: #1967D2;\n",
              "      height: 32px;\n",
              "      padding: 0 0 0 0;\n",
              "      width: 32px;\n",
              "    }\n",
              "\n",
              "    .colab-df-convert:hover {\n",
              "      background-color: #E2EBFA;\n",
              "      box-shadow: 0px 1px 2px rgba(60, 64, 67, 0.3), 0px 1px 3px 1px rgba(60, 64, 67, 0.15);\n",
              "      fill: #174EA6;\n",
              "    }\n",
              "\n",
              "    [theme=dark] .colab-df-convert {\n",
              "      background-color: #3B4455;\n",
              "      fill: #D2E3FC;\n",
              "    }\n",
              "\n",
              "    [theme=dark] .colab-df-convert:hover {\n",
              "      background-color: #434B5C;\n",
              "      box-shadow: 0px 1px 3px 1px rgba(0, 0, 0, 0.15);\n",
              "      filter: drop-shadow(0px 1px 2px rgba(0, 0, 0, 0.3));\n",
              "      fill: #FFFFFF;\n",
              "    }\n",
              "  </style>\n",
              "\n",
              "      <script>\n",
              "        const buttonEl =\n",
              "          document.querySelector('#df-153c436d-d42a-4132-8879-c81a570914ed button.colab-df-convert');\n",
              "        buttonEl.style.display =\n",
              "          google.colab.kernel.accessAllowed ? 'block' : 'none';\n",
              "\n",
              "        async function convertToInteractive(key) {\n",
              "          const element = document.querySelector('#df-153c436d-d42a-4132-8879-c81a570914ed');\n",
              "          const dataTable =\n",
              "            await google.colab.kernel.invokeFunction('convertToInteractive',\n",
              "                                                     [key], {});\n",
              "          if (!dataTable) return;\n",
              "\n",
              "          const docLinkHtml = 'Like what you see? Visit the ' +\n",
              "            '<a target=\"_blank\" href=https://colab.research.google.com/notebooks/data_table.ipynb>data table notebook</a>'\n",
              "            + ' to learn more about interactive tables.';\n",
              "          element.innerHTML = '';\n",
              "          dataTable['output_type'] = 'display_data';\n",
              "          await google.colab.output.renderOutput(dataTable, element);\n",
              "          const docLink = document.createElement('div');\n",
              "          docLink.innerHTML = docLinkHtml;\n",
              "          element.appendChild(docLink);\n",
              "        }\n",
              "      </script>\n",
              "    </div>\n",
              "  </div>\n",
              "  "
            ]
          },
          "metadata": {},
          "execution_count": 28
        }
      ],
      "source": [
        "import matplotlib.pyplot as plt\n",
        "import numpy as np\n",
        "import pandas as pd\n",
        "import scipy.stats as stats\n",
        "\n",
        "\n",
        "file_path = \"https://raw.githubusercontent.com/learn-co-curriculum/da-phase3-project-enterprise/main/brfss_ny.csv\"\n",
        "df = pd.read_csv(file_path)\n",
        "df.head()"
      ]
    },
    {
      "cell_type": "markdown",
      "metadata": {
        "id": "dWIdwPq9G7eV"
      },
      "source": [
        "## Data Preparation\n",
        "\n",
        "TODO: write an explanation of the data preparation/cleaning steps you are about to perform using Markdown"
      ]
    },
    {
      "cell_type": "code",
      "execution_count": 29,
      "metadata": {
        "colab": {
          "base_uri": "https://localhost:8080/",
          "height": 206
        },
        "id": "aI_PUj3kG7eW",
        "outputId": "302e7121-c003-453c-c7a5-e7a1aa3efa1e"
      },
      "outputs": [
        {
          "output_type": "execute_result",
          "data": {
            "text/plain": [
              "   PHYSHLTH  RENTHOM1\n",
              "0      88.0       2.0\n",
              "1      14.0       1.0\n",
              "2      88.0       2.0\n",
              "3       5.0       3.0\n",
              "4      88.0       2.0"
            ],
            "text/html": [
              "\n",
              "  <div id=\"df-fefcd5ab-7a35-47c4-b5a1-6bb8a0036fb6\">\n",
              "    <div class=\"colab-df-container\">\n",
              "      <div>\n",
              "<style scoped>\n",
              "    .dataframe tbody tr th:only-of-type {\n",
              "        vertical-align: middle;\n",
              "    }\n",
              "\n",
              "    .dataframe tbody tr th {\n",
              "        vertical-align: top;\n",
              "    }\n",
              "\n",
              "    .dataframe thead th {\n",
              "        text-align: right;\n",
              "    }\n",
              "</style>\n",
              "<table border=\"1\" class=\"dataframe\">\n",
              "  <thead>\n",
              "    <tr style=\"text-align: right;\">\n",
              "      <th></th>\n",
              "      <th>PHYSHLTH</th>\n",
              "      <th>RENTHOM1</th>\n",
              "    </tr>\n",
              "  </thead>\n",
              "  <tbody>\n",
              "    <tr>\n",
              "      <th>0</th>\n",
              "      <td>88.0</td>\n",
              "      <td>2.0</td>\n",
              "    </tr>\n",
              "    <tr>\n",
              "      <th>1</th>\n",
              "      <td>14.0</td>\n",
              "      <td>1.0</td>\n",
              "    </tr>\n",
              "    <tr>\n",
              "      <th>2</th>\n",
              "      <td>88.0</td>\n",
              "      <td>2.0</td>\n",
              "    </tr>\n",
              "    <tr>\n",
              "      <th>3</th>\n",
              "      <td>5.0</td>\n",
              "      <td>3.0</td>\n",
              "    </tr>\n",
              "    <tr>\n",
              "      <th>4</th>\n",
              "      <td>88.0</td>\n",
              "      <td>2.0</td>\n",
              "    </tr>\n",
              "  </tbody>\n",
              "</table>\n",
              "</div>\n",
              "      <button class=\"colab-df-convert\" onclick=\"convertToInteractive('df-fefcd5ab-7a35-47c4-b5a1-6bb8a0036fb6')\"\n",
              "              title=\"Convert this dataframe to an interactive table.\"\n",
              "              style=\"display:none;\">\n",
              "        \n",
              "  <svg xmlns=\"http://www.w3.org/2000/svg\" height=\"24px\"viewBox=\"0 0 24 24\"\n",
              "       width=\"24px\">\n",
              "    <path d=\"M0 0h24v24H0V0z\" fill=\"none\"/>\n",
              "    <path d=\"M18.56 5.44l.94 2.06.94-2.06 2.06-.94-2.06-.94-.94-2.06-.94 2.06-2.06.94zm-11 1L8.5 8.5l.94-2.06 2.06-.94-2.06-.94L8.5 2.5l-.94 2.06-2.06.94zm10 10l.94 2.06.94-2.06 2.06-.94-2.06-.94-.94-2.06-.94 2.06-2.06.94z\"/><path d=\"M17.41 7.96l-1.37-1.37c-.4-.4-.92-.59-1.43-.59-.52 0-1.04.2-1.43.59L10.3 9.45l-7.72 7.72c-.78.78-.78 2.05 0 2.83L4 21.41c.39.39.9.59 1.41.59.51 0 1.02-.2 1.41-.59l7.78-7.78 2.81-2.81c.8-.78.8-2.07 0-2.86zM5.41 20L4 18.59l7.72-7.72 1.47 1.35L5.41 20z\"/>\n",
              "  </svg>\n",
              "      </button>\n",
              "      \n",
              "  <style>\n",
              "    .colab-df-container {\n",
              "      display:flex;\n",
              "      flex-wrap:wrap;\n",
              "      gap: 12px;\n",
              "    }\n",
              "\n",
              "    .colab-df-convert {\n",
              "      background-color: #E8F0FE;\n",
              "      border: none;\n",
              "      border-radius: 50%;\n",
              "      cursor: pointer;\n",
              "      display: none;\n",
              "      fill: #1967D2;\n",
              "      height: 32px;\n",
              "      padding: 0 0 0 0;\n",
              "      width: 32px;\n",
              "    }\n",
              "\n",
              "    .colab-df-convert:hover {\n",
              "      background-color: #E2EBFA;\n",
              "      box-shadow: 0px 1px 2px rgba(60, 64, 67, 0.3), 0px 1px 3px 1px rgba(60, 64, 67, 0.15);\n",
              "      fill: #174EA6;\n",
              "    }\n",
              "\n",
              "    [theme=dark] .colab-df-convert {\n",
              "      background-color: #3B4455;\n",
              "      fill: #D2E3FC;\n",
              "    }\n",
              "\n",
              "    [theme=dark] .colab-df-convert:hover {\n",
              "      background-color: #434B5C;\n",
              "      box-shadow: 0px 1px 3px 1px rgba(0, 0, 0, 0.15);\n",
              "      filter: drop-shadow(0px 1px 2px rgba(0, 0, 0, 0.3));\n",
              "      fill: #FFFFFF;\n",
              "    }\n",
              "  </style>\n",
              "\n",
              "      <script>\n",
              "        const buttonEl =\n",
              "          document.querySelector('#df-fefcd5ab-7a35-47c4-b5a1-6bb8a0036fb6 button.colab-df-convert');\n",
              "        buttonEl.style.display =\n",
              "          google.colab.kernel.accessAllowed ? 'block' : 'none';\n",
              "\n",
              "        async function convertToInteractive(key) {\n",
              "          const element = document.querySelector('#df-fefcd5ab-7a35-47c4-b5a1-6bb8a0036fb6');\n",
              "          const dataTable =\n",
              "            await google.colab.kernel.invokeFunction('convertToInteractive',\n",
              "                                                     [key], {});\n",
              "          if (!dataTable) return;\n",
              "\n",
              "          const docLinkHtml = 'Like what you see? Visit the ' +\n",
              "            '<a target=\"_blank\" href=https://colab.research.google.com/notebooks/data_table.ipynb>data table notebook</a>'\n",
              "            + ' to learn more about interactive tables.';\n",
              "          element.innerHTML = '';\n",
              "          dataTable['output_type'] = 'display_data';\n",
              "          await google.colab.output.renderOutput(dataTable, element);\n",
              "          const docLink = document.createElement('div');\n",
              "          docLink.innerHTML = docLinkHtml;\n",
              "          element.appendChild(docLink);\n",
              "        }\n",
              "      </script>\n",
              "    </div>\n",
              "  </div>\n",
              "  "
            ]
          },
          "metadata": {},
          "execution_count": 29
        }
      ],
      "source": [
        "# Extract PHYSHLTH & RENTHOM1 into a dafa frame\n",
        "df_phrh = df[['PHYSHLTH','RENTHOM1']]\n",
        "df_phrh.head()"
      ]
    },
    {
      "cell_type": "code",
      "source": [
        "#get unique values for PHYSHLTH & RENTHOM1\n",
        "print(\"PHYSHLTH unique values\")\n",
        "print(df_phrh.PHYSHLTH.unique())\n",
        "print(\"RENTHOM1 unique values\")\n",
        "print(df_phrh.RENTHOM1.unique())"
      ],
      "metadata": {
        "colab": {
          "base_uri": "https://localhost:8080/"
        },
        "id": "L8SnPo6864k2",
        "outputId": "fc53b1df-641e-40f4-adc5-a0eeecae42bd"
      },
      "execution_count": 30,
      "outputs": [
        {
          "output_type": "stream",
          "name": "stdout",
          "text": [
            "PHYSHLTH unique values\n",
            "[88. 14.  5.  2.  3. 10. 30. 99. 20.  1.  7. 15. 77. 25.  8.  4. 21.  6.\n",
            " 29.  9. 28. 18. 24. 17. 12. 13. 16. 26. 27. 23. 19. 11. 22.]\n",
            "RENTHOM1 unique values\n",
            "[2. 1. 3. 9. 7.]\n"
          ]
        }
      ]
    },
    {
      "cell_type": "code",
      "source": [
        "#dropping records with values of RENTHOM1 other than 1 or 2.\n",
        "df_phrh.drop(df_phrh.index[df_phrh['RENTHOM1'] > 2], inplace=True)\n",
        "print(df_phrh)"
      ],
      "metadata": {
        "colab": {
          "base_uri": "https://localhost:8080/"
        },
        "id": "jAKcqs-C79vF",
        "outputId": "c6d75ea5-943c-4fc2-b1b7-920a4288f7a3"
      },
      "execution_count": 32,
      "outputs": [
        {
          "output_type": "stream",
          "name": "stdout",
          "text": [
            "       PHYSHLTH  RENTHOM1\n",
            "0          88.0       2.0\n",
            "1          14.0       1.0\n",
            "2          88.0       2.0\n",
            "4          88.0       2.0\n",
            "5           2.0       2.0\n",
            "...         ...       ...\n",
            "14763      88.0       2.0\n",
            "14764      88.0       2.0\n",
            "14765      88.0       2.0\n",
            "14766       2.0       2.0\n",
            "14767      88.0       2.0\n",
            "\n",
            "[13957 rows x 2 columns]\n"
          ]
        },
        {
          "output_type": "stream",
          "name": "stderr",
          "text": [
            "/usr/local/lib/python3.7/dist-packages/pandas/core/frame.py:4913: SettingWithCopyWarning: \n",
            "A value is trying to be set on a copy of a slice from a DataFrame\n",
            "\n",
            "See the caveats in the documentation: https://pandas.pydata.org/pandas-docs/stable/user_guide/indexing.html#returning-a-view-versus-a-copy\n",
            "  errors=errors,\n"
          ]
        }
      ]
    },
    {
      "cell_type": "code",
      "source": [
        "#check RENTHOM1 unique values\n",
        "print(df_phrh.RENTHOM1.unique())"
      ],
      "metadata": {
        "colab": {
          "base_uri": "https://localhost:8080/"
        },
        "id": "DJIlAHd--PB-",
        "outputId": "dd77d4bd-7168-479f-88bf-90d002e1e76e"
      },
      "execution_count": 33,
      "outputs": [
        {
          "output_type": "stream",
          "name": "stdout",
          "text": [
            "[2. 1.]\n"
          ]
        }
      ]
    },
    {
      "cell_type": "code",
      "source": [
        "# Dropping records with 77, 99 in PHYSHLTH column\n",
        "df_phrh.drop(df_phrh.index[(df_phrh['PHYSHLTH'] == 77 ) | (df_phrh['PHYSHLTH'] == 99)], inplace=True)\n",
        "print(df_phrh)"
      ],
      "metadata": {
        "id": "1_ERJbw-YYrX",
        "colab": {
          "base_uri": "https://localhost:8080/"
        },
        "outputId": "bb8ac30b-5aff-41cf-aca1-8d99a8699e0f"
      },
      "execution_count": 34,
      "outputs": [
        {
          "output_type": "stream",
          "name": "stdout",
          "text": [
            "       PHYSHLTH  RENTHOM1\n",
            "0          88.0       2.0\n",
            "1          14.0       1.0\n",
            "2          88.0       2.0\n",
            "4          88.0       2.0\n",
            "5           2.0       2.0\n",
            "...         ...       ...\n",
            "14763      88.0       2.0\n",
            "14764      88.0       2.0\n",
            "14765      88.0       2.0\n",
            "14766       2.0       2.0\n",
            "14767      88.0       2.0\n",
            "\n",
            "[13659 rows x 2 columns]\n"
          ]
        },
        {
          "output_type": "stream",
          "name": "stderr",
          "text": [
            "/usr/local/lib/python3.7/dist-packages/pandas/core/frame.py:4913: SettingWithCopyWarning: \n",
            "A value is trying to be set on a copy of a slice from a DataFrame\n",
            "\n",
            "See the caveats in the documentation: https://pandas.pydata.org/pandas-docs/stable/user_guide/indexing.html#returning-a-view-versus-a-copy\n",
            "  errors=errors,\n"
          ]
        }
      ]
    },
    {
      "cell_type": "code",
      "source": [
        "#check PHYSHLTH unique values\n",
        "print(df_phrh.PHYSHLTH.unique())"
      ],
      "metadata": {
        "colab": {
          "base_uri": "https://localhost:8080/"
        },
        "id": "IxvdGGCyAZMV",
        "outputId": "39537456-f9c8-409d-983f-c6514e81c543"
      },
      "execution_count": 35,
      "outputs": [
        {
          "output_type": "stream",
          "name": "stdout",
          "text": [
            "[88. 14.  2.  3. 10. 30.  5. 20.  1.  7. 15. 25.  8.  4.  6. 29.  9. 21.\n",
            " 28. 18. 24. 17. 12. 13. 16. 27. 26. 23. 19. 11. 22.]\n"
          ]
        }
      ]
    },
    {
      "cell_type": "code",
      "source": [
        "# Converting all instances of 88 to 0\n",
        "df_phrh[\"PHYSHLTH\"].replace({88: 0}, inplace=True)\n",
        "print(df_phrh)"
      ],
      "metadata": {
        "colab": {
          "base_uri": "https://localhost:8080/"
        },
        "id": "m-5WNe-PApHK",
        "outputId": "f2f44994-69e9-460c-c739-199f36b6a1dc"
      },
      "execution_count": 36,
      "outputs": [
        {
          "output_type": "stream",
          "name": "stdout",
          "text": [
            "       PHYSHLTH  RENTHOM1\n",
            "0           0.0       2.0\n",
            "1          14.0       1.0\n",
            "2           0.0       2.0\n",
            "4           0.0       2.0\n",
            "5           2.0       2.0\n",
            "...         ...       ...\n",
            "14763       0.0       2.0\n",
            "14764       0.0       2.0\n",
            "14765       0.0       2.0\n",
            "14766       2.0       2.0\n",
            "14767       0.0       2.0\n",
            "\n",
            "[13659 rows x 2 columns]\n"
          ]
        },
        {
          "output_type": "stream",
          "name": "stderr",
          "text": [
            "/usr/local/lib/python3.7/dist-packages/pandas/core/generic.py:6619: SettingWithCopyWarning: \n",
            "A value is trying to be set on a copy of a slice from a DataFrame\n",
            "\n",
            "See the caveats in the documentation: https://pandas.pydata.org/pandas-docs/stable/user_guide/indexing.html#returning-a-view-versus-a-copy\n",
            "  return self._update_inplace(result)\n"
          ]
        }
      ]
    },
    {
      "cell_type": "code",
      "source": [
        "#check PHYSHLTH unique values\n",
        "print(df_phrh.PHYSHLTH.unique())"
      ],
      "metadata": {
        "colab": {
          "base_uri": "https://localhost:8080/"
        },
        "id": "e5YsrTHrBN1q",
        "outputId": "5933370f-4ded-42ad-ea0b-6b66a29ce00e"
      },
      "execution_count": 37,
      "outputs": [
        {
          "output_type": "stream",
          "name": "stdout",
          "text": [
            "[ 0. 14.  2.  3. 10. 30.  5. 20.  1.  7. 15. 25.  8.  4.  6. 29.  9. 21.\n",
            " 28. 18. 24. 17. 12. 13. 16. 27. 26. 23. 19. 11. 22.]\n"
          ]
        }
      ]
    },
    {
      "cell_type": "markdown",
      "metadata": {
        "id": "XU7TKtFiG7eW"
      },
      "source": [
        "## Confidence Interval for Mean of `PHYSHLTH`"
      ]
    },
    {
      "cell_type": "markdown",
      "source": [
        "Note\n",
        "- The dataset in this survey represent a sample of the more than 20 million New York State rsidents"
      ],
      "metadata": {
        "id": "PFyoZYEC2QR2"
      }
    },
    {
      "cell_type": "code",
      "source": [
        "# the mean of PHYSHLTH\n",
        "sample_mean = df_phrh['PHYSHLTH'].mean()\n",
        "\n",
        "# the standard deviation of PHYSHLTH\n",
        "sample_sd = df_phrh['PHYSHLTH'].std()\n",
        "\n",
        "# the standard error of PHYSHLTH\n",
        "sample_se = stats.sem(df_phrh['PHYSHLTH'])\n",
        "\n",
        "#sample size\n",
        "sample_size = len(df_phrh['PHYSHLTH'])\n",
        "\n",
        "#output\n",
        "print('the sample mean = ', sample_mean)\n",
        "print('the sample standard deviation = ', sample_sd)\n",
        "print('the sample standard error = ', sample_se)\n",
        "print('the sample size = ', sample_size)"
      ],
      "metadata": {
        "colab": {
          "base_uri": "https://localhost:8080/"
        },
        "id": "a9eXxECG0Nsv",
        "outputId": "e73e8e6e-9544-4e1b-d257-72ea0228541e"
      },
      "execution_count": 39,
      "outputs": [
        {
          "output_type": "stream",
          "name": "stdout",
          "text": [
            "the sample mean =  3.064646020938575\n",
            "the sample standard deviation =  7.58132516485075\n",
            "the sample standard error =  0.06486877124338632\n",
            "the sample size =  13659\n"
          ]
        }
      ]
    },
    {
      "cell_type": "code",
      "source": [
        "# calculate 95% confidence interval  using stats.t.interval methods\n",
        "stats.t.interval(.95, loc=sample_mean, scale=sample_se, df=sample_size-1)"
      ],
      "metadata": {
        "colab": {
          "base_uri": "https://localhost:8080/"
        },
        "id": "6xoipV4n0Njn",
        "outputId": "44314afe-1380-4a1c-a4f1-556b27c6f3a6"
      },
      "execution_count": 40,
      "outputs": [
        {
          "output_type": "execute_result",
          "data": {
            "text/plain": [
              "(2.9374942974789744, 3.1917977443981758)"
            ]
          },
          "metadata": {},
          "execution_count": 40
        }
      ]
    },
    {
      "cell_type": "markdown",
      "metadata": {
        "id": "I7rNiD58G7eX"
      },
      "source": [
        "Interpretation\n",
        "- Given our sample of 13,659, we are 95% confiden the rue mean of the population i.e the number of days of poor physical health New Yorkers typically have in 2020-2021 ranges between 2.94 and 3.19 days"
      ]
    },
    {
      "cell_type": "markdown",
      "metadata": {
        "id": "x0aQpN_rG7eX"
      },
      "source": [
        "## Differences in `PHYSHLTH` Based on `RENTHOM1`\n",
        "\n",
        "### How Does `PHYSHLTH` Differ Based on `RENTHOM1`?\n",
        "\n",
        "TODO: write an explanation of what it means to split the data based on `RENTHOM1` in Markdown"
      ]
    },
    {
      "cell_type": "code",
      "execution_count": 41,
      "metadata": {
        "id": "SJdHtTc-G7eX"
      },
      "outputs": [],
      "source": [
        "# TODO: write code to separate the records based on the value of RENTHOM1"
      ]
    },
    {
      "cell_type": "code",
      "execution_count": 42,
      "metadata": {
        "id": "CHOBOcecG7eX"
      },
      "outputs": [],
      "source": [
        "# TODO: write code to produce one or more plots that show the value of\n",
        "# PHYSHLTH based on the value of RENTHOM1"
      ]
    },
    {
      "cell_type": "markdown",
      "metadata": {
        "id": "ukj91m8VG7eY"
      },
      "source": [
        "TODO: write an explanation of the plot(s) above using Markdown"
      ]
    },
    {
      "cell_type": "markdown",
      "metadata": {
        "id": "E4XTnW5kG7eY"
      },
      "source": [
        "### Is the Difference Statistically Significant?\n",
        "\n",
        "TODO: describe the null and alternative hypotheses in Markdown, including whether this is a one-tailed or two-tailed test"
      ]
    },
    {
      "cell_type": "code",
      "execution_count": 43,
      "metadata": {
        "id": "d_-9bTnFG7eY"
      },
      "outputs": [],
      "source": [
        "# TODO: write code to calculate the test statistic and p-value for a t-test"
      ]
    },
    {
      "cell_type": "markdown",
      "metadata": {
        "id": "UHbySTV2G7eZ"
      },
      "source": [
        "TODO: interpret the result of the above statistical test using Markdown. Can we reject the null hypothesis at an alpha of 0.05?"
      ]
    },
    {
      "cell_type": "markdown",
      "metadata": {
        "id": "uQUilUd_G7eZ"
      },
      "source": [
        "## Next Steps\n",
        "\n",
        "TODO: describe what feature from the CDC codebook that you would propose investigating next, using Markdown"
      ]
    }
  ],
  "metadata": {
    "kernelspec": {
      "display_name": "Python 3",
      "language": "python",
      "name": "python3"
    },
    "language_info": {
      "codemirror_mode": {
        "name": "ipython",
        "version": 3
      },
      "file_extension": ".py",
      "mimetype": "text/x-python",
      "name": "python",
      "nbconvert_exporter": "python",
      "pygments_lexer": "ipython3",
      "version": "3.9.5"
    },
    "colab": {
      "name": "Health Survey Data Analysis.ipynb",
      "provenance": [],
      "collapsed_sections": []
    }
  },
  "nbformat": 4,
  "nbformat_minor": 0
}