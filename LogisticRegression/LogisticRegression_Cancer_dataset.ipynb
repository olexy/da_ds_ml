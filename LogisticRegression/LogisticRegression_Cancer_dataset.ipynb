{
  "cells": [
    {
      "cell_type": "code",
      "execution_count": 3,
      "metadata": {
        "id": "wLijlrnT4cip"
      },
      "outputs": [],
      "source": [
        "import pandas as pd\n",
        "from sklearn.datasets import load_breast_cancer"
      ]
    },
    {
      "cell_type": "code",
      "execution_count": 4,
      "metadata": {
        "id": "rIELFD6C4cis"
      },
      "outputs": [],
      "source": [
        "cancer_data = load_breast_cancer()"
      ]
    },
    {
      "cell_type": "code",
      "execution_count": 5,
      "metadata": {
        "tags": [],
        "id": "aWi3AVMC4civ",
        "outputId": "cb802d56-0d9e-4ed2-c0d8-3931da83360d",
        "colab": {
          "base_uri": "https://localhost:8080/"
        }
      },
      "outputs": [
        {
          "output_type": "stream",
          "name": "stdout",
          "text": [
            ".. _breast_cancer_dataset:\n",
            "\n",
            "Breast cancer wisconsin (diagnostic) dataset\n",
            "--------------------------------------------\n",
            "\n",
            "**Data Set Characteristics:**\n",
            "\n",
            "    :Number of Instances: 569\n",
            "\n",
            "    :Number of Attributes: 30 numeric, predictive attributes and the class\n",
            "\n",
            "    :Attribute Information:\n",
            "        - radius (mean of distances from center to points on the perimeter)\n",
            "        - texture (standard deviation of gray-scale values)\n",
            "        - perimeter\n",
            "        - area\n",
            "        - smoothness (local variation in radius lengths)\n",
            "        - compactness (perimeter^2 / area - 1.0)\n",
            "        - concavity (severity of concave portions of the contour)\n",
            "        - concave points (number of concave portions of the contour)\n",
            "        - symmetry\n",
            "        - fractal dimension (\"coastline approximation\" - 1)\n",
            "\n",
            "        The mean, standard error, and \"worst\" or largest (mean of the three\n",
            "        worst/largest values) of these features were computed for each image,\n",
            "        resulting in 30 features.  For instance, field 0 is Mean Radius, field\n",
            "        10 is Radius SE, field 20 is Worst Radius.\n",
            "\n",
            "        - class:\n",
            "                - WDBC-Malignant\n",
            "                - WDBC-Benign\n",
            "\n",
            "    :Summary Statistics:\n",
            "\n",
            "    ===================================== ====== ======\n",
            "                                           Min    Max\n",
            "    ===================================== ====== ======\n",
            "    radius (mean):                        6.981  28.11\n",
            "    texture (mean):                       9.71   39.28\n",
            "    perimeter (mean):                     43.79  188.5\n",
            "    area (mean):                          143.5  2501.0\n",
            "    smoothness (mean):                    0.053  0.163\n",
            "    compactness (mean):                   0.019  0.345\n",
            "    concavity (mean):                     0.0    0.427\n",
            "    concave points (mean):                0.0    0.201\n",
            "    symmetry (mean):                      0.106  0.304\n",
            "    fractal dimension (mean):             0.05   0.097\n",
            "    radius (standard error):              0.112  2.873\n",
            "    texture (standard error):             0.36   4.885\n",
            "    perimeter (standard error):           0.757  21.98\n",
            "    area (standard error):                6.802  542.2\n",
            "    smoothness (standard error):          0.002  0.031\n",
            "    compactness (standard error):         0.002  0.135\n",
            "    concavity (standard error):           0.0    0.396\n",
            "    concave points (standard error):      0.0    0.053\n",
            "    symmetry (standard error):            0.008  0.079\n",
            "    fractal dimension (standard error):   0.001  0.03\n",
            "    radius (worst):                       7.93   36.04\n",
            "    texture (worst):                      12.02  49.54\n",
            "    perimeter (worst):                    50.41  251.2\n",
            "    area (worst):                         185.2  4254.0\n",
            "    smoothness (worst):                   0.071  0.223\n",
            "    compactness (worst):                  0.027  1.058\n",
            "    concavity (worst):                    0.0    1.252\n",
            "    concave points (worst):               0.0    0.291\n",
            "    symmetry (worst):                     0.156  0.664\n",
            "    fractal dimension (worst):            0.055  0.208\n",
            "    ===================================== ====== ======\n",
            "\n",
            "    :Missing Attribute Values: None\n",
            "\n",
            "    :Class Distribution: 212 - Malignant, 357 - Benign\n",
            "\n",
            "    :Creator:  Dr. William H. Wolberg, W. Nick Street, Olvi L. Mangasarian\n",
            "\n",
            "    :Donor: Nick Street\n",
            "\n",
            "    :Date: November, 1995\n",
            "\n",
            "This is a copy of UCI ML Breast Cancer Wisconsin (Diagnostic) datasets.\n",
            "https://goo.gl/U2Uwz2\n",
            "\n",
            "Features are computed from a digitized image of a fine needle\n",
            "aspirate (FNA) of a breast mass.  They describe\n",
            "characteristics of the cell nuclei present in the image.\n",
            "\n",
            "Separating plane described above was obtained using\n",
            "Multisurface Method-Tree (MSM-T) [K. P. Bennett, \"Decision Tree\n",
            "Construction Via Linear Programming.\" Proceedings of the 4th\n",
            "Midwest Artificial Intelligence and Cognitive Science Society,\n",
            "pp. 97-101, 1992], a classification method which uses linear\n",
            "programming to construct a decision tree.  Relevant features\n",
            "were selected using an exhaustive search in the space of 1-4\n",
            "features and 1-3 separating planes.\n",
            "\n",
            "The actual linear program used to obtain the separating plane\n",
            "in the 3-dimensional space is that described in:\n",
            "[K. P. Bennett and O. L. Mangasarian: \"Robust Linear\n",
            "Programming Discrimination of Two Linearly Inseparable Sets\",\n",
            "Optimization Methods and Software 1, 1992, 23-34].\n",
            "\n",
            "This database is also available through the UW CS ftp server:\n",
            "\n",
            "ftp ftp.cs.wisc.edu\n",
            "cd math-prog/cpo-dataset/machine-learn/WDBC/\n",
            "\n",
            ".. topic:: References\n",
            "\n",
            "   - W.N. Street, W.H. Wolberg and O.L. Mangasarian. Nuclear feature extraction \n",
            "     for breast tumor diagnosis. IS&T/SPIE 1993 International Symposium on \n",
            "     Electronic Imaging: Science and Technology, volume 1905, pages 861-870,\n",
            "     San Jose, CA, 1993.\n",
            "   - O.L. Mangasarian, W.N. Street and W.H. Wolberg. Breast cancer diagnosis and \n",
            "     prognosis via linear programming. Operations Research, 43(4), pages 570-577, \n",
            "     July-August 1995.\n",
            "   - W.H. Wolberg, W.N. Street, and O.L. Mangasarian. Machine learning techniques\n",
            "     to diagnose breast cancer from fine-needle aspirates. Cancer Letters 77 (1994) \n",
            "     163-171.\n"
          ]
        }
      ],
      "source": [
        "print(cancer_data.DESCR)"
      ]
    },
    {
      "cell_type": "code",
      "execution_count": 6,
      "metadata": {
        "id": "v7WHPs4E4ci5"
      },
      "outputs": [],
      "source": [
        "features = pd.DataFrame(cancer_data.data, columns=cancer_data.feature_names)\n",
        "target = pd.DataFrame(cancer_data.target, columns=['Target'])"
      ]
    },
    {
      "cell_type": "code",
      "execution_count": 68,
      "metadata": {
        "id": "R4Axxloo4ci6",
        "outputId": "7f18e5af-4e47-4525-8e4b-dd4cbc1c122f",
        "colab": {
          "base_uri": "https://localhost:8080/",
          "height": 314
        }
      },
      "outputs": [
        {
          "output_type": "execute_result",
          "data": {
            "text/plain": [
              "   mean radius  mean texture  mean perimeter  mean area  mean smoothness  \\\n",
              "0        17.99         10.38          122.80     1001.0          0.11840   \n",
              "1        20.57         17.77          132.90     1326.0          0.08474   \n",
              "2        19.69         21.25          130.00     1203.0          0.10960   \n",
              "3        11.42         20.38           77.58      386.1          0.14250   \n",
              "4        20.29         14.34          135.10     1297.0          0.10030   \n",
              "\n",
              "   mean compactness  mean concavity  mean concave points  mean symmetry  \\\n",
              "0           0.27760          0.3001              0.14710         0.2419   \n",
              "1           0.07864          0.0869              0.07017         0.1812   \n",
              "2           0.15990          0.1974              0.12790         0.2069   \n",
              "3           0.28390          0.2414              0.10520         0.2597   \n",
              "4           0.13280          0.1980              0.10430         0.1809   \n",
              "\n",
              "   mean fractal dimension  ...  worst radius  worst texture  worst perimeter  \\\n",
              "0                 0.07871  ...         25.38          17.33           184.60   \n",
              "1                 0.05667  ...         24.99          23.41           158.80   \n",
              "2                 0.05999  ...         23.57          25.53           152.50   \n",
              "3                 0.09744  ...         14.91          26.50            98.87   \n",
              "4                 0.05883  ...         22.54          16.67           152.20   \n",
              "\n",
              "   worst area  worst smoothness  worst compactness  worst concavity  \\\n",
              "0      2019.0            0.1622             0.6656           0.7119   \n",
              "1      1956.0            0.1238             0.1866           0.2416   \n",
              "2      1709.0            0.1444             0.4245           0.4504   \n",
              "3       567.7            0.2098             0.8663           0.6869   \n",
              "4      1575.0            0.1374             0.2050           0.4000   \n",
              "\n",
              "   worst concave points  worst symmetry  worst fractal dimension  \n",
              "0                0.2654          0.4601                  0.11890  \n",
              "1                0.1860          0.2750                  0.08902  \n",
              "2                0.2430          0.3613                  0.08758  \n",
              "3                0.2575          0.6638                  0.17300  \n",
              "4                0.1625          0.2364                  0.07678  \n",
              "\n",
              "[5 rows x 30 columns]"
            ],
            "text/html": [
              "\n",
              "  <div id=\"df-36139049-78bc-47f4-846e-9ad858c6c617\">\n",
              "    <div class=\"colab-df-container\">\n",
              "      <div>\n",
              "<style scoped>\n",
              "    .dataframe tbody tr th:only-of-type {\n",
              "        vertical-align: middle;\n",
              "    }\n",
              "\n",
              "    .dataframe tbody tr th {\n",
              "        vertical-align: top;\n",
              "    }\n",
              "\n",
              "    .dataframe thead th {\n",
              "        text-align: right;\n",
              "    }\n",
              "</style>\n",
              "<table border=\"1\" class=\"dataframe\">\n",
              "  <thead>\n",
              "    <tr style=\"text-align: right;\">\n",
              "      <th></th>\n",
              "      <th>mean radius</th>\n",
              "      <th>mean texture</th>\n",
              "      <th>mean perimeter</th>\n",
              "      <th>mean area</th>\n",
              "      <th>mean smoothness</th>\n",
              "      <th>mean compactness</th>\n",
              "      <th>mean concavity</th>\n",
              "      <th>mean concave points</th>\n",
              "      <th>mean symmetry</th>\n",
              "      <th>mean fractal dimension</th>\n",
              "      <th>...</th>\n",
              "      <th>worst radius</th>\n",
              "      <th>worst texture</th>\n",
              "      <th>worst perimeter</th>\n",
              "      <th>worst area</th>\n",
              "      <th>worst smoothness</th>\n",
              "      <th>worst compactness</th>\n",
              "      <th>worst concavity</th>\n",
              "      <th>worst concave points</th>\n",
              "      <th>worst symmetry</th>\n",
              "      <th>worst fractal dimension</th>\n",
              "    </tr>\n",
              "  </thead>\n",
              "  <tbody>\n",
              "    <tr>\n",
              "      <th>0</th>\n",
              "      <td>17.99</td>\n",
              "      <td>10.38</td>\n",
              "      <td>122.80</td>\n",
              "      <td>1001.0</td>\n",
              "      <td>0.11840</td>\n",
              "      <td>0.27760</td>\n",
              "      <td>0.3001</td>\n",
              "      <td>0.14710</td>\n",
              "      <td>0.2419</td>\n",
              "      <td>0.07871</td>\n",
              "      <td>...</td>\n",
              "      <td>25.38</td>\n",
              "      <td>17.33</td>\n",
              "      <td>184.60</td>\n",
              "      <td>2019.0</td>\n",
              "      <td>0.1622</td>\n",
              "      <td>0.6656</td>\n",
              "      <td>0.7119</td>\n",
              "      <td>0.2654</td>\n",
              "      <td>0.4601</td>\n",
              "      <td>0.11890</td>\n",
              "    </tr>\n",
              "    <tr>\n",
              "      <th>1</th>\n",
              "      <td>20.57</td>\n",
              "      <td>17.77</td>\n",
              "      <td>132.90</td>\n",
              "      <td>1326.0</td>\n",
              "      <td>0.08474</td>\n",
              "      <td>0.07864</td>\n",
              "      <td>0.0869</td>\n",
              "      <td>0.07017</td>\n",
              "      <td>0.1812</td>\n",
              "      <td>0.05667</td>\n",
              "      <td>...</td>\n",
              "      <td>24.99</td>\n",
              "      <td>23.41</td>\n",
              "      <td>158.80</td>\n",
              "      <td>1956.0</td>\n",
              "      <td>0.1238</td>\n",
              "      <td>0.1866</td>\n",
              "      <td>0.2416</td>\n",
              "      <td>0.1860</td>\n",
              "      <td>0.2750</td>\n",
              "      <td>0.08902</td>\n",
              "    </tr>\n",
              "    <tr>\n",
              "      <th>2</th>\n",
              "      <td>19.69</td>\n",
              "      <td>21.25</td>\n",
              "      <td>130.00</td>\n",
              "      <td>1203.0</td>\n",
              "      <td>0.10960</td>\n",
              "      <td>0.15990</td>\n",
              "      <td>0.1974</td>\n",
              "      <td>0.12790</td>\n",
              "      <td>0.2069</td>\n",
              "      <td>0.05999</td>\n",
              "      <td>...</td>\n",
              "      <td>23.57</td>\n",
              "      <td>25.53</td>\n",
              "      <td>152.50</td>\n",
              "      <td>1709.0</td>\n",
              "      <td>0.1444</td>\n",
              "      <td>0.4245</td>\n",
              "      <td>0.4504</td>\n",
              "      <td>0.2430</td>\n",
              "      <td>0.3613</td>\n",
              "      <td>0.08758</td>\n",
              "    </tr>\n",
              "    <tr>\n",
              "      <th>3</th>\n",
              "      <td>11.42</td>\n",
              "      <td>20.38</td>\n",
              "      <td>77.58</td>\n",
              "      <td>386.1</td>\n",
              "      <td>0.14250</td>\n",
              "      <td>0.28390</td>\n",
              "      <td>0.2414</td>\n",
              "      <td>0.10520</td>\n",
              "      <td>0.2597</td>\n",
              "      <td>0.09744</td>\n",
              "      <td>...</td>\n",
              "      <td>14.91</td>\n",
              "      <td>26.50</td>\n",
              "      <td>98.87</td>\n",
              "      <td>567.7</td>\n",
              "      <td>0.2098</td>\n",
              "      <td>0.8663</td>\n",
              "      <td>0.6869</td>\n",
              "      <td>0.2575</td>\n",
              "      <td>0.6638</td>\n",
              "      <td>0.17300</td>\n",
              "    </tr>\n",
              "    <tr>\n",
              "      <th>4</th>\n",
              "      <td>20.29</td>\n",
              "      <td>14.34</td>\n",
              "      <td>135.10</td>\n",
              "      <td>1297.0</td>\n",
              "      <td>0.10030</td>\n",
              "      <td>0.13280</td>\n",
              "      <td>0.1980</td>\n",
              "      <td>0.10430</td>\n",
              "      <td>0.1809</td>\n",
              "      <td>0.05883</td>\n",
              "      <td>...</td>\n",
              "      <td>22.54</td>\n",
              "      <td>16.67</td>\n",
              "      <td>152.20</td>\n",
              "      <td>1575.0</td>\n",
              "      <td>0.1374</td>\n",
              "      <td>0.2050</td>\n",
              "      <td>0.4000</td>\n",
              "      <td>0.1625</td>\n",
              "      <td>0.2364</td>\n",
              "      <td>0.07678</td>\n",
              "    </tr>\n",
              "  </tbody>\n",
              "</table>\n",
              "<p>5 rows × 30 columns</p>\n",
              "</div>\n",
              "      <button class=\"colab-df-convert\" onclick=\"convertToInteractive('df-36139049-78bc-47f4-846e-9ad858c6c617')\"\n",
              "              title=\"Convert this dataframe to an interactive table.\"\n",
              "              style=\"display:none;\">\n",
              "        \n",
              "  <svg xmlns=\"http://www.w3.org/2000/svg\" height=\"24px\"viewBox=\"0 0 24 24\"\n",
              "       width=\"24px\">\n",
              "    <path d=\"M0 0h24v24H0V0z\" fill=\"none\"/>\n",
              "    <path d=\"M18.56 5.44l.94 2.06.94-2.06 2.06-.94-2.06-.94-.94-2.06-.94 2.06-2.06.94zm-11 1L8.5 8.5l.94-2.06 2.06-.94-2.06-.94L8.5 2.5l-.94 2.06-2.06.94zm10 10l.94 2.06.94-2.06 2.06-.94-2.06-.94-.94-2.06-.94 2.06-2.06.94z\"/><path d=\"M17.41 7.96l-1.37-1.37c-.4-.4-.92-.59-1.43-.59-.52 0-1.04.2-1.43.59L10.3 9.45l-7.72 7.72c-.78.78-.78 2.05 0 2.83L4 21.41c.39.39.9.59 1.41.59.51 0 1.02-.2 1.41-.59l7.78-7.78 2.81-2.81c.8-.78.8-2.07 0-2.86zM5.41 20L4 18.59l7.72-7.72 1.47 1.35L5.41 20z\"/>\n",
              "  </svg>\n",
              "      </button>\n",
              "      \n",
              "  <style>\n",
              "    .colab-df-container {\n",
              "      display:flex;\n",
              "      flex-wrap:wrap;\n",
              "      gap: 12px;\n",
              "    }\n",
              "\n",
              "    .colab-df-convert {\n",
              "      background-color: #E8F0FE;\n",
              "      border: none;\n",
              "      border-radius: 50%;\n",
              "      cursor: pointer;\n",
              "      display: none;\n",
              "      fill: #1967D2;\n",
              "      height: 32px;\n",
              "      padding: 0 0 0 0;\n",
              "      width: 32px;\n",
              "    }\n",
              "\n",
              "    .colab-df-convert:hover {\n",
              "      background-color: #E2EBFA;\n",
              "      box-shadow: 0px 1px 2px rgba(60, 64, 67, 0.3), 0px 1px 3px 1px rgba(60, 64, 67, 0.15);\n",
              "      fill: #174EA6;\n",
              "    }\n",
              "\n",
              "    [theme=dark] .colab-df-convert {\n",
              "      background-color: #3B4455;\n",
              "      fill: #D2E3FC;\n",
              "    }\n",
              "\n",
              "    [theme=dark] .colab-df-convert:hover {\n",
              "      background-color: #434B5C;\n",
              "      box-shadow: 0px 1px 3px 1px rgba(0, 0, 0, 0.15);\n",
              "      filter: drop-shadow(0px 1px 2px rgba(0, 0, 0, 0.3));\n",
              "      fill: #FFFFFF;\n",
              "    }\n",
              "  </style>\n",
              "\n",
              "      <script>\n",
              "        const buttonEl =\n",
              "          document.querySelector('#df-36139049-78bc-47f4-846e-9ad858c6c617 button.colab-df-convert');\n",
              "        buttonEl.style.display =\n",
              "          google.colab.kernel.accessAllowed ? 'block' : 'none';\n",
              "\n",
              "        async function convertToInteractive(key) {\n",
              "          const element = document.querySelector('#df-36139049-78bc-47f4-846e-9ad858c6c617');\n",
              "          const dataTable =\n",
              "            await google.colab.kernel.invokeFunction('convertToInteractive',\n",
              "                                                     [key], {});\n",
              "          if (!dataTable) return;\n",
              "\n",
              "          const docLinkHtml = 'Like what you see? Visit the ' +\n",
              "            '<a target=\"_blank\" href=https://colab.research.google.com/notebooks/data_table.ipynb>data table notebook</a>'\n",
              "            + ' to learn more about interactive tables.';\n",
              "          element.innerHTML = '';\n",
              "          dataTable['output_type'] = 'display_data';\n",
              "          await google.colab.output.renderOutput(dataTable, element);\n",
              "          const docLink = document.createElement('div');\n",
              "          docLink.innerHTML = docLinkHtml;\n",
              "          element.appendChild(docLink);\n",
              "        }\n",
              "      </script>\n",
              "    </div>\n",
              "  </div>\n",
              "  "
            ]
          },
          "metadata": {},
          "execution_count": 68
        }
      ],
      "source": [
        "features.head()"
      ]
    },
    {
      "cell_type": "code",
      "execution_count": 69,
      "metadata": {
        "id": "aPxUGhHR4ci6",
        "outputId": "433d5972-c3f1-4d84-f315-4d77e117eb21",
        "colab": {
          "base_uri": "https://localhost:8080/",
          "height": 206
        }
      },
      "outputs": [
        {
          "output_type": "execute_result",
          "data": {
            "text/plain": [
              "   Target\n",
              "0       0\n",
              "1       0\n",
              "2       0\n",
              "3       0\n",
              "4       0"
            ],
            "text/html": [
              "\n",
              "  <div id=\"df-b4fa444d-5fb7-415c-8615-2195b6d1b0c4\">\n",
              "    <div class=\"colab-df-container\">\n",
              "      <div>\n",
              "<style scoped>\n",
              "    .dataframe tbody tr th:only-of-type {\n",
              "        vertical-align: middle;\n",
              "    }\n",
              "\n",
              "    .dataframe tbody tr th {\n",
              "        vertical-align: top;\n",
              "    }\n",
              "\n",
              "    .dataframe thead th {\n",
              "        text-align: right;\n",
              "    }\n",
              "</style>\n",
              "<table border=\"1\" class=\"dataframe\">\n",
              "  <thead>\n",
              "    <tr style=\"text-align: right;\">\n",
              "      <th></th>\n",
              "      <th>Target</th>\n",
              "    </tr>\n",
              "  </thead>\n",
              "  <tbody>\n",
              "    <tr>\n",
              "      <th>0</th>\n",
              "      <td>0</td>\n",
              "    </tr>\n",
              "    <tr>\n",
              "      <th>1</th>\n",
              "      <td>0</td>\n",
              "    </tr>\n",
              "    <tr>\n",
              "      <th>2</th>\n",
              "      <td>0</td>\n",
              "    </tr>\n",
              "    <tr>\n",
              "      <th>3</th>\n",
              "      <td>0</td>\n",
              "    </tr>\n",
              "    <tr>\n",
              "      <th>4</th>\n",
              "      <td>0</td>\n",
              "    </tr>\n",
              "  </tbody>\n",
              "</table>\n",
              "</div>\n",
              "      <button class=\"colab-df-convert\" onclick=\"convertToInteractive('df-b4fa444d-5fb7-415c-8615-2195b6d1b0c4')\"\n",
              "              title=\"Convert this dataframe to an interactive table.\"\n",
              "              style=\"display:none;\">\n",
              "        \n",
              "  <svg xmlns=\"http://www.w3.org/2000/svg\" height=\"24px\"viewBox=\"0 0 24 24\"\n",
              "       width=\"24px\">\n",
              "    <path d=\"M0 0h24v24H0V0z\" fill=\"none\"/>\n",
              "    <path d=\"M18.56 5.44l.94 2.06.94-2.06 2.06-.94-2.06-.94-.94-2.06-.94 2.06-2.06.94zm-11 1L8.5 8.5l.94-2.06 2.06-.94-2.06-.94L8.5 2.5l-.94 2.06-2.06.94zm10 10l.94 2.06.94-2.06 2.06-.94-2.06-.94-.94-2.06-.94 2.06-2.06.94z\"/><path d=\"M17.41 7.96l-1.37-1.37c-.4-.4-.92-.59-1.43-.59-.52 0-1.04.2-1.43.59L10.3 9.45l-7.72 7.72c-.78.78-.78 2.05 0 2.83L4 21.41c.39.39.9.59 1.41.59.51 0 1.02-.2 1.41-.59l7.78-7.78 2.81-2.81c.8-.78.8-2.07 0-2.86zM5.41 20L4 18.59l7.72-7.72 1.47 1.35L5.41 20z\"/>\n",
              "  </svg>\n",
              "      </button>\n",
              "      \n",
              "  <style>\n",
              "    .colab-df-container {\n",
              "      display:flex;\n",
              "      flex-wrap:wrap;\n",
              "      gap: 12px;\n",
              "    }\n",
              "\n",
              "    .colab-df-convert {\n",
              "      background-color: #E8F0FE;\n",
              "      border: none;\n",
              "      border-radius: 50%;\n",
              "      cursor: pointer;\n",
              "      display: none;\n",
              "      fill: #1967D2;\n",
              "      height: 32px;\n",
              "      padding: 0 0 0 0;\n",
              "      width: 32px;\n",
              "    }\n",
              "\n",
              "    .colab-df-convert:hover {\n",
              "      background-color: #E2EBFA;\n",
              "      box-shadow: 0px 1px 2px rgba(60, 64, 67, 0.3), 0px 1px 3px 1px rgba(60, 64, 67, 0.15);\n",
              "      fill: #174EA6;\n",
              "    }\n",
              "\n",
              "    [theme=dark] .colab-df-convert {\n",
              "      background-color: #3B4455;\n",
              "      fill: #D2E3FC;\n",
              "    }\n",
              "\n",
              "    [theme=dark] .colab-df-convert:hover {\n",
              "      background-color: #434B5C;\n",
              "      box-shadow: 0px 1px 3px 1px rgba(0, 0, 0, 0.15);\n",
              "      filter: drop-shadow(0px 1px 2px rgba(0, 0, 0, 0.3));\n",
              "      fill: #FFFFFF;\n",
              "    }\n",
              "  </style>\n",
              "\n",
              "      <script>\n",
              "        const buttonEl =\n",
              "          document.querySelector('#df-b4fa444d-5fb7-415c-8615-2195b6d1b0c4 button.colab-df-convert');\n",
              "        buttonEl.style.display =\n",
              "          google.colab.kernel.accessAllowed ? 'block' : 'none';\n",
              "\n",
              "        async function convertToInteractive(key) {\n",
              "          const element = document.querySelector('#df-b4fa444d-5fb7-415c-8615-2195b6d1b0c4');\n",
              "          const dataTable =\n",
              "            await google.colab.kernel.invokeFunction('convertToInteractive',\n",
              "                                                     [key], {});\n",
              "          if (!dataTable) return;\n",
              "\n",
              "          const docLinkHtml = 'Like what you see? Visit the ' +\n",
              "            '<a target=\"_blank\" href=https://colab.research.google.com/notebooks/data_table.ipynb>data table notebook</a>'\n",
              "            + ' to learn more about interactive tables.';\n",
              "          element.innerHTML = '';\n",
              "          dataTable['output_type'] = 'display_data';\n",
              "          await google.colab.output.renderOutput(dataTable, element);\n",
              "          const docLink = document.createElement('div');\n",
              "          docLink.innerHTML = docLinkHtml;\n",
              "          element.appendChild(docLink);\n",
              "        }\n",
              "      </script>\n",
              "    </div>\n",
              "  </div>\n",
              "  "
            ]
          },
          "metadata": {},
          "execution_count": 69
        }
      ],
      "source": [
        "target.head()"
      ]
    },
    {
      "cell_type": "code",
      "execution_count": 70,
      "metadata": {
        "id": "XLz-mUdS4ci7"
      },
      "outputs": [],
      "source": [
        "from sklearn.model_selection import train_test_split\n",
        "from sklearn.linear_model import LogisticRegression\n",
        "from sklearn.metrics import accuracy_score, confusion_matrix, precision_score, recall_score, f1_score, classification_report"
      ]
    },
    {
      "cell_type": "code",
      "execution_count": 71,
      "metadata": {
        "id": "RSlfKAn54ci7",
        "outputId": "514b352b-24eb-499c-d792-5afb614637a4",
        "colab": {
          "base_uri": "https://localhost:8080/"
        }
      },
      "outputs": [
        {
          "output_type": "stream",
          "name": "stdout",
          "text": [
            "(426, 30)\n",
            "(143, 30)\n",
            "(426, 1)\n",
            "(143, 1)\n"
          ]
        }
      ],
      "source": [
        "X_train, X_test, y_train, y_test = train_test_split(features, target, random_state=10)\n",
        "print(X_train.shape)\n",
        "print(X_test.shape)\n",
        "print(y_train.shape)\n",
        "print(y_test.shape)"
      ]
    },
    {
      "cell_type": "code",
      "execution_count": 72,
      "metadata": {
        "id": "3iazRTSF4ci8",
        "outputId": "8c02f918-7516-4a3d-c229-24929b3c8c97",
        "colab": {
          "base_uri": "https://localhost:8080/"
        }
      },
      "outputs": [
        {
          "output_type": "stream",
          "name": "stderr",
          "text": [
            "/usr/local/lib/python3.7/dist-packages/sklearn/utils/validation.py:993: DataConversionWarning: A column-vector y was passed when a 1d array was expected. Please change the shape of y to (n_samples, ), for example using ravel().\n",
            "  y = column_or_1d(y, warn=True)\n",
            "/usr/local/lib/python3.7/dist-packages/sklearn/linear_model/_logistic.py:818: ConvergenceWarning: lbfgs failed to converge (status=1):\n",
            "STOP: TOTAL NO. of ITERATIONS REACHED LIMIT.\n",
            "\n",
            "Increase the number of iterations (max_iter) or scale the data as shown in:\n",
            "    https://scikit-learn.org/stable/modules/preprocessing.html\n",
            "Please also refer to the documentation for alternative solver options:\n",
            "    https://scikit-learn.org/stable/modules/linear_model.html#logistic-regression\n",
            "  extra_warning_msg=_LOGISTIC_SOLVER_CONVERGENCE_MSG,\n"
          ]
        }
      ],
      "source": [
        "my_logreg_model = LogisticRegression().fit(X_train, y_train)"
      ]
    },
    {
      "cell_type": "code",
      "execution_count": 54,
      "metadata": {
        "id": "vUM2LLYj4ci8",
        "outputId": "21ec57ec-09a9-4746-efdc-05828af88db9",
        "colab": {
          "base_uri": "https://localhost:8080/"
        }
      },
      "outputs": [
        {
          "output_type": "stream",
          "name": "stdout",
          "text": [
            "Accuracy on Train set :  0.9436619718309859\n",
            "Accuracy on Test set :  0.9300699300699301\n"
          ]
        }
      ],
      "source": [
        "my_logreg_preds_train = my_logreg_model.predict(X_train)\n",
        "my_logreg_preds_test = my_logreg_model.predict(X_test)\n",
        "\n",
        "print('Accuracy on Train set : ',accuracy_score(y_train, my_logreg_preds_train))\n",
        "print('Accuracy on Test set : ',accuracy_score(y_test, my_logreg_preds_test))\n",
        "      "
      ]
    },
    {
      "cell_type": "code",
      "execution_count": 48,
      "metadata": {
        "id": "aYSA-s2Z4ci9",
        "outputId": "c441de7e-1a79-4392-bdee-0d30fb4a071b",
        "colab": {
          "base_uri": "https://localhost:8080/"
        }
      },
      "outputs": [
        {
          "output_type": "stream",
          "name": "stdout",
          "text": [
            "Precision on Train set :  0.9481481481481482\n",
            "Precision on Test set :  0.9550561797752809\n",
            "\n",
            "\n",
            "Recall on Train set :  0.9624060150375939\n",
            "Recall on Test set :  0.9340659340659341\n",
            "\n",
            "\n",
            "F1-Score on Train set :  0.955223880597015\n",
            "F1-Score on Test set :  0.9444444444444444\n"
          ]
        }
      ],
      "source": [
        "print('Precision on Train set : ',precision_score(y_train, my_logreg_preds_train))\n",
        "print('Precision on Test set : ',precision_score(y_test, my_logreg_preds_test))\n",
        "\n",
        "print('\\n')\n",
        "\n",
        "print('Recall on Train set : ',recall_score(y_train, my_logreg_preds_train))\n",
        "print('Recall on Test set : ',recall_score(y_test, my_logreg_preds_test))\n",
        "\n",
        "print('\\n')\n",
        "\n",
        "print('F1-Score on Train set : ',f1_score(y_train, my_logreg_preds_train))\n",
        "print('F1-Score on Test set : ',f1_score(y_test, my_logreg_preds_test))"
      ]
    },
    {
      "cell_type": "code",
      "execution_count": 47,
      "metadata": {
        "id": "YoY7-ZHn4ci9",
        "outputId": "3628d65c-30ef-4401-cfc3-63f524cd388b",
        "colab": {
          "base_uri": "https://localhost:8080/"
        }
      },
      "outputs": [
        {
          "output_type": "stream",
          "name": "stdout",
          "text": [
            "Classification Report on Train set : \n",
            "              precision    recall  f1-score   support\n",
            "\n",
            "           0       0.94      0.91      0.92       160\n",
            "           1       0.95      0.96      0.96       266\n",
            "\n",
            "    accuracy                           0.94       426\n",
            "   macro avg       0.94      0.94      0.94       426\n",
            "weighted avg       0.94      0.94      0.94       426\n",
            "\n"
          ]
        }
      ],
      "source": [
        "print('Classification Report on Train set : ')\n",
        "print(classification_report(y_train, my_logreg_preds_train))"
      ]
    },
    {
      "cell_type": "code",
      "execution_count": 46,
      "metadata": {
        "id": "HNaYAYDn4ci-",
        "outputId": "b0803eb3-0077-4c8b-bb22-fa1c5a6237e7",
        "colab": {
          "base_uri": "https://localhost:8080/"
        }
      },
      "outputs": [
        {
          "output_type": "stream",
          "name": "stdout",
          "text": [
            "Classification Report on Test set : \n",
            "              precision    recall  f1-score   support\n",
            "\n",
            "           0       0.89      0.92      0.91        52\n",
            "           1       0.96      0.93      0.94        91\n",
            "\n",
            "    accuracy                           0.93       143\n",
            "   macro avg       0.92      0.93      0.93       143\n",
            "weighted avg       0.93      0.93      0.93       143\n",
            "\n"
          ]
        }
      ],
      "source": [
        "print('Classification Report on Test set : ')\n",
        "print(classification_report(y_test, my_logreg_preds_test))"
      ]
    },
    {
      "cell_type": "code",
      "source": [
        "preds = my_logreg_model.predict(X_test)"
      ],
      "metadata": {
        "id": "DR4e_lpmMOr_"
      },
      "execution_count": 17,
      "outputs": []
    },
    {
      "cell_type": "code",
      "execution_count": 18,
      "metadata": {
        "id": "_6rw6ExB4ci-"
      },
      "outputs": [],
      "source": [
        "from sklearn.metrics import accuracy_score,confusion_matrix"
      ]
    },
    {
      "cell_type": "code",
      "source": [
        "print(accuracy_score(y_test, preds))"
      ],
      "metadata": {
        "colab": {
          "base_uri": "https://localhost:8080/"
        },
        "id": "_xTiz1cUMKXl",
        "outputId": "ef94d96e-46a0-4462-ce60-dc59ba3041a1"
      },
      "execution_count": 19,
      "outputs": [
        {
          "output_type": "stream",
          "name": "stdout",
          "text": [
            "0.9300699300699301\n"
          ]
        }
      ]
    },
    {
      "cell_type": "code",
      "source": [
        "print(confusion_matrix(y_test, preds))"
      ],
      "metadata": {
        "colab": {
          "base_uri": "https://localhost:8080/"
        },
        "id": "DdmnCMniMKU1",
        "outputId": "b06577c3-9c22-4c15-9437-59072b2a848a"
      },
      "execution_count": 20,
      "outputs": [
        {
          "output_type": "stream",
          "name": "stdout",
          "text": [
            "[[48  4]\n",
            " [ 6 85]]\n"
          ]
        }
      ]
    },
    {
      "cell_type": "markdown",
      "source": [
        "# Implementing Scalling ( mean Perimeter, mean Area, Worst perimeter)"
      ],
      "metadata": {
        "id": "ODIwk751OgZm"
      }
    },
    {
      "cell_type": "code",
      "source": [
        "from sklearn.preprocessing import StandardScaler, MinMaxScaler"
      ],
      "metadata": {
        "id": "w3HlGLI0O0lq"
      },
      "execution_count": 34,
      "outputs": []
    },
    {
      "cell_type": "code",
      "source": [
        "mean_perimeter_std_scaler = StandardScaler()\n",
        "mean_area_std_scaler = StandardScaler()\n",
        "#worst_perimeter_std_scaler = StandardScaler()"
      ],
      "metadata": {
        "id": "oxPYJ8eRO0gO"
      },
      "execution_count": 35,
      "outputs": []
    },
    {
      "cell_type": "code",
      "source": [
        "#Scalling Training Dataset\n",
        "X_train['mean perimeter'] = mean_perimeter_std_scaler.fit_transform(X_train[['mean perimeter']])\n",
        "X_train['mean area'] = mean_area_std_scaler.fit_transform(X_train[['mean area']])\n",
        "X_train"
      ],
      "metadata": {
        "colab": {
          "base_uri": "https://localhost:8080/",
          "height": 502
        },
        "id": "w17UwP3CO0ci",
        "outputId": "5a1bf9a4-a1cb-4ed4-a207-ef9f2305a123"
      },
      "execution_count": 37,
      "outputs": [
        {
          "output_type": "execute_result",
          "data": {
            "text/plain": [
              "     mean radius  mean texture  mean perimeter  mean area  mean smoothness  \\\n",
              "327       12.030         17.93       -0.662288  -0.597596          0.07683   \n",
              "60        10.170         14.88       -1.128349  -0.968298          0.11340   \n",
              "260       20.310         27.06        1.632077   1.730002          0.10000   \n",
              "504        9.268         12.87       -1.251932  -1.143006          0.16340   \n",
              "544       13.870         20.70       -0.109799  -0.213902          0.09578   \n",
              "..           ...           ...             ...        ...              ...   \n",
              "369       22.010         21.90        2.209605   2.266290          0.10630   \n",
              "320       10.250         16.18       -1.048788  -0.934296          0.10610   \n",
              "527       12.340         12.27       -0.547186  -0.535398          0.09003   \n",
              "125       13.850         17.21       -0.163513  -0.203121          0.08785   \n",
              "265       20.730         31.12        1.745159   2.092134          0.09469   \n",
              "\n",
              "     mean compactness  mean concavity  mean concave points  mean symmetry  \\\n",
              "327           0.03892        0.001546             0.005592         0.1382   \n",
              "60            0.08061        0.010840             0.012900         0.2743   \n",
              "260           0.10880        0.151900             0.093330         0.1814   \n",
              "504           0.22390        0.097300             0.052520         0.2378   \n",
              "544           0.10180        0.036880             0.023690         0.1620   \n",
              "..                ...             ...                  ...            ...   \n",
              "369           0.19540        0.244800             0.150100         0.1824   \n",
              "320           0.11110        0.067260             0.039650         0.1743   \n",
              "527           0.06307        0.029580             0.026470         0.1689   \n",
              "125           0.06136        0.014200             0.011410         0.1614   \n",
              "265           0.11430        0.136700             0.086460         0.1769   \n",
              "\n",
              "     mean fractal dimension  ...  worst radius  worst texture  \\\n",
              "327                 0.06070  ...         13.07          22.25   \n",
              "60                  0.06960  ...         11.02          17.45   \n",
              "260                 0.05572  ...         24.33          39.16   \n",
              "504                 0.09502  ...         10.28          16.38   \n",
              "544                 0.06688  ...         15.05          24.75   \n",
              "..                      ...  ...           ...            ...   \n",
              "369                 0.06140  ...         27.66          25.80   \n",
              "320                 0.07279  ...         11.28          20.61   \n",
              "527                 0.05808  ...         13.61          19.27   \n",
              "125                 0.05890  ...         15.49          23.58   \n",
              "265                 0.05674  ...         32.49          47.16   \n",
              "\n",
              "     worst perimeter  worst area  worst smoothness  worst compactness  \\\n",
              "327            82.74       523.4            0.1013            0.07390   \n",
              "60             69.86       368.6            0.1275            0.09866   \n",
              "260           162.30      1844.0            0.1522            0.29450   \n",
              "504            69.05       300.2            0.1902            0.34410   \n",
              "544            99.17       688.6            0.1264            0.20370   \n",
              "..               ...         ...               ...                ...   \n",
              "369           195.00      2227.0            0.1294            0.38850   \n",
              "320            71.53       390.4            0.1402            0.23600   \n",
              "527            87.22       564.9            0.1292            0.20740   \n",
              "125           100.30       725.9            0.1157            0.13500   \n",
              "265           214.00      3432.0            0.1401            0.26440   \n",
              "\n",
              "     worst concavity  worst concave points  worst symmetry  \\\n",
              "327         0.007732               0.02796          0.2171   \n",
              "60          0.021680               0.02579          0.3557   \n",
              "260         0.378800               0.16970          0.3151   \n",
              "504         0.209900               0.10250          0.3038   \n",
              "544         0.137700               0.06845          0.2249   \n",
              "..               ...                   ...             ...   \n",
              "369         0.475600               0.24320          0.2741   \n",
              "320         0.189800               0.09744          0.2608   \n",
              "527         0.179100               0.10700          0.3110   \n",
              "125         0.081150               0.05104          0.2364   \n",
              "265         0.344200               0.16590          0.2868   \n",
              "\n",
              "     worst fractal dimension  \n",
              "327                  0.07037  \n",
              "60                   0.08020  \n",
              "260                  0.07999  \n",
              "504                  0.12520  \n",
              "544                  0.08492  \n",
              "..                       ...  \n",
              "369                  0.08574  \n",
              "320                  0.09702  \n",
              "527                  0.07592  \n",
              "125                  0.07182  \n",
              "265                  0.08218  \n",
              "\n",
              "[426 rows x 30 columns]"
            ],
            "text/html": [
              "\n",
              "  <div id=\"df-de96c828-a4f6-48d0-ad88-58a8f1f80694\">\n",
              "    <div class=\"colab-df-container\">\n",
              "      <div>\n",
              "<style scoped>\n",
              "    .dataframe tbody tr th:only-of-type {\n",
              "        vertical-align: middle;\n",
              "    }\n",
              "\n",
              "    .dataframe tbody tr th {\n",
              "        vertical-align: top;\n",
              "    }\n",
              "\n",
              "    .dataframe thead th {\n",
              "        text-align: right;\n",
              "    }\n",
              "</style>\n",
              "<table border=\"1\" class=\"dataframe\">\n",
              "  <thead>\n",
              "    <tr style=\"text-align: right;\">\n",
              "      <th></th>\n",
              "      <th>mean radius</th>\n",
              "      <th>mean texture</th>\n",
              "      <th>mean perimeter</th>\n",
              "      <th>mean area</th>\n",
              "      <th>mean smoothness</th>\n",
              "      <th>mean compactness</th>\n",
              "      <th>mean concavity</th>\n",
              "      <th>mean concave points</th>\n",
              "      <th>mean symmetry</th>\n",
              "      <th>mean fractal dimension</th>\n",
              "      <th>...</th>\n",
              "      <th>worst radius</th>\n",
              "      <th>worst texture</th>\n",
              "      <th>worst perimeter</th>\n",
              "      <th>worst area</th>\n",
              "      <th>worst smoothness</th>\n",
              "      <th>worst compactness</th>\n",
              "      <th>worst concavity</th>\n",
              "      <th>worst concave points</th>\n",
              "      <th>worst symmetry</th>\n",
              "      <th>worst fractal dimension</th>\n",
              "    </tr>\n",
              "  </thead>\n",
              "  <tbody>\n",
              "    <tr>\n",
              "      <th>327</th>\n",
              "      <td>12.030</td>\n",
              "      <td>17.93</td>\n",
              "      <td>-0.662288</td>\n",
              "      <td>-0.597596</td>\n",
              "      <td>0.07683</td>\n",
              "      <td>0.03892</td>\n",
              "      <td>0.001546</td>\n",
              "      <td>0.005592</td>\n",
              "      <td>0.1382</td>\n",
              "      <td>0.06070</td>\n",
              "      <td>...</td>\n",
              "      <td>13.07</td>\n",
              "      <td>22.25</td>\n",
              "      <td>82.74</td>\n",
              "      <td>523.4</td>\n",
              "      <td>0.1013</td>\n",
              "      <td>0.07390</td>\n",
              "      <td>0.007732</td>\n",
              "      <td>0.02796</td>\n",
              "      <td>0.2171</td>\n",
              "      <td>0.07037</td>\n",
              "    </tr>\n",
              "    <tr>\n",
              "      <th>60</th>\n",
              "      <td>10.170</td>\n",
              "      <td>14.88</td>\n",
              "      <td>-1.128349</td>\n",
              "      <td>-0.968298</td>\n",
              "      <td>0.11340</td>\n",
              "      <td>0.08061</td>\n",
              "      <td>0.010840</td>\n",
              "      <td>0.012900</td>\n",
              "      <td>0.2743</td>\n",
              "      <td>0.06960</td>\n",
              "      <td>...</td>\n",
              "      <td>11.02</td>\n",
              "      <td>17.45</td>\n",
              "      <td>69.86</td>\n",
              "      <td>368.6</td>\n",
              "      <td>0.1275</td>\n",
              "      <td>0.09866</td>\n",
              "      <td>0.021680</td>\n",
              "      <td>0.02579</td>\n",
              "      <td>0.3557</td>\n",
              "      <td>0.08020</td>\n",
              "    </tr>\n",
              "    <tr>\n",
              "      <th>260</th>\n",
              "      <td>20.310</td>\n",
              "      <td>27.06</td>\n",
              "      <td>1.632077</td>\n",
              "      <td>1.730002</td>\n",
              "      <td>0.10000</td>\n",
              "      <td>0.10880</td>\n",
              "      <td>0.151900</td>\n",
              "      <td>0.093330</td>\n",
              "      <td>0.1814</td>\n",
              "      <td>0.05572</td>\n",
              "      <td>...</td>\n",
              "      <td>24.33</td>\n",
              "      <td>39.16</td>\n",
              "      <td>162.30</td>\n",
              "      <td>1844.0</td>\n",
              "      <td>0.1522</td>\n",
              "      <td>0.29450</td>\n",
              "      <td>0.378800</td>\n",
              "      <td>0.16970</td>\n",
              "      <td>0.3151</td>\n",
              "      <td>0.07999</td>\n",
              "    </tr>\n",
              "    <tr>\n",
              "      <th>504</th>\n",
              "      <td>9.268</td>\n",
              "      <td>12.87</td>\n",
              "      <td>-1.251932</td>\n",
              "      <td>-1.143006</td>\n",
              "      <td>0.16340</td>\n",
              "      <td>0.22390</td>\n",
              "      <td>0.097300</td>\n",
              "      <td>0.052520</td>\n",
              "      <td>0.2378</td>\n",
              "      <td>0.09502</td>\n",
              "      <td>...</td>\n",
              "      <td>10.28</td>\n",
              "      <td>16.38</td>\n",
              "      <td>69.05</td>\n",
              "      <td>300.2</td>\n",
              "      <td>0.1902</td>\n",
              "      <td>0.34410</td>\n",
              "      <td>0.209900</td>\n",
              "      <td>0.10250</td>\n",
              "      <td>0.3038</td>\n",
              "      <td>0.12520</td>\n",
              "    </tr>\n",
              "    <tr>\n",
              "      <th>544</th>\n",
              "      <td>13.870</td>\n",
              "      <td>20.70</td>\n",
              "      <td>-0.109799</td>\n",
              "      <td>-0.213902</td>\n",
              "      <td>0.09578</td>\n",
              "      <td>0.10180</td>\n",
              "      <td>0.036880</td>\n",
              "      <td>0.023690</td>\n",
              "      <td>0.1620</td>\n",
              "      <td>0.06688</td>\n",
              "      <td>...</td>\n",
              "      <td>15.05</td>\n",
              "      <td>24.75</td>\n",
              "      <td>99.17</td>\n",
              "      <td>688.6</td>\n",
              "      <td>0.1264</td>\n",
              "      <td>0.20370</td>\n",
              "      <td>0.137700</td>\n",
              "      <td>0.06845</td>\n",
              "      <td>0.2249</td>\n",
              "      <td>0.08492</td>\n",
              "    </tr>\n",
              "    <tr>\n",
              "      <th>...</th>\n",
              "      <td>...</td>\n",
              "      <td>...</td>\n",
              "      <td>...</td>\n",
              "      <td>...</td>\n",
              "      <td>...</td>\n",
              "      <td>...</td>\n",
              "      <td>...</td>\n",
              "      <td>...</td>\n",
              "      <td>...</td>\n",
              "      <td>...</td>\n",
              "      <td>...</td>\n",
              "      <td>...</td>\n",
              "      <td>...</td>\n",
              "      <td>...</td>\n",
              "      <td>...</td>\n",
              "      <td>...</td>\n",
              "      <td>...</td>\n",
              "      <td>...</td>\n",
              "      <td>...</td>\n",
              "      <td>...</td>\n",
              "      <td>...</td>\n",
              "    </tr>\n",
              "    <tr>\n",
              "      <th>369</th>\n",
              "      <td>22.010</td>\n",
              "      <td>21.90</td>\n",
              "      <td>2.209605</td>\n",
              "      <td>2.266290</td>\n",
              "      <td>0.10630</td>\n",
              "      <td>0.19540</td>\n",
              "      <td>0.244800</td>\n",
              "      <td>0.150100</td>\n",
              "      <td>0.1824</td>\n",
              "      <td>0.06140</td>\n",
              "      <td>...</td>\n",
              "      <td>27.66</td>\n",
              "      <td>25.80</td>\n",
              "      <td>195.00</td>\n",
              "      <td>2227.0</td>\n",
              "      <td>0.1294</td>\n",
              "      <td>0.38850</td>\n",
              "      <td>0.475600</td>\n",
              "      <td>0.24320</td>\n",
              "      <td>0.2741</td>\n",
              "      <td>0.08574</td>\n",
              "    </tr>\n",
              "    <tr>\n",
              "      <th>320</th>\n",
              "      <td>10.250</td>\n",
              "      <td>16.18</td>\n",
              "      <td>-1.048788</td>\n",
              "      <td>-0.934296</td>\n",
              "      <td>0.10610</td>\n",
              "      <td>0.11110</td>\n",
              "      <td>0.067260</td>\n",
              "      <td>0.039650</td>\n",
              "      <td>0.1743</td>\n",
              "      <td>0.07279</td>\n",
              "      <td>...</td>\n",
              "      <td>11.28</td>\n",
              "      <td>20.61</td>\n",
              "      <td>71.53</td>\n",
              "      <td>390.4</td>\n",
              "      <td>0.1402</td>\n",
              "      <td>0.23600</td>\n",
              "      <td>0.189800</td>\n",
              "      <td>0.09744</td>\n",
              "      <td>0.2608</td>\n",
              "      <td>0.09702</td>\n",
              "    </tr>\n",
              "    <tr>\n",
              "      <th>527</th>\n",
              "      <td>12.340</td>\n",
              "      <td>12.27</td>\n",
              "      <td>-0.547186</td>\n",
              "      <td>-0.535398</td>\n",
              "      <td>0.09003</td>\n",
              "      <td>0.06307</td>\n",
              "      <td>0.029580</td>\n",
              "      <td>0.026470</td>\n",
              "      <td>0.1689</td>\n",
              "      <td>0.05808</td>\n",
              "      <td>...</td>\n",
              "      <td>13.61</td>\n",
              "      <td>19.27</td>\n",
              "      <td>87.22</td>\n",
              "      <td>564.9</td>\n",
              "      <td>0.1292</td>\n",
              "      <td>0.20740</td>\n",
              "      <td>0.179100</td>\n",
              "      <td>0.10700</td>\n",
              "      <td>0.3110</td>\n",
              "      <td>0.07592</td>\n",
              "    </tr>\n",
              "    <tr>\n",
              "      <th>125</th>\n",
              "      <td>13.850</td>\n",
              "      <td>17.21</td>\n",
              "      <td>-0.163513</td>\n",
              "      <td>-0.203121</td>\n",
              "      <td>0.08785</td>\n",
              "      <td>0.06136</td>\n",
              "      <td>0.014200</td>\n",
              "      <td>0.011410</td>\n",
              "      <td>0.1614</td>\n",
              "      <td>0.05890</td>\n",
              "      <td>...</td>\n",
              "      <td>15.49</td>\n",
              "      <td>23.58</td>\n",
              "      <td>100.30</td>\n",
              "      <td>725.9</td>\n",
              "      <td>0.1157</td>\n",
              "      <td>0.13500</td>\n",
              "      <td>0.081150</td>\n",
              "      <td>0.05104</td>\n",
              "      <td>0.2364</td>\n",
              "      <td>0.07182</td>\n",
              "    </tr>\n",
              "    <tr>\n",
              "      <th>265</th>\n",
              "      <td>20.730</td>\n",
              "      <td>31.12</td>\n",
              "      <td>1.745159</td>\n",
              "      <td>2.092134</td>\n",
              "      <td>0.09469</td>\n",
              "      <td>0.11430</td>\n",
              "      <td>0.136700</td>\n",
              "      <td>0.086460</td>\n",
              "      <td>0.1769</td>\n",
              "      <td>0.05674</td>\n",
              "      <td>...</td>\n",
              "      <td>32.49</td>\n",
              "      <td>47.16</td>\n",
              "      <td>214.00</td>\n",
              "      <td>3432.0</td>\n",
              "      <td>0.1401</td>\n",
              "      <td>0.26440</td>\n",
              "      <td>0.344200</td>\n",
              "      <td>0.16590</td>\n",
              "      <td>0.2868</td>\n",
              "      <td>0.08218</td>\n",
              "    </tr>\n",
              "  </tbody>\n",
              "</table>\n",
              "<p>426 rows × 30 columns</p>\n",
              "</div>\n",
              "      <button class=\"colab-df-convert\" onclick=\"convertToInteractive('df-de96c828-a4f6-48d0-ad88-58a8f1f80694')\"\n",
              "              title=\"Convert this dataframe to an interactive table.\"\n",
              "              style=\"display:none;\">\n",
              "        \n",
              "  <svg xmlns=\"http://www.w3.org/2000/svg\" height=\"24px\"viewBox=\"0 0 24 24\"\n",
              "       width=\"24px\">\n",
              "    <path d=\"M0 0h24v24H0V0z\" fill=\"none\"/>\n",
              "    <path d=\"M18.56 5.44l.94 2.06.94-2.06 2.06-.94-2.06-.94-.94-2.06-.94 2.06-2.06.94zm-11 1L8.5 8.5l.94-2.06 2.06-.94-2.06-.94L8.5 2.5l-.94 2.06-2.06.94zm10 10l.94 2.06.94-2.06 2.06-.94-2.06-.94-.94-2.06-.94 2.06-2.06.94z\"/><path d=\"M17.41 7.96l-1.37-1.37c-.4-.4-.92-.59-1.43-.59-.52 0-1.04.2-1.43.59L10.3 9.45l-7.72 7.72c-.78.78-.78 2.05 0 2.83L4 21.41c.39.39.9.59 1.41.59.51 0 1.02-.2 1.41-.59l7.78-7.78 2.81-2.81c.8-.78.8-2.07 0-2.86zM5.41 20L4 18.59l7.72-7.72 1.47 1.35L5.41 20z\"/>\n",
              "  </svg>\n",
              "      </button>\n",
              "      \n",
              "  <style>\n",
              "    .colab-df-container {\n",
              "      display:flex;\n",
              "      flex-wrap:wrap;\n",
              "      gap: 12px;\n",
              "    }\n",
              "\n",
              "    .colab-df-convert {\n",
              "      background-color: #E8F0FE;\n",
              "      border: none;\n",
              "      border-radius: 50%;\n",
              "      cursor: pointer;\n",
              "      display: none;\n",
              "      fill: #1967D2;\n",
              "      height: 32px;\n",
              "      padding: 0 0 0 0;\n",
              "      width: 32px;\n",
              "    }\n",
              "\n",
              "    .colab-df-convert:hover {\n",
              "      background-color: #E2EBFA;\n",
              "      box-shadow: 0px 1px 2px rgba(60, 64, 67, 0.3), 0px 1px 3px 1px rgba(60, 64, 67, 0.15);\n",
              "      fill: #174EA6;\n",
              "    }\n",
              "\n",
              "    [theme=dark] .colab-df-convert {\n",
              "      background-color: #3B4455;\n",
              "      fill: #D2E3FC;\n",
              "    }\n",
              "\n",
              "    [theme=dark] .colab-df-convert:hover {\n",
              "      background-color: #434B5C;\n",
              "      box-shadow: 0px 1px 3px 1px rgba(0, 0, 0, 0.15);\n",
              "      filter: drop-shadow(0px 1px 2px rgba(0, 0, 0, 0.3));\n",
              "      fill: #FFFFFF;\n",
              "    }\n",
              "  </style>\n",
              "\n",
              "      <script>\n",
              "        const buttonEl =\n",
              "          document.querySelector('#df-de96c828-a4f6-48d0-ad88-58a8f1f80694 button.colab-df-convert');\n",
              "        buttonEl.style.display =\n",
              "          google.colab.kernel.accessAllowed ? 'block' : 'none';\n",
              "\n",
              "        async function convertToInteractive(key) {\n",
              "          const element = document.querySelector('#df-de96c828-a4f6-48d0-ad88-58a8f1f80694');\n",
              "          const dataTable =\n",
              "            await google.colab.kernel.invokeFunction('convertToInteractive',\n",
              "                                                     [key], {});\n",
              "          if (!dataTable) return;\n",
              "\n",
              "          const docLinkHtml = 'Like what you see? Visit the ' +\n",
              "            '<a target=\"_blank\" href=https://colab.research.google.com/notebooks/data_table.ipynb>data table notebook</a>'\n",
              "            + ' to learn more about interactive tables.';\n",
              "          element.innerHTML = '';\n",
              "          dataTable['output_type'] = 'display_data';\n",
              "          await google.colab.output.renderOutput(dataTable, element);\n",
              "          const docLink = document.createElement('div');\n",
              "          docLink.innerHTML = docLinkHtml;\n",
              "          element.appendChild(docLink);\n",
              "        }\n",
              "      </script>\n",
              "    </div>\n",
              "  </div>\n",
              "  "
            ]
          },
          "metadata": {},
          "execution_count": 37
        }
      ]
    },
    {
      "cell_type": "code",
      "source": [
        "# Modeling with scalling\n",
        "logreg = LogisticRegression()"
      ],
      "metadata": {
        "id": "nAcYyhgCO0ZT"
      },
      "execution_count": 38,
      "outputs": []
    },
    {
      "cell_type": "code",
      "source": [
        "# Fitting with scalling\n",
        "logreg.fit(X_train,y_train)"
      ],
      "metadata": {
        "colab": {
          "base_uri": "https://localhost:8080/"
        },
        "id": "BKyMxmecO0Vc",
        "outputId": "787db0e0-5b82-4a72-fbd4-f512c5edebad"
      },
      "execution_count": 39,
      "outputs": [
        {
          "output_type": "stream",
          "name": "stderr",
          "text": [
            "/usr/local/lib/python3.7/dist-packages/sklearn/utils/validation.py:993: DataConversionWarning: A column-vector y was passed when a 1d array was expected. Please change the shape of y to (n_samples, ), for example using ravel().\n",
            "  y = column_or_1d(y, warn=True)\n",
            "/usr/local/lib/python3.7/dist-packages/sklearn/linear_model/_logistic.py:818: ConvergenceWarning: lbfgs failed to converge (status=1):\n",
            "STOP: TOTAL NO. of ITERATIONS REACHED LIMIT.\n",
            "\n",
            "Increase the number of iterations (max_iter) or scale the data as shown in:\n",
            "    https://scikit-learn.org/stable/modules/preprocessing.html\n",
            "Please also refer to the documentation for alternative solver options:\n",
            "    https://scikit-learn.org/stable/modules/linear_model.html#logistic-regression\n",
            "  extra_warning_msg=_LOGISTIC_SOLVER_CONVERGENCE_MSG,\n"
          ]
        },
        {
          "output_type": "execute_result",
          "data": {
            "text/plain": [
              "LogisticRegression()"
            ]
          },
          "metadata": {},
          "execution_count": 39
        }
      ]
    },
    {
      "cell_type": "code",
      "source": [
        "# Getting coefficient of the line\n",
        "logreg.coef_, logreg.intercept_"
      ],
      "metadata": {
        "colab": {
          "base_uri": "https://localhost:8080/"
        },
        "id": "yq9KfmPeO0RH",
        "outputId": "045a4024-34ee-4f3d-de08-6a9b28bb3b4b"
      },
      "execution_count": 40,
      "outputs": [
        {
          "output_type": "execute_result",
          "data": {
            "text/plain": [
              "(array([[ 1.88035175e+00,  2.16867779e-01, -9.37240153e-01,\n",
              "         -4.96167228e-01, -7.43867123e-02, -2.61727101e-01,\n",
              "         -4.15298069e-01, -1.91892855e-01, -7.69867516e-02,\n",
              "         -1.51916360e-02, -1.15042456e-02,  8.75641519e-01,\n",
              "          1.90046927e-01, -1.19331435e-01, -5.08509391e-03,\n",
              "         -8.84313698e-03, -4.52651135e-02, -2.19060895e-02,\n",
              "         -3.39682112e-03,  1.79123730e-03,  1.17750216e+00,\n",
              "         -4.64252127e-01, -1.26805549e-01, -2.65013222e-02,\n",
              "         -1.47111085e-01, -8.52090651e-01, -1.12475098e+00,\n",
              "         -4.01213014e-01, -2.90493517e-01, -9.29728602e-02]]),\n",
              " array([0.40248753]))"
            ]
          },
          "metadata": {},
          "execution_count": 40
        }
      ]
    },
    {
      "cell_type": "code",
      "source": [
        "# Scalling Test Dataset\n",
        "X_test['mean perimeter'] = mean_perimeter_std_scaler.fit_transform(X_test[['mean perimeter']])\n",
        "X_test['mean area'] = mean_area_std_scaler.fit_transform(X_test[['mean area']])\n",
        "X_test"
      ],
      "metadata": {
        "colab": {
          "base_uri": "https://localhost:8080/",
          "height": 502
        },
        "id": "3mLR2xhOO0I-",
        "outputId": "036bf980-11a9-4362-f547-56db3d8e535c"
      },
      "execution_count": 41,
      "outputs": [
        {
          "output_type": "execute_result",
          "data": {
            "text/plain": [
              "     mean radius  mean texture  mean perimeter  mean area  mean smoothness  \\\n",
              "172       15.460         11.89        0.531938   0.325664          0.12570   \n",
              "553        9.333         21.94       -1.383281  -1.159092          0.09240   \n",
              "374       13.690         16.07       -0.113662  -0.169778          0.08302   \n",
              "370       16.350         23.29        0.818186   0.650621          0.09742   \n",
              "419       11.160         21.41       -0.857466  -0.793947          0.10180   \n",
              "..           ...           ...             ...        ...              ...   \n",
              "545       13.620         23.23       -0.142286  -0.188302          0.09246   \n",
              "161       19.190         15.94        1.580045   1.644645          0.08694   \n",
              "434       14.860         16.94        0.196807   0.127236          0.08924   \n",
              "59         8.618         11.79       -1.588939  -1.283109          0.09752   \n",
              "164       23.270         22.04        2.716229   3.305537          0.08439   \n",
              "\n",
              "     mean compactness  mean concavity  mean concave points  mean symmetry  \\\n",
              "172           0.15550        0.203200             0.109700         0.1966   \n",
              "553           0.05605        0.039960             0.012820         0.1692   \n",
              "374           0.06374        0.025560             0.020310         0.1872   \n",
              "370           0.14970        0.181100             0.087730         0.2175   \n",
              "419           0.05978        0.008955             0.010760         0.1615   \n",
              "..                ...             ...                  ...            ...   \n",
              "545           0.06747        0.029740             0.024430         0.1664   \n",
              "161           0.11850        0.119300             0.096670         0.1741   \n",
              "434           0.07074        0.033460             0.028770         0.1573   \n",
              "59            0.05272        0.020610             0.007799         0.1683   \n",
              "164           0.11450        0.132400             0.097020         0.1801   \n",
              "\n",
              "     mean fractal dimension  ...  worst radius  worst texture  \\\n",
              "172                 0.07069  ...        18.790          17.04   \n",
              "553                 0.06576  ...         9.845          25.05   \n",
              "374                 0.05669  ...        14.840          20.21   \n",
              "370                 0.06218  ...        19.380          31.03   \n",
              "419                 0.06144  ...        12.360          28.92   \n",
              "..                      ...  ...           ...            ...   \n",
              "545                 0.05801  ...        15.350          29.09   \n",
              "161                 0.05176  ...        22.030          17.81   \n",
              "434                 0.05703  ...        16.310          20.54   \n",
              "59                  0.07187  ...         9.507          15.40   \n",
              "164                 0.05553  ...        28.010          28.22   \n",
              "\n",
              "     worst perimeter  worst area  worst smoothness  worst compactness  \\\n",
              "172           125.00      1102.0            0.1531            0.35830   \n",
              "553            62.86       295.8            0.1103            0.08298   \n",
              "374            99.16       670.6            0.1105            0.20960   \n",
              "370           129.30      1165.0            0.1415            0.46650   \n",
              "419            79.26       458.0            0.1282            0.11080   \n",
              "..               ...         ...               ...                ...   \n",
              "545            97.58       729.8            0.1216            0.15170   \n",
              "161           146.60      1495.0            0.1124            0.20160   \n",
              "434           102.30       777.5            0.1218            0.15500   \n",
              "59             59.90       274.9            0.1733            0.12390   \n",
              "164           184.20      2403.0            0.1228            0.35830   \n",
              "\n",
              "     worst concavity  worst concave points  worst symmetry  \\\n",
              "172          0.58300               0.18270          0.3216   \n",
              "553          0.07993               0.02564          0.2435   \n",
              "374          0.13460               0.06987          0.3323   \n",
              "370          0.70870               0.22480          0.4824   \n",
              "419          0.03582               0.04306          0.2976   \n",
              "..               ...                   ...             ...   \n",
              "545          0.10490               0.07174          0.2642   \n",
              "161          0.22640               0.17770          0.2443   \n",
              "434          0.12200               0.07971          0.2525   \n",
              "59           0.11680               0.04419          0.3220   \n",
              "164          0.39480               0.23460          0.3589   \n",
              "\n",
              "     worst fractal dimension  \n",
              "172                  0.10100  \n",
              "553                  0.07393  \n",
              "374                  0.07701  \n",
              "370                  0.09614  \n",
              "419                  0.07123  \n",
              "..                       ...  \n",
              "545                  0.06953  \n",
              "161                  0.06251  \n",
              "434                  0.06827  \n",
              "59                   0.09026  \n",
              "164                  0.09187  \n",
              "\n",
              "[143 rows x 30 columns]"
            ],
            "text/html": [
              "\n",
              "  <div id=\"df-ec15498a-a764-4b84-bf7f-33e0337d1966\">\n",
              "    <div class=\"colab-df-container\">\n",
              "      <div>\n",
              "<style scoped>\n",
              "    .dataframe tbody tr th:only-of-type {\n",
              "        vertical-align: middle;\n",
              "    }\n",
              "\n",
              "    .dataframe tbody tr th {\n",
              "        vertical-align: top;\n",
              "    }\n",
              "\n",
              "    .dataframe thead th {\n",
              "        text-align: right;\n",
              "    }\n",
              "</style>\n",
              "<table border=\"1\" class=\"dataframe\">\n",
              "  <thead>\n",
              "    <tr style=\"text-align: right;\">\n",
              "      <th></th>\n",
              "      <th>mean radius</th>\n",
              "      <th>mean texture</th>\n",
              "      <th>mean perimeter</th>\n",
              "      <th>mean area</th>\n",
              "      <th>mean smoothness</th>\n",
              "      <th>mean compactness</th>\n",
              "      <th>mean concavity</th>\n",
              "      <th>mean concave points</th>\n",
              "      <th>mean symmetry</th>\n",
              "      <th>mean fractal dimension</th>\n",
              "      <th>...</th>\n",
              "      <th>worst radius</th>\n",
              "      <th>worst texture</th>\n",
              "      <th>worst perimeter</th>\n",
              "      <th>worst area</th>\n",
              "      <th>worst smoothness</th>\n",
              "      <th>worst compactness</th>\n",
              "      <th>worst concavity</th>\n",
              "      <th>worst concave points</th>\n",
              "      <th>worst symmetry</th>\n",
              "      <th>worst fractal dimension</th>\n",
              "    </tr>\n",
              "  </thead>\n",
              "  <tbody>\n",
              "    <tr>\n",
              "      <th>172</th>\n",
              "      <td>15.460</td>\n",
              "      <td>11.89</td>\n",
              "      <td>0.531938</td>\n",
              "      <td>0.325664</td>\n",
              "      <td>0.12570</td>\n",
              "      <td>0.15550</td>\n",
              "      <td>0.203200</td>\n",
              "      <td>0.109700</td>\n",
              "      <td>0.1966</td>\n",
              "      <td>0.07069</td>\n",
              "      <td>...</td>\n",
              "      <td>18.790</td>\n",
              "      <td>17.04</td>\n",
              "      <td>125.00</td>\n",
              "      <td>1102.0</td>\n",
              "      <td>0.1531</td>\n",
              "      <td>0.35830</td>\n",
              "      <td>0.58300</td>\n",
              "      <td>0.18270</td>\n",
              "      <td>0.3216</td>\n",
              "      <td>0.10100</td>\n",
              "    </tr>\n",
              "    <tr>\n",
              "      <th>553</th>\n",
              "      <td>9.333</td>\n",
              "      <td>21.94</td>\n",
              "      <td>-1.383281</td>\n",
              "      <td>-1.159092</td>\n",
              "      <td>0.09240</td>\n",
              "      <td>0.05605</td>\n",
              "      <td>0.039960</td>\n",
              "      <td>0.012820</td>\n",
              "      <td>0.1692</td>\n",
              "      <td>0.06576</td>\n",
              "      <td>...</td>\n",
              "      <td>9.845</td>\n",
              "      <td>25.05</td>\n",
              "      <td>62.86</td>\n",
              "      <td>295.8</td>\n",
              "      <td>0.1103</td>\n",
              "      <td>0.08298</td>\n",
              "      <td>0.07993</td>\n",
              "      <td>0.02564</td>\n",
              "      <td>0.2435</td>\n",
              "      <td>0.07393</td>\n",
              "    </tr>\n",
              "    <tr>\n",
              "      <th>374</th>\n",
              "      <td>13.690</td>\n",
              "      <td>16.07</td>\n",
              "      <td>-0.113662</td>\n",
              "      <td>-0.169778</td>\n",
              "      <td>0.08302</td>\n",
              "      <td>0.06374</td>\n",
              "      <td>0.025560</td>\n",
              "      <td>0.020310</td>\n",
              "      <td>0.1872</td>\n",
              "      <td>0.05669</td>\n",
              "      <td>...</td>\n",
              "      <td>14.840</td>\n",
              "      <td>20.21</td>\n",
              "      <td>99.16</td>\n",
              "      <td>670.6</td>\n",
              "      <td>0.1105</td>\n",
              "      <td>0.20960</td>\n",
              "      <td>0.13460</td>\n",
              "      <td>0.06987</td>\n",
              "      <td>0.3323</td>\n",
              "      <td>0.07701</td>\n",
              "    </tr>\n",
              "    <tr>\n",
              "      <th>370</th>\n",
              "      <td>16.350</td>\n",
              "      <td>23.29</td>\n",
              "      <td>0.818186</td>\n",
              "      <td>0.650621</td>\n",
              "      <td>0.09742</td>\n",
              "      <td>0.14970</td>\n",
              "      <td>0.181100</td>\n",
              "      <td>0.087730</td>\n",
              "      <td>0.2175</td>\n",
              "      <td>0.06218</td>\n",
              "      <td>...</td>\n",
              "      <td>19.380</td>\n",
              "      <td>31.03</td>\n",
              "      <td>129.30</td>\n",
              "      <td>1165.0</td>\n",
              "      <td>0.1415</td>\n",
              "      <td>0.46650</td>\n",
              "      <td>0.70870</td>\n",
              "      <td>0.22480</td>\n",
              "      <td>0.4824</td>\n",
              "      <td>0.09614</td>\n",
              "    </tr>\n",
              "    <tr>\n",
              "      <th>419</th>\n",
              "      <td>11.160</td>\n",
              "      <td>21.41</td>\n",
              "      <td>-0.857466</td>\n",
              "      <td>-0.793947</td>\n",
              "      <td>0.10180</td>\n",
              "      <td>0.05978</td>\n",
              "      <td>0.008955</td>\n",
              "      <td>0.010760</td>\n",
              "      <td>0.1615</td>\n",
              "      <td>0.06144</td>\n",
              "      <td>...</td>\n",
              "      <td>12.360</td>\n",
              "      <td>28.92</td>\n",
              "      <td>79.26</td>\n",
              "      <td>458.0</td>\n",
              "      <td>0.1282</td>\n",
              "      <td>0.11080</td>\n",
              "      <td>0.03582</td>\n",
              "      <td>0.04306</td>\n",
              "      <td>0.2976</td>\n",
              "      <td>0.07123</td>\n",
              "    </tr>\n",
              "    <tr>\n",
              "      <th>...</th>\n",
              "      <td>...</td>\n",
              "      <td>...</td>\n",
              "      <td>...</td>\n",
              "      <td>...</td>\n",
              "      <td>...</td>\n",
              "      <td>...</td>\n",
              "      <td>...</td>\n",
              "      <td>...</td>\n",
              "      <td>...</td>\n",
              "      <td>...</td>\n",
              "      <td>...</td>\n",
              "      <td>...</td>\n",
              "      <td>...</td>\n",
              "      <td>...</td>\n",
              "      <td>...</td>\n",
              "      <td>...</td>\n",
              "      <td>...</td>\n",
              "      <td>...</td>\n",
              "      <td>...</td>\n",
              "      <td>...</td>\n",
              "      <td>...</td>\n",
              "    </tr>\n",
              "    <tr>\n",
              "      <th>545</th>\n",
              "      <td>13.620</td>\n",
              "      <td>23.23</td>\n",
              "      <td>-0.142286</td>\n",
              "      <td>-0.188302</td>\n",
              "      <td>0.09246</td>\n",
              "      <td>0.06747</td>\n",
              "      <td>0.029740</td>\n",
              "      <td>0.024430</td>\n",
              "      <td>0.1664</td>\n",
              "      <td>0.05801</td>\n",
              "      <td>...</td>\n",
              "      <td>15.350</td>\n",
              "      <td>29.09</td>\n",
              "      <td>97.58</td>\n",
              "      <td>729.8</td>\n",
              "      <td>0.1216</td>\n",
              "      <td>0.15170</td>\n",
              "      <td>0.10490</td>\n",
              "      <td>0.07174</td>\n",
              "      <td>0.2642</td>\n",
              "      <td>0.06953</td>\n",
              "    </tr>\n",
              "    <tr>\n",
              "      <th>161</th>\n",
              "      <td>19.190</td>\n",
              "      <td>15.94</td>\n",
              "      <td>1.580045</td>\n",
              "      <td>1.644645</td>\n",
              "      <td>0.08694</td>\n",
              "      <td>0.11850</td>\n",
              "      <td>0.119300</td>\n",
              "      <td>0.096670</td>\n",
              "      <td>0.1741</td>\n",
              "      <td>0.05176</td>\n",
              "      <td>...</td>\n",
              "      <td>22.030</td>\n",
              "      <td>17.81</td>\n",
              "      <td>146.60</td>\n",
              "      <td>1495.0</td>\n",
              "      <td>0.1124</td>\n",
              "      <td>0.20160</td>\n",
              "      <td>0.22640</td>\n",
              "      <td>0.17770</td>\n",
              "      <td>0.2443</td>\n",
              "      <td>0.06251</td>\n",
              "    </tr>\n",
              "    <tr>\n",
              "      <th>434</th>\n",
              "      <td>14.860</td>\n",
              "      <td>16.94</td>\n",
              "      <td>0.196807</td>\n",
              "      <td>0.127236</td>\n",
              "      <td>0.08924</td>\n",
              "      <td>0.07074</td>\n",
              "      <td>0.033460</td>\n",
              "      <td>0.028770</td>\n",
              "      <td>0.1573</td>\n",
              "      <td>0.05703</td>\n",
              "      <td>...</td>\n",
              "      <td>16.310</td>\n",
              "      <td>20.54</td>\n",
              "      <td>102.30</td>\n",
              "      <td>777.5</td>\n",
              "      <td>0.1218</td>\n",
              "      <td>0.15500</td>\n",
              "      <td>0.12200</td>\n",
              "      <td>0.07971</td>\n",
              "      <td>0.2525</td>\n",
              "      <td>0.06827</td>\n",
              "    </tr>\n",
              "    <tr>\n",
              "      <th>59</th>\n",
              "      <td>8.618</td>\n",
              "      <td>11.79</td>\n",
              "      <td>-1.588939</td>\n",
              "      <td>-1.283109</td>\n",
              "      <td>0.09752</td>\n",
              "      <td>0.05272</td>\n",
              "      <td>0.020610</td>\n",
              "      <td>0.007799</td>\n",
              "      <td>0.1683</td>\n",
              "      <td>0.07187</td>\n",
              "      <td>...</td>\n",
              "      <td>9.507</td>\n",
              "      <td>15.40</td>\n",
              "      <td>59.90</td>\n",
              "      <td>274.9</td>\n",
              "      <td>0.1733</td>\n",
              "      <td>0.12390</td>\n",
              "      <td>0.11680</td>\n",
              "      <td>0.04419</td>\n",
              "      <td>0.3220</td>\n",
              "      <td>0.09026</td>\n",
              "    </tr>\n",
              "    <tr>\n",
              "      <th>164</th>\n",
              "      <td>23.270</td>\n",
              "      <td>22.04</td>\n",
              "      <td>2.716229</td>\n",
              "      <td>3.305537</td>\n",
              "      <td>0.08439</td>\n",
              "      <td>0.11450</td>\n",
              "      <td>0.132400</td>\n",
              "      <td>0.097020</td>\n",
              "      <td>0.1801</td>\n",
              "      <td>0.05553</td>\n",
              "      <td>...</td>\n",
              "      <td>28.010</td>\n",
              "      <td>28.22</td>\n",
              "      <td>184.20</td>\n",
              "      <td>2403.0</td>\n",
              "      <td>0.1228</td>\n",
              "      <td>0.35830</td>\n",
              "      <td>0.39480</td>\n",
              "      <td>0.23460</td>\n",
              "      <td>0.3589</td>\n",
              "      <td>0.09187</td>\n",
              "    </tr>\n",
              "  </tbody>\n",
              "</table>\n",
              "<p>143 rows × 30 columns</p>\n",
              "</div>\n",
              "      <button class=\"colab-df-convert\" onclick=\"convertToInteractive('df-ec15498a-a764-4b84-bf7f-33e0337d1966')\"\n",
              "              title=\"Convert this dataframe to an interactive table.\"\n",
              "              style=\"display:none;\">\n",
              "        \n",
              "  <svg xmlns=\"http://www.w3.org/2000/svg\" height=\"24px\"viewBox=\"0 0 24 24\"\n",
              "       width=\"24px\">\n",
              "    <path d=\"M0 0h24v24H0V0z\" fill=\"none\"/>\n",
              "    <path d=\"M18.56 5.44l.94 2.06.94-2.06 2.06-.94-2.06-.94-.94-2.06-.94 2.06-2.06.94zm-11 1L8.5 8.5l.94-2.06 2.06-.94-2.06-.94L8.5 2.5l-.94 2.06-2.06.94zm10 10l.94 2.06.94-2.06 2.06-.94-2.06-.94-.94-2.06-.94 2.06-2.06.94z\"/><path d=\"M17.41 7.96l-1.37-1.37c-.4-.4-.92-.59-1.43-.59-.52 0-1.04.2-1.43.59L10.3 9.45l-7.72 7.72c-.78.78-.78 2.05 0 2.83L4 21.41c.39.39.9.59 1.41.59.51 0 1.02-.2 1.41-.59l7.78-7.78 2.81-2.81c.8-.78.8-2.07 0-2.86zM5.41 20L4 18.59l7.72-7.72 1.47 1.35L5.41 20z\"/>\n",
              "  </svg>\n",
              "      </button>\n",
              "      \n",
              "  <style>\n",
              "    .colab-df-container {\n",
              "      display:flex;\n",
              "      flex-wrap:wrap;\n",
              "      gap: 12px;\n",
              "    }\n",
              "\n",
              "    .colab-df-convert {\n",
              "      background-color: #E8F0FE;\n",
              "      border: none;\n",
              "      border-radius: 50%;\n",
              "      cursor: pointer;\n",
              "      display: none;\n",
              "      fill: #1967D2;\n",
              "      height: 32px;\n",
              "      padding: 0 0 0 0;\n",
              "      width: 32px;\n",
              "    }\n",
              "\n",
              "    .colab-df-convert:hover {\n",
              "      background-color: #E2EBFA;\n",
              "      box-shadow: 0px 1px 2px rgba(60, 64, 67, 0.3), 0px 1px 3px 1px rgba(60, 64, 67, 0.15);\n",
              "      fill: #174EA6;\n",
              "    }\n",
              "\n",
              "    [theme=dark] .colab-df-convert {\n",
              "      background-color: #3B4455;\n",
              "      fill: #D2E3FC;\n",
              "    }\n",
              "\n",
              "    [theme=dark] .colab-df-convert:hover {\n",
              "      background-color: #434B5C;\n",
              "      box-shadow: 0px 1px 3px 1px rgba(0, 0, 0, 0.15);\n",
              "      filter: drop-shadow(0px 1px 2px rgba(0, 0, 0, 0.3));\n",
              "      fill: #FFFFFF;\n",
              "    }\n",
              "  </style>\n",
              "\n",
              "      <script>\n",
              "        const buttonEl =\n",
              "          document.querySelector('#df-ec15498a-a764-4b84-bf7f-33e0337d1966 button.colab-df-convert');\n",
              "        buttonEl.style.display =\n",
              "          google.colab.kernel.accessAllowed ? 'block' : 'none';\n",
              "\n",
              "        async function convertToInteractive(key) {\n",
              "          const element = document.querySelector('#df-ec15498a-a764-4b84-bf7f-33e0337d1966');\n",
              "          const dataTable =\n",
              "            await google.colab.kernel.invokeFunction('convertToInteractive',\n",
              "                                                     [key], {});\n",
              "          if (!dataTable) return;\n",
              "\n",
              "          const docLinkHtml = 'Like what you see? Visit the ' +\n",
              "            '<a target=\"_blank\" href=https://colab.research.google.com/notebooks/data_table.ipynb>data table notebook</a>'\n",
              "            + ' to learn more about interactive tables.';\n",
              "          element.innerHTML = '';\n",
              "          dataTable['output_type'] = 'display_data';\n",
              "          await google.colab.output.renderOutput(dataTable, element);\n",
              "          const docLink = document.createElement('div');\n",
              "          docLink.innerHTML = docLinkHtml;\n",
              "          element.appendChild(docLink);\n",
              "        }\n",
              "      </script>\n",
              "    </div>\n",
              "  </div>\n",
              "  "
            ]
          },
          "metadata": {},
          "execution_count": 41
        }
      ]
    },
    {
      "cell_type": "code",
      "source": [
        "y_pred = logreg.predict(X_test)\n",
        "y_pred"
      ],
      "metadata": {
        "colab": {
          "base_uri": "https://localhost:8080/"
        },
        "id": "bwIvUWp9O0Dc",
        "outputId": "d130d454-d2d4-4fe8-eff5-8299b7a49391"
      },
      "execution_count": 42,
      "outputs": [
        {
          "output_type": "execute_result",
          "data": {
            "text/plain": [
              "array([0, 1, 1, 0, 1, 1, 1, 0, 0, 0, 1, 1, 0, 1, 0, 0, 1, 1, 1, 0, 0, 1,\n",
              "       1, 1, 0, 0, 1, 0, 1, 1, 1, 1, 0, 1, 1, 1, 1, 1, 1, 1, 1, 1, 1, 0,\n",
              "       1, 0, 0, 0, 0, 1, 1, 1, 0, 1, 1, 0, 0, 1, 1, 1, 0, 1, 0, 1, 1, 0,\n",
              "       1, 1, 0, 0, 1, 1, 1, 1, 1, 0, 1, 1, 0, 0, 1, 1, 0, 1, 1, 1, 1, 0,\n",
              "       1, 0, 1, 1, 0, 1, 1, 1, 0, 1, 0, 1, 0, 0, 1, 1, 1, 1, 0, 0, 1, 1,\n",
              "       1, 1, 0, 0, 0, 1, 1, 0, 0, 1, 1, 0, 1, 0, 1, 1, 0, 0, 1, 1, 1, 1,\n",
              "       0, 1, 1, 0, 0, 0, 1, 0, 1, 1, 0])"
            ]
          },
          "metadata": {},
          "execution_count": 42
        }
      ]
    },
    {
      "cell_type": "code",
      "source": [
        "#Getting Metrics with Scalling\n",
        "from sklearn import metrics\n",
        "metrics.accuracy_score(y_test, y_pred)"
      ],
      "metadata": {
        "colab": {
          "base_uri": "https://localhost:8080/"
        },
        "id": "LR7Zs-pIO0Ae",
        "outputId": "e1be595d-e60d-4ddb-8a4f-8631cd81d436"
      },
      "execution_count": 44,
      "outputs": [
        {
          "output_type": "execute_result",
          "data": {
            "text/plain": [
              "0.9370629370629371"
            ]
          },
          "metadata": {},
          "execution_count": 44
        }
      ]
    },
    {
      "cell_type": "code",
      "source": [
        "print(metrics.classification_report(y_test, y_pred))"
      ],
      "metadata": {
        "colab": {
          "base_uri": "https://localhost:8080/"
        },
        "id": "k3mALz2aOz9P",
        "outputId": "1aab87c3-9428-42bd-b7a4-ccadca5f6c70"
      },
      "execution_count": 45,
      "outputs": [
        {
          "output_type": "stream",
          "name": "stdout",
          "text": [
            "              precision    recall  f1-score   support\n",
            "\n",
            "           0       0.89      0.94      0.92        52\n",
            "           1       0.97      0.93      0.95        91\n",
            "\n",
            "    accuracy                           0.94       143\n",
            "   macro avg       0.93      0.94      0.93       143\n",
            "weighted avg       0.94      0.94      0.94       143\n",
            "\n"
          ]
        }
      ]
    },
    {
      "cell_type": "code",
      "source": [
        ""
      ],
      "metadata": {
        "id": "E1SRdEMcOz5q"
      },
      "execution_count": null,
      "outputs": []
    },
    {
      "cell_type": "code",
      "source": [
        ""
      ],
      "metadata": {
        "id": "T6-Sw4U8OzzB"
      },
      "execution_count": null,
      "outputs": []
    },
    {
      "cell_type": "code",
      "source": [
        ""
      ],
      "metadata": {
        "id": "8MgkPXDpOztP"
      },
      "execution_count": null,
      "outputs": []
    },
    {
      "cell_type": "code",
      "source": [
        ""
      ],
      "metadata": {
        "id": "4EwnYa1VOzqf"
      },
      "execution_count": null,
      "outputs": []
    },
    {
      "cell_type": "code",
      "source": [
        ""
      ],
      "metadata": {
        "id": "8Nh9Wbg3OznL"
      },
      "execution_count": null,
      "outputs": []
    },
    {
      "cell_type": "code",
      "source": [
        ""
      ],
      "metadata": {
        "id": "YPSrxxGiOzkD"
      },
      "execution_count": null,
      "outputs": []
    },
    {
      "cell_type": "code",
      "source": [
        ""
      ],
      "metadata": {
        "id": "s_oBmpPvOzZS"
      },
      "execution_count": null,
      "outputs": []
    },
    {
      "cell_type": "markdown",
      "source": [
        "# Implementing PCA"
      ],
      "metadata": {
        "id": "rs_CKb0sOUOd"
      }
    },
    {
      "cell_type": "code",
      "source": [
        "from sklearn.decomposition import PCA"
      ],
      "metadata": {
        "id": "2xKLuzREMKSS"
      },
      "execution_count": 21,
      "outputs": []
    },
    {
      "cell_type": "code",
      "source": [
        "#on 50% of the Data\n",
        "pca = PCA(n_components=0.8)"
      ],
      "metadata": {
        "id": "vLaNMqpWMKPC"
      },
      "execution_count": 75,
      "outputs": []
    },
    {
      "cell_type": "code",
      "source": [
        "pca.fit(X_train)"
      ],
      "metadata": {
        "colab": {
          "base_uri": "https://localhost:8080/"
        },
        "id": "kbSib1LhMKML",
        "outputId": "c595d189-306c-4da9-9f21-4bbb09a7316e"
      },
      "execution_count": 76,
      "outputs": [
        {
          "output_type": "execute_result",
          "data": {
            "text/plain": [
              "PCA(n_components=0.8)"
            ]
          },
          "metadata": {},
          "execution_count": 76
        }
      ]
    },
    {
      "cell_type": "code",
      "source": [
        "pca.explained_variance_ratio_"
      ],
      "metadata": {
        "colab": {
          "base_uri": "https://localhost:8080/"
        },
        "id": "DFkIQUnNMKI_",
        "outputId": "dcfd60b4-6199-485e-e27d-369f87795be8"
      },
      "execution_count": 77,
      "outputs": [
        {
          "output_type": "execute_result",
          "data": {
            "text/plain": [
              "array([0.98163972])"
            ]
          },
          "metadata": {},
          "execution_count": 77
        }
      ]
    },
    {
      "cell_type": "code",
      "source": [
        "X_train_transformed = pca.transform(X_train)\n",
        "X_test_transformed = pca.transform(X_test)"
      ],
      "metadata": {
        "id": "v00Zew7aMKEX"
      },
      "execution_count": 78,
      "outputs": []
    },
    {
      "cell_type": "code",
      "source": [
        "X_train_transformed.shape, X_test_transformed.shape"
      ],
      "metadata": {
        "colab": {
          "base_uri": "https://localhost:8080/"
        },
        "id": "DIsGeroXMKBA",
        "outputId": "867dceb2-9d1a-42cc-96cb-d5f403c0afa7"
      },
      "execution_count": 79,
      "outputs": [
        {
          "output_type": "execute_result",
          "data": {
            "text/plain": [
              "((426, 1), (143, 1))"
            ]
          },
          "metadata": {},
          "execution_count": 79
        }
      ]
    },
    {
      "cell_type": "code",
      "source": [
        "pca.inverse_transform(X_train_transformed).shape"
      ],
      "metadata": {
        "colab": {
          "base_uri": "https://localhost:8080/"
        },
        "id": "WP4oaG2aMIfb",
        "outputId": "652b48b7-a0dc-4034-f643-cd9ea0655cd3"
      },
      "execution_count": 80,
      "outputs": [
        {
          "output_type": "execute_result",
          "data": {
            "text/plain": [
              "(426, 30)"
            ]
          },
          "metadata": {},
          "execution_count": 80
        }
      ]
    },
    {
      "cell_type": "code",
      "source": [
        "my_logreg_model.fit(X_train_transformed,y_train)"
      ],
      "metadata": {
        "colab": {
          "base_uri": "https://localhost:8080/"
        },
        "id": "OjQ1e0ipMzoB",
        "outputId": "8c7d329a-8b91-49be-fef4-958f22015baf"
      },
      "execution_count": 29,
      "outputs": [
        {
          "output_type": "stream",
          "name": "stderr",
          "text": [
            "/usr/local/lib/python3.7/dist-packages/sklearn/utils/validation.py:993: DataConversionWarning: A column-vector y was passed when a 1d array was expected. Please change the shape of y to (n_samples, ), for example using ravel().\n",
            "  y = column_or_1d(y, warn=True)\n"
          ]
        },
        {
          "output_type": "execute_result",
          "data": {
            "text/plain": [
              "LogisticRegression()"
            ]
          },
          "metadata": {},
          "execution_count": 29
        }
      ]
    },
    {
      "cell_type": "code",
      "source": [
        "preds = my_logreg_model.predict(X_test_transformed)"
      ],
      "metadata": {
        "id": "0Ben3M24Mzlq"
      },
      "execution_count": 30,
      "outputs": []
    },
    {
      "cell_type": "code",
      "source": [
        "print(accuracy_score(y_test, preds))"
      ],
      "metadata": {
        "colab": {
          "base_uri": "https://localhost:8080/"
        },
        "id": "9wg_xwHfMzi9",
        "outputId": "599c4160-35e5-4838-8f0c-e039c4166731"
      },
      "execution_count": 31,
      "outputs": [
        {
          "output_type": "stream",
          "name": "stdout",
          "text": [
            "0.9020979020979021\n"
          ]
        }
      ]
    },
    {
      "cell_type": "code",
      "source": [
        ""
      ],
      "metadata": {
        "id": "qLV7yViaMzfe"
      },
      "execution_count": null,
      "outputs": []
    },
    {
      "cell_type": "code",
      "source": [
        ""
      ],
      "metadata": {
        "id": "7Gfty0LzMzbs"
      },
      "execution_count": null,
      "outputs": []
    },
    {
      "cell_type": "code",
      "source": [
        ""
      ],
      "metadata": {
        "id": "OxTQLMJVMzYK"
      },
      "execution_count": null,
      "outputs": []
    },
    {
      "cell_type": "code",
      "source": [
        ""
      ],
      "metadata": {
        "id": "7kU14LOlMzU3"
      },
      "execution_count": null,
      "outputs": []
    },
    {
      "cell_type": "code",
      "source": [
        ""
      ],
      "metadata": {
        "id": "aIDR3jOpMyg8"
      },
      "execution_count": null,
      "outputs": []
    }
  ],
  "metadata": {
    "kernelspec": {
      "display_name": "Python 3",
      "language": "python",
      "name": "python3"
    },
    "language_info": {
      "codemirror_mode": {
        "name": "ipython",
        "version": 3
      },
      "file_extension": ".py",
      "mimetype": "text/x-python",
      "name": "python",
      "nbconvert_exporter": "python",
      "pygments_lexer": "ipython3",
      "version": "3.7.6"
    },
    "colab": {
      "name": "LogisticRegression_Cancer_dataset.ipynb",
      "provenance": [],
      "collapsed_sections": []
    }
  },
  "nbformat": 4,
  "nbformat_minor": 0
}