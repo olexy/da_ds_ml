{
 "cells": [
  {
   "cell_type": "markdown",
   "metadata": {},
   "source": [
    "# Prework Practice\n",
    "\n",
    "### Working in Jupyter Notebooks\n",
    "\n",
    "###### Edit Mode (Insert Mode)\n",
    "- Double-click on a cell\n",
    "- Press `enter` while cell is highlighted blue\n",
    "\n",
    "###### Command Mode\n",
    "- Press `esc` to enter Command Mode\n",
    "\n",
    "###### Code vs Markdown Cells\n",
    "While in command mode:\n",
    "- Press `y` to make the cell a code cell\n",
    "- Press `m` to make cell a markdown cell\n",
    "\n",
    "###### Adding and Deleting Cells\n",
    "While in command mode:\n",
    "- Press `a` to add a cell above current cell\n",
    "- Press `b` to add a cell below current cell\n",
    "- Double press `d` to delete selected cell"
   ]
  },
  {
   "cell_type": "code",
   "execution_count": null,
   "metadata": {},
   "outputs": [],
   "source": [
    "# TRY OUT SOME OF THESE COMMANDS!"
   ]
  },
  {
   "cell_type": "markdown",
   "metadata": {},
   "source": [
    "## FizzBuzz (Part 1)\n",
    "\n",
    "Write a function that accepts a single integer. The function should return the following:\n",
    "- If the integer is divisible by 3, return \"Fizz\"\n",
    "- If the integer is divisible by 5, return \"Buzz\"\n",
    "- If the integer is divisible by both 3 and 5, return \"FizzBuzz\"\n",
    "- If the integer is not divisible by 3 or 5, return the integer"
   ]
  },
  {
   "cell_type": "code",
   "execution_count": null,
   "metadata": {},
   "outputs": [],
   "source": [
    "# Your code here"
   ]
  },
  {
   "cell_type": "markdown",
   "metadata": {},
   "source": [
    "## FizzBuzz (Part 2)\n",
    "\n",
    "Now that we have a function that can solve the \"FizzBuzz problem\" for a single number, we want to apply it to multiple numbers at once. Write a second function, `fizzbuzz_dict` that accepts a single integer, `N` and calls our original `FizzBuzz` function for every number 1-N. This function should return a dictionary where the keys are every value 1-N and the values are the associated string returned from calling the `FizzBuzz` function."
   ]
  },
  {
   "cell_type": "code",
   "execution_count": null,
   "metadata": {},
   "outputs": [],
   "source": [
    "# Your code here"
   ]
  },
  {
   "cell_type": "markdown",
   "metadata": {},
   "source": [
    "## FizzBuzz Repeats\n",
    "\n",
    "We would like to know how many times a value was repeated in our fizzbuzz dictionary. Create a list of the values in dictionary. Cast it as a set. Subtract the number of elements in the set from number of elements in the list to get the number of repeats."
   ]
  },
  {
   "cell_type": "code",
   "execution_count": null,
   "metadata": {},
   "outputs": [],
   "source": [
    "# Your code here"
   ]
  },
  {
   "cell_type": "markdown",
   "metadata": {},
   "source": [
    "## Calculate Total Savings\n",
    "\n",
    "A store recently placed a some orders to their vendor, who was having a large sale. The store would like to know what their total savings were across all of their orders. \n",
    "\n",
    "Write a function which accepts a list of items ordered and returns total savings across all items. Each item in the list is represented by a dictionary indicating the original price of the item, the sale price, and the quantity purchased.\n",
    "\n",
    "```\n",
    "[{'quantity': 496, 'original_price': 397, 'sale_price': 324},\n",
    " {'quantity': 427, 'original_price': 460, 'sale_price': 459},\n",
    " {'quantity': 193, 'original_price': 81, 'sale_price': 76}] -> 37600\n",
    "```"
   ]
  },
  {
   "cell_type": "code",
   "execution_count": null,
   "metadata": {},
   "outputs": [],
   "source": [
    "# Your code here"
   ]
  },
  {
   "cell_type": "code",
   "execution_count": null,
   "metadata": {},
   "outputs": [],
   "source": [
    "# Run this cell without changes to test your function\n",
    "order1 = [{'quantity': 496, 'original_price': 397, 'sale_price': 324},\n",
    "          {'quantity': 427, 'original_price': 460, 'sale_price': 459},\n",
    "          {'quantity': 193, 'original_price': 81, 'sale_price': 76}]\n",
    "\n",
    "order2 = [{'quantity': 82, 'original_price': 295, 'sale_price': 256},\n",
    "          {'quantity': 207, 'original_price': 29, 'sale_price': 28},\n",
    "          {'quantity': 130, 'original_price': 376, 'sale_price': 355}]\n",
    "\n",
    "assert total_savings(order1) == 37600\n",
    "assert total_savings(order2) == 6135"
   ]
  },
  {
   "cell_type": "markdown",
   "metadata": {},
   "source": [
    "## Statistical Measures\n",
    "\n",
    "Compare mean and median for two distributions. One normal, one skewed. What is better measure of middle in each example. Calculate standard deviation for each.\n",
    "\n",
    "Below we generate some data points representing 100 student exam scores for two schools."
   ]
  },
  {
   "cell_type": "code",
   "execution_count": null,
   "metadata": {},
   "outputs": [],
   "source": [
    "# Import numpy\n",
    "import numpy as np\n",
    "\n",
    "# Import plotting library\n",
    "import matplotlib.pyplot as plt\n",
    "\n",
    "# Set seed for reproducibility\n",
    "np.random.seed(100)\n",
    "\n",
    "# Generate exam score data\n",
    "student_scores_school1 = 5*np.random.randn(100) + 80\n",
    "student_scores_school2 = 5*np.random.exponential(size=100) + 65"
   ]
  },
  {
   "cell_type": "code",
   "execution_count": null,
   "metadata": {},
   "outputs": [],
   "source": [
    "plt.figure(figsize=(8,6))\n",
    "plt.hist(student_scores_school1)\n",
    "plt.title('Distribution of Student Exam Scores - School 1')\n",
    "plt.xlabel('Exam Scores')\n",
    "plt.ylabel('Count');"
   ]
  },
  {
   "cell_type": "code",
   "execution_count": null,
   "metadata": {},
   "outputs": [],
   "source": [
    "plt.figure(figsize=(8,6))\n",
    "plt.hist(student_scores_school2)\n",
    "plt.title('Distribution of Student Exam Scores - School 2')\n",
    "plt.xlabel('Exam Scores')\n",
    "plt.ylabel('Count');"
   ]
  },
  {
   "cell_type": "markdown",
   "metadata": {},
   "source": [
    "#### Please answer the following questions:\n",
    "1. In the histograms above, what does the x-axis represent? What does the y-axis represent?\n",
    "2. Calculate the mean, median, and standard deviation for both samples.\n",
    "3. What do each of these values tell us about our samples?\n",
    "4. Would the mean or median be a better measure of central tendency for the first sample? What about the second?"
   ]
  },
  {
   "cell_type": "code",
   "execution_count": null,
   "metadata": {},
   "outputs": [],
   "source": [
    "# Calculate the mean, median, and standard deviation for both samples"
   ]
  },
  {
   "cell_type": "markdown",
   "metadata": {},
   "source": [
    "## Challenge - Two Sum\n",
    "\n",
    "Given a list of integers and an integer target, return indices of the two numbers such that they add up to the target.\n",
    "\n",
    "You may assume that each input will have exactly one solution, and you may not use the same element twice.\n",
    "\n",
    "```\n",
    "Input: nums = [2, 7, 11, 15], target = 9\n",
    "Output: [0, 1]\n",
    "Output: Because nums[0] + nums[1] == 9\n",
    "```"
   ]
  },
  {
   "cell_type": "code",
   "execution_count": null,
   "metadata": {},
   "outputs": [],
   "source": [
    "# Your code here"
   ]
  }
 ],
 "metadata": {
  "interpreter": {
   "hash": "b62cc8c47bfbbcf6d38740807be5ed703f63551e0b6a5f3e19f5f697e5dfbfd7"
  },
  "kernelspec": {
   "display_name": "Python 3",
   "language": "python",
   "name": "python3"
  },
  "language_info": {
   "codemirror_mode": {
    "name": "ipython",
    "version": 3
   },
   "file_extension": ".py",
   "mimetype": "text/x-python",
   "name": "python",
   "nbconvert_exporter": "python",
   "pygments_lexer": "ipython3",
   "version": "3.9.5"
  }
 },
 "nbformat": 4,
 "nbformat_minor": 2
}
