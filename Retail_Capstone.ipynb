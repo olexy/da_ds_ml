{
  "nbformat": 4,
  "nbformat_minor": 0,
  "metadata": {
    "colab": {
      "name": "Retail Capstone.ipynb",
      "provenance": [],
      "collapsed_sections": [],
      "authorship_tag": "ABX9TyPceoAWuQ/lVJMA8B3Xv4Ss"
    },
    "kernelspec": {
      "name": "python3",
      "display_name": "Python 3"
    },
    "language_info": {
      "name": "python"
    }
  },
  "cells": [
    {
      "cell_type": "markdown",
      "source": [
        "Importing Libraries"
      ],
      "metadata": {
        "id": "fViLCCePkC3-"
      }
    },
    {
      "cell_type": "code",
      "execution_count": null,
      "metadata": {
        "id": "x_HPBC_tSKrL"
      },
      "outputs": [],
      "source": [
        "# Data Analysis & Manipulation\n",
        "import pandas as pd\n",
        "import datetime as dt\n",
        "\n",
        "# Visualisation\n",
        "import matplotlib.pyplot as plt\n",
        "import seaborn as sns\n",
        "%matplotlib inline\n",
        "\n",
        "# Scaling\n",
        "from sklearn.preprocessing import scale\n",
        "\n",
        "# KMeans clustering \n",
        "from sklearn.cluster import KMeans\n",
        "\n",
        "# To perform Hierarchical clustering\n",
        "from scipy.cluster.hierarchy import linkage\n",
        "from scipy.cluster.hierarchy import dendrogram\n",
        "from scipy.cluster.hierarchy import cut_tree"
      ]
    }
  ]
}