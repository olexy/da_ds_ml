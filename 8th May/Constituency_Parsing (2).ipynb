{
 "cells": [
  {
   "cell_type": "code",
   "execution_count": 1,
   "id": "1a34758f",
   "metadata": {},
   "outputs": [],
   "source": [
    "import nltk\n",
    "from nltk import pos_tag\n",
    "from nltk.tokenize import word_tokenize\n",
    "from nltk.parse.generate import generate"
   ]
  },
  {
   "cell_type": "code",
   "execution_count": 2,
   "id": "6fc76a72",
   "metadata": {},
   "outputs": [],
   "source": [
    "sentence = 'The little mouse ate the fresh white cheese kept on the big bed.'"
   ]
  },
  {
   "cell_type": "code",
   "execution_count": 3,
   "id": "88fa1e79",
   "metadata": {},
   "outputs": [
    {
     "data": {
      "text/plain": [
       "[('The', 'DT'),\n",
       " ('little', 'JJ'),\n",
       " ('mouse', 'NN'),\n",
       " ('ate', 'VB'),\n",
       " ('the', 'DT'),\n",
       " ('fresh', 'JJ'),\n",
       " ('white', 'JJ'),\n",
       " ('cheese', 'NN'),\n",
       " ('kept', 'VBD'),\n",
       " ('on', 'IN'),\n",
       " ('the', 'DT'),\n",
       " ('big', 'JJ'),\n",
       " ('bed', 'NN'),\n",
       " ('.', '.')]"
      ]
     },
     "execution_count": 3,
     "metadata": {},
     "output_type": "execute_result"
    }
   ],
   "source": [
    "# Word Tokenization and POS tag\n",
    "tokens = pos_tag(word_tokenize(sentence))\n",
    "tokens"
   ]
  },
  {
   "cell_type": "code",
   "execution_count": 4,
   "id": "218b1ae0",
   "metadata": {},
   "outputs": [],
   "source": [
    "# Zero or One(?) Determiner followed by zero or more(*) Adjective followed by a Noun\n",
    "grammar = r\"NP : {<DT>?<JJ>*<NN>}\"\n",
    "parser = nltk.RegexpParser(grammar)"
   ]
  },
  {
   "cell_type": "code",
   "execution_count": 5,
   "id": "e393a306",
   "metadata": {},
   "outputs": [
    {
     "data": {
      "image/png": "[encoded data removed]",
      "text/plain": [
       "Tree('S', [Tree('NP', [('The', 'DT'), ('little', 'JJ'), ('mouse', 'NN')]), ('ate', 'VB'), Tree('NP', [('the', 'DT'), ('fresh', 'JJ'), ('white', 'JJ'), ('cheese', 'NN')]), ('kept', 'VBD'), ('on', 'IN'), Tree('NP', [('the', 'DT'), ('big', 'JJ'), ('bed', 'NN')]), ('.', '.')])"
      ]
     },
     "execution_count": 5,
     "metadata": {},
     "output_type": "execute_result"
    }
   ],
   "source": [
    "parser.parse(tokens)"
   ]
  },
  {
   "cell_type": "code",
   "execution_count": 48,
   "id": "ea1f5cec",
   "metadata": {},
   "outputs": [
    {
     "data": {
      "text/plain": [
       "[['The little mouse'], ['the fresh white cheese'], ['the big bed']]"
      ]
     },
     "execution_count": 48,
     "metadata": {},
     "output_type": "execute_result"
    }
   ],
   "source": [
    "[[' '.join(leaf[0] for leaf in tree.leaves())] for tree in parser.parse(tokens).subtrees() if tree.label()=='NP']"
   ]
  },
  {
   "cell_type": "code",
   "execution_count": 21,
   "id": "3a5a05be",
   "metadata": {},
   "outputs": [],
   "source": [
    "chink_grammar = r'''NP: {<DT>?<JJ>*<NN>}\n",
    "                    }<NN>{'''"
   ]
  },
  {
   "cell_type": "code",
   "execution_count": 22,
   "id": "1048de4f",
   "metadata": {},
   "outputs": [
    {
     "data": {
      "image/png": "[encoded data removed]",
      "text/plain": [
       "Tree('S', [Tree('NP', [('The', 'DT'), ('little', 'JJ')]), ('mouse', 'NN'), ('ate', 'VB'), Tree('NP', [('the', 'DT'), ('fresh', 'JJ'), ('white', 'JJ')]), ('cheese', 'NN'), ('kept', 'VBD'), ('on', 'IN'), Tree('NP', [('the', 'DT'), ('big', 'JJ')]), ('bed', 'NN'), ('.', '.')])"
      ]
     },
     "execution_count": 22,
     "metadata": {},
     "output_type": "execute_result"
    }
   ],
   "source": [
    "chink_parser = nltk.RegexpParser(chink_grammar)\n",
    "chink_parser.parse(tokens)"
   ]
  },
  {
   "cell_type": "code",
   "execution_count": 33,
   "id": "bd7d8d29",
   "metadata": {},
   "outputs": [
    {
     "data": {
      "text/plain": [
       "[['The little mouse'], ['the fresh white cheese'], ['the big bed']]"
      ]
     },
     "execution_count": 33,
     "metadata": {},
     "output_type": "execute_result"
    }
   ],
   "source": []
  },
  {
   "cell_type": "code",
   "execution_count": 31,
   "id": "f26a2743",
   "metadata": {},
   "outputs": [],
   "source": [
    "CFG_grammar = nltk.CFG.fromstring('''\n",
    "S -> NP VP\n",
    "VP -> V \"the\" N\n",
    "V ->\"loves\"|\"hates\"|\"admires\"\n",
    "NP ->\"Rahil\"|\"Mahesh\"|\"Amruta\"|\"Narayan\"\n",
    "N ->\"dog\"|\"cat\"|\"horse\"''')"
   ]
  },
  {
   "cell_type": "code",
   "execution_count": 32,
   "id": "a6f37b33",
   "metadata": {},
   "outputs": [
    {
     "name": "stdout",
     "output_type": "stream",
     "text": [
      "Rahil loves the dog\n",
      "Rahil loves the cat\n",
      "Rahil loves the horse\n",
      "Rahil hates the dog\n",
      "Rahil hates the cat\n",
      "Rahil hates the horse\n",
      "Rahil admires the dog\n",
      "Rahil admires the cat\n",
      "Rahil admires the horse\n",
      "Mahesh loves the dog\n",
      "Mahesh loves the cat\n",
      "Mahesh loves the horse\n",
      "Mahesh hates the dog\n",
      "Mahesh hates the cat\n",
      "Mahesh hates the horse\n",
      "Mahesh admires the dog\n",
      "Mahesh admires the cat\n",
      "Mahesh admires the horse\n",
      "Amruta loves the dog\n",
      "Amruta loves the cat\n",
      "Amruta loves the horse\n",
      "Amruta hates the dog\n",
      "Amruta hates the cat\n",
      "Amruta hates the horse\n",
      "Amruta admires the dog\n",
      "Amruta admires the cat\n",
      "Amruta admires the horse\n",
      "Narayan loves the dog\n",
      "Narayan loves the cat\n",
      "Narayan loves the horse\n",
      "Narayan hates the dog\n",
      "Narayan hates the cat\n",
      "Narayan hates the horse\n",
      "Narayan admires the dog\n",
      "Narayan admires the cat\n",
      "Narayan admires the horse\n"
     ]
    }
   ],
   "source": [
    "for sentence in generate(CFG_grammar):\n",
    "    print(\" \".join(sentence))"
   ]
  },
  {
   "cell_type": "code",
   "execution_count": null,
   "id": "11fc5a77",
   "metadata": {},
   "outputs": [],
   "source": []
  }
 ],
 "metadata": {
  "kernelspec": {
   "display_name": "Python 3",
   "language": "python",
   "name": "python3"
  },
  "language_info": {
   "codemirror_mode": {
    "name": "ipython",
    "version": 3
   },
   "file_extension": ".py",
   "mimetype": "text/x-python",
   "name": "python",
   "nbconvert_exporter": "python",
   "pygments_lexer": "ipython3",
   "version": "3.9.5"
  }
 },
 "nbformat": 4,
 "nbformat_minor": 5
}
