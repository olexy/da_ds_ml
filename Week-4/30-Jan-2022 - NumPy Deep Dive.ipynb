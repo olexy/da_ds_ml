{
 "cells": [
  {
   "cell_type": "markdown",
   "metadata": {},
   "source": [
    "# 1D Curve Fitting using NumPy"
   ]
  },
  {
   "cell_type": "code",
   "execution_count": 60,
   "metadata": {},
   "outputs": [],
   "source": [
    "import numpy as np\n",
    "import matplotlib.pyplot as plt  # 1D plotting functions are being imported"
   ]
  },
  {
   "cell_type": "code",
   "execution_count": 61,
   "metadata": {},
   "outputs": [],
   "source": [
    "np.random.seed(100) \n",
    "x = np.linspace(0.01, 3, 20)\n",
    "y = np.cos(x) + 0.1*np.random.randn(20)"
   ]
  },
  {
   "cell_type": "code",
   "execution_count": 62,
   "metadata": {},
   "outputs": [
    {
     "data": {
      "text/plain": [
       "array([0.01      , 0.16736842, 0.32473684, 0.48210526, 0.63947368,\n",
       "       0.79684211, 0.95421053, 1.11157895, 1.26894737, 1.42631579,\n",
       "       1.58368421, 1.74105263, 1.89842105, 2.05578947, 2.21315789,\n",
       "       2.37052632, 2.52789474, 2.68526316, 2.84263158, 3.        ])"
      ]
     },
     "execution_count": 62,
     "metadata": {},
     "output_type": "execute_result"
    }
   ],
   "source": [
    "x"
   ]
  },
  {
   "cell_type": "code",
   "execution_count": 11,
   "metadata": {
    "scrolled": true
   },
   "outputs": [
    {
     "data": {
      "text/plain": [
       "6.123233995736766e-17"
      ]
     },
     "execution_count": 11,
     "metadata": {},
     "output_type": "execute_result"
    }
   ],
   "source": [
    "np.cos(np.pi) # All the numpy functions are \"vectorized\""
   ]
  },
  {
   "cell_type": "code",
   "execution_count": 12,
   "metadata": {
    "scrolled": true
   },
   "outputs": [
    {
     "data": {
      "text/plain": [
       "array([ 0.99995   ,  0.98602657,  0.94773472,  0.88602079,  0.80240996,\n",
       "        0.69896857,  0.57825304,  0.4432467 ,  0.29728608,  0.1439784 ,\n",
       "       -0.01288753, -0.16943495, -0.32179501, -0.4662023 , -0.59908798,\n",
       "       -0.71716795, -0.817524  , -0.89767597, -0.955643  , -0.9899925 ])"
      ]
     },
     "execution_count": 12,
     "metadata": {},
     "output_type": "execute_result"
    }
   ],
   "source": [
    "np.cos(x)"
   ]
  },
  {
   "cell_type": "code",
   "execution_count": 63,
   "metadata": {},
   "outputs": [
    {
     "name": "stdout",
     "output_type": "stream",
     "text": [
      " \n",
      "-0.7773 x + 1.211\n"
     ]
    }
   ],
   "source": [
    "p1 = np.poly1d(np.polyfit(x, y, 1))\n",
    "print(p1)"
   ]
  },
  {
   "cell_type": "code",
   "execution_count": 64,
   "metadata": {},
   "outputs": [
    {
     "data": {
      "text/plain": [
       "numpy.poly1d"
      ]
     },
     "execution_count": 64,
     "metadata": {},
     "output_type": "execute_result"
    }
   ],
   "source": [
    "type(p1)"
   ]
  },
  {
   "cell_type": "code",
   "execution_count": 65,
   "metadata": {},
   "outputs": [
    {
     "data": {
      "text/plain": [
       "array([-0.77728753,  1.21127288])"
      ]
     },
     "execution_count": 65,
     "metadata": {},
     "output_type": "execute_result"
    }
   ],
   "source": [
    "np.polyfit(x, y, 1)  # this your Linear Regression Model using NumPY"
   ]
  },
  {
   "cell_type": "code",
   "execution_count": 44,
   "metadata": {},
   "outputs": [
    {
     "data": {
      "text/plain": [
       "0.04534158471616645"
      ]
     },
     "execution_count": 44,
     "metadata": {},
     "output_type": "execute_result"
    }
   ],
   "source": [
    "p1(1.5)  # evaluatiing the polynomial object for x = 1.5"
   ]
  },
  {
   "cell_type": "code",
   "execution_count": 46,
   "metadata": {},
   "outputs": [
    {
     "data": {
      "text/plain": [
       "array([ 1.21127288,  0.95217704,  0.69308119,  0.43398535,  0.17488951,\n",
       "       -0.08420634, -0.34330218, -0.60239803, -0.86149387, -1.12058971])"
      ]
     },
     "execution_count": 46,
     "metadata": {},
     "output_type": "execute_result"
    }
   ],
   "source": [
    "test_x = np.linspace(0,3,10)\n",
    "p1(test_x)  # these are the predictions from the polynomial object"
   ]
  },
  {
   "cell_type": "code",
   "execution_count": 47,
   "metadata": {
    "scrolled": true
   },
   "outputs": [
    {
     "data": {
      "text/plain": [
       "array([ 1.20350001,  1.0811795 ,  0.95885898,  0.83653847,  0.71421796,\n",
       "        0.59189745,  0.46957694,  0.34725643,  0.22493591,  0.1026154 ,\n",
       "       -0.01970511, -0.14202562, -0.26434613, -0.38666664, -0.50898716,\n",
       "       -0.63130767, -0.75362818, -0.87594869, -0.9982692 , -1.12058971])"
      ]
     },
     "execution_count": 47,
     "metadata": {},
     "output_type": "execute_result"
    }
   ],
   "source": [
    "y_pred1 = p1(x)\n",
    "y_pred1"
   ]
  },
  {
   "cell_type": "code",
   "execution_count": 48,
   "metadata": {},
   "outputs": [
    {
     "data": {
      "text/plain": [
       "array([ 0.82497345,  1.02029461,  1.0630383 ,  0.86077719,  0.90054204,\n",
       "        0.75039045,  0.600371  ,  0.33624237,  0.27833649,  0.16947854,\n",
       "       -0.05869023, -0.1259186 , -0.38015451, -0.38451759, -0.5318159 ,\n",
       "       -0.72760906, -0.87065204, -0.7947027 , -0.99945656, -1.10182432])"
      ]
     },
     "execution_count": 48,
     "metadata": {},
     "output_type": "execute_result"
    }
   ],
   "source": [
    "y"
   ]
  },
  {
   "cell_type": "code",
   "execution_count": null,
   "metadata": {},
   "outputs": [],
   "source": [
    "# std colors >>> r,g,b,c,m,y,k (black), w\n",
    "# std markers >>> o, s, h, +, ...\n",
    "# line styles >>> -, -. , -- , : etc...\n",
    "\n",
    "# https://matplotlib.org/stable/api/_as_gen/matplotlib.pyplot.plot.html\n",
    "# https://matplotlib.org/stable/gallery/color/named_colors.html"
   ]
  },
  {
   "cell_type": "markdown",
   "metadata": {},
   "source": [
    "$\\pi/4$"
   ]
  },
  {
   "cell_type": "code",
   "execution_count": 66,
   "metadata": {},
   "outputs": [
    {
     "name": "stdout",
     "output_type": "stream",
     "text": [
      "          2\n",
      "-0.05514 x - 0.6113 x + 1.132\n",
      "      3          2\n",
      "0.15 x - 0.7324 x + 0.1864 x + 0.9539\n"
     ]
    }
   ],
   "source": [
    "p2 = np.poly1d(np.polyfit(x, y, 2))\n",
    "p3 = np.poly1d(np.polyfit(x, y, 3))\n",
    "print(p2)\n",
    "print(p3)"
   ]
  },
  {
   "cell_type": "code",
   "execution_count": 55,
   "metadata": {},
   "outputs": [
    {
     "data": {
      "image/png": "[encoded data removed]",
      "text/plain": [
       "<Figure size 576x360 with 1 Axes>"
      ]
     },
     "metadata": {
      "needs_background": "light"
     },
     "output_type": "display_data"
    }
   ],
   "source": [
    "plt.figure(figsize=(8,5))\n",
    "\n",
    "plt.plot(x, y, 'ro', markersize=10, markeredgecolor='k', label='Original Data')\n",
    "plt.plot(x, y_pred1, 'b-', lw=3, label='Linear-Fit')\n",
    "plt.plot(x, p2(x), 'y-', lw=3, label='2-Degree PolyFit')\n",
    "plt.plot(x, p3(x), '-', color='limegreen', lw=3, label='3-Degree PolyFit')\n",
    "\n",
    "plt.xlabel('x-values', fontsize=15)\n",
    "plt.ylabel('y-values', fontsize=15)\n",
    "plt.title('Curve Fitting Example', fontsize=18)\n",
    "plt.grid(True)\n",
    "plt.legend(fontsize=15, loc=1)\n",
    "\n",
    "plt.xticks([0, np.pi/4, np.pi/2, 3*np.pi/4, np.pi], \\\n",
    "           labels=['0', '$\\pi/4$', '$\\pi/2$', '$3\\pi/4$', '$\\pi$'])\n",
    "plt.show()"
   ]
  },
  {
   "cell_type": "code",
   "execution_count": 70,
   "metadata": {},
   "outputs": [],
   "source": [
    "def MSE(y_true, y_pred):\n",
    "    error = y_pred - y_true\n",
    "    mse = (error**2).mean()\n",
    "#     MSE = (1/N)*(Sum of squares of the errors)\n",
    "    return mse"
   ]
  },
  {
   "cell_type": "code",
   "execution_count": 71,
   "metadata": {},
   "outputs": [
    {
     "name": "stdout",
     "output_type": "stream",
     "text": [
      "0.014422859400622299\n",
      "0.012786015105507684\n",
      "0.005244858083375379\n"
     ]
    }
   ],
   "source": [
    "print(MSE(y, p1(x)))  # MSE for 1-degree polynomial\n",
    "print(MSE(y, p2(x)))  # MSE for 2-degree polynomial\n",
    "print(MSE(y, p3(x)))  # MSE for 3-degree polynomial"
   ]
  },
  {
   "cell_type": "code",
   "execution_count": 73,
   "metadata": {},
   "outputs": [
    {
     "data": {
      "text/plain": [
       "0.014422859400622299"
      ]
     },
     "execution_count": 73,
     "metadata": {},
     "output_type": "execute_result"
    }
   ],
   "source": [
    "from sklearn.metrics import mean_squared_error, r2_score\n",
    "mean_squared_error(y, p1(x))"
   ]
  },
  {
   "cell_type": "code",
   "execution_count": 74,
   "metadata": {},
   "outputs": [
    {
     "data": {
      "text/plain": [
       "0.9718259277552196"
      ]
     },
     "execution_count": 74,
     "metadata": {},
     "output_type": "execute_result"
    }
   ],
   "source": [
    "r2_score(y, p1(x))"
   ]
  },
  {
   "cell_type": "code",
   "execution_count": 76,
   "metadata": {},
   "outputs": [
    {
     "data": {
      "text/plain": [
       "0.9750233914580153"
      ]
     },
     "execution_count": 76,
     "metadata": {},
     "output_type": "execute_result"
    }
   ],
   "source": [
    "r2_score(y, p2(x))"
   ]
  },
  {
   "cell_type": "code",
   "execution_count": 77,
   "metadata": {},
   "outputs": [
    {
     "data": {
      "text/plain": [
       "0.9897545274172012"
      ]
     },
     "execution_count": 77,
     "metadata": {},
     "output_type": "execute_result"
    }
   ],
   "source": [
    "r2_score(y, p3(x))  # R2 for 3-degree poly is much better than 1&2. Hence it is the best fit model!"
   ]
  },
  {
   "cell_type": "code",
   "execution_count": null,
   "metadata": {},
   "outputs": [],
   "source": []
  }
 ],
 "metadata": {
  "kernelspec": {
   "display_name": "Python 3",
   "language": "python",
   "name": "python3"
  },
  "language_info": {
   "codemirror_mode": {
    "name": "ipython",
    "version": 3
   },
   "file_extension": ".py",
   "mimetype": "text/x-python",
   "name": "python",
   "nbconvert_exporter": "python",
   "pygments_lexer": "ipython3",
   "version": "3.8.5"
  }
 },
 "nbformat": 4,
 "nbformat_minor": 4
}
