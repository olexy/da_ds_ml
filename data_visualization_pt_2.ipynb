{
 "cells": [
  {
   "cell_type": "markdown",
   "metadata": {},
   "source": [
    "# Data Visualization - Part 2 : A deeper look at plot types and plotting."
   ]
  },
  {
   "cell_type": "code",
   "execution_count": 3,
   "metadata": {},
   "outputs": [],
   "source": [
    "# Import standard data visualization libraries\n",
    "import seaborn as sns                         \n",
    "from matplotlib import pyplot as plt\n",
    "\n",
    "# Import standard computation libraries\n",
    "import numpy as np\n",
    "from scipy import stats\n",
    "import pandas as pd\n",
    "\n",
    "# Import standard data science library - contains data sets useful for learning.\n",
    "from sklearn.datasets import load_iris\n"
   ]
  },
  {
   "cell_type": "markdown",
   "metadata": {
    "heading_collapsed": true
   },
   "source": [
    "## Learning Goals"
   ]
  },
  {
   "cell_type": "markdown",
   "metadata": {
    "hidden": true
   },
   "source": [
    "- Choose appropriate graph types based on data and problem context for explanatory visualizations\n",
    "- Discuss the use of `matplotlib` syntax to create graphs and adjust elements\n",
    "- To produce figures containing multiple graphs."
   ]
  },
  {
   "cell_type": "markdown",
   "metadata": {
    "heading_collapsed": true
   },
   "source": [
    "## Visualization Motivation: Why Visualize Data?"
   ]
  },
  {
   "cell_type": "markdown",
   "metadata": {
    "hidden": true
   },
   "source": [
    "Why can’t we just hand someone a table of data?"
   ]
  },
  {
   "cell_type": "markdown",
   "metadata": {
    "hidden": true
   },
   "source": [
    "Let's load up the iris data set.  This is a famous built-in dataset which is used to learn about categorization. "
   ]
  },
  {
   "cell_type": "code",
   "execution_count": 2,
   "metadata": {
    "hidden": true,
    "tags": []
   },
   "outputs": [],
   "source": [
    "data = load_iris()\n",
    "df_iris = pd.DataFrame(data['data'], columns=data['feature_names'])\n",
    "df_iris['target'] = data['target']"
   ]
  },
  {
   "cell_type": "markdown",
   "metadata": {
    "hidden": true
   },
   "source": [
    "Here is an image of one of the virginica iris, which is unique in its relative petal and sepal length."
   ]
  },
  {
   "cell_type": "markdown",
   "metadata": {
    "hidden": true
   },
   "source": [
    "![virginica_iris](images/iris_virginica.jpg)"
   ]
  },
  {
   "cell_type": "markdown",
   "metadata": {
    "heading_collapsed": true,
    "hidden": true
   },
   "source": [
    "## Dataframe vs Graph: Which do you prefer?"
   ]
  },
  {
   "cell_type": "code",
   "execution_count": 7,
   "metadata": {
    "hidden": true
   },
   "outputs": [
    {
     "data": {
      "text/html": [
       "<div>\n",
       "<style scoped>\n",
       "    .dataframe tbody tr th:only-of-type {\n",
       "        vertical-align: middle;\n",
       "    }\n",
       "\n",
       "    .dataframe tbody tr th {\n",
       "        vertical-align: top;\n",
       "    }\n",
       "\n",
       "    .dataframe thead th {\n",
       "        text-align: right;\n",
       "    }\n",
       "</style>\n",
       "<table border=\"1\" class=\"dataframe\">\n",
       "  <thead>\n",
       "    <tr style=\"text-align: right;\">\n",
       "      <th></th>\n",
       "      <th>sepal length (cm)</th>\n",
       "      <th>sepal width (cm)</th>\n",
       "      <th>petal length (cm)</th>\n",
       "      <th>petal width (cm)</th>\n",
       "      <th>target</th>\n",
       "    </tr>\n",
       "  </thead>\n",
       "  <tbody>\n",
       "    <tr>\n",
       "      <th>73</th>\n",
       "      <td>6.1</td>\n",
       "      <td>2.8</td>\n",
       "      <td>4.7</td>\n",
       "      <td>1.2</td>\n",
       "      <td>1</td>\n",
       "    </tr>\n",
       "    <tr>\n",
       "      <th>18</th>\n",
       "      <td>5.7</td>\n",
       "      <td>3.8</td>\n",
       "      <td>1.7</td>\n",
       "      <td>0.3</td>\n",
       "      <td>0</td>\n",
       "    </tr>\n",
       "    <tr>\n",
       "      <th>118</th>\n",
       "      <td>7.7</td>\n",
       "      <td>2.6</td>\n",
       "      <td>6.9</td>\n",
       "      <td>2.3</td>\n",
       "      <td>2</td>\n",
       "    </tr>\n",
       "    <tr>\n",
       "      <th>78</th>\n",
       "      <td>6.0</td>\n",
       "      <td>2.9</td>\n",
       "      <td>4.5</td>\n",
       "      <td>1.5</td>\n",
       "      <td>1</td>\n",
       "    </tr>\n",
       "    <tr>\n",
       "      <th>76</th>\n",
       "      <td>6.8</td>\n",
       "      <td>2.8</td>\n",
       "      <td>4.8</td>\n",
       "      <td>1.4</td>\n",
       "      <td>1</td>\n",
       "    </tr>\n",
       "  </tbody>\n",
       "</table>\n",
       "</div>"
      ],
      "text/plain": [
       "     sepal length (cm)  sepal width (cm)  petal length (cm)  petal width (cm)  \\\n",
       "73                 6.1               2.8                4.7               1.2   \n",
       "18                 5.7               3.8                1.7               0.3   \n",
       "118                7.7               2.6                6.9               2.3   \n",
       "78                 6.0               2.9                4.5               1.5   \n",
       "76                 6.8               2.8                4.8               1.4   \n",
       "\n",
       "     target  \n",
       "73        1  \n",
       "18        0  \n",
       "118       2  \n",
       "78        1  \n",
       "76        1  "
      ]
     },
     "execution_count": 7,
     "metadata": {},
     "output_type": "execute_result"
    }
   ],
   "source": [
    "df_iris.sample(5, random_state=42)"
   ]
  },
  {
   "cell_type": "code",
   "execution_count": 3,
   "metadata": {
    "hidden": true
   },
   "outputs": [
    {
     "data": {
      "image/png": "[encoded data removed]",
      "text/plain": [
       "<Figure size 720x360 with 1 Axes>"
      ]
     },
     "metadata": {
      "needs_background": "light"
     },
     "output_type": "display_data"
    }
   ],
   "source": [
    "# plt.subplots() gives you two objects: fig - think of this as the white space behind any of the images/drawing\n",
    "#                                        ax - think of this as the object that contains the drawings.\n",
    "\n",
    "fig, ax = plt.subplots(figsize=(10, 5))\n",
    "\n",
    "# Don't focus on the exact coding for now. we will get more into the syntax of pandas later.\n",
    "\n",
    "# Iterate through each type of flower and plot them using different colors.\n",
    "for flower in df_iris['target'].unique():\n",
    "    subset_df = df_iris[df_iris['target'] == flower]\n",
    "    x = subset_df['sepal length (cm)']\n",
    "    y = subset_df['petal length (cm)']\n",
    "    \n",
    "    #data: x is the horizontal axis and y is the vertical. \n",
    "    ax.scatter(x, y, label=data['target_names'][flower])\n",
    "\n",
    "# Label your axes! ** always a good practice to include units of measurment with your axes labels.\n",
    "ax.set_ylabel('petal length (cm)')\n",
    "ax.set_xlabel('sepal length (cm)')\n",
    "ax.set_title('Petal length vs Sepal Length for Three Species of Flowers')\n",
    "ax.legend();"
   ]
  },
  {
   "cell_type": "markdown",
   "metadata": {
    "hidden": true
   },
   "source": [
    "**Thought experiment: What information in this graph jumps out to you?**"
   ]
  },
  {
   "cell_type": "markdown",
   "metadata": {
    "heading_collapsed": true
   },
   "source": [
    "# Creating Data Visualization with `matplotlib`"
   ]
  },
  {
   "cell_type": "markdown",
   "metadata": {
    "hidden": true
   },
   "source": [
    "There are [lots](https://python-graph-gallery.com) of different ways of plotting data! (See also [this page](https://datavizproject.com/).)"
   ]
  },
  {
   "cell_type": "markdown",
   "metadata": {
    "hidden": true
   },
   "source": [
    "We will make heavy use of:\n",
    "\n",
    "- bar plots\n",
    "- box plots\n",
    "- histograms\n",
    "- line plots\n",
    "- scatter plots"
   ]
  },
  {
   "cell_type": "markdown",
   "metadata": {
    "hidden": true
   },
   "source": [
    "These can all be handled by `matplotlib` and `seaborn`. These packages are great for data that exists in `pandas` DataFrames (or `numpy` arrays), and so they will often be very useful for us."
   ]
  },
  {
   "cell_type": "markdown",
   "metadata": {
    "heading_collapsed": true,
    "hidden": true
   },
   "source": [
    "## Anatomy of `matplotlib` Figure"
   ]
  },
  {
   "cell_type": "markdown",
   "metadata": {
    "hidden": true
   },
   "source": [
    "<img src=\"images/matplotlib_anatomy.png\">"
   ]
  },
  {
   "cell_type": "markdown",
   "metadata": {
    "hidden": true
   },
   "source": [
    "Explanation of non-obvious terms:\n",
    "\n",
    "__Figure__ - This is the \"sheet of paper\" all of your graphing sits on. \n",
    "\n",
    "__Axis__ - An axis is an individual plot. You can have multiple axes on one figure\n",
    "\n",
    "__Major/Minor Ticks__ - The large and small dashes on the x and y axis\n",
    "\n",
    "__Markers__ - In a scatter plot each of the points is refered to as a marker\n",
    "\n",
    "__Spines__ - The lines that bound each axis"
   ]
  },
  {
   "cell_type": "markdown",
   "metadata": {
    "heading_collapsed": true,
    "hidden": true
   },
   "source": [
    "## Plotting Syntax"
   ]
  },
  {
   "cell_type": "markdown",
   "metadata": {
    "hidden": true
   },
   "source": [
    "- There are many different ways to create plots but we will strongly suggest using the subplots method\n",
    "    - Useful for extensibility \n",
    "    - Access to the figure and individual axis in a plot\n",
    "    - More fine-grained control of customizing your plot\n",
    "    - Easily create additional axis on your figure"
   ]
  },
  {
   "cell_type": "markdown",
   "metadata": {
    "hidden": true
   },
   "source": [
    "Here are links to the [matplotlib documentation](https://matplotlib.org/index.html) as well as the [Axes object documentation](https://matplotlib.org/api/axes_api.html):"
   ]
  },
  {
   "cell_type": "markdown",
   "metadata": {
    "hidden": true
   },
   "source": [
    "We will now walk through some common charts and their uses, while practicing our `matplotlib` syntax."
   ]
  },
  {
   "cell_type": "markdown",
   "metadata": {},
   "source": [
    "Let's read in some new data:"
   ]
  },
  {
   "cell_type": "code",
   "execution_count": 6,
   "metadata": {
    "hidden": true
   },
   "outputs": [],
   "source": [
    "penguins = sns.load_dataset('penguins')"
   ]
  },
  {
   "cell_type": "code",
   "execution_count": 5,
   "metadata": {
    "hidden": true
   },
   "outputs": [
    {
     "data": {
      "text/html": [
       "<div>\n",
       "<style scoped>\n",
       "    .dataframe tbody tr th:only-of-type {\n",
       "        vertical-align: middle;\n",
       "    }\n",
       "\n",
       "    .dataframe tbody tr th {\n",
       "        vertical-align: top;\n",
       "    }\n",
       "\n",
       "    .dataframe thead th {\n",
       "        text-align: right;\n",
       "    }\n",
       "</style>\n",
       "<table border=\"1\" class=\"dataframe\">\n",
       "  <thead>\n",
       "    <tr style=\"text-align: right;\">\n",
       "      <th></th>\n",
       "      <th>species</th>\n",
       "      <th>island</th>\n",
       "      <th>bill_length_mm</th>\n",
       "      <th>bill_depth_mm</th>\n",
       "      <th>flipper_length_mm</th>\n",
       "      <th>body_mass_g</th>\n",
       "      <th>sex</th>\n",
       "    </tr>\n",
       "  </thead>\n",
       "  <tbody>\n",
       "    <tr>\n",
       "      <th>0</th>\n",
       "      <td>Adelie</td>\n",
       "      <td>Torgersen</td>\n",
       "      <td>39.1</td>\n",
       "      <td>18.7</td>\n",
       "      <td>181.0</td>\n",
       "      <td>3750.0</td>\n",
       "      <td>Male</td>\n",
       "    </tr>\n",
       "    <tr>\n",
       "      <th>1</th>\n",
       "      <td>Adelie</td>\n",
       "      <td>Torgersen</td>\n",
       "      <td>39.5</td>\n",
       "      <td>17.4</td>\n",
       "      <td>186.0</td>\n",
       "      <td>3800.0</td>\n",
       "      <td>Female</td>\n",
       "    </tr>\n",
       "    <tr>\n",
       "      <th>2</th>\n",
       "      <td>Adelie</td>\n",
       "      <td>Torgersen</td>\n",
       "      <td>40.3</td>\n",
       "      <td>18.0</td>\n",
       "      <td>195.0</td>\n",
       "      <td>3250.0</td>\n",
       "      <td>Female</td>\n",
       "    </tr>\n",
       "    <tr>\n",
       "      <th>3</th>\n",
       "      <td>Adelie</td>\n",
       "      <td>Torgersen</td>\n",
       "      <td>NaN</td>\n",
       "      <td>NaN</td>\n",
       "      <td>NaN</td>\n",
       "      <td>NaN</td>\n",
       "      <td>NaN</td>\n",
       "    </tr>\n",
       "    <tr>\n",
       "      <th>4</th>\n",
       "      <td>Adelie</td>\n",
       "      <td>Torgersen</td>\n",
       "      <td>36.7</td>\n",
       "      <td>19.3</td>\n",
       "      <td>193.0</td>\n",
       "      <td>3450.0</td>\n",
       "      <td>Female</td>\n",
       "    </tr>\n",
       "  </tbody>\n",
       "</table>\n",
       "</div>"
      ],
      "text/plain": [
       "  species     island  bill_length_mm  bill_depth_mm  flipper_length_mm  \\\n",
       "0  Adelie  Torgersen            39.1           18.7              181.0   \n",
       "1  Adelie  Torgersen            39.5           17.4              186.0   \n",
       "2  Adelie  Torgersen            40.3           18.0              195.0   \n",
       "3  Adelie  Torgersen             NaN            NaN                NaN   \n",
       "4  Adelie  Torgersen            36.7           19.3              193.0   \n",
       "\n",
       "   body_mass_g     sex  \n",
       "0       3750.0    Male  \n",
       "1       3800.0  Female  \n",
       "2       3250.0  Female  \n",
       "3          NaN     NaN  \n",
       "4       3450.0  Female  "
      ]
     },
     "execution_count": 5,
     "metadata": {},
     "output_type": "execute_result"
    }
   ],
   "source": [
    "# pandas' method .head() gives you the first five lines of your dataset.\n",
    "penguins.head()"
   ]
  },
  {
   "cell_type": "markdown",
   "metadata": {
    "heading_collapsed": true,
    "hidden": true
   },
   "source": [
    "### Common Charts and Their Uses"
   ]
  },
  {
   "cell_type": "markdown",
   "metadata": {
    "heading_collapsed": true,
    "hidden": true
   },
   "source": [
    "#### Scatter Plots"
   ]
  },
  {
   "cell_type": "markdown",
   "metadata": {
    "heading_collapsed": true,
    "hidden": true
   },
   "source": [
    "Scatter plots are very common.  They allow one to visualize the relationship of two variables.\n",
    "\n",
    "A scatter plot is a two-dimensional data visualization that uses individual data points to represent the values obtained for two different variables - one plotted along the x-axis and the other plotted along the y-axis. \n",
    "\n",
    "Scatter plots are used when you want to show the relationship between two variables. Scatter plots are sometimes called correlation plots because they show how two variables are correlated.\n",
    "\n",
    "In the plots below, we see different correlations between variables:"
   ]
  },
  {
   "cell_type": "code",
   "execution_count": 8,
   "metadata": {
    "hidden": true,
    "tags": []
   },
   "outputs": [
    {
     "data": {
      "text/plain": [
       "Text(0.5, 1.0, 'Positive Correlation btwn Flipper Length and Body Mass among Penguins')"
      ]
     },
     "execution_count": 8,
     "metadata": {},
     "output_type": "execute_result"
    },
    {
     "data": {
      "image/png": "[encoded data removed]",
      "text/plain": [
       "<Figure size 432x288 with 1 Axes>"
      ]
     },
     "metadata": {
      "needs_background": "light"
     },
     "output_type": "display_data"
    }
   ],
   "source": [
    "# This is the plotting syntax we recommend. Note that plt.subplots()\n",
    "# returns a _double_: the figure object and the axis object.\n",
    "\n",
    "fig, ax = plt.subplots()\n",
    "\n",
    "ax.scatter(penguins['flipper_length_mm'], penguins['body_mass_g'])\n",
    "ax.set_xlabel('Flipper Length [mm]')\n",
    "ax.set_ylabel('Body Mass [g]')\n",
    "ax.set_title('Positive Correlation btwn Flipper Length and Body Mass among Penguins')\n",
    "\n",
    "plt.tight_layout()"
   ]
  },
  {
   "cell_type": "code",
   "execution_count": 18,
   "metadata": {
    "hidden": true
   },
   "outputs": [
    {
     "data": {
      "image/png": "[encoded data removed]",
      "text/plain": [
       "<Figure size 432x288 with 1 Axes>"
      ]
     },
     "metadata": {
      "needs_background": "light"
     },
     "output_type": "display_data"
    }
   ],
   "source": [
    "# You will also see this syntax, but it gives you less control over\n",
    "# the plot! What similarities and differences do you see between\n",
    "# this syntax and the subplots syntax?\n",
    "\n",
    "\n",
    "# notice the arguments in .scatter() for x and y are missing. Plotting functions automatically understand the first argument is the x-data and the second is the y-data\n",
    "# you can choose to be explicit by typing \"x= <x_data>, y=<y_data>\".\n",
    "plt.scatter(penguins['flipper_length_mm'], penguins['body_mass_g'])\n",
    "plt.xlabel('Flipper Length [mm]')\n",
    "plt.ylabel('Body Mass [g]')\n",
    "plt.title('Positive Correlation btwn Flipper Length and Body Mass among Penguins')\n",
    "#plt.xlim(170,180)\n",
    "#plt.ylim(1000,4500)\n",
    "\n",
    "# tight_layout() is a function that controls the dimensions of the plotting area. \n",
    "plt.tight_layout()"
   ]
  },
  {
   "cell_type": "markdown",
   "metadata": {
    "hidden": true
   },
   "source": [
    "We can also change [color](https://matplotlib.org/3.1.0/gallery/color/named_colors.html), opacity, marker size, and [marker symbol](https://matplotlib.org/3.2.1/api/markers_api.html)."
   ]
  },
  {
   "cell_type": "code",
   "execution_count": 9,
   "metadata": {
    "hidden": true,
    "scrolled": true
   },
   "outputs": [
    {
     "data": {
      "image/png": "[encoded data removed]",
      "text/plain": [
       "<Figure size 432x288 with 1 Axes>"
      ]
     },
     "metadata": {
      "needs_background": "light"
     },
     "output_type": "display_data"
    }
   ],
   "source": [
    "fig, ax = plt.subplots()\n",
    "\n",
    "ax.scatter(x=penguins['flipper_length_mm'], y=penguins['body_mass_g'],\n",
    "            c='blue',   # c gives the color of the marker or line.\n",
    "            alpha=.2,   # the alpha argument controls opacity or how transparent the markers are.\n",
    "            s=100,      # s gives the size of the marker\n",
    "            marker='^') # marker gives the marker style.\n",
    "\n",
    "ax.set_xlabel('Flipper Length')\n",
    "ax.set_ylabel('Body Mass')\n",
    "ax.set_title('Positive Correlation btwn Flipper Length and Body Mass among Penguins')\n",
    "\n",
    "\n",
    "plt.tight_layout()"
   ]
  },
  {
   "cell_type": "markdown",
   "metadata": {
    "hidden": true
   },
   "source": [
    "We can also identify colors by hexadecimal code, one each for the amount of red, green, and blue. Values range from '00' to 'ff'."
   ]
  },
  {
   "cell_type": "code",
   "execution_count": 21,
   "metadata": {
    "hidden": true
   },
   "outputs": [
    {
     "data": {
      "image/png": "[encoded data removed]",
      "text/plain": [
       "<Figure size 432x288 with 1 Axes>"
      ]
     },
     "metadata": {
      "needs_background": "light"
     },
     "output_type": "display_data"
    }
   ],
   "source": [
    "fig, ax = plt.subplots()\n",
    "\n",
    "ax.scatter(x=penguins['flipper_length_mm'], y=penguins['species'],\n",
    "            c='#0000ff',\n",
    "            alpha=0.5,\n",
    "            s=30,\n",
    "            marker='^')\n",
    "\n",
    "ax.set_xlabel('Flipper Length')\n",
    "ax.set_ylabel('Species')\n",
    "\n",
    "plt.tight_layout()"
   ]
  },
  {
   "cell_type": "markdown",
   "metadata": {
    "heading_collapsed": true,
    "hidden": true
   },
   "source": [
    "#### Line Plot"
   ]
  },
  {
   "cell_type": "markdown",
   "metadata": {
    "hidden": true
   },
   "source": [
    "Tracks the change of a single variable over time.  They are generally better than bar graphs over shorter periods of time."
   ]
  },
  {
   "cell_type": "markdown",
   "metadata": {
    "hidden": true
   },
   "source": [
    "Here is some code to read in some well worn shampoo sales data over a three year period."
   ]
  },
  {
   "cell_type": "code",
   "execution_count": 23,
   "metadata": {
    "hidden": true
   },
   "outputs": [
    {
     "data": {
      "text/html": [
       "<div>\n",
       "<style scoped>\n",
       "    .dataframe tbody tr th:only-of-type {\n",
       "        vertical-align: middle;\n",
       "    }\n",
       "\n",
       "    .dataframe tbody tr th {\n",
       "        vertical-align: top;\n",
       "    }\n",
       "\n",
       "    .dataframe thead th {\n",
       "        text-align: right;\n",
       "    }\n",
       "</style>\n",
       "<table border=\"1\" class=\"dataframe\">\n",
       "  <thead>\n",
       "    <tr style=\"text-align: right;\">\n",
       "      <th></th>\n",
       "      <th>Month</th>\n",
       "      <th>Sales of shampoo over a three year period</th>\n",
       "    </tr>\n",
       "  </thead>\n",
       "  <tbody>\n",
       "    <tr>\n",
       "      <th>0</th>\n",
       "      <td>1-01</td>\n",
       "      <td>266.0</td>\n",
       "    </tr>\n",
       "    <tr>\n",
       "      <th>1</th>\n",
       "      <td>1-02</td>\n",
       "      <td>145.9</td>\n",
       "    </tr>\n",
       "    <tr>\n",
       "      <th>2</th>\n",
       "      <td>1-03</td>\n",
       "      <td>183.1</td>\n",
       "    </tr>\n",
       "    <tr>\n",
       "      <th>3</th>\n",
       "      <td>1-04</td>\n",
       "      <td>119.3</td>\n",
       "    </tr>\n",
       "    <tr>\n",
       "      <th>4</th>\n",
       "      <td>1-05</td>\n",
       "      <td>180.3</td>\n",
       "    </tr>\n",
       "    <tr>\n",
       "      <th>5</th>\n",
       "      <td>1-06</td>\n",
       "      <td>168.5</td>\n",
       "    </tr>\n",
       "    <tr>\n",
       "      <th>6</th>\n",
       "      <td>1-07</td>\n",
       "      <td>231.8</td>\n",
       "    </tr>\n",
       "    <tr>\n",
       "      <th>7</th>\n",
       "      <td>1-08</td>\n",
       "      <td>224.5</td>\n",
       "    </tr>\n",
       "    <tr>\n",
       "      <th>8</th>\n",
       "      <td>1-09</td>\n",
       "      <td>192.8</td>\n",
       "    </tr>\n",
       "    <tr>\n",
       "      <th>9</th>\n",
       "      <td>1-10</td>\n",
       "      <td>122.9</td>\n",
       "    </tr>\n",
       "  </tbody>\n",
       "</table>\n",
       "</div>"
      ],
      "text/plain": [
       "  Month  Sales of shampoo over a three year period\n",
       "0  1-01                                      266.0\n",
       "1  1-02                                      145.9\n",
       "2  1-03                                      183.1\n",
       "3  1-04                                      119.3\n",
       "4  1-05                                      180.3\n",
       "5  1-06                                      168.5\n",
       "6  1-07                                      231.8\n",
       "7  1-08                                      224.5\n",
       "8  1-09                                      192.8\n",
       "9  1-10                                      122.9"
      ]
     },
     "execution_count": 23,
     "metadata": {},
     "output_type": "execute_result"
    }
   ],
   "source": [
    "shampoo = pd.read_csv('data/sales-of-shampoo-over-a-three-ye.csv')[:-1]\n",
    "\n",
    "shampoo.head(10)"
   ]
  },
  {
   "cell_type": "code",
   "execution_count": 24,
   "metadata": {
    "hidden": true
   },
   "outputs": [
    {
     "data": {
      "image/png": "[encoded data removed]",
      "text/plain": [
       "<Figure size 432x288 with 1 Axes>"
      ]
     },
     "metadata": {
      "needs_background": "light"
     },
     "output_type": "display_data"
    }
   ],
   "source": [
    "fig, ax = plt.subplots()\n",
    "ax.plot(shampoo['Month'],\n",
    "         shampoo['Sales of shampoo over a three year period'],\n",
    "         color='g')\n",
    "ax.set_title('Shampoo Sales Across 3 Years')\n",
    "ax.set_xlabel('Year')\n",
    "ax.set_ylabel('Total Sales');"
   ]
  },
  {
   "cell_type": "markdown",
   "metadata": {
    "hidden": true
   },
   "source": [
    "The xticks are illegible in the plot above."
   ]
  },
  {
   "cell_type": "markdown",
   "metadata": {
    "hidden": true
   },
   "source": [
    "One way to combat that is to try [rotating](https://matplotlib.org/3.1.1/gallery/ticks_and_spines/ticklabels_rotation.html) the ticks."
   ]
  },
  {
   "cell_type": "code",
   "execution_count": 29,
   "metadata": {
    "hidden": true
   },
   "outputs": [
    {
     "data": {
      "image/png": "[encoded data removed]",
      "text/plain": [
       "<Figure size 432x288 with 1 Axes>"
      ]
     },
     "metadata": {
      "needs_background": "light"
     },
     "output_type": "display_data"
    }
   ],
   "source": [
    "fig, ax = plt.subplots()  # Could also adjust figsize here!\n",
    "\n",
    "ax.plot(shampoo['Month'],\n",
    "         shampoo['Sales of shampoo over a three year period'],\n",
    "         color='g')\n",
    "ax.set_title('Shampoo Sales Across 3 Years')\n",
    "ax.set_xlabel('Year')\n",
    "ax.set_ylabel('Total Sales')\n",
    "plt.xticks(shampoo['Month'],\n",
    "                   rotation=90);"
   ]
  },
  {
   "cell_type": "markdown",
   "metadata": {
    "hidden": true
   },
   "source": [
    "Maybe better is to make custom ticks:"
   ]
  },
  {
   "cell_type": "code",
   "execution_count": 39,
   "metadata": {
    "hidden": true,
    "scrolled": true
   },
   "outputs": [
    {
     "data": {
      "image/png": "[encoded data removed]",
      "text/plain": [
       "<Figure size 432x288 with 1 Axes>"
      ]
     },
     "metadata": {
      "needs_background": "light"
     },
     "output_type": "display_data"
    }
   ],
   "source": [
    "fig, ax = plt.subplots()\n",
    "\n",
    "ax.plot(shampoo.index,\n",
    "        shampoo['Sales of shampoo over a three year period'],\n",
    "        color='g')\n",
    "plt.xticks(range(12, 36, 12), labels=['year_2', 'year_3'])\n",
    "ax.set_title('Shampoo Sales Across 3 Years')\n",
    "ax.set_xlabel('Year')\n",
    "ax.set_ylabel('Total Sales');"
   ]
  },
  {
   "cell_type": "markdown",
   "metadata": {},
   "source": [
    "Lines have many [changeable properties](https://matplotlib.org/stable/tutorials/introductory/pyplot.html#sphx-glr-tutorials-introductory-pyplot-py/):"
   ]
  },
  {
   "cell_type": "code",
   "execution_count": 42,
   "metadata": {},
   "outputs": [
    {
     "data": {
      "image/png": "[encoded data removed]",
      "text/plain": [
       "<Figure size 432x288 with 1 Axes>"
      ]
     },
     "metadata": {
      "needs_background": "light"
     },
     "output_type": "display_data"
    }
   ],
   "source": [
    "fig, ax = plt.subplots()\n",
    "\n",
    "ax.plot(shampoo.index,\n",
    "        shampoo['Sales of shampoo over a three year period'],\n",
    "        \n",
    "        # color\n",
    "        c='g',\n",
    "        \n",
    "        # linestyle\n",
    "        ls=':',\n",
    "        \n",
    "        # marker\n",
    "        marker='$label$',\n",
    "        \n",
    "        # markersize\n",
    "        ms=20)\n",
    "\n",
    "plt.xticks(range(12, 36, 12), labels=['year_2', 'year_3'])\n",
    "ax.set_title('Shampoo Sales Across 3 Years')\n",
    "ax.set_xlabel('Year')\n",
    "ax.set_ylabel('Total Sales');"
   ]
  },
  {
   "cell_type": "markdown",
   "metadata": {
    "heading_collapsed": true,
    "hidden": true
   },
   "source": [
    "#### Histograms"
   ]
  },
  {
   "cell_type": "markdown",
   "metadata": {
    "hidden": true
   },
   "source": [
    "We will get get further into histograms in Phase 2, but it is good to get familiar with them sooner rather than later. \n",
    "\n",
    "Histograms create uniform bins across the entire range of a continuous variable. They then count the number of data points which fall into each bin.  \n",
    "\n",
    "Histograms are often confused with bar charts, since they look somewhat similar.  The big difference, however, is that histograms visualize the distribution of a continuous variable, rather than the discrete variable shown by barcharts. You can remember this because the bins of histograms don't have spaces between them."
   ]
  },
  {
   "cell_type": "markdown",
   "metadata": {
    "hidden": true
   },
   "source": [
    "![histogram_ex](images/histogram_example.svg)"
   ]
  },
  {
   "cell_type": "code",
   "execution_count": 43,
   "metadata": {
    "hidden": true
   },
   "outputs": [
    {
     "data": {
      "image/png": "[encoded data removed]",
      "text/plain": [
       "<Figure size 432x288 with 1 Axes>"
      ]
     },
     "metadata": {
      "needs_background": "light"
     },
     "output_type": "display_data"
    }
   ],
   "source": [
    "# Here is a histogram of flipper lengths from the Penguins Dataset\n",
    "\n",
    "variable = penguins['flipper_length_mm'].dropna() # The '.dropna()' means\n",
    "                                                  # that we'll ignore any\n",
    "                                                  # missing values!\n",
    "\n",
    "fig, ax = plt.subplots()\n",
    "ax.hist(variable, color='magenta')\n",
    "ax.set_xlabel('Flipper Length (mm)');\n",
    "ax.set_ylabel('Count')\n",
    "ax.set_title('Distribution of Penguin Flipper Lengths');"
   ]
  },
  {
   "cell_type": "code",
   "execution_count": 56,
   "metadata": {},
   "outputs": [
    {
     "data": {
      "text/plain": [
       "200.915"
      ]
     },
     "execution_count": 56,
     "metadata": {},
     "output_type": "execute_result"
    }
   ],
   "source": [
    "round(np.mean(variable),3)\n",
    "#stats.mode(variable)"
   ]
  },
  {
   "cell_type": "code",
   "execution_count": null,
   "metadata": {},
   "outputs": [],
   "source": []
  },
  {
   "cell_type": "markdown",
   "metadata": {},
   "source": [
    "#### Box Plots"
   ]
  },
  {
   "cell_type": "markdown",
   "metadata": {},
   "source": [
    "The scatter plot we made above of penguin species and flipper length would probably make more sense as a box plot."
   ]
  },
  {
   "cell_type": "markdown",
   "metadata": {},
   "source": [
    "Here we make a boxplot that shows the penguin flipper length distributions *per species*."
   ]
  },
  {
   "cell_type": "code",
   "execution_count": 57,
   "metadata": {},
   "outputs": [
    {
     "data": {
      "image/png": "[encoded data removed]",
      "text/plain": [
       "<Figure size 432x288 with 1 Axes>"
      ]
     },
     "metadata": {
      "needs_background": "light"
     },
     "output_type": "display_data"
    }
   ],
   "source": [
    "fig, ax = plt.subplots()\n",
    "\n",
    "adelie = penguins[penguins['species'] == 'Adelie'].dropna()\n",
    "chinstrap = penguins[penguins['species'] == 'Chinstrap'].dropna()\n",
    "gentoo = penguins[penguins['species'] == 'Gentoo'].dropna()\n",
    "flippers = [adelie['flipper_length_mm'],\n",
    "            chinstrap['flipper_length_mm'],\n",
    "           gentoo['flipper_length_mm']]\n",
    "\n",
    "ax.boxplot(flippers, labels = ['adelie', 'chinstrap','gentoo']);"
   ]
  },
  {
   "cell_type": "markdown",
   "metadata": {},
   "source": [
    "### Multiple Plots on a Single Axis"
   ]
  },
  {
   "cell_type": "markdown",
   "metadata": {
    "hidden": true
   },
   "source": [
    "If we want to add multiple plots on one axis, we can simply call the plotting functions one after the other."
   ]
  },
  {
   "cell_type": "code",
   "execution_count": 59,
   "metadata": {
    "hidden": true
   },
   "outputs": [
    {
     "data": {
      "image/png": "[encoded data removed]",
      "text/plain": [
       "<Figure size 432x288 with 1 Axes>"
      ]
     },
     "metadata": {
      "needs_background": "light"
     },
     "output_type": "display_data"
    }
   ],
   "source": [
    "fig, ax = plt.subplots()\n",
    "\n",
    "X = range(10)\n",
    "\n",
    "Y1 = [2*x for x in X]\n",
    "Y2 = [3*x for x in X]\n",
    "\n",
    "ax.plot(X, Y1, c='#ef4209', alpha=0.8)\n",
    "ax.scatter(X, Y2, c='darkgreen', marker='*', s=50);"
   ]
  },
  {
   "cell_type": "markdown",
   "metadata": {},
   "source": [
    "## Adding Text and Annotations"
   ]
  },
  {
   "cell_type": "code",
   "execution_count": 11,
   "metadata": {},
   "outputs": [
    {
     "data": {
      "image/png": "[encoded data removed]",
      "text/plain": [
       "<Figure size 432x288 with 1 Axes>"
      ]
     },
     "metadata": {
      "needs_background": "light"
     },
     "output_type": "display_data"
    }
   ],
   "source": [
    "fig, ax = plt.subplots()\n",
    "\n",
    "X = np.linspace(-3, 3, 100)\n",
    "y = X**2\n",
    "ax.plot(X, y)\n",
    "ax.set_title('Parabola with words')\n",
    "ax.text(s='random comment', x=0, y=3)\n",
    "ax.annotate(text='minimum!', xy=(0, 0), xytext=(1, -4), # the position o fthe arrow is on 1 on axis, -4 on y-asxis poition to position 0 on x-axis & 0 on y-axis\n",
    "           arrowprops={'facecolor': 'green'});       \n",
    "                                                     "
   ]
  },
  {
   "cell_type": "code",
   "execution_count": 12,
   "metadata": {},
   "outputs": [
    {
     "data": {
      "text/plain": [
       "array([-3.        , -2.93939394, -2.87878788, -2.81818182, -2.75757576,\n",
       "       -2.6969697 , -2.63636364, -2.57575758, -2.51515152, -2.45454545,\n",
       "       -2.39393939, -2.33333333, -2.27272727, -2.21212121, -2.15151515,\n",
       "       -2.09090909, -2.03030303, -1.96969697, -1.90909091, -1.84848485,\n",
       "       -1.78787879, -1.72727273, -1.66666667, -1.60606061, -1.54545455,\n",
       "       -1.48484848, -1.42424242, -1.36363636, -1.3030303 , -1.24242424,\n",
       "       -1.18181818, -1.12121212, -1.06060606, -1.        , -0.93939394,\n",
       "       -0.87878788, -0.81818182, -0.75757576, -0.6969697 , -0.63636364,\n",
       "       -0.57575758, -0.51515152, -0.45454545, -0.39393939, -0.33333333,\n",
       "       -0.27272727, -0.21212121, -0.15151515, -0.09090909, -0.03030303,\n",
       "        0.03030303,  0.09090909,  0.15151515,  0.21212121,  0.27272727,\n",
       "        0.33333333,  0.39393939,  0.45454545,  0.51515152,  0.57575758,\n",
       "        0.63636364,  0.6969697 ,  0.75757576,  0.81818182,  0.87878788,\n",
       "        0.93939394,  1.        ,  1.06060606,  1.12121212,  1.18181818,\n",
       "        1.24242424,  1.3030303 ,  1.36363636,  1.42424242,  1.48484848,\n",
       "        1.54545455,  1.60606061,  1.66666667,  1.72727273,  1.78787879,\n",
       "        1.84848485,  1.90909091,  1.96969697,  2.03030303,  2.09090909,\n",
       "        2.15151515,  2.21212121,  2.27272727,  2.33333333,  2.39393939,\n",
       "        2.45454545,  2.51515152,  2.57575758,  2.63636364,  2.6969697 ,\n",
       "        2.75757576,  2.81818182,  2.87878788,  2.93939394,  3.        ])"
      ]
     },
     "execution_count": 12,
     "metadata": {},
     "output_type": "execute_result"
    }
   ],
   "source": [
    "X"
   ]
  },
  {
   "cell_type": "markdown",
   "metadata": {
    "heading_collapsed": true,
    "hidden": true
   },
   "source": [
    "## Saving your figures"
   ]
  },
  {
   "cell_type": "code",
   "execution_count": 63,
   "metadata": {
    "hidden": true
   },
   "outputs": [
    {
     "name": "stderr",
     "output_type": "stream",
     "text": [
      "<ipython-input-63-f0bc7df43a1d>:10: MatplotlibDeprecationWarning: The 's' parameter of annotate() has been renamed 'text' since Matplotlib 3.3; support for the old name will be dropped two minor releases later.\n",
      "  ax.annotate(s='minimum!', xy=(0, 0), xytext=(1, -4), # For newer versions of\n"
     ]
    },
    {
     "data": {
      "image/png": "[encoded data removed]",
      "text/plain": [
       "<Figure size 432x288 with 1 Axes>"
      ]
     },
     "metadata": {
      "needs_background": "light"
     },
     "output_type": "display_data"
    }
   ],
   "source": [
    "# If you have python and jupyter notebooks on your computer, you can save figures you create in an image file. \n",
    "\n",
    "fig, ax = plt.subplots()\n",
    "\n",
    "X = np.linspace(-3, 3, 100)\n",
    "y = X**2\n",
    "ax.plot(X, y)\n",
    "ax.set_title('Parabola with words')\n",
    "ax.text(s='random comment', x=0, y=3)\n",
    "ax.annotate(s='minimum!', xy=(0, 0), xytext=(1, -4), # For newer versions of\n",
    "           arrowprops={'facecolor': 'black'});       # matplotlib replace 's'\n",
    "                                                     # with 'text'!\n",
    "# Let's save it!\n",
    "plt.savefig('images/parabola.png')"
   ]
  },
  {
   "cell_type": "markdown",
   "metadata": {
    "hidden": true
   },
   "source": [
    "Let's make sure the image has been saved!"
   ]
  },
  {
   "cell_type": "markdown",
   "metadata": {
    "heading_collapsed": true
   },
   "source": [
    "# Multiple Plots (Axes)"
   ]
  },
  {
   "cell_type": "markdown",
   "metadata": {
    "hidden": true
   },
   "source": [
    "Sometimes we want multiple plots to be a part of the same figure."
   ]
  },
  {
   "cell_type": "code",
   "execution_count": 14,
   "metadata": {
    "hidden": true
   },
   "outputs": [
    {
     "data": {
      "image/png": "[encoded data removed]",
      "text/plain": [
       "<Figure size 576x432 with 6 Axes>"
      ]
     },
     "metadata": {
      "needs_background": "light"
     },
     "output_type": "display_data"
    }
   ],
   "source": [
    "fig, ax = plt.subplots(nrows=2, ncols=3, figsize=(8, 6))\n",
    "# The above line gives me a figure with six subplots,\n",
    "# arranged in two rows of three.\n",
    "\n",
    "X = np.linspace(-3, 3, 100) # create an array btw -3 & 3 in 100 steps\n",
    "Ys = [[j*x for x in X] for j in range(1, 7)]\n",
    "\n",
    "ax[0, 0].plot(X, Ys[0], c='red')\n",
    "ax[0, 0].set_title('y=x')\n",
    "ax[0, 0].set_xlabel('dummy x-label')\n",
    "\n",
    "ax[0, 1].plot(X, Ys[1], c='orange')\n",
    "ax[0, 1].set_title('y=2x')\n",
    "\n",
    "ax[0, 2].plot(X, Ys[2], c='yellow')\n",
    "ax[0, 2].set_title('y=3x')\n",
    "\n",
    "ax[1, 0].plot(X, Ys[3], c='green')\n",
    "ax[1, 0].set_title('y=4x')\n",
    "\n",
    "ax[1, 1].plot(X, Ys[4], c='blue')\n",
    "ax[1, 1].set_title('y=5x')\n",
    "\n",
    "ax[1, 2].plot(X, Ys[5], c='purple')\n",
    "ax[1, 2].set_title('y=6x')\n",
    "\n",
    "plt.tight_layout()"
   ]
  },
  {
   "cell_type": "code",
   "execution_count": 15,
   "metadata": {},
   "outputs": [
    {
     "data": {
      "text/plain": [
       "[[-3.0,\n",
       "  -2.9393939393939394,\n",
       "  -2.878787878787879,\n",
       "  -2.8181818181818183,\n",
       "  -2.757575757575758,\n",
       "  -2.696969696969697,\n",
       "  -2.6363636363636362,\n",
       "  -2.5757575757575757,\n",
       "  -2.515151515151515,\n",
       "  -2.4545454545454546,\n",
       "  -2.393939393939394,\n",
       "  -2.333333333333333,\n",
       "  -2.2727272727272725,\n",
       "  -2.212121212121212,\n",
       "  -2.1515151515151514,\n",
       "  -2.090909090909091,\n",
       "  -2.0303030303030303,\n",
       "  -1.9696969696969697,\n",
       "  -1.9090909090909092,\n",
       "  -1.8484848484848484,\n",
       "  -1.7878787878787878,\n",
       "  -1.7272727272727273,\n",
       "  -1.6666666666666665,\n",
       "  -1.606060606060606,\n",
       "  -1.5454545454545454,\n",
       "  -1.4848484848484849,\n",
       "  -1.4242424242424243,\n",
       "  -1.3636363636363635,\n",
       "  -1.303030303030303,\n",
       "  -1.2424242424242424,\n",
       "  -1.1818181818181817,\n",
       "  -1.121212121212121,\n",
       "  -1.0606060606060606,\n",
       "  -1.0,\n",
       "  -0.9393939393939394,\n",
       "  -0.8787878787878789,\n",
       "  -0.8181818181818183,\n",
       "  -0.7575757575757573,\n",
       "  -0.6969696969696968,\n",
       "  -0.6363636363636362,\n",
       "  -0.5757575757575757,\n",
       "  -0.5151515151515151,\n",
       "  -0.4545454545454546,\n",
       "  -0.39393939393939403,\n",
       "  -0.33333333333333304,\n",
       "  -0.2727272727272725,\n",
       "  -0.21212121212121193,\n",
       "  -0.15151515151515138,\n",
       "  -0.09090909090909083,\n",
       "  -0.030303030303030276,\n",
       "  0.030303030303030276,\n",
       "  0.09090909090909083,\n",
       "  0.15151515151515138,\n",
       "  0.21212121212121238,\n",
       "  0.27272727272727293,\n",
       "  0.3333333333333335,\n",
       "  0.39393939393939403,\n",
       "  0.4545454545454546,\n",
       "  0.5151515151515151,\n",
       "  0.5757575757575757,\n",
       "  0.6363636363636367,\n",
       "  0.6969696969696972,\n",
       "  0.7575757575757578,\n",
       "  0.8181818181818183,\n",
       "  0.8787878787878789,\n",
       "  0.9393939393939394,\n",
       "  1.0,\n",
       "  1.0606060606060606,\n",
       "  1.121212121212121,\n",
       "  1.1818181818181817,\n",
       "  1.2424242424242422,\n",
       "  1.3030303030303028,\n",
       "  1.3636363636363633,\n",
       "  1.4242424242424248,\n",
       "  1.4848484848484853,\n",
       "  1.5454545454545459,\n",
       "  1.6060606060606064,\n",
       "  1.666666666666667,\n",
       "  1.7272727272727275,\n",
       "  1.787878787878788,\n",
       "  1.8484848484848486,\n",
       "  1.9090909090909092,\n",
       "  1.9696969696969697,\n",
       "  2.0303030303030303,\n",
       "  2.090909090909091,\n",
       "  2.1515151515151514,\n",
       "  2.212121212121212,\n",
       "  2.2727272727272725,\n",
       "  2.333333333333334,\n",
       "  2.3939393939393945,\n",
       "  2.454545454545455,\n",
       "  2.5151515151515156,\n",
       "  2.575757575757576,\n",
       "  2.6363636363636367,\n",
       "  2.6969696969696972,\n",
       "  2.757575757575758,\n",
       "  2.8181818181818183,\n",
       "  2.878787878787879,\n",
       "  2.9393939393939394,\n",
       "  3.0],\n",
       " [-6.0,\n",
       "  -5.878787878787879,\n",
       "  -5.757575757575758,\n",
       "  -5.636363636363637,\n",
       "  -5.515151515151516,\n",
       "  -5.393939393939394,\n",
       "  -5.2727272727272725,\n",
       "  -5.151515151515151,\n",
       "  -5.03030303030303,\n",
       "  -4.909090909090909,\n",
       "  -4.787878787878788,\n",
       "  -4.666666666666666,\n",
       "  -4.545454545454545,\n",
       "  -4.424242424242424,\n",
       "  -4.303030303030303,\n",
       "  -4.181818181818182,\n",
       "  -4.0606060606060606,\n",
       "  -3.9393939393939394,\n",
       "  -3.8181818181818183,\n",
       "  -3.696969696969697,\n",
       "  -3.5757575757575757,\n",
       "  -3.4545454545454546,\n",
       "  -3.333333333333333,\n",
       "  -3.212121212121212,\n",
       "  -3.090909090909091,\n",
       "  -2.9696969696969697,\n",
       "  -2.8484848484848486,\n",
       "  -2.727272727272727,\n",
       "  -2.606060606060606,\n",
       "  -2.484848484848485,\n",
       "  -2.3636363636363633,\n",
       "  -2.242424242424242,\n",
       "  -2.121212121212121,\n",
       "  -2.0,\n",
       "  -1.878787878787879,\n",
       "  -1.7575757575757578,\n",
       "  -1.6363636363636367,\n",
       "  -1.5151515151515147,\n",
       "  -1.3939393939393936,\n",
       "  -1.2727272727272725,\n",
       "  -1.1515151515151514,\n",
       "  -1.0303030303030303,\n",
       "  -0.9090909090909092,\n",
       "  -0.7878787878787881,\n",
       "  -0.6666666666666661,\n",
       "  -0.545454545454545,\n",
       "  -0.42424242424242387,\n",
       "  -0.30303030303030276,\n",
       "  -0.18181818181818166,\n",
       "  -0.06060606060606055,\n",
       "  0.06060606060606055,\n",
       "  0.18181818181818166,\n",
       "  0.30303030303030276,\n",
       "  0.42424242424242475,\n",
       "  0.5454545454545459,\n",
       "  0.666666666666667,\n",
       "  0.7878787878787881,\n",
       "  0.9090909090909092,\n",
       "  1.0303030303030303,\n",
       "  1.1515151515151514,\n",
       "  1.2727272727272734,\n",
       "  1.3939393939393945,\n",
       "  1.5151515151515156,\n",
       "  1.6363636363636367,\n",
       "  1.7575757575757578,\n",
       "  1.878787878787879,\n",
       "  2.0,\n",
       "  2.121212121212121,\n",
       "  2.242424242424242,\n",
       "  2.3636363636363633,\n",
       "  2.4848484848484844,\n",
       "  2.6060606060606055,\n",
       "  2.7272727272727266,\n",
       "  2.8484848484848495,\n",
       "  2.9696969696969706,\n",
       "  3.0909090909090917,\n",
       "  3.212121212121213,\n",
       "  3.333333333333334,\n",
       "  3.454545454545455,\n",
       "  3.575757575757576,\n",
       "  3.6969696969696972,\n",
       "  3.8181818181818183,\n",
       "  3.9393939393939394,\n",
       "  4.0606060606060606,\n",
       "  4.181818181818182,\n",
       "  4.303030303030303,\n",
       "  4.424242424242424,\n",
       "  4.545454545454545,\n",
       "  4.666666666666668,\n",
       "  4.787878787878789,\n",
       "  4.90909090909091,\n",
       "  5.030303030303031,\n",
       "  5.151515151515152,\n",
       "  5.272727272727273,\n",
       "  5.3939393939393945,\n",
       "  5.515151515151516,\n",
       "  5.636363636363637,\n",
       "  5.757575757575758,\n",
       "  5.878787878787879,\n",
       "  6.0],\n",
       " [-9.0,\n",
       "  -8.818181818181818,\n",
       "  -8.636363636363637,\n",
       "  -8.454545454545455,\n",
       "  -8.272727272727273,\n",
       "  -8.09090909090909,\n",
       "  -7.909090909090908,\n",
       "  -7.727272727272727,\n",
       "  -7.545454545454545,\n",
       "  -7.363636363636363,\n",
       "  -7.181818181818182,\n",
       "  -6.999999999999999,\n",
       "  -6.8181818181818175,\n",
       "  -6.636363636363636,\n",
       "  -6.454545454545454,\n",
       "  -6.2727272727272725,\n",
       "  -6.090909090909091,\n",
       "  -5.909090909090909,\n",
       "  -5.7272727272727275,\n",
       "  -5.545454545454545,\n",
       "  -5.363636363636363,\n",
       "  -5.181818181818182,\n",
       "  -5.0,\n",
       "  -4.818181818181818,\n",
       "  -4.636363636363637,\n",
       "  -4.454545454545455,\n",
       "  -4.272727272727273,\n",
       "  -4.090909090909091,\n",
       "  -3.909090909090909,\n",
       "  -3.7272727272727275,\n",
       "  -3.545454545454545,\n",
       "  -3.3636363636363633,\n",
       "  -3.1818181818181817,\n",
       "  -3.0,\n",
       "  -2.8181818181818183,\n",
       "  -2.6363636363636367,\n",
       "  -2.454545454545455,\n",
       "  -2.272727272727272,\n",
       "  -2.0909090909090904,\n",
       "  -1.9090909090909087,\n",
       "  -1.727272727272727,\n",
       "  -1.5454545454545454,\n",
       "  -1.3636363636363638,\n",
       "  -1.181818181818182,\n",
       "  -0.9999999999999991,\n",
       "  -0.8181818181818175,\n",
       "  -0.6363636363636358,\n",
       "  -0.45454545454545414,\n",
       "  -0.2727272727272725,\n",
       "  -0.09090909090909083,\n",
       "  0.09090909090909083,\n",
       "  0.2727272727272725,\n",
       "  0.45454545454545414,\n",
       "  0.6363636363636371,\n",
       "  0.8181818181818188,\n",
       "  1.0000000000000004,\n",
       "  1.181818181818182,\n",
       "  1.3636363636363638,\n",
       "  1.5454545454545454,\n",
       "  1.727272727272727,\n",
       "  1.90909090909091,\n",
       "  2.0909090909090917,\n",
       "  2.2727272727272734,\n",
       "  2.454545454545455,\n",
       "  2.6363636363636367,\n",
       "  2.8181818181818183,\n",
       "  3.0,\n",
       "  3.1818181818181817,\n",
       "  3.3636363636363633,\n",
       "  3.545454545454545,\n",
       "  3.7272727272727266,\n",
       "  3.9090909090909083,\n",
       "  4.09090909090909,\n",
       "  4.272727272727274,\n",
       "  4.454545454545456,\n",
       "  4.636363636363638,\n",
       "  4.818181818181819,\n",
       "  5.000000000000001,\n",
       "  5.1818181818181825,\n",
       "  5.363636363636364,\n",
       "  5.545454545454546,\n",
       "  5.7272727272727275,\n",
       "  5.909090909090909,\n",
       "  6.090909090909091,\n",
       "  6.2727272727272725,\n",
       "  6.454545454545454,\n",
       "  6.636363636363636,\n",
       "  6.8181818181818175,\n",
       "  7.000000000000002,\n",
       "  7.181818181818183,\n",
       "  7.363636363636365,\n",
       "  7.545454545454547,\n",
       "  7.727272727272728,\n",
       "  7.90909090909091,\n",
       "  8.090909090909092,\n",
       "  8.272727272727273,\n",
       "  8.454545454545455,\n",
       "  8.636363636363637,\n",
       "  8.818181818181818,\n",
       "  9.0],\n",
       " [-12.0,\n",
       "  -11.757575757575758,\n",
       "  -11.515151515151516,\n",
       "  -11.272727272727273,\n",
       "  -11.030303030303031,\n",
       "  -10.787878787878787,\n",
       "  -10.545454545454545,\n",
       "  -10.303030303030303,\n",
       "  -10.06060606060606,\n",
       "  -9.818181818181818,\n",
       "  -9.575757575757576,\n",
       "  -9.333333333333332,\n",
       "  -9.09090909090909,\n",
       "  -8.848484848484848,\n",
       "  -8.606060606060606,\n",
       "  -8.363636363636363,\n",
       "  -8.121212121212121,\n",
       "  -7.878787878787879,\n",
       "  -7.636363636363637,\n",
       "  -7.393939393939394,\n",
       "  -7.151515151515151,\n",
       "  -6.909090909090909,\n",
       "  -6.666666666666666,\n",
       "  -6.424242424242424,\n",
       "  -6.181818181818182,\n",
       "  -5.9393939393939394,\n",
       "  -5.696969696969697,\n",
       "  -5.454545454545454,\n",
       "  -5.212121212121212,\n",
       "  -4.96969696969697,\n",
       "  -4.727272727272727,\n",
       "  -4.484848484848484,\n",
       "  -4.242424242424242,\n",
       "  -4.0,\n",
       "  -3.757575757575758,\n",
       "  -3.5151515151515156,\n",
       "  -3.2727272727272734,\n",
       "  -3.0303030303030294,\n",
       "  -2.787878787878787,\n",
       "  -2.545454545454545,\n",
       "  -2.3030303030303028,\n",
       "  -2.0606060606060606,\n",
       "  -1.8181818181818183,\n",
       "  -1.5757575757575761,\n",
       "  -1.3333333333333321,\n",
       "  -1.09090909090909,\n",
       "  -0.8484848484848477,\n",
       "  -0.6060606060606055,\n",
       "  -0.3636363636363633,\n",
       "  -0.1212121212121211,\n",
       "  0.1212121212121211,\n",
       "  0.3636363636363633,\n",
       "  0.6060606060606055,\n",
       "  0.8484848484848495,\n",
       "  1.0909090909090917,\n",
       "  1.333333333333334,\n",
       "  1.5757575757575761,\n",
       "  1.8181818181818183,\n",
       "  2.0606060606060606,\n",
       "  2.3030303030303028,\n",
       "  2.5454545454545467,\n",
       "  2.787878787878789,\n",
       "  3.030303030303031,\n",
       "  3.2727272727272734,\n",
       "  3.5151515151515156,\n",
       "  3.757575757575758,\n",
       "  4.0,\n",
       "  4.242424242424242,\n",
       "  4.484848484848484,\n",
       "  4.727272727272727,\n",
       "  4.969696969696969,\n",
       "  5.212121212121211,\n",
       "  5.454545454545453,\n",
       "  5.696969696969699,\n",
       "  5.939393939393941,\n",
       "  6.181818181818183,\n",
       "  6.424242424242426,\n",
       "  6.666666666666668,\n",
       "  6.90909090909091,\n",
       "  7.151515151515152,\n",
       "  7.3939393939393945,\n",
       "  7.636363636363637,\n",
       "  7.878787878787879,\n",
       "  8.121212121212121,\n",
       "  8.363636363636363,\n",
       "  8.606060606060606,\n",
       "  8.848484848484848,\n",
       "  9.09090909090909,\n",
       "  9.333333333333336,\n",
       "  9.575757575757578,\n",
       "  9.81818181818182,\n",
       "  10.060606060606062,\n",
       "  10.303030303030305,\n",
       "  10.545454545454547,\n",
       "  10.787878787878789,\n",
       "  11.030303030303031,\n",
       "  11.272727272727273,\n",
       "  11.515151515151516,\n",
       "  11.757575757575758,\n",
       "  12.0],\n",
       " [-15.0,\n",
       "  -14.696969696969697,\n",
       "  -14.393939393939394,\n",
       "  -14.090909090909092,\n",
       "  -13.787878787878789,\n",
       "  -13.484848484848484,\n",
       "  -13.181818181818182,\n",
       "  -12.878787878787879,\n",
       "  -12.575757575757576,\n",
       "  -12.272727272727273,\n",
       "  -11.96969696969697,\n",
       "  -11.666666666666664,\n",
       "  -11.363636363636363,\n",
       "  -11.060606060606059,\n",
       "  -10.757575757575758,\n",
       "  -10.454545454545453,\n",
       "  -10.151515151515152,\n",
       "  -9.848484848484848,\n",
       "  -9.545454545454547,\n",
       "  -9.242424242424242,\n",
       "  -8.93939393939394,\n",
       "  -8.636363636363637,\n",
       "  -8.333333333333332,\n",
       "  -8.03030303030303,\n",
       "  -7.727272727272727,\n",
       "  -7.424242424242424,\n",
       "  -7.121212121212121,\n",
       "  -6.8181818181818175,\n",
       "  -6.515151515151515,\n",
       "  -6.212121212121212,\n",
       "  -5.909090909090908,\n",
       "  -5.6060606060606055,\n",
       "  -5.303030303030303,\n",
       "  -5.0,\n",
       "  -4.696969696969697,\n",
       "  -4.3939393939393945,\n",
       "  -4.090909090909092,\n",
       "  -3.7878787878787867,\n",
       "  -3.484848484848484,\n",
       "  -3.181818181818181,\n",
       "  -2.8787878787878785,\n",
       "  -2.5757575757575757,\n",
       "  -2.272727272727273,\n",
       "  -1.9696969696969702,\n",
       "  -1.6666666666666652,\n",
       "  -1.3636363636363624,\n",
       "  -1.0606060606060597,\n",
       "  -0.7575757575757569,\n",
       "  -0.45454545454545414,\n",
       "  -0.15151515151515138,\n",
       "  0.15151515151515138,\n",
       "  0.45454545454545414,\n",
       "  0.7575757575757569,\n",
       "  1.0606060606060619,\n",
       "  1.3636363636363646,\n",
       "  1.6666666666666674,\n",
       "  1.9696969696969702,\n",
       "  2.272727272727273,\n",
       "  2.5757575757575757,\n",
       "  2.8787878787878785,\n",
       "  3.1818181818181834,\n",
       "  3.484848484848486,\n",
       "  3.787878787878789,\n",
       "  4.090909090909092,\n",
       "  4.3939393939393945,\n",
       "  4.696969696969697,\n",
       "  5.0,\n",
       "  5.303030303030303,\n",
       "  5.6060606060606055,\n",
       "  5.909090909090908,\n",
       "  6.212121212121211,\n",
       "  6.515151515151514,\n",
       "  6.818181818181817,\n",
       "  7.121212121212124,\n",
       "  7.4242424242424265,\n",
       "  7.727272727272729,\n",
       "  8.030303030303031,\n",
       "  8.333333333333336,\n",
       "  8.636363636363637,\n",
       "  8.939393939393941,\n",
       "  9.242424242424242,\n",
       "  9.545454545454547,\n",
       "  9.848484848484848,\n",
       "  10.151515151515152,\n",
       "  10.454545454545453,\n",
       "  10.757575757575758,\n",
       "  11.060606060606059,\n",
       "  11.363636363636363,\n",
       "  11.66666666666667,\n",
       "  11.969696969696972,\n",
       "  12.272727272727275,\n",
       "  12.575757575757578,\n",
       "  12.87878787878788,\n",
       "  13.181818181818183,\n",
       "  13.484848484848486,\n",
       "  13.787878787878789,\n",
       "  14.090909090909092,\n",
       "  14.393939393939394,\n",
       "  14.696969696969697,\n",
       "  15.0],\n",
       " [-18.0,\n",
       "  -17.636363636363637,\n",
       "  -17.272727272727273,\n",
       "  -16.90909090909091,\n",
       "  -16.545454545454547,\n",
       "  -16.18181818181818,\n",
       "  -15.818181818181817,\n",
       "  -15.454545454545453,\n",
       "  -15.09090909090909,\n",
       "  -14.727272727272727,\n",
       "  -14.363636363636363,\n",
       "  -13.999999999999998,\n",
       "  -13.636363636363635,\n",
       "  -13.272727272727272,\n",
       "  -12.909090909090908,\n",
       "  -12.545454545454545,\n",
       "  -12.181818181818182,\n",
       "  -11.818181818181818,\n",
       "  -11.454545454545455,\n",
       "  -11.09090909090909,\n",
       "  -10.727272727272727,\n",
       "  -10.363636363636363,\n",
       "  -10.0,\n",
       "  -9.636363636363637,\n",
       "  -9.272727272727273,\n",
       "  -8.90909090909091,\n",
       "  -8.545454545454547,\n",
       "  -8.181818181818182,\n",
       "  -7.818181818181818,\n",
       "  -7.454545454545455,\n",
       "  -7.09090909090909,\n",
       "  -6.727272727272727,\n",
       "  -6.363636363636363,\n",
       "  -6.0,\n",
       "  -5.636363636363637,\n",
       "  -5.272727272727273,\n",
       "  -4.90909090909091,\n",
       "  -4.545454545454544,\n",
       "  -4.181818181818181,\n",
       "  -3.8181818181818175,\n",
       "  -3.454545454545454,\n",
       "  -3.090909090909091,\n",
       "  -2.7272727272727275,\n",
       "  -2.363636363636364,\n",
       "  -1.9999999999999982,\n",
       "  -1.636363636363635,\n",
       "  -1.2727272727272716,\n",
       "  -0.9090909090909083,\n",
       "  -0.545454545454545,\n",
       "  -0.18181818181818166,\n",
       "  0.18181818181818166,\n",
       "  0.545454545454545,\n",
       "  0.9090909090909083,\n",
       "  1.2727272727272743,\n",
       "  1.6363636363636376,\n",
       "  2.000000000000001,\n",
       "  2.363636363636364,\n",
       "  2.7272727272727275,\n",
       "  3.090909090909091,\n",
       "  3.454545454545454,\n",
       "  3.81818181818182,\n",
       "  4.181818181818183,\n",
       "  4.545454545454547,\n",
       "  4.90909090909091,\n",
       "  5.272727272727273,\n",
       "  5.636363636363637,\n",
       "  6.0,\n",
       "  6.363636363636363,\n",
       "  6.727272727272727,\n",
       "  7.09090909090909,\n",
       "  7.454545454545453,\n",
       "  7.818181818181817,\n",
       "  8.18181818181818,\n",
       "  8.545454545454549,\n",
       "  8.909090909090912,\n",
       "  9.272727272727275,\n",
       "  9.636363636363638,\n",
       "  10.000000000000002,\n",
       "  10.363636363636365,\n",
       "  10.727272727272728,\n",
       "  11.090909090909092,\n",
       "  11.454545454545455,\n",
       "  11.818181818181818,\n",
       "  12.181818181818182,\n",
       "  12.545454545454545,\n",
       "  12.909090909090908,\n",
       "  13.272727272727272,\n",
       "  13.636363636363635,\n",
       "  14.000000000000004,\n",
       "  14.363636363636367,\n",
       "  14.72727272727273,\n",
       "  15.090909090909093,\n",
       "  15.454545454545457,\n",
       "  15.81818181818182,\n",
       "  16.181818181818183,\n",
       "  16.545454545454547,\n",
       "  16.90909090909091,\n",
       "  17.272727272727273,\n",
       "  17.636363636363637,\n",
       "  18.0]]"
      ]
     },
     "execution_count": 15,
     "metadata": {},
     "output_type": "execute_result"
    }
   ],
   "source": [
    "Ys"
   ]
  },
  {
   "cell_type": "markdown",
   "metadata": {
    "heading_collapsed": true,
    "hidden": true
   },
   "source": [
    "## Customize Multiple Plot Grid"
   ]
  },
  {
   "cell_type": "markdown",
   "metadata": {
    "hidden": true
   },
   "source": [
    "We can add some parameters to `plt.subplots()` that allow us to treat the different axes the same"
   ]
  },
  {
   "cell_type": "code",
   "execution_count": null,
   "metadata": {
    "hidden": true
   },
   "outputs": [],
   "source": [
    "nrows = 2\n",
    "ncols = 3\n",
    "fig, ax = plt.subplots(\n",
    "                nrows=nrows,\n",
    "                ncols=ncols,\n",
    "                figsize=(8, 6),\n",
    "                sharey=True     # This allows for the y-axis to be consistent\n",
    ")\n",
    "\n",
    "\n",
    "Ys = [[j*x for x in X] for j in range(1, 7)]\n",
    "colors = ['red', 'orange', 'yellow', 'green', 'blue', 'purple']\n",
    "n = 0\n",
    "\n",
    "for r in range(nrows):\n",
    "    for c in range(ncols):\n",
    "        ax[r, c].plot(X, Ys[n], c=colors[n])\n",
    "        ax[r, c].set_title(f'y={n+1}x')\n",
    "        n += 1\n",
    "\n",
    "plt.tight_layout()"
   ]
  },
  {
   "cell_type": "code",
   "execution_count": null,
   "metadata": {
    "hidden": true
   },
   "outputs": [],
   "source": [
    "nrows = 2\n",
    "ncols = 3\n",
    "fig, ax = plt.subplots(\n",
    "                nrows=nrows,\n",
    "                ncols=ncols,\n",
    "                figsize=(8, 6),\n",
    "                sharey='row'    # y-axis to be consistent for each row\n",
    ")\n",
    "\n",
    "\n",
    "Ys = [[j*x for x in X] for j in range(1, 7)]\n",
    "colors = ['red', 'orange', 'yellow', 'green', 'blue', 'purple']\n",
    "n = 0\n",
    "\n",
    "for r in range(nrows):\n",
    "    for c in range(ncols):\n",
    "        ax[r, c].plot(X, Ys[n], c=colors[n])\n",
    "        ax[r, c].set_title(f'y={n+1}x')\n",
    "        n += 1\n",
    "\n",
    "plt.tight_layout()"
   ]
  },
  {
   "cell_type": "code",
   "execution_count": null,
   "metadata": {
    "hidden": true
   },
   "outputs": [],
   "source": [
    "nrows = 2\n",
    "ncols = 3\n",
    "fig, ax = plt.subplots(\n",
    "                nrows=nrows,\n",
    "                ncols=ncols,\n",
    "                figsize=(8, 6),\n",
    "                sharey='col'    # y-axis to be consistent for each column\n",
    ")\n",
    "\n",
    "\n",
    "Ys = [[j*x for x in X] for j in range(1, 7)]\n",
    "colors = ['red', 'orange', 'yellow', 'green', 'blue', 'purple']\n",
    "n = 0\n",
    "\n",
    "for r in range(nrows):\n",
    "    for c in range(ncols):\n",
    "        ax[r, c].plot(X, Ys[n], c=colors[n])\n",
    "        ax[r, c].set_title(f'y={n+1}x')\n",
    "        n += 1\n",
    "\n",
    "plt.tight_layout()"
   ]
  },
  {
   "cell_type": "markdown",
   "metadata": {
    "heading_collapsed": true
   },
   "source": [
    "# Seaborn"
   ]
  },
  {
   "cell_type": "markdown",
   "metadata": {
    "hidden": true
   },
   "source": [
    "Seaborn is a wrapper around matplotlib which provides a high-level interface for drawing attractive and informative statistical graphics"
   ]
  },
  {
   "cell_type": "markdown",
   "metadata": {
    "hidden": true
   },
   "source": [
    "[Seaborn Gallery](https://seaborn.pydata.org/examples/index.html)\n",
    "\n",
    "[List of Graphing Methods for Seaborn](https://seaborn.pydata.org/api.html#relational-api)"
   ]
  },
  {
   "cell_type": "code",
   "execution_count": 44,
   "metadata": {
    "hidden": true
   },
   "outputs": [
    {
     "data": {
      "image/png": "[encoded data removed]",
      "text/plain": [
       "<Figure size 432x288 with 1 Axes>"
      ]
     },
     "metadata": {},
     "output_type": "display_data"
    }
   ],
   "source": [
    "# The `style` parameter can be set equal to\n",
    "# 'white', 'dark', 'whitegrid', 'darkgrid', or\n",
    "# 'ticks'\n",
    "\n",
    "sns.set(style='whitegrid')\n",
    "fig, ax = plt.subplots()\n",
    "\n",
    "X = np.linspace(-3, 3, 100)\n",
    "y = X**2\n",
    "ax.plot(X, y);"
   ]
  },
  {
   "cell_type": "markdown",
   "metadata": {
    "heading_collapsed": true,
    "hidden": true
   },
   "source": [
    "### Scatter Plot"
   ]
  },
  {
   "cell_type": "code",
   "execution_count": null,
   "metadata": {
    "hidden": true
   },
   "outputs": [],
   "source": [
    "fig, ax = plt.subplots()\n",
    "\n",
    "x, y = np.random.randn(2, 300)\n",
    "\n",
    "# With Seaborn we can still use the subplots syntax by passing our\n",
    "# axis object into the graphing function\n",
    "\n",
    "sns.scatterplot(x=x, y=y, ax=ax)\n",
    "ax.set_ylabel('Cars')\n",
    "ax.set_xlabel('Number of Office Chairs');"
   ]
  },
  {
   "cell_type": "markdown",
   "metadata": {},
   "source": [
    "# The Effectiveness of Visualizations"
   ]
  },
  {
   "cell_type": "markdown",
   "metadata": {},
   "source": [
    "- People are highly visual and can synthesize visual information much more quickly than rows and columns of numbers \n",
    "- Precognitive understanding of the data\n",
    "- Visual representations can be much more viscerally persuasive \n",
    "- Visuals can help us identify patterns in the data to investigate"
   ]
  },
  {
   "cell_type": "markdown",
   "metadata": {},
   "source": [
    "## What Makes an Effective Visualization?"
   ]
  },
  {
   "cell_type": "markdown",
   "metadata": {},
   "source": [
    "Today, we want to focus on making data visualizations that an audience can easily comprehend and digest. These visualizations are typically referred to as **explanatory** visualizations. \n",
    "\n",
    "Our goal in explanatory visualizations is to convey/communicate your insight(s) effectively to our audience. That audience can be other data scientist but could also be stakeholders unfamiliar with data analysis or statistical concepts.\n",
    "\n",
    "> **NOTE**\n",
    ">\n",
    "> There are visualizations that have the goal in helping us (data scientists) better understand the data as we explore it. These are usually referred to as **exploratory** visualizations. These types of visualizations don't usually have to be as clean and tidy as _explanatory_ visualizations.\n",
    "\n",
    "- Each graph should have a clear point it is trying to make. Understanding the insight you are trying to convey will guide the decision making process for what kind of graph will be most effective\n",
    "\n",
    "- Know your audience! Come up with a use case and audience to pitch your visualizations\n",
    "\n",
    "- Choosing the correct graph for the relationship you are trying to communicate\n",
    "\n",
    "- Label your axes and graph! It should not be difficult for someone to understand what your graph is trying to represent\n",
    "\n",
    "- People have unconscious responses to visuals which will effect the way they interpret information. Good visualization makes use of these natural shortcuts in cognition to convey information more efficiently\n",
    "    - Red and Down tends to be negative while Green and Up is positive\n",
    "    - Lighter hues are seen as lower values and darker is higher values\n",
    "    - Axis start at zero\n",
    "        \n",
    "__Note:__ All of these 'rules' can be broken but know that you will be working against most people's first instinct"
   ]
  },
  {
   "cell_type": "markdown",
   "metadata": {},
   "source": [
    "## Anatomy of Visualizations"
   ]
  },
  {
   "cell_type": "markdown",
   "metadata": {},
   "source": [
    "### Length & Size"
   ]
  },
  {
   "cell_type": "markdown",
   "metadata": {},
   "source": [
    "> Showing the effect (careful about area....)\n",
    "\n",
    "+ Bar charts\n",
    "+ Stacked bar charts\n",
    "+ Scatter plot\n",
    "\n",
    "![](https://seaborn.pydata.org/_images/seaborn-barplot-111.png)\n",
    "\n",
    "![](http://thedailyviz.com/wp-content/uploads/2012/08/guns-620x415.png')\n",
    "\n",
    "![](https://seaborn.pydata.org/_images/scatterplot_19_0.png)"
   ]
  },
  {
   "cell_type": "markdown",
   "metadata": {},
   "source": [
    "### Color"
   ]
  },
  {
   "cell_type": "markdown",
   "metadata": {},
   "source": [
    "> To draw specific findings (contrast)\n",
    "\n",
    "+ Scatter plots\n",
    "+ Bar charts (sometimes....)\n",
    "\n",
    "![](https://seaborn.pydata.org/_images/scatterplot_13_0.png)\n",
    "![](https://seaborn.pydata.org/_images/seaborn-barplot-10.png)"
   ]
  },
  {
   "cell_type": "markdown",
   "metadata": {},
   "source": [
    "### Shape"
   ]
  },
  {
   "cell_type": "markdown",
   "metadata": {},
   "source": [
    "> Distinguish different points\n",
    "\n",
    "![](https://seaborn.pydata.org/_images/scatterplot_9_0.png)"
   ]
  },
  {
   "cell_type": "markdown",
   "metadata": {},
   "source": [
    "### Angle "
   ]
  },
  {
   "cell_type": "markdown",
   "metadata": {},
   "source": [
    "> ***DON'T USE THIS!!!*** Usually prone to lots of misinterpretations\n",
    "\n",
    "+ Pie Chart 🤬\n",
    "+ Donut Chart (pie charts in disguise!)\n",
    "+ Racetrack Chart\n",
    "\n",
    "![](https://static1.squarespace.com/static/55b6a6dce4b089e11621d3ed/55b6d08fe4b0d8b921b02f83/55b6d0b6e4b0d8b921b03a36/1438044342911/1000w/)\n",
    "\n",
    "\n",
    "![](https://policyviz.com/wp-content/uploads/2018/02/share-of-us-agricultural-exports-value-01-1140x700.png)\n",
    "\n",
    "\n",
    "![](https://i.stack.imgur.com/w4sB9.png)"
   ]
  },
  {
   "cell_type": "markdown",
   "metadata": {},
   "source": [
    "## What Types Work Well Consistently"
   ]
  },
  {
   "cell_type": "markdown",
   "metadata": {},
   "source": [
    "Experts and researchers found the best visual patterns humans identify well:\n",
    "\n",
    "> - Positional changes (scatter plots)\n",
    "> - Length changes (bar charts)\n",
    "\n",
    "But we're bad at understanding other patterns...\n",
    "\n",
    "> - Color hue changes \n",
    "> - Area changes (pie charts!)"
   ]
  },
  {
   "cell_type": "markdown",
   "metadata": {},
   "source": [
    "## How to Lie with Graphs"
   ]
  },
  {
   "cell_type": "markdown",
   "metadata": {},
   "source": [
    "- Graphs can be misleading\n",
    "- Consciously or unconsciously people will make decisions to lead people towards their conclusions of the data\n",
    "\n",
    "- Examples of dark patterns\n",
    "    - Changing the axis scale\n",
    "    - Using two different y axis scales to compare trends\n",
    "    - Showing cumulative data which will always be increasing to hide a downturn in a trend\n",
    "    - Pie charts (comparing degrees is not something people are good at) just use a bar chart\n",
    "    - Inconsistent units\n",
    "    - Not showing all of the data for motivated reasons\n",
    "    - Percentages not adding up to 100\n",
    "\n",
    "<img src=\"images/pie-chart-misleading.png\">\n",
    "\n",
    "image: http://flowingdata.com/2009/11/26/fox-news-makes-the-best-pie-chart-ever/"
   ]
  }
 ],
 "metadata": {
  "kernelspec": {
   "display_name": "Python 3",
   "language": "python",
   "name": "python3"
  },
  "language_info": {
   "codemirror_mode": {
    "name": "ipython",
    "version": 3
   },
   "file_extension": ".py",
   "mimetype": "text/x-python",
   "name": "python",
   "nbconvert_exporter": "python",
   "pygments_lexer": "ipython3",
   "version": "3.9.5"
  },
  "toc": {
   "base_numbering": 1,
   "nav_menu": {},
   "number_sections": true,
   "sideBar": true,
   "skip_h1_title": false,
   "title_cell": "Table of Contents",
   "title_sidebar": "TOC",
   "toc_cell": true,
   "toc_position": {
    "height": "calc(100% - 180px)",
    "left": "10px",
    "top": "150px",
    "width": "292px"
   },
   "toc_section_display": true,
   "toc_window_display": true
  }
 },
 "nbformat": 4,
 "nbformat_minor": 4
}
