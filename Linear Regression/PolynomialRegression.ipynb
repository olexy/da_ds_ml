{
  "cells": [
    {
      "cell_type": "code",
      "execution_count": 141,
      "metadata": {
        "id": "pHmo8bCL9iEq"
      },
      "outputs": [],
      "source": [
        "import pandas as pd\n",
        "import numpy as np\n",
        "import seaborn as sns\n",
        "import matplotlib.pyplot as plt\n",
        "from sklearn.preprocessing import PolynomialFeatures\n",
        "from sklearn.metrics import mean_absolute_error, mean_squared_error"
      ]
    },
    {
      "cell_type": "code",
      "source": [
        "from google.colab import drive\n",
        "drive.mount('/content/drive/')"
      ],
      "metadata": {
        "colab": {
          "base_uri": "https://localhost:8080/"
        },
        "id": "KeoOOSn49o6U",
        "outputId": "55a40a97-151b-4551-cc03-f096b74199ec"
      },
      "execution_count": 142,
      "outputs": [
        {
          "output_type": "stream",
          "name": "stdout",
          "text": [
            "Drive already mounted at /content/drive/; to attempt to forcibly remount, call drive.mount(\"/content/drive/\", force_remount=True).\n"
          ]
        }
      ]
    },
    {
      "cell_type": "code",
      "execution_count": 143,
      "metadata": {
        "colab": {
          "base_uri": "https://localhost:8080/",
          "height": 206
        },
        "id": "bK-piYu-9iFF",
        "outputId": "1077cfaf-dcfa-45fb-9497-cb9121e0ec0f"
      },
      "outputs": [
        {
          "output_type": "execute_result",
          "data": {
            "text/plain": [
              "      TV  radio  newspaper  sales\n",
              "1  230.1   37.8       69.2   22.1\n",
              "2   44.5   39.3       45.1   10.4\n",
              "3   17.2   45.9       69.3    9.3\n",
              "4  151.5   41.3       58.5   18.5\n",
              "5  180.8   10.8       58.4   12.9"
            ],
            "text/html": [
              "\n",
              "  <div id=\"df-7f8f6d9c-56dd-4372-993e-5195c66bf55a\">\n",
              "    <div class=\"colab-df-container\">\n",
              "      <div>\n",
              "<style scoped>\n",
              "    .dataframe tbody tr th:only-of-type {\n",
              "        vertical-align: middle;\n",
              "    }\n",
              "\n",
              "    .dataframe tbody tr th {\n",
              "        vertical-align: top;\n",
              "    }\n",
              "\n",
              "    .dataframe thead th {\n",
              "        text-align: right;\n",
              "    }\n",
              "</style>\n",
              "<table border=\"1\" class=\"dataframe\">\n",
              "  <thead>\n",
              "    <tr style=\"text-align: right;\">\n",
              "      <th></th>\n",
              "      <th>TV</th>\n",
              "      <th>radio</th>\n",
              "      <th>newspaper</th>\n",
              "      <th>sales</th>\n",
              "    </tr>\n",
              "  </thead>\n",
              "  <tbody>\n",
              "    <tr>\n",
              "      <th>1</th>\n",
              "      <td>230.1</td>\n",
              "      <td>37.8</td>\n",
              "      <td>69.2</td>\n",
              "      <td>22.1</td>\n",
              "    </tr>\n",
              "    <tr>\n",
              "      <th>2</th>\n",
              "      <td>44.5</td>\n",
              "      <td>39.3</td>\n",
              "      <td>45.1</td>\n",
              "      <td>10.4</td>\n",
              "    </tr>\n",
              "    <tr>\n",
              "      <th>3</th>\n",
              "      <td>17.2</td>\n",
              "      <td>45.9</td>\n",
              "      <td>69.3</td>\n",
              "      <td>9.3</td>\n",
              "    </tr>\n",
              "    <tr>\n",
              "      <th>4</th>\n",
              "      <td>151.5</td>\n",
              "      <td>41.3</td>\n",
              "      <td>58.5</td>\n",
              "      <td>18.5</td>\n",
              "    </tr>\n",
              "    <tr>\n",
              "      <th>5</th>\n",
              "      <td>180.8</td>\n",
              "      <td>10.8</td>\n",
              "      <td>58.4</td>\n",
              "      <td>12.9</td>\n",
              "    </tr>\n",
              "  </tbody>\n",
              "</table>\n",
              "</div>\n",
              "      <button class=\"colab-df-convert\" onclick=\"convertToInteractive('df-7f8f6d9c-56dd-4372-993e-5195c66bf55a')\"\n",
              "              title=\"Convert this dataframe to an interactive table.\"\n",
              "              style=\"display:none;\">\n",
              "        \n",
              "  <svg xmlns=\"http://www.w3.org/2000/svg\" height=\"24px\"viewBox=\"0 0 24 24\"\n",
              "       width=\"24px\">\n",
              "    <path d=\"M0 0h24v24H0V0z\" fill=\"none\"/>\n",
              "    <path d=\"M18.56 5.44l.94 2.06.94-2.06 2.06-.94-2.06-.94-.94-2.06-.94 2.06-2.06.94zm-11 1L8.5 8.5l.94-2.06 2.06-.94-2.06-.94L8.5 2.5l-.94 2.06-2.06.94zm10 10l.94 2.06.94-2.06 2.06-.94-2.06-.94-.94-2.06-.94 2.06-2.06.94z\"/><path d=\"M17.41 7.96l-1.37-1.37c-.4-.4-.92-.59-1.43-.59-.52 0-1.04.2-1.43.59L10.3 9.45l-7.72 7.72c-.78.78-.78 2.05 0 2.83L4 21.41c.39.39.9.59 1.41.59.51 0 1.02-.2 1.41-.59l7.78-7.78 2.81-2.81c.8-.78.8-2.07 0-2.86zM5.41 20L4 18.59l7.72-7.72 1.47 1.35L5.41 20z\"/>\n",
              "  </svg>\n",
              "      </button>\n",
              "      \n",
              "  <style>\n",
              "    .colab-df-container {\n",
              "      display:flex;\n",
              "      flex-wrap:wrap;\n",
              "      gap: 12px;\n",
              "    }\n",
              "\n",
              "    .colab-df-convert {\n",
              "      background-color: #E8F0FE;\n",
              "      border: none;\n",
              "      border-radius: 50%;\n",
              "      cursor: pointer;\n",
              "      display: none;\n",
              "      fill: #1967D2;\n",
              "      height: 32px;\n",
              "      padding: 0 0 0 0;\n",
              "      width: 32px;\n",
              "    }\n",
              "\n",
              "    .colab-df-convert:hover {\n",
              "      background-color: #E2EBFA;\n",
              "      box-shadow: 0px 1px 2px rgba(60, 64, 67, 0.3), 0px 1px 3px 1px rgba(60, 64, 67, 0.15);\n",
              "      fill: #174EA6;\n",
              "    }\n",
              "\n",
              "    [theme=dark] .colab-df-convert {\n",
              "      background-color: #3B4455;\n",
              "      fill: #D2E3FC;\n",
              "    }\n",
              "\n",
              "    [theme=dark] .colab-df-convert:hover {\n",
              "      background-color: #434B5C;\n",
              "      box-shadow: 0px 1px 3px 1px rgba(0, 0, 0, 0.15);\n",
              "      filter: drop-shadow(0px 1px 2px rgba(0, 0, 0, 0.3));\n",
              "      fill: #FFFFFF;\n",
              "    }\n",
              "  </style>\n",
              "\n",
              "      <script>\n",
              "        const buttonEl =\n",
              "          document.querySelector('#df-7f8f6d9c-56dd-4372-993e-5195c66bf55a button.colab-df-convert');\n",
              "        buttonEl.style.display =\n",
              "          google.colab.kernel.accessAllowed ? 'block' : 'none';\n",
              "\n",
              "        async function convertToInteractive(key) {\n",
              "          const element = document.querySelector('#df-7f8f6d9c-56dd-4372-993e-5195c66bf55a');\n",
              "          const dataTable =\n",
              "            await google.colab.kernel.invokeFunction('convertToInteractive',\n",
              "                                                     [key], {});\n",
              "          if (!dataTable) return;\n",
              "\n",
              "          const docLinkHtml = 'Like what you see? Visit the ' +\n",
              "            '<a target=\"_blank\" href=https://colab.research.google.com/notebooks/data_table.ipynb>data table notebook</a>'\n",
              "            + ' to learn more about interactive tables.';\n",
              "          element.innerHTML = '';\n",
              "          dataTable['output_type'] = 'display_data';\n",
              "          await google.colab.output.renderOutput(dataTable, element);\n",
              "          const docLink = document.createElement('div');\n",
              "          docLink.innerHTML = docLinkHtml;\n",
              "          element.appendChild(docLink);\n",
              "        }\n",
              "      </script>\n",
              "    </div>\n",
              "  </div>\n",
              "  "
            ]
          },
          "metadata": {},
          "execution_count": 143
        }
      ],
      "source": [
        "data = pd.read_csv('/content/drive/MyDrive/Colab Notebooks/Advertising.csv',index_col=0)\n",
        "data.head()"
      ]
    },
    {
      "cell_type": "code",
      "execution_count": 144,
      "metadata": {
        "colab": {
          "base_uri": "https://localhost:8080/"
        },
        "id": "V02rjP2q9iFI",
        "outputId": "9dfa0012-3303-4975-b2db-16d780f273f8"
      },
      "outputs": [
        {
          "output_type": "execute_result",
          "data": {
            "text/plain": [
              "Index(['TV', 'radio', 'newspaper', 'sales'], dtype='object')"
            ]
          },
          "metadata": {},
          "execution_count": 144
        }
      ],
      "source": [
        "data.columns"
      ]
    },
    {
      "cell_type": "code",
      "execution_count": 145,
      "metadata": {
        "colab": {
          "base_uri": "https://localhost:8080/"
        },
        "id": "slMav2Cg9iFJ",
        "outputId": "bdbc8360-073b-4cfc-a805-81f0cb08507b"
      },
      "outputs": [
        {
          "output_type": "execute_result",
          "data": {
            "text/plain": [
              "(200, 4)"
            ]
          },
          "metadata": {},
          "execution_count": 145
        }
      ],
      "source": [
        "data.shape"
      ]
    },
    {
      "cell_type": "code",
      "execution_count": 146,
      "metadata": {
        "colab": {
          "base_uri": "https://localhost:8080/",
          "height": 367
        },
        "id": "fkKMkV4e9iFK",
        "outputId": "b592c85f-d8c0-4c42-97eb-e77865d1788f"
      },
      "outputs": [
        {
          "output_type": "display_data",
          "data": {
            "text/plain": [
              "<Figure size 1152x576 with 3 Axes>"
            ],
            "image/png": "[encoded data removed]"
          },
          "metadata": {
            "needs_background": "light"
          }
        }
      ],
      "source": [
        "fig, axs = plt.subplots(1, 3)\n",
        "data.plot(kind='scatter', x='TV', y='sales', ax=axs[0], figsize=(16,8))\n",
        "data.plot(kind='scatter', x='radio', y='sales', ax=axs[1])\n",
        "data.plot(kind='scatter', x='newspaper', y='sales', ax=axs[2]);"
      ]
    },
    {
      "cell_type": "code",
      "execution_count": 147,
      "metadata": {
        "colab": {
          "base_uri": "https://localhost:8080/",
          "height": 269
        },
        "id": "U06DdTG89iFL",
        "outputId": "00b3172d-0988-487e-b2d4-754a62c75c97"
      },
      "outputs": [
        {
          "output_type": "display_data",
          "data": {
            "text/plain": [
              "<Figure size 432x288 with 2 Axes>"
            ],
            "image/png": "[encoded data removed]"
          },
          "metadata": {
            "needs_background": "light"
          }
        }
      ],
      "source": [
        "sns.heatmap(data.corr(), annot = True);"
      ]
    },
    {
      "cell_type": "code",
      "execution_count": 148,
      "metadata": {
        "id": "85ugsbE09iFM"
      },
      "outputs": [],
      "source": [
        "features = data[['TV', 'newspaper', 'radio']]\n",
        "target = data[['sales']].values"
      ]
    },
    {
      "cell_type": "markdown",
      "metadata": {
        "id": "6l5oZ_fW9iFN"
      },
      "source": [
        "Convert Features to Polynomial features"
      ]
    },
    {
      "cell_type": "code",
      "execution_count": 149,
      "metadata": {
        "tags": [],
        "id": "hk68hKqX9iFQ"
      },
      "outputs": [],
      "source": [
        "features_poly = PolynomialFeatures(degree=10)\n",
        "\n",
        "TV_poly = features_poly.fit_transform(features[['TV']])\n",
        "newspaper_poly = features_poly.fit_transform(features[['newspaper']])\n",
        "radio_poly = features_poly.fit_transform(features[['radio']])"
      ]
    },
    {
      "cell_type": "code",
      "execution_count": 150,
      "metadata": {
        "id": "WF5KmtID9iFc"
      },
      "outputs": [],
      "source": [
        "poly_features = pd.concat([pd.DataFrame(TV_poly),pd.DataFrame(newspaper_poly), pd.DataFrame(radio_poly)], axis = 1)"
      ]
    },
    {
      "cell_type": "code",
      "execution_count": 151,
      "metadata": {
        "colab": {
          "base_uri": "https://localhost:8080/",
          "height": 488
        },
        "id": "jABC6tku9iFf",
        "outputId": "ae8c2cae-cad6-4d72-8193-b1460e1c3c9e"
      },
      "outputs": [
        {
          "output_type": "execute_result",
          "data": {
            "text/plain": [
              "      0      1         2             3             4             5   \\\n",
              "0    1.0  230.1  52946.01  1.218288e+07  2.803280e+09  6.450347e+11   \n",
              "1    1.0   44.5   1980.25  8.812112e+04  3.921390e+06  1.745019e+08   \n",
              "2    1.0   17.2    295.84  5.088448e+03  8.752131e+04  1.505366e+06   \n",
              "3    1.0  151.5  22952.25  3.477266e+06  5.268058e+08  7.981108e+10   \n",
              "4    1.0  180.8  32688.64  5.910106e+06  1.068547e+09  1.931933e+11   \n",
              "..   ...    ...       ...           ...           ...           ...   \n",
              "195  1.0   38.2   1459.24  5.574297e+04  2.129381e+06  8.134237e+07   \n",
              "196  1.0   94.2   8873.64  8.358969e+05  7.874149e+07  7.417448e+09   \n",
              "197  1.0  177.0  31329.00  5.545233e+06  9.815062e+08  1.737266e+11   \n",
              "198  1.0  283.6  80428.96  2.280965e+07  6.468818e+09  1.834557e+12   \n",
              "199  1.0  232.1  53870.41  1.250332e+07  2.902021e+09  6.735591e+11   \n",
              "\n",
              "               6             7             8             9   ...    1   \\\n",
              "0    1.484225e+14  3.415201e+16  7.858379e+18  1.808213e+21  ...  37.8   \n",
              "1    7.765333e+09  3.455573e+11  1.537730e+13  6.842899e+14  ...  39.3   \n",
              "2    2.589230e+07  4.453476e+08  7.659979e+09  1.317516e+11  ...  45.9   \n",
              "3    1.209138e+13  1.831844e+15  2.775243e+17  4.204494e+19  ...  41.3   \n",
              "4    3.492935e+13  6.315227e+15  1.141793e+18  2.064362e+20  ...  10.8   \n",
              "..            ...           ...           ...           ...  ...   ...   \n",
              "195  3.107278e+09  1.186980e+11  4.534265e+12  1.732089e+14  ...   3.7   \n",
              "196  6.987236e+11  6.581976e+13  6.200222e+15  5.840609e+17  ...   4.9   \n",
              "197  3.074961e+13  5.442681e+15  9.633545e+17  1.705137e+20  ...   9.3   \n",
              "198  5.202803e+14  1.475515e+17  4.184560e+19  1.186741e+22  ...  42.0   \n",
              "199  1.563331e+14  3.628490e+16  8.421726e+18  1.954683e+21  ...   8.6   \n",
              "\n",
              "          2          3             4             5             6   \\\n",
              "0    1428.84  54010.152  2.041584e+06  7.717187e+07  2.917097e+09   \n",
              "1    1544.49  60698.457  2.385449e+06  9.374816e+07  3.684303e+09   \n",
              "2    2106.81  96702.579  4.438648e+06  2.037340e+08  9.351389e+09   \n",
              "3    1705.69  70444.997  2.909378e+06  1.201573e+08  4.962498e+09   \n",
              "4     116.64   1259.712  1.360489e+04  1.469328e+05  1.586874e+06   \n",
              "..       ...        ...           ...           ...           ...   \n",
              "195    13.69     50.653  1.874161e+02  6.934396e+02  2.565726e+03   \n",
              "196    24.01    117.649  5.764801e+02  2.824752e+03  1.384129e+04   \n",
              "197    86.49    804.357  7.480520e+03  6.956884e+04  6.469902e+05   \n",
              "198  1764.00  74088.000  3.111696e+06  1.306912e+08  5.489032e+09   \n",
              "199    73.96    636.056  5.470082e+03  4.704270e+04  4.045672e+05   \n",
              "\n",
              "               7             8             9             10  \n",
              "0    1.102662e+11  4.168064e+12  1.575528e+14  5.955497e+15  \n",
              "1    1.447931e+11  5.690369e+12  2.236315e+14  8.788717e+15  \n",
              "2    4.292287e+11  1.970160e+13  9.043034e+14  4.150753e+16  \n",
              "3    2.049512e+11  8.464483e+12  3.495831e+14  1.443778e+16  \n",
              "4    1.713824e+07  1.850930e+08  1.999005e+09  2.158925e+10  \n",
              "..            ...           ...           ...           ...  \n",
              "195  9.493188e+03  3.512479e+04  1.299617e+05  4.808584e+05  \n",
              "196  6.782231e+04  3.323293e+05  1.628414e+06  7.979227e+06  \n",
              "197  6.017009e+06  5.595818e+07  5.204111e+08  4.839823e+09  \n",
              "198  2.305393e+11  9.682652e+12  4.066714e+14  1.708020e+16  \n",
              "199  3.479278e+06  2.992179e+07  2.573274e+08  2.213016e+09  \n",
              "\n",
              "[200 rows x 33 columns]"
            ],
            "text/html": [
              "\n",
              "  <div id=\"df-33140c00-e2de-429a-87a2-9190684fcaf9\">\n",
              "    <div class=\"colab-df-container\">\n",
              "      <div>\n",
              "<style scoped>\n",
              "    .dataframe tbody tr th:only-of-type {\n",
              "        vertical-align: middle;\n",
              "    }\n",
              "\n",
              "    .dataframe tbody tr th {\n",
              "        vertical-align: top;\n",
              "    }\n",
              "\n",
              "    .dataframe thead th {\n",
              "        text-align: right;\n",
              "    }\n",
              "</style>\n",
              "<table border=\"1\" class=\"dataframe\">\n",
              "  <thead>\n",
              "    <tr style=\"text-align: right;\">\n",
              "      <th></th>\n",
              "      <th>0</th>\n",
              "      <th>1</th>\n",
              "      <th>2</th>\n",
              "      <th>3</th>\n",
              "      <th>4</th>\n",
              "      <th>5</th>\n",
              "      <th>6</th>\n",
              "      <th>7</th>\n",
              "      <th>8</th>\n",
              "      <th>9</th>\n",
              "      <th>...</th>\n",
              "      <th>1</th>\n",
              "      <th>2</th>\n",
              "      <th>3</th>\n",
              "      <th>4</th>\n",
              "      <th>5</th>\n",
              "      <th>6</th>\n",
              "      <th>7</th>\n",
              "      <th>8</th>\n",
              "      <th>9</th>\n",
              "      <th>10</th>\n",
              "    </tr>\n",
              "  </thead>\n",
              "  <tbody>\n",
              "    <tr>\n",
              "      <th>0</th>\n",
              "      <td>1.0</td>\n",
              "      <td>230.1</td>\n",
              "      <td>52946.01</td>\n",
              "      <td>1.218288e+07</td>\n",
              "      <td>2.803280e+09</td>\n",
              "      <td>6.450347e+11</td>\n",
              "      <td>1.484225e+14</td>\n",
              "      <td>3.415201e+16</td>\n",
              "      <td>7.858379e+18</td>\n",
              "      <td>1.808213e+21</td>\n",
              "      <td>...</td>\n",
              "      <td>37.8</td>\n",
              "      <td>1428.84</td>\n",
              "      <td>54010.152</td>\n",
              "      <td>2.041584e+06</td>\n",
              "      <td>7.717187e+07</td>\n",
              "      <td>2.917097e+09</td>\n",
              "      <td>1.102662e+11</td>\n",
              "      <td>4.168064e+12</td>\n",
              "      <td>1.575528e+14</td>\n",
              "      <td>5.955497e+15</td>\n",
              "    </tr>\n",
              "    <tr>\n",
              "      <th>1</th>\n",
              "      <td>1.0</td>\n",
              "      <td>44.5</td>\n",
              "      <td>1980.25</td>\n",
              "      <td>8.812112e+04</td>\n",
              "      <td>3.921390e+06</td>\n",
              "      <td>1.745019e+08</td>\n",
              "      <td>7.765333e+09</td>\n",
              "      <td>3.455573e+11</td>\n",
              "      <td>1.537730e+13</td>\n",
              "      <td>6.842899e+14</td>\n",
              "      <td>...</td>\n",
              "      <td>39.3</td>\n",
              "      <td>1544.49</td>\n",
              "      <td>60698.457</td>\n",
              "      <td>2.385449e+06</td>\n",
              "      <td>9.374816e+07</td>\n",
              "      <td>3.684303e+09</td>\n",
              "      <td>1.447931e+11</td>\n",
              "      <td>5.690369e+12</td>\n",
              "      <td>2.236315e+14</td>\n",
              "      <td>8.788717e+15</td>\n",
              "    </tr>\n",
              "    <tr>\n",
              "      <th>2</th>\n",
              "      <td>1.0</td>\n",
              "      <td>17.2</td>\n",
              "      <td>295.84</td>\n",
              "      <td>5.088448e+03</td>\n",
              "      <td>8.752131e+04</td>\n",
              "      <td>1.505366e+06</td>\n",
              "      <td>2.589230e+07</td>\n",
              "      <td>4.453476e+08</td>\n",
              "      <td>7.659979e+09</td>\n",
              "      <td>1.317516e+11</td>\n",
              "      <td>...</td>\n",
              "      <td>45.9</td>\n",
              "      <td>2106.81</td>\n",
              "      <td>96702.579</td>\n",
              "      <td>4.438648e+06</td>\n",
              "      <td>2.037340e+08</td>\n",
              "      <td>9.351389e+09</td>\n",
              "      <td>4.292287e+11</td>\n",
              "      <td>1.970160e+13</td>\n",
              "      <td>9.043034e+14</td>\n",
              "      <td>4.150753e+16</td>\n",
              "    </tr>\n",
              "    <tr>\n",
              "      <th>3</th>\n",
              "      <td>1.0</td>\n",
              "      <td>151.5</td>\n",
              "      <td>22952.25</td>\n",
              "      <td>3.477266e+06</td>\n",
              "      <td>5.268058e+08</td>\n",
              "      <td>7.981108e+10</td>\n",
              "      <td>1.209138e+13</td>\n",
              "      <td>1.831844e+15</td>\n",
              "      <td>2.775243e+17</td>\n",
              "      <td>4.204494e+19</td>\n",
              "      <td>...</td>\n",
              "      <td>41.3</td>\n",
              "      <td>1705.69</td>\n",
              "      <td>70444.997</td>\n",
              "      <td>2.909378e+06</td>\n",
              "      <td>1.201573e+08</td>\n",
              "      <td>4.962498e+09</td>\n",
              "      <td>2.049512e+11</td>\n",
              "      <td>8.464483e+12</td>\n",
              "      <td>3.495831e+14</td>\n",
              "      <td>1.443778e+16</td>\n",
              "    </tr>\n",
              "    <tr>\n",
              "      <th>4</th>\n",
              "      <td>1.0</td>\n",
              "      <td>180.8</td>\n",
              "      <td>32688.64</td>\n",
              "      <td>5.910106e+06</td>\n",
              "      <td>1.068547e+09</td>\n",
              "      <td>1.931933e+11</td>\n",
              "      <td>3.492935e+13</td>\n",
              "      <td>6.315227e+15</td>\n",
              "      <td>1.141793e+18</td>\n",
              "      <td>2.064362e+20</td>\n",
              "      <td>...</td>\n",
              "      <td>10.8</td>\n",
              "      <td>116.64</td>\n",
              "      <td>1259.712</td>\n",
              "      <td>1.360489e+04</td>\n",
              "      <td>1.469328e+05</td>\n",
              "      <td>1.586874e+06</td>\n",
              "      <td>1.713824e+07</td>\n",
              "      <td>1.850930e+08</td>\n",
              "      <td>1.999005e+09</td>\n",
              "      <td>2.158925e+10</td>\n",
              "    </tr>\n",
              "    <tr>\n",
              "      <th>...</th>\n",
              "      <td>...</td>\n",
              "      <td>...</td>\n",
              "      <td>...</td>\n",
              "      <td>...</td>\n",
              "      <td>...</td>\n",
              "      <td>...</td>\n",
              "      <td>...</td>\n",
              "      <td>...</td>\n",
              "      <td>...</td>\n",
              "      <td>...</td>\n",
              "      <td>...</td>\n",
              "      <td>...</td>\n",
              "      <td>...</td>\n",
              "      <td>...</td>\n",
              "      <td>...</td>\n",
              "      <td>...</td>\n",
              "      <td>...</td>\n",
              "      <td>...</td>\n",
              "      <td>...</td>\n",
              "      <td>...</td>\n",
              "      <td>...</td>\n",
              "    </tr>\n",
              "    <tr>\n",
              "      <th>195</th>\n",
              "      <td>1.0</td>\n",
              "      <td>38.2</td>\n",
              "      <td>1459.24</td>\n",
              "      <td>5.574297e+04</td>\n",
              "      <td>2.129381e+06</td>\n",
              "      <td>8.134237e+07</td>\n",
              "      <td>3.107278e+09</td>\n",
              "      <td>1.186980e+11</td>\n",
              "      <td>4.534265e+12</td>\n",
              "      <td>1.732089e+14</td>\n",
              "      <td>...</td>\n",
              "      <td>3.7</td>\n",
              "      <td>13.69</td>\n",
              "      <td>50.653</td>\n",
              "      <td>1.874161e+02</td>\n",
              "      <td>6.934396e+02</td>\n",
              "      <td>2.565726e+03</td>\n",
              "      <td>9.493188e+03</td>\n",
              "      <td>3.512479e+04</td>\n",
              "      <td>1.299617e+05</td>\n",
              "      <td>4.808584e+05</td>\n",
              "    </tr>\n",
              "    <tr>\n",
              "      <th>196</th>\n",
              "      <td>1.0</td>\n",
              "      <td>94.2</td>\n",
              "      <td>8873.64</td>\n",
              "      <td>8.358969e+05</td>\n",
              "      <td>7.874149e+07</td>\n",
              "      <td>7.417448e+09</td>\n",
              "      <td>6.987236e+11</td>\n",
              "      <td>6.581976e+13</td>\n",
              "      <td>6.200222e+15</td>\n",
              "      <td>5.840609e+17</td>\n",
              "      <td>...</td>\n",
              "      <td>4.9</td>\n",
              "      <td>24.01</td>\n",
              "      <td>117.649</td>\n",
              "      <td>5.764801e+02</td>\n",
              "      <td>2.824752e+03</td>\n",
              "      <td>1.384129e+04</td>\n",
              "      <td>6.782231e+04</td>\n",
              "      <td>3.323293e+05</td>\n",
              "      <td>1.628414e+06</td>\n",
              "      <td>7.979227e+06</td>\n",
              "    </tr>\n",
              "    <tr>\n",
              "      <th>197</th>\n",
              "      <td>1.0</td>\n",
              "      <td>177.0</td>\n",
              "      <td>31329.00</td>\n",
              "      <td>5.545233e+06</td>\n",
              "      <td>9.815062e+08</td>\n",
              "      <td>1.737266e+11</td>\n",
              "      <td>3.074961e+13</td>\n",
              "      <td>5.442681e+15</td>\n",
              "      <td>9.633545e+17</td>\n",
              "      <td>1.705137e+20</td>\n",
              "      <td>...</td>\n",
              "      <td>9.3</td>\n",
              "      <td>86.49</td>\n",
              "      <td>804.357</td>\n",
              "      <td>7.480520e+03</td>\n",
              "      <td>6.956884e+04</td>\n",
              "      <td>6.469902e+05</td>\n",
              "      <td>6.017009e+06</td>\n",
              "      <td>5.595818e+07</td>\n",
              "      <td>5.204111e+08</td>\n",
              "      <td>4.839823e+09</td>\n",
              "    </tr>\n",
              "    <tr>\n",
              "      <th>198</th>\n",
              "      <td>1.0</td>\n",
              "      <td>283.6</td>\n",
              "      <td>80428.96</td>\n",
              "      <td>2.280965e+07</td>\n",
              "      <td>6.468818e+09</td>\n",
              "      <td>1.834557e+12</td>\n",
              "      <td>5.202803e+14</td>\n",
              "      <td>1.475515e+17</td>\n",
              "      <td>4.184560e+19</td>\n",
              "      <td>1.186741e+22</td>\n",
              "      <td>...</td>\n",
              "      <td>42.0</td>\n",
              "      <td>1764.00</td>\n",
              "      <td>74088.000</td>\n",
              "      <td>3.111696e+06</td>\n",
              "      <td>1.306912e+08</td>\n",
              "      <td>5.489032e+09</td>\n",
              "      <td>2.305393e+11</td>\n",
              "      <td>9.682652e+12</td>\n",
              "      <td>4.066714e+14</td>\n",
              "      <td>1.708020e+16</td>\n",
              "    </tr>\n",
              "    <tr>\n",
              "      <th>199</th>\n",
              "      <td>1.0</td>\n",
              "      <td>232.1</td>\n",
              "      <td>53870.41</td>\n",
              "      <td>1.250332e+07</td>\n",
              "      <td>2.902021e+09</td>\n",
              "      <td>6.735591e+11</td>\n",
              "      <td>1.563331e+14</td>\n",
              "      <td>3.628490e+16</td>\n",
              "      <td>8.421726e+18</td>\n",
              "      <td>1.954683e+21</td>\n",
              "      <td>...</td>\n",
              "      <td>8.6</td>\n",
              "      <td>73.96</td>\n",
              "      <td>636.056</td>\n",
              "      <td>5.470082e+03</td>\n",
              "      <td>4.704270e+04</td>\n",
              "      <td>4.045672e+05</td>\n",
              "      <td>3.479278e+06</td>\n",
              "      <td>2.992179e+07</td>\n",
              "      <td>2.573274e+08</td>\n",
              "      <td>2.213016e+09</td>\n",
              "    </tr>\n",
              "  </tbody>\n",
              "</table>\n",
              "<p>200 rows × 33 columns</p>\n",
              "</div>\n",
              "      <button class=\"colab-df-convert\" onclick=\"convertToInteractive('df-33140c00-e2de-429a-87a2-9190684fcaf9')\"\n",
              "              title=\"Convert this dataframe to an interactive table.\"\n",
              "              style=\"display:none;\">\n",
              "        \n",
              "  <svg xmlns=\"http://www.w3.org/2000/svg\" height=\"24px\"viewBox=\"0 0 24 24\"\n",
              "       width=\"24px\">\n",
              "    <path d=\"M0 0h24v24H0V0z\" fill=\"none\"/>\n",
              "    <path d=\"M18.56 5.44l.94 2.06.94-2.06 2.06-.94-2.06-.94-.94-2.06-.94 2.06-2.06.94zm-11 1L8.5 8.5l.94-2.06 2.06-.94-2.06-.94L8.5 2.5l-.94 2.06-2.06.94zm10 10l.94 2.06.94-2.06 2.06-.94-2.06-.94-.94-2.06-.94 2.06-2.06.94z\"/><path d=\"M17.41 7.96l-1.37-1.37c-.4-.4-.92-.59-1.43-.59-.52 0-1.04.2-1.43.59L10.3 9.45l-7.72 7.72c-.78.78-.78 2.05 0 2.83L4 21.41c.39.39.9.59 1.41.59.51 0 1.02-.2 1.41-.59l7.78-7.78 2.81-2.81c.8-.78.8-2.07 0-2.86zM5.41 20L4 18.59l7.72-7.72 1.47 1.35L5.41 20z\"/>\n",
              "  </svg>\n",
              "      </button>\n",
              "      \n",
              "  <style>\n",
              "    .colab-df-container {\n",
              "      display:flex;\n",
              "      flex-wrap:wrap;\n",
              "      gap: 12px;\n",
              "    }\n",
              "\n",
              "    .colab-df-convert {\n",
              "      background-color: #E8F0FE;\n",
              "      border: none;\n",
              "      border-radius: 50%;\n",
              "      cursor: pointer;\n",
              "      display: none;\n",
              "      fill: #1967D2;\n",
              "      height: 32px;\n",
              "      padding: 0 0 0 0;\n",
              "      width: 32px;\n",
              "    }\n",
              "\n",
              "    .colab-df-convert:hover {\n",
              "      background-color: #E2EBFA;\n",
              "      box-shadow: 0px 1px 2px rgba(60, 64, 67, 0.3), 0px 1px 3px 1px rgba(60, 64, 67, 0.15);\n",
              "      fill: #174EA6;\n",
              "    }\n",
              "\n",
              "    [theme=dark] .colab-df-convert {\n",
              "      background-color: #3B4455;\n",
              "      fill: #D2E3FC;\n",
              "    }\n",
              "\n",
              "    [theme=dark] .colab-df-convert:hover {\n",
              "      background-color: #434B5C;\n",
              "      box-shadow: 0px 1px 3px 1px rgba(0, 0, 0, 0.15);\n",
              "      filter: drop-shadow(0px 1px 2px rgba(0, 0, 0, 0.3));\n",
              "      fill: #FFFFFF;\n",
              "    }\n",
              "  </style>\n",
              "\n",
              "      <script>\n",
              "        const buttonEl =\n",
              "          document.querySelector('#df-33140c00-e2de-429a-87a2-9190684fcaf9 button.colab-df-convert');\n",
              "        buttonEl.style.display =\n",
              "          google.colab.kernel.accessAllowed ? 'block' : 'none';\n",
              "\n",
              "        async function convertToInteractive(key) {\n",
              "          const element = document.querySelector('#df-33140c00-e2de-429a-87a2-9190684fcaf9');\n",
              "          const dataTable =\n",
              "            await google.colab.kernel.invokeFunction('convertToInteractive',\n",
              "                                                     [key], {});\n",
              "          if (!dataTable) return;\n",
              "\n",
              "          const docLinkHtml = 'Like what you see? Visit the ' +\n",
              "            '<a target=\"_blank\" href=https://colab.research.google.com/notebooks/data_table.ipynb>data table notebook</a>'\n",
              "            + ' to learn more about interactive tables.';\n",
              "          element.innerHTML = '';\n",
              "          dataTable['output_type'] = 'display_data';\n",
              "          await google.colab.output.renderOutput(dataTable, element);\n",
              "          const docLink = document.createElement('div');\n",
              "          docLink.innerHTML = docLinkHtml;\n",
              "          element.appendChild(docLink);\n",
              "        }\n",
              "      </script>\n",
              "    </div>\n",
              "  </div>\n",
              "  "
            ]
          },
          "metadata": {},
          "execution_count": 151
        }
      ],
      "source": [
        "poly_features"
      ]
    },
    {
      "cell_type": "code",
      "execution_count": 152,
      "metadata": {
        "id": "DRUBbkM79iFg"
      },
      "outputs": [],
      "source": [
        "from sklearn.model_selection import train_test_split"
      ]
    },
    {
      "cell_type": "code",
      "execution_count": 153,
      "metadata": {
        "id": "rfiml8yq9iFh"
      },
      "outputs": [],
      "source": [
        "X_train, X_test, y_train, y_test = train_test_split(poly_features, target, random_state = 6)"
      ]
    },
    {
      "cell_type": "code",
      "execution_count": 154,
      "metadata": {
        "colab": {
          "base_uri": "https://localhost:8080/"
        },
        "id": "vw7Lgy9K9iFi",
        "outputId": "2f1285c4-a396-40a2-eb17-58800990cf78"
      },
      "outputs": [
        {
          "output_type": "stream",
          "name": "stdout",
          "text": [
            "(150, 33)\n",
            "(50, 33)\n",
            "(150, 1)\n",
            "(50, 1)\n"
          ]
        }
      ],
      "source": [
        "print(X_train.shape)\n",
        "print(X_test.shape)\n",
        "print(y_train.shape)\n",
        "print(y_test.shape)"
      ]
    },
    {
      "cell_type": "code",
      "execution_count": 155,
      "metadata": {
        "id": "G4Ch2Rhm9iFj"
      },
      "outputs": [],
      "source": [
        "from sklearn.linear_model import LinearRegression"
      ]
    },
    {
      "cell_type": "markdown",
      "source": [
        "##Fitting Training Dataset"
      ],
      "metadata": {
        "id": "t0KsYA-ZeH5l"
      }
    },
    {
      "cell_type": "code",
      "execution_count": 156,
      "metadata": {
        "colab": {
          "base_uri": "https://localhost:8080/"
        },
        "id": "-mJJdp_K9iFk",
        "outputId": "7ef581fe-c7cc-45bb-d615-771f6f548f93"
      },
      "outputs": [
        {
          "output_type": "execute_result",
          "data": {
            "text/plain": [
              "LinearRegression()"
            ]
          },
          "metadata": {},
          "execution_count": 156
        }
      ],
      "source": [
        "my_model = LinearRegression()\n",
        "my_model.fit(X_train, y_train)"
      ]
    },
    {
      "cell_type": "code",
      "source": [
        "my_model.coef_"
      ],
      "metadata": {
        "colab": {
          "base_uri": "https://localhost:8080/"
        },
        "id": "MyTdntmJWSQW",
        "outputId": "c94a4468-32bf-471e-8423-2d98d4c7fd5e"
      },
      "execution_count": 157,
      "outputs": [
        {
          "output_type": "execute_result",
          "data": {
            "text/plain": [
              "array([[ 3.29937952e-16, -1.84157545e-14,  2.10332512e-19,\n",
              "         7.00421575e-17,  6.34175077e-15,  4.45395705e-13,\n",
              "         1.89430878e-11, -2.99834278e-13,  1.79206159e-15,\n",
              "        -4.77016931e-18,  4.75800978e-21,  3.23117427e-27,\n",
              "         6.80253887e-21,  3.84306642e-19,  1.77495738e-17,\n",
              "         7.31876436e-16,  2.64799172e-14,  7.75067058e-13,\n",
              "         1.43720324e-11, -4.58127617e-13,  4.76453741e-15,\n",
              "        -1.62327544e-17,  0.00000000e+00,  2.71309842e-21,\n",
              "         9.34955785e-20,  2.85426937e-18,  8.28712923e-17,\n",
              "         2.26877807e-15,  5.65432033e-14,  1.18676988e-12,\n",
              "         1.67557223e-11, -6.70688084e-13,  6.79059978e-15]])"
            ]
          },
          "metadata": {},
          "execution_count": 157
        }
      ]
    },
    {
      "cell_type": "code",
      "source": [
        "my_model.intercept_"
      ],
      "metadata": {
        "colab": {
          "base_uri": "https://localhost:8080/"
        },
        "id": "pnzu-lK3WSNq",
        "outputId": "f76763e2-9d6c-47f7-dc39-8f388622bbc1"
      },
      "execution_count": 158,
      "outputs": [
        {
          "output_type": "execute_result",
          "data": {
            "text/plain": [
              "array([6.66591791])"
            ]
          },
          "metadata": {},
          "execution_count": 158
        }
      ]
    },
    {
      "cell_type": "markdown",
      "source": [
        "##Fitting Test Dataset:"
      ],
      "metadata": {
        "id": "Chqb3mzLf8yW"
      }
    },
    {
      "cell_type": "code",
      "source": [
        "my_model = LinearRegression()\n",
        "my_model.fit(X_test, y_test)"
      ],
      "metadata": {
        "colab": {
          "base_uri": "https://localhost:8080/"
        },
        "id": "3CzZ1tPkf__1",
        "outputId": "86321861-c066-49a6-eed7-159c06f504fe"
      },
      "execution_count": 159,
      "outputs": [
        {
          "output_type": "execute_result",
          "data": {
            "text/plain": [
              "LinearRegression()"
            ]
          },
          "metadata": {},
          "execution_count": 159
        }
      ]
    },
    {
      "cell_type": "code",
      "source": [
        "my_model.coef_"
      ],
      "metadata": {
        "colab": {
          "base_uri": "https://localhost:8080/"
        },
        "id": "vy3OBfiegKiW",
        "outputId": "77f30798-c381-4542-9e5f-29232cad9289"
      },
      "execution_count": 160,
      "outputs": [
        {
          "output_type": "execute_result",
          "data": {
            "text/plain": [
              "array([[-8.36854530e-11,  1.36846665e-10,  7.06264879e-14,\n",
              "        -1.53752548e-13, -7.14107648e-12, -1.87733395e-10,\n",
              "         2.12903184e-11, -3.01683706e-13,  1.71301454e-15,\n",
              "        -4.41077706e-18,  4.29460860e-21,  1.52511425e-23,\n",
              "        -3.69228768e-19, -1.80632187e-16, -8.40550249e-15,\n",
              "        -2.69864127e-13, -6.38833246e-12, -9.02959580e-11,\n",
              "        -2.71289589e-11,  1.05135499e-12, -1.26474263e-14,\n",
              "         4.88893915e-17,  0.00000000e+00,  5.29481584e-17,\n",
              "         1.58170352e-15,  3.90766114e-14,  8.58405565e-13,\n",
              "         1.64521589e-11,  2.53671788e-10,  2.46340041e-09,\n",
              "        -1.47514064e-10,  2.96445349e-12, -1.99272295e-14]])"
            ]
          },
          "metadata": {},
          "execution_count": 160
        }
      ]
    },
    {
      "cell_type": "code",
      "source": [
        "my_model.intercept_"
      ],
      "metadata": {
        "colab": {
          "base_uri": "https://localhost:8080/"
        },
        "id": "RhWz8DiggKfJ",
        "outputId": "383c584e-c09a-4a8d-a118-135f40cab91c"
      },
      "execution_count": 161,
      "outputs": [
        {
          "output_type": "execute_result",
          "data": {
            "text/plain": [
              "array([6.59955455])"
            ]
          },
          "metadata": {},
          "execution_count": 161
        }
      ]
    },
    {
      "cell_type": "code",
      "source": [
        ""
      ],
      "metadata": {
        "id": "3kkwCEmSgKcX"
      },
      "execution_count": 161,
      "outputs": []
    },
    {
      "cell_type": "code",
      "source": [
        ""
      ],
      "metadata": {
        "id": "dW3BUSuIf_8i"
      },
      "execution_count": 161,
      "outputs": []
    },
    {
      "cell_type": "code",
      "source": [
        "import statsmodels.formula.api as smf"
      ],
      "metadata": {
        "id": "DfwnFgrAWSG8"
      },
      "execution_count": 162,
      "outputs": []
    },
    {
      "cell_type": "code",
      "source": [
        "#my_ols_model = smf.ols(formula='sales ~ TV + radio + newspaper', data = data).fit()\n",
        "my_stat_model = smf.ols(formula='sales ~ TV_poly + radio_poly + newspaper_poly', data=data).fit()\n",
        "my_stat_model.pvalues"
      ],
      "metadata": {
        "colab": {
          "base_uri": "https://localhost:8080/"
        },
        "id": "hFYex7h-X6br",
        "outputId": "aef08797-2dfa-4e5f-9db0-ee439e26d745"
      },
      "execution_count": 163,
      "outputs": [
        {
          "output_type": "execute_result",
          "data": {
            "text/plain": [
              "Intercept             1.261237e-27\n",
              "TV_poly[0]            7.277721e-20\n",
              "TV_poly[1]            2.587869e-29\n",
              "TV_poly[2]            1.822598e-19\n",
              "TV_poly[3]            1.276548e-21\n",
              "TV_poly[4]            6.070618e-21\n",
              "TV_poly[5]            1.155412e-20\n",
              "TV_poly[6]            1.343443e-20\n",
              "TV_poly[7]            4.589524e-18\n",
              "TV_poly[8]            4.062714e-16\n",
              "TV_poly[9]            1.424009e-14\n",
              "TV_poly[10]           2.567908e-13\n",
              "radio_poly[0]         5.722218e-27\n",
              "radio_poly[1]         5.335857e-14\n",
              "radio_poly[2]         4.466387e-11\n",
              "radio_poly[3]         6.019198e-10\n",
              "radio_poly[4]         2.288202e-09\n",
              "radio_poly[5]         5.147999e-09\n",
              "radio_poly[6]         8.971152e-09\n",
              "radio_poly[7]         1.361130e-08\n",
              "radio_poly[8]         1.902287e-08\n",
              "radio_poly[9]         1.209645e-07\n",
              "radio_poly[10]        5.012864e-07\n",
              "newspaper_poly[0]     5.724748e-27\n",
              "newspaper_poly[1]     9.085299e-04\n",
              "newspaper_poly[2]     2.122769e-02\n",
              "newspaper_poly[3]     4.954644e-02\n",
              "newspaper_poly[4]     7.278317e-02\n",
              "newspaper_poly[5]     9.025765e-02\n",
              "newspaper_poly[6]     1.027694e-01\n",
              "newspaper_poly[7]     1.111605e-01\n",
              "newspaper_poly[8]     1.402207e-01\n",
              "newspaper_poly[9]     1.751034e-01\n",
              "newspaper_poly[10]    2.138680e-01\n",
              "dtype: float64"
            ]
          },
          "metadata": {},
          "execution_count": 163
        }
      ]
    },
    {
      "cell_type": "code",
      "source": [
        "my_stat_model.summary()"
      ],
      "metadata": {
        "colab": {
          "base_uri": "https://localhost:8080/",
          "height": 1000
        },
        "id": "DGAqymPfX6ZP",
        "outputId": "d524dd47-09d0-478a-9504-5208357add3a"
      },
      "execution_count": 164,
      "outputs": [
        {
          "output_type": "execute_result",
          "data": {
            "text/plain": [
              "<class 'statsmodels.iolib.summary.Summary'>\n",
              "\"\"\"\n",
              "                            OLS Regression Results                            \n",
              "==============================================================================\n",
              "Dep. Variable:                  sales   R-squared:                       0.421\n",
              "Model:                            OLS   Adj. R-squared:                  0.388\n",
              "Method:                 Least Squares   F-statistic:                     12.45\n",
              "Date:                Sat, 16 Apr 2022   Prob (F-statistic):           1.64e-17\n",
              "Time:                        04:05:03   Log-Likelihood:                -558.96\n",
              "No. Observations:                 200   AIC:                             1142.\n",
              "Df Residuals:                     188   BIC:                             1182.\n",
              "Df Model:                          11                                         \n",
              "Covariance Type:            nonrobust                                         \n",
              "======================================================================================\n",
              "                         coef    std err          t      P>|t|      [0.025      0.975]\n",
              "--------------------------------------------------------------------------------------\n",
              "Intercept           2.664e-14   2.07e-15     12.881      0.000    2.26e-14    3.07e-14\n",
              "TV_poly[0]         -1.486e-14   1.45e-15    -10.249      0.000   -1.77e-14    -1.2e-14\n",
              "TV_poly[1]         -4.563e-18   3.39e-19    -13.445      0.000   -5.23e-18   -3.89e-18\n",
              "TV_poly[2]          1.692e-18   1.67e-19     10.111      0.000    1.36e-18    2.02e-18\n",
              "TV_poly[3]          1.801e-16   1.66e-17     10.854      0.000    1.47e-16    2.13e-16\n",
              "TV_poly[4]            1.5e-14   1.41e-15     10.622      0.000    1.22e-14    1.78e-14\n",
              "TV_poly[5]           1.01e-12   9.59e-14     10.526      0.000    8.21e-13     1.2e-12\n",
              "TV_poly[6]          4.206e-11      4e-12     10.503      0.000    3.42e-11       5e-11\n",
              "TV_poly[7]         -6.699e-13   6.96e-14     -9.619      0.000   -8.07e-13   -5.32e-13\n",
              "TV_poly[8]          4.015e-15    4.5e-16      8.922      0.000    3.13e-15     4.9e-15\n",
              "TV_poly[9]         -1.069e-17   1.28e-18     -8.354      0.000   -1.32e-17   -8.17e-18\n",
              "TV_poly[10]         1.066e-20   1.35e-21      7.880      0.000    7.99e-21    1.33e-20\n",
              "radio_poly[0]       2.679e-22   2.12e-23     12.661      0.000    2.26e-22     3.1e-22\n",
              "radio_poly[1]       8.046e-21   9.89e-22      8.139      0.000     6.1e-21       1e-20\n",
              "radio_poly[2]       2.392e-19   3.42e-20      6.997      0.000    1.72e-19    3.07e-19\n",
              "radio_poly[3]           7e-18   1.07e-18      6.529      0.000    4.88e-18    9.11e-18\n",
              "radio_poly[4]       1.989e-16   3.17e-17      6.280      0.000    1.36e-16    2.61e-16\n",
              "radio_poly[5]       5.357e-15   8.74e-16      6.127      0.000    3.63e-15    7.08e-15\n",
              "radio_poly[6]       1.316e-13   2.19e-14      6.020      0.000    8.85e-14    1.75e-13\n",
              "radio_poly[7]       2.726e-12   4.59e-13      5.939      0.000    1.82e-12    3.63e-12\n",
              "radio_poly[8]         3.8e-11   6.47e-12      5.874      0.000    2.52e-11    5.08e-11\n",
              "radio_poly[9]      -1.576e-12   2.86e-13     -5.503      0.000   -2.14e-12   -1.01e-12\n",
              "radio_poly[10]      1.645e-14   3.16e-15      5.207      0.000    1.02e-14    2.27e-14\n",
              "newspaper_poly[0]   2.679e-22   2.12e-23     12.661      0.000    2.26e-22     3.1e-22\n",
              "newspaper_poly[1]   8.361e-21   2.48e-21      3.371      0.001    3.47e-21    1.33e-20\n",
              "newspaper_poly[2]   3.302e-19   1.42e-19      2.323      0.021    4.98e-20    6.11e-19\n",
              "newspaper_poly[3]   1.387e-17   7.02e-18      1.977      0.050    2.78e-20    2.77e-17\n",
              "newspaper_poly[4]   5.701e-16   3.16e-16      1.804      0.073   -5.32e-17    1.19e-15\n",
              "newspaper_poly[5]   2.148e-14   1.26e-14      1.703      0.090    -3.4e-15    4.64e-14\n",
              "newspaper_poly[6]   6.723e-13    4.1e-13      1.640      0.103   -1.37e-13    1.48e-12\n",
              "newspaper_poly[7]   1.357e-11   8.48e-12      1.601      0.111   -3.15e-12    3.03e-11\n",
              "newspaper_poly[8]   -4.12e-13   2.78e-13     -1.481      0.140   -9.61e-13    1.37e-13\n",
              "newspaper_poly[9]   4.089e-15      3e-15      1.361      0.175   -1.84e-15       1e-14\n",
              "newspaper_poly[10] -1.332e-17   1.07e-17     -1.247      0.214   -3.44e-17    7.75e-18\n",
              "==============================================================================\n",
              "Omnibus:                        9.699   Durbin-Watson:                   1.874\n",
              "Prob(Omnibus):                  0.008   Jarque-Bera (JB):                6.784\n",
              "Skew:                           0.323   Prob(JB):                       0.0336\n",
              "Kurtosis:                       2.369   Cond. No.                     2.78e+16\n",
              "==============================================================================\n",
              "\n",
              "Warnings:\n",
              "[1] Standard Errors assume that the covariance matrix of the errors is correctly specified.\n",
              "[2] The condition number is large, 2.78e+16. This might indicate that there are\n",
              "strong multicollinearity or other numerical problems.\n",
              "\"\"\""
            ],
            "text/html": [
              "<table class=\"simpletable\">\n",
              "<caption>OLS Regression Results</caption>\n",
              "<tr>\n",
              "  <th>Dep. Variable:</th>          <td>sales</td>      <th>  R-squared:         </th> <td>   0.421</td>\n",
              "</tr>\n",
              "<tr>\n",
              "  <th>Model:</th>                   <td>OLS</td>       <th>  Adj. R-squared:    </th> <td>   0.388</td>\n",
              "</tr>\n",
              "<tr>\n",
              "  <th>Method:</th>             <td>Least Squares</td>  <th>  F-statistic:       </th> <td>   12.45</td>\n",
              "</tr>\n",
              "<tr>\n",
              "  <th>Date:</th>             <td>Sat, 16 Apr 2022</td> <th>  Prob (F-statistic):</th> <td>1.64e-17</td>\n",
              "</tr>\n",
              "<tr>\n",
              "  <th>Time:</th>                 <td>04:05:03</td>     <th>  Log-Likelihood:    </th> <td> -558.96</td>\n",
              "</tr>\n",
              "<tr>\n",
              "  <th>No. Observations:</th>      <td>   200</td>      <th>  AIC:               </th> <td>   1142.</td>\n",
              "</tr>\n",
              "<tr>\n",
              "  <th>Df Residuals:</th>          <td>   188</td>      <th>  BIC:               </th> <td>   1182.</td>\n",
              "</tr>\n",
              "<tr>\n",
              "  <th>Df Model:</th>              <td>    11</td>      <th>                     </th>     <td> </td>   \n",
              "</tr>\n",
              "<tr>\n",
              "  <th>Covariance Type:</th>      <td>nonrobust</td>    <th>                     </th>     <td> </td>   \n",
              "</tr>\n",
              "</table>\n",
              "<table class=\"simpletable\">\n",
              "<tr>\n",
              "           <td></td>             <th>coef</th>     <th>std err</th>      <th>t</th>      <th>P>|t|</th>  <th>[0.025</th>    <th>0.975]</th>  \n",
              "</tr>\n",
              "<tr>\n",
              "  <th>Intercept</th>          <td> 2.664e-14</td> <td> 2.07e-15</td> <td>   12.881</td> <td> 0.000</td> <td> 2.26e-14</td> <td> 3.07e-14</td>\n",
              "</tr>\n",
              "<tr>\n",
              "  <th>TV_poly[0]</th>         <td>-1.486e-14</td> <td> 1.45e-15</td> <td>  -10.249</td> <td> 0.000</td> <td>-1.77e-14</td> <td> -1.2e-14</td>\n",
              "</tr>\n",
              "<tr>\n",
              "  <th>TV_poly[1]</th>         <td>-4.563e-18</td> <td> 3.39e-19</td> <td>  -13.445</td> <td> 0.000</td> <td>-5.23e-18</td> <td>-3.89e-18</td>\n",
              "</tr>\n",
              "<tr>\n",
              "  <th>TV_poly[2]</th>         <td> 1.692e-18</td> <td> 1.67e-19</td> <td>   10.111</td> <td> 0.000</td> <td> 1.36e-18</td> <td> 2.02e-18</td>\n",
              "</tr>\n",
              "<tr>\n",
              "  <th>TV_poly[3]</th>         <td> 1.801e-16</td> <td> 1.66e-17</td> <td>   10.854</td> <td> 0.000</td> <td> 1.47e-16</td> <td> 2.13e-16</td>\n",
              "</tr>\n",
              "<tr>\n",
              "  <th>TV_poly[4]</th>         <td>   1.5e-14</td> <td> 1.41e-15</td> <td>   10.622</td> <td> 0.000</td> <td> 1.22e-14</td> <td> 1.78e-14</td>\n",
              "</tr>\n",
              "<tr>\n",
              "  <th>TV_poly[5]</th>         <td>  1.01e-12</td> <td> 9.59e-14</td> <td>   10.526</td> <td> 0.000</td> <td> 8.21e-13</td> <td>  1.2e-12</td>\n",
              "</tr>\n",
              "<tr>\n",
              "  <th>TV_poly[6]</th>         <td> 4.206e-11</td> <td>    4e-12</td> <td>   10.503</td> <td> 0.000</td> <td> 3.42e-11</td> <td>    5e-11</td>\n",
              "</tr>\n",
              "<tr>\n",
              "  <th>TV_poly[7]</th>         <td>-6.699e-13</td> <td> 6.96e-14</td> <td>   -9.619</td> <td> 0.000</td> <td>-8.07e-13</td> <td>-5.32e-13</td>\n",
              "</tr>\n",
              "<tr>\n",
              "  <th>TV_poly[8]</th>         <td> 4.015e-15</td> <td>  4.5e-16</td> <td>    8.922</td> <td> 0.000</td> <td> 3.13e-15</td> <td>  4.9e-15</td>\n",
              "</tr>\n",
              "<tr>\n",
              "  <th>TV_poly[9]</th>         <td>-1.069e-17</td> <td> 1.28e-18</td> <td>   -8.354</td> <td> 0.000</td> <td>-1.32e-17</td> <td>-8.17e-18</td>\n",
              "</tr>\n",
              "<tr>\n",
              "  <th>TV_poly[10]</th>        <td> 1.066e-20</td> <td> 1.35e-21</td> <td>    7.880</td> <td> 0.000</td> <td> 7.99e-21</td> <td> 1.33e-20</td>\n",
              "</tr>\n",
              "<tr>\n",
              "  <th>radio_poly[0]</th>      <td> 2.679e-22</td> <td> 2.12e-23</td> <td>   12.661</td> <td> 0.000</td> <td> 2.26e-22</td> <td>  3.1e-22</td>\n",
              "</tr>\n",
              "<tr>\n",
              "  <th>radio_poly[1]</th>      <td> 8.046e-21</td> <td> 9.89e-22</td> <td>    8.139</td> <td> 0.000</td> <td>  6.1e-21</td> <td>    1e-20</td>\n",
              "</tr>\n",
              "<tr>\n",
              "  <th>radio_poly[2]</th>      <td> 2.392e-19</td> <td> 3.42e-20</td> <td>    6.997</td> <td> 0.000</td> <td> 1.72e-19</td> <td> 3.07e-19</td>\n",
              "</tr>\n",
              "<tr>\n",
              "  <th>radio_poly[3]</th>      <td>     7e-18</td> <td> 1.07e-18</td> <td>    6.529</td> <td> 0.000</td> <td> 4.88e-18</td> <td> 9.11e-18</td>\n",
              "</tr>\n",
              "<tr>\n",
              "  <th>radio_poly[4]</th>      <td> 1.989e-16</td> <td> 3.17e-17</td> <td>    6.280</td> <td> 0.000</td> <td> 1.36e-16</td> <td> 2.61e-16</td>\n",
              "</tr>\n",
              "<tr>\n",
              "  <th>radio_poly[5]</th>      <td> 5.357e-15</td> <td> 8.74e-16</td> <td>    6.127</td> <td> 0.000</td> <td> 3.63e-15</td> <td> 7.08e-15</td>\n",
              "</tr>\n",
              "<tr>\n",
              "  <th>radio_poly[6]</th>      <td> 1.316e-13</td> <td> 2.19e-14</td> <td>    6.020</td> <td> 0.000</td> <td> 8.85e-14</td> <td> 1.75e-13</td>\n",
              "</tr>\n",
              "<tr>\n",
              "  <th>radio_poly[7]</th>      <td> 2.726e-12</td> <td> 4.59e-13</td> <td>    5.939</td> <td> 0.000</td> <td> 1.82e-12</td> <td> 3.63e-12</td>\n",
              "</tr>\n",
              "<tr>\n",
              "  <th>radio_poly[8]</th>      <td>   3.8e-11</td> <td> 6.47e-12</td> <td>    5.874</td> <td> 0.000</td> <td> 2.52e-11</td> <td> 5.08e-11</td>\n",
              "</tr>\n",
              "<tr>\n",
              "  <th>radio_poly[9]</th>      <td>-1.576e-12</td> <td> 2.86e-13</td> <td>   -5.503</td> <td> 0.000</td> <td>-2.14e-12</td> <td>-1.01e-12</td>\n",
              "</tr>\n",
              "<tr>\n",
              "  <th>radio_poly[10]</th>     <td> 1.645e-14</td> <td> 3.16e-15</td> <td>    5.207</td> <td> 0.000</td> <td> 1.02e-14</td> <td> 2.27e-14</td>\n",
              "</tr>\n",
              "<tr>\n",
              "  <th>newspaper_poly[0]</th>  <td> 2.679e-22</td> <td> 2.12e-23</td> <td>   12.661</td> <td> 0.000</td> <td> 2.26e-22</td> <td>  3.1e-22</td>\n",
              "</tr>\n",
              "<tr>\n",
              "  <th>newspaper_poly[1]</th>  <td> 8.361e-21</td> <td> 2.48e-21</td> <td>    3.371</td> <td> 0.001</td> <td> 3.47e-21</td> <td> 1.33e-20</td>\n",
              "</tr>\n",
              "<tr>\n",
              "  <th>newspaper_poly[2]</th>  <td> 3.302e-19</td> <td> 1.42e-19</td> <td>    2.323</td> <td> 0.021</td> <td> 4.98e-20</td> <td> 6.11e-19</td>\n",
              "</tr>\n",
              "<tr>\n",
              "  <th>newspaper_poly[3]</th>  <td> 1.387e-17</td> <td> 7.02e-18</td> <td>    1.977</td> <td> 0.050</td> <td> 2.78e-20</td> <td> 2.77e-17</td>\n",
              "</tr>\n",
              "<tr>\n",
              "  <th>newspaper_poly[4]</th>  <td> 5.701e-16</td> <td> 3.16e-16</td> <td>    1.804</td> <td> 0.073</td> <td>-5.32e-17</td> <td> 1.19e-15</td>\n",
              "</tr>\n",
              "<tr>\n",
              "  <th>newspaper_poly[5]</th>  <td> 2.148e-14</td> <td> 1.26e-14</td> <td>    1.703</td> <td> 0.090</td> <td> -3.4e-15</td> <td> 4.64e-14</td>\n",
              "</tr>\n",
              "<tr>\n",
              "  <th>newspaper_poly[6]</th>  <td> 6.723e-13</td> <td>  4.1e-13</td> <td>    1.640</td> <td> 0.103</td> <td>-1.37e-13</td> <td> 1.48e-12</td>\n",
              "</tr>\n",
              "<tr>\n",
              "  <th>newspaper_poly[7]</th>  <td> 1.357e-11</td> <td> 8.48e-12</td> <td>    1.601</td> <td> 0.111</td> <td>-3.15e-12</td> <td> 3.03e-11</td>\n",
              "</tr>\n",
              "<tr>\n",
              "  <th>newspaper_poly[8]</th>  <td> -4.12e-13</td> <td> 2.78e-13</td> <td>   -1.481</td> <td> 0.140</td> <td>-9.61e-13</td> <td> 1.37e-13</td>\n",
              "</tr>\n",
              "<tr>\n",
              "  <th>newspaper_poly[9]</th>  <td> 4.089e-15</td> <td>    3e-15</td> <td>    1.361</td> <td> 0.175</td> <td>-1.84e-15</td> <td>    1e-14</td>\n",
              "</tr>\n",
              "<tr>\n",
              "  <th>newspaper_poly[10]</th> <td>-1.332e-17</td> <td> 1.07e-17</td> <td>   -1.247</td> <td> 0.214</td> <td>-3.44e-17</td> <td> 7.75e-18</td>\n",
              "</tr>\n",
              "</table>\n",
              "<table class=\"simpletable\">\n",
              "<tr>\n",
              "  <th>Omnibus:</th>       <td> 9.699</td> <th>  Durbin-Watson:     </th> <td>   1.874</td>\n",
              "</tr>\n",
              "<tr>\n",
              "  <th>Prob(Omnibus):</th> <td> 0.008</td> <th>  Jarque-Bera (JB):  </th> <td>   6.784</td>\n",
              "</tr>\n",
              "<tr>\n",
              "  <th>Skew:</th>          <td> 0.323</td> <th>  Prob(JB):          </th> <td>  0.0336</td>\n",
              "</tr>\n",
              "<tr>\n",
              "  <th>Kurtosis:</th>      <td> 2.369</td> <th>  Cond. No.          </th> <td>2.78e+16</td>\n",
              "</tr>\n",
              "</table><br/><br/>Warnings:<br/>[1] Standard Errors assume that the covariance matrix of the errors is correctly specified.<br/>[2] The condition number is large, 2.78e+16. This might indicate that there are<br/>strong multicollinearity or other numerical problems."
            ]
          },
          "metadata": {},
          "execution_count": 164
        }
      ]
    },
    {
      "cell_type": "code",
      "source": [
        ""
      ],
      "metadata": {
        "id": "16ffL5n4X6WW"
      },
      "execution_count": 164,
      "outputs": []
    },
    {
      "cell_type": "code",
      "source": [
        ""
      ],
      "metadata": {
        "id": "1kOXVHYTX6TZ"
      },
      "execution_count": 164,
      "outputs": []
    },
    {
      "cell_type": "code",
      "source": [
        ""
      ],
      "metadata": {
        "id": "lrWtx5ABX6Nt"
      },
      "execution_count": 164,
      "outputs": []
    },
    {
      "cell_type": "code",
      "source": [
        ""
      ],
      "metadata": {
        "id": "wucQ6pfTX6K6"
      },
      "execution_count": 164,
      "outputs": []
    },
    {
      "cell_type": "code",
      "source": [
        ""
      ],
      "metadata": {
        "id": "D5U735oHX6E4"
      },
      "execution_count": 164,
      "outputs": []
    },
    {
      "cell_type": "code",
      "source": [
        ""
      ],
      "metadata": {
        "id": "tpdFBttHWR4v"
      },
      "execution_count": 164,
      "outputs": []
    },
    {
      "cell_type": "markdown",
      "source": [
        "#### Prediction and Evaluation on Train Data"
      ],
      "metadata": {
        "id": "OqCecQO5XmBo"
      }
    },
    {
      "cell_type": "code",
      "execution_count": 165,
      "metadata": {
        "colab": {
          "base_uri": "https://localhost:8080/"
        },
        "id": "Kz36hSK59iFk",
        "outputId": "b30cfbc0-c7c3-4fbc-b500-a262ec38a3ec"
      },
      "outputs": [
        {
          "output_type": "stream",
          "name": "stdout",
          "text": [
            "MAE :  2.0640062483109753\n",
            "MSE :  20.869095545038228\n",
            "R2 Score :  0.2781406745717281\n"
          ]
        }
      ],
      "source": [
        "preds_train = my_model.predict(X_train)\n",
        "print('MAE : ', mean_absolute_error(y_train, preds_train))\n",
        "print('MSE : ', mean_squared_error(y_train, preds_train))\n",
        "print('R2 Score : ', my_model.score(X_train, y_train))"
      ]
    },
    {
      "cell_type": "markdown",
      "metadata": {
        "id": "Bm5CCAx79iFl"
      },
      "source": [
        "#### Prediction and Evaluation on Test Data"
      ]
    },
    {
      "cell_type": "code",
      "execution_count": 166,
      "metadata": {
        "colab": {
          "base_uri": "https://localhost:8080/"
        },
        "id": "22pUuBSP9iFl",
        "outputId": "9a74bb2a-3d57-44ad-98c4-9d4c4535da9b"
      },
      "outputs": [
        {
          "output_type": "stream",
          "name": "stdout",
          "text": [
            "MAE :  1.4467733129715226\n",
            "MSE :  3.344284228035241\n",
            "R2 score :  0.845164256019365\n"
          ]
        }
      ],
      "source": [
        "preds = my_model.predict(X_test)\n",
        "print('MAE : ', mean_absolute_error(y_test, preds))\n",
        "print('MSE : ', mean_squared_error(y_test, preds))\n",
        "print('R2 score : ', my_model.score(X_test, y_test)) "
      ]
    },
    {
      "cell_type": "code",
      "execution_count": 167,
      "metadata": {
        "id": "97Phb8TM9iFm"
      },
      "outputs": [],
      "source": [
        "m=100\n",
        "X= 6*np.random.rand(m,1) - 3\n",
        "y = 0.5 * X**2 + X + 2 + np.random.randn(m, 1)"
      ]
    },
    {
      "cell_type": "code",
      "execution_count": 168,
      "metadata": {
        "id": "C5Kj4HbH9iFo",
        "outputId": "4942efa8-87f6-44b6-9026-7c64839e533e",
        "colab": {
          "base_uri": "https://localhost:8080/",
          "height": 282
        }
      },
      "outputs": [
        {
          "output_type": "execute_result",
          "data": {
            "text/plain": [
              "<matplotlib.collections.PathCollection at 0x7fa2f71f0750>"
            ]
          },
          "metadata": {},
          "execution_count": 168
        },
        {
          "output_type": "display_data",
          "data": {
            "text/plain": [
              "<Figure size 432x288 with 1 Axes>"
            ],
            "image/png": "[encoded data removed]"
          },
          "metadata": {
            "needs_background": "light"
          }
        }
      ],
      "source": [
        "plt.scatter(X,y)"
      ]
    },
    {
      "cell_type": "code",
      "execution_count": 169,
      "metadata": {
        "id": "7Jiny0eV9iFp"
      },
      "outputs": [],
      "source": [
        "def learning_curves(model, X,y):    \n",
        "    X_train, X_test, y_train, y_test = train_test_split(X, y, random_state = 6)\n",
        "    train_errors, test_errors = [], []\n",
        "\n",
        "    for m in range(1, len(X_train)):\n",
        "        model.fit(X_train[:m], y_train[:m])\n",
        "        y_train_predict = model.predict(X_train[:m])\n",
        "        y_test_predict = model.predict(X_test)\n",
        "        train_errors.append(mean_squared_error(y_train[:m], y_train_predict))\n",
        "        test_errors.append(mean_squared_error(y_test, y_test_predict))\n",
        "\n",
        "    plt.plot(np.sqrt(train_errors), \"r-+\", label = 'train')\n",
        "    plt.plot(np.sqrt(test_errors), \"b-\", label = 'test')\n",
        "    plt.xlabel('Number of instances')\n",
        "    plt.ylabel('Error')\n",
        "    "
      ]
    },
    {
      "cell_type": "code",
      "execution_count": 170,
      "metadata": {
        "id": "IKn3_6RW9iFq",
        "outputId": "386f0d21-80de-463a-d7ce-67bcd32c3555",
        "colab": {
          "base_uri": "https://localhost:8080/",
          "height": 279
        }
      },
      "outputs": [
        {
          "output_type": "display_data",
          "data": {
            "text/plain": [
              "<Figure size 432x288 with 1 Axes>"
            ],
            "image/png": "[encoded data removed]"
          },
          "metadata": {
            "needs_background": "light"
          }
        }
      ],
      "source": [
        "my_lin_reg = LinearRegression()\n",
        "learning_curves(my_lin_reg, X, y)"
      ]
    },
    {
      "cell_type": "code",
      "execution_count": 171,
      "metadata": {
        "id": "50wPLIfp9iFv",
        "outputId": "5f7d92b1-b8e8-4220-9e4a-c1036fe26b36",
        "colab": {
          "base_uri": "https://localhost:8080/",
          "height": 279
        }
      },
      "outputs": [
        {
          "output_type": "display_data",
          "data": {
            "text/plain": [
              "<Figure size 432x288 with 1 Axes>"
            ],
            "image/png": "[encoded data removed]"
          },
          "metadata": {
            "needs_background": "light"
          }
        }
      ],
      "source": [
        "from sklearn.pipeline import Pipeline\n",
        "\n",
        "polynomial_regression = Pipeline([\n",
        "                    (\"poly_features\", PolynomialFeatures(degree=2)),\n",
        "                     ('lin_reg', LinearRegression()),\n",
        "                     ])\n",
        "\n",
        "learning_curves(polynomial_regression, X, y)"
      ]
    },
    {
      "cell_type": "code",
      "execution_count": 172,
      "metadata": {
        "id": "JTJ5ccId9iFw",
        "outputId": "3a85a3a0-625a-41ea-fb69-b215b9d0ff45",
        "colab": {
          "base_uri": "https://localhost:8080/",
          "height": 290
        }
      },
      "outputs": [
        {
          "output_type": "display_data",
          "data": {
            "text/plain": [
              "<Figure size 432x288 with 1 Axes>"
            ],
            "image/png": "[encoded data removed]"
          },
          "metadata": {
            "needs_background": "light"
          }
        }
      ],
      "source": [
        "from sklearn.pipeline import Pipeline\n",
        "\n",
        "polynomial_regression = Pipeline([\n",
        "                    (\"poly_features\", PolynomialFeatures(degree=10)),\n",
        "                     ('lin_reg', LinearRegression()),\n",
        "                     ])\n",
        "\n",
        "learning_curves(polynomial_regression, X, y)"
      ]
    },
    {
      "cell_type": "code",
      "execution_count": 173,
      "metadata": {
        "id": "LXykyfHf9iFx",
        "outputId": "aa5701a6-dcaf-4a49-9ed6-87c66a89c223",
        "colab": {
          "base_uri": "https://localhost:8080/",
          "height": 290
        }
      },
      "outputs": [
        {
          "output_type": "display_data",
          "data": {
            "text/plain": [
              "<Figure size 432x288 with 1 Axes>"
            ],
            "image/png": "[encoded data removed]"
          },
          "metadata": {
            "needs_background": "light"
          }
        }
      ],
      "source": [
        "from sklearn.pipeline import Pipeline\n",
        "\n",
        "polynomial_regression = Pipeline([\n",
        "                    (\"poly_features\", PolynomialFeatures(degree=50)),\n",
        "                     ('lin_reg', LinearRegression()),\n",
        "                     ])\n",
        "\n",
        "learning_curves(polynomial_regression, X, y)"
      ]
    },
    {
      "cell_type": "code",
      "execution_count": 173,
      "metadata": {
        "id": "ccpE1AxR9iFz"
      },
      "outputs": [],
      "source": [
        ""
      ]
    }
  ],
  "metadata": {
    "kernelspec": {
      "display_name": "Python 3",
      "language": "python",
      "name": "python3"
    },
    "language_info": {
      "codemirror_mode": {
        "name": "ipython",
        "version": 3
      },
      "file_extension": ".py",
      "mimetype": "text/x-python",
      "name": "python",
      "nbconvert_exporter": "python",
      "pygments_lexer": "ipython3",
      "version": "3.7.6"
    },
    "colab": {
      "name": "PolynomialRegression.ipynb",
      "provenance": [],
      "collapsed_sections": []
    }
  },
  "nbformat": 4,
  "nbformat_minor": 0
}