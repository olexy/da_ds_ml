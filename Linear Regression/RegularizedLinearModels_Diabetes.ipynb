{
  "cells": [
    {
      "cell_type": "code",
      "execution_count": 52,
      "metadata": {
        "collapsed": true,
        "jupyter": {
          "outputs_hidden": true
        },
        "tags": [],
        "colab": {
          "base_uri": "https://localhost:8080/"
        },
        "id": "K9nVlPGc17OO",
        "outputId": "b976f465-7fe1-410a-cee3-87fea0333eca"
      },
      "outputs": [
        {
          "output_type": "stream",
          "name": "stdout",
          "text": [
            "Requirement already satisfied: mglearn in /usr/local/lib/python3.7/dist-packages (0.1.9)\n",
            "Requirement already satisfied: scikit-learn in /usr/local/lib/python3.7/dist-packages (from mglearn) (1.0.2)\n",
            "Requirement already satisfied: joblib in /usr/local/lib/python3.7/dist-packages (from mglearn) (1.1.0)\n",
            "Requirement already satisfied: pillow in /usr/local/lib/python3.7/dist-packages (from mglearn) (7.1.2)\n",
            "Requirement already satisfied: cycler in /usr/local/lib/python3.7/dist-packages (from mglearn) (0.11.0)\n",
            "Requirement already satisfied: imageio in /usr/local/lib/python3.7/dist-packages (from mglearn) (2.4.1)\n",
            "Requirement already satisfied: pandas in /usr/local/lib/python3.7/dist-packages (from mglearn) (1.3.5)\n",
            "Requirement already satisfied: matplotlib in /usr/local/lib/python3.7/dist-packages (from mglearn) (3.2.2)\n",
            "Requirement already satisfied: numpy in /usr/local/lib/python3.7/dist-packages (from mglearn) (1.21.5)\n",
            "Requirement already satisfied: python-dateutil>=2.1 in /usr/local/lib/python3.7/dist-packages (from matplotlib->mglearn) (2.8.2)\n",
            "Requirement already satisfied: pyparsing!=2.0.4,!=2.1.2,!=2.1.6,>=2.0.1 in /usr/local/lib/python3.7/dist-packages (from matplotlib->mglearn) (3.0.8)\n",
            "Requirement already satisfied: kiwisolver>=1.0.1 in /usr/local/lib/python3.7/dist-packages (from matplotlib->mglearn) (1.4.2)\n",
            "Requirement already satisfied: typing-extensions in /usr/local/lib/python3.7/dist-packages (from kiwisolver>=1.0.1->matplotlib->mglearn) (4.1.1)\n",
            "Requirement already satisfied: six>=1.5 in /usr/local/lib/python3.7/dist-packages (from python-dateutil>=2.1->matplotlib->mglearn) (1.15.0)\n",
            "Requirement already satisfied: pytz>=2017.3 in /usr/local/lib/python3.7/dist-packages (from pandas->mglearn) (2018.9)\n",
            "Requirement already satisfied: threadpoolctl>=2.0.0 in /usr/local/lib/python3.7/dist-packages (from scikit-learn->mglearn) (3.1.0)\n",
            "Requirement already satisfied: scipy>=1.1.0 in /usr/local/lib/python3.7/dist-packages (from scikit-learn->mglearn) (1.4.1)\n"
          ]
        }
      ],
      "source": [
        "!pip install mglearn"
      ]
    },
    {
      "cell_type": "code",
      "execution_count": 53,
      "metadata": {
        "id": "vGfzzQzu17OW"
      },
      "outputs": [],
      "source": [
        "import mglearn\n",
        "import numpy as np\n",
        "import matplotlib.pyplot as plt\n",
        "import pandas as pd"
      ]
    },
    {
      "cell_type": "code",
      "execution_count": 54,
      "metadata": {
        "id": "ziO9569017OX"
      },
      "outputs": [],
      "source": [
        "from sklearn.metrics import mean_absolute_error, mean_squared_error"
      ]
    },
    {
      "cell_type": "code",
      "execution_count": 55,
      "metadata": {
        "id": "Sh0chmFh17OY"
      },
      "outputs": [],
      "source": [
        "from sklearn.model_selection import train_test_split\n",
        "from sklearn.linear_model import LinearRegression\n",
        "from sklearn.datasets import load_diabetes"
      ]
    },
    {
      "cell_type": "code",
      "source": [
        "# We load some test data\n",
        "data = load_diabetes()"
      ],
      "metadata": {
        "id": "Zp77x5l18CL-"
      },
      "execution_count": 56,
      "outputs": []
    },
    {
      "cell_type": "code",
      "source": [
        "# Put it in a data frame for future reference -- or you work from your own dataframe\n",
        "df = pd.DataFrame(data['data'])"
      ],
      "metadata": {
        "id": "wPmCdzH18kBE"
      },
      "execution_count": 57,
      "outputs": []
    },
    {
      "cell_type": "code",
      "source": [
        "df.head()"
      ],
      "metadata": {
        "colab": {
          "base_uri": "https://localhost:8080/",
          "height": 270
        },
        "id": "leUzrZYl9gsp",
        "outputId": "9839a627-a822-4caf-e21d-be4ee36dc331"
      },
      "execution_count": 58,
      "outputs": [
        {
          "output_type": "execute_result",
          "data": {
            "text/plain": [
              "          0         1         2         3         4         5         6  \\\n",
              "0  0.038076  0.050680  0.061696  0.021872 -0.044223 -0.034821 -0.043401   \n",
              "1 -0.001882 -0.044642 -0.051474 -0.026328 -0.008449 -0.019163  0.074412   \n",
              "2  0.085299  0.050680  0.044451 -0.005671 -0.045599 -0.034194 -0.032356   \n",
              "3 -0.089063 -0.044642 -0.011595 -0.036656  0.012191  0.024991 -0.036038   \n",
              "4  0.005383 -0.044642 -0.036385  0.021872  0.003935  0.015596  0.008142   \n",
              "\n",
              "          7         8         9  \n",
              "0 -0.002592  0.019908 -0.017646  \n",
              "1 -0.039493 -0.068330 -0.092204  \n",
              "2 -0.002592  0.002864 -0.025930  \n",
              "3  0.034309  0.022692 -0.009362  \n",
              "4 -0.002592 -0.031991 -0.046641  "
            ],
            "text/html": [
              "\n",
              "  <div id=\"df-09e99eb7-5b75-4086-a1f9-688a8308f04d\">\n",
              "    <div class=\"colab-df-container\">\n",
              "      <div>\n",
              "<style scoped>\n",
              "    .dataframe tbody tr th:only-of-type {\n",
              "        vertical-align: middle;\n",
              "    }\n",
              "\n",
              "    .dataframe tbody tr th {\n",
              "        vertical-align: top;\n",
              "    }\n",
              "\n",
              "    .dataframe thead th {\n",
              "        text-align: right;\n",
              "    }\n",
              "</style>\n",
              "<table border=\"1\" class=\"dataframe\">\n",
              "  <thead>\n",
              "    <tr style=\"text-align: right;\">\n",
              "      <th></th>\n",
              "      <th>0</th>\n",
              "      <th>1</th>\n",
              "      <th>2</th>\n",
              "      <th>3</th>\n",
              "      <th>4</th>\n",
              "      <th>5</th>\n",
              "      <th>6</th>\n",
              "      <th>7</th>\n",
              "      <th>8</th>\n",
              "      <th>9</th>\n",
              "    </tr>\n",
              "  </thead>\n",
              "  <tbody>\n",
              "    <tr>\n",
              "      <th>0</th>\n",
              "      <td>0.038076</td>\n",
              "      <td>0.050680</td>\n",
              "      <td>0.061696</td>\n",
              "      <td>0.021872</td>\n",
              "      <td>-0.044223</td>\n",
              "      <td>-0.034821</td>\n",
              "      <td>-0.043401</td>\n",
              "      <td>-0.002592</td>\n",
              "      <td>0.019908</td>\n",
              "      <td>-0.017646</td>\n",
              "    </tr>\n",
              "    <tr>\n",
              "      <th>1</th>\n",
              "      <td>-0.001882</td>\n",
              "      <td>-0.044642</td>\n",
              "      <td>-0.051474</td>\n",
              "      <td>-0.026328</td>\n",
              "      <td>-0.008449</td>\n",
              "      <td>-0.019163</td>\n",
              "      <td>0.074412</td>\n",
              "      <td>-0.039493</td>\n",
              "      <td>-0.068330</td>\n",
              "      <td>-0.092204</td>\n",
              "    </tr>\n",
              "    <tr>\n",
              "      <th>2</th>\n",
              "      <td>0.085299</td>\n",
              "      <td>0.050680</td>\n",
              "      <td>0.044451</td>\n",
              "      <td>-0.005671</td>\n",
              "      <td>-0.045599</td>\n",
              "      <td>-0.034194</td>\n",
              "      <td>-0.032356</td>\n",
              "      <td>-0.002592</td>\n",
              "      <td>0.002864</td>\n",
              "      <td>-0.025930</td>\n",
              "    </tr>\n",
              "    <tr>\n",
              "      <th>3</th>\n",
              "      <td>-0.089063</td>\n",
              "      <td>-0.044642</td>\n",
              "      <td>-0.011595</td>\n",
              "      <td>-0.036656</td>\n",
              "      <td>0.012191</td>\n",
              "      <td>0.024991</td>\n",
              "      <td>-0.036038</td>\n",
              "      <td>0.034309</td>\n",
              "      <td>0.022692</td>\n",
              "      <td>-0.009362</td>\n",
              "    </tr>\n",
              "    <tr>\n",
              "      <th>4</th>\n",
              "      <td>0.005383</td>\n",
              "      <td>-0.044642</td>\n",
              "      <td>-0.036385</td>\n",
              "      <td>0.021872</td>\n",
              "      <td>0.003935</td>\n",
              "      <td>0.015596</td>\n",
              "      <td>0.008142</td>\n",
              "      <td>-0.002592</td>\n",
              "      <td>-0.031991</td>\n",
              "      <td>-0.046641</td>\n",
              "    </tr>\n",
              "  </tbody>\n",
              "</table>\n",
              "</div>\n",
              "      <button class=\"colab-df-convert\" onclick=\"convertToInteractive('df-09e99eb7-5b75-4086-a1f9-688a8308f04d')\"\n",
              "              title=\"Convert this dataframe to an interactive table.\"\n",
              "              style=\"display:none;\">\n",
              "        \n",
              "  <svg xmlns=\"http://www.w3.org/2000/svg\" height=\"24px\"viewBox=\"0 0 24 24\"\n",
              "       width=\"24px\">\n",
              "    <path d=\"M0 0h24v24H0V0z\" fill=\"none\"/>\n",
              "    <path d=\"M18.56 5.44l.94 2.06.94-2.06 2.06-.94-2.06-.94-.94-2.06-.94 2.06-2.06.94zm-11 1L8.5 8.5l.94-2.06 2.06-.94-2.06-.94L8.5 2.5l-.94 2.06-2.06.94zm10 10l.94 2.06.94-2.06 2.06-.94-2.06-.94-.94-2.06-.94 2.06-2.06.94z\"/><path d=\"M17.41 7.96l-1.37-1.37c-.4-.4-.92-.59-1.43-.59-.52 0-1.04.2-1.43.59L10.3 9.45l-7.72 7.72c-.78.78-.78 2.05 0 2.83L4 21.41c.39.39.9.59 1.41.59.51 0 1.02-.2 1.41-.59l7.78-7.78 2.81-2.81c.8-.78.8-2.07 0-2.86zM5.41 20L4 18.59l7.72-7.72 1.47 1.35L5.41 20z\"/>\n",
              "  </svg>\n",
              "      </button>\n",
              "      \n",
              "  <style>\n",
              "    .colab-df-container {\n",
              "      display:flex;\n",
              "      flex-wrap:wrap;\n",
              "      gap: 12px;\n",
              "    }\n",
              "\n",
              "    .colab-df-convert {\n",
              "      background-color: #E8F0FE;\n",
              "      border: none;\n",
              "      border-radius: 50%;\n",
              "      cursor: pointer;\n",
              "      display: none;\n",
              "      fill: #1967D2;\n",
              "      height: 32px;\n",
              "      padding: 0 0 0 0;\n",
              "      width: 32px;\n",
              "    }\n",
              "\n",
              "    .colab-df-convert:hover {\n",
              "      background-color: #E2EBFA;\n",
              "      box-shadow: 0px 1px 2px rgba(60, 64, 67, 0.3), 0px 1px 3px 1px rgba(60, 64, 67, 0.15);\n",
              "      fill: #174EA6;\n",
              "    }\n",
              "\n",
              "    [theme=dark] .colab-df-convert {\n",
              "      background-color: #3B4455;\n",
              "      fill: #D2E3FC;\n",
              "    }\n",
              "\n",
              "    [theme=dark] .colab-df-convert:hover {\n",
              "      background-color: #434B5C;\n",
              "      box-shadow: 0px 1px 3px 1px rgba(0, 0, 0, 0.15);\n",
              "      filter: drop-shadow(0px 1px 2px rgba(0, 0, 0, 0.3));\n",
              "      fill: #FFFFFF;\n",
              "    }\n",
              "  </style>\n",
              "\n",
              "      <script>\n",
              "        const buttonEl =\n",
              "          document.querySelector('#df-09e99eb7-5b75-4086-a1f9-688a8308f04d button.colab-df-convert');\n",
              "        buttonEl.style.display =\n",
              "          google.colab.kernel.accessAllowed ? 'block' : 'none';\n",
              "\n",
              "        async function convertToInteractive(key) {\n",
              "          const element = document.querySelector('#df-09e99eb7-5b75-4086-a1f9-688a8308f04d');\n",
              "          const dataTable =\n",
              "            await google.colab.kernel.invokeFunction('convertToInteractive',\n",
              "                                                     [key], {});\n",
              "          if (!dataTable) return;\n",
              "\n",
              "          const docLinkHtml = 'Like what you see? Visit the ' +\n",
              "            '<a target=\"_blank\" href=https://colab.research.google.com/notebooks/data_table.ipynb>data table notebook</a>'\n",
              "            + ' to learn more about interactive tables.';\n",
              "          element.innerHTML = '';\n",
              "          dataTable['output_type'] = 'display_data';\n",
              "          await google.colab.output.renderOutput(dataTable, element);\n",
              "          const docLink = document.createElement('div');\n",
              "          docLink.innerHTML = docLinkHtml;\n",
              "          element.appendChild(docLink);\n",
              "        }\n",
              "      </script>\n",
              "    </div>\n",
              "  </div>\n",
              "  "
            ]
          },
          "metadata": {},
          "execution_count": 58
        }
      ]
    },
    {
      "cell_type": "code",
      "source": [
        "# We only want variables / columns 0, 1, 3, 4, 5 (this could be any column slice / mask you want to use)\n",
        "predictor_variables = [0,1,2,3,4,5,6,7,8,9]\n",
        "X = df[predictor_variables]\n",
        "y = data['target']"
      ],
      "metadata": {
        "id": "wOU44Zlk8sqP"
      },
      "execution_count": 59,
      "outputs": []
    },
    {
      "cell_type": "code",
      "execution_count": 60,
      "metadata": {
        "id": "bgXweOnP17OZ"
      },
      "outputs": [],
      "source": [
        "# Split our data by 70% training (for fitting) and 30% testing (for prediction)\n",
        "#X_train, x_test, Y_train, y_test = train_test_split(X, y, train_size=.7)\n",
        "X_train, X_test, y_train, y_test = train_test_split(X,y,random_state=0)\n"
      ]
    },
    {
      "cell_type": "markdown",
      "metadata": {
        "id": "87QeBhLU17Oa"
      },
      "source": [
        "#### Linear Regression"
      ]
    },
    {
      "cell_type": "code",
      "execution_count": 61,
      "metadata": {
        "id": "lZvWpJaW17Od"
      },
      "outputs": [],
      "source": [
        "my_linear_reg = LinearRegression().fit(X_train, y_train)"
      ]
    },
    {
      "cell_type": "code",
      "execution_count": 62,
      "metadata": {
        "colab": {
          "base_uri": "https://localhost:8080/"
        },
        "id": "PsZdvmxz17Of",
        "outputId": "2877705a-d6ba-4aa6-c558-aeb9d2cd3519"
      },
      "outputs": [
        {
          "output_type": "stream",
          "name": "stdout",
          "text": [
            "TRAIN DATA RESULTS\n",
            "Mean Absolute Error on Train data :  42.85435785782478\n",
            "Mean Squared Error on Train data :  2780.062316059081\n",
            "Training Set R squared score :  0.555437148935302\n",
            "\n",
            "TEST DATA RESULTS\n",
            "Mean Absolute Error on Test data :  45.120987683251016\n",
            "Mean Squared Error on Test data :  3180.1988368427274\n",
            "Test Set R squared score :  0.35940090989715534\n"
          ]
        }
      ],
      "source": [
        "my_preds_train = my_linear_reg.predict(X_train)\n",
        "my_preds_test = my_linear_reg.predict(X_test)\n",
        "\n",
        "print('TRAIN DATA RESULTS')\n",
        "print(\"Mean Absolute Error on Train data : \", mean_absolute_error(y_train, my_preds_train))\n",
        "print(\"Mean Squared Error on Train data : \", mean_squared_error(y_train, my_preds_train))\n",
        "print('Training Set R squared score : ', my_linear_reg.score(X_train, y_train))\n",
        "\n",
        "print('\\nTEST DATA RESULTS')\n",
        "print(\"Mean Absolute Error on Test data : \", mean_absolute_error(y_test, my_preds_test))\n",
        "print(\"Mean Squared Error on Test data : \", mean_squared_error(y_test, my_preds_test))\n",
        "print('Test Set R squared score : ', my_linear_reg.score(X_test, y_test))"
      ]
    },
    {
      "cell_type": "code",
      "execution_count": 63,
      "metadata": {
        "colab": {
          "base_uri": "https://localhost:8080/",
          "height": 296
        },
        "id": "-1PAtowq17Oi",
        "outputId": "1d0b6bc2-f113-47b8-ec86-3419c600d65c"
      },
      "outputs": [
        {
          "output_type": "execute_result",
          "data": {
            "text/plain": [
              "<matplotlib.legend.Legend at 0x7f3ec0803150>"
            ]
          },
          "metadata": {},
          "execution_count": 63
        },
        {
          "output_type": "display_data",
          "data": {
            "text/plain": [
              "<Figure size 432x288 with 1 Axes>"
            ],
            "image/png": "[encoded data removed]"
          },
          "metadata": {
            "needs_background": "light"
          }
        }
      ],
      "source": [
        "plt.plot(my_linear_reg.coef_,'x', label = 'LinearRegression')\n",
        "plt.xlabel('Coefficient index')\n",
        "plt.ylabel('Coefficient Magnitude')\n",
        "plt.legend()"
      ]
    },
    {
      "cell_type": "markdown",
      "metadata": {
        "id": "62APsm-T17Ok"
      },
      "source": [
        "#### Ridge Regression"
      ]
    },
    {
      "cell_type": "code",
      "execution_count": 64,
      "metadata": {
        "colab": {
          "base_uri": "https://localhost:8080/"
        },
        "id": "YIFZE_9t17Ol",
        "outputId": "18439d35-2247-4f38-b125-d6ddc4dbeee1"
      },
      "outputs": [
        {
          "output_type": "stream",
          "name": "stdout",
          "text": [
            "TRAIN DATA RESULTS\n",
            "Mean Absolute Error on Train data :  49.35150940723046\n",
            "Mean Squared Error on Train data :  3360.9674616534408\n",
            "Training Set R squared score :  0.4625439622495925\n",
            "\n",
            "TEST DATA RESULTS\n",
            "Mean Absolute Error on Test data :  44.922730901372184\n",
            "Mean Squared Error on Test data :  3192.3285539937624\n",
            "Test Set R squared score :  0.35695757658096805\n"
          ]
        }
      ],
      "source": [
        "from sklearn.linear_model import Ridge\n",
        "\n",
        "my_ridge_model = Ridge().fit(X_train, y_train)\n",
        "\n",
        "my_preds_train = my_ridge_model.predict(X_train)\n",
        "my_preds_test = my_ridge_model.predict(X_test)\n",
        "\n",
        "print('TRAIN DATA RESULTS')\n",
        "print(\"Mean Absolute Error on Train data : \", mean_absolute_error(y_train, my_preds_train))\n",
        "print(\"Mean Squared Error on Train data : \", mean_squared_error(y_train, my_preds_train))\n",
        "print('Training Set R squared score : ', my_ridge_model.score(X_train, y_train))\n",
        "\n",
        "print('\\nTEST DATA RESULTS')\n",
        "print(\"Mean Absolute Error on Test data : \", mean_absolute_error(y_test, my_preds_test))\n",
        "print(\"Mean Squared Error on Test data : \", mean_squared_error(y_test, my_preds_test))\n",
        "print('Test Set R squared score : ', my_ridge_model.score(X_test, y_test))"
      ]
    },
    {
      "cell_type": "code",
      "execution_count": 65,
      "metadata": {
        "colab": {
          "base_uri": "https://localhost:8080/",
          "height": 296
        },
        "id": "2j68vpzi17Om",
        "outputId": "4b806958-cafe-4514-c997-f29c5dc796e6"
      },
      "outputs": [
        {
          "output_type": "execute_result",
          "data": {
            "text/plain": [
              "<matplotlib.legend.Legend at 0x7f3ec0736f10>"
            ]
          },
          "metadata": {},
          "execution_count": 65
        },
        {
          "output_type": "display_data",
          "data": {
            "text/plain": [
              "<Figure size 432x288 with 1 Axes>"
            ],
            "image/png": "[encoded data removed]"
          },
          "metadata": {
            "needs_background": "light"
          }
        }
      ],
      "source": [
        "plt.plot(my_ridge_model.coef_, '.', label ='RidgeRegression')\n",
        "plt.plot(my_linear_reg.coef_,'x', label ='LinearRegression')\n",
        "plt.xlabel('Coefficient index')\n",
        "plt.ylabel('Coefficient Magnitude')\n",
        "plt.ylim(-50,50)\n",
        "plt.legend()"
      ]
    },
    {
      "cell_type": "code",
      "execution_count": 66,
      "metadata": {
        "colab": {
          "base_uri": "https://localhost:8080/"
        },
        "id": "KN346Q-E17On",
        "outputId": "8fd27c36-7e13-42ac-cbcf-538c19fe1cdb"
      },
      "outputs": [
        {
          "output_type": "stream",
          "name": "stdout",
          "text": [
            "TRAIN DATA RESULTS\n",
            "Mean Absolute Error on Train data :  62.50054501132881\n",
            "Mean Squared Error on Train data :  5182.1657710189165\n",
            "Training Set R squared score :  0.17131411891520387\n",
            "\n",
            "TEST DATA RESULTS\n",
            "Mean Absolute Error on Test data :  53.43623067733311\n",
            "Mean Squared Error on Test data :  4252.86012799227\n",
            "Test Set R squared score :  0.14333082046176293\n"
          ]
        }
      ],
      "source": [
        "my_ridge_model = Ridge(alpha=10).fit(X_train, y_train)\n",
        "\n",
        "my_preds_train = my_ridge_model.predict(X_train)\n",
        "my_preds_test = my_ridge_model.predict(X_test)\n",
        "\n",
        "print('TRAIN DATA RESULTS')\n",
        "print(\"Mean Absolute Error on Train data : \", mean_absolute_error(y_train, my_preds_train))\n",
        "print(\"Mean Squared Error on Train data : \", mean_squared_error(y_train, my_preds_train))\n",
        "print('Training Set R squared score : ', my_ridge_model.score(X_train, y_train))\n",
        "\n",
        "print('\\nTEST DATA RESULTS')\n",
        "print(\"Mean Absolute Error on Test data : \", mean_absolute_error(y_test, my_preds_test))\n",
        "print(\"Mean Squared Error on Test data : \", mean_squared_error(y_test, my_preds_test))\n",
        "print('Test Set R squared score : ', my_ridge_model.score(X_test, y_test))"
      ]
    },
    {
      "cell_type": "code",
      "execution_count": 67,
      "metadata": {
        "colab": {
          "base_uri": "https://localhost:8080/",
          "height": 296
        },
        "id": "8Naj1zt117Oo",
        "outputId": "5c5859d4-492d-401c-a521-f014a91ca11d"
      },
      "outputs": [
        {
          "output_type": "execute_result",
          "data": {
            "text/plain": [
              "<matplotlib.legend.Legend at 0x7f3ec06ae9d0>"
            ]
          },
          "metadata": {},
          "execution_count": 67
        },
        {
          "output_type": "display_data",
          "data": {
            "text/plain": [
              "<Figure size 432x288 with 1 Axes>"
            ],
            "image/png": "[encoded data removed]"
          },
          "metadata": {
            "needs_background": "light"
          }
        }
      ],
      "source": [
        "plt.plot(my_ridge_model.coef_, '.', label ='RidgeRegression')\n",
        "plt.plot(my_linear_reg.coef_,'x', label ='LinearRegression')\n",
        "plt.xlabel('Coefficient index')\n",
        "plt.ylabel('Coefficient Magnitude')\n",
        "plt.ylim(-50,50)\n",
        "plt.legend()"
      ]
    },
    {
      "cell_type": "code",
      "execution_count": 68,
      "metadata": {
        "colab": {
          "base_uri": "https://localhost:8080/"
        },
        "id": "vbrPauR417Op",
        "outputId": "6ab06a6c-aa1a-4766-cbfc-c1e0fcc9d767"
      },
      "outputs": [
        {
          "output_type": "stream",
          "name": "stdout",
          "text": [
            "TRAIN DATA RESULTS\n",
            "Mean Absolute Error on Train data :  44.94664039334743\n",
            "Mean Squared Error on Train data :  2922.7961665495045\n",
            "Training Set R squared score :  0.5326124204567636\n",
            "\n",
            "TEST DATA RESULTS\n",
            "Mean Absolute Error on Test data :  43.944106580273676\n",
            "Mean Squared Error on Test data :  3077.2009573119235\n",
            "Test Set R squared score :  0.38014814970668254\n"
          ]
        }
      ],
      "source": [
        "from sklearn.linear_model import Ridge\n",
        "\n",
        "my_ridge_model = Ridge(alpha=0.3).fit(X_train, y_train)\n",
        "\n",
        "my_preds_train = my_ridge_model.predict(X_train)\n",
        "my_preds_test = my_ridge_model.predict(X_test)\n",
        "\n",
        "print('TRAIN DATA RESULTS')\n",
        "print(\"Mean Absolute Error on Train data : \", mean_absolute_error(y_train, my_preds_train))\n",
        "print(\"Mean Squared Error on Train data : \", mean_squared_error(y_train, my_preds_train))\n",
        "print('Training Set R squared score : ', my_ridge_model.score(X_train, y_train))\n",
        "\n",
        "print('\\nTEST DATA RESULTS')\n",
        "print(\"Mean Absolute Error on Test data : \", mean_absolute_error(y_test, my_preds_test))\n",
        "print(\"Mean Squared Error on Test data : \", mean_squared_error(y_test, my_preds_test))\n",
        "print('Test Set R squared score : ', my_ridge_model.score(X_test, y_test))"
      ]
    },
    {
      "cell_type": "code",
      "execution_count": 69,
      "metadata": {
        "colab": {
          "base_uri": "https://localhost:8080/",
          "height": 296
        },
        "id": "Kpy9tATp17Oq",
        "outputId": "b9cd9b98-deb6-4158-b8cf-9f79f0a77b06"
      },
      "outputs": [
        {
          "output_type": "execute_result",
          "data": {
            "text/plain": [
              "<matplotlib.legend.Legend at 0x7f3ec06e0cd0>"
            ]
          },
          "metadata": {},
          "execution_count": 69
        },
        {
          "output_type": "display_data",
          "data": {
            "text/plain": [
              "<Figure size 432x288 with 1 Axes>"
            ],
            "image/png": "[encoded data removed]"
          },
          "metadata": {
            "needs_background": "light"
          }
        }
      ],
      "source": [
        "plt.plot(my_ridge_model.coef_, '.', label ='RidgeRegression')\n",
        "plt.plot(my_linear_reg.coef_,'x', label ='LinearRegression')\n",
        "plt.xlabel('Coefficient index')\n",
        "plt.ylabel('Coefficient Magnitude')\n",
        "plt.ylim(-50,50)\n",
        "plt.legend()"
      ]
    },
    {
      "cell_type": "markdown",
      "metadata": {
        "id": "F7MkfNsE17Or"
      },
      "source": [
        "#### Lasso Regression"
      ]
    },
    {
      "cell_type": "code",
      "execution_count": 70,
      "metadata": {
        "id": "hHvADz1C17Or"
      },
      "outputs": [],
      "source": [
        "from sklearn.linear_model import Lasso"
      ]
    },
    {
      "cell_type": "code",
      "execution_count": 71,
      "metadata": {
        "colab": {
          "base_uri": "https://localhost:8080/"
        },
        "id": "jo7O8w5d17Os",
        "outputId": "877b5459-a19b-4c01-9aed-d2993fdf70d5"
      },
      "outputs": [
        {
          "output_type": "stream",
          "name": "stdout",
          "text": [
            "TRAIN DATA RESULTS\n",
            "Mean Absolute Error on Train data :  52.20914753496101\n",
            "Mean Squared Error on Train data :  3663.7514100882267\n",
            "Training Set R squared score :  0.41412544493966097\n",
            "\n",
            "TEST DATA RESULTS\n",
            "Mean Absolute Error on Test data :  48.346553366035266\n",
            "Mean Squared Error on Test data :  3583.4215227615487\n",
            "Test Set R squared score :  0.27817828862078764\n"
          ]
        }
      ],
      "source": [
        "my_lasso = Lasso().fit(X_train, y_train)\n",
        "\n",
        "my_preds_train = my_lasso.predict(X_train)\n",
        "my_preds_test = my_lasso.predict(X_test)\n",
        "\n",
        "print('TRAIN DATA RESULTS')\n",
        "print(\"Mean Absolute Error on Train data : \", mean_absolute_error(y_train, my_preds_train))\n",
        "print(\"Mean Squared Error on Train data : \", mean_squared_error(y_train, my_preds_train))\n",
        "print('Training Set R squared score : ', my_lasso.score(X_train, y_train))\n",
        "\n",
        "print('\\nTEST DATA RESULTS')\n",
        "print(\"Mean Absolute Error on Test data : \", mean_absolute_error(y_test, my_preds_test))\n",
        "print(\"Mean Squared Error on Test data : \", mean_squared_error(y_test, my_preds_test))\n",
        "print('Test Set R squared score : ', my_lasso.score(X_test, y_test))"
      ]
    },
    {
      "cell_type": "code",
      "execution_count": 72,
      "metadata": {
        "colab": {
          "base_uri": "https://localhost:8080/"
        },
        "id": "7kMT1l-417Ot",
        "outputId": "3821108b-39ab-4978-d0e8-c54d1a877950"
      },
      "outputs": [
        {
          "output_type": "execute_result",
          "data": {
            "text/plain": [
              "array([  0.        ,  -0.        , 442.67992538,   0.        ,\n",
              "         0.        ,   0.        ,  -0.        ,   0.        ,\n",
              "       330.76014648,   0.        ])"
            ]
          },
          "metadata": {},
          "execution_count": 72
        }
      ],
      "source": [
        "my_lasso.coef_"
      ]
    },
    {
      "cell_type": "code",
      "execution_count": 73,
      "metadata": {
        "colab": {
          "base_uri": "https://localhost:8080/"
        },
        "id": "ZYguPiHC17Ou",
        "outputId": "bb7dad4c-de07-45eb-d5ab-ebb32c0ed8b0"
      },
      "outputs": [
        {
          "output_type": "execute_result",
          "data": {
            "text/plain": [
              "0.019230769230769232"
            ]
          },
          "metadata": {},
          "execution_count": 73
        }
      ],
      "source": [
        "np.sum(my_lasso.coef_!=0)/104"
      ]
    },
    {
      "cell_type": "code",
      "execution_count": 74,
      "metadata": {
        "colab": {
          "base_uri": "https://localhost:8080/"
        },
        "id": "wFGzVSlg17Ou",
        "outputId": "801617c0-e21a-497b-a148-edf50078940a"
      },
      "outputs": [
        {
          "output_type": "stream",
          "name": "stdout",
          "text": [
            "TRAIN DATA RESULTS\n",
            "Mean Absolute Error on Train data :  42.91525809963113\n",
            "Mean Squared Error on Train data :  2785.168015420135\n",
            "Training Set R squared score :  0.5546206908827188\n",
            "\n",
            "TEST DATA RESULTS\n",
            "Mean Absolute Error on Test data :  45.30755110342591\n",
            "Mean Squared Error on Test data :  3206.442081410545\n",
            "Test Set R squared score :  0.3541146371029106\n"
          ]
        }
      ],
      "source": [
        "my_lasso = Lasso(alpha=.01).fit(X_train, y_train)\n",
        "\n",
        "my_preds_train = my_lasso.predict(X_train)\n",
        "my_preds_test = my_lasso.predict(X_test)\n",
        "\n",
        "print('TRAIN DATA RESULTS')\n",
        "print(\"Mean Absolute Error on Train data : \", mean_absolute_error(y_train, my_preds_train))\n",
        "print(\"Mean Squared Error on Train data : \", mean_squared_error(y_train, my_preds_train))\n",
        "print('Training Set R squared score : ', my_lasso.score(X_train, y_train))\n",
        "\n",
        "print('\\nTEST DATA RESULTS')\n",
        "print(\"Mean Absolute Error on Test data : \", mean_absolute_error(y_test, my_preds_test))\n",
        "print(\"Mean Squared Error on Test data : \", mean_squared_error(y_test, my_preds_test))\n",
        "print('Test Set R squared score : ', my_lasso.score(X_test, y_test))"
      ]
    },
    {
      "cell_type": "code",
      "execution_count": 75,
      "metadata": {
        "colab": {
          "base_uri": "https://localhost:8080/"
        },
        "id": "MsXHF-mi17Ov",
        "outputId": "49040d72-3fd7-43ef-c921-b26733732f51"
      },
      "outputs": [
        {
          "output_type": "stream",
          "name": "stdout",
          "text": [
            "TRAIN DATA RESULTS\n",
            "Mean Absolute Error on Train data :  42.91525809963113\n",
            "Mean Squared Error on Train data :  2785.168015420135\n",
            "Training Set R squared score :  0.5546206908827188\n",
            "\n",
            "TEST DATA RESULTS\n",
            "Mean Absolute Error on Test data :  45.30755110342591\n",
            "Mean Squared Error on Test data :  3206.442081410545\n",
            "Test Set R squared score :  0.3541146371029106\n"
          ]
        }
      ],
      "source": [
        "my_lasso = Lasso(alpha=.01, max_iter=100000).fit(X_train, y_train)\n",
        "\n",
        "my_preds_train = my_lasso.predict(X_train)\n",
        "my_preds_test = my_lasso.predict(X_test)\n",
        "\n",
        "print('TRAIN DATA RESULTS')\n",
        "print(\"Mean Absolute Error on Train data : \", mean_absolute_error(y_train, my_preds_train))\n",
        "print(\"Mean Squared Error on Train data : \", mean_squared_error(y_train, my_preds_train))\n",
        "print('Training Set R squared score : ', my_lasso.score(X_train, y_train))\n",
        "\n",
        "print('\\nTEST DATA RESULTS')\n",
        "print(\"Mean Absolute Error on Test data : \", mean_absolute_error(y_test, my_preds_test))\n",
        "print(\"Mean Squared Error on Test data : \", mean_squared_error(y_test, my_preds_test))\n",
        "print('Test Set R squared score : ', my_lasso.score(X_test, y_test))"
      ]
    },
    {
      "cell_type": "code",
      "execution_count": 76,
      "metadata": {
        "colab": {
          "base_uri": "https://localhost:8080/"
        },
        "id": "ATEWkndy17Ow",
        "outputId": "00e82467-af8b-4b1d-e5d8-11b6af8a43df"
      },
      "outputs": [
        {
          "output_type": "execute_result",
          "data": {
            "text/plain": [
              "9"
            ]
          },
          "metadata": {},
          "execution_count": 76
        }
      ],
      "source": [
        "np.sum(my_lasso.coef_!=0)"
      ]
    },
    {
      "cell_type": "code",
      "execution_count": 77,
      "metadata": {
        "colab": {
          "base_uri": "https://localhost:8080/"
        },
        "id": "_stpVG7X17Ow",
        "outputId": "9a0e0fc4-f6d6-4025-fff0-90c418d22c13"
      },
      "outputs": [
        {
          "output_type": "stream",
          "name": "stdout",
          "text": [
            "TRAIN DATA RESULTS\n",
            "Mean Absolute Error on Train data :  42.8542170577988\n",
            "Mean Squared Error on Train data :  2780.0631896838486\n",
            "Training Set R squared score :  0.5554370092329957\n",
            "\n",
            "TEST DATA RESULTS\n",
            "Mean Absolute Error on Test data :  45.12355574758288\n",
            "Mean Squared Error on Test data :  3180.51585578708\n",
            "Test Set R squared score :  0.3593370516110177\n"
          ]
        }
      ],
      "source": [
        "my_lasso = Lasso(alpha=.0001, max_iter=100000).fit(X_train, y_train)\n",
        "\n",
        "my_preds_train = my_lasso.predict(X_train)\n",
        "my_preds_test = my_lasso.predict(X_test)\n",
        "\n",
        "print('TRAIN DATA RESULTS')\n",
        "print(\"Mean Absolute Error on Train data : \", mean_absolute_error(y_train, my_preds_train))\n",
        "print(\"Mean Squared Error on Train data : \", mean_squared_error(y_train, my_preds_train))\n",
        "print('Training Set R squared score : ', my_lasso.score(X_train, y_train))\n",
        "\n",
        "print('\\nTEST DATA RESULTS')\n",
        "print(\"Mean Absolute Error on Test data : \", mean_absolute_error(y_test, my_preds_test))\n",
        "print(\"Mean Squared Error on Test data : \", mean_squared_error(y_test, my_preds_test))\n",
        "print('Test Set R squared score : ', my_lasso.score(X_test, y_test))"
      ]
    },
    {
      "cell_type": "code",
      "execution_count": 78,
      "metadata": {
        "id": "z-2KlOd017Ox"
      },
      "outputs": [],
      "source": [
        "from sklearn.linear_model import ElasticNet"
      ]
    },
    {
      "cell_type": "code",
      "execution_count": 79,
      "metadata": {
        "colab": {
          "base_uri": "https://localhost:8080/"
        },
        "id": "cSTeoWl617Ox",
        "outputId": "aba677f7-aa34-40ef-c03c-0ce76a57c96c"
      },
      "outputs": [
        {
          "output_type": "stream",
          "name": "stdout",
          "text": [
            "TRAIN DATA RESULTS\n",
            "Mean Absolute Error on Train data :  67.90861206234469\n",
            "Mean Squared Error on Train data :  6189.035568868104\n",
            "Training Set R squared score :  0.010304451830727368\n",
            "\n",
            "TEST DATA RESULTS\n",
            "Mean Absolute Error on Test data :  58.037757406519795\n",
            "Mean Squared Error on Test data :  4922.355075721768\n",
            "Test Set R squared score :  0.008472003027015784\n"
          ]
        }
      ],
      "source": [
        "my_ElasticNet = ElasticNet().fit(X_train, y_train)\n",
        "\n",
        "my_preds_train = my_ElasticNet.predict(X_train)\n",
        "my_preds_test = my_ElasticNet.predict(X_test)\n",
        "\n",
        "print('TRAIN DATA RESULTS')\n",
        "print(\"Mean Absolute Error on Train data : \", mean_absolute_error(y_train, my_preds_train))\n",
        "print(\"Mean Squared Error on Train data : \", mean_squared_error(y_train, my_preds_train))\n",
        "print('Training Set R squared score : ', my_ElasticNet.score(X_train, y_train))\n",
        "\n",
        "print('\\nTEST DATA RESULTS')\n",
        "print(\"Mean Absolute Error on Test data : \", mean_absolute_error(y_test, my_preds_test))\n",
        "print(\"Mean Squared Error on Test data : \", mean_squared_error(y_test, my_preds_test))\n",
        "print('Test Set R squared score : ', my_ElasticNet.score(X_test, y_test))"
      ]
    },
    {
      "cell_type": "code",
      "execution_count": 80,
      "metadata": {
        "id": "P3LHuoOh17Oy"
      },
      "outputs": [],
      "source": [
        "from sklearn.model_selection import GridSearchCV"
      ]
    },
    {
      "cell_type": "code",
      "execution_count": 81,
      "metadata": {
        "colab": {
          "base_uri": "https://localhost:8080/"
        },
        "id": "q6vV9eKw17Oy",
        "outputId": "61edec99-9fed-4f7f-d3a5-b75915029b59"
      },
      "outputs": [
        {
          "output_type": "execute_result",
          "data": {
            "text/plain": [
              "GridSearchCV(cv=3, estimator=ElasticNet(),\n",
              "             param_grid={'alpha': [0.001, 0.01, 0.1, 0.2, 0.5, 0.8, 1],\n",
              "                         'max_iter': [1500, 10000, 100000]})"
            ]
          },
          "metadata": {},
          "execution_count": 81
        }
      ],
      "source": [
        "params = {'alpha':[0.001, 0.01, 0.1, 0.2, 0.5, 0.8, 1], 'max_iter':[1500, 10000, 100000]}\n",
        "grid_search = GridSearchCV(my_ElasticNet, params, cv = 3)\n",
        "grid_search.fit(X_train, y_train)"
      ]
    },
    {
      "cell_type": "code",
      "execution_count": 82,
      "metadata": {
        "colab": {
          "base_uri": "https://localhost:8080/"
        },
        "id": "-0dIt4Dr17Oy",
        "outputId": "2441a3e5-4568-4fc0-86a5-3235296b8a91"
      },
      "outputs": [
        {
          "output_type": "execute_result",
          "data": {
            "text/plain": [
              "{'alpha': 0.001, 'max_iter': 1500}"
            ]
          },
          "metadata": {},
          "execution_count": 82
        }
      ],
      "source": [
        "grid_search.best_params_"
      ]
    },
    {
      "cell_type": "code",
      "execution_count": 83,
      "metadata": {
        "colab": {
          "base_uri": "https://localhost:8080/"
        },
        "id": "_geugJ7L17Oz",
        "outputId": "479d6997-06e9-4328-d023-bc2f3abccff6"
      },
      "outputs": [
        {
          "output_type": "stream",
          "name": "stdout",
          "text": [
            "TRAIN DATA RESULTS\n",
            "Mean Absolute Error on Train data :  43.914481342069465\n",
            "Mean Squared Error on Train data :  2843.7905568988426\n",
            "Training Set R squared score :  0.5452462951988923\n",
            "\n",
            "TEST DATA RESULTS\n",
            "Mean Absolute Error on Test data :  44.284128354158526\n",
            "Mean Squared Error on Test data :  3102.2471802484497\n",
            "Test Set R squared score :  0.3751029973603026\n"
          ]
        }
      ],
      "source": [
        "my_preds_train = grid_search.predict(X_train)\n",
        "my_preds_test = grid_search.predict(X_test)\n",
        "\n",
        "print('TRAIN DATA RESULTS')\n",
        "print(\"Mean Absolute Error on Train data : \", mean_absolute_error(y_train, my_preds_train))\n",
        "print(\"Mean Squared Error on Train data : \", mean_squared_error(y_train, my_preds_train))\n",
        "print('Training Set R squared score : ', grid_search.score(X_train, y_train))\n",
        "\n",
        "print('\\nTEST DATA RESULTS')\n",
        "print(\"Mean Absolute Error on Test data : \", mean_absolute_error(y_test, my_preds_test))\n",
        "print(\"Mean Squared Error on Test data : \", mean_squared_error(y_test, my_preds_test))\n",
        "print('Test Set R squared score : ', grid_search.score(X_test, y_test))"
      ]
    },
    {
      "cell_type": "code",
      "execution_count": 83,
      "metadata": {
        "id": "nkkxMxUV17Oz"
      },
      "outputs": [],
      "source": [
        ""
      ]
    }
  ],
  "metadata": {
    "kernelspec": {
      "display_name": "Python 3",
      "language": "python",
      "name": "python3"
    },
    "language_info": {
      "codemirror_mode": {
        "name": "ipython",
        "version": 3
      },
      "file_extension": ".py",
      "mimetype": "text/x-python",
      "name": "python",
      "nbconvert_exporter": "python",
      "pygments_lexer": "ipython3",
      "version": "3.7.6"
    },
    "colab": {
      "name": "RegularizedLinearModels_Diabetes.ipynb",
      "provenance": []
    }
  },
  "nbformat": 4,
  "nbformat_minor": 0
}