{
 "cells": [
  {
   "cell_type": "code",
   "execution_count": 1,
   "metadata": {},
   "outputs": [],
   "source": [
    "# let's create a simple html file here \n",
    "\n",
    "html_doc =\"\"\"\n",
    "<html> \n",
    "<head> <title> This is the title of the HTML document </title>\n",
    "</head>\n",
    "\n",
    "<body>\n",
    "<h1> My First HTML document</h1>\n",
    "<b><!--This is a commented data.Not anymore relevant.--></b>\n",
    "<p title=\"BeautifulSoup\", class =\"one\" >My first Paragraph</p>\n",
    "<p> My second paragraph </p>\n",
    "<div class =\"cities\">\n",
    "<h2> London</h2>\n",
    "</div>\n",
    "</body>\n",
    "</html>\"\"\""
   ]
  },
  {
   "cell_type": "markdown",
   "metadata": {},
   "source": [
    "# Let's begin scraping the simple html based web page"
   ]
  },
  {
   "cell_type": "code",
   "execution_count": 4,
   "metadata": {},
   "outputs": [],
   "source": [
    "from bs4 import BeautifulSoup \n",
    "\n",
    "simple_soup = BeautifulSoup(html_doc , \"html.parser\")"
   ]
  },
  {
   "cell_type": "code",
   "execution_count": 5,
   "metadata": {},
   "outputs": [
    {
     "name": "stdout",
     "output_type": "stream",
     "text": [
      "\n",
      "<html>\n",
      "<head> <title> This is the title of the HTML document </title>\n",
      "</head>\n",
      "<body>\n",
      "<h1> My First HTML document</h1>\n",
      "<b><!--This is a commented data.Not anymore relevant.--></b>\n",
      "<p ,=\"\" class=\"one\" title=\"BeautifulSoup\">My first Paragraph</p>\n",
      "<p> My second paragraph </p>\n",
      "<div class=\"cities\">\n",
      "<h2> London</h2>\n",
      "</div>\n",
      "</body>\n",
      "</html>\n"
     ]
    }
   ],
   "source": [
    "print(simple_soup)"
   ]
  },
  {
   "cell_type": "code",
   "execution_count": 4,
   "metadata": {},
   "outputs": [
    {
     "name": "stdout",
     "output_type": "stream",
     "text": [
      "<class 'bs4.BeautifulSoup'>\n"
     ]
    }
   ],
   "source": [
    "print(type(simple_soup))"
   ]
  },
  {
   "cell_type": "markdown",
   "metadata": {},
   "source": [
    "#### how to print the contents present in the tag?"
   ]
  },
  {
   "cell_type": "code",
   "execution_count": 5,
   "metadata": {},
   "outputs": [
    {
     "name": "stdout",
     "output_type": "stream",
     "text": [
      "<h1> My First HTML document</h1>\n"
     ]
    }
   ],
   "source": [
    "# access the tag\n",
    "print(simple_soup.h1)"
   ]
  },
  {
   "cell_type": "code",
   "execution_count": 6,
   "metadata": {},
   "outputs": [
    {
     "name": "stdout",
     "output_type": "stream",
     "text": [
      "<class 'bs4.element.Tag'>\n"
     ]
    }
   ],
   "source": [
    "tag_h1 = simple_soup.h1\n",
    "\n",
    "print(type(tag_h1))"
   ]
  },
  {
   "cell_type": "code",
   "execution_count": null,
   "metadata": {},
   "outputs": [],
   "source": [
    "tag_h1."
   ]
  },
  {
   "cell_type": "code",
   "execution_count": 7,
   "metadata": {},
   "outputs": [
    {
     "name": "stdout",
     "output_type": "stream",
     "text": [
      "The text present in the h1 tag is : \n",
      "--------------------------------------\n",
      " My First HTML document\n"
     ]
    }
   ],
   "source": [
    "print(\"The text present in the h1 tag is : \")\n",
    "print(\"--------------------------------------\")\n",
    "print(tag_h1.string) # the string attribute returns the text present in the tag"
   ]
  },
  {
   "cell_type": "code",
   "execution_count": 8,
   "metadata": {},
   "outputs": [
    {
     "name": "stdout",
     "output_type": "stream",
     "text": [
      "<class 'bs4.element.NavigableString'>\n"
     ]
    }
   ],
   "source": [
    "h1_string_var = tag_h1.string\n",
    "print(type(h1_string_var))\n"
   ]
  },
  {
   "cell_type": "code",
   "execution_count": 9,
   "metadata": {},
   "outputs": [
    {
     "name": "stdout",
     "output_type": "stream",
     "text": [
      "<p ,=\"\" class=\"one\" title=\"BeautifulSoup\">My first Paragraph</p>\n"
     ]
    }
   ],
   "source": [
    "print(simple_soup.p)"
   ]
  },
  {
   "cell_type": "code",
   "execution_count": 10,
   "metadata": {},
   "outputs": [
    {
     "name": "stdout",
     "output_type": "stream",
     "text": [
      "My first Paragraph\n"
     ]
    }
   ],
   "source": [
    "print(simple_soup.p.string)"
   ]
  },
  {
   "cell_type": "code",
   "execution_count": 9,
   "metadata": {},
   "outputs": [
    {
     "name": "stdout",
     "output_type": "stream",
     "text": [
      "{'title': 'BeautifulSoup', ',': '', 'class': ['one']}\n"
     ]
    }
   ],
   "source": [
    "# listing out the various html attributes presnent in a tag\n",
    "\n",
    "tag_p = simple_soup.p\n",
    "\n",
    "print(tag_p.attrs)"
   ]
  },
  {
   "cell_type": "code",
   "execution_count": 12,
   "metadata": {},
   "outputs": [
    {
     "name": "stdout",
     "output_type": "stream",
     "text": [
      "BeautifulSoup\n"
     ]
    }
   ],
   "source": [
    "print(tag_p.attrs[\"title\"])  # accessing the html attribute value"
   ]
  },
  {
   "cell_type": "code",
   "execution_count": 13,
   "metadata": {},
   "outputs": [
    {
     "name": "stdout",
     "output_type": "stream",
     "text": [
      "['one']\n"
     ]
    }
   ],
   "source": [
    "print(tag_p.attrs[\"class\"])"
   ]
  },
  {
   "cell_type": "code",
   "execution_count": 11,
   "metadata": {},
   "outputs": [
    {
     "name": "stdout",
     "output_type": "stream",
     "text": [
      "<class 'bs4.element.Comment'>\n"
     ]
    }
   ],
   "source": [
    "# comment\n",
    "\n",
    "comment_in_b_tag_line = simple_soup.b.string \n",
    "\n",
    "print(type(comment_in_b_tag_line))"
   ]
  },
  {
   "cell_type": "code",
   "execution_count": 12,
   "metadata": {},
   "outputs": [
    {
     "data": {
      "text/plain": [
       "'This is a commented data.Not anymore relevant.'"
      ]
     },
     "execution_count": 12,
     "metadata": {},
     "output_type": "execute_result"
    }
   ],
   "source": [
    "comment_in_b_tag_line"
   ]
  },
  {
   "cell_type": "markdown",
   "metadata": {},
   "source": [
    "# End of preliminar discussion on beautiful soup"
   ]
  },
  {
   "cell_type": "code",
   "execution_count": null,
   "metadata": {},
   "outputs": [],
   "source": []
  }
 ],
 "metadata": {
  "kernelspec": {
   "display_name": "Python 3",
   "language": "python",
   "name": "python3"
  },
  "language_info": {
   "codemirror_mode": {
    "name": "ipython",
    "version": 3
   },
   "file_extension": ".py",
   "mimetype": "text/x-python",
   "name": "python",
   "nbconvert_exporter": "python",
   "pygments_lexer": "ipython3",
   "version": "3.8.5"
  }
 },
 "nbformat": 4,
 "nbformat_minor": 2
}
