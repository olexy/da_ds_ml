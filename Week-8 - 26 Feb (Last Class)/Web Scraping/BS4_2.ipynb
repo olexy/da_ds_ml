{
 "cells": [
  {
   "cell_type": "code",
   "execution_count": null,
   "metadata": {},
   "outputs": [],
   "source": []
  },
  {
   "cell_type": "code",
   "execution_count": 1,
   "metadata": {},
   "outputs": [],
   "source": [
    "from bs4 import BeautifulSoup"
   ]
  },
  {
   "cell_type": "code",
   "execution_count": 2,
   "metadata": {},
   "outputs": [],
   "source": [
    "html_file = \"wcb_scraping_example.html\""
   ]
  },
  {
   "cell_type": "code",
   "execution_count": 3,
   "metadata": {},
   "outputs": [
    {
     "name": "stdout",
     "output_type": "stream",
     "text": [
      "<class 'bs4.BeautifulSoup'>\n"
     ]
    },
    {
     "name": "stderr",
     "output_type": "stream",
     "text": [
      "C:\\Users\\Prashant\\anaconda3\\lib\\site-packages\\bs4\\__init__.py:346: MarkupResemblesLocatorWarning: \"wcb_scraping_example.html\" looks like a filename, not markup. You should probably open this file and pass the filehandle into Beautiful Soup.\n",
      "  warnings.warn(\n"
     ]
    }
   ],
   "source": [
    "soup1 = BeautifulSoup(html_file, \"html.parser\")\n",
    "\n",
    "print(type(soup1))"
   ]
  },
  {
   "cell_type": "code",
   "execution_count": 4,
   "metadata": {},
   "outputs": [
    {
     "name": "stdout",
     "output_type": "stream",
     "text": [
      "wcb_scraping_example.html\n"
     ]
    }
   ],
   "source": [
    "print(soup1)"
   ]
  },
  {
   "cell_type": "code",
   "execution_count": 5,
   "metadata": {},
   "outputs": [],
   "source": [
    "with open(html_file, \"r\") as html_file_contents:\n",
    "    soup2 = BeautifulSoup(html_file_contents, \"html.parser\")"
   ]
  },
  {
   "cell_type": "code",
   "execution_count": 6,
   "metadata": {},
   "outputs": [
    {
     "name": "stdout",
     "output_type": "stream",
     "text": [
      "<html>\n",
      "<body>\n",
      "<h1>My First Heading</h1>\n",
      "<b><!--This is a comment line--></b>\n",
      "<p class=\"test\" title=\"About Me\">My first paragraph.</p>\n",
      "<div class=\"cities\">\n",
      "<h2>London</h2>\n",
      "<h2> List of beverages at London's coffee shop</h2>\n",
      "<ul>\n",
      "<li>Coffee</li>\n",
      "<li>Tea</li>\n",
      "<li>Milk</li>\n",
      "</ul>\n",
      "<ul id=\"HR\">\n",
      "<li>Jack</li>\n",
      "<li>Mary</li>\n",
      "<li>Peterson</li>\n",
      "</ul>\n",
      "<p class=\"itmanagers\"> below is the list of IT Managers </p>\n",
      "<ul id=\"itmanagers\">\n",
      "<li>Rajesh</li>\n",
      "<li>Sheela</li>\n",
      "<li>Markov</li>\n",
      "</ul>\n",
      "</div>\n",
      "</body>\n",
      "</html>\n"
     ]
    }
   ],
   "source": [
    "print(soup2)"
   ]
  },
  {
   "cell_type": "markdown",
   "metadata": {},
   "source": [
    "# Let's begin experimenting with our find methods"
   ]
  },
  {
   "cell_type": "code",
   "execution_count": 8,
   "metadata": {},
   "outputs": [
    {
     "data": {
      "text/plain": [
       "<li>Coffee</li>"
      ]
     },
     "execution_count": 8,
     "metadata": {},
     "output_type": "execute_result"
    }
   ],
   "source": [
    "soup2.find(\"li\") # retrieves only the first li tag"
   ]
  },
  {
   "cell_type": "code",
   "execution_count": 9,
   "metadata": {},
   "outputs": [
    {
     "data": {
      "text/plain": [
       "[<li>Coffee</li>,\n",
       " <li>Tea</li>,\n",
       " <li>Milk</li>,\n",
       " <li>Jack</li>,\n",
       " <li>Mary</li>,\n",
       " <li>Peterson</li>,\n",
       " <li>Rajesh</li>,\n",
       " <li>Sheela</li>,\n",
       " <li>Markov</li>]"
      ]
     },
     "execution_count": 9,
     "metadata": {},
     "output_type": "execute_result"
    }
   ],
   "source": [
    "soup2.find_all(\"li\") # returns a list of all the li tags present in html file"
   ]
  },
  {
   "cell_type": "code",
   "execution_count": 10,
   "metadata": {},
   "outputs": [
    {
     "data": {
      "text/plain": [
       "<ul id=\"HR\">\n",
       "<li>Jack</li>\n",
       "<li>Mary</li>\n",
       "<li>Peterson</li>\n",
       "</ul>"
      ]
     },
     "execution_count": 10,
     "metadata": {},
     "output_type": "execute_result"
    }
   ],
   "source": [
    "hr_attr_tag = soup2.find(id = \"HR\")\n",
    "hr_attr_tag"
   ]
  },
  {
   "cell_type": "code",
   "execution_count": 11,
   "metadata": {},
   "outputs": [
    {
     "data": {
      "text/plain": [
       "'Jack'"
      ]
     },
     "execution_count": 11,
     "metadata": {},
     "output_type": "execute_result"
    }
   ],
   "source": [
    "# to retrieve the string value present in the first li tags\n",
    "hr_attr_tag.li.string"
   ]
  },
  {
   "cell_type": "code",
   "execution_count": 14,
   "metadata": {},
   "outputs": [
    {
     "data": {
      "text/plain": [
       "[<li>Jack</li>, <li>Mary</li>, <li>Peterson</li>]"
      ]
     },
     "execution_count": 14,
     "metadata": {},
     "output_type": "execute_result"
    }
   ],
   "source": [
    "# # to retrieve all the li tags present in the parent ul tag\n",
    "li_tags = hr_attr_tag.findAll(\"li\")\n",
    "li_tags"
   ]
  },
  {
   "cell_type": "code",
   "execution_count": 15,
   "metadata": {},
   "outputs": [
    {
     "name": "stdout",
     "output_type": "stream",
     "text": [
      "<class 'bs4.element.ResultSet'>\n"
     ]
    }
   ],
   "source": [
    "print(type(li_tags))"
   ]
  },
  {
   "cell_type": "code",
   "execution_count": 16,
   "metadata": {},
   "outputs": [
    {
     "name": "stdout",
     "output_type": "stream",
     "text": [
      "<li>Jack</li>\n",
      "<class 'bs4.element.Tag'>\n",
      "Jack\n",
      "<li>Mary</li>\n",
      "<class 'bs4.element.Tag'>\n",
      "Mary\n",
      "<li>Peterson</li>\n",
      "<class 'bs4.element.Tag'>\n",
      "Peterson\n"
     ]
    }
   ],
   "source": [
    "for i in li_tags:\n",
    "    print(i)\n",
    "    print(type(i))\n",
    "    print(i.string)"
   ]
  },
  {
   "cell_type": "code",
   "execution_count": 17,
   "metadata": {},
   "outputs": [
    {
     "name": "stdout",
     "output_type": "stream",
     "text": [
      "html\n",
      "body\n",
      "h1\n",
      "b\n",
      "p\n",
      "div\n",
      "h2\n",
      "h2\n",
      "ul\n",
      "li\n",
      "li\n",
      "li\n",
      "ul\n",
      "li\n",
      "li\n",
      "li\n",
      "p\n",
      "ul\n",
      "li\n",
      "li\n",
      "li\n"
     ]
    }
   ],
   "source": [
    "# to find out all the tags that are present in the html file\n",
    "for tag in soup2.findAll(True):\n",
    "    print(tag.name)"
   ]
  },
  {
   "cell_type": "code",
   "execution_count": 18,
   "metadata": {},
   "outputs": [
    {
     "name": "stdout",
     "output_type": "stream",
     "text": [
      "[<li>Jack</li>, <li>Mary</li>, <li>Peterson</li>]\n"
     ]
    }
   ],
   "source": [
    "print(li_tags)"
   ]
  },
  {
   "cell_type": "code",
   "execution_count": 19,
   "metadata": {},
   "outputs": [
    {
     "name": "stdout",
     "output_type": "stream",
     "text": [
      "<li>Jack</li>\n"
     ]
    }
   ],
   "source": [
    "# accessing the first tag of the resultset\n",
    "li_tag1 = li_tags[0]\n",
    "print(li_tag1)"
   ]
  },
  {
   "cell_type": "code",
   "execution_count": 20,
   "metadata": {},
   "outputs": [
    {
     "data": {
      "text/plain": [
       "<li>Mary</li>"
      ]
     },
     "execution_count": 20,
     "metadata": {},
     "output_type": "execute_result"
    }
   ],
   "source": [
    "li_tag1.find_next_sibling()"
   ]
  },
  {
   "cell_type": "code",
   "execution_count": 21,
   "metadata": {},
   "outputs": [
    {
     "data": {
      "text/plain": [
       "[<li>Mary</li>, <li>Peterson</li>]"
      ]
     },
     "execution_count": 21,
     "metadata": {},
     "output_type": "execute_result"
    }
   ],
   "source": [
    "li_tag1.find_next_siblings()"
   ]
  },
  {
   "cell_type": "code",
   "execution_count": 22,
   "metadata": {},
   "outputs": [
    {
     "data": {
      "text/plain": [
       "<ul id=\"HR\">\n",
       "<li>Jack</li>\n",
       "<li>Mary</li>\n",
       "<li>Peterson</li>\n",
       "</ul>"
      ]
     },
     "execution_count": 22,
     "metadata": {},
     "output_type": "execute_result"
    }
   ],
   "source": [
    "li_tag1.find_parent()"
   ]
  },
  {
   "cell_type": "code",
   "execution_count": 23,
   "metadata": {},
   "outputs": [
    {
     "name": "stdout",
     "output_type": "stream",
     "text": [
      "['Jack']\n"
     ]
    }
   ],
   "source": [
    "# search for a particular string value\n",
    "\n",
    "search_for_stringOnly = soup2.findAll(text =[\"Jack\"])\n",
    "print(search_for_stringOnly) # the text value specified , if present , will be displayed "
   ]
  },
  {
   "cell_type": "code",
   "execution_count": 24,
   "metadata": {},
   "outputs": [
    {
     "name": "stdout",
     "output_type": "stream",
     "text": [
      "[]\n"
     ]
    }
   ],
   "source": [
    "search_for_stringOnly = soup2.findAll(text =[\"Ravi\"])\n",
    "\n",
    "print(search_for_stringOnly) # an empty list will ne retrieved , if the string value is not present "
   ]
  },
  {
   "cell_type": "code",
   "execution_count": null,
   "metadata": {},
   "outputs": [],
   "source": [
    "import pygame\n",
    "import time\n",
    "pygame.mixer.init()\n",
    "pygame.mixer.music.load(\"Heavy-synth-loop-126-bpm.wav\")\n",
    "\n",
    "# pygame.mixer.music.load('Retro-drum-machine-beat-loop.wav')\n",
    "def play_music():\n",
    "    pygame.mixer.music.play()\n",
    "\n",
    "    "
   ]
  },
  {
   "cell_type": "markdown",
   "metadata": {},
   "source": [
    "# End of discussion on the find methods of BS4"
   ]
  }
 ],
 "metadata": {
  "kernelspec": {
   "display_name": "Python 3 (ipykernel)",
   "language": "python",
   "name": "python3"
  },
  "language_info": {
   "codemirror_mode": {
    "name": "ipython",
    "version": 3
   },
   "file_extension": ".py",
   "mimetype": "text/x-python",
   "name": "python",
   "nbconvert_exporter": "python",
   "pygments_lexer": "ipython3",
   "version": "3.9.7"
  }
 },
 "nbformat": 4,
 "nbformat_minor": 2
}
