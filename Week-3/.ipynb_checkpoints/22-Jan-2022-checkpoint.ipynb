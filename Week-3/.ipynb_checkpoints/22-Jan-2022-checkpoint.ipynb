{
 "cells": [
  {
   "cell_type": "markdown",
   "metadata": {},
   "source": [
    "# Programming Constructs in Python"
   ]
  },
  {
   "cell_type": "code",
   "execution_count": 112,
   "metadata": {},
   "outputs": [
    {
     "data": {
      "text/plain": [
       "True"
      ]
     },
     "execution_count": 112,
     "metadata": {},
     "output_type": "execute_result"
    }
   ],
   "source": [
    "check_prime(151)"
   ]
  },
  {
   "cell_type": "code",
   "execution_count": null,
   "metadata": {},
   "outputs": [],
   "source": []
  },
  {
   "cell_type": "code",
   "execution_count": null,
   "metadata": {},
   "outputs": [],
   "source": []
  },
  {
   "cell_type": "code",
   "execution_count": null,
   "metadata": {},
   "outputs": [],
   "source": []
  },
  {
   "cell_type": "code",
   "execution_count": 1,
   "metadata": {},
   "outputs": [],
   "source": [
    "import time"
   ]
  },
  {
   "cell_type": "code",
   "execution_count": 2,
   "metadata": {},
   "outputs": [
    {
     "name": "stdout",
     "output_type": "stream",
     "text": [
      "I'm stuck in a while loop. DO not execute this!\n",
      "I'm stuck in a while loop. DO not execute this!\n",
      "I'm stuck in a while loop. DO not execute this!\n",
      "I'm stuck in a while loop. DO not execute this!\n",
      "I'm stuck in a while loop. DO not execute this!\n",
      "I'm stuck in a while loop. DO not execute this!\n",
      "I'm stuck in a while loop. DO not execute this!\n",
      "I'm stuck in a while loop. DO not execute this!\n",
      "I'm stuck in a while loop. DO not execute this!\n",
      "I'm stuck in a while loop. DO not execute this!\n",
      "I'm stuck in a while loop. DO not execute this!\n",
      "I'm stuck in a while loop. DO not execute this!\n",
      "I'm stuck in a while loop. DO not execute this!\n",
      "I'm stuck in a while loop. DO not execute this!\n",
      "I'm stuck in a while loop. DO not execute this!\n",
      "I'm stuck in a while loop. DO not execute this!\n",
      "I'm stuck in a while loop. DO not execute this!\n",
      "I'm stuck in a while loop. DO not execute this!\n",
      "I'm stuck in a while loop. DO not execute this!\n",
      "I'm stuck in a while loop. DO not execute this!\n",
      "I'm stuck in a while loop. DO not execute this!\n",
      "I'm stuck in a while loop. DO not execute this!\n",
      "I'm stuck in a while loop. DO not execute this!\n",
      "I'm stuck in a while loop. DO not execute this!\n",
      "I'm stuck in a while loop. DO not execute this!\n",
      "I'm stuck in a while loop. DO not execute this!\n",
      "I'm stuck in a while loop. DO not execute this!\n",
      "I'm stuck in a while loop. DO not execute this!\n",
      "I'm stuck in a while loop. DO not execute this!\n",
      "I'm stuck in a while loop. DO not execute this!\n",
      "I'm stuck in a while loop. DO not execute this!\n",
      "I'm stuck in a while loop. DO not execute this!\n",
      "I'm stuck in a while loop. DO not execute this!\n",
      "I'm stuck in a while loop. DO not execute this!\n",
      "I'm stuck in a while loop. DO not execute this!\n",
      "I'm stuck in a while loop. DO not execute this!\n",
      "I'm stuck in a while loop. DO not execute this!\n",
      "I'm stuck in a while loop. DO not execute this!\n",
      "I'm stuck in a while loop. DO not execute this!\n",
      "I'm stuck in a while loop. DO not execute this!\n",
      "I'm stuck in a while loop. DO not execute this!\n",
      "I'm stuck in a while loop. DO not execute this!\n",
      "I'm stuck in a while loop. DO not execute this!\n",
      "I'm stuck in a while loop. DO not execute this!\n",
      "I'm stuck in a while loop. DO not execute this!\n",
      "I'm stuck in a while loop. DO not execute this!\n",
      "I'm stuck in a while loop. DO not execute this!\n",
      "I'm stuck in a while loop. DO not execute this!\n",
      "I'm stuck in a while loop. DO not execute this!\n",
      "I'm stuck in a while loop. DO not execute this!\n",
      "I'm stuck in a while loop. DO not execute this!\n",
      "I'm stuck in a while loop. DO not execute this!\n",
      "I'm stuck in a while loop. DO not execute this!\n",
      "I'm stuck in a while loop. DO not execute this!\n",
      "I'm stuck in a while loop. DO not execute this!\n",
      "I'm stuck in a while loop. DO not execute this!\n",
      "I'm stuck in a while loop. DO not execute this!\n",
      "I'm stuck in a while loop. DO not execute this!\n",
      "I'm stuck in a while loop. DO not execute this!\n",
      "I'm stuck in a while loop. DO not execute this!\n",
      "I'm stuck in a while loop. DO not execute this!\n",
      "I'm stuck in a while loop. DO not execute this!\n",
      "I'm stuck in a while loop. DO not execute this!\n",
      "I'm stuck in a while loop. DO not execute this!\n",
      "I'm stuck in a while loop. DO not execute this!\n",
      "I'm stuck in a while loop. DO not execute this!\n",
      "I'm stuck in a while loop. DO not execute this!\n",
      "I'm stuck in a while loop. DO not execute this!\n",
      "I'm stuck in a while loop. DO not execute this!\n",
      "I'm stuck in a while loop. DO not execute this!\n",
      "I'm stuck in a while loop. DO not execute this!\n",
      "I'm stuck in a while loop. DO not execute this!\n",
      "I'm stuck in a while loop. DO not execute this!\n",
      "I'm stuck in a while loop. DO not execute this!\n",
      "I'm stuck in a while loop. DO not execute this!\n",
      "I'm stuck in a while loop. DO not execute this!\n",
      "I'm stuck in a while loop. DO not execute this!\n",
      "I'm stuck in a while loop. DO not execute this!\n",
      "I'm stuck in a while loop. DO not execute this!\n",
      "I'm stuck in a while loop. DO not execute this!\n",
      "I'm stuck in a while loop. DO not execute this!\n",
      "I'm stuck in a while loop. DO not execute this!\n",
      "I'm stuck in a while loop. DO not execute this!\n",
      "I'm stuck in a while loop. DO not execute this!\n",
      "I'm stuck in a while loop. DO not execute this!\n",
      "I'm stuck in a while loop. DO not execute this!\n",
      "I'm stuck in a while loop. DO not execute this!\n",
      "I'm stuck in a while loop. DO not execute this!\n",
      "I'm stuck in a while loop. DO not execute this!\n",
      "I'm stuck in a while loop. DO not execute this!\n",
      "I'm stuck in a while loop. DO not execute this!\n",
      "I'm stuck in a while loop. DO not execute this!\n",
      "I'm stuck in a while loop. DO not execute this!\n",
      "I'm stuck in a while loop. DO not execute this!\n",
      "I'm stuck in a while loop. DO not execute this!\n",
      "I'm stuck in a while loop. DO not execute this!\n",
      "I'm stuck in a while loop. DO not execute this!\n",
      "I'm stuck in a while loop. DO not execute this!\n"
     ]
    },
    {
     "ename": "KeyboardInterrupt",
     "evalue": "",
     "output_type": "error",
     "traceback": [
      "\u001b[1;31m---------------------------------------------------------------------------\u001b[0m",
      "\u001b[1;31mKeyboardInterrupt\u001b[0m                         Traceback (most recent call last)",
      "\u001b[1;32m<ipython-input-2-181ca5c777ab>\u001b[0m in \u001b[0;36m<module>\u001b[1;34m\u001b[0m\n\u001b[0;32m      1\u001b[0m \u001b[1;32mwhile\u001b[0m \u001b[1;32mTrue\u001b[0m\u001b[1;33m:\u001b[0m\u001b[1;33m\u001b[0m\u001b[1;33m\u001b[0m\u001b[0m\n\u001b[0;32m      2\u001b[0m     \u001b[0mprint\u001b[0m\u001b[1;33m(\u001b[0m\u001b[1;34m\"I'm stuck in a while loop. DO not execute this!\"\u001b[0m\u001b[1;33m)\u001b[0m\u001b[1;33m\u001b[0m\u001b[1;33m\u001b[0m\u001b[0m\n\u001b[1;32m----> 3\u001b[1;33m     \u001b[0mtime\u001b[0m\u001b[1;33m.\u001b[0m\u001b[0msleep\u001b[0m\u001b[1;33m(\u001b[0m\u001b[1;36m2\u001b[0m\u001b[1;33m)\u001b[0m\u001b[1;33m\u001b[0m\u001b[1;33m\u001b[0m\u001b[0m\n\u001b[0m",
      "\u001b[1;31mKeyboardInterrupt\u001b[0m: "
     ]
    }
   ],
   "source": [
    "while True:\n",
    "    print(\"I'm stuck in a infinite while loop. DO not execute this!\")\n",
    "    time.sleep(2)"
   ]
  },
  {
   "cell_type": "markdown",
   "metadata": {},
   "source": [
    "### Number guessing game"
   ]
  },
  {
   "cell_type": "code",
   "execution_count": 17,
   "metadata": {},
   "outputs": [
    {
     "name": "stdout",
     "output_type": "stream",
     "text": [
      "Guess the number: 213\n",
      "Your guess is incorrect :-(. Please try again.\n",
      "Guess the number: 212\n",
      "Your guess is incorrect :-(. Please try again.\n",
      "Guess the number: 6\n",
      "Yay! you have guessed it right!\n",
      "Good Job!\n"
     ]
    }
   ],
   "source": [
    "num_to_be_guessed = 6  # later on we'll use the random module from NumPy to\n",
    "# gernerate a random integer.\n",
    "\n",
    "while True:\n",
    "    p = int(input(\"Guess the number: \"))\n",
    "    if p== num_to_be_guessed:\n",
    "        print('Yay! you have guessed it right!')\n",
    "        break  # break out of the while loop\n",
    "    else:\n",
    "        print(\"Your guess is incorrect :-(. Please try again.\")\n",
    "\n",
    "else:  # else statement NEVER gets executed if your forcefully \"BREAK-OUT\" of the loop!.\n",
    "    print(\"Good Job!\")\n",
    "    \n",
    "print(\"Good Job!\")    # this is anyway out of the while loop."
   ]
  },
  {
   "cell_type": "code",
   "execution_count": 22,
   "metadata": {},
   "outputs": [
    {
     "name": "stdout",
     "output_type": "stream",
     "text": [
      "Guess the number: 6\n",
      "\n",
      "Yay! you have guessed it right!\n"
     ]
    }
   ],
   "source": [
    "num_to_be_guessed = 6\n",
    "p = int(input(\"Guess the number: \"))\n",
    "\n",
    "while p!=6: # keep iterating as long as p is not equal to 6    \n",
    "    print(\"Your guess is incorrect :-(. Please try again.\")\n",
    "    p = int(input(\"Guess the number 123....: \"))\n",
    "else:\n",
    "    print('\\nYay! you have guessed it right!')"
   ]
  },
  {
   "cell_type": "markdown",
   "metadata": {},
   "source": [
    "## Program to check whether a given number is prime ??\n"
   ]
  },
  {
   "cell_type": "code",
   "execution_count": 24,
   "metadata": {},
   "outputs": [
    {
     "data": {
      "text/plain": [
       "4"
      ]
     },
     "execution_count": 24,
     "metadata": {},
     "output_type": "execute_result"
    }
   ],
   "source": [
    "# \"%\" is the modulo operator: It returns the remiander after division\n",
    "25%7"
   ]
  },
  {
   "cell_type": "code",
   "execution_count": 35,
   "metadata": {},
   "outputs": [
    {
     "name": "stdout",
     "output_type": "stream",
     "text": [
      "Enter a number: 97\n",
      "the value of x in the current iter: 2\n",
      "the value of x in the current iter: 3\n",
      "the value of x in the current iter: 4\n",
      "the value of x in the current iter: 5\n",
      "the value of x in the current iter: 6\n",
      "the value of x in the current iter: 7\n",
      "the value of x in the current iter: 8\n",
      "the value of x in the current iter: 9\n",
      "the value of x in the current iter: 10\n",
      "the value of x in the current iter: 11\n",
      "the value of x in the current iter: 12\n",
      "the value of x in the current iter: 13\n",
      "the value of x in the current iter: 14\n",
      "the value of x in the current iter: 15\n",
      "the value of x in the current iter: 16\n",
      "the value of x in the current iter: 17\n",
      "the value of x in the current iter: 18\n",
      "the value of x in the current iter: 19\n",
      "the value of x in the current iter: 20\n",
      "the value of x in the current iter: 21\n",
      "the value of x in the current iter: 22\n",
      "the value of x in the current iter: 23\n",
      "the value of x in the current iter: 24\n",
      "the value of x in the current iter: 25\n",
      "the value of x in the current iter: 26\n",
      "the value of x in the current iter: 27\n",
      "the value of x in the current iter: 28\n",
      "the value of x in the current iter: 29\n",
      "the value of x in the current iter: 30\n",
      "the value of x in the current iter: 31\n",
      "the value of x in the current iter: 32\n",
      "the value of x in the current iter: 33\n",
      "the value of x in the current iter: 34\n",
      "the value of x in the current iter: 35\n",
      "the value of x in the current iter: 36\n",
      "the value of x in the current iter: 37\n",
      "the value of x in the current iter: 38\n",
      "the value of x in the current iter: 39\n",
      "the value of x in the current iter: 40\n",
      "the value of x in the current iter: 41\n",
      "the value of x in the current iter: 42\n",
      "the value of x in the current iter: 43\n",
      "the value of x in the current iter: 44\n",
      "the value of x in the current iter: 45\n",
      "the value of x in the current iter: 46\n",
      "the value of x in the current iter: 47\n",
      "the value of x in the current iter: 48\n",
      "the value of x in the current iter: 49\n",
      "the value of x in the current iter: 50\n",
      "the value of x in the current iter: 51\n",
      "the value of x in the current iter: 52\n",
      "the value of x in the current iter: 53\n",
      "the value of x in the current iter: 54\n",
      "the value of x in the current iter: 55\n",
      "the value of x in the current iter: 56\n",
      "the value of x in the current iter: 57\n",
      "the value of x in the current iter: 58\n",
      "the value of x in the current iter: 59\n",
      "the value of x in the current iter: 60\n",
      "the value of x in the current iter: 61\n",
      "the value of x in the current iter: 62\n",
      "the value of x in the current iter: 63\n",
      "the value of x in the current iter: 64\n",
      "the value of x in the current iter: 65\n",
      "the value of x in the current iter: 66\n",
      "the value of x in the current iter: 67\n",
      "the value of x in the current iter: 68\n",
      "the value of x in the current iter: 69\n",
      "the value of x in the current iter: 70\n",
      "the value of x in the current iter: 71\n",
      "the value of x in the current iter: 72\n",
      "the value of x in the current iter: 73\n",
      "the value of x in the current iter: 74\n",
      "the value of x in the current iter: 75\n",
      "the value of x in the current iter: 76\n",
      "the value of x in the current iter: 77\n",
      "the value of x in the current iter: 78\n",
      "the value of x in the current iter: 79\n",
      "the value of x in the current iter: 80\n",
      "the value of x in the current iter: 81\n",
      "the value of x in the current iter: 82\n",
      "the value of x in the current iter: 83\n",
      "the value of x in the current iter: 84\n",
      "the value of x in the current iter: 85\n",
      "the value of x in the current iter: 86\n",
      "the value of x in the current iter: 87\n",
      "the value of x in the current iter: 88\n",
      "the value of x in the current iter: 89\n",
      "the value of x in the current iter: 90\n",
      "the value of x in the current iter: 91\n",
      "the value of x in the current iter: 92\n",
      "the value of x in the current iter: 93\n",
      "the value of x in the current iter: 94\n",
      "the value of x in the current iter: 95\n",
      "the value of x in the current iter: 96\n",
      "97 is indeed PRIME...!\n"
     ]
    }
   ],
   "source": [
    "## Naive Logic: If THE number has NO factors.. .then it is indeed prime.\n",
    "# A number will be a factor iff it leaves 0 reminder upon divion\n",
    "\n",
    "num = int(input(\"Enter a number: \"))\n",
    "\n",
    "for x in range(2, num):\n",
    "    print('the value of x in the current iter:', x)\n",
    "    \n",
    "    if num%x == 0: # checking for remiander\n",
    "        print('\\n', x, 'is a factor of the', num)\n",
    "        print(num, 'is NOT prime!')\n",
    "        break\n",
    "        \n",
    "else:\n",
    "    print(num, 'is indeed PRIME...!')"
   ]
  },
  {
   "cell_type": "code",
   "execution_count": 40,
   "metadata": {},
   "outputs": [
    {
     "data": {
      "text/plain": [
       "48.95"
      ]
     },
     "execution_count": 40,
     "metadata": {},
     "output_type": "execute_result"
    }
   ],
   "source": [
    "97.9/2"
   ]
  },
  {
   "cell_type": "code",
   "execution_count": 41,
   "metadata": {},
   "outputs": [
    {
     "data": {
      "text/plain": [
       "48.0"
      ]
     },
     "execution_count": 41,
     "metadata": {},
     "output_type": "execute_result"
    }
   ],
   "source": [
    "97.9//2  # integer division"
   ]
  },
  {
   "cell_type": "code",
   "execution_count": 43,
   "metadata": {},
   "outputs": [
    {
     "data": {
      "text/plain": [
       "49"
      ]
     },
     "execution_count": 43,
     "metadata": {},
     "output_type": "execute_result"
    }
   ],
   "source": [
    "(num//2)+1"
   ]
  },
  {
   "cell_type": "code",
   "execution_count": 44,
   "metadata": {},
   "outputs": [
    {
     "name": "stdout",
     "output_type": "stream",
     "text": [
      "Enter a number: 97\n",
      "the value of x in the current iter: 2\n",
      "the value of x in the current iter: 3\n",
      "the value of x in the current iter: 4\n",
      "the value of x in the current iter: 5\n",
      "the value of x in the current iter: 6\n",
      "the value of x in the current iter: 7\n",
      "the value of x in the current iter: 8\n",
      "the value of x in the current iter: 9\n",
      "the value of x in the current iter: 10\n",
      "the value of x in the current iter: 11\n",
      "the value of x in the current iter: 12\n",
      "the value of x in the current iter: 13\n",
      "the value of x in the current iter: 14\n",
      "the value of x in the current iter: 15\n",
      "the value of x in the current iter: 16\n",
      "the value of x in the current iter: 17\n",
      "the value of x in the current iter: 18\n",
      "the value of x in the current iter: 19\n",
      "the value of x in the current iter: 20\n",
      "the value of x in the current iter: 21\n",
      "the value of x in the current iter: 22\n",
      "the value of x in the current iter: 23\n",
      "the value of x in the current iter: 24\n",
      "the value of x in the current iter: 25\n",
      "the value of x in the current iter: 26\n",
      "the value of x in the current iter: 27\n",
      "the value of x in the current iter: 28\n",
      "the value of x in the current iter: 29\n",
      "the value of x in the current iter: 30\n",
      "the value of x in the current iter: 31\n",
      "the value of x in the current iter: 32\n",
      "the value of x in the current iter: 33\n",
      "the value of x in the current iter: 34\n",
      "the value of x in the current iter: 35\n",
      "the value of x in the current iter: 36\n",
      "the value of x in the current iter: 37\n",
      "the value of x in the current iter: 38\n",
      "the value of x in the current iter: 39\n",
      "the value of x in the current iter: 40\n",
      "the value of x in the current iter: 41\n",
      "the value of x in the current iter: 42\n",
      "the value of x in the current iter: 43\n",
      "the value of x in the current iter: 44\n",
      "the value of x in the current iter: 45\n",
      "the value of x in the current iter: 46\n",
      "the value of x in the current iter: 47\n",
      "the value of x in the current iter: 48\n",
      "97 is indeed PRIME...!\n"
     ]
    }
   ],
   "source": [
    "## Version 2:\n",
    "\n",
    "num = int(input(\"Enter a number: \"))\n",
    "\n",
    "for x in range(2, (num//2)+1 ):\n",
    "    print('the value of x in the current iter:', x)\n",
    "    \n",
    "    if num%x == 0: # checking for remiander\n",
    "        print('\\n', x, 'is a factor of the', num)\n",
    "        print(num, 'is NOT prime!')\n",
    "        break\n",
    "        \n",
    "else:\n",
    "    print(num, 'is indeed PRIME...!')"
   ]
  },
  {
   "cell_type": "code",
   "execution_count": 47,
   "metadata": {},
   "outputs": [
    {
     "data": {
      "text/plain": [
       "9"
      ]
     },
     "execution_count": 47,
     "metadata": {},
     "output_type": "execute_result"
    }
   ],
   "source": [
    "import math\n",
    "int(math.sqrt(97))+1"
   ]
  },
  {
   "cell_type": "code",
   "execution_count": 85,
   "metadata": {},
   "outputs": [
    {
     "name": "stdout",
     "output_type": "stream",
     "text": [
      "Enter a number: 3swqekqkbaskbdqwke\n",
      "INVALID Input!.\n"
     ]
    }
   ],
   "source": [
    "## Version 3:  Use square root\n",
    "\n",
    "import math\n",
    "\n",
    "try:\n",
    "    num = int(input(\"Enter a number: \"))\n",
    "\n",
    "    for x in range(2, int(math.sqrt(num))+1):\n",
    "        print('the value of x in the current iter:', x)\n",
    "\n",
    "        if num%x == 0: # checking for remiander\n",
    "            print('\\n', x, 'is a factor of the', num)\n",
    "            print(num, 'is NOT prime!')\n",
    "            break\n",
    "\n",
    "    else:\n",
    "        print(num, 'is indeed PRIME...!')\n",
    "        \n",
    "except:\n",
    "    print('INVALID Input!.')"
   ]
  },
  {
   "cell_type": "code",
   "execution_count": 83,
   "metadata": {},
   "outputs": [
    {
     "name": "stdout",
     "output_type": "stream",
     "text": [
      "Where are you now? bank\n",
      "Welcome to the Bank of America!\n"
     ]
    }
   ],
   "source": [
    "a = input(\"Where are you now? \")\n",
    "\n",
    "if a.lower() == 'bank':\n",
    "    print(\"Welcome to the Bank of America!\")\n",
    "elif a.lower() == 'mall':\n",
    "    print(\"Welcome to the INox Mall\")\n",
    "else: # if none of the above conditions are ment, then the control automatically goes to the \"esle\"\n",
    "    print(\"Welcome to\", a)"
   ]
  },
  {
   "cell_type": "code",
   "execution_count": 66,
   "metadata": {},
   "outputs": [
    {
     "name": "stdout",
     "output_type": "stream",
     "text": [
      "1 \t: 1\n",
      "2 \t: 4\n",
      "3 \t: 9\n",
      "4 \t: 16\n",
      "5 \t: 25\n",
      "10 \t: 100\n",
      "22 \t: 484\n"
     ]
    }
   ],
   "source": [
    "nums = [1,2,3,4,5,10,15,18,22]\n",
    "for num in nums:\n",
    "    if (num>10) & (num <20):  # it \"skips\" printing the square of 15, 18\n",
    "        continue  # any python statement below continue will not get executed\n",
    "        \n",
    "    print(num, '\\t:', num**2)\n"
   ]
  },
  {
   "cell_type": "code",
   "execution_count": 68,
   "metadata": {},
   "outputs": [
    {
     "ename": "TypeError",
     "evalue": "'>' not supported between instances of 'str' and 'int'",
     "output_type": "error",
     "traceback": [
      "\u001b[1;31m---------------------------------------------------------------------------\u001b[0m",
      "\u001b[1;31mTypeError\u001b[0m                                 Traceback (most recent call last)",
      "\u001b[1;32m<ipython-input-68-ac232f2976ce>\u001b[0m in \u001b[0;36m<module>\u001b[1;34m\u001b[0m\n\u001b[1;32m----> 1\u001b[1;33m \u001b[1;34m'Hello World'\u001b[0m \u001b[1;33m>\u001b[0m \u001b[1;36m10\u001b[0m\u001b[1;33m\u001b[0m\u001b[1;33m\u001b[0m\u001b[0m\n\u001b[0m",
      "\u001b[1;31mTypeError\u001b[0m: '>' not supported between instances of 'str' and 'int'"
     ]
    }
   ],
   "source": [
    "'Hello World' > 10"
   ]
  },
  {
   "cell_type": "code",
   "execution_count": 73,
   "metadata": {},
   "outputs": [
    {
     "name": "stdout",
     "output_type": "stream",
     "text": [
      "1 \t: 1\n",
      "2 \t: 4\n",
      "3 \t: 9\n",
      "4 \t: 16\n",
      "5 \t: 25\n",
      "10 \t: 100\n",
      "22 \t: 484\n"
     ]
    },
    {
     "ename": "TypeError",
     "evalue": "'>' not supported between instances of 'str' and 'int'",
     "output_type": "error",
     "traceback": [
      "\u001b[1;31m---------------------------------------------------------------------------\u001b[0m",
      "\u001b[1;31mTypeError\u001b[0m                                 Traceback (most recent call last)",
      "\u001b[1;32m<ipython-input-73-2d8fcb20229c>\u001b[0m in \u001b[0;36m<module>\u001b[1;34m\u001b[0m\n\u001b[0;32m      1\u001b[0m \u001b[0mnums\u001b[0m \u001b[1;33m=\u001b[0m \u001b[1;33m[\u001b[0m\u001b[1;36m1\u001b[0m\u001b[1;33m,\u001b[0m\u001b[1;36m2\u001b[0m\u001b[1;33m,\u001b[0m\u001b[1;36m3\u001b[0m\u001b[1;33m,\u001b[0m\u001b[1;36m4\u001b[0m\u001b[1;33m,\u001b[0m\u001b[1;36m5\u001b[0m\u001b[1;33m,\u001b[0m\u001b[1;36m10\u001b[0m\u001b[1;33m,\u001b[0m\u001b[1;36m15\u001b[0m\u001b[1;33m,\u001b[0m\u001b[1;36m18\u001b[0m\u001b[1;33m,\u001b[0m\u001b[1;36m22\u001b[0m\u001b[1;33m,\u001b[0m \u001b[1;34m'Hello World'\u001b[0m\u001b[1;33m,\u001b[0m \u001b[1;32mTrue\u001b[0m\u001b[1;33m,\u001b[0m \u001b[1;32mFalse\u001b[0m\u001b[1;33m,\u001b[0m \u001b[1;36m3.14\u001b[0m\u001b[1;33m,\u001b[0m \u001b[1;34m'Hi'\u001b[0m\u001b[1;33m,\u001b[0m \u001b[1;36m100\u001b[0m\u001b[1;33m]\u001b[0m\u001b[1;33m\u001b[0m\u001b[1;33m\u001b[0m\u001b[0m\n\u001b[0;32m      2\u001b[0m \u001b[1;32mfor\u001b[0m \u001b[0mnum\u001b[0m \u001b[1;32min\u001b[0m \u001b[0mnums\u001b[0m\u001b[1;33m:\u001b[0m\u001b[1;33m\u001b[0m\u001b[1;33m\u001b[0m\u001b[0m\n\u001b[1;32m----> 3\u001b[1;33m     \u001b[1;32mif\u001b[0m \u001b[1;33m(\u001b[0m\u001b[0mnum\u001b[0m\u001b[1;33m>\u001b[0m\u001b[1;36m10\u001b[0m\u001b[1;33m)\u001b[0m \u001b[1;33m&\u001b[0m \u001b[1;33m(\u001b[0m\u001b[0mnum\u001b[0m \u001b[1;33m<\u001b[0m\u001b[1;36m20\u001b[0m\u001b[1;33m)\u001b[0m\u001b[1;33m:\u001b[0m  \u001b[1;31m# it \"skips\" printing the square of 15, 18\u001b[0m\u001b[1;33m\u001b[0m\u001b[1;33m\u001b[0m\u001b[0m\n\u001b[0m\u001b[0;32m      4\u001b[0m         \u001b[1;32mcontinue\u001b[0m  \u001b[1;31m# any python statement below continue will not get executed\u001b[0m\u001b[1;33m\u001b[0m\u001b[1;33m\u001b[0m\u001b[0m\n\u001b[0;32m      5\u001b[0m     \u001b[0mprint\u001b[0m\u001b[1;33m(\u001b[0m\u001b[0mnum\u001b[0m\u001b[1;33m,\u001b[0m \u001b[1;34m'\\t:'\u001b[0m\u001b[1;33m,\u001b[0m \u001b[0mnum\u001b[0m\u001b[1;33m**\u001b[0m\u001b[1;36m2\u001b[0m\u001b[1;33m)\u001b[0m\u001b[1;33m\u001b[0m\u001b[1;33m\u001b[0m\u001b[0m\n",
      "\u001b[1;31mTypeError\u001b[0m: '>' not supported between instances of 'str' and 'int'"
     ]
    }
   ],
   "source": [
    "nums = [1,2,3,4,5,10,15,18,22, 'Hello World', True, False, 3.14, 'Hi', 100]\n",
    "for num in nums:\n",
    "    if (num>10) & (num <20):  # it \"skips\" printing the square of 15, 18\n",
    "        continue  # any python statement below continue will not get executed\n",
    "    print(num, '\\t:', num**2)\n"
   ]
  },
  {
   "cell_type": "code",
   "execution_count": 72,
   "metadata": {},
   "outputs": [
    {
     "name": "stdout",
     "output_type": "stream",
     "text": [
      "1 \t: 1\n",
      "2 \t: 4\n",
      "3 \t: 9\n",
      "4 \t: 16\n",
      "5 \t: 25\n",
      "10 \t: 100\n",
      "22 \t: 484\n",
      "Hello World is not a number\n",
      "True \t: 1\n",
      "False \t: 0\n",
      "3.14 \t: 9.8596\n",
      "Hi is not a number\n",
      "100 \t: 10000\n"
     ]
    }
   ],
   "source": [
    "nums = [1,2,3,4,5,10,15,18,22, 'Hello World', True, False, 3.14, 'Hi', 100]\n",
    "for num in nums:\n",
    "    try: \n",
    "        if (num>10) & (num <20):  # it \"skips\" printing the square of 15, 18\n",
    "            continue  # any python statement below continue will not get executed\n",
    "        print(num, '\\t:', num**2)\n",
    "        \n",
    "    except:\n",
    "        print(num, ': is not a number')\n"
   ]
  },
  {
   "cell_type": "code",
   "execution_count": 70,
   "metadata": {},
   "outputs": [
    {
     "data": {
      "text/plain": [
       "False"
      ]
     },
     "execution_count": 70,
     "metadata": {},
     "output_type": "execute_result"
    }
   ],
   "source": [
    "True > 10 "
   ]
  },
  {
   "cell_type": "code",
   "execution_count": null,
   "metadata": {},
   "outputs": [],
   "source": []
  },
  {
   "cell_type": "code",
   "execution_count": 74,
   "metadata": {
    "scrolled": true
   },
   "outputs": [
    {
     "name": "stdout",
     "output_type": "stream",
     "text": [
      "100.0\n",
      "50.0\n",
      "33.333333333333336\n",
      "25.0\n",
      "20.0\n"
     ]
    },
    {
     "ename": "ZeroDivisionError",
     "evalue": "division by zero",
     "output_type": "error",
     "traceback": [
      "\u001b[1;31m---------------------------------------------------------------------------\u001b[0m",
      "\u001b[1;31mZeroDivisionError\u001b[0m                         Traceback (most recent call last)",
      "\u001b[1;32m<ipython-input-74-bf597a78a2cf>\u001b[0m in \u001b[0;36m<module>\u001b[1;34m\u001b[0m\n\u001b[0;32m      2\u001b[0m \u001b[1;33m\u001b[0m\u001b[0m\n\u001b[0;32m      3\u001b[0m \u001b[1;32mfor\u001b[0m \u001b[0mnum\u001b[0m \u001b[1;32min\u001b[0m \u001b[0mnums\u001b[0m\u001b[1;33m:\u001b[0m\u001b[1;33m\u001b[0m\u001b[1;33m\u001b[0m\u001b[0m\n\u001b[1;32m----> 4\u001b[1;33m     \u001b[0mprint\u001b[0m\u001b[1;33m(\u001b[0m\u001b[1;36m100\u001b[0m\u001b[1;33m/\u001b[0m\u001b[0mnum\u001b[0m\u001b[1;33m)\u001b[0m\u001b[1;33m\u001b[0m\u001b[1;33m\u001b[0m\u001b[0m\n\u001b[0m",
      "\u001b[1;31mZeroDivisionError\u001b[0m: division by zero"
     ]
    }
   ],
   "source": [
    "nums = [1,2,3,4,5,0, 10,15,18,22]\n",
    "\n",
    "for num in nums:\n",
    "    print(100/num)    "
   ]
  },
  {
   "cell_type": "code",
   "execution_count": 80,
   "metadata": {},
   "outputs": [
    {
     "name": "stdout",
     "output_type": "stream",
     "text": [
      "100.0\n",
      "50.0\n",
      "33.333333333333336\n",
      "25.0\n",
      "20.0\n",
      "Some Error occured!!\n",
      "10.0\n",
      "6.666666666666667\n",
      "5.555555555555555\n",
      "4.545454545454546\n"
     ]
    }
   ],
   "source": [
    "nums = [1,2,3,4,5,0, 10,15,18,22]\n",
    "\n",
    "for num in nums:\n",
    "    try:\n",
    "        print(100/num)    \n",
    "    except: # in this case whatever be the type error, I am taking care of that!\n",
    "        print('Some Error occured!!')"
   ]
  },
  {
   "cell_type": "code",
   "execution_count": 81,
   "metadata": {},
   "outputs": [
    {
     "name": "stdout",
     "output_type": "stream",
     "text": [
      "100.0\n",
      "50.0\n",
      "33.333333333333336\n",
      "25.0\n",
      "20.0\n",
      "division by zero not possible!!\n",
      "10.0\n",
      "6.666666666666667\n",
      "5.555555555555555\n",
      "4.545454545454546\n"
     ]
    }
   ],
   "source": [
    "nums = [1,2,3,4,5,0, 10,15,18,22]\n",
    "\n",
    "for num in nums:\n",
    "    try:\n",
    "        print(100/num)    \n",
    "    except ZeroDivisionError as e:  # Immediately one can figure out that your are \"catching\" the ZeroDivisionError error\n",
    "        print('division by zero not possible!!')"
   ]
  },
  {
   "cell_type": "markdown",
   "metadata": {},
   "source": [
    "# Functions in Python!\n",
    "\n",
    "Functions are created/written for code RE-USABILITY!"
   ]
  },
  {
   "cell_type": "code",
   "execution_count": 94,
   "metadata": {},
   "outputs": [],
   "source": [
    "def check_prime(num):    \n",
    "    try:\n",
    "        for x in range(2, int(math.sqrt(num))+1):\n",
    "#             print('the value of x in the current iter:', x)\n",
    "            if num%x == 0: # checking for remiander\n",
    "#                 print('\\n', x, 'is a factor of the', num)\n",
    "                print(num, 'is NOT prime!')\n",
    "                break\n",
    "        else:\n",
    "            print(num, 'is indeed PRIME...!')        \n",
    "    except:\n",
    "        print('INVALID Input!.')"
   ]
  },
  {
   "cell_type": "code",
   "execution_count": 95,
   "metadata": {},
   "outputs": [
    {
     "name": "stdout",
     "output_type": "stream",
     "text": [
      "97 is indeed PRIME...!\n"
     ]
    }
   ],
   "source": [
    "check_prime(97)"
   ]
  },
  {
   "cell_type": "code",
   "execution_count": 96,
   "metadata": {},
   "outputs": [
    {
     "name": "stdout",
     "output_type": "stream",
     "text": [
      "97 is indeed PRIME...!\n"
     ]
    }
   ],
   "source": [
    "a = check_prime(97)  # assigning the output of the function call to a variable named \"a\""
   ]
  },
  {
   "cell_type": "code",
   "execution_count": 100,
   "metadata": {},
   "outputs": [
    {
     "name": "stdout",
     "output_type": "stream",
     "text": [
      "None\n"
     ]
    }
   ],
   "source": [
    "print(a)"
   ]
  },
  {
   "cell_type": "code",
   "execution_count": 99,
   "metadata": {},
   "outputs": [
    {
     "data": {
      "text/plain": [
       "NoneType"
      ]
     },
     "execution_count": 99,
     "metadata": {},
     "output_type": "execute_result"
    }
   ],
   "source": [
    "type(a)"
   ]
  },
  {
   "cell_type": "code",
   "execution_count": 111,
   "metadata": {},
   "outputs": [],
   "source": [
    "def check_prime(num):  # This is called as function definition\n",
    "    '''\n",
    "    This is the docstring for this function.... meant for documentation purposes...\n",
    "    This function checks the input number if it is prime.\n",
    "    The function returns True if the input \"num\" is ptime, else False.\n",
    "    \n",
    "    input: num (int/float)\n",
    "    output: bool\n",
    "    '''\n",
    "    \n",
    "    try:\n",
    "        for x in range(2, int(math.sqrt(num))+1):\n",
    "            if num%x == 0: # checking for remiander\n",
    "                return False\n",
    "                break\n",
    "        else:\n",
    "            return True\n",
    "    except:\n",
    "        print('INVALID Input!.')"
   ]
  },
  {
   "cell_type": "code",
   "execution_count": 109,
   "metadata": {},
   "outputs": [
    {
     "name": "stdout",
     "output_type": "stream",
     "text": [
      "INVALID Input!.\n"
     ]
    }
   ],
   "source": [
    "check_prime('%^&*')   # this is function call"
   ]
  },
  {
   "cell_type": "code",
   "execution_count": 110,
   "metadata": {},
   "outputs": [
    {
     "data": {
      "text/plain": [
       "False"
      ]
     },
     "execution_count": 110,
     "metadata": {},
     "output_type": "execute_result"
    }
   ],
   "source": [
    "check_prime(55)"
   ]
  },
  {
   "cell_type": "code",
   "execution_count": 104,
   "metadata": {},
   "outputs": [
    {
     "data": {
      "text/plain": [
       "(True, bool)"
      ]
     },
     "execution_count": 104,
     "metadata": {},
     "output_type": "execute_result"
    }
   ],
   "source": [
    "a = check_prime(97)\n",
    "a, type(a)"
   ]
  },
  {
   "cell_type": "code",
   "execution_count": 114,
   "metadata": {},
   "outputs": [],
   "source": [
    "def my_fun(x,y):\n",
    "    return x+y, x*y"
   ]
  },
  {
   "cell_type": "code",
   "execution_count": 116,
   "metadata": {},
   "outputs": [],
   "source": [
    "def my_fun(x,y):  # lengthier version\n",
    "    out1 = x+y\n",
    "    out2 = x*y\n",
    "    return out1, out2"
   ]
  },
  {
   "cell_type": "code",
   "execution_count": 117,
   "metadata": {},
   "outputs": [
    {
     "data": {
      "text/plain": [
       "(30, 200)"
      ]
     },
     "execution_count": 117,
     "metadata": {},
     "output_type": "execute_result"
    }
   ],
   "source": [
    "my_fun(10, 20)"
   ]
  },
  {
   "cell_type": "code",
   "execution_count": 119,
   "metadata": {},
   "outputs": [
    {
     "data": {
      "text/plain": [
       "(30, 200)"
      ]
     },
     "execution_count": 119,
     "metadata": {},
     "output_type": "execute_result"
    }
   ],
   "source": [
    "A = my_fun(10, 20)\n",
    "A  # now A is the tuple contianing the 2 outputs!!"
   ]
  },
  {
   "cell_type": "code",
   "execution_count": 120,
   "metadata": {},
   "outputs": [],
   "source": [
    "A, B = my_fun(10, 20)  # by providing 2 output variables, we unzipped this tuple"
   ]
  },
  {
   "cell_type": "code",
   "execution_count": 121,
   "metadata": {},
   "outputs": [
    {
     "data": {
      "text/plain": [
       "30"
      ]
     },
     "execution_count": 121,
     "metadata": {},
     "output_type": "execute_result"
    }
   ],
   "source": [
    "A"
   ]
  },
  {
   "cell_type": "code",
   "execution_count": 129,
   "metadata": {},
   "outputs": [
    {
     "data": {
      "text/plain": [
       "200"
      ]
     },
     "execution_count": 129,
     "metadata": {},
     "output_type": "execute_result"
    }
   ],
   "source": [
    "B"
   ]
  },
  {
   "cell_type": "code",
   "execution_count": 132,
   "metadata": {},
   "outputs": [
    {
     "ename": "TypeError",
     "evalue": "my_fun() missing 1 required positional argument: 'y'",
     "output_type": "error",
     "traceback": [
      "\u001b[1;31m---------------------------------------------------------------------------\u001b[0m",
      "\u001b[1;31mTypeError\u001b[0m                                 Traceback (most recent call last)",
      "\u001b[1;32m<ipython-input-132-2bd61dab995b>\u001b[0m in \u001b[0;36m<module>\u001b[1;34m\u001b[0m\n\u001b[1;32m----> 1\u001b[1;33m \u001b[0mmy_fun\u001b[0m\u001b[1;33m(\u001b[0m\u001b[1;36m10\u001b[0m\u001b[1;33m)\u001b[0m  \u001b[1;31m# the function was called using one one input arguement\u001b[0m\u001b[1;33m\u001b[0m\u001b[1;33m\u001b[0m\u001b[0m\n\u001b[0m",
      "\u001b[1;31mTypeError\u001b[0m: my_fun() missing 1 required positional argument: 'y'"
     ]
    }
   ],
   "source": [
    "my_fun(10)  # the function was called using one one input arguement"
   ]
  },
  {
   "cell_type": "code",
   "execution_count": 143,
   "metadata": {},
   "outputs": [],
   "source": [
    "# a,b,c,d >>>> non-default arguements\n",
    "# e,f,g, >>>> default arguements\n",
    "def my_fun(a,b,c,d, e=10, f=True, g='Hi'): \n",
    "    pass  # keyword used to bypass "
   ]
  },
  {
   "cell_type": "code",
   "execution_count": 146,
   "metadata": {},
   "outputs": [
    {
     "ename": "SyntaxError",
     "evalue": "non-default argument follows default argument (<ipython-input-146-fd6839c421fa>, line 1)",
     "output_type": "error",
     "traceback": [
      "\u001b[1;36m  File \u001b[1;32m\"<ipython-input-146-fd6839c421fa>\"\u001b[1;36m, line \u001b[1;32m1\u001b[0m\n\u001b[1;33m    def my_fun(a,b=5,c,d, e=10, f=True, g='Hi'):\u001b[0m\n\u001b[1;37m               ^\u001b[0m\n\u001b[1;31mSyntaxError\u001b[0m\u001b[1;31m:\u001b[0m non-default argument follows default argument\n"
     ]
    }
   ],
   "source": [
    "def my_fun(a,b=5,c,d, e=10, f=True, g='Hi'):\n",
    "    pass  # keyword used to bypass "
   ]
  },
  {
   "cell_type": "code",
   "execution_count": 133,
   "metadata": {},
   "outputs": [],
   "source": [
    "# Here x is a \"positional\" arguement (var which does not have a defualt value)\n",
    "#  here y is a \"keyword\" arguent, as it has a default value \n",
    "\n",
    "# VVVVV IMP RULE: the Positional arguements must be DEFINED (as well as CALLED) BEFORE the Keyword Arguements!!\n",
    "\n",
    "def my_fun(x, y=20):  # here we are proving a default value to y, \n",
    "#     whcih gets used if no value is provied in the function call\n",
    "    return x+y, x*y"
   ]
  },
  {
   "cell_type": "code",
   "execution_count": 140,
   "metadata": {},
   "outputs": [
    {
     "ename": "SyntaxError",
     "evalue": "non-default argument follows default argument (<ipython-input-140-2c426b8a844f>, line 1)",
     "output_type": "error",
     "traceback": [
      "\u001b[1;36m  File \u001b[1;32m\"<ipython-input-140-2c426b8a844f>\"\u001b[1;36m, line \u001b[1;32m1\u001b[0m\n\u001b[1;33m    def my_fun(x=10, y):  # here we are proving a default value to y,\u001b[0m\n\u001b[1;37m               ^\u001b[0m\n\u001b[1;31mSyntaxError\u001b[0m\u001b[1;31m:\u001b[0m non-default argument follows default argument\n"
     ]
    }
   ],
   "source": [
    "def my_fun(x=10, y):  # here we are proving a default value to y, \n",
    "#     whcih gets used if no value is provied in the function call\n",
    "    return x+y, x*y"
   ]
  },
  {
   "cell_type": "code",
   "execution_count": 134,
   "metadata": {},
   "outputs": [
    {
     "data": {
      "text/plain": [
       "(30, 200)"
      ]
     },
     "execution_count": 134,
     "metadata": {},
     "output_type": "execute_result"
    }
   ],
   "source": [
    "my_fun(10)"
   ]
  },
  {
   "cell_type": "code",
   "execution_count": 135,
   "metadata": {},
   "outputs": [
    {
     "data": {
      "text/plain": [
       "(25, 150)"
      ]
     },
     "execution_count": 135,
     "metadata": {},
     "output_type": "execute_result"
    }
   ],
   "source": [
    "my_fun(10, 15)"
   ]
  },
  {
   "cell_type": "code",
   "execution_count": 136,
   "metadata": {},
   "outputs": [
    {
     "data": {
      "text/plain": [
       "(15, 50)"
      ]
     },
     "execution_count": 136,
     "metadata": {},
     "output_type": "execute_result"
    }
   ],
   "source": [
    "my_fun(y=10, x=5)  # while providing the names to EACH input arguement, we can change the sequence very well."
   ]
  },
  {
   "cell_type": "code",
   "execution_count": 137,
   "metadata": {},
   "outputs": [
    {
     "ename": "SyntaxError",
     "evalue": "positional argument follows keyword argument (<ipython-input-137-5cbbfa609967>, line 1)",
     "output_type": "error",
     "traceback": [
      "\u001b[1;36m  File \u001b[1;32m\"<ipython-input-137-5cbbfa609967>\"\u001b[1;36m, line \u001b[1;32m1\u001b[0m\n\u001b[1;33m    my_fun(x=10, 5)\u001b[0m\n\u001b[1;37m                 ^\u001b[0m\n\u001b[1;31mSyntaxError\u001b[0m\u001b[1;31m:\u001b[0m positional argument follows keyword argument\n"
     ]
    }
   ],
   "source": [
    "# REMMBER THAT in function calls positional argument MUST come before the keyword argument\n",
    "my_fun(x=10, 5)"
   ]
  },
  {
   "cell_type": "code",
   "execution_count": 138,
   "metadata": {},
   "outputs": [
    {
     "data": {
      "text/plain": [
       "(15, 50)"
      ]
     },
     "execution_count": 138,
     "metadata": {},
     "output_type": "execute_result"
    }
   ],
   "source": [
    "my_fun(5, y=10)"
   ]
  },
  {
   "cell_type": "code",
   "execution_count": 139,
   "metadata": {},
   "outputs": [
    {
     "ename": "TypeError",
     "evalue": "my_fun() got multiple values for argument 'x'",
     "output_type": "error",
     "traceback": [
      "\u001b[1;31m---------------------------------------------------------------------------\u001b[0m",
      "\u001b[1;31mTypeError\u001b[0m                                 Traceback (most recent call last)",
      "\u001b[1;32m<ipython-input-139-f41b0d0124fe>\u001b[0m in \u001b[0;36m<module>\u001b[1;34m\u001b[0m\n\u001b[1;32m----> 1\u001b[1;33m \u001b[0mmy_fun\u001b[0m\u001b[1;33m(\u001b[0m\u001b[1;36m5\u001b[0m\u001b[1;33m,\u001b[0m \u001b[0mx\u001b[0m\u001b[1;33m=\u001b[0m\u001b[1;36m10\u001b[0m\u001b[1;33m)\u001b[0m\u001b[1;33m\u001b[0m\u001b[1;33m\u001b[0m\u001b[0m\n\u001b[0m",
      "\u001b[1;31mTypeError\u001b[0m: my_fun() got multiple values for argument 'x'"
     ]
    }
   ],
   "source": [
    "my_fun(5, x=10)"
   ]
  },
  {
   "cell_type": "markdown",
   "metadata": {},
   "source": [
    "## Function scopes"
   ]
  },
  {
   "cell_type": "code",
   "execution_count": 150,
   "metadata": {},
   "outputs": [],
   "source": [
    "a = 3.14\n",
    "b = 500"
   ]
  },
  {
   "cell_type": "code",
   "execution_count": 151,
   "metadata": {},
   "outputs": [],
   "source": [
    "def my_fun(x=5, y=10):\n",
    "    a = 100\n",
    "    return a+x+y, a*x*y"
   ]
  },
  {
   "cell_type": "code",
   "execution_count": 152,
   "metadata": {},
   "outputs": [
    {
     "data": {
      "text/plain": [
       "(115, 5000)"
      ]
     },
     "execution_count": 152,
     "metadata": {},
     "output_type": "execute_result"
    }
   ],
   "source": [
    "my_fun()  # clear the value of a = 100 in the return statement"
   ]
  },
  {
   "cell_type": "code",
   "execution_count": 162,
   "metadata": {},
   "outputs": [],
   "source": [
    "def my_fun(x=5, y=10):\n",
    "#     here a & apple ARE LOCAL variables\n",
    "    a = 100\n",
    "    apple = 100\n",
    "    return apple+a+x+y+b, a*x*y+b"
   ]
  },
  {
   "cell_type": "code",
   "execution_count": 163,
   "metadata": {},
   "outputs": [
    {
     "data": {
      "text/plain": [
       "(715, 5500)"
      ]
     },
     "execution_count": 163,
     "metadata": {},
     "output_type": "execute_result"
    }
   ],
   "source": [
    "my_fun()  # we are able to access \"b\" within the function, \n",
    "# although it has not beeen explicitly defined within the function\n",
    "\n",
    "# Reason: Functions have \"access\" to ALL the variables from the main workspace/namespace!\n",
    "# (whatever is avaialbe using \"whos\" command)\n",
    "# but the reverse is not true (means the variables defined within the functions ARE NOT accessible \n",
    "# outside the funtions"
   ]
  },
  {
   "cell_type": "code",
   "execution_count": 164,
   "metadata": {},
   "outputs": [
    {
     "name": "stdout",
     "output_type": "stream",
     "text": [
      "Variable            Type        Data/Info\n",
      "-----------------------------------------\n",
      "A                   int         30\n",
      "A1                  int         30\n",
      "B                   int         200\n",
      "B1                  int         200\n",
      "a                   float       3.14\n",
      "b                   int         500\n",
      "check_prime         function    <function check_prime at 0x00000181A3CCF670>\n",
      "math                module      <module 'math' (built-in)>\n",
      "my_fun              function    <function my_fun at 0x00000181A3CFFCA0>\n",
      "num                 int         22\n",
      "num_to_be_guessed   int         6\n",
      "nums                list        n=10\n",
      "p                   tuple       n=2\n",
      "time                module      <module 'time' (built-in)>\n",
      "x                   int         29\n"
     ]
    }
   ],
   "source": [
    "whos"
   ]
  },
  {
   "cell_type": "code",
   "execution_count": 169,
   "metadata": {},
   "outputs": [
    {
     "ename": "NameError",
     "evalue": "name 'apple' is not defined",
     "output_type": "error",
     "traceback": [
      "\u001b[1;31m---------------------------------------------------------------------------\u001b[0m",
      "\u001b[1;31mNameError\u001b[0m                                 Traceback (most recent call last)",
      "\u001b[1;32m<ipython-input-169-b8b060a519ec>\u001b[0m in \u001b[0;36m<module>\u001b[1;34m\u001b[0m\n\u001b[1;32m----> 1\u001b[1;33m \u001b[0mapple\u001b[0m\u001b[1;33m*\u001b[0m\u001b[1;36m100\u001b[0m\u001b[1;33m\u001b[0m\u001b[1;33m\u001b[0m\u001b[0m\n\u001b[0m",
      "\u001b[1;31mNameError\u001b[0m: name 'apple' is not defined"
     ]
    }
   ],
   "source": [
    "apple*100"
   ]
  },
  {
   "cell_type": "code",
   "execution_count": 167,
   "metadata": {},
   "outputs": [],
   "source": [
    "def my_fun123(x=5, y=10):\n",
    "#     here a & apple ARE LOCAL variables\n",
    "    a = 10\n",
    "#     apple = 10\n",
    "    return apple+a+x+y+b, a*x*y+b"
   ]
  },
  {
   "cell_type": "code",
   "execution_count": 168,
   "metadata": {},
   "outputs": [
    {
     "ename": "NameError",
     "evalue": "name 'apple' is not defined",
     "output_type": "error",
     "traceback": [
      "\u001b[1;31m---------------------------------------------------------------------------\u001b[0m",
      "\u001b[1;31mNameError\u001b[0m                                 Traceback (most recent call last)",
      "\u001b[1;32m<ipython-input-168-f808886942a0>\u001b[0m in \u001b[0;36m<module>\u001b[1;34m\u001b[0m\n\u001b[1;32m----> 1\u001b[1;33m \u001b[0mmy_fun123\u001b[0m\u001b[1;33m(\u001b[0m\u001b[1;33m)\u001b[0m\u001b[1;33m\u001b[0m\u001b[1;33m\u001b[0m\u001b[0m\n\u001b[0m",
      "\u001b[1;32m<ipython-input-167-46be662385a9>\u001b[0m in \u001b[0;36mmy_fun123\u001b[1;34m(x, y)\u001b[0m\n\u001b[0;32m      3\u001b[0m     \u001b[0ma\u001b[0m \u001b[1;33m=\u001b[0m \u001b[1;36m10\u001b[0m\u001b[1;33m\u001b[0m\u001b[1;33m\u001b[0m\u001b[0m\n\u001b[0;32m      4\u001b[0m \u001b[1;31m#     apple = 10\u001b[0m\u001b[1;33m\u001b[0m\u001b[1;33m\u001b[0m\u001b[1;33m\u001b[0m\u001b[0m\n\u001b[1;32m----> 5\u001b[1;33m     \u001b[1;32mreturn\u001b[0m \u001b[0mapple\u001b[0m\u001b[1;33m+\u001b[0m\u001b[0ma\u001b[0m\u001b[1;33m+\u001b[0m\u001b[0mx\u001b[0m\u001b[1;33m+\u001b[0m\u001b[0my\u001b[0m\u001b[1;33m+\u001b[0m\u001b[0mb\u001b[0m\u001b[1;33m,\u001b[0m \u001b[0ma\u001b[0m\u001b[1;33m*\u001b[0m\u001b[0mx\u001b[0m\u001b[1;33m*\u001b[0m\u001b[0my\u001b[0m\u001b[1;33m+\u001b[0m\u001b[0mb\u001b[0m\u001b[1;33m\u001b[0m\u001b[1;33m\u001b[0m\u001b[0m\n\u001b[0m",
      "\u001b[1;31mNameError\u001b[0m: name 'apple' is not defined"
     ]
    }
   ],
   "source": [
    "my_fun123()"
   ]
  },
  {
   "cell_type": "code",
   "execution_count": 170,
   "metadata": {},
   "outputs": [],
   "source": [
    "# If you want the same variable to be shared across multiple functions \n",
    "# then define that variable as a GLOBAL Variable \n",
    "# (declare it explicitely Iin ALL the namespaces where you want to share it)\n",
    "\n",
    "global apple\n",
    "apple = 100\n",
    "\n",
    "def my_fun123(x=5, y=10):\n",
    "#     here a & apple ARE LOCAL variables\n",
    "# Local variables have preference over global variables if there is a name conflict.\n",
    "    a = 10\n",
    "    apple = 10  \n",
    "    return apple+a+x+y+b, a*x*y+b"
   ]
  },
  {
   "cell_type": "code",
   "execution_count": 171,
   "metadata": {},
   "outputs": [
    {
     "data": {
      "text/plain": [
       "(535, 1000)"
      ]
     },
     "execution_count": 171,
     "metadata": {},
     "output_type": "execute_result"
    }
   ],
   "source": [
    "my_fun123()"
   ]
  },
  {
   "cell_type": "code",
   "execution_count": 173,
   "metadata": {},
   "outputs": [
    {
     "data": {
      "text/plain": [
       "100"
      ]
     },
     "execution_count": 173,
     "metadata": {},
     "output_type": "execute_result"
    }
   ],
   "source": [
    "# apple"
   ]
  },
  {
   "cell_type": "code",
   "execution_count": 175,
   "metadata": {},
   "outputs": [
    {
     "name": "stdout",
     "output_type": "stream",
     "text": [
      "Variable            Type        Data/Info\n",
      "-----------------------------------------\n",
      "A                   int         30\n",
      "A1                  int         30\n",
      "B                   int         200\n",
      "B1                  int         200\n",
      "a                   float       3.14\n",
      "apple               int         100\n",
      "b                   int         500\n",
      "check_prime         function    <function check_prime at 0x00000181A3CCF670>\n",
      "math                module      <module 'math' (built-in)>\n",
      "my_fun              function    <function my_fun at 0x00000181A3CFFCA0>\n",
      "my_fun123           function    <function my_fun123 at 0x00000181A3CFFC10>\n",
      "num                 int         22\n",
      "num_to_be_guessed   int         6\n",
      "nums                list        n=10\n",
      "p                   tuple       n=2\n",
      "time                module      <module 'time' (built-in)>\n",
      "x                   int         29\n"
     ]
    }
   ],
   "source": [
    "whos"
   ]
  },
  {
   "cell_type": "code",
   "execution_count": 182,
   "metadata": {},
   "outputs": [],
   "source": [
    "del apple"
   ]
  },
  {
   "cell_type": "code",
   "execution_count": 183,
   "metadata": {},
   "outputs": [],
   "source": [
    "global apple\n",
    "apple = 100\n",
    "\n",
    "def my_fun123(x=5, y=10):\n",
    "    global apple \n",
    "    a = 10 # here a is still local \n",
    "    return apple+a+x+y+b, a*x*y+b   # value of apple being used is 100."
   ]
  },
  {
   "cell_type": "code",
   "execution_count": 184,
   "metadata": {},
   "outputs": [
    {
     "data": {
      "text/plain": [
       "(625, 1000)"
      ]
     },
     "execution_count": 184,
     "metadata": {},
     "output_type": "execute_result"
    }
   ],
   "source": [
    "my_fun123()"
   ]
  },
  {
   "cell_type": "code",
   "execution_count": 185,
   "metadata": {},
   "outputs": [
    {
     "data": {
      "text/plain": [
       "100"
      ]
     },
     "execution_count": 185,
     "metadata": {},
     "output_type": "execute_result"
    }
   ],
   "source": [
    "apple"
   ]
  },
  {
   "cell_type": "code",
   "execution_count": 193,
   "metadata": {},
   "outputs": [
    {
     "name": "stdout",
     "output_type": "stream",
     "text": [
      "140719614997376\n"
     ]
    }
   ],
   "source": [
    "global apple\n",
    "apple = 100\n",
    "print(id(apple))\n",
    "\n",
    "def my_fun123(x=5, y=10):\n",
    "    global apple # by making apple as \"global\" we have write access also now.\n",
    "    a = 10 # here a is still local \n",
    "    apple = 10\n",
    "    print(id(apple))\n",
    "    return apple+a+x+y+b, a*x*y+b   # value of apple being used is 100."
   ]
  },
  {
   "cell_type": "code",
   "execution_count": 194,
   "metadata": {},
   "outputs": [
    {
     "data": {
      "text/plain": [
       "100"
      ]
     },
     "execution_count": 194,
     "metadata": {},
     "output_type": "execute_result"
    }
   ],
   "source": [
    "apple"
   ]
  },
  {
   "cell_type": "code",
   "execution_count": 195,
   "metadata": {},
   "outputs": [
    {
     "name": "stdout",
     "output_type": "stream",
     "text": [
      "140719614994496\n"
     ]
    },
    {
     "data": {
      "text/plain": [
       "(535, 1000)"
      ]
     },
     "execution_count": 195,
     "metadata": {},
     "output_type": "execute_result"
    }
   ],
   "source": [
    "my_fun123()  # once the funxtion is called, the value of the global apple is changed/overwritten!!"
   ]
  },
  {
   "cell_type": "code",
   "execution_count": 189,
   "metadata": {},
   "outputs": [
    {
     "data": {
      "text/plain": [
       "10"
      ]
     },
     "execution_count": 189,
     "metadata": {},
     "output_type": "execute_result"
    }
   ],
   "source": [
    "apple"
   ]
  },
  {
   "cell_type": "code",
   "execution_count": 196,
   "metadata": {},
   "outputs": [
    {
     "data": {
      "text/plain": [
       "3.14"
      ]
     },
     "execution_count": 196,
     "metadata": {},
     "output_type": "execute_result"
    }
   ],
   "source": [
    "a"
   ]
  },
  {
   "cell_type": "code",
   "execution_count": 197,
   "metadata": {},
   "outputs": [],
   "source": [
    "global apple\n",
    "apple = 100\n",
    "\n",
    "def my_fun123(x=5, y=10):\n",
    "    a = 10 # here a is still local \n",
    "    apple = 10 # here apple is still local \n",
    "    return apple+a+x+y+b, a*x*y+b   # value of apple being used is 100."
   ]
  },
  {
   "cell_type": "code",
   "execution_count": 198,
   "metadata": {},
   "outputs": [
    {
     "data": {
      "text/plain": [
       "(535, 1000)"
      ]
     },
     "execution_count": 198,
     "metadata": {},
     "output_type": "execute_result"
    }
   ],
   "source": [
    "my_fun123()"
   ]
  },
  {
   "cell_type": "code",
   "execution_count": 199,
   "metadata": {},
   "outputs": [
    {
     "data": {
      "text/plain": [
       "100"
      ]
     },
     "execution_count": 199,
     "metadata": {},
     "output_type": "execute_result"
    }
   ],
   "source": [
    "apple"
   ]
  },
  {
   "cell_type": "code",
   "execution_count": null,
   "metadata": {},
   "outputs": [],
   "source": []
  },
  {
   "cell_type": "code",
   "execution_count": null,
   "metadata": {},
   "outputs": [],
   "source": []
  }
 ],
 "metadata": {
  "kernelspec": {
   "display_name": "Python 3 (ipykernel)",
   "language": "python",
   "name": "python3"
  },
  "language_info": {
   "codemirror_mode": {
    "name": "ipython",
    "version": 3
   },
   "file_extension": ".py",
   "mimetype": "text/x-python",
   "name": "python",
   "nbconvert_exporter": "python",
   "pygments_lexer": "ipython3",
   "version": "3.9.7"
  }
 },
 "nbformat": 4,
 "nbformat_minor": 4
}
