{
 "cells": [
  {
   "cell_type": "code",
   "execution_count": 2,
   "id": "a31c850f",
   "metadata": {},
   "outputs": [],
   "source": [
    "# Programming Construct in Python"
   ]
  },
  {
   "cell_type": "code",
   "execution_count": 3,
   "id": "7df995ab",
   "metadata": {},
   "outputs": [],
   "source": [
    "import time"
   ]
  },
  {
   "cell_type": "code",
   "execution_count": 4,
   "id": "631b6f54",
   "metadata": {},
   "outputs": [
    {
     "name": "stdout",
     "output_type": "stream",
     "text": [
      "Guess the number: 4\n",
      "Your guess is incorrect :-(. Please try again.\n",
      "Guess the number: 78\n",
      "Your guess is incorrect :-(. Please try again.\n",
      "Guess the number: 46\n",
      "Your guess is incorrect :-(. Please try again.\n",
      "Guess the number: 6\n",
      "Yay! you have guessed it right!\n"
     ]
    }
   ],
   "source": [
    "num_to_be_guessed = 6  # later on we'll use the random module from NumPy to\n",
    "# gernerate a random integer.\n",
    "while True:\n",
    "    p = int(input(\"Guess the number: \"))\n",
    "    if p== num_to_be_guessed:\n",
    "        print('Yay! you have guessed it right!')\n",
    "        break  # break out of the while loop\n",
    "    else:\n",
    "        print(\"Your guess is incorrect :-(. Please try again.\")"
   ]
  },
  {
   "cell_type": "code",
   "execution_count": 5,
   "id": "f48243d4",
   "metadata": {},
   "outputs": [
    {
     "name": "stdout",
     "output_type": "stream",
     "text": [
      "Guess the number: 7\n",
      "Your guess is incorrect :-(. Please try again.\n",
      "Guess the number 123....: f\n"
     ]
    },
    {
     "ename": "ValueError",
     "evalue": "invalid literal for int() with base 10: 'f'",
     "output_type": "error",
     "traceback": [
      "\u001b[1;31m---------------------------------------------------------------------------\u001b[0m",
      "\u001b[1;31mValueError\u001b[0m                                Traceback (most recent call last)",
      "\u001b[1;32m~\\AppData\\Local\\Temp/ipykernel_34088/997345724.py\u001b[0m in \u001b[0;36m<module>\u001b[1;34m\u001b[0m\n\u001b[0;32m      3\u001b[0m \u001b[1;32mwhile\u001b[0m \u001b[0mp\u001b[0m\u001b[1;33m!=\u001b[0m\u001b[1;36m6\u001b[0m\u001b[1;33m:\u001b[0m \u001b[1;31m# keep iterating as long as p is not equal to 6\u001b[0m\u001b[1;33m\u001b[0m\u001b[1;33m\u001b[0m\u001b[0m\n\u001b[0;32m      4\u001b[0m     \u001b[0mprint\u001b[0m\u001b[1;33m(\u001b[0m\u001b[1;34m\"Your guess is incorrect :-(. Please try again.\"\u001b[0m\u001b[1;33m)\u001b[0m\u001b[1;33m\u001b[0m\u001b[1;33m\u001b[0m\u001b[0m\n\u001b[1;32m----> 5\u001b[1;33m     \u001b[0mp\u001b[0m \u001b[1;33m=\u001b[0m \u001b[0mint\u001b[0m\u001b[1;33m(\u001b[0m\u001b[0minput\u001b[0m\u001b[1;33m(\u001b[0m\u001b[1;34m\"Guess the number 123....: \"\u001b[0m\u001b[1;33m)\u001b[0m\u001b[1;33m)\u001b[0m\u001b[1;33m\u001b[0m\u001b[1;33m\u001b[0m\u001b[0m\n\u001b[0m\u001b[0;32m      6\u001b[0m \u001b[1;32melse\u001b[0m\u001b[1;33m:\u001b[0m\u001b[1;33m\u001b[0m\u001b[1;33m\u001b[0m\u001b[0m\n\u001b[0;32m      7\u001b[0m     \u001b[0mprint\u001b[0m\u001b[1;33m(\u001b[0m\u001b[1;34m'\\nYay! you have guessed it right!'\u001b[0m\u001b[1;33m)\u001b[0m\u001b[1;33m\u001b[0m\u001b[1;33m\u001b[0m\u001b[0m\n",
      "\u001b[1;31mValueError\u001b[0m: invalid literal for int() with base 10: 'f'"
     ]
    }
   ],
   "source": [
    "num_to_be_guessed = 6\n",
    "p = int(input(\"Guess the number: \"))\n",
    "while p!=6: # keep iterating as long as p is not equal to 6    \n",
    "    print(\"Your guess is incorrect :-(. Please try again.\")\n",
    "    p = int(input(\"Guess the number 123....: \"))\n",
    "else:\n",
    "    print('\\nYay! you have guessed it right!')"
   ]
  },
  {
   "cell_type": "code",
   "execution_count": null,
   "id": "db950dd4",
   "metadata": {},
   "outputs": [],
   "source": [
    "\n",
    "p = int(input(\"Guess the number: \"))\n",
    "while p/p : # keep iterating as long as p is not equal to 6    \n",
    "    print(\"Your guess is incorrect :-(. Please try again.\")\n",
    "    p = int(input(\"Guess the number 123....: \"))\n",
    "else:\n",
    "    print('\\nYay! you have guessed it right!')"
   ]
  }
 ],
 "metadata": {
  "kernelspec": {
   "display_name": "Python 3 (ipykernel)",
   "language": "python",
   "name": "python3"
  },
  "language_info": {
   "codemirror_mode": {
    "name": "ipython",
    "version": 3
   },
   "file_extension": ".py",
   "mimetype": "text/x-python",
   "name": "python",
   "nbconvert_exporter": "python",
   "pygments_lexer": "ipython3",
   "version": "3.9.7"
  }
 },
 "nbformat": 4,
 "nbformat_minor": 5
}
