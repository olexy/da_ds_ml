{
 "cells": [
  {
   "cell_type": "markdown",
   "metadata": {},
   "source": [
    "# Web Scraping Example\n",
    "\n",
    "This notebook will walk through a real life web scraping example, collecting data from [MLB's official website](https://www.mlb.com/). Our goal is to collect data on Hitting Statistics from players throughout MLB history. \n",
    "\n",
    "We will cover:\n",
    "- Examining the HTML of a web page\n",
    "- Using requests to collect raw HTML\n",
    "- Extracting data using BeautifulSoup\n",
    "- Formatting data in a pandas DataFrame\n",
    "- Automating the Web Scraping process with Python"
   ]
  },
  {
   "cell_type": "markdown",
   "metadata": {},
   "source": [
    "## Examine HTML\n",
    "\n",
    "The specific data we want to scrape can be found here: https://www.mlb.com/stats/\n",
    "\n",
    "A few things you will notice:\n",
    "- Data is spread across multiple pages\n",
    "- We need to use drop down to switch years\n",
    "\n",
    "How does the url of the page change when you switch to a different page or year?"
   ]
  },
  {
   "cell_type": "code",
   "execution_count": null,
   "metadata": {},
   "outputs": [],
   "source": []
  }
 ],
 "metadata": {
  "kernelspec": {
   "display_name": "Python (learn-env)",
   "language": "python",
   "name": "learn-env"
  },
  "language_info": {
   "codemirror_mode": {
    "name": "ipython",
    "version": 3
   },
   "file_extension": ".py",
   "mimetype": "text/x-python",
   "name": "python",
   "nbconvert_exporter": "python",
   "pygments_lexer": "ipython3",
   "version": "3.8.5"
  }
 },
 "nbformat": 4,
 "nbformat_minor": 4
}
