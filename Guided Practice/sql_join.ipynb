{
 "cells": [
  {
   "cell_type": "markdown",
   "id": "74289892-cf57-4089-ae1a-ace052bf4950",
   "metadata": {
    "tags": []
   },
   "source": [
    "<h1>Table of Contents<span class=\"tocSkip\"></span></h1>\n",
    "<span><a href=\"#Joins\" data-toc-modified-id=\"Joins-1\"><span class=\"toc-item-num\">1&nbsp;&nbsp;</span>Joins</a></span><ul class=\"toc-item\"><li><span><a href=\"#INNER-JOIN\" data-toc-modified-id=\"INNER-JOIN-1.1\"><span class=\"toc-item-num\">1.1&nbsp;&nbsp;</span><code>INNER JOIN</code></a></span><ul class=\"toc-item\"><li><span><a href=\"#Code-Example-for-Inner-Joins\" data-toc-modified-id=\"Code-Example-for-Inner-Joins-1.1.1\"><span class=\"toc-item-num\">1.1.1&nbsp;&nbsp;</span>Code Example for Inner Joins</a></span><ul class=\"toc-item\"><li><span><a href=\"#Inner-Join-Routes-&amp;-Airline-Data\" data-toc-modified-id=\"Inner-Join-Routes-&amp;-Airline-Data-1.1.1.1\"><span class=\"toc-item-num\">1.1.1.1&nbsp;&nbsp;</span>Inner Join Routes &amp; Airline Data</a></span></li><li><span><a href=\"#Note:-Losing-Data-with-Inner-Joins\" data-toc-modified-id=\"Note:-Losing-Data-with-Inner-Joins-1.1.1.2\"><span class=\"toc-item-num\">1.1.1.2&nbsp;&nbsp;</span>Note: Losing Data with Inner Joins</a></span></li></ul></li></ul></li><li><span><a href=\"#LEFT-JOIN\" data-toc-modified-id=\"LEFT-JOIN-1.2\"><span class=\"toc-item-num\">1.2&nbsp;&nbsp;</span><code>LEFT JOIN</code></a></span><ul class=\"toc-item\"><li><span><a href=\"#Code-Example-for-Left-Join\" data-toc-modified-id=\"Code-Example-for-Left-Join-1.2.1\"><span class=\"toc-item-num\">1.2.1&nbsp;&nbsp;</span>Code Example for Left Join</a></span></li></ul></li><li><span><a href=\"#Exercise:-Joins\" data-toc-modified-id=\"Exercise:-Joins-1.3\"><span class=\"toc-item-num\">1.3&nbsp;&nbsp;</span>Exercise: Joins</a></span><ul class=\"toc-item\"><li><span><a href=\"#Possible-Solution\" data-toc-modified-id=\"Possible-Solution-1.3.1\"><span class=\"toc-item-num\">1.3.1&nbsp;&nbsp;</span>Possible Solution</a></span></li></ul></li></ul></li>"
   ]
  },
  {
   "cell_type": "markdown",
   "id": "f6e9a9a9-4a6d-40ca-a140-a9e5ef5257c6",
   "metadata": {},
   "source": [
    "![sql](img/sql-logo.jpg)"
   ]
  },
  {
   "cell_type": "markdown",
   "id": "a0fdfe46-971f-4566-a510-1c03e1eebcee",
   "metadata": {
    "heading_collapsed": true,
    "tags": []
   },
   "source": [
    "# Joins"
   ]
  },
  {
   "cell_type": "markdown",
   "id": "88109929-1f9a-48ad-991d-a002436c0bd4",
   "metadata": {
    "hidden": true
   },
   "source": [
    "The biggest advantage in using a relational database (like we've been with SQL) is that you can create **joins**."
   ]
  },
  {
   "cell_type": "markdown",
   "id": "f9be6a16-33ad-432e-ae6c-e16e14e4040f",
   "metadata": {
    "hidden": true
   },
   "source": [
    "> By using **`JOIN`** in our query, we can connect different tables using their _relationships_ to other tables.\n",
    ">\n",
    "> Usually we use a key (_foriegn_key_) to tell us how the two tables are related."
   ]
  },
  {
   "cell_type": "markdown",
   "id": "a53b3ed8-58ca-486a-8e76-c38ba9cd32b1",
   "metadata": {
    "hidden": true
   },
   "source": [
    "There are different types of joins and each has their different use case."
   ]
  },
  {
   "cell_type": "markdown",
   "id": "afa67161-3100-402b-a06a-e469ad0035ed",
   "metadata": {},
   "source": [
    "## Using JOIN\n",
    "SQL Joins clause is used to combine records from two or more tables in a database. A JOIN is a means for combining fields from two tables by using values common to each.\n",
    "```SELECT column-names\n",
    "  FROM table-name1 JOIN table-name2 \n",
    "    ON column-name1 = column-name2\n",
    " WHERE condition``` \n",
    " \n",
    " ```SELECT column-names\n",
    "  FROM table-name1 INNER JOIN table-name2 \n",
    "    ON column-name1 = column-name2\n",
    " WHERE condition```\n",
    " \n",
    "### Types of JOINS\n",
    "- INNER JOIN − returns rows when there is a match in both tables.\n",
    "\n",
    "- LEFT JOIN − returns all rows from the left table, even if there are no matches in the right table.\n",
    "\n",
    "- RIGHT JOIN − returns all rows from the right table, even if there are no matches in the left table.\n",
    "\n",
    "- FULL JOIN − returns rows when there is a match in one of the tables.\n",
    "![](https://www.dofactory.com/img/sql/sql-joins.png)\n",
    "\n",
    "_The difference between inner and full join is Inner join returns only the matching rows between both the tables, non-matching rows are eliminated. Full Join or Full Outer Join returns all rows from both the tables (left & right tables), including non-matching rows from both the tables_"
   ]
  },
  {
   "cell_type": "markdown",
   "id": "6df9d6f9-3b00-4314-a599-1c6bbe4ba3ee",
   "metadata": {
    "heading_collapsed": true,
    "hidden": true
   },
   "source": [
    "## `INNER JOIN`"
   ]
  },
  {
   "cell_type": "markdown",
   "id": "a07fdc82-d340-4d76-ad42-c7809078405e",
   "metadata": {
    "hidden": true
   },
   "source": [
    "> An **inner join** will join two tables together and only keep rows if the _key is in both tables_"
   ]
  },
  {
   "cell_type": "markdown",
   "id": "2fa08c4b-8df1-47f3-b47d-0c8c2f9dcb2b",
   "metadata": {
    "hidden": true
   },
   "source": [
    "![](img/inner_join.png)"
   ]
  },
  {
   "cell_type": "markdown",
   "id": "d3f26fbc-7825-404f-8567-e7e1879d50c3",
   "metadata": {
    "hidden": true
   },
   "source": [
    "Example of an inner join:\n",
    "\n",
    "```sql\n",
    "SELECT\n",
    "    table1.column_name,\n",
    "    table2.different_column_name\n",
    "FROM\n",
    "    table1\n",
    "    INNER JOIN table2\n",
    "        ON table1.shared_column_name = table2.shared_column_name\n",
    "```"
   ]
  },
  {
   "cell_type": "markdown",
   "id": "b98e8942-744a-4846-88af-88d13f90be07",
   "metadata": {
    "heading_collapsed": true,
    "hidden": true
   },
   "source": [
    "### Code Example for Inner Joins: Continuing with `flights.db`"
   ]
  },
  {
   "cell_type": "markdown",
   "id": "a337ecb5-d110-42b5-80e4-ebc5d1ec1699",
   "metadata": {
    "hidden": true
   },
   "source": [
    "Let's say we want to look at the different airplane routes"
   ]
  },
  {
   "cell_type": "code",
   "execution_count": null,
   "id": "bbb230bd-4576-44ed-906f-8d8df6447a83",
   "metadata": {},
   "outputs": [],
   "source": [
    "import sqlite3\n",
    "import pandas as pd"
   ]
  },
  {
   "cell_type": "code",
   "execution_count": null,
   "id": "2ab67c0d-821d-4fdd-a3c6-43b59e6f064b",
   "metadata": {},
   "outputs": [],
   "source": [
    "conn = sqlite3.connect('flights.db')"
   ]
  },
  {
   "cell_type": "code",
   "execution_count": null,
   "id": "4d3268ae-8477-4e8a-881d-ec5f373bd99f",
   "metadata": {},
   "outputs": [],
   "source": [
    "cursor = conn.cursor()"
   ]
  },
  {
   "cell_type": "code",
   "execution_count": null,
   "id": "110302a5-b8d8-4541-b980-f26f2873f666",
   "metadata": {},
   "outputs": [],
   "source": []
  },
  {
   "cell_type": "code",
   "execution_count": null,
   "id": "0a60bf45-a0e7-44dd-8e17-18245e972f44",
   "metadata": {
    "hidden": true
   },
   "outputs": [],
   "source": [
    "pd.read_sql('''\n",
    "    SELECT \n",
    "        *\n",
    "    FROM\n",
    "        routes \n",
    "''', conn)"
   ]
  },
  {
   "cell_type": "markdown",
   "id": "803227a1-767a-4147-965e-b7009c19c6ba",
   "metadata": {
    "hidden": true
   },
   "source": [
    "This is great but notice `airline_id`. It'd be nice to have some information about the airline for that route."
   ]
  },
  {
   "cell_type": "code",
   "execution_count": null,
   "id": "f0974777-6937-445f-b148-02b14f8c6bc8",
   "metadata": {},
   "outputs": [],
   "source": [
    "pd.read_sql('''\n",
    "SELECT * \n",
    "FROM airlines\n",
    "''',conn)"
   ]
  },
  {
   "cell_type": "markdown",
   "id": "4118be0f-fb08-40bb-8d85-9bee5cea62a8",
   "metadata": {
    "hidden": true
   },
   "source": [
    "We can do an **inner join** to get this information!"
   ]
  },
  {
   "cell_type": "markdown",
   "id": "c8200cb1-8ed3-4e14-888f-50efa9ed5100",
   "metadata": {
    "heading_collapsed": true,
    "hidden": true
   },
   "source": [
    "#### Inner Join Routes & Airline Data"
   ]
  },
  {
   "cell_type": "code",
   "execution_count": null,
   "id": "8357ba99-866c-40b6-a9cf-f6503ee5fb58",
   "metadata": {
    "hidden": true
   },
   "outputs": [],
   "source": [
    "pd.read_sql('''\n",
    "    SELECT \n",
    "        *\n",
    "    FROM\n",
    "        routes\n",
    "        INNER JOIN airlines\n",
    "            ON routes.airline_id = airlines.id\n",
    "''', conn)"
   ]
  },
  {
   "cell_type": "markdown",
   "id": "dd42207e-e2b3-4f0a-9f73-44eb9440f69b",
   "metadata": {
    "hidden": true
   },
   "source": [
    "We can also specify to only retain certain columns in the `SELECT` clause:"
   ]
  },
  {
   "cell_type": "code",
   "execution_count": null,
   "id": "2f00cf91-66c1-4011-b237-0383eff28772",
   "metadata": {
    "hidden": true
   },
   "outputs": [],
   "source": [
    "pd.read_sql('''\n",
    "    SELECT \n",
    "        routes.source AS departing\n",
    "        ,routes.dest AS destination\n",
    "        ,routes.stops AS stops_before_destination\n",
    "        ,airlines.name AS airline\n",
    "    FROM\n",
    "        routes\n",
    "        INNER JOIN airlines\n",
    "            ON routes.airline_id = airlines.id\n",
    "''', conn)"
   ]
  },
  {
   "cell_type": "markdown",
   "id": "c75124ed-e6f1-426a-9a99-6b64d7ab915b",
   "metadata": {
    "heading_collapsed": true,
    "hidden": true
   },
   "source": [
    "#### Note: Losing Data with Inner Joins"
   ]
  },
  {
   "cell_type": "markdown",
   "id": "1509ac49-90d7-4ffb-9a5f-d958a53d2953",
   "metadata": {
    "hidden": true
   },
   "source": [
    "Since data rows are kept if _both_ tables have the key, some data can be lost"
   ]
  },
  {
   "cell_type": "code",
   "execution_count": null,
   "id": "04771c5d-6a72-47c4-9e07-312c4962d007",
   "metadata": {
    "hidden": true
   },
   "outputs": [],
   "source": [
    "df_all_routes = pd.read_sql('''\n",
    "    SELECT \n",
    "        *\n",
    "    FROM\n",
    "        routes\n",
    "''', conn)\n",
    "\n",
    "df_routes_after_join = pd.read_sql('''\n",
    "    SELECT \n",
    "        *\n",
    "    FROM\n",
    "        routes\n",
    "        INNER JOIN airlines\n",
    "            ON routes.airline_id = airlines.id\n",
    "''', conn)"
   ]
  },
  {
   "cell_type": "code",
   "execution_count": null,
   "id": "f58e3332-3b0e-4747-96c4-bb6a60efd389",
   "metadata": {
    "hidden": true
   },
   "outputs": [],
   "source": [
    "# Look at how the number of rows are different\n",
    "df_all_routes.shape, df_routes_after_join.shape "
   ]
  },
  {
   "cell_type": "markdown",
   "id": "2ee593fe-f6a9-4421-875b-0700942bd409",
   "metadata": {
    "hidden": true
   },
   "source": [
    "If you want to keep your data from at least one of your tables, you should use a left join instead of an inner join."
   ]
  },
  {
   "cell_type": "markdown",
   "id": "83ce1f6e-909e-471e-9d8b-2c59992fd686",
   "metadata": {
    "heading_collapsed": true,
    "hidden": true
   },
   "source": [
    "## `LEFT JOIN`"
   ]
  },
  {
   "cell_type": "markdown",
   "id": "79332373-5df6-4890-8e7f-ecb1358d9a85",
   "metadata": {
    "hidden": true
   },
   "source": [
    "> A **left join** will join two tables together and but will keep all data from the first (left) table using the key provided."
   ]
  },
  {
   "cell_type": "markdown",
   "id": "657572dd-c90c-4176-bcf8-f6fc52889bbd",
   "metadata": {
    "hidden": true
   },
   "source": [
    "![](img/left_join.png)"
   ]
  },
  {
   "cell_type": "markdown",
   "id": "72dc0a61-24d0-450a-b8e9-73ac63fe9af1",
   "metadata": {
    "hidden": true
   },
   "source": [
    "Example of a left and right join:\n",
    "\n",
    "```sql\n",
    "SELECT\n",
    "    table1.column_name,\n",
    "    table2.different_column_name\n",
    "FROM\n",
    "    table1\n",
    "    LEFT JOIN table2\n",
    "        ON table1.shared_column_name = table2.shared_column_name\n",
    "```"
   ]
  },
  {
   "cell_type": "markdown",
   "id": "802b8917-a916-45b9-8aa6-2bcf425d2b93",
   "metadata": {
    "heading_collapsed": true,
    "hidden": true
   },
   "source": [
    "### Code Example for Left Join"
   ]
  },
  {
   "cell_type": "markdown",
   "id": "bcb7775e-e6ae-4895-b151-cd4d18e05c14",
   "metadata": {
    "hidden": true
   },
   "source": [
    "Recall our example using an inner join and how it lost some data since the key wasn't in both the `routes` _and_ `airlines` tables. "
   ]
  },
  {
   "cell_type": "code",
   "execution_count": null,
   "id": "34a9f175-8418-4c7a-9d4f-b188ec3093f9",
   "metadata": {
    "hidden": true
   },
   "outputs": [],
   "source": [
    "df_all_routes = pd.read_sql('''\n",
    "    SELECT \n",
    "        *\n",
    "    FROM\n",
    "        routes\n",
    "''', conn)\n",
    "\n",
    "# This will lose some data (some routes not included)\n",
    "df_routes_after_inner_join = pd.read_sql('''\n",
    "    SELECT \n",
    "        *\n",
    "    FROM\n",
    "        routes\n",
    "        INNER JOIN airlines\n",
    "            ON routes.airline_id = airlines.id\n",
    "''', conn)\n",
    "\n",
    "# The number of rows are different\n",
    "df_all_routes.shape, df_routes_after_inner_join.shape"
   ]
  },
  {
   "cell_type": "markdown",
   "id": "adff8843-a36c-4aa3-864c-6669306e9fcc",
   "metadata": {
    "hidden": true
   },
   "source": [
    "If wanted to ensure we always had every route even if the key in `airlines` was not found, we could replace our `INNER JOIN` with a `LEFT JOIN`:"
   ]
  },
  {
   "cell_type": "code",
   "execution_count": null,
   "id": "3418436f-7fc3-47ab-bf4a-9ddbe196a34f",
   "metadata": {
    "hidden": true
   },
   "outputs": [],
   "source": [
    "# This will include all the data from routes\n",
    "df_routes_after_left_join = pd.read_sql('''\n",
    "    SELECT \n",
    "        *\n",
    "    FROM\n",
    "        routes\n",
    "        LEFT JOIN airlines\n",
    "            ON routes.airline_id = airlines.id\n",
    "''', conn)\n",
    "\n",
    "df_routes_after_left_join.shape"
   ]
  },
  {
   "cell_type": "markdown",
   "id": "086218b5-4669-44f9-8144-7d5ff493b1e9",
   "metadata": {
    "heading_collapsed": true,
    "hidden": true
   },
   "source": [
    "## Exercise: Joins"
   ]
  },
  {
   "cell_type": "markdown",
   "id": "18f4d2ed-5322-4ef7-aff4-5e011c96c84e",
   "metadata": {
    "hidden": true
   },
   "source": [
    "Which airline has the most routes listed in our database?"
   ]
  },
  {
   "cell_type": "code",
   "execution_count": null,
   "id": "048f6e59-8103-4677-93b4-b0daa5ddb779",
   "metadata": {
    "hidden": true
   },
   "outputs": [],
   "source": [
    "# Your code here\n"
   ]
  },
  {
   "cell_type": "markdown",
   "id": "fc0ef5a4-9f3d-4e65-b5f3-8c31c43b8d45",
   "metadata": {
    "tags": []
   },
   "source": [
    "### Possible solution"
   ]
  },
  {
   "cell_type": "markdown",
   "id": "9c53e597-880d-40ec-8620-c61851fa4127",
   "metadata": {
    "hidden": true,
    "jupyter": {
     "source_hidden": true
    },
    "tags": []
   },
   "source": [
    "```sql \n",
    "SELECT\n",
    "    airlines.name AS airline,\n",
    "    COUNT() AS number_of_routes\n",
    "-- We first need to get all the relevant info via a join\n",
    "FROM\n",
    "    routes\n",
    "    -- LEFT JOIN since we want all routes (even if airline id is unknown)\n",
    "    LEFT JOIN airlines\n",
    "        ON routes.airline_id = airlines.id\n",
    "-- We need to group by airline's ID\n",
    "GROUP BY\n",
    "    airlines.id\n",
    "ORDER BY\n",
    "    number_of_routes DESC\n",
    "```"
   ]
  },
  {
   "cell_type": "markdown",
   "id": "b1142d4d-d940-404f-81bb-46219f1b2473",
   "metadata": {},
   "source": [
    "# Let's try some more joins with another database."
   ]
  },
  {
   "cell_type": "code",
   "execution_count": null,
   "id": "c5f3904e-6353-47bd-900c-7da8a6bd128a",
   "metadata": {},
   "outputs": [],
   "source": [
    "conn = sqlite3.Connection('pokedex.db')\n",
    "cur = conn.cursor()"
   ]
  },
  {
   "cell_type": "markdown",
   "id": "49809f12-a1ab-409e-b197-ac3991efb435",
   "metadata": {},
   "source": [
    "### Lets explore the schema first so we know what our tables and their data are."
   ]
  },
  {
   "cell_type": "code",
   "execution_count": null,
   "id": "494d6fcd-2740-4b39-bc7e-7bc2610cc7fc",
   "metadata": {},
   "outputs": [],
   "source": [
    "pd.read_sql('''\n",
    "SELECT *\n",
    "FROM sqlite_master''',conn)['sql']"
   ]
  },
  {
   "cell_type": "markdown",
   "id": "23f29137-24dd-403d-8d79-aea75035827c",
   "metadata": {},
   "source": [
    "### Create a table of move names, type, and type ID"
   ]
  },
  {
   "cell_type": "code",
   "execution_count": null,
   "id": "79e477e4-ad8e-4d16-bb3b-4f041b8146db",
   "metadata": {
    "ExecuteTime": {
     "end_time": "2021-06-02T18:51:03.716039Z",
     "start_time": "2021-06-02T18:51:03.692452Z"
    }
   },
   "outputs": [],
   "source": [
    "df = pd.read_sql('''SELECT move, identifier, id\n",
    "                FROM learned_moves\n",
    "                JOIN types\n",
    "                ON type_id=id''',conn)\n",
    "\n",
    "df.head()"
   ]
  },
  {
   "cell_type": "markdown",
   "id": "3a0befa9-aa21-4548-a861-52dd386d36c0",
   "metadata": {},
   "source": [
    "### Find the two Pokemon types with the least weaknesses"
   ]
  },
  {
   "cell_type": "code",
   "execution_count": null,
   "id": "02fbdd70-ed1f-4832-bef8-813ad18c11bb",
   "metadata": {
    "ExecuteTime": {
     "end_time": "2021-06-02T19:03:09.482042Z",
     "start_time": "2021-06-02T19:03:09.472767Z"
    }
   },
   "outputs": [],
   "source": [
    "df =pd.read_sql('''\n",
    "            SELECT identifier as type, COUNT(attacking_type) AS num_weaknesses\n",
    "            FROM weaknesses\n",
    "            JOIN types\n",
    "            ON defending_type=id\n",
    "            WHERE damage_factor=200\n",
    "            GROUP BY defending_type\n",
    "            ORDER BY num_weaknesses\n",
    "            \n",
    "            ''',conn)\n",
    "df"
   ]
  },
  {
   "cell_type": "markdown",
   "id": "291f4ca8-44ae-4b09-b234-a1955fb4e5f7",
   "metadata": {},
   "source": [
    "### Find the top 5 Pokemon having the highest variety of move types."
   ]
  },
  {
   "cell_type": "code",
   "execution_count": null,
   "id": "7bd18d3e-688c-461e-ae46-2ae8faaea4ea",
   "metadata": {
    "ExecuteTime": {
     "end_time": "2021-06-02T12:49:56.461479Z",
     "start_time": "2021-06-02T12:49:56.449651Z"
    }
   },
   "outputs": [],
   "source": [
    "pd.read_sql('''\n",
    "            SELECT name, COUNT(DISTINCT type_id) AS num_move_types\n",
    "            FROM pokemon\n",
    "            JOIN learned_moves\n",
    "            ON id=pokemon_id\n",
    "            GROUP BY name\n",
    "            ORDER BY num_move_types DESC\n",
    "            LIMIT 5\n",
    "            ''',conn)\n",
    "\n",
    "df"
   ]
  },
  {
   "cell_type": "markdown",
   "id": "116c24d9-961b-4df1-8556-ef6d46f0f234",
   "metadata": {},
   "source": [
    "### Get the names of all Pokemon who learn a super effective move against Water type Pokemon. Also include the name of one of these moves the Pokemon learns."
   ]
  },
  {
   "cell_type": "markdown",
   "id": "324abaac-24d3-4c02-bcd4-519586da7baa",
   "metadata": {
    "ExecuteTime": {
     "end_time": "2021-06-02T12:50:25.276776Z",
     "start_time": "2021-06-02T12:50:25.273423Z"
    }
   },
   "source": [
    "First, try using a subquery to get types super effective against water."
   ]
  },
  {
   "cell_type": "code",
   "execution_count": null,
   "id": "e401d6ee-54ee-45fe-bbeb-575b84460378",
   "metadata": {
    "ExecuteTime": {
     "end_time": "2021-06-02T12:51:07.132801Z",
     "start_time": "2021-06-02T12:51:07.124813Z"
    }
   },
   "outputs": [],
   "source": [
    "df = pd.read_sql('''\n",
    "            SELECT identifier as type\n",
    "            FROM types\n",
    "            JOIN weaknesses\n",
    "            ON attacking_type=id\n",
    "            WHERE defending_type IN (SELECT id FROM types WHERE identifier=\"water\")\n",
    "            AND damage_factor=200\n",
    "            ''',conn)\n",
    "df.head()"
   ]
  },
  {
   "cell_type": "code",
   "execution_count": null,
   "id": "d7e8464b-d92b-4794-bca9-b91c6c3cdd6e",
   "metadata": {
    "ExecuteTime": {
     "end_time": "2021-06-02T12:52:46.045763Z",
     "start_time": "2021-06-02T12:52:46.033671Z"
    }
   },
   "outputs": [],
   "source": [
    "pd.read_sql('''\n",
    "            SELECT name, move\n",
    "            FROM Pokemon p\n",
    "            JOIN learned_moves m \n",
    "            ON p.id = pokemon_id\n",
    "            JOIN types t\n",
    "            ON type_id = t.id\n",
    "            JOIN weaknesses\n",
    "            ON attacking_type=t.id\n",
    "            WHERE defending_type IN (SELECT id FROM types WHERE identifier=\"water\")\n",
    "            AND damage_factor=200\n",
    "            GROUP BY name\n",
    "            ''',conn)\n",
    "\n",
    "df.head()"
   ]
  }
 ],
 "metadata": {
  "kernelspec": {
   "display_name": "Python 3",
   "language": "python",
   "name": "python3"
  },
  "language_info": {
   "codemirror_mode": {
    "name": "ipython",
    "version": 3
   },
   "file_extension": ".py",
   "mimetype": "text/x-python",
   "name": "python",
   "nbconvert_exporter": "python",
   "pygments_lexer": "ipython3",
   "version": "3.9.5"
  }
 },
 "nbformat": 4,
 "nbformat_minor": 5
}
