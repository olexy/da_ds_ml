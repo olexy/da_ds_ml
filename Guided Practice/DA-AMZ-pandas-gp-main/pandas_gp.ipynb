{
 "cells": [
  {
   "cell_type": "markdown",
   "metadata": {},
   "source": [
    "# Pandas Guided Practice - Improving Store Profits\n",
    "\n",
    "A Superstore is seeking your knowledge in understanding what works best for them. They would like you to provide a few concrete recommendations for how they can maximize their profits.\n",
    "\n",
    "The data provided is stored in three different files inside of the `data` folder:\n",
    "- `orders.csv`: General order information (date, shipping method, quantity ordered, profit, etc)\n",
    "- `customers.csv`: Unique customers who placed orders to the store\n",
    "- `products.csv`: Unique products ordered from the store\n",
    "\n",
    "It covers all orders made to the Superstore over the past few years.\n",
    "\n",
    "The original dataset can be found on [Kaggle](https://www.kaggle.com/datasets/vivek468/superstore-dataset-final)\n",
    "\n",
    "### Tasks\n",
    "\n",
    "There are a few high-level tasks we will need to complete:\n",
    "- Formatting the data\n",
    "- Cleaning the data\n",
    "- Exploring what the Superstore should sell (or not sell)\n",
    "- Determining what they should be selling *when*?\n",
    "\n",
    "#### Pair Programming\n",
    "\n",
    "There are specific instructions for completing each of these tasks below. You and a partner will be given ten minutes in a breakout room to work through each task. We recommend you both work on the same notebook by having one person share their screen. This also allows the person who is not screen sharing to do the searching on Google when necessary. After ten minutes we will get back together and work through the task as a group."
   ]
  },
  {
   "cell_type": "code",
   "execution_count": 1,
   "metadata": {},
   "outputs": [],
   "source": [
    "# Import libraries\n",
    "import pandas as pd\n",
    "import numpy as np\n",
    "import matplotlib.pyplot as plt\n",
    "import seaborn as sns\n",
    "%matplotlib inline"
   ]
  },
  {
   "cell_type": "markdown",
   "metadata": {},
   "source": [
    "## Format Data\n",
    "\n",
    "Take a few minutes in a breakout room to format the data into a single dataframe.\n",
    "\n",
    "Tasks:\n",
    "- Begin by reading each individual file into it's own DataFrame and finding the common columns (what you will join on)\n",
    "- Drop the `Unnamed: 0` column from each of the three DataFrames\n",
    "- Combine `orders.csv`, `customers.csv`, and `products.csv` into a single DataFrame, `df_base`\n",
    "- Create a copy of `df_base` and call it `df`. This will be the DataFrame we work with moving forward.\n",
    "- Clean the column names so spaces are replaced with underscores and all text is lowercase\n",
    "\n",
    "All three csvs are stored in the `data` folder so the path to each file will be similar (`./data/<filename>`)"
   ]
  },
  {
   "cell_type": "code",
   "execution_count": null,
   "metadata": {},
   "outputs": [],
   "source": [
    "# Your code here (add as many cells as needed)"
   ]
  },
  {
   "cell_type": "code",
   "execution_count": null,
   "metadata": {},
   "outputs": [],
   "source": []
  },
  {
   "cell_type": "markdown",
   "metadata": {},
   "source": [
    "## Cleaning\n",
    "\n",
    "Now that we have combined all of our data into a single DataFrame, let's look at what data we actually have and if any cleaning is required.\n",
    "\n",
    "- Use the `.info()` method to check the size of the DataFrame and the datatypes of each column.\n",
    "- Check for [duplicates](https://pandas.pydata.org/docs/reference/api/pandas.DataFrame.duplicated.html) using `['order_id', 'product_id', 'customer_id']` as the `subset` of columns. \n",
    "- If any, [drop duplicate rows](https://pandas.pydata.org/docs/reference/api/pandas.DataFrame.drop_duplicates.html#pandas.DataFrame.drop_duplicates) and [reset the index](https://pandas.pydata.org/docs/reference/api/pandas.DataFrame.reset_index.html). \n",
    "- Convert the `sales` column to type `float64`. \n",
    "- Convert `order_date` and `ship_date` to [pandas datetime](https://pandas.pydata.org/docs/reference/api/pandas.to_datetime.html)\n",
    "- Show the number of missing values in each column. Filter the DataFrame to show the rows missing data. What seems to be the underlying problem?\n",
    "- Drop the rows with missing values. \n",
    "\n",
    "**`df` should have 9970 rows when you are done**"
   ]
  },
  {
   "cell_type": "code",
   "execution_count": null,
   "metadata": {},
   "outputs": [],
   "source": [
    "# Your code here"
   ]
  },
  {
   "cell_type": "code",
   "execution_count": null,
   "metadata": {},
   "outputs": [],
   "source": []
  },
  {
   "cell_type": "markdown",
   "metadata": {},
   "source": [
    "## TIME TO EXPLORE\n",
    "\n",
    "The Superstore wants us to provide them with some recommendations on how they can maximize their profits. For this guided practice, we want to provide some general insight into: \n",
    "- What to sell?\n",
    "- When to sell *what*?\n",
    "\n",
    "### What to sell? (Or what NOT to sell?)\n",
    "\n",
    "Steps:\n",
    "- Create a new column, `profit_per_unit`, by dividing `profit` by `quantity`\n",
    "- Create a visual showing how many orders fall within each `category`\n",
    "- Find the `sub-category` with the highest median `profit_per_unit` and lowest median `profit_per_unit`\n",
    "- The tables sub-category has a *negative* median `profit_per_unit`. Find the total number of table orders with a negative `profit_per_unit`\n",
    "- Of all table orders, what *percentage* of them had a negative `profit_per_unit`"
   ]
  },
  {
   "cell_type": "code",
   "execution_count": null,
   "metadata": {},
   "outputs": [],
   "source": [
    "# Your code here"
   ]
  },
  {
   "cell_type": "code",
   "execution_count": null,
   "metadata": {},
   "outputs": [],
   "source": []
  },
  {
   "cell_type": "markdown",
   "metadata": {},
   "source": [
    "### When to sell *what*?\n",
    "\n",
    "- Using the [datetime functionality](https://pandas.pydata.org/docs/reference/api/pandas.Series.dt.month.html) of `order_date`, create a `month` column\n",
    "- Create a bar pot showing the median profit of each `category` for each `month` of the year\n",
    "- There is one `category` which consistently has the highest median profit. Create a new DataFrame of only these orders.\n",
    "- Show the *total* profit for every `sub-category` of tech for each month of the year. What should the Superstore be selling when?"
   ]
  },
  {
   "cell_type": "code",
   "execution_count": null,
   "metadata": {},
   "outputs": [],
   "source": [
    "# Your code here"
   ]
  },
  {
   "cell_type": "code",
   "execution_count": null,
   "metadata": {},
   "outputs": [],
   "source": []
  }
 ],
 "metadata": {
  "kernelspec": {
   "display_name": "Python (learn-env)",
   "language": "python",
   "name": "learn-env"
  },
  "language_info": {
   "codemirror_mode": {
    "name": "ipython",
    "version": 3
   },
   "file_extension": ".py",
   "mimetype": "text/x-python",
   "name": "python",
   "nbconvert_exporter": "python",
   "pygments_lexer": "ipython3",
   "version": "3.8.5"
  }
 },
 "nbformat": 4,
 "nbformat_minor": 4
}
