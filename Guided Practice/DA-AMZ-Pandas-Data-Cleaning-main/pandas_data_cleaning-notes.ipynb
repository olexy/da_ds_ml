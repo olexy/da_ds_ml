{
 "cells": [
  {
   "cell_type": "markdown",
   "metadata": {
    "toc": true
   },
   "source": [
    "<h1>Table of Contents<span class=\"tocSkip\"></span></h1>\n",
    "<div class=\"toc\"><ul class=\"toc-item\"><li><span><a href=\"#Objectives\" data-toc-modified-id=\"Objectives-1\"><span class=\"toc-item-num\">1&nbsp;&nbsp;</span>Objectives</a></span></li><li><span><a href=\"#More-Pandas\" data-toc-modified-id=\"More-Pandas-2\"><span class=\"toc-item-num\">2&nbsp;&nbsp;</span>More Pandas</a></span><ul class=\"toc-item\"><li><span><a href=\"#Loading-the-Data\" data-toc-modified-id=\"Loading-the-Data-2.1\"><span class=\"toc-item-num\">2.1&nbsp;&nbsp;</span>Loading the Data</a></span></li></ul></li><li><span><a href=\"#Exploratory-Data-Analysis-(EDA)\" data-toc-modified-id=\"Exploratory-Data-Analysis-(EDA)-3\"><span class=\"toc-item-num\">3&nbsp;&nbsp;</span>Exploratory Data Analysis (EDA)</a></span><ul class=\"toc-item\"><li><span><a href=\"#Inspecting-the-Data\" data-toc-modified-id=\"Inspecting-the-Data-3.1\"><span class=\"toc-item-num\">3.1&nbsp;&nbsp;</span>Inspecting the Data</a></span></li><li><span><a href=\"#Question-1:-What-animal-types-are-in-the-dataset?\" data-toc-modified-id=\"Question-1:-What-animal-types-are-in-the-dataset?-3.2\"><span class=\"toc-item-num\">3.2&nbsp;&nbsp;</span>Question 1: What animal types are in the dataset?</a></span></li><li><span><a href=\"#Question-2:-What-&quot;Other&quot;-animals-are-in-the-dataset?\" data-toc-modified-id=\"Question-2:-What-&quot;Other&quot;-animals-are-in-the-dataset?-3.3\"><span class=\"toc-item-num\">3.3&nbsp;&nbsp;</span>Question 2: What \"Other\" animals are in the dataset?</a></span></li><li><span><a href=\"#Question-3:-How-old-are-the-animals-in-our-dataset?\" data-toc-modified-id=\"Question-3:-How-old-are-the-animals-in-our-dataset?-3.4\"><span class=\"toc-item-num\">3.4&nbsp;&nbsp;</span>Question 3: How old are the animals in our dataset?</a></span><ul class=\"toc-item\"><li><span><a href=\"#Series.map()\" data-toc-modified-id=\"Series.map()-3.4.1\"><span class=\"toc-item-num\">3.4.1&nbsp;&nbsp;</span><code>Series.map()</code></a></span></li><li><span><a href=\"#More-Sophisticated-Mapping\" data-toc-modified-id=\"More-Sophisticated-Mapping-3.4.2\"><span class=\"toc-item-num\">3.4.2&nbsp;&nbsp;</span>More Sophisticated Mapping</a></span></li><li><span><a href=\"#Lambda-Functions\" data-toc-modified-id=\"Lambda-Functions-3.4.3\"><span class=\"toc-item-num\">3.4.3&nbsp;&nbsp;</span>Lambda Functions</a></span></li></ul></li></ul></li><li><span><a href=\"#Handling-Missing-Data\" data-toc-modified-id=\"Handling-Missing-Data-4\"><span class=\"toc-item-num\">4&nbsp;&nbsp;</span>Handling Missing Data</a></span><ul class=\"toc-item\"><li><span><a href=\"#Fill-with-a-Relevant-Value\" data-toc-modified-id=\"Fill-with-a-Relevant-Value-4.1\"><span class=\"toc-item-num\">4.1&nbsp;&nbsp;</span>Fill with a Relevant Value</a></span></li><li><span><a href=\"#Fill-with-a-Reasonable-Value\" data-toc-modified-id=\"Fill-with-a-Reasonable-Value-4.2\"><span class=\"toc-item-num\">4.2&nbsp;&nbsp;</span>Fill with a Reasonable Value</a></span></li><li><span><a href=\"#Specify-That-the-Data-Were-Missing\" data-toc-modified-id=\"Specify-That-the-Data-Were-Missing-4.3\"><span class=\"toc-item-num\">4.3&nbsp;&nbsp;</span>Specify That the Data Were Missing</a></span></li><li><span><a href=\"#Drop-Missing-Data\" data-toc-modified-id=\"Drop-Missing-Data-4.4\"><span class=\"toc-item-num\">4.4&nbsp;&nbsp;</span>Drop Missing Data</a></span></li><li><span><a href=\"#Comparing-Before-and-After\" data-toc-modified-id=\"Comparing-Before-and-After-4.5\"><span class=\"toc-item-num\">4.5&nbsp;&nbsp;</span>Comparing Before and After</a></span></li></ul></li><li><span><a href=\"#Level-Up:-.applymap()\" data-toc-modified-id=\"Level-Up:-.applymap()-5\"><span class=\"toc-item-num\">5&nbsp;&nbsp;</span>Level Up: <code>.applymap()</code></a></span></li><li><span><a href=\"#Level-Up:-Faster-NumPy-Methods\" data-toc-modified-id=\"Level-Up:-Faster-NumPy-Methods-6\"><span class=\"toc-item-num\">6&nbsp;&nbsp;</span>Level Up: Faster NumPy Methods</a></span><ul class=\"toc-item\"><li><span><a href=\"#NumPy's-where()-Method\" data-toc-modified-id=\"NumPy's-where()-Method-6.1\"><span class=\"toc-item-num\">6.1&nbsp;&nbsp;</span>NumPy's <code>where()</code> Method</a></span></li><li><span><a href=\"#NumPy's-select()-Method\" data-toc-modified-id=\"NumPy's-select()-Method-6.2\"><span class=\"toc-item-num\">6.2&nbsp;&nbsp;</span>NumPy's <code>select()</code> Method</a></span></li></ul></li></ul></div>"
   ]
  },
  {
   "cell_type": "markdown",
   "metadata": {},
   "source": [
    "![panda](http://res.freestockphotos.biz/thumbs/3/3173-illustration-of-a-giant-panda-eating-bamboo-th.png)"
   ]
  },
  {
   "cell_type": "code",
   "execution_count": 1,
   "metadata": {},
   "outputs": [],
   "source": [
    "import numpy as np\n",
    "import pandas as pd\n",
    "\n",
    "from matplotlib import pyplot as plt\n",
    "%matplotlib inline"
   ]
  },
  {
   "cell_type": "markdown",
   "metadata": {
    "heading_collapsed": true
   },
   "source": [
    "# Objectives"
   ]
  },
  {
   "cell_type": "markdown",
   "metadata": {
    "hidden": true
   },
   "source": [
    "- Use lambda functions and DataFrame methods to transform data\n",
    "- Handle missing data"
   ]
  },
  {
   "cell_type": "markdown",
   "metadata": {
    "heading_collapsed": true
   },
   "source": [
    "# More Pandas"
   ]
  },
  {
   "cell_type": "markdown",
   "metadata": {
    "hidden": true
   },
   "source": [
    "Suppose you were interested in opening an animal shelter. To inform your planning, it would be useful to analyze data from other shelters to understand their operations. In this lecture, we'll analyze animal outcome data from the Austin Animal Center.  "
   ]
  },
  {
   "cell_type": "markdown",
   "metadata": {
    "heading_collapsed": true,
    "hidden": true
   },
   "source": [
    "## Loading the Data"
   ]
  },
  {
   "cell_type": "markdown",
   "metadata": {
    "hidden": true
   },
   "source": [
    "Let's take a moment to examine the [Austin Animal Center data set](https://data.austintexas.gov/Health-and-Community-Services/Austin-Animal-Center-Outcomes/9t4d-g238/data). \n",
    "\n",
    "We can also ingest the data right off the web, as we do below. The code below will load JSON data for the last 1000 animals to leave the center from this [JSON file](https://data.austintexas.gov/resource/9t4d-g238.json). "
   ]
  },
  {
   "cell_type": "code",
   "execution_count": 2,
   "metadata": {
    "hidden": true
   },
   "outputs": [],
   "source": [
    "json_url = 'https://data.austintexas.gov/resource/9t4d-g238.json'\n",
    "animals = pd.read_json(json_url)"
   ]
  },
  {
   "cell_type": "markdown",
   "metadata": {
    "heading_collapsed": true
   },
   "source": [
    "# Exploratory Data Analysis (EDA)"
   ]
  },
  {
   "cell_type": "markdown",
   "metadata": {
    "hidden": true
   },
   "source": [
    "Exploring a new dataset is essential for understanding what it contains. This will generate ideas for processing the data and questions to try to answer in further analysis."
   ]
  },
  {
   "cell_type": "markdown",
   "metadata": {
    "heading_collapsed": true,
    "hidden": true
   },
   "source": [
    "## Inspecting the Data"
   ]
  },
  {
   "cell_type": "markdown",
   "metadata": {
    "hidden": true
   },
   "source": [
    "Let's take a look at a few rows of data."
   ]
  },
  {
   "cell_type": "code",
   "execution_count": 3,
   "metadata": {
    "hidden": true
   },
   "outputs": [
    {
     "data": {
      "text/html": [
       "<div>\n",
       "<style scoped>\n",
       "    .dataframe tbody tr th:only-of-type {\n",
       "        vertical-align: middle;\n",
       "    }\n",
       "\n",
       "    .dataframe tbody tr th {\n",
       "        vertical-align: top;\n",
       "    }\n",
       "\n",
       "    .dataframe thead th {\n",
       "        text-align: right;\n",
       "    }\n",
       "</style>\n",
       "<table border=\"1\" class=\"dataframe\">\n",
       "  <thead>\n",
       "    <tr style=\"text-align: right;\">\n",
       "      <th></th>\n",
       "      <th>animal_id</th>\n",
       "      <th>name</th>\n",
       "      <th>datetime</th>\n",
       "      <th>monthyear</th>\n",
       "      <th>date_of_birth</th>\n",
       "      <th>outcome_type</th>\n",
       "      <th>animal_type</th>\n",
       "      <th>sex_upon_outcome</th>\n",
       "      <th>age_upon_outcome</th>\n",
       "      <th>breed</th>\n",
       "      <th>color</th>\n",
       "      <th>outcome_subtype</th>\n",
       "    </tr>\n",
       "  </thead>\n",
       "  <tbody>\n",
       "    <tr>\n",
       "      <th>0</th>\n",
       "      <td>A854476</td>\n",
       "      <td>*Lily</td>\n",
       "      <td>2022-04-11 12:38:00</td>\n",
       "      <td>2022-04-11T12:38:00.000</td>\n",
       "      <td>2021-04-04T00:00:00.000</td>\n",
       "      <td>Adoption</td>\n",
       "      <td>Dog</td>\n",
       "      <td>Spayed Female</td>\n",
       "      <td>1 year</td>\n",
       "      <td>Doberman Pinsch</td>\n",
       "      <td>Black/Brown</td>\n",
       "      <td>NaN</td>\n",
       "    </tr>\n",
       "    <tr>\n",
       "      <th>1</th>\n",
       "      <td>A854045</td>\n",
       "      <td>*Moon</td>\n",
       "      <td>2022-04-11 11:54:00</td>\n",
       "      <td>2022-04-11T11:54:00.000</td>\n",
       "      <td>2021-03-29T00:00:00.000</td>\n",
       "      <td>Adoption</td>\n",
       "      <td>Dog</td>\n",
       "      <td>Spayed Female</td>\n",
       "      <td>1 year</td>\n",
       "      <td>Rottweiler/Siberian Husky</td>\n",
       "      <td>Black/Brown</td>\n",
       "      <td>NaN</td>\n",
       "    </tr>\n",
       "    <tr>\n",
       "      <th>2</th>\n",
       "      <td>A854309</td>\n",
       "      <td>*Xena</td>\n",
       "      <td>2022-04-11 11:46:00</td>\n",
       "      <td>2022-04-11T11:46:00.000</td>\n",
       "      <td>2021-08-01T00:00:00.000</td>\n",
       "      <td>Adoption</td>\n",
       "      <td>Dog</td>\n",
       "      <td>Spayed Female</td>\n",
       "      <td>8 months</td>\n",
       "      <td>Pit Bull Mix</td>\n",
       "      <td>Gray/White</td>\n",
       "      <td>NaN</td>\n",
       "    </tr>\n",
       "    <tr>\n",
       "      <th>3</th>\n",
       "      <td>A854810</td>\n",
       "      <td>Ligaya</td>\n",
       "      <td>2022-04-11 11:16:00</td>\n",
       "      <td>2022-04-11T11:16:00.000</td>\n",
       "      <td>2008-04-09T00:00:00.000</td>\n",
       "      <td>Return to Owner</td>\n",
       "      <td>Dog</td>\n",
       "      <td>Spayed Female</td>\n",
       "      <td>14 years</td>\n",
       "      <td>Pit Bull</td>\n",
       "      <td>Red/White</td>\n",
       "      <td>NaN</td>\n",
       "    </tr>\n",
       "    <tr>\n",
       "      <th>4</th>\n",
       "      <td>A854664</td>\n",
       "      <td>A854664</td>\n",
       "      <td>2022-04-11 10:59:00</td>\n",
       "      <td>2022-04-11T10:59:00.000</td>\n",
       "      <td>2021-10-07T00:00:00.000</td>\n",
       "      <td>Transfer</td>\n",
       "      <td>Dog</td>\n",
       "      <td>Intact Male</td>\n",
       "      <td>6 months</td>\n",
       "      <td>Maltese Mix</td>\n",
       "      <td>Black Smoke</td>\n",
       "      <td>Partner</td>\n",
       "    </tr>\n",
       "    <tr>\n",
       "      <th>5</th>\n",
       "      <td>A854489</td>\n",
       "      <td>NaN</td>\n",
       "      <td>2022-04-11 10:50:00</td>\n",
       "      <td>2022-04-11T10:50:00.000</td>\n",
       "      <td>2020-04-04T00:00:00.000</td>\n",
       "      <td>Return to Owner</td>\n",
       "      <td>Dog</td>\n",
       "      <td>Intact Female</td>\n",
       "      <td>2 years</td>\n",
       "      <td>Labrador Retriever Mix</td>\n",
       "      <td>Tan/Tan</td>\n",
       "      <td>Field</td>\n",
       "    </tr>\n",
       "    <tr>\n",
       "      <th>6</th>\n",
       "      <td>A854480</td>\n",
       "      <td>NaN</td>\n",
       "      <td>2022-04-11 10:48:00</td>\n",
       "      <td>2022-04-11T10:48:00.000</td>\n",
       "      <td>2020-04-04T00:00:00.000</td>\n",
       "      <td>Return to Owner</td>\n",
       "      <td>Dog</td>\n",
       "      <td>Intact Female</td>\n",
       "      <td>2 years</td>\n",
       "      <td>Golden Retriever Mix</td>\n",
       "      <td>Brown/Tan</td>\n",
       "      <td>Field</td>\n",
       "    </tr>\n",
       "    <tr>\n",
       "      <th>7</th>\n",
       "      <td>A854871</td>\n",
       "      <td>NaN</td>\n",
       "      <td>2022-04-10 14:59:00</td>\n",
       "      <td>2022-04-10T14:59:00.000</td>\n",
       "      <td>2022-04-03T00:00:00.000</td>\n",
       "      <td>Transfer</td>\n",
       "      <td>Dog</td>\n",
       "      <td>Unknown</td>\n",
       "      <td>1 week</td>\n",
       "      <td>German Shepherd Mix</td>\n",
       "      <td>Brown</td>\n",
       "      <td>Partner</td>\n",
       "    </tr>\n",
       "    <tr>\n",
       "      <th>8</th>\n",
       "      <td>A854872</td>\n",
       "      <td>NaN</td>\n",
       "      <td>2022-04-10 14:59:00</td>\n",
       "      <td>2022-04-10T14:59:00.000</td>\n",
       "      <td>2022-04-03T00:00:00.000</td>\n",
       "      <td>Transfer</td>\n",
       "      <td>Dog</td>\n",
       "      <td>Unknown</td>\n",
       "      <td>1 week</td>\n",
       "      <td>German Shepherd Mix</td>\n",
       "      <td>Brown</td>\n",
       "      <td>Partner</td>\n",
       "    </tr>\n",
       "    <tr>\n",
       "      <th>9</th>\n",
       "      <td>A854868</td>\n",
       "      <td>NaN</td>\n",
       "      <td>2022-04-10 14:58:00</td>\n",
       "      <td>2022-04-10T14:58:00.000</td>\n",
       "      <td>2022-04-03T00:00:00.000</td>\n",
       "      <td>Transfer</td>\n",
       "      <td>Dog</td>\n",
       "      <td>Unknown</td>\n",
       "      <td>1 week</td>\n",
       "      <td>German Shepherd Mix</td>\n",
       "      <td>Black</td>\n",
       "      <td>Partner</td>\n",
       "    </tr>\n",
       "  </tbody>\n",
       "</table>\n",
       "</div>"
      ],
      "text/plain": [
       "  animal_id     name            datetime                monthyear  \\\n",
       "0   A854476    *Lily 2022-04-11 12:38:00  2022-04-11T12:38:00.000   \n",
       "1   A854045    *Moon 2022-04-11 11:54:00  2022-04-11T11:54:00.000   \n",
       "2   A854309    *Xena 2022-04-11 11:46:00  2022-04-11T11:46:00.000   \n",
       "3   A854810   Ligaya 2022-04-11 11:16:00  2022-04-11T11:16:00.000   \n",
       "4   A854664  A854664 2022-04-11 10:59:00  2022-04-11T10:59:00.000   \n",
       "5   A854489      NaN 2022-04-11 10:50:00  2022-04-11T10:50:00.000   \n",
       "6   A854480      NaN 2022-04-11 10:48:00  2022-04-11T10:48:00.000   \n",
       "7   A854871      NaN 2022-04-10 14:59:00  2022-04-10T14:59:00.000   \n",
       "8   A854872      NaN 2022-04-10 14:59:00  2022-04-10T14:59:00.000   \n",
       "9   A854868      NaN 2022-04-10 14:58:00  2022-04-10T14:58:00.000   \n",
       "\n",
       "             date_of_birth     outcome_type animal_type sex_upon_outcome  \\\n",
       "0  2021-04-04T00:00:00.000         Adoption         Dog    Spayed Female   \n",
       "1  2021-03-29T00:00:00.000         Adoption         Dog    Spayed Female   \n",
       "2  2021-08-01T00:00:00.000         Adoption         Dog    Spayed Female   \n",
       "3  2008-04-09T00:00:00.000  Return to Owner         Dog    Spayed Female   \n",
       "4  2021-10-07T00:00:00.000         Transfer         Dog      Intact Male   \n",
       "5  2020-04-04T00:00:00.000  Return to Owner         Dog    Intact Female   \n",
       "6  2020-04-04T00:00:00.000  Return to Owner         Dog    Intact Female   \n",
       "7  2022-04-03T00:00:00.000         Transfer         Dog          Unknown   \n",
       "8  2022-04-03T00:00:00.000         Transfer         Dog          Unknown   \n",
       "9  2022-04-03T00:00:00.000         Transfer         Dog          Unknown   \n",
       "\n",
       "  age_upon_outcome                      breed        color outcome_subtype  \n",
       "0           1 year            Doberman Pinsch  Black/Brown             NaN  \n",
       "1           1 year  Rottweiler/Siberian Husky  Black/Brown             NaN  \n",
       "2         8 months               Pit Bull Mix   Gray/White             NaN  \n",
       "3         14 years                   Pit Bull    Red/White             NaN  \n",
       "4         6 months                Maltese Mix  Black Smoke         Partner  \n",
       "5          2 years     Labrador Retriever Mix      Tan/Tan           Field  \n",
       "6          2 years       Golden Retriever Mix    Brown/Tan           Field  \n",
       "7           1 week        German Shepherd Mix        Brown         Partner  \n",
       "8           1 week        German Shepherd Mix        Brown         Partner  \n",
       "9           1 week        German Shepherd Mix        Black         Partner  "
      ]
     },
     "execution_count": 3,
     "metadata": {},
     "output_type": "execute_result"
    }
   ],
   "source": [
    "animals.head(10)"
   ]
  },
  {
   "cell_type": "markdown",
   "metadata": {
    "hidden": true
   },
   "source": [
    "The `info()` and `describe()` provide a useful overview of the data."
   ]
  },
  {
   "cell_type": "code",
   "execution_count": 4,
   "metadata": {
    "hidden": true
   },
   "outputs": [
    {
     "name": "stdout",
     "output_type": "stream",
     "text": [
      "<class 'pandas.core.frame.DataFrame'>\n",
      "RangeIndex: 1000 entries, 0 to 999\n",
      "Data columns (total 12 columns):\n",
      " #   Column            Non-Null Count  Dtype         \n",
      "---  ------            --------------  -----         \n",
      " 0   animal_id         1000 non-null   object        \n",
      " 1   name              827 non-null    object        \n",
      " 2   datetime          1000 non-null   datetime64[ns]\n",
      " 3   monthyear         1000 non-null   object        \n",
      " 4   date_of_birth     1000 non-null   object        \n",
      " 5   outcome_type      1000 non-null   object        \n",
      " 6   animal_type       1000 non-null   object        \n",
      " 7   sex_upon_outcome  1000 non-null   object        \n",
      " 8   age_upon_outcome  1000 non-null   object        \n",
      " 9   breed             1000 non-null   object        \n",
      " 10  color             1000 non-null   object        \n",
      " 11  outcome_subtype   486 non-null    object        \n",
      "dtypes: datetime64[ns](1), object(11)\n",
      "memory usage: 93.9+ KB\n"
     ]
    }
   ],
   "source": [
    "animals.info()"
   ]
  },
  {
   "cell_type": "markdown",
   "metadata": {
    "hidden": true
   },
   "source": [
    "> We can see we have some missing data. Specifically in the `outcome_type`, `outcome_subtype`, and `name` columns."
   ]
  },
  {
   "cell_type": "code",
   "execution_count": 5,
   "metadata": {
    "hidden": true
   },
   "outputs": [
    {
     "name": "stderr",
     "output_type": "stream",
     "text": [
      "<ipython-input-5-3885fd60d0c1>:1: FutureWarning: Treating datetime data as categorical rather than numeric in `.describe` is deprecated and will be removed in a future version of pandas. Specify `datetime_is_numeric=True` to silence this warning and adopt the future behavior now.\n",
      "  animals.describe()\n"
     ]
    },
    {
     "data": {
      "text/html": [
       "<div>\n",
       "<style scoped>\n",
       "    .dataframe tbody tr th:only-of-type {\n",
       "        vertical-align: middle;\n",
       "    }\n",
       "\n",
       "    .dataframe tbody tr th {\n",
       "        vertical-align: top;\n",
       "    }\n",
       "\n",
       "    .dataframe thead th {\n",
       "        text-align: right;\n",
       "    }\n",
       "</style>\n",
       "<table border=\"1\" class=\"dataframe\">\n",
       "  <thead>\n",
       "    <tr style=\"text-align: right;\">\n",
       "      <th></th>\n",
       "      <th>animal_id</th>\n",
       "      <th>name</th>\n",
       "      <th>datetime</th>\n",
       "      <th>monthyear</th>\n",
       "      <th>date_of_birth</th>\n",
       "      <th>outcome_type</th>\n",
       "      <th>animal_type</th>\n",
       "      <th>sex_upon_outcome</th>\n",
       "      <th>age_upon_outcome</th>\n",
       "      <th>breed</th>\n",
       "      <th>color</th>\n",
       "      <th>outcome_subtype</th>\n",
       "    </tr>\n",
       "  </thead>\n",
       "  <tbody>\n",
       "    <tr>\n",
       "      <th>count</th>\n",
       "      <td>1000</td>\n",
       "      <td>827</td>\n",
       "      <td>1000</td>\n",
       "      <td>1000</td>\n",
       "      <td>1000</td>\n",
       "      <td>1000</td>\n",
       "      <td>1000</td>\n",
       "      <td>1000</td>\n",
       "      <td>1000</td>\n",
       "      <td>1000</td>\n",
       "      <td>1000</td>\n",
       "      <td>486</td>\n",
       "    </tr>\n",
       "    <tr>\n",
       "      <th>unique</th>\n",
       "      <td>983</td>\n",
       "      <td>735</td>\n",
       "      <td>856</td>\n",
       "      <td>856</td>\n",
       "      <td>504</td>\n",
       "      <td>7</td>\n",
       "      <td>4</td>\n",
       "      <td>5</td>\n",
       "      <td>39</td>\n",
       "      <td>194</td>\n",
       "      <td>116</td>\n",
       "      <td>14</td>\n",
       "    </tr>\n",
       "    <tr>\n",
       "      <th>top</th>\n",
       "      <td>A852469</td>\n",
       "      <td>Bella</td>\n",
       "      <td>2022-04-09 16:07:00</td>\n",
       "      <td>2022-04-09T16:07:00.000</td>\n",
       "      <td>2022-01-17T00:00:00.000</td>\n",
       "      <td>Adoption</td>\n",
       "      <td>Dog</td>\n",
       "      <td>Neutered Male</td>\n",
       "      <td>2 years</td>\n",
       "      <td>Domestic Shorthair</td>\n",
       "      <td>Black/White</td>\n",
       "      <td>Partner</td>\n",
       "    </tr>\n",
       "    <tr>\n",
       "      <th>freq</th>\n",
       "      <td>3</td>\n",
       "      <td>7</td>\n",
       "      <td>6</td>\n",
       "      <td>6</td>\n",
       "      <td>15</td>\n",
       "      <td>473</td>\n",
       "      <td>633</td>\n",
       "      <td>358</td>\n",
       "      <td>231</td>\n",
       "      <td>186</td>\n",
       "      <td>103</td>\n",
       "      <td>212</td>\n",
       "    </tr>\n",
       "    <tr>\n",
       "      <th>first</th>\n",
       "      <td>NaN</td>\n",
       "      <td>NaN</td>\n",
       "      <td>2022-03-07 16:21:00</td>\n",
       "      <td>NaN</td>\n",
       "      <td>NaN</td>\n",
       "      <td>NaN</td>\n",
       "      <td>NaN</td>\n",
       "      <td>NaN</td>\n",
       "      <td>NaN</td>\n",
       "      <td>NaN</td>\n",
       "      <td>NaN</td>\n",
       "      <td>NaN</td>\n",
       "    </tr>\n",
       "    <tr>\n",
       "      <th>last</th>\n",
       "      <td>NaN</td>\n",
       "      <td>NaN</td>\n",
       "      <td>2022-04-11 12:38:00</td>\n",
       "      <td>NaN</td>\n",
       "      <td>NaN</td>\n",
       "      <td>NaN</td>\n",
       "      <td>NaN</td>\n",
       "      <td>NaN</td>\n",
       "      <td>NaN</td>\n",
       "      <td>NaN</td>\n",
       "      <td>NaN</td>\n",
       "      <td>NaN</td>\n",
       "    </tr>\n",
       "  </tbody>\n",
       "</table>\n",
       "</div>"
      ],
      "text/plain": [
       "       animal_id   name             datetime                monthyear  \\\n",
       "count       1000    827                 1000                     1000   \n",
       "unique       983    735                  856                      856   \n",
       "top      A852469  Bella  2022-04-09 16:07:00  2022-04-09T16:07:00.000   \n",
       "freq           3      7                    6                        6   \n",
       "first        NaN    NaN  2022-03-07 16:21:00                      NaN   \n",
       "last         NaN    NaN  2022-04-11 12:38:00                      NaN   \n",
       "\n",
       "                  date_of_birth outcome_type animal_type sex_upon_outcome  \\\n",
       "count                      1000         1000        1000             1000   \n",
       "unique                      504            7           4                5   \n",
       "top     2022-01-17T00:00:00.000     Adoption         Dog    Neutered Male   \n",
       "freq                         15          473         633              358   \n",
       "first                       NaN          NaN         NaN              NaN   \n",
       "last                        NaN          NaN         NaN              NaN   \n",
       "\n",
       "       age_upon_outcome               breed        color outcome_subtype  \n",
       "count              1000                1000         1000             486  \n",
       "unique               39                 194          116              14  \n",
       "top             2 years  Domestic Shorthair  Black/White         Partner  \n",
       "freq                231                 186          103             212  \n",
       "first               NaN                 NaN          NaN             NaN  \n",
       "last                NaN                 NaN          NaN             NaN  "
      ]
     },
     "execution_count": 5,
     "metadata": {},
     "output_type": "execute_result"
    }
   ],
   "source": [
    "animals.describe()"
   ]
  },
  {
   "cell_type": "code",
   "execution_count": 6,
   "metadata": {
    "hidden": true
   },
   "outputs": [
    {
     "data": {
      "text/plain": [
       "Black/White     103\n",
       "Black            75\n",
       "Brown Tabby      56\n",
       "Brown            51\n",
       "White/Black      43\n",
       "               ... \n",
       "Buff/Black        1\n",
       "White/Orange      1\n",
       "Red/Tan           1\n",
       "Gold/White        1\n",
       "Yellow            1\n",
       "Name: color, Length: 116, dtype: int64"
      ]
     },
     "execution_count": 6,
     "metadata": {},
     "output_type": "execute_result"
    }
   ],
   "source": [
    "# Use value counts to check a categorical feature's distribution\n",
    "\n",
    "animals['color'].value_counts()"
   ]
  },
  {
   "cell_type": "markdown",
   "metadata": {
    "hidden": true
   },
   "source": [
    "Now that we have a sense of the data available to us, we can focus in on some more specific questions to dig into. These questions may or may not be directly relevant to your goal (e.g. helping plan a new shelter), but will always help you gain a better understanding of your data.\n",
    "\n",
    "In your EDA notebooks, **markdown** will be especially helpful in tracking these questions and your methods of answering the questions."
   ]
  },
  {
   "cell_type": "markdown",
   "metadata": {
    "heading_collapsed": true,
    "hidden": true
   },
   "source": [
    "## Question 1: What animal types are in the dataset?"
   ]
  },
  {
   "cell_type": "markdown",
   "metadata": {
    "hidden": true
   },
   "source": [
    "We can then begin thinking about what parts of the DataFrame we need to answer the question."
   ]
  },
  {
   "cell_type": "markdown",
   "metadata": {
    "hidden": true
   },
   "source": [
    "* What features do we need?\n",
    " - \"animal_type\"\n",
    "* What type of logic and calculation do we perform?\n",
    " - Let's use `.value_counts()` to count the different animal types\n",
    "* What type of visualization would help us answer the question?\n",
    " - A bar chart would be good for this purpose"
   ]
  },
  {
   "cell_type": "code",
   "execution_count": 10,
   "metadata": {},
   "outputs": [],
   "source": [
    "#help(pd.Series().value_counts())"
   ]
  },
  {
   "cell_type": "code",
   "execution_count": 7,
   "metadata": {
    "hidden": true
   },
   "outputs": [
    {
     "data": {
      "text/plain": [
       "Dog      633\n",
       "Cat      283\n",
       "Other     79\n",
       "Bird       5\n",
       "Name: animal_type, dtype: int64"
      ]
     },
     "execution_count": 7,
     "metadata": {},
     "output_type": "execute_result"
    }
   ],
   "source": [
    "animals['animal_type'].value_counts()"
   ]
  },
  {
   "cell_type": "code",
   "execution_count": 13,
   "metadata": {},
   "outputs": [
    {
     "data": {
      "text/plain": [
       "array([633, 283,  79,   5])"
      ]
     },
     "execution_count": 13,
     "metadata": {},
     "output_type": "execute_result"
    }
   ],
   "source": [
    "animal_type_values.values"
   ]
  },
  {
   "cell_type": "code",
   "execution_count": 8,
   "metadata": {
    "hidden": true,
    "tags": []
   },
   "outputs": [
    {
     "data": {
      "image/png": "[encoded data removed]",
      "text/plain": [
       "<Figure size 432x288 with 1 Axes>"
      ]
     },
     "metadata": {
      "needs_background": "light"
     },
     "output_type": "display_data"
    }
   ],
   "source": [
    "fig, ax = plt.subplots()\n",
    "\n",
    "animal_type_values = animals['animal_type'].value_counts()\n",
    "\n",
    "ax.barh(\n",
    "    y=animal_type_values.index,\n",
    "    width=animal_type_values.values\n",
    ")\n",
    "ax.set_xlabel('count');"
   ]
  },
  {
   "cell_type": "code",
   "execution_count": 14,
   "metadata": {
    "hidden": true
   },
   "outputs": [
    {
     "data": {
      "image/png": "[encoded data removed]",
      "text/plain": [
       "<Figure size 432x288 with 1 Axes>"
      ]
     },
     "metadata": {
      "needs_background": "light"
     },
     "output_type": "display_data"
    }
   ],
   "source": [
    "animals['animal_type'].hist();"
   ]
  },
  {
   "cell_type": "markdown",
   "metadata": {
    "hidden": true
   },
   "source": [
    "Questions lead to other questions. For the above example, the visualization raises the question..."
   ]
  },
  {
   "cell_type": "markdown",
   "metadata": {
    "heading_collapsed": true,
    "hidden": true
   },
   "source": [
    "## Question 2: What \"Other\" animals are in the dataset?"
   ]
  },
  {
   "cell_type": "markdown",
   "metadata": {
    "hidden": true
   },
   "source": [
    "To find out, we need to know whether the type of animal for \"Other\" is in our dataset - and if so, where to find it.   "
   ]
  },
  {
   "cell_type": "markdown",
   "metadata": {
    "hidden": true
   },
   "source": [
    "**Discussion**: Where might we look to find animal types within the Other category?\n",
    "\n",
    "<details>\n",
    "    <summary>\n",
    "        Answer\n",
    "    </summary>\n",
    "        The breed column.\n",
    "</details>"
   ]
  },
  {
   "cell_type": "code",
   "execution_count": 15,
   "metadata": {
    "hidden": true
   },
   "outputs": [
    {
     "data": {
      "text/html": [
       "<div>\n",
       "<style scoped>\n",
       "    .dataframe tbody tr th:only-of-type {\n",
       "        vertical-align: middle;\n",
       "    }\n",
       "\n",
       "    .dataframe tbody tr th {\n",
       "        vertical-align: top;\n",
       "    }\n",
       "\n",
       "    .dataframe thead th {\n",
       "        text-align: right;\n",
       "    }\n",
       "</style>\n",
       "<table border=\"1\" class=\"dataframe\">\n",
       "  <thead>\n",
       "    <tr style=\"text-align: right;\">\n",
       "      <th></th>\n",
       "      <th>animal_id</th>\n",
       "      <th>name</th>\n",
       "      <th>datetime</th>\n",
       "      <th>monthyear</th>\n",
       "      <th>date_of_birth</th>\n",
       "      <th>outcome_type</th>\n",
       "      <th>animal_type</th>\n",
       "      <th>sex_upon_outcome</th>\n",
       "      <th>age_upon_outcome</th>\n",
       "      <th>breed</th>\n",
       "      <th>color</th>\n",
       "      <th>outcome_subtype</th>\n",
       "    </tr>\n",
       "  </thead>\n",
       "  <tbody>\n",
       "    <tr>\n",
       "      <th>0</th>\n",
       "      <td>A854476</td>\n",
       "      <td>*Lily</td>\n",
       "      <td>2022-04-11 12:38:00</td>\n",
       "      <td>2022-04-11T12:38:00.000</td>\n",
       "      <td>2021-04-04T00:00:00.000</td>\n",
       "      <td>Adoption</td>\n",
       "      <td>Dog</td>\n",
       "      <td>Spayed Female</td>\n",
       "      <td>1 year</td>\n",
       "      <td>Doberman Pinsch</td>\n",
       "      <td>Black/Brown</td>\n",
       "      <td>NaN</td>\n",
       "    </tr>\n",
       "    <tr>\n",
       "      <th>1</th>\n",
       "      <td>A854045</td>\n",
       "      <td>*Moon</td>\n",
       "      <td>2022-04-11 11:54:00</td>\n",
       "      <td>2022-04-11T11:54:00.000</td>\n",
       "      <td>2021-03-29T00:00:00.000</td>\n",
       "      <td>Adoption</td>\n",
       "      <td>Dog</td>\n",
       "      <td>Spayed Female</td>\n",
       "      <td>1 year</td>\n",
       "      <td>Rottweiler/Siberian Husky</td>\n",
       "      <td>Black/Brown</td>\n",
       "      <td>NaN</td>\n",
       "    </tr>\n",
       "    <tr>\n",
       "      <th>2</th>\n",
       "      <td>A854309</td>\n",
       "      <td>*Xena</td>\n",
       "      <td>2022-04-11 11:46:00</td>\n",
       "      <td>2022-04-11T11:46:00.000</td>\n",
       "      <td>2021-08-01T00:00:00.000</td>\n",
       "      <td>Adoption</td>\n",
       "      <td>Dog</td>\n",
       "      <td>Spayed Female</td>\n",
       "      <td>8 months</td>\n",
       "      <td>Pit Bull Mix</td>\n",
       "      <td>Gray/White</td>\n",
       "      <td>NaN</td>\n",
       "    </tr>\n",
       "    <tr>\n",
       "      <th>3</th>\n",
       "      <td>A854810</td>\n",
       "      <td>Ligaya</td>\n",
       "      <td>2022-04-11 11:16:00</td>\n",
       "      <td>2022-04-11T11:16:00.000</td>\n",
       "      <td>2008-04-09T00:00:00.000</td>\n",
       "      <td>Return to Owner</td>\n",
       "      <td>Dog</td>\n",
       "      <td>Spayed Female</td>\n",
       "      <td>14 years</td>\n",
       "      <td>Pit Bull</td>\n",
       "      <td>Red/White</td>\n",
       "      <td>NaN</td>\n",
       "    </tr>\n",
       "    <tr>\n",
       "      <th>4</th>\n",
       "      <td>A854664</td>\n",
       "      <td>A854664</td>\n",
       "      <td>2022-04-11 10:59:00</td>\n",
       "      <td>2022-04-11T10:59:00.000</td>\n",
       "      <td>2021-10-07T00:00:00.000</td>\n",
       "      <td>Transfer</td>\n",
       "      <td>Dog</td>\n",
       "      <td>Intact Male</td>\n",
       "      <td>6 months</td>\n",
       "      <td>Maltese Mix</td>\n",
       "      <td>Black Smoke</td>\n",
       "      <td>Partner</td>\n",
       "    </tr>\n",
       "  </tbody>\n",
       "</table>\n",
       "</div>"
      ],
      "text/plain": [
       "  animal_id     name            datetime                monthyear  \\\n",
       "0   A854476    *Lily 2022-04-11 12:38:00  2022-04-11T12:38:00.000   \n",
       "1   A854045    *Moon 2022-04-11 11:54:00  2022-04-11T11:54:00.000   \n",
       "2   A854309    *Xena 2022-04-11 11:46:00  2022-04-11T11:46:00.000   \n",
       "3   A854810   Ligaya 2022-04-11 11:16:00  2022-04-11T11:16:00.000   \n",
       "4   A854664  A854664 2022-04-11 10:59:00  2022-04-11T10:59:00.000   \n",
       "\n",
       "             date_of_birth     outcome_type animal_type sex_upon_outcome  \\\n",
       "0  2021-04-04T00:00:00.000         Adoption         Dog    Spayed Female   \n",
       "1  2021-03-29T00:00:00.000         Adoption         Dog    Spayed Female   \n",
       "2  2021-08-01T00:00:00.000         Adoption         Dog    Spayed Female   \n",
       "3  2008-04-09T00:00:00.000  Return to Owner         Dog    Spayed Female   \n",
       "4  2021-10-07T00:00:00.000         Transfer         Dog      Intact Male   \n",
       "\n",
       "  age_upon_outcome                      breed        color outcome_subtype  \n",
       "0           1 year            Doberman Pinsch  Black/Brown             NaN  \n",
       "1           1 year  Rottweiler/Siberian Husky  Black/Brown             NaN  \n",
       "2         8 months               Pit Bull Mix   Gray/White             NaN  \n",
       "3         14 years                   Pit Bull    Red/White             NaN  \n",
       "4         6 months                Maltese Mix  Black Smoke         Partner  "
      ]
     },
     "execution_count": 15,
     "metadata": {},
     "output_type": "execute_result"
    }
   ],
   "source": [
    "# Your exploration here\n",
    "animals.head()"
   ]
  },
  {
   "cell_type": "markdown",
   "metadata": {
    "hidden": true
   },
   "source": [
    "Let's use that column to answer our question."
   ]
  },
  {
   "cell_type": "code",
   "execution_count": 17,
   "metadata": {
    "hidden": true
   },
   "outputs": [
    {
     "data": {
      "text/plain": [
       "Bat           36\n",
       "Raccoon       22\n",
       "Skunk          6\n",
       "Guinea Pig     6\n",
       "Rabbit Sh      3\n",
       "Opossum        2\n",
       "Rat            1\n",
       "Lizard         1\n",
       "Fox            1\n",
       "Snake          1\n",
       "Name: breed, dtype: int64"
      ]
     },
     "execution_count": 17,
     "metadata": {},
     "output_type": "execute_result"
    }
   ],
   "source": [
    "# Mask aka filter aka subselection/condition\n",
    "mask_other_animals = animals['animal_type'] == 'Other'\n",
    "animals['breed'][mask_other_animals].value_counts()"
   ]
  },
  {
   "cell_type": "markdown",
   "metadata": {
    "heading_collapsed": true,
    "hidden": true
   },
   "source": [
    "## Question 3: How old are the animals in our dataset?"
   ]
  },
  {
   "cell_type": "markdown",
   "metadata": {
    "hidden": true
   },
   "source": [
    "Let's try to answer this with the `age_upon_outcome` variable to learn some new `pandas` tools."
   ]
  },
  {
   "cell_type": "code",
   "execution_count": 18,
   "metadata": {
    "hidden": true
   },
   "outputs": [
    {
     "data": {
      "text/plain": [
       "2 years      231\n",
       "1 year       161\n",
       "2 months      95\n",
       "3 years       50\n",
       "1 month       50\n",
       "4 years       33\n",
       "4 months      32\n",
       "5 months      30\n",
       "7 months      27\n",
       "6 months      25\n",
       "3 months      25\n",
       "11 months     23\n",
       "8 months      20\n",
       "1 week        19\n",
       "9 months      18\n",
       "6 years       18\n",
       "7 years       15\n",
       "1 weeks       14\n",
       "2 weeks       13\n",
       "8 years       11\n",
       "5 years       11\n",
       "3 days        10\n",
       "1 day          8\n",
       "10 months      8\n",
       "3 weeks        7\n",
       "14 years       7\n",
       "9 years        7\n",
       "10 years       6\n",
       "2 days         5\n",
       "12 years       5\n",
       "4 weeks        4\n",
       "15 years       3\n",
       "13 years       2\n",
       "4 days         2\n",
       "0 years        1\n",
       "11 years       1\n",
       "NULL           1\n",
       "16 years       1\n",
       "17 years       1\n",
       "Name: age_upon_outcome, dtype: int64"
      ]
     },
     "execution_count": 18,
     "metadata": {},
     "output_type": "execute_result"
    }
   ],
   "source": [
    "animals['age_upon_outcome'].value_counts()"
   ]
  },
  {
   "cell_type": "markdown",
   "metadata": {
    "heading_collapsed": true,
    "hidden": true
   },
   "source": [
    "### `Series.map()`"
   ]
  },
  {
   "cell_type": "markdown",
   "metadata": {
    "hidden": true
   },
   "source": [
    "The `.map()` method applies a transformation to every entry in the Series. This transformation  \"maps\" each value from the Series to a new value. A transformation can be defined by a function, Series, or dictionary - usually we'll use functions."
   ]
  },
  {
   "cell_type": "markdown",
   "metadata": {
    "hidden": true
   },
   "source": [
    "The `.apply()` method is similar to the `.map()` method for Series, but can only use functions. It has more powerful uses when working with DataFrames."
   ]
  },
  {
   "cell_type": "code",
   "execution_count": 20,
   "metadata": {
    "hidden": true
   },
   "outputs": [],
   "source": [
    "def one_year(age):\n",
    "    if age == '1 year':\n",
    "        return '1 years'\n",
    "    else:\n",
    "        return age"
   ]
  },
  {
   "cell_type": "code",
   "execution_count": 21,
   "metadata": {
    "hidden": true,
    "scrolled": true
   },
   "outputs": [
    {
     "data": {
      "text/plain": [
       "2 years      231\n",
       "1 years      161\n",
       "2 months      95\n",
       "1 month       50\n",
       "3 years       50\n",
       "4 years       33\n",
       "4 months      32\n",
       "5 months      30\n",
       "7 months      27\n",
       "6 months      25\n",
       "3 months      25\n",
       "11 months     23\n",
       "8 months      20\n",
       "1 week        19\n",
       "6 years       18\n",
       "9 months      18\n",
       "7 years       15\n",
       "1 weeks       14\n",
       "2 weeks       13\n",
       "8 years       11\n",
       "5 years       11\n",
       "3 days        10\n",
       "1 day          8\n",
       "10 months      8\n",
       "14 years       7\n",
       "3 weeks        7\n",
       "9 years        7\n",
       "10 years       6\n",
       "2 days         5\n",
       "12 years       5\n",
       "4 weeks        4\n",
       "15 years       3\n",
       "13 years       2\n",
       "4 days         2\n",
       "11 years       1\n",
       "16 years       1\n",
       "0 years        1\n",
       "17 years       1\n",
       "NULL           1\n",
       "Name: new_age1, dtype: int64"
      ]
     },
     "execution_count": 21,
     "metadata": {},
     "output_type": "execute_result"
    }
   ],
   "source": [
    "animals['new_age1'] = animals['age_upon_outcome'].map(one_year)\n",
    "animals['new_age1'].value_counts()"
   ]
  },
  {
   "cell_type": "markdown",
   "metadata": {
    "heading_collapsed": true,
    "hidden": true
   },
   "source": [
    "### More Sophisticated Mapping"
   ]
  },
  {
   "cell_type": "markdown",
   "metadata": {
    "hidden": true
   },
   "source": [
    "Let's use `.map()` to turn sex_upon_outcome into a category with three values (called **ternary**): male, female, or unknown. "
   ]
  },
  {
   "cell_type": "markdown",
   "metadata": {
    "hidden": true
   },
   "source": [
    "First, explore the unique values:"
   ]
  },
  {
   "cell_type": "code",
   "execution_count": 22,
   "metadata": {
    "hidden": true
   },
   "outputs": [
    {
     "data": {
      "text/plain": [
       "array(['Spayed Female', 'Intact Male', 'Intact Female', 'Unknown',\n",
       "       'Neutered Male'], dtype=object)"
      ]
     },
     "execution_count": 22,
     "metadata": {},
     "output_type": "execute_result"
    }
   ],
   "source": [
    "animals['sex_upon_outcome'].unique()"
   ]
  },
  {
   "cell_type": "code",
   "execution_count": 24,
   "metadata": {
    "hidden": true
   },
   "outputs": [],
   "source": [
    "def sex_mapper(status):\n",
    "    if status in ['Neutered Male', 'Intact Male']:\n",
    "        return 'Male'\n",
    "    elif status in ['Spayed Female', 'Intact Female']:\n",
    "        return 'Female'\n",
    "    else:\n",
    "        return 'Unknown'"
   ]
  },
  {
   "cell_type": "code",
   "execution_count": 25,
   "metadata": {
    "hidden": true
   },
   "outputs": [
    {
     "data": {
      "text/html": [
       "<div>\n",
       "<style scoped>\n",
       "    .dataframe tbody tr th:only-of-type {\n",
       "        vertical-align: middle;\n",
       "    }\n",
       "\n",
       "    .dataframe tbody tr th {\n",
       "        vertical-align: top;\n",
       "    }\n",
       "\n",
       "    .dataframe thead th {\n",
       "        text-align: right;\n",
       "    }\n",
       "</style>\n",
       "<table border=\"1\" class=\"dataframe\">\n",
       "  <thead>\n",
       "    <tr style=\"text-align: right;\">\n",
       "      <th></th>\n",
       "      <th>sex_upon_outcome</th>\n",
       "      <th>new_sex1</th>\n",
       "    </tr>\n",
       "  </thead>\n",
       "  <tbody>\n",
       "    <tr>\n",
       "      <th>0</th>\n",
       "      <td>Spayed Female</td>\n",
       "      <td>Female</td>\n",
       "    </tr>\n",
       "    <tr>\n",
       "      <th>1</th>\n",
       "      <td>Spayed Female</td>\n",
       "      <td>Female</td>\n",
       "    </tr>\n",
       "    <tr>\n",
       "      <th>2</th>\n",
       "      <td>Spayed Female</td>\n",
       "      <td>Female</td>\n",
       "    </tr>\n",
       "    <tr>\n",
       "      <th>3</th>\n",
       "      <td>Spayed Female</td>\n",
       "      <td>Female</td>\n",
       "    </tr>\n",
       "    <tr>\n",
       "      <th>4</th>\n",
       "      <td>Intact Male</td>\n",
       "      <td>Male</td>\n",
       "    </tr>\n",
       "    <tr>\n",
       "      <th>...</th>\n",
       "      <td>...</td>\n",
       "      <td>...</td>\n",
       "    </tr>\n",
       "    <tr>\n",
       "      <th>995</th>\n",
       "      <td>Spayed Female</td>\n",
       "      <td>Female</td>\n",
       "    </tr>\n",
       "    <tr>\n",
       "      <th>996</th>\n",
       "      <td>Neutered Male</td>\n",
       "      <td>Male</td>\n",
       "    </tr>\n",
       "    <tr>\n",
       "      <th>997</th>\n",
       "      <td>Intact Female</td>\n",
       "      <td>Female</td>\n",
       "    </tr>\n",
       "    <tr>\n",
       "      <th>998</th>\n",
       "      <td>Neutered Male</td>\n",
       "      <td>Male</td>\n",
       "    </tr>\n",
       "    <tr>\n",
       "      <th>999</th>\n",
       "      <td>Neutered Male</td>\n",
       "      <td>Male</td>\n",
       "    </tr>\n",
       "  </tbody>\n",
       "</table>\n",
       "<p>1000 rows × 2 columns</p>\n",
       "</div>"
      ],
      "text/plain": [
       "    sex_upon_outcome new_sex1\n",
       "0      Spayed Female   Female\n",
       "1      Spayed Female   Female\n",
       "2      Spayed Female   Female\n",
       "3      Spayed Female   Female\n",
       "4        Intact Male     Male\n",
       "..               ...      ...\n",
       "995    Spayed Female   Female\n",
       "996    Neutered Male     Male\n",
       "997    Intact Female   Female\n",
       "998    Neutered Male     Male\n",
       "999    Neutered Male     Male\n",
       "\n",
       "[1000 rows x 2 columns]"
      ]
     },
     "execution_count": 25,
     "metadata": {},
     "output_type": "execute_result"
    }
   ],
   "source": [
    "animals['new_sex1'] = animals['sex_upon_outcome'].map(sex_mapper)\n",
    "animals.loc[:, ['sex_upon_outcome', 'new_sex1']]"
   ]
  },
  {
   "cell_type": "markdown",
   "metadata": {
    "heading_collapsed": true,
    "hidden": true
   },
   "source": [
    "### Lambda Functions"
   ]
  },
  {
   "cell_type": "markdown",
   "metadata": {
    "hidden": true
   },
   "source": [
    "Simple functions can be defined just when you need them, when you would call the function. These are called **lambda functions**. These functions are **anonymous** and disappear immediately after use."
   ]
  },
  {
   "cell_type": "markdown",
   "metadata": {
    "hidden": true
   },
   "source": [
    "Let's use a lambda function to get rid of 'Other' in the \"animal_type' column."
   ]
  },
  {
   "cell_type": "code",
   "execution_count": 26,
   "metadata": {
    "hidden": true
   },
   "outputs": [
    {
     "data": {
      "text/html": [
       "<div>\n",
       "<style scoped>\n",
       "    .dataframe tbody tr th:only-of-type {\n",
       "        vertical-align: middle;\n",
       "    }\n",
       "\n",
       "    .dataframe tbody tr th {\n",
       "        vertical-align: top;\n",
       "    }\n",
       "\n",
       "    .dataframe thead th {\n",
       "        text-align: right;\n",
       "    }\n",
       "</style>\n",
       "<table border=\"1\" class=\"dataframe\">\n",
       "  <thead>\n",
       "    <tr style=\"text-align: right;\">\n",
       "      <th></th>\n",
       "      <th>animal_id</th>\n",
       "      <th>name</th>\n",
       "      <th>datetime</th>\n",
       "      <th>monthyear</th>\n",
       "      <th>date_of_birth</th>\n",
       "      <th>outcome_type</th>\n",
       "      <th>animal_type</th>\n",
       "      <th>sex_upon_outcome</th>\n",
       "      <th>age_upon_outcome</th>\n",
       "      <th>breed</th>\n",
       "      <th>color</th>\n",
       "      <th>outcome_subtype</th>\n",
       "      <th>new_age1</th>\n",
       "      <th>new_sex1</th>\n",
       "    </tr>\n",
       "  </thead>\n",
       "  <tbody>\n",
       "    <tr>\n",
       "      <th>20</th>\n",
       "      <td>A854802</td>\n",
       "      <td>NaN</td>\n",
       "      <td>2022-04-10 08:06:00</td>\n",
       "      <td>2022-04-10T08:06:00.000</td>\n",
       "      <td>2020-04-09T00:00:00.000</td>\n",
       "      <td>Euthanasia</td>\n",
       "      <td>Other</td>\n",
       "      <td>Unknown</td>\n",
       "      <td>2 years</td>\n",
       "      <td>Fox</td>\n",
       "      <td>Gray/Red</td>\n",
       "      <td>Rabies Risk</td>\n",
       "      <td>2 years</td>\n",
       "      <td>Unknown</td>\n",
       "    </tr>\n",
       "    <tr>\n",
       "      <th>21</th>\n",
       "      <td>A854515</td>\n",
       "      <td>NaN</td>\n",
       "      <td>2022-04-09 19:27:00</td>\n",
       "      <td>2022-04-09T19:27:00.000</td>\n",
       "      <td>2021-04-05T00:00:00.000</td>\n",
       "      <td>Euthanasia</td>\n",
       "      <td>Other</td>\n",
       "      <td>Unknown</td>\n",
       "      <td>1 year</td>\n",
       "      <td>Bat</td>\n",
       "      <td>Black</td>\n",
       "      <td>Rabies Risk</td>\n",
       "      <td>1 years</td>\n",
       "      <td>Unknown</td>\n",
       "    </tr>\n",
       "    <tr>\n",
       "      <th>27</th>\n",
       "      <td>A854551</td>\n",
       "      <td>NaN</td>\n",
       "      <td>2022-04-09 18:57:00</td>\n",
       "      <td>2022-04-09T18:57:00.000</td>\n",
       "      <td>2020-04-05T00:00:00.000</td>\n",
       "      <td>Euthanasia</td>\n",
       "      <td>Other</td>\n",
       "      <td>Unknown</td>\n",
       "      <td>2 years</td>\n",
       "      <td>Bat</td>\n",
       "      <td>Brown/Brown</td>\n",
       "      <td>Rabies Risk</td>\n",
       "      <td>2 years</td>\n",
       "      <td>Unknown</td>\n",
       "    </tr>\n",
       "    <tr>\n",
       "      <th>67</th>\n",
       "      <td>A854792</td>\n",
       "      <td>NaN</td>\n",
       "      <td>2022-04-09 09:36:00</td>\n",
       "      <td>2022-04-09T09:36:00.000</td>\n",
       "      <td>2021-04-08T00:00:00.000</td>\n",
       "      <td>Euthanasia</td>\n",
       "      <td>Other</td>\n",
       "      <td>Unknown</td>\n",
       "      <td>1 year</td>\n",
       "      <td>Bat</td>\n",
       "      <td>Brown</td>\n",
       "      <td>Rabies Risk</td>\n",
       "      <td>1 years</td>\n",
       "      <td>Unknown</td>\n",
       "    </tr>\n",
       "    <tr>\n",
       "      <th>68</th>\n",
       "      <td>A854795</td>\n",
       "      <td>NaN</td>\n",
       "      <td>2022-04-09 09:35:00</td>\n",
       "      <td>2022-04-09T09:35:00.000</td>\n",
       "      <td>2020-04-08T00:00:00.000</td>\n",
       "      <td>Euthanasia</td>\n",
       "      <td>Other</td>\n",
       "      <td>Unknown</td>\n",
       "      <td>2 years</td>\n",
       "      <td>Bat</td>\n",
       "      <td>Brown</td>\n",
       "      <td>Rabies Risk</td>\n",
       "      <td>2 years</td>\n",
       "      <td>Unknown</td>\n",
       "    </tr>\n",
       "    <tr>\n",
       "      <th>...</th>\n",
       "      <td>...</td>\n",
       "      <td>...</td>\n",
       "      <td>...</td>\n",
       "      <td>...</td>\n",
       "      <td>...</td>\n",
       "      <td>...</td>\n",
       "      <td>...</td>\n",
       "      <td>...</td>\n",
       "      <td>...</td>\n",
       "      <td>...</td>\n",
       "      <td>...</td>\n",
       "      <td>...</td>\n",
       "      <td>...</td>\n",
       "      <td>...</td>\n",
       "    </tr>\n",
       "    <tr>\n",
       "      <th>919</th>\n",
       "      <td>A852899</td>\n",
       "      <td>NaN</td>\n",
       "      <td>2022-03-10 11:12:00</td>\n",
       "      <td>2022-03-10T11:12:00.000</td>\n",
       "      <td>2021-03-09T00:00:00.000</td>\n",
       "      <td>Euthanasia</td>\n",
       "      <td>Other</td>\n",
       "      <td>Unknown</td>\n",
       "      <td>1 year</td>\n",
       "      <td>Raccoon</td>\n",
       "      <td>Gray/Black</td>\n",
       "      <td>Rabies Risk</td>\n",
       "      <td>1 years</td>\n",
       "      <td>Unknown</td>\n",
       "    </tr>\n",
       "    <tr>\n",
       "      <th>932</th>\n",
       "      <td>A852594</td>\n",
       "      <td>NaN</td>\n",
       "      <td>2022-03-09 13:31:00</td>\n",
       "      <td>2022-03-09T13:31:00.000</td>\n",
       "      <td>2020-03-05T00:00:00.000</td>\n",
       "      <td>Euthanasia</td>\n",
       "      <td>Other</td>\n",
       "      <td>Unknown</td>\n",
       "      <td>2 years</td>\n",
       "      <td>Raccoon</td>\n",
       "      <td>Black/Gray</td>\n",
       "      <td>Rabies Risk</td>\n",
       "      <td>2 years</td>\n",
       "      <td>Unknown</td>\n",
       "    </tr>\n",
       "    <tr>\n",
       "      <th>944</th>\n",
       "      <td>A852517</td>\n",
       "      <td>A852517</td>\n",
       "      <td>2022-03-08 18:56:00</td>\n",
       "      <td>2022-03-08T18:56:00.000</td>\n",
       "      <td>2020-03-04T00:00:00.000</td>\n",
       "      <td>Euthanasia</td>\n",
       "      <td>Other</td>\n",
       "      <td>Unknown</td>\n",
       "      <td>2 years</td>\n",
       "      <td>Raccoon</td>\n",
       "      <td>Brown/Black</td>\n",
       "      <td>Suffering</td>\n",
       "      <td>2 years</td>\n",
       "      <td>Unknown</td>\n",
       "    </tr>\n",
       "    <tr>\n",
       "      <th>954</th>\n",
       "      <td>A852836</td>\n",
       "      <td>NaN</td>\n",
       "      <td>2022-03-08 16:10:00</td>\n",
       "      <td>2022-03-08T16:10:00.000</td>\n",
       "      <td>2020-03-08T00:00:00.000</td>\n",
       "      <td>Euthanasia</td>\n",
       "      <td>Other</td>\n",
       "      <td>Unknown</td>\n",
       "      <td>2 years</td>\n",
       "      <td>Skunk</td>\n",
       "      <td>Black</td>\n",
       "      <td>Rabies Risk</td>\n",
       "      <td>2 years</td>\n",
       "      <td>Unknown</td>\n",
       "    </tr>\n",
       "    <tr>\n",
       "      <th>974</th>\n",
       "      <td>A851389</td>\n",
       "      <td>Max</td>\n",
       "      <td>2022-03-08 13:01:00</td>\n",
       "      <td>2022-03-08T13:01:00.000</td>\n",
       "      <td>2020-02-11T00:00:00.000</td>\n",
       "      <td>Adoption</td>\n",
       "      <td>Other</td>\n",
       "      <td>Intact Male</td>\n",
       "      <td>2 years</td>\n",
       "      <td>Rabbit Sh</td>\n",
       "      <td>White/Brown</td>\n",
       "      <td>Foster</td>\n",
       "      <td>2 years</td>\n",
       "      <td>Male</td>\n",
       "    </tr>\n",
       "  </tbody>\n",
       "</table>\n",
       "<p>79 rows × 14 columns</p>\n",
       "</div>"
      ],
      "text/plain": [
       "    animal_id     name            datetime                monthyear  \\\n",
       "20    A854802      NaN 2022-04-10 08:06:00  2022-04-10T08:06:00.000   \n",
       "21    A854515      NaN 2022-04-09 19:27:00  2022-04-09T19:27:00.000   \n",
       "27    A854551      NaN 2022-04-09 18:57:00  2022-04-09T18:57:00.000   \n",
       "67    A854792      NaN 2022-04-09 09:36:00  2022-04-09T09:36:00.000   \n",
       "68    A854795      NaN 2022-04-09 09:35:00  2022-04-09T09:35:00.000   \n",
       "..        ...      ...                 ...                      ...   \n",
       "919   A852899      NaN 2022-03-10 11:12:00  2022-03-10T11:12:00.000   \n",
       "932   A852594      NaN 2022-03-09 13:31:00  2022-03-09T13:31:00.000   \n",
       "944   A852517  A852517 2022-03-08 18:56:00  2022-03-08T18:56:00.000   \n",
       "954   A852836      NaN 2022-03-08 16:10:00  2022-03-08T16:10:00.000   \n",
       "974   A851389      Max 2022-03-08 13:01:00  2022-03-08T13:01:00.000   \n",
       "\n",
       "               date_of_birth outcome_type animal_type sex_upon_outcome  \\\n",
       "20   2020-04-09T00:00:00.000   Euthanasia       Other          Unknown   \n",
       "21   2021-04-05T00:00:00.000   Euthanasia       Other          Unknown   \n",
       "27   2020-04-05T00:00:00.000   Euthanasia       Other          Unknown   \n",
       "67   2021-04-08T00:00:00.000   Euthanasia       Other          Unknown   \n",
       "68   2020-04-08T00:00:00.000   Euthanasia       Other          Unknown   \n",
       "..                       ...          ...         ...              ...   \n",
       "919  2021-03-09T00:00:00.000   Euthanasia       Other          Unknown   \n",
       "932  2020-03-05T00:00:00.000   Euthanasia       Other          Unknown   \n",
       "944  2020-03-04T00:00:00.000   Euthanasia       Other          Unknown   \n",
       "954  2020-03-08T00:00:00.000   Euthanasia       Other          Unknown   \n",
       "974  2020-02-11T00:00:00.000     Adoption       Other      Intact Male   \n",
       "\n",
       "    age_upon_outcome      breed        color outcome_subtype new_age1 new_sex1  \n",
       "20           2 years        Fox     Gray/Red     Rabies Risk  2 years  Unknown  \n",
       "21            1 year        Bat        Black     Rabies Risk  1 years  Unknown  \n",
       "27           2 years        Bat  Brown/Brown     Rabies Risk  2 years  Unknown  \n",
       "67            1 year        Bat        Brown     Rabies Risk  1 years  Unknown  \n",
       "68           2 years        Bat        Brown     Rabies Risk  2 years  Unknown  \n",
       "..               ...        ...          ...             ...      ...      ...  \n",
       "919           1 year    Raccoon   Gray/Black     Rabies Risk  1 years  Unknown  \n",
       "932          2 years    Raccoon   Black/Gray     Rabies Risk  2 years  Unknown  \n",
       "944          2 years    Raccoon  Brown/Black       Suffering  2 years  Unknown  \n",
       "954          2 years      Skunk        Black     Rabies Risk  2 years  Unknown  \n",
       "974          2 years  Rabbit Sh  White/Brown          Foster  2 years     Male  \n",
       "\n",
       "[79 rows x 14 columns]"
      ]
     },
     "execution_count": 26,
     "metadata": {},
     "output_type": "execute_result"
    }
   ],
   "source": [
    "animals[animals['animal_type'] == 'Other']"
   ]
  },
  {
   "cell_type": "code",
   "execution_count": 27,
   "metadata": {
    "hidden": true
   },
   "outputs": [
    {
     "data": {
      "text/plain": [
       "Dog      633\n",
       "Cat      283\n",
       "Other     79\n",
       "Bird       5\n",
       "Name: animal_type, dtype: int64"
      ]
     },
     "execution_count": 27,
     "metadata": {},
     "output_type": "execute_result"
    }
   ],
   "source": [
    "animals['animal_type'].value_counts()"
   ]
  },
  {
   "cell_type": "code",
   "execution_count": 28,
   "metadata": {},
   "outputs": [
    {
     "data": {
      "text/plain": [
       "float"
      ]
     },
     "execution_count": 28,
     "metadata": {},
     "output_type": "execute_result"
    }
   ],
   "source": [
    "type(np.nan)"
   ]
  },
  {
   "cell_type": "code",
   "execution_count": 29,
   "metadata": {
    "hidden": true
   },
   "outputs": [
    {
     "data": {
      "text/plain": [
       "Dog     633\n",
       "Cat     283\n",
       "Bird      5\n",
       "Name: animal_type, dtype: int64"
      ]
     },
     "execution_count": 29,
     "metadata": {},
     "output_type": "execute_result"
    }
   ],
   "source": [
    "animals['animal_type'].map(lambda x: np.nan if x == 'Other' else x)\\\n",
    ".value_counts(\n",
    "    #dropna=False\n",
    ")"
   ]
  },
  {
   "cell_type": "code",
   "execution_count": 30,
   "metadata": {},
   "outputs": [
    {
     "data": {
      "text/plain": [
       "Dog      633\n",
       "Cat      283\n",
       "Other     79\n",
       "Bird       5\n",
       "Name: animal_type, dtype: int64"
      ]
     },
     "execution_count": 30,
     "metadata": {},
     "output_type": "execute_result"
    }
   ],
   "source": [
    "animals['animal_type'].value_counts()"
   ]
  },
  {
   "cell_type": "code",
   "execution_count": 31,
   "metadata": {},
   "outputs": [],
   "source": [
    "# this will apply the lambda function and save it to memory -> our column will be\n",
    "# fundamentally altered. \n",
    "\n",
    "animals['animal_type'] = animals['animal_type'].map(lambda x: np.nan if x == 'Other' else x)"
   ]
  },
  {
   "cell_type": "code",
   "execution_count": 32,
   "metadata": {},
   "outputs": [
    {
     "data": {
      "text/plain": [
       "Dog     633\n",
       "Cat     283\n",
       "Bird      5\n",
       "Name: animal_type, dtype: int64"
      ]
     },
     "execution_count": 32,
     "metadata": {},
     "output_type": "execute_result"
    }
   ],
   "source": [
    "animals['animal_type'].value_counts()"
   ]
  },
  {
   "cell_type": "markdown",
   "metadata": {
    "heading_collapsed": true
   },
   "source": [
    "# Handling Missing Data"
   ]
  },
  {
   "cell_type": "markdown",
   "metadata": {
    "hidden": true
   },
   "source": [
    "A lot of the times we'll have missing information in our data set. This can sometimes be troublesome in what we're trying to do."
   ]
  },
  {
   "cell_type": "markdown",
   "metadata": {
    "hidden": true
   },
   "source": [
    "So far, we've been doing some preprocessing/cleaning to answer questions. Now we're going to handle the missing values in our data.\n",
    "\n",
    "There are a few strategies we can choose from and they each have their special use case."
   ]
  },
  {
   "cell_type": "markdown",
   "metadata": {
    "hidden": true
   },
   "source": [
    "> Before making changes, it's convenient to make changes to a copy instead of overwriting data. We'll keep all our changes in `animals_clean` which will be a [copy](https://pandas.pydata.org/docs/reference/api/pandas.DataFrame.copy.html) of the original DataFrame."
   ]
  },
  {
   "cell_type": "code",
   "execution_count": 33,
   "metadata": {
    "hidden": true
   },
   "outputs": [],
   "source": [
    "animals_clean = animals.copy()"
   ]
  },
  {
   "cell_type": "markdown",
   "metadata": {
    "heading_collapsed": true,
    "hidden": true
   },
   "source": [
    "## Fill with a Relevant Value"
   ]
  },
  {
   "cell_type": "markdown",
   "metadata": {
    "hidden": true
   },
   "source": [
    "A lot of times we already have an idea of how we want to specify that a value was missing and replace it with a value that makes more sense than an \"empty\" value."
   ]
  },
  {
   "cell_type": "markdown",
   "metadata": {
    "hidden": true
   },
   "source": [
    "For example, it might make sense to fill the value as \"MISSING\" or \"UNKNOWN\". This way it's clearer when do more analysis."
   ]
  },
  {
   "cell_type": "markdown",
   "metadata": {
    "hidden": true
   },
   "source": [
    "> We can use Pandas' [`fillna()` method](https://pandas.pydata.org/pandas-docs/stable/reference/api/pandas.DataFrame.fillna.html) to replace missing values with something specific"
   ]
  },
  {
   "cell_type": "code",
   "execution_count": 34,
   "metadata": {
    "hidden": true
   },
   "outputs": [
    {
     "data": {
      "text/html": [
       "<div>\n",
       "<style scoped>\n",
       "    .dataframe tbody tr th:only-of-type {\n",
       "        vertical-align: middle;\n",
       "    }\n",
       "\n",
       "    .dataframe tbody tr th {\n",
       "        vertical-align: top;\n",
       "    }\n",
       "\n",
       "    .dataframe thead th {\n",
       "        text-align: right;\n",
       "    }\n",
       "</style>\n",
       "<table border=\"1\" class=\"dataframe\">\n",
       "  <thead>\n",
       "    <tr style=\"text-align: right;\">\n",
       "      <th></th>\n",
       "      <th>animal_id</th>\n",
       "      <th>name</th>\n",
       "      <th>datetime</th>\n",
       "      <th>monthyear</th>\n",
       "      <th>date_of_birth</th>\n",
       "      <th>outcome_type</th>\n",
       "      <th>animal_type</th>\n",
       "      <th>sex_upon_outcome</th>\n",
       "      <th>age_upon_outcome</th>\n",
       "      <th>breed</th>\n",
       "      <th>color</th>\n",
       "      <th>outcome_subtype</th>\n",
       "      <th>new_age1</th>\n",
       "      <th>new_sex1</th>\n",
       "    </tr>\n",
       "  </thead>\n",
       "  <tbody>\n",
       "    <tr>\n",
       "      <th>0</th>\n",
       "      <td>A854476</td>\n",
       "      <td>*Lily</td>\n",
       "      <td>2022-04-11 12:38:00</td>\n",
       "      <td>2022-04-11T12:38:00.000</td>\n",
       "      <td>2021-04-04T00:00:00.000</td>\n",
       "      <td>Adoption</td>\n",
       "      <td>Dog</td>\n",
       "      <td>Spayed Female</td>\n",
       "      <td>1 year</td>\n",
       "      <td>Doberman Pinsch</td>\n",
       "      <td>Black/Brown</td>\n",
       "      <td>NaN</td>\n",
       "      <td>1 years</td>\n",
       "      <td>Female</td>\n",
       "    </tr>\n",
       "    <tr>\n",
       "      <th>1</th>\n",
       "      <td>A854045</td>\n",
       "      <td>*Moon</td>\n",
       "      <td>2022-04-11 11:54:00</td>\n",
       "      <td>2022-04-11T11:54:00.000</td>\n",
       "      <td>2021-03-29T00:00:00.000</td>\n",
       "      <td>Adoption</td>\n",
       "      <td>Dog</td>\n",
       "      <td>Spayed Female</td>\n",
       "      <td>1 year</td>\n",
       "      <td>Rottweiler/Siberian Husky</td>\n",
       "      <td>Black/Brown</td>\n",
       "      <td>NaN</td>\n",
       "      <td>1 years</td>\n",
       "      <td>Female</td>\n",
       "    </tr>\n",
       "    <tr>\n",
       "      <th>2</th>\n",
       "      <td>A854309</td>\n",
       "      <td>*Xena</td>\n",
       "      <td>2022-04-11 11:46:00</td>\n",
       "      <td>2022-04-11T11:46:00.000</td>\n",
       "      <td>2021-08-01T00:00:00.000</td>\n",
       "      <td>Adoption</td>\n",
       "      <td>Dog</td>\n",
       "      <td>Spayed Female</td>\n",
       "      <td>8 months</td>\n",
       "      <td>Pit Bull Mix</td>\n",
       "      <td>Gray/White</td>\n",
       "      <td>NaN</td>\n",
       "      <td>8 months</td>\n",
       "      <td>Female</td>\n",
       "    </tr>\n",
       "    <tr>\n",
       "      <th>3</th>\n",
       "      <td>A854810</td>\n",
       "      <td>Ligaya</td>\n",
       "      <td>2022-04-11 11:16:00</td>\n",
       "      <td>2022-04-11T11:16:00.000</td>\n",
       "      <td>2008-04-09T00:00:00.000</td>\n",
       "      <td>Return to Owner</td>\n",
       "      <td>Dog</td>\n",
       "      <td>Spayed Female</td>\n",
       "      <td>14 years</td>\n",
       "      <td>Pit Bull</td>\n",
       "      <td>Red/White</td>\n",
       "      <td>NaN</td>\n",
       "      <td>14 years</td>\n",
       "      <td>Female</td>\n",
       "    </tr>\n",
       "    <tr>\n",
       "      <th>4</th>\n",
       "      <td>A854664</td>\n",
       "      <td>A854664</td>\n",
       "      <td>2022-04-11 10:59:00</td>\n",
       "      <td>2022-04-11T10:59:00.000</td>\n",
       "      <td>2021-10-07T00:00:00.000</td>\n",
       "      <td>Transfer</td>\n",
       "      <td>Dog</td>\n",
       "      <td>Intact Male</td>\n",
       "      <td>6 months</td>\n",
       "      <td>Maltese Mix</td>\n",
       "      <td>Black Smoke</td>\n",
       "      <td>Partner</td>\n",
       "      <td>6 months</td>\n",
       "      <td>Male</td>\n",
       "    </tr>\n",
       "  </tbody>\n",
       "</table>\n",
       "</div>"
      ],
      "text/plain": [
       "  animal_id     name            datetime                monthyear  \\\n",
       "0   A854476    *Lily 2022-04-11 12:38:00  2022-04-11T12:38:00.000   \n",
       "1   A854045    *Moon 2022-04-11 11:54:00  2022-04-11T11:54:00.000   \n",
       "2   A854309    *Xena 2022-04-11 11:46:00  2022-04-11T11:46:00.000   \n",
       "3   A854810   Ligaya 2022-04-11 11:16:00  2022-04-11T11:16:00.000   \n",
       "4   A854664  A854664 2022-04-11 10:59:00  2022-04-11T10:59:00.000   \n",
       "\n",
       "             date_of_birth     outcome_type animal_type sex_upon_outcome  \\\n",
       "0  2021-04-04T00:00:00.000         Adoption         Dog    Spayed Female   \n",
       "1  2021-03-29T00:00:00.000         Adoption         Dog    Spayed Female   \n",
       "2  2021-08-01T00:00:00.000         Adoption         Dog    Spayed Female   \n",
       "3  2008-04-09T00:00:00.000  Return to Owner         Dog    Spayed Female   \n",
       "4  2021-10-07T00:00:00.000         Transfer         Dog      Intact Male   \n",
       "\n",
       "  age_upon_outcome                      breed        color outcome_subtype  \\\n",
       "0           1 year            Doberman Pinsch  Black/Brown             NaN   \n",
       "1           1 year  Rottweiler/Siberian Husky  Black/Brown             NaN   \n",
       "2         8 months               Pit Bull Mix   Gray/White             NaN   \n",
       "3         14 years                   Pit Bull    Red/White             NaN   \n",
       "4         6 months                Maltese Mix  Black Smoke         Partner   \n",
       "\n",
       "   new_age1 new_sex1  \n",
       "0   1 years   Female  \n",
       "1   1 years   Female  \n",
       "2  8 months   Female  \n",
       "3  14 years   Female  \n",
       "4  6 months     Male  "
      ]
     },
     "execution_count": 34,
     "metadata": {},
     "output_type": "execute_result"
    }
   ],
   "source": [
    "# Note this creates a copy of `animals` with the missing values replaced\n",
    "animals_name_filled = animals_clean.fillna({'name':'UNKNOWN'}) # {col_name:new_value}\n",
    "animals_name_filled.head()"
   ]
  },
  {
   "cell_type": "code",
   "execution_count": 35,
   "metadata": {},
   "outputs": [
    {
     "data": {
      "text/plain": [
       "UNKNOWN    173\n",
       "Bella        7\n",
       "Coco         5\n",
       "Milo         4\n",
       "Blu          3\n",
       "          ... \n",
       "Cholo        1\n",
       "A853238      1\n",
       "Chief        1\n",
       "Suki         1\n",
       "A853964      1\n",
       "Name: name, Length: 736, dtype: int64"
      ]
     },
     "execution_count": 35,
     "metadata": {},
     "output_type": "execute_result"
    }
   ],
   "source": [
    "animals_name_filled['name'].value_counts()"
   ]
  },
  {
   "cell_type": "code",
   "execution_count": 39,
   "metadata": {},
   "outputs": [
    {
     "data": {
      "text/html": [
       "<div>\n",
       "<style scoped>\n",
       "    .dataframe tbody tr th:only-of-type {\n",
       "        vertical-align: middle;\n",
       "    }\n",
       "\n",
       "    .dataframe tbody tr th {\n",
       "        vertical-align: top;\n",
       "    }\n",
       "\n",
       "    .dataframe thead th {\n",
       "        text-align: right;\n",
       "    }\n",
       "</style>\n",
       "<table border=\"1\" class=\"dataframe\">\n",
       "  <thead>\n",
       "    <tr style=\"text-align: right;\">\n",
       "      <th></th>\n",
       "      <th>animal_id</th>\n",
       "      <th>name</th>\n",
       "      <th>datetime</th>\n",
       "      <th>monthyear</th>\n",
       "      <th>date_of_birth</th>\n",
       "      <th>outcome_type</th>\n",
       "      <th>animal_type</th>\n",
       "      <th>sex_upon_outcome</th>\n",
       "      <th>age_upon_outcome</th>\n",
       "      <th>breed</th>\n",
       "      <th>color</th>\n",
       "      <th>outcome_subtype</th>\n",
       "      <th>new_age1</th>\n",
       "      <th>new_sex1</th>\n",
       "    </tr>\n",
       "  </thead>\n",
       "  <tbody>\n",
       "    <tr>\n",
       "      <th>0</th>\n",
       "      <td>A854476</td>\n",
       "      <td>*Lily</td>\n",
       "      <td>2022-04-11 12:38:00</td>\n",
       "      <td>2022-04-11T12:38:00.000</td>\n",
       "      <td>2021-04-04T00:00:00.000</td>\n",
       "      <td>Adoption</td>\n",
       "      <td>Dog</td>\n",
       "      <td>Spayed Female</td>\n",
       "      <td>1 year</td>\n",
       "      <td>Doberman Pinsch</td>\n",
       "      <td>Black/Brown</td>\n",
       "      <td>NaN</td>\n",
       "      <td>1 years</td>\n",
       "      <td>Female</td>\n",
       "    </tr>\n",
       "    <tr>\n",
       "      <th>1</th>\n",
       "      <td>A854045</td>\n",
       "      <td>*Moon</td>\n",
       "      <td>2022-04-11 11:54:00</td>\n",
       "      <td>2022-04-11T11:54:00.000</td>\n",
       "      <td>2021-03-29T00:00:00.000</td>\n",
       "      <td>Adoption</td>\n",
       "      <td>Dog</td>\n",
       "      <td>Spayed Female</td>\n",
       "      <td>1 year</td>\n",
       "      <td>Rottweiler/Siberian Husky</td>\n",
       "      <td>Black/Brown</td>\n",
       "      <td>NaN</td>\n",
       "      <td>1 years</td>\n",
       "      <td>Female</td>\n",
       "    </tr>\n",
       "    <tr>\n",
       "      <th>2</th>\n",
       "      <td>A854309</td>\n",
       "      <td>*Xena</td>\n",
       "      <td>2022-04-11 11:46:00</td>\n",
       "      <td>2022-04-11T11:46:00.000</td>\n",
       "      <td>2021-08-01T00:00:00.000</td>\n",
       "      <td>Adoption</td>\n",
       "      <td>Dog</td>\n",
       "      <td>Spayed Female</td>\n",
       "      <td>8 months</td>\n",
       "      <td>Pit Bull Mix</td>\n",
       "      <td>Gray/White</td>\n",
       "      <td>NaN</td>\n",
       "      <td>8 months</td>\n",
       "      <td>Female</td>\n",
       "    </tr>\n",
       "    <tr>\n",
       "      <th>3</th>\n",
       "      <td>A854810</td>\n",
       "      <td>Ligaya</td>\n",
       "      <td>2022-04-11 11:16:00</td>\n",
       "      <td>2022-04-11T11:16:00.000</td>\n",
       "      <td>2008-04-09T00:00:00.000</td>\n",
       "      <td>Return to Owner</td>\n",
       "      <td>Dog</td>\n",
       "      <td>Spayed Female</td>\n",
       "      <td>14 years</td>\n",
       "      <td>Pit Bull</td>\n",
       "      <td>Red/White</td>\n",
       "      <td>NaN</td>\n",
       "      <td>14 years</td>\n",
       "      <td>Female</td>\n",
       "    </tr>\n",
       "    <tr>\n",
       "      <th>4</th>\n",
       "      <td>A854664</td>\n",
       "      <td>A854664</td>\n",
       "      <td>2022-04-11 10:59:00</td>\n",
       "      <td>2022-04-11T10:59:00.000</td>\n",
       "      <td>2021-10-07T00:00:00.000</td>\n",
       "      <td>Transfer</td>\n",
       "      <td>Dog</td>\n",
       "      <td>Intact Male</td>\n",
       "      <td>6 months</td>\n",
       "      <td>Maltese Mix</td>\n",
       "      <td>Black Smoke</td>\n",
       "      <td>Partner</td>\n",
       "      <td>6 months</td>\n",
       "      <td>Male</td>\n",
       "    </tr>\n",
       "  </tbody>\n",
       "</table>\n",
       "</div>"
      ],
      "text/plain": [
       "  animal_id     name            datetime                monthyear  \\\n",
       "0   A854476    *Lily 2022-04-11 12:38:00  2022-04-11T12:38:00.000   \n",
       "1   A854045    *Moon 2022-04-11 11:54:00  2022-04-11T11:54:00.000   \n",
       "2   A854309    *Xena 2022-04-11 11:46:00  2022-04-11T11:46:00.000   \n",
       "3   A854810   Ligaya 2022-04-11 11:16:00  2022-04-11T11:16:00.000   \n",
       "4   A854664  A854664 2022-04-11 10:59:00  2022-04-11T10:59:00.000   \n",
       "\n",
       "             date_of_birth     outcome_type animal_type sex_upon_outcome  \\\n",
       "0  2021-04-04T00:00:00.000         Adoption         Dog    Spayed Female   \n",
       "1  2021-03-29T00:00:00.000         Adoption         Dog    Spayed Female   \n",
       "2  2021-08-01T00:00:00.000         Adoption         Dog    Spayed Female   \n",
       "3  2008-04-09T00:00:00.000  Return to Owner         Dog    Spayed Female   \n",
       "4  2021-10-07T00:00:00.000         Transfer         Dog      Intact Male   \n",
       "\n",
       "  age_upon_outcome                      breed        color outcome_subtype  \\\n",
       "0           1 year            Doberman Pinsch  Black/Brown             NaN   \n",
       "1           1 year  Rottweiler/Siberian Husky  Black/Brown             NaN   \n",
       "2         8 months               Pit Bull Mix   Gray/White             NaN   \n",
       "3         14 years                   Pit Bull    Red/White             NaN   \n",
       "4         6 months                Maltese Mix  Black Smoke         Partner   \n",
       "\n",
       "   new_age1 new_sex1  \n",
       "0   1 years   Female  \n",
       "1   1 years   Female  \n",
       "2  8 months   Female  \n",
       "3  14 years   Female  \n",
       "4  6 months     Male  "
      ]
     },
     "execution_count": 39,
     "metadata": {},
     "output_type": "execute_result"
    }
   ],
   "source": [
    "animals_clean.head()"
   ]
  },
  {
   "cell_type": "code",
   "execution_count": 38,
   "metadata": {
    "hidden": true
   },
   "outputs": [
    {
     "data": {
      "text/plain": [
       "Bella      7\n",
       "Coco       5\n",
       "Milo       4\n",
       "Blue       3\n",
       "Blu        3\n",
       "          ..\n",
       "*Basi      1\n",
       "Indica     1\n",
       "Cholo      1\n",
       "A853238    1\n",
       "A853964    1\n",
       "Name: name, Length: 735, dtype: int64"
      ]
     },
     "execution_count": 38,
     "metadata": {},
     "output_type": "execute_result"
    }
   ],
   "source": [
    "# `animals` DataFrame is left untouched\n",
    "animals_clean['name'].value_counts()"
   ]
  },
  {
   "cell_type": "code",
   "execution_count": 40,
   "metadata": {
    "hidden": true
   },
   "outputs": [
    {
     "data": {
      "text/html": [
       "<div>\n",
       "<style scoped>\n",
       "    .dataframe tbody tr th:only-of-type {\n",
       "        vertical-align: middle;\n",
       "    }\n",
       "\n",
       "    .dataframe tbody tr th {\n",
       "        vertical-align: top;\n",
       "    }\n",
       "\n",
       "    .dataframe thead th {\n",
       "        text-align: right;\n",
       "    }\n",
       "</style>\n",
       "<table border=\"1\" class=\"dataframe\">\n",
       "  <thead>\n",
       "    <tr style=\"text-align: right;\">\n",
       "      <th></th>\n",
       "      <th>name</th>\n",
       "    </tr>\n",
       "  </thead>\n",
       "  <tbody>\n",
       "    <tr>\n",
       "      <th>0</th>\n",
       "      <td>*Lily</td>\n",
       "    </tr>\n",
       "    <tr>\n",
       "      <th>1</th>\n",
       "      <td>*Moon</td>\n",
       "    </tr>\n",
       "    <tr>\n",
       "      <th>2</th>\n",
       "      <td>*Xena</td>\n",
       "    </tr>\n",
       "    <tr>\n",
       "      <th>3</th>\n",
       "      <td>Ligaya</td>\n",
       "    </tr>\n",
       "    <tr>\n",
       "      <th>4</th>\n",
       "      <td>A854664</td>\n",
       "    </tr>\n",
       "  </tbody>\n",
       "</table>\n",
       "</div>"
      ],
      "text/plain": [
       "      name\n",
       "0    *Lily\n",
       "1    *Moon\n",
       "2    *Xena\n",
       "3   Ligaya\n",
       "4  A854664"
      ]
     },
     "execution_count": 40,
     "metadata": {},
     "output_type": "execute_result"
    }
   ],
   "source": [
    "# Alternative way to fill missing values by specifying column(s) first\n",
    "animals_only_names = animals[['name']].fillna(value='UNKNOWN')\n",
    "animals_only_names.head()"
   ]
  },
  {
   "cell_type": "code",
   "execution_count": 41,
   "metadata": {
    "hidden": true
   },
   "outputs": [
    {
     "data": {
      "text/html": [
       "<div>\n",
       "<style scoped>\n",
       "    .dataframe tbody tr th:only-of-type {\n",
       "        vertical-align: middle;\n",
       "    }\n",
       "\n",
       "    .dataframe tbody tr th {\n",
       "        vertical-align: top;\n",
       "    }\n",
       "\n",
       "    .dataframe thead th {\n",
       "        text-align: right;\n",
       "    }\n",
       "</style>\n",
       "<table border=\"1\" class=\"dataframe\">\n",
       "  <thead>\n",
       "    <tr style=\"text-align: right;\">\n",
       "      <th></th>\n",
       "      <th>animal_id</th>\n",
       "      <th>name</th>\n",
       "      <th>datetime</th>\n",
       "      <th>monthyear</th>\n",
       "      <th>date_of_birth</th>\n",
       "      <th>outcome_type</th>\n",
       "      <th>animal_type</th>\n",
       "      <th>sex_upon_outcome</th>\n",
       "      <th>age_upon_outcome</th>\n",
       "      <th>breed</th>\n",
       "      <th>color</th>\n",
       "      <th>outcome_subtype</th>\n",
       "      <th>new_age1</th>\n",
       "      <th>new_sex1</th>\n",
       "    </tr>\n",
       "  </thead>\n",
       "  <tbody>\n",
       "    <tr>\n",
       "      <th>0</th>\n",
       "      <td>A854476</td>\n",
       "      <td>*Lily</td>\n",
       "      <td>2022-04-11 12:38:00</td>\n",
       "      <td>2022-04-11T12:38:00.000</td>\n",
       "      <td>2021-04-04T00:00:00.000</td>\n",
       "      <td>Adoption</td>\n",
       "      <td>Dog</td>\n",
       "      <td>Spayed Female</td>\n",
       "      <td>1 year</td>\n",
       "      <td>Doberman Pinsch</td>\n",
       "      <td>Black/Brown</td>\n",
       "      <td>NaN</td>\n",
       "      <td>1 years</td>\n",
       "      <td>Female</td>\n",
       "    </tr>\n",
       "    <tr>\n",
       "      <th>1</th>\n",
       "      <td>A854045</td>\n",
       "      <td>*Moon</td>\n",
       "      <td>2022-04-11 11:54:00</td>\n",
       "      <td>2022-04-11T11:54:00.000</td>\n",
       "      <td>2021-03-29T00:00:00.000</td>\n",
       "      <td>Adoption</td>\n",
       "      <td>Dog</td>\n",
       "      <td>Spayed Female</td>\n",
       "      <td>1 year</td>\n",
       "      <td>Rottweiler/Siberian Husky</td>\n",
       "      <td>Black/Brown</td>\n",
       "      <td>NaN</td>\n",
       "      <td>1 years</td>\n",
       "      <td>Female</td>\n",
       "    </tr>\n",
       "    <tr>\n",
       "      <th>2</th>\n",
       "      <td>A854309</td>\n",
       "      <td>*Xena</td>\n",
       "      <td>2022-04-11 11:46:00</td>\n",
       "      <td>2022-04-11T11:46:00.000</td>\n",
       "      <td>2021-08-01T00:00:00.000</td>\n",
       "      <td>Adoption</td>\n",
       "      <td>Dog</td>\n",
       "      <td>Spayed Female</td>\n",
       "      <td>8 months</td>\n",
       "      <td>Pit Bull Mix</td>\n",
       "      <td>Gray/White</td>\n",
       "      <td>NaN</td>\n",
       "      <td>8 months</td>\n",
       "      <td>Female</td>\n",
       "    </tr>\n",
       "    <tr>\n",
       "      <th>3</th>\n",
       "      <td>A854810</td>\n",
       "      <td>Ligaya</td>\n",
       "      <td>2022-04-11 11:16:00</td>\n",
       "      <td>2022-04-11T11:16:00.000</td>\n",
       "      <td>2008-04-09T00:00:00.000</td>\n",
       "      <td>Return to Owner</td>\n",
       "      <td>Dog</td>\n",
       "      <td>Spayed Female</td>\n",
       "      <td>14 years</td>\n",
       "      <td>Pit Bull</td>\n",
       "      <td>Red/White</td>\n",
       "      <td>NaN</td>\n",
       "      <td>14 years</td>\n",
       "      <td>Female</td>\n",
       "    </tr>\n",
       "    <tr>\n",
       "      <th>4</th>\n",
       "      <td>A854664</td>\n",
       "      <td>A854664</td>\n",
       "      <td>2022-04-11 10:59:00</td>\n",
       "      <td>2022-04-11T10:59:00.000</td>\n",
       "      <td>2021-10-07T00:00:00.000</td>\n",
       "      <td>Transfer</td>\n",
       "      <td>Dog</td>\n",
       "      <td>Intact Male</td>\n",
       "      <td>6 months</td>\n",
       "      <td>Maltese Mix</td>\n",
       "      <td>Black Smoke</td>\n",
       "      <td>Partner</td>\n",
       "      <td>6 months</td>\n",
       "      <td>Male</td>\n",
       "    </tr>\n",
       "  </tbody>\n",
       "</table>\n",
       "</div>"
      ],
      "text/plain": [
       "  animal_id     name            datetime                monthyear  \\\n",
       "0   A854476    *Lily 2022-04-11 12:38:00  2022-04-11T12:38:00.000   \n",
       "1   A854045    *Moon 2022-04-11 11:54:00  2022-04-11T11:54:00.000   \n",
       "2   A854309    *Xena 2022-04-11 11:46:00  2022-04-11T11:46:00.000   \n",
       "3   A854810   Ligaya 2022-04-11 11:16:00  2022-04-11T11:16:00.000   \n",
       "4   A854664  A854664 2022-04-11 10:59:00  2022-04-11T10:59:00.000   \n",
       "\n",
       "             date_of_birth     outcome_type animal_type sex_upon_outcome  \\\n",
       "0  2021-04-04T00:00:00.000         Adoption         Dog    Spayed Female   \n",
       "1  2021-03-29T00:00:00.000         Adoption         Dog    Spayed Female   \n",
       "2  2021-08-01T00:00:00.000         Adoption         Dog    Spayed Female   \n",
       "3  2008-04-09T00:00:00.000  Return to Owner         Dog    Spayed Female   \n",
       "4  2021-10-07T00:00:00.000         Transfer         Dog      Intact Male   \n",
       "\n",
       "  age_upon_outcome                      breed        color outcome_subtype  \\\n",
       "0           1 year            Doberman Pinsch  Black/Brown             NaN   \n",
       "1           1 year  Rottweiler/Siberian Husky  Black/Brown             NaN   \n",
       "2         8 months               Pit Bull Mix   Gray/White             NaN   \n",
       "3         14 years                   Pit Bull    Red/White             NaN   \n",
       "4         6 months                Maltese Mix  Black Smoke         Partner   \n",
       "\n",
       "   new_age1 new_sex1  \n",
       "0   1 years   Female  \n",
       "1   1 years   Female  \n",
       "2  8 months   Female  \n",
       "3  14 years   Female  \n",
       "4  6 months     Male  "
      ]
     },
     "execution_count": 41,
     "metadata": {},
     "output_type": "execute_result"
    }
   ],
   "source": [
    "# To keep changes in DataFrame, overwrite the column\n",
    "animals_clean[['name']] = animals_only_names\n",
    "animals_clean.head()"
   ]
  },
  {
   "cell_type": "markdown",
   "metadata": {
    "heading_collapsed": true,
    "hidden": true
   },
   "source": [
    "## Fill with a Reasonable Value"
   ]
  },
  {
   "cell_type": "markdown",
   "metadata": {
    "hidden": true
   },
   "source": [
    "Other times we don't know what the missing value was but we might have a reasonable guess. This allows us to still use the data point (row) in our analysis."
   ]
  },
  {
   "cell_type": "markdown",
   "metadata": {
    "hidden": true
   },
   "source": [
    "> Beware that filling in missing values can lead to you drawing incorrect conclusions. If most of the data from a column are missing, it's going to appear that the value you filled it in with is more common that it actually was!"
   ]
  },
  {
   "cell_type": "markdown",
   "metadata": {
    "hidden": true
   },
   "source": [
    "A lot of the time we'll use the _mean_ or _median_ for numerical values. Sometimes values like $0$ make sense since it might make sense in the context of how the data was collected.\n",
    "\n",
    "With categorical values, you might choose to fill the missing values with the most common value (the *mode*)."
   ]
  },
  {
   "cell_type": "markdown",
   "metadata": {
    "hidden": true
   },
   "source": [
    "> Similar to the previous subsection, we can use the `fillna()` method after specifying the value to fill"
   ]
  },
  {
   "cell_type": "code",
   "execution_count": 44,
   "metadata": {},
   "outputs": [
    {
     "data": {
      "text/html": [
       "<div>\n",
       "<style scoped>\n",
       "    .dataframe tbody tr th:only-of-type {\n",
       "        vertical-align: middle;\n",
       "    }\n",
       "\n",
       "    .dataframe tbody tr th {\n",
       "        vertical-align: top;\n",
       "    }\n",
       "\n",
       "    .dataframe thead th {\n",
       "        text-align: right;\n",
       "    }\n",
       "</style>\n",
       "<table border=\"1\" class=\"dataframe\">\n",
       "  <thead>\n",
       "    <tr style=\"text-align: right;\">\n",
       "      <th></th>\n",
       "      <th>animal_id</th>\n",
       "      <th>name</th>\n",
       "      <th>datetime</th>\n",
       "      <th>monthyear</th>\n",
       "      <th>date_of_birth</th>\n",
       "      <th>outcome_type</th>\n",
       "      <th>animal_type</th>\n",
       "      <th>sex_upon_outcome</th>\n",
       "      <th>age_upon_outcome</th>\n",
       "      <th>breed</th>\n",
       "      <th>color</th>\n",
       "      <th>outcome_subtype</th>\n",
       "      <th>new_age1</th>\n",
       "      <th>new_sex1</th>\n",
       "    </tr>\n",
       "  </thead>\n",
       "  <tbody>\n",
       "    <tr>\n",
       "      <th>0</th>\n",
       "      <td>A854476</td>\n",
       "      <td>*Lily</td>\n",
       "      <td>2022-04-11 12:38:00</td>\n",
       "      <td>2022-04-11T12:38:00.000</td>\n",
       "      <td>2021-04-04T00:00:00.000</td>\n",
       "      <td>Adoption</td>\n",
       "      <td>Dog</td>\n",
       "      <td>Spayed Female</td>\n",
       "      <td>1 year</td>\n",
       "      <td>Doberman Pinsch</td>\n",
       "      <td>Black/Brown</td>\n",
       "      <td>NaN</td>\n",
       "      <td>1 years</td>\n",
       "      <td>Female</td>\n",
       "    </tr>\n",
       "    <tr>\n",
       "      <th>1</th>\n",
       "      <td>A854045</td>\n",
       "      <td>*Moon</td>\n",
       "      <td>2022-04-11 11:54:00</td>\n",
       "      <td>2022-04-11T11:54:00.000</td>\n",
       "      <td>2021-03-29T00:00:00.000</td>\n",
       "      <td>Adoption</td>\n",
       "      <td>Dog</td>\n",
       "      <td>Spayed Female</td>\n",
       "      <td>1 year</td>\n",
       "      <td>Rottweiler/Siberian Husky</td>\n",
       "      <td>Black/Brown</td>\n",
       "      <td>NaN</td>\n",
       "      <td>1 years</td>\n",
       "      <td>Female</td>\n",
       "    </tr>\n",
       "    <tr>\n",
       "      <th>2</th>\n",
       "      <td>A854309</td>\n",
       "      <td>*Xena</td>\n",
       "      <td>2022-04-11 11:46:00</td>\n",
       "      <td>2022-04-11T11:46:00.000</td>\n",
       "      <td>2021-08-01T00:00:00.000</td>\n",
       "      <td>Adoption</td>\n",
       "      <td>Dog</td>\n",
       "      <td>Spayed Female</td>\n",
       "      <td>8 months</td>\n",
       "      <td>Pit Bull Mix</td>\n",
       "      <td>Gray/White</td>\n",
       "      <td>NaN</td>\n",
       "      <td>8 months</td>\n",
       "      <td>Female</td>\n",
       "    </tr>\n",
       "    <tr>\n",
       "      <th>3</th>\n",
       "      <td>A854810</td>\n",
       "      <td>Ligaya</td>\n",
       "      <td>2022-04-11 11:16:00</td>\n",
       "      <td>2022-04-11T11:16:00.000</td>\n",
       "      <td>2008-04-09T00:00:00.000</td>\n",
       "      <td>Return to Owner</td>\n",
       "      <td>Dog</td>\n",
       "      <td>Spayed Female</td>\n",
       "      <td>14 years</td>\n",
       "      <td>Pit Bull</td>\n",
       "      <td>Red/White</td>\n",
       "      <td>NaN</td>\n",
       "      <td>14 years</td>\n",
       "      <td>Female</td>\n",
       "    </tr>\n",
       "    <tr>\n",
       "      <th>4</th>\n",
       "      <td>A854664</td>\n",
       "      <td>A854664</td>\n",
       "      <td>2022-04-11 10:59:00</td>\n",
       "      <td>2022-04-11T10:59:00.000</td>\n",
       "      <td>2021-10-07T00:00:00.000</td>\n",
       "      <td>Transfer</td>\n",
       "      <td>Dog</td>\n",
       "      <td>Intact Male</td>\n",
       "      <td>6 months</td>\n",
       "      <td>Maltese Mix</td>\n",
       "      <td>Black Smoke</td>\n",
       "      <td>Partner</td>\n",
       "      <td>6 months</td>\n",
       "      <td>Male</td>\n",
       "    </tr>\n",
       "    <tr>\n",
       "      <th>...</th>\n",
       "      <td>...</td>\n",
       "      <td>...</td>\n",
       "      <td>...</td>\n",
       "      <td>...</td>\n",
       "      <td>...</td>\n",
       "      <td>...</td>\n",
       "      <td>...</td>\n",
       "      <td>...</td>\n",
       "      <td>...</td>\n",
       "      <td>...</td>\n",
       "      <td>...</td>\n",
       "      <td>...</td>\n",
       "      <td>...</td>\n",
       "      <td>...</td>\n",
       "    </tr>\n",
       "    <tr>\n",
       "      <th>995</th>\n",
       "      <td>A852490</td>\n",
       "      <td>A852490</td>\n",
       "      <td>2022-03-07 17:02:00</td>\n",
       "      <td>2022-03-07T17:02:00.000</td>\n",
       "      <td>2022-01-03T00:00:00.000</td>\n",
       "      <td>Adoption</td>\n",
       "      <td>Dog</td>\n",
       "      <td>Spayed Female</td>\n",
       "      <td>2 months</td>\n",
       "      <td>Cardigan Welsh Corgi Mix</td>\n",
       "      <td>Black/Tan</td>\n",
       "      <td>NaN</td>\n",
       "      <td>2 months</td>\n",
       "      <td>Female</td>\n",
       "    </tr>\n",
       "    <tr>\n",
       "      <th>996</th>\n",
       "      <td>A851553</td>\n",
       "      <td>*Tommy Bahama</td>\n",
       "      <td>2022-03-07 16:51:00</td>\n",
       "      <td>2022-03-07T16:51:00.000</td>\n",
       "      <td>2020-02-14T00:00:00.000</td>\n",
       "      <td>Died</td>\n",
       "      <td>Dog</td>\n",
       "      <td>Neutered Male</td>\n",
       "      <td>2 years</td>\n",
       "      <td>Chinese Sharpei Mix</td>\n",
       "      <td>Red</td>\n",
       "      <td>In Kennel</td>\n",
       "      <td>2 years</td>\n",
       "      <td>Male</td>\n",
       "    </tr>\n",
       "    <tr>\n",
       "      <th>997</th>\n",
       "      <td>A852541</td>\n",
       "      <td>Bella</td>\n",
       "      <td>2022-03-07 16:49:00</td>\n",
       "      <td>2022-03-07T16:49:00.000</td>\n",
       "      <td>2022-01-04T00:00:00.000</td>\n",
       "      <td>Return to Owner</td>\n",
       "      <td>Dog</td>\n",
       "      <td>Intact Female</td>\n",
       "      <td>2 months</td>\n",
       "      <td>Labrador Retriever Mix</td>\n",
       "      <td>Black/White</td>\n",
       "      <td>NaN</td>\n",
       "      <td>2 months</td>\n",
       "      <td>Female</td>\n",
       "    </tr>\n",
       "    <tr>\n",
       "      <th>998</th>\n",
       "      <td>A852384</td>\n",
       "      <td>*Potato</td>\n",
       "      <td>2022-03-07 16:47:00</td>\n",
       "      <td>2022-03-07T16:47:00.000</td>\n",
       "      <td>2021-04-06T00:00:00.000</td>\n",
       "      <td>Adoption</td>\n",
       "      <td>Cat</td>\n",
       "      <td>Neutered Male</td>\n",
       "      <td>11 months</td>\n",
       "      <td>Domestic Shorthair</td>\n",
       "      <td>Brown Tabby</td>\n",
       "      <td>NaN</td>\n",
       "      <td>11 months</td>\n",
       "      <td>Male</td>\n",
       "    </tr>\n",
       "    <tr>\n",
       "      <th>999</th>\n",
       "      <td>A852399</td>\n",
       "      <td>*Maverick</td>\n",
       "      <td>2022-03-07 16:21:00</td>\n",
       "      <td>2022-03-07T16:21:00.000</td>\n",
       "      <td>2018-03-02T00:00:00.000</td>\n",
       "      <td>Adoption</td>\n",
       "      <td>Cat</td>\n",
       "      <td>Neutered Male</td>\n",
       "      <td>4 years</td>\n",
       "      <td>Domestic Shorthair</td>\n",
       "      <td>Black/White</td>\n",
       "      <td>NaN</td>\n",
       "      <td>4 years</td>\n",
       "      <td>Male</td>\n",
       "    </tr>\n",
       "  </tbody>\n",
       "</table>\n",
       "<p>1000 rows × 14 columns</p>\n",
       "</div>"
      ],
      "text/plain": [
       "    animal_id           name            datetime                monthyear  \\\n",
       "0     A854476          *Lily 2022-04-11 12:38:00  2022-04-11T12:38:00.000   \n",
       "1     A854045          *Moon 2022-04-11 11:54:00  2022-04-11T11:54:00.000   \n",
       "2     A854309          *Xena 2022-04-11 11:46:00  2022-04-11T11:46:00.000   \n",
       "3     A854810         Ligaya 2022-04-11 11:16:00  2022-04-11T11:16:00.000   \n",
       "4     A854664        A854664 2022-04-11 10:59:00  2022-04-11T10:59:00.000   \n",
       "..        ...            ...                 ...                      ...   \n",
       "995   A852490        A852490 2022-03-07 17:02:00  2022-03-07T17:02:00.000   \n",
       "996   A851553  *Tommy Bahama 2022-03-07 16:51:00  2022-03-07T16:51:00.000   \n",
       "997   A852541          Bella 2022-03-07 16:49:00  2022-03-07T16:49:00.000   \n",
       "998   A852384        *Potato 2022-03-07 16:47:00  2022-03-07T16:47:00.000   \n",
       "999   A852399      *Maverick 2022-03-07 16:21:00  2022-03-07T16:21:00.000   \n",
       "\n",
       "               date_of_birth     outcome_type animal_type sex_upon_outcome  \\\n",
       "0    2021-04-04T00:00:00.000         Adoption         Dog    Spayed Female   \n",
       "1    2021-03-29T00:00:00.000         Adoption         Dog    Spayed Female   \n",
       "2    2021-08-01T00:00:00.000         Adoption         Dog    Spayed Female   \n",
       "3    2008-04-09T00:00:00.000  Return to Owner         Dog    Spayed Female   \n",
       "4    2021-10-07T00:00:00.000         Transfer         Dog      Intact Male   \n",
       "..                       ...              ...         ...              ...   \n",
       "995  2022-01-03T00:00:00.000         Adoption         Dog    Spayed Female   \n",
       "996  2020-02-14T00:00:00.000             Died         Dog    Neutered Male   \n",
       "997  2022-01-04T00:00:00.000  Return to Owner         Dog    Intact Female   \n",
       "998  2021-04-06T00:00:00.000         Adoption         Cat    Neutered Male   \n",
       "999  2018-03-02T00:00:00.000         Adoption         Cat    Neutered Male   \n",
       "\n",
       "    age_upon_outcome                      breed        color outcome_subtype  \\\n",
       "0             1 year            Doberman Pinsch  Black/Brown             NaN   \n",
       "1             1 year  Rottweiler/Siberian Husky  Black/Brown             NaN   \n",
       "2           8 months               Pit Bull Mix   Gray/White             NaN   \n",
       "3           14 years                   Pit Bull    Red/White             NaN   \n",
       "4           6 months                Maltese Mix  Black Smoke         Partner   \n",
       "..               ...                        ...          ...             ...   \n",
       "995         2 months   Cardigan Welsh Corgi Mix    Black/Tan             NaN   \n",
       "996          2 years        Chinese Sharpei Mix          Red       In Kennel   \n",
       "997         2 months     Labrador Retriever Mix  Black/White             NaN   \n",
       "998        11 months         Domestic Shorthair  Brown Tabby             NaN   \n",
       "999          4 years         Domestic Shorthair  Black/White             NaN   \n",
       "\n",
       "      new_age1 new_sex1  \n",
       "0      1 years   Female  \n",
       "1      1 years   Female  \n",
       "2     8 months   Female  \n",
       "3     14 years   Female  \n",
       "4     6 months     Male  \n",
       "..         ...      ...  \n",
       "995   2 months   Female  \n",
       "996    2 years     Male  \n",
       "997   2 months   Female  \n",
       "998  11 months     Male  \n",
       "999    4 years     Male  \n",
       "\n",
       "[1000 rows x 14 columns]"
      ]
     },
     "execution_count": 44,
     "metadata": {},
     "output_type": "execute_result"
    }
   ],
   "source": [
    "animals"
   ]
  },
  {
   "cell_type": "code",
   "execution_count": 42,
   "metadata": {
    "hidden": true
   },
   "outputs": [
    {
     "data": {
      "text/plain": [
       "Partner        212\n",
       "Foster          84\n",
       "Out State       58\n",
       "Rabies Risk     56\n",
       "Suffering       23\n",
       "Snr             17\n",
       "Offsite         12\n",
       "Field           10\n",
       "In Kennel        5\n",
       "At Vet           4\n",
       "Medical          2\n",
       "Prc              1\n",
       "Customer S       1\n",
       "Aggressive       1\n",
       "Name: outcome_subtype, dtype: int64"
      ]
     },
     "execution_count": 42,
     "metadata": {},
     "output_type": "execute_result"
    }
   ],
   "source": [
    "## Let's find the most common value for `outcome_subtype`\n",
    "outcome_subtype_counts = animals['outcome_subtype'].value_counts()\n",
    "outcome_subtype_counts"
   ]
  },
  {
   "cell_type": "code",
   "execution_count": 45,
   "metadata": {
    "hidden": true
   },
   "outputs": [
    {
     "name": "stdout",
     "output_type": "stream",
     "text": [
      "Index(['Partner', 'Foster', 'Out State', 'Rabies Risk', 'Suffering', 'Snr',\n",
      "       'Offsite', 'Field', 'In Kennel', 'At Vet', 'Medical', 'Prc',\n",
      "       'Customer S', 'Aggressive'],\n",
      "      dtype='object')\n"
     ]
    },
    {
     "data": {
      "text/plain": [
       "'Partner'"
      ]
     },
     "execution_count": 45,
     "metadata": {},
     "output_type": "execute_result"
    }
   ],
   "source": [
    "# This gets us just the values in order of most frequent to least frequent\n",
    "outcome_subtype_ordered = outcome_subtype_counts.index\n",
    "print(outcome_subtype_ordered)\n",
    "\n",
    "# Get the first one\n",
    "most_common_outcome_subtype = outcome_subtype_ordered[0]"
   ]
  },
  {
   "cell_type": "code",
   "execution_count": 46,
   "metadata": {},
   "outputs": [
    {
     "data": {
      "text/plain": [
       "'Partner'"
      ]
     },
     "execution_count": 46,
     "metadata": {},
     "output_type": "execute_result"
    }
   ],
   "source": [
    "most_common_outcome_subtype"
   ]
  },
  {
   "cell_type": "code",
   "execution_count": 51,
   "metadata": {},
   "outputs": [
    {
     "data": {
      "text/plain": [
       "1"
      ]
     },
     "execution_count": 51,
     "metadata": {},
     "output_type": "execute_result"
    }
   ],
   "source": [
    "animals['outcome_subtype'].mode()"
   ]
  },
  {
   "cell_type": "code",
   "execution_count": 53,
   "metadata": {
    "hidden": true
   },
   "outputs": [
    {
     "data": {
      "text/plain": [
       "'Partner'"
      ]
     },
     "execution_count": 53,
     "metadata": {},
     "output_type": "execute_result"
    }
   ],
   "source": [
    "# Using the built-in mode() method\n",
    "# Note this is Series so we have to get the first element (which is the value)\n",
    "most_common_outcome_subtype = animals['outcome_subtype'].mode()[0]\n",
    "most_common_outcome_subtype"
   ]
  },
  {
   "cell_type": "code",
   "execution_count": 57,
   "metadata": {
    "hidden": true,
    "scrolled": true
   },
   "outputs": [
    {
     "data": {
      "text/plain": [
       "Partner        726\n",
       "Foster          84\n",
       "Out State       58\n",
       "Rabies Risk     56\n",
       "Suffering       23\n",
       "Snr             17\n",
       "Offsite         12\n",
       "Field           10\n",
       "In Kennel        5\n",
       "At Vet           4\n",
       "Medical          2\n",
       "Prc              1\n",
       "Customer S       1\n",
       "Aggressive       1\n",
       "Name: outcome_subtype, dtype: int64"
      ]
     },
     "execution_count": 57,
     "metadata": {},
     "output_type": "execute_result"
    }
   ],
   "source": [
    "# Similar to the previous subsection, we can use fillna() and update the DF\n",
    "animals_clean['outcome_subtype'] = animals['outcome_subtype']\\\n",
    ".fillna(most_common_outcome_subtype)\n",
    "animals_clean['outcome_subtype'].value_counts()"
   ]
  },
  {
   "cell_type": "markdown",
   "metadata": {
    "heading_collapsed": true,
    "hidden": true
   },
   "source": [
    "## Specify That the Data Were Missing"
   ]
  },
  {
   "cell_type": "markdown",
   "metadata": {
    "hidden": true
   },
   "source": [
    "Even after filling in missing values, it might make sense to specify that there were missing data. You can document that the data was missing by creating a new column that represents whether the data was originally missing or not."
   ]
  },
  {
   "cell_type": "markdown",
   "metadata": {
    "hidden": true
   },
   "source": [
    "This can be helpful when you suspect that the fact the data was missing could be important for an analysis."
   ]
  },
  {
   "cell_type": "markdown",
   "metadata": {
    "hidden": true
   },
   "source": [
    "> Since we already removed some missing values, we're going to reference back to the original `animals` DataFrame. (Good thing we didn't overwrite it! 😉)"
   ]
  },
  {
   "cell_type": "code",
   "execution_count": 58,
   "metadata": {
    "hidden": true
   },
   "outputs": [
    {
     "data": {
      "text/plain": [
       "0       True\n",
       "1       True\n",
       "2       True\n",
       "3       True\n",
       "4      False\n",
       "       ...  \n",
       "995     True\n",
       "996    False\n",
       "997     True\n",
       "998     True\n",
       "999     True\n",
       "Name: outcome_subtype, Length: 1000, dtype: bool"
      ]
     },
     "execution_count": 58,
     "metadata": {},
     "output_type": "execute_result"
    }
   ],
   "source": [
    "# Let's specify which values were originally missing in \"outcome_subtype\"\n",
    "missing_outcome_subtypes = animals['outcome_subtype'].isna()\n",
    "missing_outcome_subtypes"
   ]
  },
  {
   "cell_type": "code",
   "execution_count": 59,
   "metadata": {
    "hidden": true
   },
   "outputs": [
    {
     "data": {
      "text/html": [
       "<div>\n",
       "<style scoped>\n",
       "    .dataframe tbody tr th:only-of-type {\n",
       "        vertical-align: middle;\n",
       "    }\n",
       "\n",
       "    .dataframe tbody tr th {\n",
       "        vertical-align: top;\n",
       "    }\n",
       "\n",
       "    .dataframe thead th {\n",
       "        text-align: right;\n",
       "    }\n",
       "</style>\n",
       "<table border=\"1\" class=\"dataframe\">\n",
       "  <thead>\n",
       "    <tr style=\"text-align: right;\">\n",
       "      <th></th>\n",
       "      <th>animal_id</th>\n",
       "      <th>name</th>\n",
       "      <th>datetime</th>\n",
       "      <th>monthyear</th>\n",
       "      <th>date_of_birth</th>\n",
       "      <th>outcome_type</th>\n",
       "      <th>animal_type</th>\n",
       "      <th>sex_upon_outcome</th>\n",
       "      <th>age_upon_outcome</th>\n",
       "      <th>breed</th>\n",
       "      <th>color</th>\n",
       "      <th>outcome_subtype</th>\n",
       "      <th>new_age1</th>\n",
       "      <th>new_sex1</th>\n",
       "      <th>outcome_subtype_missing</th>\n",
       "    </tr>\n",
       "  </thead>\n",
       "  <tbody>\n",
       "    <tr>\n",
       "      <th>0</th>\n",
       "      <td>A854476</td>\n",
       "      <td>*Lily</td>\n",
       "      <td>2022-04-11 12:38:00</td>\n",
       "      <td>2022-04-11T12:38:00.000</td>\n",
       "      <td>2021-04-04T00:00:00.000</td>\n",
       "      <td>Adoption</td>\n",
       "      <td>Dog</td>\n",
       "      <td>Spayed Female</td>\n",
       "      <td>1 year</td>\n",
       "      <td>Doberman Pinsch</td>\n",
       "      <td>Black/Brown</td>\n",
       "      <td>Partner</td>\n",
       "      <td>1 years</td>\n",
       "      <td>Female</td>\n",
       "      <td>True</td>\n",
       "    </tr>\n",
       "    <tr>\n",
       "      <th>1</th>\n",
       "      <td>A854045</td>\n",
       "      <td>*Moon</td>\n",
       "      <td>2022-04-11 11:54:00</td>\n",
       "      <td>2022-04-11T11:54:00.000</td>\n",
       "      <td>2021-03-29T00:00:00.000</td>\n",
       "      <td>Adoption</td>\n",
       "      <td>Dog</td>\n",
       "      <td>Spayed Female</td>\n",
       "      <td>1 year</td>\n",
       "      <td>Rottweiler/Siberian Husky</td>\n",
       "      <td>Black/Brown</td>\n",
       "      <td>Partner</td>\n",
       "      <td>1 years</td>\n",
       "      <td>Female</td>\n",
       "      <td>True</td>\n",
       "    </tr>\n",
       "    <tr>\n",
       "      <th>2</th>\n",
       "      <td>A854309</td>\n",
       "      <td>*Xena</td>\n",
       "      <td>2022-04-11 11:46:00</td>\n",
       "      <td>2022-04-11T11:46:00.000</td>\n",
       "      <td>2021-08-01T00:00:00.000</td>\n",
       "      <td>Adoption</td>\n",
       "      <td>Dog</td>\n",
       "      <td>Spayed Female</td>\n",
       "      <td>8 months</td>\n",
       "      <td>Pit Bull Mix</td>\n",
       "      <td>Gray/White</td>\n",
       "      <td>Partner</td>\n",
       "      <td>8 months</td>\n",
       "      <td>Female</td>\n",
       "      <td>True</td>\n",
       "    </tr>\n",
       "    <tr>\n",
       "      <th>3</th>\n",
       "      <td>A854810</td>\n",
       "      <td>Ligaya</td>\n",
       "      <td>2022-04-11 11:16:00</td>\n",
       "      <td>2022-04-11T11:16:00.000</td>\n",
       "      <td>2008-04-09T00:00:00.000</td>\n",
       "      <td>Return to Owner</td>\n",
       "      <td>Dog</td>\n",
       "      <td>Spayed Female</td>\n",
       "      <td>14 years</td>\n",
       "      <td>Pit Bull</td>\n",
       "      <td>Red/White</td>\n",
       "      <td>Partner</td>\n",
       "      <td>14 years</td>\n",
       "      <td>Female</td>\n",
       "      <td>True</td>\n",
       "    </tr>\n",
       "    <tr>\n",
       "      <th>4</th>\n",
       "      <td>A854664</td>\n",
       "      <td>A854664</td>\n",
       "      <td>2022-04-11 10:59:00</td>\n",
       "      <td>2022-04-11T10:59:00.000</td>\n",
       "      <td>2021-10-07T00:00:00.000</td>\n",
       "      <td>Transfer</td>\n",
       "      <td>Dog</td>\n",
       "      <td>Intact Male</td>\n",
       "      <td>6 months</td>\n",
       "      <td>Maltese Mix</td>\n",
       "      <td>Black Smoke</td>\n",
       "      <td>Partner</td>\n",
       "      <td>6 months</td>\n",
       "      <td>Male</td>\n",
       "      <td>False</td>\n",
       "    </tr>\n",
       "  </tbody>\n",
       "</table>\n",
       "</div>"
      ],
      "text/plain": [
       "  animal_id     name            datetime                monthyear  \\\n",
       "0   A854476    *Lily 2022-04-11 12:38:00  2022-04-11T12:38:00.000   \n",
       "1   A854045    *Moon 2022-04-11 11:54:00  2022-04-11T11:54:00.000   \n",
       "2   A854309    *Xena 2022-04-11 11:46:00  2022-04-11T11:46:00.000   \n",
       "3   A854810   Ligaya 2022-04-11 11:16:00  2022-04-11T11:16:00.000   \n",
       "4   A854664  A854664 2022-04-11 10:59:00  2022-04-11T10:59:00.000   \n",
       "\n",
       "             date_of_birth     outcome_type animal_type sex_upon_outcome  \\\n",
       "0  2021-04-04T00:00:00.000         Adoption         Dog    Spayed Female   \n",
       "1  2021-03-29T00:00:00.000         Adoption         Dog    Spayed Female   \n",
       "2  2021-08-01T00:00:00.000         Adoption         Dog    Spayed Female   \n",
       "3  2008-04-09T00:00:00.000  Return to Owner         Dog    Spayed Female   \n",
       "4  2021-10-07T00:00:00.000         Transfer         Dog      Intact Male   \n",
       "\n",
       "  age_upon_outcome                      breed        color outcome_subtype  \\\n",
       "0           1 year            Doberman Pinsch  Black/Brown         Partner   \n",
       "1           1 year  Rottweiler/Siberian Husky  Black/Brown         Partner   \n",
       "2         8 months               Pit Bull Mix   Gray/White         Partner   \n",
       "3         14 years                   Pit Bull    Red/White         Partner   \n",
       "4         6 months                Maltese Mix  Black Smoke         Partner   \n",
       "\n",
       "   new_age1 new_sex1  outcome_subtype_missing  \n",
       "0   1 years   Female                     True  \n",
       "1   1 years   Female                     True  \n",
       "2  8 months   Female                     True  \n",
       "3  14 years   Female                     True  \n",
       "4  6 months     Male                    False  "
      ]
     },
     "execution_count": 59,
     "metadata": {},
     "output_type": "execute_result"
    }
   ],
   "source": [
    "# Create new column for missing outcome subtypes matched w/ replaced values\n",
    "animals_clean['outcome_subtype_missing'] = missing_outcome_subtypes\n",
    "animals_clean.head()"
   ]
  },
  {
   "cell_type": "markdown",
   "metadata": {
    "heading_collapsed": true,
    "hidden": true
   },
   "source": [
    "## Drop Missing Data"
   ]
  },
  {
   "cell_type": "markdown",
   "metadata": {
    "hidden": true
   },
   "source": [
    "You should try to keep as much relevant data as possible, but sometimes the other methods don't make as much sense and it's better to remove or **drop** the missing data."
   ]
  },
  {
   "cell_type": "markdown",
   "metadata": {
    "hidden": true
   },
   "source": [
    "We typically drop missing data if very little data would be lost and/or trying to fill in the values wouldn't make sense for our use case. For example, if you're trying to predict the outcome based on the other features/columns it might not make sense to fill in those missing values with something you can't confirm."
   ]
  },
  {
   "cell_type": "markdown",
   "metadata": {
    "hidden": true
   },
   "source": [
    "> We noticed that `outcome_type` had only a few missing values. It might not be worth trying to handle those few missing values. We can pretend that the `outcome_type` was an important feature and without it the rest of the row's data is of little importance to us.\n",
    ">\n",
    "> So we'll decide to drop the row if a value from `outcome_type` is missing. We'll use Pandas' [`dropna()` method](https://pandas.pydata.org/pandas-docs/stable/reference/api/pandas.DataFrame.dropna.html)."
   ]
  },
  {
   "cell_type": "code",
   "execution_count": 60,
   "metadata": {},
   "outputs": [
    {
     "data": {
      "text/plain": [
       "1000"
      ]
     },
     "execution_count": 60,
     "metadata": {},
     "output_type": "execute_result"
    }
   ],
   "source": [
    "animals_clean['outcome_type'].value_counts().sum()"
   ]
  },
  {
   "cell_type": "code",
   "execution_count": 61,
   "metadata": {
    "hidden": true
   },
   "outputs": [
    {
     "data": {
      "text/html": [
       "<div>\n",
       "<style scoped>\n",
       "    .dataframe tbody tr th:only-of-type {\n",
       "        vertical-align: middle;\n",
       "    }\n",
       "\n",
       "    .dataframe tbody tr th {\n",
       "        vertical-align: top;\n",
       "    }\n",
       "\n",
       "    .dataframe thead th {\n",
       "        text-align: right;\n",
       "    }\n",
       "</style>\n",
       "<table border=\"1\" class=\"dataframe\">\n",
       "  <thead>\n",
       "    <tr style=\"text-align: right;\">\n",
       "      <th></th>\n",
       "      <th>animal_id</th>\n",
       "      <th>name</th>\n",
       "      <th>datetime</th>\n",
       "      <th>monthyear</th>\n",
       "      <th>date_of_birth</th>\n",
       "      <th>outcome_type</th>\n",
       "      <th>animal_type</th>\n",
       "      <th>sex_upon_outcome</th>\n",
       "      <th>age_upon_outcome</th>\n",
       "      <th>breed</th>\n",
       "      <th>color</th>\n",
       "      <th>outcome_subtype</th>\n",
       "      <th>new_age1</th>\n",
       "      <th>new_sex1</th>\n",
       "      <th>outcome_subtype_missing</th>\n",
       "    </tr>\n",
       "  </thead>\n",
       "  <tbody>\n",
       "    <tr>\n",
       "      <th>0</th>\n",
       "      <td>A854476</td>\n",
       "      <td>*Lily</td>\n",
       "      <td>2022-04-11 12:38:00</td>\n",
       "      <td>2022-04-11T12:38:00.000</td>\n",
       "      <td>2021-04-04T00:00:00.000</td>\n",
       "      <td>Adoption</td>\n",
       "      <td>Dog</td>\n",
       "      <td>Spayed Female</td>\n",
       "      <td>1 year</td>\n",
       "      <td>Doberman Pinsch</td>\n",
       "      <td>Black/Brown</td>\n",
       "      <td>Partner</td>\n",
       "      <td>1 years</td>\n",
       "      <td>Female</td>\n",
       "      <td>True</td>\n",
       "    </tr>\n",
       "    <tr>\n",
       "      <th>1</th>\n",
       "      <td>A854045</td>\n",
       "      <td>*Moon</td>\n",
       "      <td>2022-04-11 11:54:00</td>\n",
       "      <td>2022-04-11T11:54:00.000</td>\n",
       "      <td>2021-03-29T00:00:00.000</td>\n",
       "      <td>Adoption</td>\n",
       "      <td>Dog</td>\n",
       "      <td>Spayed Female</td>\n",
       "      <td>1 year</td>\n",
       "      <td>Rottweiler/Siberian Husky</td>\n",
       "      <td>Black/Brown</td>\n",
       "      <td>Partner</td>\n",
       "      <td>1 years</td>\n",
       "      <td>Female</td>\n",
       "      <td>True</td>\n",
       "    </tr>\n",
       "    <tr>\n",
       "      <th>2</th>\n",
       "      <td>A854309</td>\n",
       "      <td>*Xena</td>\n",
       "      <td>2022-04-11 11:46:00</td>\n",
       "      <td>2022-04-11T11:46:00.000</td>\n",
       "      <td>2021-08-01T00:00:00.000</td>\n",
       "      <td>Adoption</td>\n",
       "      <td>Dog</td>\n",
       "      <td>Spayed Female</td>\n",
       "      <td>8 months</td>\n",
       "      <td>Pit Bull Mix</td>\n",
       "      <td>Gray/White</td>\n",
       "      <td>Partner</td>\n",
       "      <td>8 months</td>\n",
       "      <td>Female</td>\n",
       "      <td>True</td>\n",
       "    </tr>\n",
       "    <tr>\n",
       "      <th>3</th>\n",
       "      <td>A854810</td>\n",
       "      <td>Ligaya</td>\n",
       "      <td>2022-04-11 11:16:00</td>\n",
       "      <td>2022-04-11T11:16:00.000</td>\n",
       "      <td>2008-04-09T00:00:00.000</td>\n",
       "      <td>Return to Owner</td>\n",
       "      <td>Dog</td>\n",
       "      <td>Spayed Female</td>\n",
       "      <td>14 years</td>\n",
       "      <td>Pit Bull</td>\n",
       "      <td>Red/White</td>\n",
       "      <td>Partner</td>\n",
       "      <td>14 years</td>\n",
       "      <td>Female</td>\n",
       "      <td>True</td>\n",
       "    </tr>\n",
       "    <tr>\n",
       "      <th>4</th>\n",
       "      <td>A854664</td>\n",
       "      <td>A854664</td>\n",
       "      <td>2022-04-11 10:59:00</td>\n",
       "      <td>2022-04-11T10:59:00.000</td>\n",
       "      <td>2021-10-07T00:00:00.000</td>\n",
       "      <td>Transfer</td>\n",
       "      <td>Dog</td>\n",
       "      <td>Intact Male</td>\n",
       "      <td>6 months</td>\n",
       "      <td>Maltese Mix</td>\n",
       "      <td>Black Smoke</td>\n",
       "      <td>Partner</td>\n",
       "      <td>6 months</td>\n",
       "      <td>Male</td>\n",
       "      <td>False</td>\n",
       "    </tr>\n",
       "  </tbody>\n",
       "</table>\n",
       "</div>"
      ],
      "text/plain": [
       "  animal_id     name            datetime                monthyear  \\\n",
       "0   A854476    *Lily 2022-04-11 12:38:00  2022-04-11T12:38:00.000   \n",
       "1   A854045    *Moon 2022-04-11 11:54:00  2022-04-11T11:54:00.000   \n",
       "2   A854309    *Xena 2022-04-11 11:46:00  2022-04-11T11:46:00.000   \n",
       "3   A854810   Ligaya 2022-04-11 11:16:00  2022-04-11T11:16:00.000   \n",
       "4   A854664  A854664 2022-04-11 10:59:00  2022-04-11T10:59:00.000   \n",
       "\n",
       "             date_of_birth     outcome_type animal_type sex_upon_outcome  \\\n",
       "0  2021-04-04T00:00:00.000         Adoption         Dog    Spayed Female   \n",
       "1  2021-03-29T00:00:00.000         Adoption         Dog    Spayed Female   \n",
       "2  2021-08-01T00:00:00.000         Adoption         Dog    Spayed Female   \n",
       "3  2008-04-09T00:00:00.000  Return to Owner         Dog    Spayed Female   \n",
       "4  2021-10-07T00:00:00.000         Transfer         Dog      Intact Male   \n",
       "\n",
       "  age_upon_outcome                      breed        color outcome_subtype  \\\n",
       "0           1 year            Doberman Pinsch  Black/Brown         Partner   \n",
       "1           1 year  Rottweiler/Siberian Husky  Black/Brown         Partner   \n",
       "2         8 months               Pit Bull Mix   Gray/White         Partner   \n",
       "3         14 years                   Pit Bull    Red/White         Partner   \n",
       "4         6 months                Maltese Mix  Black Smoke         Partner   \n",
       "\n",
       "   new_age1 new_sex1  outcome_subtype_missing  \n",
       "0   1 years   Female                     True  \n",
       "1   1 years   Female                     True  \n",
       "2  8 months   Female                     True  \n",
       "3  14 years   Female                     True  \n",
       "4  6 months     Male                    False  "
      ]
     },
     "execution_count": 61,
     "metadata": {},
     "output_type": "execute_result"
    }
   ],
   "source": [
    "# This will drop any row (axis=0) or column (axis=1) that has missing values\n",
    "animals_clean = animals_clean.dropna(   # Note we're overwriting animals_clean\n",
    "                                axis=0, # This is the default & will drop rows; axis=1 for cols\n",
    "                                subset=['outcome_type'] # Specific labels to consider (defaults to all)\n",
    ")\n",
    "animals_clean.head()"
   ]
  },
  {
   "cell_type": "code",
   "execution_count": 62,
   "metadata": {},
   "outputs": [
    {
     "data": {
      "text/plain": [
       "(1000, 15)"
      ]
     },
     "execution_count": 62,
     "metadata": {},
     "output_type": "execute_result"
    }
   ],
   "source": [
    "animals_clean.shape"
   ]
  },
  {
   "cell_type": "markdown",
   "metadata": {
    "heading_collapsed": true,
    "hidden": true
   },
   "source": [
    "## Comparing Before and After"
   ]
  },
  {
   "cell_type": "markdown",
   "metadata": {
    "hidden": true
   },
   "source": [
    "We can now see all the work we did!"
   ]
  },
  {
   "cell_type": "code",
   "execution_count": 63,
   "metadata": {
    "hidden": true
   },
   "outputs": [
    {
     "name": "stdout",
     "output_type": "stream",
     "text": [
      "<class 'pandas.core.frame.DataFrame'>\n",
      "RangeIndex: 1000 entries, 0 to 999\n",
      "Data columns (total 14 columns):\n",
      " #   Column            Non-Null Count  Dtype         \n",
      "---  ------            --------------  -----         \n",
      " 0   animal_id         1000 non-null   object        \n",
      " 1   name              827 non-null    object        \n",
      " 2   datetime          1000 non-null   datetime64[ns]\n",
      " 3   monthyear         1000 non-null   object        \n",
      " 4   date_of_birth     1000 non-null   object        \n",
      " 5   outcome_type      1000 non-null   object        \n",
      " 6   animal_type       921 non-null    object        \n",
      " 7   sex_upon_outcome  1000 non-null   object        \n",
      " 8   age_upon_outcome  1000 non-null   object        \n",
      " 9   breed             1000 non-null   object        \n",
      " 10  color             1000 non-null   object        \n",
      " 11  outcome_subtype   486 non-null    object        \n",
      " 12  new_age1          1000 non-null   object        \n",
      " 13  new_sex1          1000 non-null   object        \n",
      "dtypes: datetime64[ns](1), object(13)\n",
      "memory usage: 109.5+ KB\n"
     ]
    }
   ],
   "source": [
    "# Original data\n",
    "animals.info()"
   ]
  },
  {
   "cell_type": "code",
   "execution_count": 64,
   "metadata": {
    "hidden": true
   },
   "outputs": [
    {
     "name": "stdout",
     "output_type": "stream",
     "text": [
      "<class 'pandas.core.frame.DataFrame'>\n",
      "Int64Index: 1000 entries, 0 to 999\n",
      "Data columns (total 15 columns):\n",
      " #   Column                   Non-Null Count  Dtype         \n",
      "---  ------                   --------------  -----         \n",
      " 0   animal_id                1000 non-null   object        \n",
      " 1   name                     1000 non-null   object        \n",
      " 2   datetime                 1000 non-null   datetime64[ns]\n",
      " 3   monthyear                1000 non-null   object        \n",
      " 4   date_of_birth            1000 non-null   object        \n",
      " 5   outcome_type             1000 non-null   object        \n",
      " 6   animal_type              921 non-null    object        \n",
      " 7   sex_upon_outcome         1000 non-null   object        \n",
      " 8   age_upon_outcome         1000 non-null   object        \n",
      " 9   breed                    1000 non-null   object        \n",
      " 10  color                    1000 non-null   object        \n",
      " 11  outcome_subtype          1000 non-null   object        \n",
      " 12  new_age1                 1000 non-null   object        \n",
      " 13  new_sex1                 1000 non-null   object        \n",
      " 14  outcome_subtype_missing  1000 non-null   bool          \n",
      "dtypes: bool(1), datetime64[ns](1), object(13)\n",
      "memory usage: 118.2+ KB\n"
     ]
    }
   ],
   "source": [
    "# Missing data cleaned\n",
    "animals_clean.info()"
   ]
  },
  {
   "cell_type": "code",
   "execution_count": 65,
   "metadata": {},
   "outputs": [
    {
     "data": {
      "text/html": [
       "<div>\n",
       "<style scoped>\n",
       "    .dataframe tbody tr th:only-of-type {\n",
       "        vertical-align: middle;\n",
       "    }\n",
       "\n",
       "    .dataframe tbody tr th {\n",
       "        vertical-align: top;\n",
       "    }\n",
       "\n",
       "    .dataframe thead th {\n",
       "        text-align: right;\n",
       "    }\n",
       "</style>\n",
       "<table border=\"1\" class=\"dataframe\">\n",
       "  <thead>\n",
       "    <tr style=\"text-align: right;\">\n",
       "      <th></th>\n",
       "      <th>index</th>\n",
       "      <th>animal_id</th>\n",
       "      <th>name</th>\n",
       "      <th>datetime</th>\n",
       "      <th>monthyear</th>\n",
       "      <th>date_of_birth</th>\n",
       "      <th>outcome_type</th>\n",
       "      <th>animal_type</th>\n",
       "      <th>sex_upon_outcome</th>\n",
       "      <th>age_upon_outcome</th>\n",
       "      <th>breed</th>\n",
       "      <th>color</th>\n",
       "      <th>outcome_subtype</th>\n",
       "      <th>new_age1</th>\n",
       "      <th>new_sex1</th>\n",
       "      <th>outcome_subtype_missing</th>\n",
       "    </tr>\n",
       "  </thead>\n",
       "  <tbody>\n",
       "    <tr>\n",
       "      <th>0</th>\n",
       "      <td>0</td>\n",
       "      <td>A854476</td>\n",
       "      <td>*Lily</td>\n",
       "      <td>2022-04-11 12:38:00</td>\n",
       "      <td>2022-04-11T12:38:00.000</td>\n",
       "      <td>2021-04-04T00:00:00.000</td>\n",
       "      <td>Adoption</td>\n",
       "      <td>Dog</td>\n",
       "      <td>Spayed Female</td>\n",
       "      <td>1 year</td>\n",
       "      <td>Doberman Pinsch</td>\n",
       "      <td>Black/Brown</td>\n",
       "      <td>Partner</td>\n",
       "      <td>1 years</td>\n",
       "      <td>Female</td>\n",
       "      <td>True</td>\n",
       "    </tr>\n",
       "    <tr>\n",
       "      <th>1</th>\n",
       "      <td>1</td>\n",
       "      <td>A854045</td>\n",
       "      <td>*Moon</td>\n",
       "      <td>2022-04-11 11:54:00</td>\n",
       "      <td>2022-04-11T11:54:00.000</td>\n",
       "      <td>2021-03-29T00:00:00.000</td>\n",
       "      <td>Adoption</td>\n",
       "      <td>Dog</td>\n",
       "      <td>Spayed Female</td>\n",
       "      <td>1 year</td>\n",
       "      <td>Rottweiler/Siberian Husky</td>\n",
       "      <td>Black/Brown</td>\n",
       "      <td>Partner</td>\n",
       "      <td>1 years</td>\n",
       "      <td>Female</td>\n",
       "      <td>True</td>\n",
       "    </tr>\n",
       "    <tr>\n",
       "      <th>2</th>\n",
       "      <td>2</td>\n",
       "      <td>A854309</td>\n",
       "      <td>*Xena</td>\n",
       "      <td>2022-04-11 11:46:00</td>\n",
       "      <td>2022-04-11T11:46:00.000</td>\n",
       "      <td>2021-08-01T00:00:00.000</td>\n",
       "      <td>Adoption</td>\n",
       "      <td>Dog</td>\n",
       "      <td>Spayed Female</td>\n",
       "      <td>8 months</td>\n",
       "      <td>Pit Bull Mix</td>\n",
       "      <td>Gray/White</td>\n",
       "      <td>Partner</td>\n",
       "      <td>8 months</td>\n",
       "      <td>Female</td>\n",
       "      <td>True</td>\n",
       "    </tr>\n",
       "    <tr>\n",
       "      <th>3</th>\n",
       "      <td>3</td>\n",
       "      <td>A854810</td>\n",
       "      <td>Ligaya</td>\n",
       "      <td>2022-04-11 11:16:00</td>\n",
       "      <td>2022-04-11T11:16:00.000</td>\n",
       "      <td>2008-04-09T00:00:00.000</td>\n",
       "      <td>Return to Owner</td>\n",
       "      <td>Dog</td>\n",
       "      <td>Spayed Female</td>\n",
       "      <td>14 years</td>\n",
       "      <td>Pit Bull</td>\n",
       "      <td>Red/White</td>\n",
       "      <td>Partner</td>\n",
       "      <td>14 years</td>\n",
       "      <td>Female</td>\n",
       "      <td>True</td>\n",
       "    </tr>\n",
       "    <tr>\n",
       "      <th>4</th>\n",
       "      <td>4</td>\n",
       "      <td>A854664</td>\n",
       "      <td>A854664</td>\n",
       "      <td>2022-04-11 10:59:00</td>\n",
       "      <td>2022-04-11T10:59:00.000</td>\n",
       "      <td>2021-10-07T00:00:00.000</td>\n",
       "      <td>Transfer</td>\n",
       "      <td>Dog</td>\n",
       "      <td>Intact Male</td>\n",
       "      <td>6 months</td>\n",
       "      <td>Maltese Mix</td>\n",
       "      <td>Black Smoke</td>\n",
       "      <td>Partner</td>\n",
       "      <td>6 months</td>\n",
       "      <td>Male</td>\n",
       "      <td>False</td>\n",
       "    </tr>\n",
       "    <tr>\n",
       "      <th>...</th>\n",
       "      <td>...</td>\n",
       "      <td>...</td>\n",
       "      <td>...</td>\n",
       "      <td>...</td>\n",
       "      <td>...</td>\n",
       "      <td>...</td>\n",
       "      <td>...</td>\n",
       "      <td>...</td>\n",
       "      <td>...</td>\n",
       "      <td>...</td>\n",
       "      <td>...</td>\n",
       "      <td>...</td>\n",
       "      <td>...</td>\n",
       "      <td>...</td>\n",
       "      <td>...</td>\n",
       "      <td>...</td>\n",
       "    </tr>\n",
       "    <tr>\n",
       "      <th>995</th>\n",
       "      <td>995</td>\n",
       "      <td>A852490</td>\n",
       "      <td>A852490</td>\n",
       "      <td>2022-03-07 17:02:00</td>\n",
       "      <td>2022-03-07T17:02:00.000</td>\n",
       "      <td>2022-01-03T00:00:00.000</td>\n",
       "      <td>Adoption</td>\n",
       "      <td>Dog</td>\n",
       "      <td>Spayed Female</td>\n",
       "      <td>2 months</td>\n",
       "      <td>Cardigan Welsh Corgi Mix</td>\n",
       "      <td>Black/Tan</td>\n",
       "      <td>Partner</td>\n",
       "      <td>2 months</td>\n",
       "      <td>Female</td>\n",
       "      <td>True</td>\n",
       "    </tr>\n",
       "    <tr>\n",
       "      <th>996</th>\n",
       "      <td>996</td>\n",
       "      <td>A851553</td>\n",
       "      <td>*Tommy Bahama</td>\n",
       "      <td>2022-03-07 16:51:00</td>\n",
       "      <td>2022-03-07T16:51:00.000</td>\n",
       "      <td>2020-02-14T00:00:00.000</td>\n",
       "      <td>Died</td>\n",
       "      <td>Dog</td>\n",
       "      <td>Neutered Male</td>\n",
       "      <td>2 years</td>\n",
       "      <td>Chinese Sharpei Mix</td>\n",
       "      <td>Red</td>\n",
       "      <td>In Kennel</td>\n",
       "      <td>2 years</td>\n",
       "      <td>Male</td>\n",
       "      <td>False</td>\n",
       "    </tr>\n",
       "    <tr>\n",
       "      <th>997</th>\n",
       "      <td>997</td>\n",
       "      <td>A852541</td>\n",
       "      <td>Bella</td>\n",
       "      <td>2022-03-07 16:49:00</td>\n",
       "      <td>2022-03-07T16:49:00.000</td>\n",
       "      <td>2022-01-04T00:00:00.000</td>\n",
       "      <td>Return to Owner</td>\n",
       "      <td>Dog</td>\n",
       "      <td>Intact Female</td>\n",
       "      <td>2 months</td>\n",
       "      <td>Labrador Retriever Mix</td>\n",
       "      <td>Black/White</td>\n",
       "      <td>Partner</td>\n",
       "      <td>2 months</td>\n",
       "      <td>Female</td>\n",
       "      <td>True</td>\n",
       "    </tr>\n",
       "    <tr>\n",
       "      <th>998</th>\n",
       "      <td>998</td>\n",
       "      <td>A852384</td>\n",
       "      <td>*Potato</td>\n",
       "      <td>2022-03-07 16:47:00</td>\n",
       "      <td>2022-03-07T16:47:00.000</td>\n",
       "      <td>2021-04-06T00:00:00.000</td>\n",
       "      <td>Adoption</td>\n",
       "      <td>Cat</td>\n",
       "      <td>Neutered Male</td>\n",
       "      <td>11 months</td>\n",
       "      <td>Domestic Shorthair</td>\n",
       "      <td>Brown Tabby</td>\n",
       "      <td>Partner</td>\n",
       "      <td>11 months</td>\n",
       "      <td>Male</td>\n",
       "      <td>True</td>\n",
       "    </tr>\n",
       "    <tr>\n",
       "      <th>999</th>\n",
       "      <td>999</td>\n",
       "      <td>A852399</td>\n",
       "      <td>*Maverick</td>\n",
       "      <td>2022-03-07 16:21:00</td>\n",
       "      <td>2022-03-07T16:21:00.000</td>\n",
       "      <td>2018-03-02T00:00:00.000</td>\n",
       "      <td>Adoption</td>\n",
       "      <td>Cat</td>\n",
       "      <td>Neutered Male</td>\n",
       "      <td>4 years</td>\n",
       "      <td>Domestic Shorthair</td>\n",
       "      <td>Black/White</td>\n",
       "      <td>Partner</td>\n",
       "      <td>4 years</td>\n",
       "      <td>Male</td>\n",
       "      <td>True</td>\n",
       "    </tr>\n",
       "  </tbody>\n",
       "</table>\n",
       "<p>1000 rows × 16 columns</p>\n",
       "</div>"
      ],
      "text/plain": [
       "     index animal_id           name            datetime  \\\n",
       "0        0   A854476          *Lily 2022-04-11 12:38:00   \n",
       "1        1   A854045          *Moon 2022-04-11 11:54:00   \n",
       "2        2   A854309          *Xena 2022-04-11 11:46:00   \n",
       "3        3   A854810         Ligaya 2022-04-11 11:16:00   \n",
       "4        4   A854664        A854664 2022-04-11 10:59:00   \n",
       "..     ...       ...            ...                 ...   \n",
       "995    995   A852490        A852490 2022-03-07 17:02:00   \n",
       "996    996   A851553  *Tommy Bahama 2022-03-07 16:51:00   \n",
       "997    997   A852541          Bella 2022-03-07 16:49:00   \n",
       "998    998   A852384        *Potato 2022-03-07 16:47:00   \n",
       "999    999   A852399      *Maverick 2022-03-07 16:21:00   \n",
       "\n",
       "                   monthyear            date_of_birth     outcome_type  \\\n",
       "0    2022-04-11T12:38:00.000  2021-04-04T00:00:00.000         Adoption   \n",
       "1    2022-04-11T11:54:00.000  2021-03-29T00:00:00.000         Adoption   \n",
       "2    2022-04-11T11:46:00.000  2021-08-01T00:00:00.000         Adoption   \n",
       "3    2022-04-11T11:16:00.000  2008-04-09T00:00:00.000  Return to Owner   \n",
       "4    2022-04-11T10:59:00.000  2021-10-07T00:00:00.000         Transfer   \n",
       "..                       ...                      ...              ...   \n",
       "995  2022-03-07T17:02:00.000  2022-01-03T00:00:00.000         Adoption   \n",
       "996  2022-03-07T16:51:00.000  2020-02-14T00:00:00.000             Died   \n",
       "997  2022-03-07T16:49:00.000  2022-01-04T00:00:00.000  Return to Owner   \n",
       "998  2022-03-07T16:47:00.000  2021-04-06T00:00:00.000         Adoption   \n",
       "999  2022-03-07T16:21:00.000  2018-03-02T00:00:00.000         Adoption   \n",
       "\n",
       "    animal_type sex_upon_outcome age_upon_outcome                      breed  \\\n",
       "0           Dog    Spayed Female           1 year            Doberman Pinsch   \n",
       "1           Dog    Spayed Female           1 year  Rottweiler/Siberian Husky   \n",
       "2           Dog    Spayed Female         8 months               Pit Bull Mix   \n",
       "3           Dog    Spayed Female         14 years                   Pit Bull   \n",
       "4           Dog      Intact Male         6 months                Maltese Mix   \n",
       "..          ...              ...              ...                        ...   \n",
       "995         Dog    Spayed Female         2 months   Cardigan Welsh Corgi Mix   \n",
       "996         Dog    Neutered Male          2 years        Chinese Sharpei Mix   \n",
       "997         Dog    Intact Female         2 months     Labrador Retriever Mix   \n",
       "998         Cat    Neutered Male        11 months         Domestic Shorthair   \n",
       "999         Cat    Neutered Male          4 years         Domestic Shorthair   \n",
       "\n",
       "           color outcome_subtype   new_age1 new_sex1  outcome_subtype_missing  \n",
       "0    Black/Brown         Partner    1 years   Female                     True  \n",
       "1    Black/Brown         Partner    1 years   Female                     True  \n",
       "2     Gray/White         Partner   8 months   Female                     True  \n",
       "3      Red/White         Partner   14 years   Female                     True  \n",
       "4    Black Smoke         Partner   6 months     Male                    False  \n",
       "..           ...             ...        ...      ...                      ...  \n",
       "995    Black/Tan         Partner   2 months   Female                     True  \n",
       "996          Red       In Kennel    2 years     Male                    False  \n",
       "997  Black/White         Partner   2 months   Female                     True  \n",
       "998  Brown Tabby         Partner  11 months     Male                     True  \n",
       "999  Black/White         Partner    4 years     Male                     True  \n",
       "\n",
       "[1000 rows x 16 columns]"
      ]
     },
     "execution_count": 65,
     "metadata": {},
     "output_type": "execute_result"
    }
   ],
   "source": [
    "# the reset_index() method here allows us to verify that there were no rows dropped\n",
    "# it adds another index to the df. If rows were dropped the original and added indices\n",
    "# wouldn't match.\n",
    "animals_clean.reset_index()"
   ]
  },
  {
   "cell_type": "markdown",
   "metadata": {
    "heading_collapsed": true
   },
   "source": [
    "# Level Up: `.applymap()`"
   ]
  },
  {
   "cell_type": "markdown",
   "metadata": {
    "hidden": true
   },
   "source": [
    "`.applymap()` is used to apply a transformation to each element of a DataFrame."
   ]
  },
  {
   "cell_type": "code",
   "execution_count": 66,
   "metadata": {
    "hidden": true,
    "scrolled": true
   },
   "outputs": [
    {
     "data": {
      "text/html": [
       "<div>\n",
       "<style scoped>\n",
       "    .dataframe tbody tr th:only-of-type {\n",
       "        vertical-align: middle;\n",
       "    }\n",
       "\n",
       "    .dataframe tbody tr th {\n",
       "        vertical-align: top;\n",
       "    }\n",
       "\n",
       "    .dataframe thead th {\n",
       "        text-align: right;\n",
       "    }\n",
       "</style>\n",
       "<table border=\"1\" class=\"dataframe\">\n",
       "  <thead>\n",
       "    <tr style=\"text-align: right;\">\n",
       "      <th></th>\n",
       "      <th>animal_id</th>\n",
       "      <th>name</th>\n",
       "      <th>datetime</th>\n",
       "      <th>monthyear</th>\n",
       "      <th>date_of_birth</th>\n",
       "      <th>outcome_type</th>\n",
       "      <th>animal_type</th>\n",
       "      <th>sex_upon_outcome</th>\n",
       "      <th>age_upon_outcome</th>\n",
       "      <th>breed</th>\n",
       "      <th>color</th>\n",
       "      <th>outcome_subtype</th>\n",
       "      <th>new_age1</th>\n",
       "      <th>new_sex1</th>\n",
       "    </tr>\n",
       "  </thead>\n",
       "  <tbody>\n",
       "    <tr>\n",
       "      <th>0</th>\n",
       "      <td>&lt;class 'str'&gt;</td>\n",
       "      <td>&lt;class 'str'&gt;</td>\n",
       "      <td>&lt;class 'pandas._libs.tslibs.timestamps.Timesta...</td>\n",
       "      <td>&lt;class 'str'&gt;</td>\n",
       "      <td>&lt;class 'str'&gt;</td>\n",
       "      <td>&lt;class 'str'&gt;</td>\n",
       "      <td>&lt;class 'str'&gt;</td>\n",
       "      <td>&lt;class 'str'&gt;</td>\n",
       "      <td>&lt;class 'str'&gt;</td>\n",
       "      <td>&lt;class 'str'&gt;</td>\n",
       "      <td>&lt;class 'str'&gt;</td>\n",
       "      <td>&lt;class 'float'&gt;</td>\n",
       "      <td>&lt;class 'str'&gt;</td>\n",
       "      <td>&lt;class 'str'&gt;</td>\n",
       "    </tr>\n",
       "    <tr>\n",
       "      <th>1</th>\n",
       "      <td>&lt;class 'str'&gt;</td>\n",
       "      <td>&lt;class 'str'&gt;</td>\n",
       "      <td>&lt;class 'pandas._libs.tslibs.timestamps.Timesta...</td>\n",
       "      <td>&lt;class 'str'&gt;</td>\n",
       "      <td>&lt;class 'str'&gt;</td>\n",
       "      <td>&lt;class 'str'&gt;</td>\n",
       "      <td>&lt;class 'str'&gt;</td>\n",
       "      <td>&lt;class 'str'&gt;</td>\n",
       "      <td>&lt;class 'str'&gt;</td>\n",
       "      <td>&lt;class 'str'&gt;</td>\n",
       "      <td>&lt;class 'str'&gt;</td>\n",
       "      <td>&lt;class 'float'&gt;</td>\n",
       "      <td>&lt;class 'str'&gt;</td>\n",
       "      <td>&lt;class 'str'&gt;</td>\n",
       "    </tr>\n",
       "    <tr>\n",
       "      <th>2</th>\n",
       "      <td>&lt;class 'str'&gt;</td>\n",
       "      <td>&lt;class 'str'&gt;</td>\n",
       "      <td>&lt;class 'pandas._libs.tslibs.timestamps.Timesta...</td>\n",
       "      <td>&lt;class 'str'&gt;</td>\n",
       "      <td>&lt;class 'str'&gt;</td>\n",
       "      <td>&lt;class 'str'&gt;</td>\n",
       "      <td>&lt;class 'str'&gt;</td>\n",
       "      <td>&lt;class 'str'&gt;</td>\n",
       "      <td>&lt;class 'str'&gt;</td>\n",
       "      <td>&lt;class 'str'&gt;</td>\n",
       "      <td>&lt;class 'str'&gt;</td>\n",
       "      <td>&lt;class 'float'&gt;</td>\n",
       "      <td>&lt;class 'str'&gt;</td>\n",
       "      <td>&lt;class 'str'&gt;</td>\n",
       "    </tr>\n",
       "    <tr>\n",
       "      <th>3</th>\n",
       "      <td>&lt;class 'str'&gt;</td>\n",
       "      <td>&lt;class 'str'&gt;</td>\n",
       "      <td>&lt;class 'pandas._libs.tslibs.timestamps.Timesta...</td>\n",
       "      <td>&lt;class 'str'&gt;</td>\n",
       "      <td>&lt;class 'str'&gt;</td>\n",
       "      <td>&lt;class 'str'&gt;</td>\n",
       "      <td>&lt;class 'str'&gt;</td>\n",
       "      <td>&lt;class 'str'&gt;</td>\n",
       "      <td>&lt;class 'str'&gt;</td>\n",
       "      <td>&lt;class 'str'&gt;</td>\n",
       "      <td>&lt;class 'str'&gt;</td>\n",
       "      <td>&lt;class 'float'&gt;</td>\n",
       "      <td>&lt;class 'str'&gt;</td>\n",
       "      <td>&lt;class 'str'&gt;</td>\n",
       "    </tr>\n",
       "    <tr>\n",
       "      <th>4</th>\n",
       "      <td>&lt;class 'str'&gt;</td>\n",
       "      <td>&lt;class 'str'&gt;</td>\n",
       "      <td>&lt;class 'pandas._libs.tslibs.timestamps.Timesta...</td>\n",
       "      <td>&lt;class 'str'&gt;</td>\n",
       "      <td>&lt;class 'str'&gt;</td>\n",
       "      <td>&lt;class 'str'&gt;</td>\n",
       "      <td>&lt;class 'str'&gt;</td>\n",
       "      <td>&lt;class 'str'&gt;</td>\n",
       "      <td>&lt;class 'str'&gt;</td>\n",
       "      <td>&lt;class 'str'&gt;</td>\n",
       "      <td>&lt;class 'str'&gt;</td>\n",
       "      <td>&lt;class 'str'&gt;</td>\n",
       "      <td>&lt;class 'str'&gt;</td>\n",
       "      <td>&lt;class 'str'&gt;</td>\n",
       "    </tr>\n",
       "    <tr>\n",
       "      <th>...</th>\n",
       "      <td>...</td>\n",
       "      <td>...</td>\n",
       "      <td>...</td>\n",
       "      <td>...</td>\n",
       "      <td>...</td>\n",
       "      <td>...</td>\n",
       "      <td>...</td>\n",
       "      <td>...</td>\n",
       "      <td>...</td>\n",
       "      <td>...</td>\n",
       "      <td>...</td>\n",
       "      <td>...</td>\n",
       "      <td>...</td>\n",
       "      <td>...</td>\n",
       "    </tr>\n",
       "    <tr>\n",
       "      <th>995</th>\n",
       "      <td>&lt;class 'str'&gt;</td>\n",
       "      <td>&lt;class 'str'&gt;</td>\n",
       "      <td>&lt;class 'pandas._libs.tslibs.timestamps.Timesta...</td>\n",
       "      <td>&lt;class 'str'&gt;</td>\n",
       "      <td>&lt;class 'str'&gt;</td>\n",
       "      <td>&lt;class 'str'&gt;</td>\n",
       "      <td>&lt;class 'str'&gt;</td>\n",
       "      <td>&lt;class 'str'&gt;</td>\n",
       "      <td>&lt;class 'str'&gt;</td>\n",
       "      <td>&lt;class 'str'&gt;</td>\n",
       "      <td>&lt;class 'str'&gt;</td>\n",
       "      <td>&lt;class 'float'&gt;</td>\n",
       "      <td>&lt;class 'str'&gt;</td>\n",
       "      <td>&lt;class 'str'&gt;</td>\n",
       "    </tr>\n",
       "    <tr>\n",
       "      <th>996</th>\n",
       "      <td>&lt;class 'str'&gt;</td>\n",
       "      <td>&lt;class 'str'&gt;</td>\n",
       "      <td>&lt;class 'pandas._libs.tslibs.timestamps.Timesta...</td>\n",
       "      <td>&lt;class 'str'&gt;</td>\n",
       "      <td>&lt;class 'str'&gt;</td>\n",
       "      <td>&lt;class 'str'&gt;</td>\n",
       "      <td>&lt;class 'str'&gt;</td>\n",
       "      <td>&lt;class 'str'&gt;</td>\n",
       "      <td>&lt;class 'str'&gt;</td>\n",
       "      <td>&lt;class 'str'&gt;</td>\n",
       "      <td>&lt;class 'str'&gt;</td>\n",
       "      <td>&lt;class 'str'&gt;</td>\n",
       "      <td>&lt;class 'str'&gt;</td>\n",
       "      <td>&lt;class 'str'&gt;</td>\n",
       "    </tr>\n",
       "    <tr>\n",
       "      <th>997</th>\n",
       "      <td>&lt;class 'str'&gt;</td>\n",
       "      <td>&lt;class 'str'&gt;</td>\n",
       "      <td>&lt;class 'pandas._libs.tslibs.timestamps.Timesta...</td>\n",
       "      <td>&lt;class 'str'&gt;</td>\n",
       "      <td>&lt;class 'str'&gt;</td>\n",
       "      <td>&lt;class 'str'&gt;</td>\n",
       "      <td>&lt;class 'str'&gt;</td>\n",
       "      <td>&lt;class 'str'&gt;</td>\n",
       "      <td>&lt;class 'str'&gt;</td>\n",
       "      <td>&lt;class 'str'&gt;</td>\n",
       "      <td>&lt;class 'str'&gt;</td>\n",
       "      <td>&lt;class 'float'&gt;</td>\n",
       "      <td>&lt;class 'str'&gt;</td>\n",
       "      <td>&lt;class 'str'&gt;</td>\n",
       "    </tr>\n",
       "    <tr>\n",
       "      <th>998</th>\n",
       "      <td>&lt;class 'str'&gt;</td>\n",
       "      <td>&lt;class 'str'&gt;</td>\n",
       "      <td>&lt;class 'pandas._libs.tslibs.timestamps.Timesta...</td>\n",
       "      <td>&lt;class 'str'&gt;</td>\n",
       "      <td>&lt;class 'str'&gt;</td>\n",
       "      <td>&lt;class 'str'&gt;</td>\n",
       "      <td>&lt;class 'str'&gt;</td>\n",
       "      <td>&lt;class 'str'&gt;</td>\n",
       "      <td>&lt;class 'str'&gt;</td>\n",
       "      <td>&lt;class 'str'&gt;</td>\n",
       "      <td>&lt;class 'str'&gt;</td>\n",
       "      <td>&lt;class 'float'&gt;</td>\n",
       "      <td>&lt;class 'str'&gt;</td>\n",
       "      <td>&lt;class 'str'&gt;</td>\n",
       "    </tr>\n",
       "    <tr>\n",
       "      <th>999</th>\n",
       "      <td>&lt;class 'str'&gt;</td>\n",
       "      <td>&lt;class 'str'&gt;</td>\n",
       "      <td>&lt;class 'pandas._libs.tslibs.timestamps.Timesta...</td>\n",
       "      <td>&lt;class 'str'&gt;</td>\n",
       "      <td>&lt;class 'str'&gt;</td>\n",
       "      <td>&lt;class 'str'&gt;</td>\n",
       "      <td>&lt;class 'str'&gt;</td>\n",
       "      <td>&lt;class 'str'&gt;</td>\n",
       "      <td>&lt;class 'str'&gt;</td>\n",
       "      <td>&lt;class 'str'&gt;</td>\n",
       "      <td>&lt;class 'str'&gt;</td>\n",
       "      <td>&lt;class 'float'&gt;</td>\n",
       "      <td>&lt;class 'str'&gt;</td>\n",
       "      <td>&lt;class 'str'&gt;</td>\n",
       "    </tr>\n",
       "  </tbody>\n",
       "</table>\n",
       "<p>1000 rows × 14 columns</p>\n",
       "</div>"
      ],
      "text/plain": [
       "         animal_id           name  \\\n",
       "0    <class 'str'>  <class 'str'>   \n",
       "1    <class 'str'>  <class 'str'>   \n",
       "2    <class 'str'>  <class 'str'>   \n",
       "3    <class 'str'>  <class 'str'>   \n",
       "4    <class 'str'>  <class 'str'>   \n",
       "..             ...            ...   \n",
       "995  <class 'str'>  <class 'str'>   \n",
       "996  <class 'str'>  <class 'str'>   \n",
       "997  <class 'str'>  <class 'str'>   \n",
       "998  <class 'str'>  <class 'str'>   \n",
       "999  <class 'str'>  <class 'str'>   \n",
       "\n",
       "                                              datetime      monthyear  \\\n",
       "0    <class 'pandas._libs.tslibs.timestamps.Timesta...  <class 'str'>   \n",
       "1    <class 'pandas._libs.tslibs.timestamps.Timesta...  <class 'str'>   \n",
       "2    <class 'pandas._libs.tslibs.timestamps.Timesta...  <class 'str'>   \n",
       "3    <class 'pandas._libs.tslibs.timestamps.Timesta...  <class 'str'>   \n",
       "4    <class 'pandas._libs.tslibs.timestamps.Timesta...  <class 'str'>   \n",
       "..                                                 ...            ...   \n",
       "995  <class 'pandas._libs.tslibs.timestamps.Timesta...  <class 'str'>   \n",
       "996  <class 'pandas._libs.tslibs.timestamps.Timesta...  <class 'str'>   \n",
       "997  <class 'pandas._libs.tslibs.timestamps.Timesta...  <class 'str'>   \n",
       "998  <class 'pandas._libs.tslibs.timestamps.Timesta...  <class 'str'>   \n",
       "999  <class 'pandas._libs.tslibs.timestamps.Timesta...  <class 'str'>   \n",
       "\n",
       "     date_of_birth   outcome_type    animal_type sex_upon_outcome  \\\n",
       "0    <class 'str'>  <class 'str'>  <class 'str'>    <class 'str'>   \n",
       "1    <class 'str'>  <class 'str'>  <class 'str'>    <class 'str'>   \n",
       "2    <class 'str'>  <class 'str'>  <class 'str'>    <class 'str'>   \n",
       "3    <class 'str'>  <class 'str'>  <class 'str'>    <class 'str'>   \n",
       "4    <class 'str'>  <class 'str'>  <class 'str'>    <class 'str'>   \n",
       "..             ...            ...            ...              ...   \n",
       "995  <class 'str'>  <class 'str'>  <class 'str'>    <class 'str'>   \n",
       "996  <class 'str'>  <class 'str'>  <class 'str'>    <class 'str'>   \n",
       "997  <class 'str'>  <class 'str'>  <class 'str'>    <class 'str'>   \n",
       "998  <class 'str'>  <class 'str'>  <class 'str'>    <class 'str'>   \n",
       "999  <class 'str'>  <class 'str'>  <class 'str'>    <class 'str'>   \n",
       "\n",
       "    age_upon_outcome          breed          color  outcome_subtype  \\\n",
       "0      <class 'str'>  <class 'str'>  <class 'str'>  <class 'float'>   \n",
       "1      <class 'str'>  <class 'str'>  <class 'str'>  <class 'float'>   \n",
       "2      <class 'str'>  <class 'str'>  <class 'str'>  <class 'float'>   \n",
       "3      <class 'str'>  <class 'str'>  <class 'str'>  <class 'float'>   \n",
       "4      <class 'str'>  <class 'str'>  <class 'str'>    <class 'str'>   \n",
       "..               ...            ...            ...              ...   \n",
       "995    <class 'str'>  <class 'str'>  <class 'str'>  <class 'float'>   \n",
       "996    <class 'str'>  <class 'str'>  <class 'str'>    <class 'str'>   \n",
       "997    <class 'str'>  <class 'str'>  <class 'str'>  <class 'float'>   \n",
       "998    <class 'str'>  <class 'str'>  <class 'str'>  <class 'float'>   \n",
       "999    <class 'str'>  <class 'str'>  <class 'str'>  <class 'float'>   \n",
       "\n",
       "          new_age1       new_sex1  \n",
       "0    <class 'str'>  <class 'str'>  \n",
       "1    <class 'str'>  <class 'str'>  \n",
       "2    <class 'str'>  <class 'str'>  \n",
       "3    <class 'str'>  <class 'str'>  \n",
       "4    <class 'str'>  <class 'str'>  \n",
       "..             ...            ...  \n",
       "995  <class 'str'>  <class 'str'>  \n",
       "996  <class 'str'>  <class 'str'>  \n",
       "997  <class 'str'>  <class 'str'>  \n",
       "998  <class 'str'>  <class 'str'>  \n",
       "999  <class 'str'>  <class 'str'>  \n",
       "\n",
       "[1000 rows x 14 columns]"
      ]
     },
     "execution_count": 66,
     "metadata": {},
     "output_type": "execute_result"
    }
   ],
   "source": [
    "# This line will apply the base `type()` function to \n",
    "# all entries of the DataFrame.\n",
    "\n",
    "animals.applymap(type)"
   ]
  },
  {
   "cell_type": "markdown",
   "metadata": {},
   "source": [
    "# Level Up: `pandas.Series.str`"
   ]
  },
  {
   "cell_type": "markdown",
   "metadata": {},
   "source": [
    "To access normal `str` methods for each of the values in a categorical column of a DataFrame, use the following construction:"
   ]
  },
  {
   "cell_type": "code",
   "execution_count": 67,
   "metadata": {},
   "outputs": [
    {
     "data": {
      "text/html": [
       "<div>\n",
       "<style scoped>\n",
       "    .dataframe tbody tr th:only-of-type {\n",
       "        vertical-align: middle;\n",
       "    }\n",
       "\n",
       "    .dataframe tbody tr th {\n",
       "        vertical-align: top;\n",
       "    }\n",
       "\n",
       "    .dataframe thead th {\n",
       "        text-align: right;\n",
       "    }\n",
       "</style>\n",
       "<table border=\"1\" class=\"dataframe\">\n",
       "  <thead>\n",
       "    <tr style=\"text-align: right;\">\n",
       "      <th></th>\n",
       "      <th>animal_id</th>\n",
       "      <th>name</th>\n",
       "      <th>datetime</th>\n",
       "      <th>monthyear</th>\n",
       "      <th>date_of_birth</th>\n",
       "      <th>outcome_type</th>\n",
       "      <th>animal_type</th>\n",
       "      <th>sex_upon_outcome</th>\n",
       "      <th>age_upon_outcome</th>\n",
       "      <th>breed</th>\n",
       "      <th>color</th>\n",
       "      <th>outcome_subtype</th>\n",
       "      <th>new_age1</th>\n",
       "      <th>new_sex1</th>\n",
       "    </tr>\n",
       "  </thead>\n",
       "  <tbody>\n",
       "    <tr>\n",
       "      <th>0</th>\n",
       "      <td>A854476</td>\n",
       "      <td>*Lily</td>\n",
       "      <td>2022-04-11 12:38:00</td>\n",
       "      <td>2022-04-11T12:38:00.000</td>\n",
       "      <td>2021-04-04T00:00:00.000</td>\n",
       "      <td>Adoption</td>\n",
       "      <td>Dog</td>\n",
       "      <td>Spayed Female</td>\n",
       "      <td>1 year</td>\n",
       "      <td>Doberman Pinsch</td>\n",
       "      <td>Black/Brown</td>\n",
       "      <td>NaN</td>\n",
       "      <td>1 years</td>\n",
       "      <td>Female</td>\n",
       "    </tr>\n",
       "    <tr>\n",
       "      <th>1</th>\n",
       "      <td>A854045</td>\n",
       "      <td>*Moon</td>\n",
       "      <td>2022-04-11 11:54:00</td>\n",
       "      <td>2022-04-11T11:54:00.000</td>\n",
       "      <td>2021-03-29T00:00:00.000</td>\n",
       "      <td>Adoption</td>\n",
       "      <td>Dog</td>\n",
       "      <td>Spayed Female</td>\n",
       "      <td>1 year</td>\n",
       "      <td>Rottweiler/Siberian Husky</td>\n",
       "      <td>Black/Brown</td>\n",
       "      <td>NaN</td>\n",
       "      <td>1 years</td>\n",
       "      <td>Female</td>\n",
       "    </tr>\n",
       "    <tr>\n",
       "      <th>4</th>\n",
       "      <td>A854664</td>\n",
       "      <td>A854664</td>\n",
       "      <td>2022-04-11 10:59:00</td>\n",
       "      <td>2022-04-11T10:59:00.000</td>\n",
       "      <td>2021-10-07T00:00:00.000</td>\n",
       "      <td>Transfer</td>\n",
       "      <td>Dog</td>\n",
       "      <td>Intact Male</td>\n",
       "      <td>6 months</td>\n",
       "      <td>Maltese Mix</td>\n",
       "      <td>Black Smoke</td>\n",
       "      <td>Partner</td>\n",
       "      <td>6 months</td>\n",
       "      <td>Male</td>\n",
       "    </tr>\n",
       "    <tr>\n",
       "      <th>9</th>\n",
       "      <td>A854868</td>\n",
       "      <td>NaN</td>\n",
       "      <td>2022-04-10 14:58:00</td>\n",
       "      <td>2022-04-10T14:58:00.000</td>\n",
       "      <td>2022-04-03T00:00:00.000</td>\n",
       "      <td>Transfer</td>\n",
       "      <td>Dog</td>\n",
       "      <td>Unknown</td>\n",
       "      <td>1 week</td>\n",
       "      <td>German Shepherd Mix</td>\n",
       "      <td>Black</td>\n",
       "      <td>Partner</td>\n",
       "      <td>1 week</td>\n",
       "      <td>Unknown</td>\n",
       "    </tr>\n",
       "    <tr>\n",
       "      <th>11</th>\n",
       "      <td>A854869</td>\n",
       "      <td>NaN</td>\n",
       "      <td>2022-04-10 14:58:00</td>\n",
       "      <td>2022-04-10T14:58:00.000</td>\n",
       "      <td>2022-04-03T00:00:00.000</td>\n",
       "      <td>Transfer</td>\n",
       "      <td>Dog</td>\n",
       "      <td>Unknown</td>\n",
       "      <td>1 week</td>\n",
       "      <td>German Shepherd Mix</td>\n",
       "      <td>Black</td>\n",
       "      <td>Partner</td>\n",
       "      <td>1 week</td>\n",
       "      <td>Unknown</td>\n",
       "    </tr>\n",
       "    <tr>\n",
       "      <th>...</th>\n",
       "      <td>...</td>\n",
       "      <td>...</td>\n",
       "      <td>...</td>\n",
       "      <td>...</td>\n",
       "      <td>...</td>\n",
       "      <td>...</td>\n",
       "      <td>...</td>\n",
       "      <td>...</td>\n",
       "      <td>...</td>\n",
       "      <td>...</td>\n",
       "      <td>...</td>\n",
       "      <td>...</td>\n",
       "      <td>...</td>\n",
       "      <td>...</td>\n",
       "    </tr>\n",
       "    <tr>\n",
       "      <th>988</th>\n",
       "      <td>A852408</td>\n",
       "      <td>Remi</td>\n",
       "      <td>2022-03-07 17:38:00</td>\n",
       "      <td>2022-03-07T17:38:00.000</td>\n",
       "      <td>2019-12-02T00:00:00.000</td>\n",
       "      <td>Adoption</td>\n",
       "      <td>Dog</td>\n",
       "      <td>Spayed Female</td>\n",
       "      <td>2 years</td>\n",
       "      <td>German Shepherd</td>\n",
       "      <td>Black/Brown</td>\n",
       "      <td>NaN</td>\n",
       "      <td>2 years</td>\n",
       "      <td>Female</td>\n",
       "    </tr>\n",
       "    <tr>\n",
       "      <th>990</th>\n",
       "      <td>A850323</td>\n",
       "      <td>Henry</td>\n",
       "      <td>2022-03-07 17:21:00</td>\n",
       "      <td>2022-03-07T17:21:00.000</td>\n",
       "      <td>2016-01-25T00:00:00.000</td>\n",
       "      <td>Adoption</td>\n",
       "      <td>Dog</td>\n",
       "      <td>Neutered Male</td>\n",
       "      <td>6 years</td>\n",
       "      <td>Pointer</td>\n",
       "      <td>White/Black</td>\n",
       "      <td>NaN</td>\n",
       "      <td>6 years</td>\n",
       "      <td>Male</td>\n",
       "    </tr>\n",
       "    <tr>\n",
       "      <th>995</th>\n",
       "      <td>A852490</td>\n",
       "      <td>A852490</td>\n",
       "      <td>2022-03-07 17:02:00</td>\n",
       "      <td>2022-03-07T17:02:00.000</td>\n",
       "      <td>2022-01-03T00:00:00.000</td>\n",
       "      <td>Adoption</td>\n",
       "      <td>Dog</td>\n",
       "      <td>Spayed Female</td>\n",
       "      <td>2 months</td>\n",
       "      <td>Cardigan Welsh Corgi Mix</td>\n",
       "      <td>Black/Tan</td>\n",
       "      <td>NaN</td>\n",
       "      <td>2 months</td>\n",
       "      <td>Female</td>\n",
       "    </tr>\n",
       "    <tr>\n",
       "      <th>997</th>\n",
       "      <td>A852541</td>\n",
       "      <td>Bella</td>\n",
       "      <td>2022-03-07 16:49:00</td>\n",
       "      <td>2022-03-07T16:49:00.000</td>\n",
       "      <td>2022-01-04T00:00:00.000</td>\n",
       "      <td>Return to Owner</td>\n",
       "      <td>Dog</td>\n",
       "      <td>Intact Female</td>\n",
       "      <td>2 months</td>\n",
       "      <td>Labrador Retriever Mix</td>\n",
       "      <td>Black/White</td>\n",
       "      <td>NaN</td>\n",
       "      <td>2 months</td>\n",
       "      <td>Female</td>\n",
       "    </tr>\n",
       "    <tr>\n",
       "      <th>999</th>\n",
       "      <td>A852399</td>\n",
       "      <td>*Maverick</td>\n",
       "      <td>2022-03-07 16:21:00</td>\n",
       "      <td>2022-03-07T16:21:00.000</td>\n",
       "      <td>2018-03-02T00:00:00.000</td>\n",
       "      <td>Adoption</td>\n",
       "      <td>Cat</td>\n",
       "      <td>Neutered Male</td>\n",
       "      <td>4 years</td>\n",
       "      <td>Domestic Shorthair</td>\n",
       "      <td>Black/White</td>\n",
       "      <td>NaN</td>\n",
       "      <td>4 years</td>\n",
       "      <td>Male</td>\n",
       "    </tr>\n",
       "  </tbody>\n",
       "</table>\n",
       "<p>339 rows × 14 columns</p>\n",
       "</div>"
      ],
      "text/plain": [
       "    animal_id       name            datetime                monthyear  \\\n",
       "0     A854476      *Lily 2022-04-11 12:38:00  2022-04-11T12:38:00.000   \n",
       "1     A854045      *Moon 2022-04-11 11:54:00  2022-04-11T11:54:00.000   \n",
       "4     A854664    A854664 2022-04-11 10:59:00  2022-04-11T10:59:00.000   \n",
       "9     A854868        NaN 2022-04-10 14:58:00  2022-04-10T14:58:00.000   \n",
       "11    A854869        NaN 2022-04-10 14:58:00  2022-04-10T14:58:00.000   \n",
       "..        ...        ...                 ...                      ...   \n",
       "988   A852408       Remi 2022-03-07 17:38:00  2022-03-07T17:38:00.000   \n",
       "990   A850323      Henry 2022-03-07 17:21:00  2022-03-07T17:21:00.000   \n",
       "995   A852490    A852490 2022-03-07 17:02:00  2022-03-07T17:02:00.000   \n",
       "997   A852541      Bella 2022-03-07 16:49:00  2022-03-07T16:49:00.000   \n",
       "999   A852399  *Maverick 2022-03-07 16:21:00  2022-03-07T16:21:00.000   \n",
       "\n",
       "               date_of_birth     outcome_type animal_type sex_upon_outcome  \\\n",
       "0    2021-04-04T00:00:00.000         Adoption         Dog    Spayed Female   \n",
       "1    2021-03-29T00:00:00.000         Adoption         Dog    Spayed Female   \n",
       "4    2021-10-07T00:00:00.000         Transfer         Dog      Intact Male   \n",
       "9    2022-04-03T00:00:00.000         Transfer         Dog          Unknown   \n",
       "11   2022-04-03T00:00:00.000         Transfer         Dog          Unknown   \n",
       "..                       ...              ...         ...              ...   \n",
       "988  2019-12-02T00:00:00.000         Adoption         Dog    Spayed Female   \n",
       "990  2016-01-25T00:00:00.000         Adoption         Dog    Neutered Male   \n",
       "995  2022-01-03T00:00:00.000         Adoption         Dog    Spayed Female   \n",
       "997  2022-01-04T00:00:00.000  Return to Owner         Dog    Intact Female   \n",
       "999  2018-03-02T00:00:00.000         Adoption         Cat    Neutered Male   \n",
       "\n",
       "    age_upon_outcome                      breed        color outcome_subtype  \\\n",
       "0             1 year            Doberman Pinsch  Black/Brown             NaN   \n",
       "1             1 year  Rottweiler/Siberian Husky  Black/Brown             NaN   \n",
       "4           6 months                Maltese Mix  Black Smoke         Partner   \n",
       "9             1 week        German Shepherd Mix        Black         Partner   \n",
       "11            1 week        German Shepherd Mix        Black         Partner   \n",
       "..               ...                        ...          ...             ...   \n",
       "988          2 years            German Shepherd  Black/Brown             NaN   \n",
       "990          6 years                    Pointer  White/Black             NaN   \n",
       "995         2 months   Cardigan Welsh Corgi Mix    Black/Tan             NaN   \n",
       "997         2 months     Labrador Retriever Mix  Black/White             NaN   \n",
       "999          4 years         Domestic Shorthair  Black/White             NaN   \n",
       "\n",
       "     new_age1 new_sex1  \n",
       "0     1 years   Female  \n",
       "1     1 years   Female  \n",
       "4    6 months     Male  \n",
       "9      1 week  Unknown  \n",
       "11     1 week  Unknown  \n",
       "..        ...      ...  \n",
       "988   2 years   Female  \n",
       "990   6 years     Male  \n",
       "995  2 months   Female  \n",
       "997  2 months   Female  \n",
       "999   4 years     Male  \n",
       "\n",
       "[339 rows x 14 columns]"
      ]
     },
     "execution_count": 67,
     "metadata": {},
     "output_type": "execute_result"
    }
   ],
   "source": [
    "animals[animals['color'].lower.str.contains('Black')]"
   ]
  },
  {
   "cell_type": "markdown",
   "metadata": {
    "heading_collapsed": true
   },
   "source": [
    "# Level Up: Faster NumPy Methods"
   ]
  },
  {
   "cell_type": "markdown",
   "metadata": {
    "hidden": true
   },
   "source": [
    "In general, `np.where()` and `np.select()` are faster than `map()`. This won't matter too much with reasonably-sized data but can be a consideration for ***big data***."
   ]
  },
  {
   "cell_type": "markdown",
   "metadata": {
    "heading_collapsed": true,
    "hidden": true
   },
   "source": [
    "## NumPy's `where()` Method"
   ]
  },
  {
   "cell_type": "code",
   "execution_count": 68,
   "metadata": {
    "hidden": true,
    "scrolled": true
   },
   "outputs": [
    {
     "data": {
      "text/plain": [
       "0        1 years\n",
       "1        1 years\n",
       "2       8 months\n",
       "3       14 years\n",
       "4       6 months\n",
       "         ...    \n",
       "995     2 months\n",
       "996      2 years\n",
       "997     2 months\n",
       "998    11 months\n",
       "999      4 years\n",
       "Name: new_age2, Length: 1000, dtype: object"
      ]
     },
     "execution_count": 68,
     "metadata": {},
     "output_type": "execute_result"
    }
   ],
   "source": [
    "animals['new_age2'] = np.where(animals['age_upon_outcome'] == '1 year',\n",
    "                              '1 years', animals['age_upon_outcome'])\n",
    "animals['new_age2']"
   ]
  },
  {
   "cell_type": "code",
   "execution_count": null,
   "metadata": {},
   "outputs": [],
   "source": []
  },
  {
   "cell_type": "code",
   "execution_count": 69,
   "metadata": {
    "hidden": true
   },
   "outputs": [
    {
     "data": {
      "text/plain": [
       "0"
      ]
     },
     "execution_count": 69,
     "metadata": {},
     "output_type": "execute_result"
    }
   ],
   "source": [
    "# Check we got the same results with np.where()\n",
    "(animals['new_age1'] != animals['new_age2']).sum()"
   ]
  },
  {
   "cell_type": "code",
   "execution_count": 70,
   "metadata": {
    "hidden": true
   },
   "outputs": [
    {
     "name": "stdout",
     "output_type": "stream",
     "text": [
      "557 µs ± 20.4 µs per loop (mean ± std. dev. of 7 runs, 1000 loops each)\n"
     ]
    }
   ],
   "source": [
    "# Let's time how long it takes .map() to run by running it multiple times\n",
    "%timeit animals['new_age1'] = animals['age_upon_outcome'].map(one_year)"
   ]
  },
  {
   "cell_type": "code",
   "execution_count": 71,
   "metadata": {
    "hidden": true
   },
   "outputs": [
    {
     "name": "stdout",
     "output_type": "stream",
     "text": [
      "422 µs ± 21.3 µs per loop (mean ± std. dev. of 7 runs, 1000 loops each)\n"
     ]
    }
   ],
   "source": [
    "# Let's time how long it takes np.where() to run by running it multiple times\n",
    "%timeit animals['new_age2'] = np.where(animals['age_upon_outcome'] == '1 year',\\\n",
    "                                       '1 years',animals['age_upon_outcome'])"
   ]
  },
  {
   "cell_type": "markdown",
   "metadata": {
    "heading_collapsed": true,
    "hidden": true
   },
   "source": [
    "## NumPy's `select()` Method"
   ]
  },
  {
   "cell_type": "markdown",
   "metadata": {
    "hidden": true
   },
   "source": [
    "Again, `numpy` will be faster:"
   ]
  },
  {
   "cell_type": "code",
   "execution_count": 73,
   "metadata": {
    "hidden": true
   },
   "outputs": [],
   "source": [
    "conditions = [animals['sex_upon_outcome'] == 'Neutered Male',\n",
    "             animals['sex_upon_outcome'] == 'Intact Male',\n",
    "             animals['sex_upon_outcome'] == 'Spayed Female',\n",
    "             animals['sex_upon_outcome'] == 'Intact Female',\n",
    "             animals['sex_upon_outcome'] == 'Unknown',\n",
    "             animals['sex_upon_outcome'] == 'NULL']\n",
    "\n",
    "choices = ['Male', 'Male', 'Female', 'Female', 'Unknown', 'Unknown']"
   ]
  },
  {
   "cell_type": "code",
   "execution_count": 74,
   "metadata": {
    "hidden": true
   },
   "outputs": [
    {
     "data": {
      "text/plain": [
       "0      Female\n",
       "1      Female\n",
       "2      Female\n",
       "3      Female\n",
       "4        Male\n",
       "        ...  \n",
       "995    Female\n",
       "996      Male\n",
       "997    Female\n",
       "998      Male\n",
       "999      Male\n",
       "Name: new_sex2, Length: 1000, dtype: object"
      ]
     },
     "execution_count": 74,
     "metadata": {},
     "output_type": "execute_result"
    }
   ],
   "source": [
    "animals['new_sex2'] = np.select(conditions, choices)\n",
    "animals['new_sex2']"
   ]
  },
  {
   "cell_type": "code",
   "execution_count": 75,
   "metadata": {
    "hidden": true
   },
   "outputs": [
    {
     "data": {
      "text/plain": [
       "0"
      ]
     },
     "execution_count": 75,
     "metadata": {},
     "output_type": "execute_result"
    }
   ],
   "source": [
    "# Check we got the same results with np.where()\n",
    "(animals['new_sex1'] != animals['new_sex2']).sum()"
   ]
  },
  {
   "cell_type": "code",
   "execution_count": 76,
   "metadata": {
    "hidden": true
   },
   "outputs": [
    {
     "name": "stdout",
     "output_type": "stream",
     "text": [
      "691 µs ± 79.2 µs per loop (mean ± std. dev. of 7 runs, 1000 loops each)\n"
     ]
    }
   ],
   "source": [
    "# Let's time how long it takes .map() to run by running it multiple times\n",
    "%timeit animals['new_sex1'] = animals['sex_upon_outcome'].map(sex_mapper)"
   ]
  },
  {
   "cell_type": "code",
   "execution_count": 77,
   "metadata": {
    "hidden": true
   },
   "outputs": [
    {
     "name": "stdout",
     "output_type": "stream",
     "text": [
      "502 µs ± 27.1 µs per loop (mean ± std. dev. of 7 runs, 1000 loops each)\n"
     ]
    }
   ],
   "source": [
    "# Let's time how long it takes np.select() to run by running it multiple times\n",
    "%timeit animals['new_sex2'] = np.select(conditions, choices)"
   ]
  },
  {
   "cell_type": "code",
   "execution_count": null,
   "metadata": {},
   "outputs": [],
   "source": []
  }
 ],
 "metadata": {
  "kernelspec": {
   "display_name": "Python 3",
   "language": "python",
   "name": "python3"
  },
  "language_info": {
   "codemirror_mode": {
    "name": "ipython",
    "version": 3
   },
   "file_extension": ".py",
   "mimetype": "text/x-python",
   "name": "python",
   "nbconvert_exporter": "python",
   "pygments_lexer": "ipython3",
   "version": "3.8.8"
  },
  "toc": {
   "base_numbering": 1,
   "nav_menu": {},
   "number_sections": true,
   "sideBar": true,
   "skip_h1_title": false,
   "title_cell": "Table of Contents",
   "title_sidebar": "TOC",
   "toc_cell": true,
   "toc_position": {
    "height": "calc(100% - 180px)",
    "left": "10px",
    "top": "150px",
    "width": "267px"
   },
   "toc_section_display": true,
   "toc_window_display": true
  }
 },
 "nbformat": 4,
 "nbformat_minor": 4
}
