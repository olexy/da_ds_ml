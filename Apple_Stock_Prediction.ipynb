{
  "nbformat": 4,
  "nbformat_minor": 0,
  "metadata": {
    "colab": {
      "name": "Apple Stock Prediction.ipynb",
      "provenance": [],
      "collapsed_sections": [],
      "authorship_tag": "ABX9TyPTMvdWKKxqoGKoIa7/iFpp"
    },
    "kernelspec": {
      "name": "python3",
      "display_name": "Python 3"
    },
    "language_info": {
      "name": "python"
    }
  },
  "cells": [
    {
      "cell_type": "code",
      "source": [
        "pip install yfinance"
      ],
      "metadata": {
        "colab": {
          "base_uri": "https://localhost:8080/"
        },
        "id": "8bbJMgn8y0Ix",
        "outputId": "6b38c178-9dae-4903-8a8c-1c087070d490"
      },
      "execution_count": 26,
      "outputs": [
        {
          "output_type": "stream",
          "name": "stdout",
          "text": [
            "Looking in indexes: https://pypi.org/simple, https://us-python.pkg.dev/colab-wheels/public/simple/\n",
            "Requirement already satisfied: yfinance in /usr/local/lib/python3.7/dist-packages (0.1.72)\n",
            "Requirement already satisfied: lxml>=4.5.1 in /usr/local/lib/python3.7/dist-packages (from yfinance) (4.9.1)\n",
            "Requirement already satisfied: numpy>=1.15 in /usr/local/lib/python3.7/dist-packages (from yfinance) (1.21.6)\n",
            "Requirement already satisfied: multitasking>=0.0.7 in /usr/local/lib/python3.7/dist-packages (from yfinance) (0.0.10)\n",
            "Requirement already satisfied: pandas>=0.24.0 in /usr/local/lib/python3.7/dist-packages (from yfinance) (1.3.5)\n",
            "Requirement already satisfied: requests>=2.26 in /usr/local/lib/python3.7/dist-packages (from yfinance) (2.28.1)\n",
            "Requirement already satisfied: python-dateutil>=2.7.3 in /usr/local/lib/python3.7/dist-packages (from pandas>=0.24.0->yfinance) (2.8.2)\n",
            "Requirement already satisfied: pytz>=2017.3 in /usr/local/lib/python3.7/dist-packages (from pandas>=0.24.0->yfinance) (2022.1)\n",
            "Requirement already satisfied: six>=1.5 in /usr/local/lib/python3.7/dist-packages (from python-dateutil>=2.7.3->pandas>=0.24.0->yfinance) (1.15.0)\n",
            "Requirement already satisfied: certifi>=2017.4.17 in /usr/local/lib/python3.7/dist-packages (from requests>=2.26->yfinance) (2022.6.15)\n",
            "Requirement already satisfied: urllib3<1.27,>=1.21.1 in /usr/local/lib/python3.7/dist-packages (from requests>=2.26->yfinance) (1.24.3)\n",
            "Requirement already satisfied: charset-normalizer<3,>=2 in /usr/local/lib/python3.7/dist-packages (from requests>=2.26->yfinance) (2.1.0)\n",
            "Requirement already satisfied: idna<4,>=2.5 in /usr/local/lib/python3.7/dist-packages (from requests>=2.26->yfinance) (2.10)\n"
          ]
        }
      ]
    },
    {
      "cell_type": "code",
      "execution_count": 27,
      "metadata": {
        "id": "t1WEHLMGlt0u"
      },
      "outputs": [],
      "source": [
        "import math\n",
        "import yfinance as yf\n",
        "import requests as rq\n",
        "import numpy as np\n",
        "import pandas as pd\n",
        "from sklearn.preprocessing import MinMaxScaler\n",
        "from keras.models import Sequential\n",
        "from keras.layers import Dense, LSTM\n",
        "import matplotlib.pyplot as plt\n",
        "plt.style.use('fivethirtyeight')"
      ]
    },
    {
      "cell_type": "code",
      "source": [
        "aapl = yf.Ticker(\"AAPL\")\n",
        "\n",
        "# get stock info\n",
        "aapl.info\n",
        "\n",
        "# get historical market data\n",
        "hist = aapl.history(period=\"48mo\")\n",
        "hist"
      ],
      "metadata": {
        "colab": {
          "base_uri": "https://localhost:8080/",
          "height": 455
        },
        "id": "j_Ex7eP6zYrq",
        "outputId": "4e515883-799a-46e3-b7f0-6680fb9ed56f"
      },
      "execution_count": 28,
      "outputs": [
        {
          "output_type": "execute_result",
          "data": {
            "text/plain": [
              "                  Open        High         Low       Close    Volume  \\\n",
              "Date                                                                   \n",
              "2018-07-09   45.545465   45.829071   45.497397   45.805038  79026400   \n",
              "2018-07-10   45.836288   45.973283   45.708902   45.749763  63756400   \n",
              "2018-07-11   45.305122   45.612764   45.091215   45.156109  75326000   \n",
              "2018-07-12   45.552675   46.004525   45.499798   45.913193  72164400   \n",
              "2018-07-13   45.925208   46.107869   45.881944   45.985294  50055600   \n",
              "...                ...         ...         ...         ...       ...   \n",
              "2022-07-01  136.039993  139.039993  135.660004  138.929993  71007500   \n",
              "2022-07-05  137.770004  141.610001  136.929993  141.559998  73353800   \n",
              "2022-07-06  141.350006  144.119995  141.080002  142.919998  74064300   \n",
              "2022-07-07  143.289993  146.550003  143.279999  146.350006  66253700   \n",
              "2022-07-08  145.259995  147.550003  145.000000  147.039993  64493200   \n",
              "\n",
              "            Dividends  Stock Splits  \n",
              "Date                                 \n",
              "2018-07-09        0.0           0.0  \n",
              "2018-07-10        0.0           0.0  \n",
              "2018-07-11        0.0           0.0  \n",
              "2018-07-12        0.0           0.0  \n",
              "2018-07-13        0.0           0.0  \n",
              "...               ...           ...  \n",
              "2022-07-01        0.0           0.0  \n",
              "2022-07-05        0.0           0.0  \n",
              "2022-07-06        0.0           0.0  \n",
              "2022-07-07        0.0           0.0  \n",
              "2022-07-08        0.0           0.0  \n",
              "\n",
              "[1008 rows x 7 columns]"
            ],
            "text/html": [
              "\n",
              "  <div id=\"df-75396c3c-52c5-44da-87e2-e62963555cdd\">\n",
              "    <div class=\"colab-df-container\">\n",
              "      <div>\n",
              "<style scoped>\n",
              "    .dataframe tbody tr th:only-of-type {\n",
              "        vertical-align: middle;\n",
              "    }\n",
              "\n",
              "    .dataframe tbody tr th {\n",
              "        vertical-align: top;\n",
              "    }\n",
              "\n",
              "    .dataframe thead th {\n",
              "        text-align: right;\n",
              "    }\n",
              "</style>\n",
              "<table border=\"1\" class=\"dataframe\">\n",
              "  <thead>\n",
              "    <tr style=\"text-align: right;\">\n",
              "      <th></th>\n",
              "      <th>Open</th>\n",
              "      <th>High</th>\n",
              "      <th>Low</th>\n",
              "      <th>Close</th>\n",
              "      <th>Volume</th>\n",
              "      <th>Dividends</th>\n",
              "      <th>Stock Splits</th>\n",
              "    </tr>\n",
              "    <tr>\n",
              "      <th>Date</th>\n",
              "      <th></th>\n",
              "      <th></th>\n",
              "      <th></th>\n",
              "      <th></th>\n",
              "      <th></th>\n",
              "      <th></th>\n",
              "      <th></th>\n",
              "    </tr>\n",
              "  </thead>\n",
              "  <tbody>\n",
              "    <tr>\n",
              "      <th>2018-07-09</th>\n",
              "      <td>45.545465</td>\n",
              "      <td>45.829071</td>\n",
              "      <td>45.497397</td>\n",
              "      <td>45.805038</td>\n",
              "      <td>79026400</td>\n",
              "      <td>0.0</td>\n",
              "      <td>0.0</td>\n",
              "    </tr>\n",
              "    <tr>\n",
              "      <th>2018-07-10</th>\n",
              "      <td>45.836288</td>\n",
              "      <td>45.973283</td>\n",
              "      <td>45.708902</td>\n",
              "      <td>45.749763</td>\n",
              "      <td>63756400</td>\n",
              "      <td>0.0</td>\n",
              "      <td>0.0</td>\n",
              "    </tr>\n",
              "    <tr>\n",
              "      <th>2018-07-11</th>\n",
              "      <td>45.305122</td>\n",
              "      <td>45.612764</td>\n",
              "      <td>45.091215</td>\n",
              "      <td>45.156109</td>\n",
              "      <td>75326000</td>\n",
              "      <td>0.0</td>\n",
              "      <td>0.0</td>\n",
              "    </tr>\n",
              "    <tr>\n",
              "      <th>2018-07-12</th>\n",
              "      <td>45.552675</td>\n",
              "      <td>46.004525</td>\n",
              "      <td>45.499798</td>\n",
              "      <td>45.913193</td>\n",
              "      <td>72164400</td>\n",
              "      <td>0.0</td>\n",
              "      <td>0.0</td>\n",
              "    </tr>\n",
              "    <tr>\n",
              "      <th>2018-07-13</th>\n",
              "      <td>45.925208</td>\n",
              "      <td>46.107869</td>\n",
              "      <td>45.881944</td>\n",
              "      <td>45.985294</td>\n",
              "      <td>50055600</td>\n",
              "      <td>0.0</td>\n",
              "      <td>0.0</td>\n",
              "    </tr>\n",
              "    <tr>\n",
              "      <th>...</th>\n",
              "      <td>...</td>\n",
              "      <td>...</td>\n",
              "      <td>...</td>\n",
              "      <td>...</td>\n",
              "      <td>...</td>\n",
              "      <td>...</td>\n",
              "      <td>...</td>\n",
              "    </tr>\n",
              "    <tr>\n",
              "      <th>2022-07-01</th>\n",
              "      <td>136.039993</td>\n",
              "      <td>139.039993</td>\n",
              "      <td>135.660004</td>\n",
              "      <td>138.929993</td>\n",
              "      <td>71007500</td>\n",
              "      <td>0.0</td>\n",
              "      <td>0.0</td>\n",
              "    </tr>\n",
              "    <tr>\n",
              "      <th>2022-07-05</th>\n",
              "      <td>137.770004</td>\n",
              "      <td>141.610001</td>\n",
              "      <td>136.929993</td>\n",
              "      <td>141.559998</td>\n",
              "      <td>73353800</td>\n",
              "      <td>0.0</td>\n",
              "      <td>0.0</td>\n",
              "    </tr>\n",
              "    <tr>\n",
              "      <th>2022-07-06</th>\n",
              "      <td>141.350006</td>\n",
              "      <td>144.119995</td>\n",
              "      <td>141.080002</td>\n",
              "      <td>142.919998</td>\n",
              "      <td>74064300</td>\n",
              "      <td>0.0</td>\n",
              "      <td>0.0</td>\n",
              "    </tr>\n",
              "    <tr>\n",
              "      <th>2022-07-07</th>\n",
              "      <td>143.289993</td>\n",
              "      <td>146.550003</td>\n",
              "      <td>143.279999</td>\n",
              "      <td>146.350006</td>\n",
              "      <td>66253700</td>\n",
              "      <td>0.0</td>\n",
              "      <td>0.0</td>\n",
              "    </tr>\n",
              "    <tr>\n",
              "      <th>2022-07-08</th>\n",
              "      <td>145.259995</td>\n",
              "      <td>147.550003</td>\n",
              "      <td>145.000000</td>\n",
              "      <td>147.039993</td>\n",
              "      <td>64493200</td>\n",
              "      <td>0.0</td>\n",
              "      <td>0.0</td>\n",
              "    </tr>\n",
              "  </tbody>\n",
              "</table>\n",
              "<p>1008 rows × 7 columns</p>\n",
              "</div>\n",
              "      <button class=\"colab-df-convert\" onclick=\"convertToInteractive('df-75396c3c-52c5-44da-87e2-e62963555cdd')\"\n",
              "              title=\"Convert this dataframe to an interactive table.\"\n",
              "              style=\"display:none;\">\n",
              "        \n",
              "  <svg xmlns=\"http://www.w3.org/2000/svg\" height=\"24px\"viewBox=\"0 0 24 24\"\n",
              "       width=\"24px\">\n",
              "    <path d=\"M0 0h24v24H0V0z\" fill=\"none\"/>\n",
              "    <path d=\"M18.56 5.44l.94 2.06.94-2.06 2.06-.94-2.06-.94-.94-2.06-.94 2.06-2.06.94zm-11 1L8.5 8.5l.94-2.06 2.06-.94-2.06-.94L8.5 2.5l-.94 2.06-2.06.94zm10 10l.94 2.06.94-2.06 2.06-.94-2.06-.94-.94-2.06-.94 2.06-2.06.94z\"/><path d=\"M17.41 7.96l-1.37-1.37c-.4-.4-.92-.59-1.43-.59-.52 0-1.04.2-1.43.59L10.3 9.45l-7.72 7.72c-.78.78-.78 2.05 0 2.83L4 21.41c.39.39.9.59 1.41.59.51 0 1.02-.2 1.41-.59l7.78-7.78 2.81-2.81c.8-.78.8-2.07 0-2.86zM5.41 20L4 18.59l7.72-7.72 1.47 1.35L5.41 20z\"/>\n",
              "  </svg>\n",
              "      </button>\n",
              "      \n",
              "  <style>\n",
              "    .colab-df-container {\n",
              "      display:flex;\n",
              "      flex-wrap:wrap;\n",
              "      gap: 12px;\n",
              "    }\n",
              "\n",
              "    .colab-df-convert {\n",
              "      background-color: #E8F0FE;\n",
              "      border: none;\n",
              "      border-radius: 50%;\n",
              "      cursor: pointer;\n",
              "      display: none;\n",
              "      fill: #1967D2;\n",
              "      height: 32px;\n",
              "      padding: 0 0 0 0;\n",
              "      width: 32px;\n",
              "    }\n",
              "\n",
              "    .colab-df-convert:hover {\n",
              "      background-color: #E2EBFA;\n",
              "      box-shadow: 0px 1px 2px rgba(60, 64, 67, 0.3), 0px 1px 3px 1px rgba(60, 64, 67, 0.15);\n",
              "      fill: #174EA6;\n",
              "    }\n",
              "\n",
              "    [theme=dark] .colab-df-convert {\n",
              "      background-color: #3B4455;\n",
              "      fill: #D2E3FC;\n",
              "    }\n",
              "\n",
              "    [theme=dark] .colab-df-convert:hover {\n",
              "      background-color: #434B5C;\n",
              "      box-shadow: 0px 1px 3px 1px rgba(0, 0, 0, 0.15);\n",
              "      filter: drop-shadow(0px 1px 2px rgba(0, 0, 0, 0.3));\n",
              "      fill: #FFFFFF;\n",
              "    }\n",
              "  </style>\n",
              "\n",
              "      <script>\n",
              "        const buttonEl =\n",
              "          document.querySelector('#df-75396c3c-52c5-44da-87e2-e62963555cdd button.colab-df-convert');\n",
              "        buttonEl.style.display =\n",
              "          google.colab.kernel.accessAllowed ? 'block' : 'none';\n",
              "\n",
              "        async function convertToInteractive(key) {\n",
              "          const element = document.querySelector('#df-75396c3c-52c5-44da-87e2-e62963555cdd');\n",
              "          const dataTable =\n",
              "            await google.colab.kernel.invokeFunction('convertToInteractive',\n",
              "                                                     [key], {});\n",
              "          if (!dataTable) return;\n",
              "\n",
              "          const docLinkHtml = 'Like what you see? Visit the ' +\n",
              "            '<a target=\"_blank\" href=https://colab.research.google.com/notebooks/data_table.ipynb>data table notebook</a>'\n",
              "            + ' to learn more about interactive tables.';\n",
              "          element.innerHTML = '';\n",
              "          dataTable['output_type'] = 'display_data';\n",
              "          await google.colab.output.renderOutput(dataTable, element);\n",
              "          const docLink = document.createElement('div');\n",
              "          docLink.innerHTML = docLinkHtml;\n",
              "          element.appendChild(docLink);\n",
              "        }\n",
              "      </script>\n",
              "    </div>\n",
              "  </div>\n",
              "  "
            ]
          },
          "metadata": {},
          "execution_count": 28
        }
      ]
    },
    {
      "cell_type": "code",
      "source": [
        "#Get the shape of the rows and columns in the dataset\n",
        "hist.shape"
      ],
      "metadata": {
        "colab": {
          "base_uri": "https://localhost:8080/"
        },
        "id": "GkMZoQcyuQdC",
        "outputId": "4d13fc57-4ae8-40fc-f3ca-04304185feee"
      },
      "execution_count": 29,
      "outputs": [
        {
          "output_type": "execute_result",
          "data": {
            "text/plain": [
              "(1008, 7)"
            ]
          },
          "metadata": {},
          "execution_count": 29
        }
      ]
    },
    {
      "cell_type": "code",
      "source": [
        "hist.dtypes"
      ],
      "metadata": {
        "colab": {
          "base_uri": "https://localhost:8080/"
        },
        "id": "EQDKp47Q9lO6",
        "outputId": "3f9b64f1-5411-44b1-be32-a09102931c1e"
      },
      "execution_count": 30,
      "outputs": [
        {
          "output_type": "execute_result",
          "data": {
            "text/plain": [
              "Open            float64\n",
              "High            float64\n",
              "Low             float64\n",
              "Close           float64\n",
              "Volume            int64\n",
              "Dividends       float64\n",
              "Stock Splits    float64\n",
              "dtype: object"
            ]
          },
          "metadata": {},
          "execution_count": 30
        }
      ]
    },
    {
      "cell_type": "code",
      "source": [
        "#Visulaize\n",
        "plt.figure(figsize=(16,8))\n",
        "plt.title('Apple 48 Months Closing Price History')\n",
        "plt.plot(hist['Close'])\n",
        "plt.xlabel('Date', fontsize=18)\n",
        "plt.ylabel('Close Price USD ($)', fontsize=18)\n",
        "plt.show()"
      ],
      "metadata": {
        "colab": {
          "base_uri": "https://localhost:8080/",
          "height": 558
        },
        "id": "xoybmxlPFo5Y",
        "outputId": "58bdf35c-cfeb-4b64-a7c0-f866a5defe23"
      },
      "execution_count": 31,
      "outputs": [
        {
          "output_type": "display_data",
          "data": {
            "text/plain": [
              "<Figure size 1152x576 with 1 Axes>"
            ],
            "image/png": "[encoded data removed]"
          },
          "metadata": {}
        }
      ]
    },
    {
      "cell_type": "code",
      "source": [
        "#Create a new dataframe with only the 'Close' column\n",
        "data =  hist.filter(['Close'])\n",
        "#Convert the dataframe to a numpy array\n",
        "dataset = data.values\n",
        "#Get the number of rows to train the model on\n",
        "training_dataset_len = math.ceil(len(dataset) * .8)\n",
        "\n",
        "training_dataset_len"
      ],
      "metadata": {
        "colab": {
          "base_uri": "https://localhost:8080/"
        },
        "id": "QCW58M5KIoHW",
        "outputId": "afb005ed-3194-437f-e639-b65611532b52"
      },
      "execution_count": 32,
      "outputs": [
        {
          "output_type": "execute_result",
          "data": {
            "text/plain": [
              "807"
            ]
          },
          "metadata": {},
          "execution_count": 32
        }
      ]
    },
    {
      "cell_type": "code",
      "source": [
        "#Scale the data (Good practice prior to passing to neuro network)\n",
        "scaler = MinMaxScaler(feature_range=(0,1))\n",
        "scaled_data = scaler.fit_transform(dataset)\n",
        "\n",
        "scaled_data"
      ],
      "metadata": {
        "colab": {
          "base_uri": "https://localhost:8080/"
        },
        "id": "GckLsZZlKtWR",
        "outputId": "7d2aa1a3-3791-494c-d40d-734d64fb1d14"
      },
      "execution_count": 33,
      "outputs": [
        {
          "output_type": "execute_result",
          "data": {
            "text/plain": [
              "array([[0.07743712],\n",
              "       [0.07706135],\n",
              "       [0.07302556],\n",
              "       ...,\n",
              "       [0.73764535],\n",
              "       [0.76096327],\n",
              "       [0.76565395]])"
            ]
          },
          "metadata": {},
          "execution_count": 33
        }
      ]
    },
    {
      "cell_type": "code",
      "source": [
        "scaled_data.shape"
      ],
      "metadata": {
        "colab": {
          "base_uri": "https://localhost:8080/"
        },
        "id": "qhvQ2bdmFXnU",
        "outputId": "b8643ba7-1814-42eb-d6d3-b4f60004210e"
      },
      "execution_count": 34,
      "outputs": [
        {
          "output_type": "execute_result",
          "data": {
            "text/plain": [
              "(1008, 1)"
            ]
          },
          "metadata": {},
          "execution_count": 34
        }
      ]
    },
    {
      "cell_type": "code",
      "source": [
        "#Create the training data set\n",
        "#Create the scaled training data set\n",
        "# Creating a data structure with 60 timesteps and 1 output\n",
        "train_data = scaled_data[0:training_dataset_len, :]\n",
        "#Split the data\n",
        "x_train = []\n",
        "y_train = []\n",
        "\n",
        "for i in range(60, len(train_data)):\n",
        "  x_train.append(train_data[i-60:i, 0])\n",
        "  y_train.append(train_data[i, 0])\n",
        "  if i<= 60:\n",
        "    print(x_train)\n",
        "    print(y_train)\n",
        "    print()"
      ],
      "metadata": {
        "id": "KUYFQHlwKsDd",
        "colab": {
          "base_uri": "https://localhost:8080/"
        },
        "outputId": "899736ca-688d-41e2-c340-0ac448ca9e08"
      },
      "execution_count": 35,
      "outputs": [
        {
          "output_type": "stream",
          "name": "stdout",
          "text": [
            "[array([0.07743712, 0.07706135, 0.07302556, 0.07817238, 0.07866254,\n",
            "       0.07797632, 0.07885859, 0.07714299, 0.0795612 , 0.07884231,\n",
            "       0.07912005, 0.08139122, 0.08436497, 0.08336826, 0.07809069,\n",
            "       0.07634238, 0.07696327, 0.09527953, 0.10490331, 0.10588366,\n",
            "       0.1076483 , 0.10444582, 0.10467458, 0.10733786, 0.10632125,\n",
            "       0.10851844, 0.10996131, 0.11076471, 0.11581483, 0.12279978,\n",
            "       0.11932373, 0.11863505, 0.11865147, 0.11937288, 0.12047153,\n",
            "       0.12339005, 0.12627586, 0.1316539 , 0.1350152 , 0.13927826,\n",
            "       0.14047518, 0.13803218, 0.13185063, 0.12889928, 0.12402948,\n",
            "       0.13308043, 0.12852219, 0.13727786, 0.13306399, 0.12329166,\n",
            "       0.12388195, 0.12409507, 0.1268169 , 0.12293093, 0.12806307,\n",
            "       0.13035851, 0.12745636, 0.13488397, 0.13617936, 0.13867158])]\n",
            "[0.14198365958891998]\n",
            "\n"
          ]
        }
      ]
    },
    {
      "cell_type": "code",
      "source": [
        "#Convert the x_train and y_train to numpy arrays\n",
        "x_train, y_train = np.array(x_train), np.array(y_train)"
      ],
      "metadata": {
        "id": "VY-Ol7-5uRpt"
      },
      "execution_count": 36,
      "outputs": []
    },
    {
      "cell_type": "code",
      "source": [
        "#Reshape the data\n",
        "#No of Samples, No of time steps (columns) and the no. of features (closing price)\n",
        "x_train = np.reshape(x_train, (x_train.shape[0], x_train.shape[1], 1))\n",
        "x_train.shape"
      ],
      "metadata": {
        "colab": {
          "base_uri": "https://localhost:8080/"
        },
        "id": "hhXeUJMYu7IE",
        "outputId": "b3f13c3f-2728-41ed-ecc0-6139a9152a5d"
      },
      "execution_count": 37,
      "outputs": [
        {
          "output_type": "execute_result",
          "data": {
            "text/plain": [
              "(747, 60, 1)"
            ]
          },
          "metadata": {},
          "execution_count": 37
        }
      ]
    },
    {
      "cell_type": "code",
      "source": [
        "#Build the LSTM model\n",
        "model = Sequential()\n",
        "model.add(LSTM(50, return_sequences=True, input_shape=(x_train.shape[1], 1))) #50 neurons\n",
        "model.add(LSTM(50, return_sequences=False ))\n",
        "model.add(Dense(25))\n",
        "model.add(Dense(1))"
      ],
      "metadata": {
        "id": "9Dqbs6llwaJW"
      },
      "execution_count": 38,
      "outputs": []
    },
    {
      "cell_type": "code",
      "source": [
        "#Compile the model\n",
        "model.compile(optimizer='adam', loss='mean_squared_error') #optimzer is used to improve upon loss fucntion"
      ],
      "metadata": {
        "id": "dYy2UC20hbdJ"
      },
      "execution_count": 39,
      "outputs": []
    },
    {
      "cell_type": "code",
      "source": [
        "#Train the model\n",
        "model.fit(x_train, y_train, batch_size=1, epochs=1)"
      ],
      "metadata": {
        "colab": {
          "base_uri": "https://localhost:8080/"
        },
        "id": "1T-fAszzkC7I",
        "outputId": "74df208c-53b2-4ec6-9c2f-3a22b6ab1142"
      },
      "execution_count": 40,
      "outputs": [
        {
          "output_type": "stream",
          "name": "stdout",
          "text": [
            "747/747 [==============================] - 41s 46ms/step - loss: 0.0023\n"
          ]
        },
        {
          "output_type": "execute_result",
          "data": {
            "text/plain": [
              "<keras.callbacks.History at 0x7eff06db3610>"
            ]
          },
          "metadata": {},
          "execution_count": 40
        }
      ]
    },
    {
      "cell_type": "code",
      "source": [
        "#Creating the testing dataset\n",
        "#Create a new array containing scaled values from 1552 to 2005\n",
        "test_data = scaled_data[training_dataset_len - 60: , :] #scaled data minus 60 to the end of the dataset and all columns\n",
        "#Create the data sets x_test and y_test\n",
        "x_test = []\n",
        "y_test = dataset[training_dataset_len:, :] #the values for the models to predict, the 61st values that is unscaled\n",
        "for i in range(60, len(test_data)):\n",
        "  x_test.append(test_data[i-60:i, 0]) #x_test contains the past 60 values"
      ],
      "metadata": {
        "id": "yfXKmPzMkC3-"
      },
      "execution_count": 41,
      "outputs": []
    },
    {
      "cell_type": "code",
      "source": [
        "#Convert  the test data to a numpy array for use in the LSTM model\n",
        "x_test = np.array(x_test)"
      ],
      "metadata": {
        "id": "le9IYIJckCoZ"
      },
      "execution_count": 42,
      "outputs": []
    },
    {
      "cell_type": "code",
      "source": [
        "x_test.shape"
      ],
      "metadata": {
        "colab": {
          "base_uri": "https://localhost:8080/"
        },
        "id": "XEolHk1RElN1",
        "outputId": "f3cb9dfc-6e63-4316-85ea-42e0af06f0c1"
      },
      "execution_count": 43,
      "outputs": [
        {
          "output_type": "execute_result",
          "data": {
            "text/plain": [
              "(201, 60)"
            ]
          },
          "metadata": {},
          "execution_count": 43
        }
      ]
    },
    {
      "cell_type": "code",
      "source": [
        "#Reshape the test data\n",
        "x_test = np.reshape(x_test, (x_test.shape[0], x_test.shape[1], 1)) #no of rows (samples), no of time steps (columns), no of features (close price)"
      ],
      "metadata": {
        "id": "I01FoMUVDSNc"
      },
      "execution_count": 44,
      "outputs": []
    },
    {
      "cell_type": "code",
      "source": [
        "x_test.shape"
      ],
      "metadata": {
        "colab": {
          "base_uri": "https://localhost:8080/"
        },
        "id": "j-Jhrvg76t-s",
        "outputId": "e364fc1c-4ab4-4bb8-b983-a1341e7b9391"
      },
      "execution_count": 45,
      "outputs": [
        {
          "output_type": "execute_result",
          "data": {
            "text/plain": [
              "(201, 60, 1)"
            ]
          },
          "metadata": {},
          "execution_count": 45
        }
      ]
    },
    {
      "cell_type": "code",
      "source": [
        "#Get the models predicted price (y-test)\n",
        "predictions = model.predict(x_test)\n",
        "predictions = scaler.inverse_transform(predictions) #get predicted y-test base of off x_test"
      ],
      "metadata": {
        "id": "rD08jILt5LGD"
      },
      "execution_count": 46,
      "outputs": []
    },
    {
      "cell_type": "code",
      "source": [
        "#Get the root mean squared error (RMSE)\n",
        "#Its just one of several ways to test model\n",
        "# The smaller it is, the better, 0 means exactly \n",
        "rmse = np.sqrt(np.mean( predictions - y_test )**2 )\n",
        "rmse"
      ],
      "metadata": {
        "colab": {
          "base_uri": "https://localhost:8080/"
        },
        "id": "8ClT2OKf5KvE",
        "outputId": "cdc95a7a-788a-4ec4-bd32-31a7639c3a1d"
      },
      "execution_count": 47,
      "outputs": [
        {
          "output_type": "execute_result",
          "data": {
            "text/plain": [
              "0.7410855269550685"
            ]
          },
          "metadata": {},
          "execution_count": 47
        }
      ]
    }
  ]
}